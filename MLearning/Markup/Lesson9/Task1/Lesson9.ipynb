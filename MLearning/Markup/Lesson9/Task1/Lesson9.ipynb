{
 "cells": [
  {
   "cell_type": "code",
   "execution_count": 4,
   "id": "147d1d01",
   "metadata": {},
   "outputs": [
    {
     "name": "stdout",
     "output_type": "stream",
     "text": [
      "Collecting pandasNote: you may need to restart the kernel to use updated packages.\n",
      "  Using cached pandas-1.1.5-cp36-cp36m-win32.whl (7.8 MB)\n",
      "\n",
      "Collecting numpy>=1.15.4\n",
      "  Using cached numpy-1.19.5-cp36-cp36m-win32.whl (11.0 MB)\n",
      "Requirement already satisfied: python-dateutil>=2.7.3 in w:\\python\\mlearning\\markup\\lesson9\\task1\\env32\\lib\\site-packages (from pandas) (2.9.0.post0)\n",
      "Collecting pytz>=2017.2\n",
      "  Using cached pytz-2024.1-py2.py3-none-any.whl (505 kB)\n",
      "Requirement already satisfied: six>=1.5 in w:\\python\\mlearning\\markup\\lesson9\\task1\\env32\\lib\\site-packages (from python-dateutil>=2.7.3->pandas) (1.16.0)\n",
      "Installing collected packages: pytz, numpy, pandas\n",
      "Successfully installed numpy-1.19.5 pandas-1.1.5 pytz-2024.1\n"
     ]
    }
   ],
   "source": [
    "pip install pandas"
   ]
  },
  {
   "cell_type": "code",
   "execution_count": 19,
   "id": "f4d9f329",
   "metadata": {},
   "outputs": [
    {
     "name": "stdout",
     "output_type": "stream",
     "text": [
      "Requirement already satisfied: scikit-learn in w:\\python\\mlearning\\markup\\lesson9\\task1\\env32\\lib\\site-packages (0.24.2)Note: you may need to restart the kernel to use updated packages.\n",
      "\n",
      "Requirement already satisfied: threadpoolctl>=2.0.0 in w:\\python\\mlearning\\markup\\lesson9\\task1\\env32\\lib\\site-packages (from scikit-learn) (3.1.0)\n",
      "Requirement already satisfied: numpy>=1.13.3 in w:\\python\\mlearning\\markup\\lesson9\\task1\\env32\\lib\\site-packages (from scikit-learn) (1.19.5)\n",
      "Requirement already satisfied: scipy>=0.19.1 in w:\\python\\mlearning\\markup\\lesson9\\task1\\env32\\lib\\site-packages (from scikit-learn) (1.5.4)\n",
      "Requirement already satisfied: joblib>=0.11 in w:\\python\\mlearning\\markup\\lesson9\\task1\\env32\\lib\\site-packages (from scikit-learn) (1.1.1)\n"
     ]
    }
   ],
   "source": [
    "pip install scikit-learn"
   ]
  },
  {
   "cell_type": "code",
   "execution_count": 30,
   "id": "ffb0987c",
   "metadata": {},
   "outputs": [
    {
     "name": "stdout",
     "output_type": "stream",
     "text": [
      "Collecting nltkNote: you may need to restart the kernel to use updated packages.\n",
      "\n",
      "  Using cached nltk-3.6.7-py3-none-any.whl (1.5 MB)\n",
      "Requirement already satisfied: joblib in w:\\python\\mlearning\\markup\\lesson9\\task1\\env32\\lib\\site-packages (from nltk) (1.1.1)\n",
      "Collecting regex>=2021.8.3\n",
      "  Using cached regex-2023.8.8-cp36-cp36m-win32.whl (263 kB)\n",
      "Collecting tqdm\n",
      "  Using cached tqdm-4.64.1-py2.py3-none-any.whl (78 kB)\n",
      "Collecting click\n",
      "  Using cached click-8.0.4-py3-none-any.whl (97 kB)\n",
      "Requirement already satisfied: importlib-metadata in w:\\python\\mlearning\\markup\\lesson9\\task1\\env32\\lib\\site-packages (from click->nltk) (4.8.3)\n",
      "Requirement already satisfied: colorama in w:\\python\\mlearning\\markup\\lesson9\\task1\\env32\\lib\\site-packages (from click->nltk) (0.4.5)\n",
      "Collecting importlib-resources\n",
      "  Using cached importlib_resources-5.4.0-py3-none-any.whl (28 kB)\n",
      "Requirement already satisfied: zipp>=0.5 in w:\\python\\mlearning\\markup\\lesson9\\task1\\env32\\lib\\site-packages (from importlib-metadata->click->nltk) (3.6.0)\n",
      "Requirement already satisfied: typing-extensions>=3.6.4 in w:\\python\\mlearning\\markup\\lesson9\\task1\\env32\\lib\\site-packages (from importlib-metadata->click->nltk) (4.1.1)\n",
      "Installing collected packages: importlib-resources, tqdm, regex, click, nltk\n",
      "Successfully installed click-8.0.4 importlib-resources-5.4.0 nltk-3.6.7 regex-2023.8.8 tqdm-4.64.1\n"
     ]
    }
   ],
   "source": [
    "pip install nltk"
   ]
  },
  {
   "cell_type": "code",
   "execution_count": 38,
   "id": "1f9a25eb",
   "metadata": {},
   "outputs": [
    {
     "name": "stderr",
     "output_type": "stream",
     "text": [
      "[nltk_data] Downloading package punkt to\n",
      "[nltk_data]     C:\\Users\\Protorsky\\AppData\\Roaming\\nltk_data...\n",
      "[nltk_data]   Package punkt is already up-to-date!\n"
     ]
    },
    {
     "data": {
      "text/plain": [
       "True"
      ]
     },
     "execution_count": 38,
     "metadata": {},
     "output_type": "execute_result"
    }
   ],
   "source": [
    "from sklearn.feature_extraction.text import TfidfVectorizer\n",
    "from sklearn.linear_model import LogisticRegression\n",
    "from sklearn.model_selection import train_test_split\n",
    "from sklearn.metrics import f1_score\n",
    "from sklearn.utils import shuffle\n",
    "\n",
    "import pandas as pd\n",
    "import numpy as np\n",
    "import nltk\n",
    "\n",
    "nltk.download('punkt')"
   ]
  },
  {
   "cell_type": "code",
   "execution_count": 53,
   "id": "5e51a473",
   "metadata": {},
   "outputs": [],
   "source": [
    "positive = ['хорошо']\n",
    "negative = ['плохо']\n",
    "\n",
    "def get_class(text):\n",
    "    words = nltk.word_tokenize(text.lower())\n",
    "    \n",
    "    count_pos = sum([1 for word in words if word in positive])\n",
    "    count_neg = sum([1 for word in words if word in negative])\n",
    "    \n",
    "    if count_pos > count_neg:\n",
    "        return 'positive'\n",
    "    elif count_pos < count_neg:\n",
    "        return 'negative'\n",
    "    else:\n",
    "        return 'neutral'"
   ]
  },
  {
   "cell_type": "code",
   "execution_count": 54,
   "id": "1897cd01",
   "metadata": {},
   "outputs": [
    {
     "name": "stdout",
     "output_type": "stream",
     "text": [
      "positive\n",
      "negative\n",
      "neutral\n"
     ]
    }
   ],
   "source": [
    "print(get_class('мне хорошо сегодня'))\n",
    "print(get_class('мне плохо сегодня'))\n",
    "print(get_class('мне не хорошо и не плохо сегодня'))"
   ]
  },
  {
   "cell_type": "code",
   "execution_count": 63,
   "id": "6673e11f",
   "metadata": {},
   "outputs": [],
   "source": [
    "news = pd.read_csv('news.csv', engine='python', encoding='utf-8', error_bad_lines=False)"
   ]
  },
  {
   "cell_type": "code",
   "execution_count": 65,
   "id": "76fd689d",
   "metadata": {},
   "outputs": [
    {
     "data": {
      "text/html": [
       "<div>\n",
       "<style scoped>\n",
       "    .dataframe tbody tr th:only-of-type {\n",
       "        vertical-align: middle;\n",
       "    }\n",
       "\n",
       "    .dataframe tbody tr th {\n",
       "        vertical-align: top;\n",
       "    }\n",
       "\n",
       "    .dataframe thead th {\n",
       "        text-align: right;\n",
       "    }\n",
       "</style>\n",
       "<table border=\"1\" class=\"dataframe\">\n",
       "  <thead>\n",
       "    <tr style=\"text-align: right;\">\n",
       "      <th></th>\n",
       "      <th>date</th>\n",
       "      <th>article</th>\n",
       "      <th>text</th>\n",
       "      <th>sentiment</th>\n",
       "    </tr>\n",
       "  </thead>\n",
       "  <tbody>\n",
       "    <tr>\n",
       "      <th>0</th>\n",
       "      <td>2024-04-08 00:00:00</td>\n",
       "      <td>Борьба Мосбиржи с «несправедливыми IPO»: новос...</td>\n",
       "      <td>Investing.com — Мосбиржа внедрит сервис для бо...</td>\n",
       "      <td>neutral</td>\n",
       "    </tr>\n",
       "    <tr>\n",
       "      <th>1</th>\n",
       "      <td>2024-04-08 00:00:00</td>\n",
       "      <td>Главные новости: самолеты Boeing продолжают ра...</td>\n",
       "      <td>Investing.com — На этой неделе начнется новый ...</td>\n",
       "      <td>neutral</td>\n",
       "    </tr>\n",
       "    <tr>\n",
       "      <th>2</th>\n",
       "      <td>2024-04-08 00:00:00</td>\n",
       "      <td>«Конгрессу надо действовать быстро»: эксперт п...</td>\n",
       "      <td>Investing.com — Из-за высокого давления госдол...</td>\n",
       "      <td>neutral</td>\n",
       "    </tr>\n",
       "    <tr>\n",
       "      <th>3</th>\n",
       "      <td>2024-04-08 00:00:00</td>\n",
       "      <td>США пытаются наладить отношения с Китам, но ес...</td>\n",
       "      <td>Investing.com — Министр финансов США Джанет Йе...</td>\n",
       "      <td>neutral</td>\n",
       "    </tr>\n",
       "    <tr>\n",
       "      <th>4</th>\n",
       "      <td>2024-04-09 00:00:00</td>\n",
       "      <td>Взрывной рост Toncoin: новости к утру 9 апреля</td>\n",
       "      <td>Investing.com — Toncoin обновил исторический м...</td>\n",
       "      <td>neutral</td>\n",
       "    </tr>\n",
       "    <tr>\n",
       "      <th>...</th>\n",
       "      <td>...</td>\n",
       "      <td>...</td>\n",
       "      <td>...</td>\n",
       "      <td>...</td>\n",
       "    </tr>\n",
       "    <tr>\n",
       "      <th>994</th>\n",
       "      <td>2023-07-28 00:00:00</td>\n",
       "      <td>Совфед разрешил Банку России передавать конфид...</td>\n",
       "      <td>МОСКВА, 28 июл -- ПРАЙМ. Сенаторы одобрили зак...</td>\n",
       "      <td>neutral</td>\n",
       "    </tr>\n",
       "    <tr>\n",
       "      <th>995</th>\n",
       "      <td>2023-07-30 00:00:00</td>\n",
       "      <td>В Госдуме настаивают на рассмотрении проекта о...</td>\n",
       "      <td>МОСКВА, 30 июл -- ПРАЙМ. Думская фракция КПРФ ...</td>\n",
       "      <td>neutral</td>\n",
       "    </tr>\n",
       "    <tr>\n",
       "      <th>996</th>\n",
       "      <td>2023-07-30 00:00:00</td>\n",
       "      <td>Молдавские фермеры попросили создать экспортны...</td>\n",
       "      <td>КИШИНЕВ, 30 июл -- ПРАЙМ. Молдавские фермеры п...</td>\n",
       "      <td>neutral</td>\n",
       "    </tr>\n",
       "    <tr>\n",
       "      <th>997</th>\n",
       "      <td>2023-07-30 00:00:00</td>\n",
       "      <td>\"Будет война\". Зеленского предупредили о угроз...</td>\n",
       "      <td>МОСКВА, 30 июл -- ПРАЙМ. Президент Украины Вла...</td>\n",
       "      <td>neutral</td>\n",
       "    </tr>\n",
       "    <tr>\n",
       "      <th>998</th>\n",
       "      <td>2024-01-12 00:00:00</td>\n",
       "      <td>Нефть дорожает после ударов США по Йемену: нов...</td>\n",
       "      <td>Investing.com — Байден объявил об ударах США и...</td>\n",
       "      <td>neutral</td>\n",
       "    </tr>\n",
       "  </tbody>\n",
       "</table>\n",
       "<p>999 rows × 4 columns</p>\n",
       "</div>"
      ],
      "text/plain": [
       "                    date                                            article  \\\n",
       "0    2024-04-08 00:00:00  Борьба Мосбиржи с «несправедливыми IPO»: новос...   \n",
       "1    2024-04-08 00:00:00  Главные новости: самолеты Boeing продолжают ра...   \n",
       "2    2024-04-08 00:00:00  «Конгрессу надо действовать быстро»: эксперт п...   \n",
       "3    2024-04-08 00:00:00  США пытаются наладить отношения с Китам, но ес...   \n",
       "4    2024-04-09 00:00:00     Взрывной рост Toncoin: новости к утру 9 апреля   \n",
       "..                   ...                                                ...   \n",
       "994  2023-07-28 00:00:00  Совфед разрешил Банку России передавать конфид...   \n",
       "995  2023-07-30 00:00:00  В Госдуме настаивают на рассмотрении проекта о...   \n",
       "996  2023-07-30 00:00:00  Молдавские фермеры попросили создать экспортны...   \n",
       "997  2023-07-30 00:00:00  \"Будет война\". Зеленского предупредили о угроз...   \n",
       "998  2024-01-12 00:00:00  Нефть дорожает после ударов США по Йемену: нов...   \n",
       "\n",
       "                                                  text sentiment  \n",
       "0    Investing.com — Мосбиржа внедрит сервис для бо...   neutral  \n",
       "1    Investing.com — На этой неделе начнется новый ...   neutral  \n",
       "2    Investing.com — Из-за высокого давления госдол...   neutral  \n",
       "3    Investing.com — Министр финансов США Джанет Йе...   neutral  \n",
       "4    Investing.com — Toncoin обновил исторический м...   neutral  \n",
       "..                                                 ...       ...  \n",
       "994  МОСКВА, 28 июл -- ПРАЙМ. Сенаторы одобрили зак...   neutral  \n",
       "995  МОСКВА, 30 июл -- ПРАЙМ. Думская фракция КПРФ ...   neutral  \n",
       "996  КИШИНЕВ, 30 июл -- ПРАЙМ. Молдавские фермеры п...   neutral  \n",
       "997  МОСКВА, 30 июл -- ПРАЙМ. Президент Украины Вла...   neutral  \n",
       "998  Investing.com — Байден объявил об ударах США и...   neutral  \n",
       "\n",
       "[999 rows x 4 columns]"
      ]
     },
     "execution_count": 65,
     "metadata": {},
     "output_type": "execute_result"
    }
   ],
   "source": [
    "# разметка на основе правил\n",
    "news['sentiment'] = news['text'].apply(get_class)\n",
    "news"
   ]
  },
  {
   "cell_type": "code",
   "execution_count": 66,
   "id": "4ad8de68",
   "metadata": {},
   "outputs": [],
   "source": [
    "subset = news.sample(frac = 0.1)\n",
    "subset.to_csv('subset.csv')"
   ]
  },
  {
   "cell_type": "code",
   "execution_count": 67,
   "id": "f0e3e845",
   "metadata": {},
   "outputs": [],
   "source": [
    "news = news.drop(subset.index)\n",
    "# выполняем после ручной разметки\n",
    "subset = pd.read_csv('subset.csv', engine='python', encoding='utf-8', error_bad_lines=False)\n",
    "\n",
    "subset = subset[['date', 'article', 'text', 'sentiment']]\n",
    "\n",
    "news = pd.concat([news, subset])"
   ]
  },
  {
   "cell_type": "code",
   "execution_count": 68,
   "id": "1855d5a7",
   "metadata": {},
   "outputs": [
    {
     "data": {
      "text/html": [
       "<div>\n",
       "<style scoped>\n",
       "    .dataframe tbody tr th:only-of-type {\n",
       "        vertical-align: middle;\n",
       "    }\n",
       "\n",
       "    .dataframe tbody tr th {\n",
       "        vertical-align: top;\n",
       "    }\n",
       "\n",
       "    .dataframe thead th {\n",
       "        text-align: right;\n",
       "    }\n",
       "</style>\n",
       "<table border=\"1\" class=\"dataframe\">\n",
       "  <thead>\n",
       "    <tr style=\"text-align: right;\">\n",
       "      <th></th>\n",
       "      <th>date</th>\n",
       "      <th>article</th>\n",
       "      <th>text</th>\n",
       "      <th>sentiment</th>\n",
       "    </tr>\n",
       "  </thead>\n",
       "  <tbody>\n",
       "    <tr>\n",
       "      <th>0</th>\n",
       "      <td>2024-04-08 00:00:00</td>\n",
       "      <td>Борьба Мосбиржи с «несправедливыми IPO»: новос...</td>\n",
       "      <td>Investing.com — Мосбиржа внедрит сервис для бо...</td>\n",
       "      <td>neutral</td>\n",
       "    </tr>\n",
       "    <tr>\n",
       "      <th>1</th>\n",
       "      <td>2024-04-08 00:00:00</td>\n",
       "      <td>Главные новости: самолеты Boeing продолжают ра...</td>\n",
       "      <td>Investing.com — На этой неделе начнется новый ...</td>\n",
       "      <td>neutral</td>\n",
       "    </tr>\n",
       "    <tr>\n",
       "      <th>2</th>\n",
       "      <td>2024-04-08 00:00:00</td>\n",
       "      <td>«Конгрессу надо действовать быстро»: эксперт п...</td>\n",
       "      <td>Investing.com — Из-за высокого давления госдол...</td>\n",
       "      <td>neutral</td>\n",
       "    </tr>\n",
       "    <tr>\n",
       "      <th>4</th>\n",
       "      <td>2024-04-09 00:00:00</td>\n",
       "      <td>Взрывной рост Toncoin: новости к утру 9 апреля</td>\n",
       "      <td>Investing.com — Toncoin обновил исторический м...</td>\n",
       "      <td>neutral</td>\n",
       "    </tr>\n",
       "    <tr>\n",
       "      <th>5</th>\n",
       "      <td>2024-04-09 00:00:00</td>\n",
       "      <td>Инфляционные ожидания в США стабилизируются</td>\n",
       "      <td>Investing.com — Ожидания американских потребит...</td>\n",
       "      <td>neutral</td>\n",
       "    </tr>\n",
       "    <tr>\n",
       "      <th>...</th>\n",
       "      <td>...</td>\n",
       "      <td>...</td>\n",
       "      <td>...</td>\n",
       "      <td>...</td>\n",
       "    </tr>\n",
       "    <tr>\n",
       "      <th>95</th>\n",
       "      <td>2023-08-15 00:00:00</td>\n",
       "      <td>Fitch может понизить рейтинг крупнейших банков...</td>\n",
       "      <td>Investing.com — Рейтинговое агентство Fitch Ra...</td>\n",
       "      <td>neutral</td>\n",
       "    </tr>\n",
       "    <tr>\n",
       "      <th>96</th>\n",
       "      <td>2023-12-08 00:00:00</td>\n",
       "      <td>Moody’s просило своих сотрудников в Китае рабо...</td>\n",
       "      <td>Investing.com — Рейтинговое агентство Moody’s ...</td>\n",
       "      <td>neutral</td>\n",
       "    </tr>\n",
       "    <tr>\n",
       "      <th>97</th>\n",
       "      <td>2023-09-22 00:00:00</td>\n",
       "      <td>Минфин России предлагает в 2024 году вернуться...</td>\n",
       "      <td>Investing.com — Министр финансов России Антон ...</td>\n",
       "      <td>neutral</td>\n",
       "    </tr>\n",
       "    <tr>\n",
       "      <th>98</th>\n",
       "      <td>2023-09-13 00:00:00</td>\n",
       "      <td>Главные новости: долгожданное IPO чипмейкера Arm</td>\n",
       "      <td>Investing.com — В среду в центре внимания окаж...</td>\n",
       "      <td>neutral</td>\n",
       "    </tr>\n",
       "    <tr>\n",
       "      <th>99</th>\n",
       "      <td>2024-01-22 00:00:00</td>\n",
       "      <td>Банкротство очередной блокчейн-платформы: ново...</td>\n",
       "      <td>Investing.com — Блокчейн-платформа Terraform L...</td>\n",
       "      <td>neutral</td>\n",
       "    </tr>\n",
       "  </tbody>\n",
       "</table>\n",
       "<p>999 rows × 4 columns</p>\n",
       "</div>"
      ],
      "text/plain": [
       "                   date                                            article  \\\n",
       "0   2024-04-08 00:00:00  Борьба Мосбиржи с «несправедливыми IPO»: новос...   \n",
       "1   2024-04-08 00:00:00  Главные новости: самолеты Boeing продолжают ра...   \n",
       "2   2024-04-08 00:00:00  «Конгрессу надо действовать быстро»: эксперт п...   \n",
       "4   2024-04-09 00:00:00     Взрывной рост Toncoin: новости к утру 9 апреля   \n",
       "5   2024-04-09 00:00:00        Инфляционные ожидания в США стабилизируются   \n",
       "..                  ...                                                ...   \n",
       "95  2023-08-15 00:00:00  Fitch может понизить рейтинг крупнейших банков...   \n",
       "96  2023-12-08 00:00:00  Moody’s просило своих сотрудников в Китае рабо...   \n",
       "97  2023-09-22 00:00:00  Минфин России предлагает в 2024 году вернуться...   \n",
       "98  2023-09-13 00:00:00   Главные новости: долгожданное IPO чипмейкера Arm   \n",
       "99  2024-01-22 00:00:00  Банкротство очередной блокчейн-платформы: ново...   \n",
       "\n",
       "                                                 text sentiment  \n",
       "0   Investing.com — Мосбиржа внедрит сервис для бо...   neutral  \n",
       "1   Investing.com — На этой неделе начнется новый ...   neutral  \n",
       "2   Investing.com — Из-за высокого давления госдол...   neutral  \n",
       "4   Investing.com — Toncoin обновил исторический м...   neutral  \n",
       "5   Investing.com — Ожидания американских потребит...   neutral  \n",
       "..                                                ...       ...  \n",
       "95  Investing.com — Рейтинговое агентство Fitch Ra...   neutral  \n",
       "96  Investing.com — Рейтинговое агентство Moody’s ...   neutral  \n",
       "97  Investing.com — Министр финансов России Антон ...   neutral  \n",
       "98  Investing.com — В среду в центре внимания окаж...   neutral  \n",
       "99  Investing.com — Блокчейн-платформа Terraform L...   neutral  \n",
       "\n",
       "[999 rows x 4 columns]"
      ]
     },
     "execution_count": 68,
     "metadata": {},
     "output_type": "execute_result"
    }
   ],
   "source": [
    "news"
   ]
  },
  {
   "cell_type": "code",
   "execution_count": 69,
   "id": "d6f7657e",
   "metadata": {},
   "outputs": [],
   "source": [
    "news_train, news_test = train_test_split(news, train_size=0.2, random_state=50)"
   ]
  },
  {
   "cell_type": "code",
   "execution_count": null,
   "id": "29863961",
   "metadata": {},
   "outputs": [],
   "source": []
  }
 ],
 "metadata": {
  "kernelspec": {
   "display_name": "Python 3",
   "language": "python",
   "name": "python3"
  },
  "language_info": {
   "codemirror_mode": {
    "name": "ipython",
    "version": 3
   },
   "file_extension": ".py",
   "mimetype": "text/x-python",
   "name": "python",
   "nbconvert_exporter": "python",
   "pygments_lexer": "ipython3",
   "version": "3.6.2"
  }
 },
 "nbformat": 4,
 "nbformat_minor": 5
}
