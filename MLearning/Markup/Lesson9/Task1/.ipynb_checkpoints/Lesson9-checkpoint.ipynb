{
 "cells": [
  {
   "cell_type": "markdown",
   "id": "a134191d",
   "metadata": {},
   "source": [
    "## <center>Разметки новостной ленты </center>"
   ]
  },
  {
   "cell_type": "markdown",
   "id": "e77c5739",
   "metadata": {},
   "source": [
    "Для улучшения предсказания временных рядов, курса валют или акций, полезно прибегнуть к ансамблю моделей, одна из которцх построена на LSTM, другая учитывает новостной фон, совместная работа моделей позволит выполнять более взвешенные предсказания значений"
   ]
  },
  {
   "cell_type": "code",
   "execution_count": 365,
   "id": "66d0e7b8",
   "metadata": {},
   "outputs": [
    {
     "name": "stdout",
     "output_type": "stream",
     "text": [
      "Requirement already satisfied: pandas in w:\\python\\mlearning\\markup\\lesson9\\task1\\env32\\lib\\site-packages (1.1.5)\n",
      "Requirement already satisfied: pytz>=2017.2 in w:\\python\\mlearning\\markup\\lesson9\\task1\\env32\\lib\\site-packages (from pandas) (2024.1)\n",
      "Requirement already satisfied: python-dateutil>=2.7.3 in w:\\python\\mlearning\\markup\\lesson9\\task1\\env32\\lib\\site-packages (from pandas) (2.9.0.post0)\n",
      "Requirement already satisfied: numpy>=1.15.4 in w:\\python\\mlearning\\markup\\lesson9\\task1\\env32\\lib\\site-packages (from pandas) (1.19.5)\n",
      "Requirement already satisfied: six>=1.5 in w:\\python\\mlearning\\markup\\lesson9\\task1\\env32\\lib\\site-packages (from python-dateutil>=2.7.3->pandas) (1.16.0)\n",
      "Note: you may need to restart the kernel to use updated packages.\n"
     ]
    }
   ],
   "source": [
    "pip install pandas"
   ]
  },
  {
   "cell_type": "code",
   "execution_count": 366,
   "id": "439d2311",
   "metadata": {},
   "outputs": [
    {
     "name": "stdout",
     "output_type": "stream",
     "text": [
      "Requirement already satisfied: scikit-learn in w:\\python\\mlearning\\markup\\lesson9\\task1\\env32\\lib\\site-packages (0.24.2)Note: you may need to restart the kernel to use updated packages.\n",
      "Requirement already satisfied: numpy>=1.13.3 in w:\\python\\mlearning\\markup\\lesson9\\task1\\env32\\lib\\site-packages (from scikit-learn) (1.19.5)\n",
      "\n",
      "Requirement already satisfied: scipy>=0.19.1 in w:\\python\\mlearning\\markup\\lesson9\\task1\\env32\\lib\\site-packages (from scikit-learn) (1.5.4)\n",
      "Requirement already satisfied: joblib>=0.11 in w:\\python\\mlearning\\markup\\lesson9\\task1\\env32\\lib\\site-packages (from scikit-learn) (1.1.1)\n",
      "Requirement already satisfied: threadpoolctl>=2.0.0 in w:\\python\\mlearning\\markup\\lesson9\\task1\\env32\\lib\\site-packages (from scikit-learn) (3.1.0)\n"
     ]
    }
   ],
   "source": [
    "pip install scikit-learn"
   ]
  },
  {
   "cell_type": "code",
   "execution_count": 367,
   "id": "84feb99d",
   "metadata": {},
   "outputs": [
    {
     "name": "stdout",
     "output_type": "stream",
     "text": [
      "Requirement already satisfied: nltk in w:\\python\\mlearning\\markup\\lesson9\\task1\\env32\\lib\\site-packages (3.6.7)\n",
      "Requirement already satisfied: joblib in w:\\python\\mlearning\\markup\\lesson9\\task1\\env32\\lib\\site-packages (from nltk) (1.1.1)\n",
      "Requirement already satisfied: regex>=2021.8.3 in w:\\python\\mlearning\\markup\\lesson9\\task1\\env32\\lib\\site-packages (from nltk) (2023.8.8)\n",
      "Requirement already satisfied: tqdm in w:\\python\\mlearning\\markup\\lesson9\\task1\\env32\\lib\\site-packages (from nltk) (4.64.1)\n",
      "Requirement already satisfied: click in w:\\python\\mlearning\\markup\\lesson9\\task1\\env32\\lib\\site-packages (from nltk) (8.0.4)\n",
      "Note: you may need to restart the kernel to use updated packages.\n",
      "Requirement already satisfied: colorama in w:\\python\\mlearning\\markup\\lesson9\\task1\\env32\\lib\\site-packages (from click->nltk) (0.4.5)\n",
      "Requirement already satisfied: importlib-metadata in w:\\python\\mlearning\\markup\\lesson9\\task1\\env32\\lib\\site-packages (from click->nltk) (4.8.3)\n",
      "Requirement already satisfied: importlib-resources in w:\\python\\mlearning\\markup\\lesson9\\task1\\env32\\lib\\site-packages (from tqdm->nltk) (5.4.0)\n",
      "Requirement already satisfied: typing-extensions>=3.6.4 in w:\\python\\mlearning\\markup\\lesson9\\task1\\env32\\lib\\site-packages (from importlib-metadata->click->nltk) (4.1.1)\n",
      "Requirement already satisfied: zipp>=0.5 in w:\\python\\mlearning\\markup\\lesson9\\task1\\env32\\lib\\site-packages (from importlib-metadata->click->nltk) (3.6.0)\n"
     ]
    }
   ],
   "source": [
    "pip install nltk"
   ]
  },
  {
   "cell_type": "code",
   "execution_count": 368,
   "id": "4f3c30d7",
   "metadata": {},
   "outputs": [
    {
     "name": "stdout",
     "output_type": "stream",
     "text": [
      "Requirement already satisfied: TextBlob in w:\\python\\mlearning\\markup\\lesson9\\task1\\env32\\lib\\site-packages (0.17.1)Note: you may need to restart the kernel to use updated packages.\n",
      "Requirement already satisfied: nltk>=3.1 in w:\\python\\mlearning\\markup\\lesson9\\task1\\env32\\lib\\site-packages (from TextBlob) (3.6.7)\n",
      "Requirement already satisfied: tqdm in w:\\python\\mlearning\\markup\\lesson9\\task1\\env32\\lib\\site-packages (from nltk>=3.1->TextBlob) (4.64.1)\n",
      "\n",
      "Requirement already satisfied: joblib in w:\\python\\mlearning\\markup\\lesson9\\task1\\env32\\lib\\site-packages (from nltk>=3.1->TextBlob) (1.1.1)\n",
      "Requirement already satisfied: click in w:\\python\\mlearning\\markup\\lesson9\\task1\\env32\\lib\\site-packages (from nltk>=3.1->TextBlob) (8.0.4)\n",
      "Requirement already satisfied: regex>=2021.8.3 in w:\\python\\mlearning\\markup\\lesson9\\task1\\env32\\lib\\site-packages (from nltk>=3.1->TextBlob) (2023.8.8)\n",
      "Requirement already satisfied: colorama in w:\\python\\mlearning\\markup\\lesson9\\task1\\env32\\lib\\site-packages (from click->nltk>=3.1->TextBlob) (0.4.5)\n",
      "Requirement already satisfied: importlib-metadata in w:\\python\\mlearning\\markup\\lesson9\\task1\\env32\\lib\\site-packages (from click->nltk>=3.1->TextBlob) (4.8.3)\n",
      "Requirement already satisfied: importlib-resources in w:\\python\\mlearning\\markup\\lesson9\\task1\\env32\\lib\\site-packages (from tqdm->nltk>=3.1->TextBlob) (5.4.0)\n",
      "Requirement already satisfied: typing-extensions>=3.6.4 in w:\\python\\mlearning\\markup\\lesson9\\task1\\env32\\lib\\site-packages (from importlib-metadata->click->nltk>=3.1->TextBlob) (4.1.1)\n",
      "Requirement already satisfied: zipp>=0.5 in w:\\python\\mlearning\\markup\\lesson9\\task1\\env32\\lib\\site-packages (from importlib-metadata->click->nltk>=3.1->TextBlob) (3.6.0)\n"
     ]
    }
   ],
   "source": [
    "pip install TextBlob"
   ]
  },
  {
   "cell_type": "code",
   "execution_count": 441,
   "id": "79771897",
   "metadata": {},
   "outputs": [
    {
     "name": "stderr",
     "output_type": "stream",
     "text": [
      "[nltk_data] Downloading package punkt to\n",
      "[nltk_data]     C:\\Users\\Protorsky\\AppData\\Roaming\\nltk_data...\n",
      "[nltk_data]   Package punkt is already up-to-date!\n"
     ]
    },
    {
     "data": {
      "text/plain": [
       "True"
      ]
     },
     "execution_count": 441,
     "metadata": {},
     "output_type": "execute_result"
    }
   ],
   "source": [
    "from sklearn.feature_extraction.text import TfidfVectorizer\n",
    "from sklearn.linear_model import LogisticRegression\n",
    "from sklearn.preprocessing import LabelEncoder\n",
    "from sklearn.model_selection import train_test_split\n",
    "from sklearn.metrics import f1_score\n",
    "from sklearn.utils import shuffle\n",
    "from textblob import TextBlob\n",
    "\n",
    "import pandas as pd\n",
    "import numpy as np\n",
    "import nltk\n",
    "\n",
    "nltk.download('punkt')"
   ]
  },
  {
   "cell_type": "code",
   "execution_count": 585,
   "id": "b2a12b3e",
   "metadata": {},
   "outputs": [],
   "source": [
    "positive = ['рост', 'стабильность', 'здорово', 'надежда', 'подорожали', 'высокая доходность']\n",
    "negative = ['падение', 'кризис', 'рецессия', 'давление', 'беспокойство', 'приостановлены', 'арест', 'инфляционные ожидания']\n",
    "\n",
    "def get_class(text):\n",
    "    words = nltk.word_tokenize(text.lower())\n",
    "    \n",
    "    count_pos = sum([1 for word in words if word in positive])\n",
    "    count_neg = sum([1 for word in words if word in negative])\n",
    "    \n",
    "    if count_pos > count_neg:\n",
    "        return 'Positive'\n",
    "    elif count_pos < count_neg:\n",
    "        return 'Negative'\n",
    "    else:\n",
    "        return 'Neutral'"
   ]
  },
  {
   "cell_type": "code",
   "execution_count": 586,
   "id": "8099be1c",
   "metadata": {},
   "outputs": [
    {
     "name": "stdout",
     "output_type": "stream",
     "text": [
      "Positive\n",
      "Negative\n",
      "Neutral\n"
     ]
    }
   ],
   "source": [
    "print(get_class('рост рынка'))\n",
    "print(get_class('падение рынка'))\n",
    "print(get_class('прогноз рынка'))"
   ]
  },
  {
   "cell_type": "code",
   "execution_count": 587,
   "id": "b3ead0d0",
   "metadata": {},
   "outputs": [],
   "source": [
    "def get_polarity(text): \n",
    "    blob = TextBlob(text) \n",
    "    return blob.sentiment.polarity"
   ]
  },
  {
   "cell_type": "code",
   "execution_count": 588,
   "id": "f2d6c3cb",
   "metadata": {},
   "outputs": [
    {
     "name": "stdout",
     "output_type": "stream",
     "text": [
      "0.0\n",
      "0.0\n",
      "0.0\n"
     ]
    }
   ],
   "source": [
    "# механизм полярности не работает\n",
    "print(get_polarity('рост рынка'))\n",
    "print(get_polarity('падение рынка'))\n",
    "print(get_polarity('прогноз рынка'))"
   ]
  },
  {
   "cell_type": "code",
   "execution_count": 589,
   "id": "3b30b2c1",
   "metadata": {},
   "outputs": [
    {
     "data": {
      "text/html": [
       "<div>\n",
       "<style scoped>\n",
       "    .dataframe tbody tr th:only-of-type {\n",
       "        vertical-align: middle;\n",
       "    }\n",
       "\n",
       "    .dataframe tbody tr th {\n",
       "        vertical-align: top;\n",
       "    }\n",
       "\n",
       "    .dataframe thead th {\n",
       "        text-align: right;\n",
       "    }\n",
       "</style>\n",
       "<table border=\"1\" class=\"dataframe\">\n",
       "  <thead>\n",
       "    <tr style=\"text-align: right;\">\n",
       "      <th></th>\n",
       "      <th>date</th>\n",
       "      <th>article</th>\n",
       "      <th>text</th>\n",
       "    </tr>\n",
       "  </thead>\n",
       "  <tbody>\n",
       "    <tr>\n",
       "      <th>0</th>\n",
       "      <td>2024-04-08 00:00:00</td>\n",
       "      <td>Борьба Мосбиржи с «несправедливыми IPO»: новос...</td>\n",
       "      <td>Investing.com — Мосбиржа внедрит сервис для бо...</td>\n",
       "    </tr>\n",
       "    <tr>\n",
       "      <th>1</th>\n",
       "      <td>2024-04-08 00:00:00</td>\n",
       "      <td>Главные новости: самолеты Boeing продолжают ра...</td>\n",
       "      <td>Investing.com — На этой неделе начнется новый ...</td>\n",
       "    </tr>\n",
       "    <tr>\n",
       "      <th>2</th>\n",
       "      <td>2024-04-08 00:00:00</td>\n",
       "      <td>«Конгрессу надо действовать быстро»: эксперт п...</td>\n",
       "      <td>Investing.com — Из-за высокого давления госдол...</td>\n",
       "    </tr>\n",
       "    <tr>\n",
       "      <th>3</th>\n",
       "      <td>2024-04-08 00:00:00</td>\n",
       "      <td>США пытаются наладить отношения с Китам, но ес...</td>\n",
       "      <td>Investing.com — Министр финансов США Джанет Йе...</td>\n",
       "    </tr>\n",
       "    <tr>\n",
       "      <th>4</th>\n",
       "      <td>2024-04-09 00:00:00</td>\n",
       "      <td>Взрывной рост Toncoin: новости к утру 9 апреля</td>\n",
       "      <td>Investing.com — Toncoin обновил исторический м...</td>\n",
       "    </tr>\n",
       "    <tr>\n",
       "      <th>5</th>\n",
       "      <td>2024-04-09 00:00:00</td>\n",
       "      <td>Инфляционные ожидания в США стабилизируются</td>\n",
       "      <td>Investing.com — Ожидания американских потребит...</td>\n",
       "    </tr>\n",
       "    <tr>\n",
       "      <th>6</th>\n",
       "      <td>2024-04-09 00:00:00</td>\n",
       "      <td>Главные новости: выступления спикеров ФРС и но...</td>\n",
       "      <td>Investing.com — В преддверии выхода ключевых д...</td>\n",
       "    </tr>\n",
       "    <tr>\n",
       "      <th>7</th>\n",
       "      <td>2024-03-31 00:00:00</td>\n",
       "      <td>Топ-5 событий на этой неделе: экономданные из ...</td>\n",
       "      <td>Investing.com — Данные по занятости в США в пя...</td>\n",
       "    </tr>\n",
       "    <tr>\n",
       "      <th>8</th>\n",
       "      <td>2024-03-17 00:00:00</td>\n",
       "      <td>Топ-5 недели: в центре внимания - решения цент...</td>\n",
       "      <td>Investing.com — Решения центральных банков буд...</td>\n",
       "    </tr>\n",
       "    <tr>\n",
       "      <th>9</th>\n",
       "      <td>2024-03-18 00:00:00</td>\n",
       "      <td>Явная победа Путина на выборах: новости к утру...</td>\n",
       "      <td>Investing.com — Путин набирает 87,33% на выбор...</td>\n",
       "    </tr>\n",
       "  </tbody>\n",
       "</table>\n",
       "</div>"
      ],
      "text/plain": [
       "                  date                                            article  \\\n",
       "0  2024-04-08 00:00:00  Борьба Мосбиржи с «несправедливыми IPO»: новос...   \n",
       "1  2024-04-08 00:00:00  Главные новости: самолеты Boeing продолжают ра...   \n",
       "2  2024-04-08 00:00:00  «Конгрессу надо действовать быстро»: эксперт п...   \n",
       "3  2024-04-08 00:00:00  США пытаются наладить отношения с Китам, но ес...   \n",
       "4  2024-04-09 00:00:00     Взрывной рост Toncoin: новости к утру 9 апреля   \n",
       "5  2024-04-09 00:00:00        Инфляционные ожидания в США стабилизируются   \n",
       "6  2024-04-09 00:00:00  Главные новости: выступления спикеров ФРС и но...   \n",
       "7  2024-03-31 00:00:00  Топ-5 событий на этой неделе: экономданные из ...   \n",
       "8  2024-03-17 00:00:00  Топ-5 недели: в центре внимания - решения цент...   \n",
       "9  2024-03-18 00:00:00  Явная победа Путина на выборах: новости к утру...   \n",
       "\n",
       "                                                text  \n",
       "0  Investing.com — Мосбиржа внедрит сервис для бо...  \n",
       "1  Investing.com — На этой неделе начнется новый ...  \n",
       "2  Investing.com — Из-за высокого давления госдол...  \n",
       "3  Investing.com — Министр финансов США Джанет Йе...  \n",
       "4  Investing.com — Toncoin обновил исторический м...  \n",
       "5  Investing.com — Ожидания американских потребит...  \n",
       "6  Investing.com — В преддверии выхода ключевых д...  \n",
       "7  Investing.com — Данные по занятости в США в пя...  \n",
       "8  Investing.com — Решения центральных банков буд...  \n",
       "9  Investing.com — Путин набирает 87,33% на выбор...  "
      ]
     },
     "execution_count": 589,
     "metadata": {},
     "output_type": "execute_result"
    }
   ],
   "source": [
    "news = pd.read_csv('news.csv', engine='python', encoding='utf-8', error_bad_lines=False)\n",
    "\n",
    "news.head(10)"
   ]
  },
  {
   "cell_type": "code",
   "execution_count": 604,
   "id": "199f8721",
   "metadata": {},
   "outputs": [
    {
     "name": "stdout",
     "output_type": "stream",
     "text": [
      "length train=100\n"
     ]
    }
   ],
   "source": [
    "# выборка для выполнения разметки\n",
    "train_news = news.sample(frac = 0.1)\n",
    "print(f'length train={len(train_news)}')\n",
    "# перемешиваем для сохранения распределения\n",
    "train_news = shuffle(train_news)\n",
    "# разметка на основе своих правил\n",
    "train_news['sentiment_label'] = train_news['text'].apply(get_class)"
   ]
  },
  {
   "cell_type": "code",
   "execution_count": 591,
   "id": "1ccfebb2",
   "metadata": {},
   "outputs": [],
   "source": [
    "def train_model(labeled_news):     \n",
    "    vectorizer = TfidfVectorizer()\n",
    "    # векторизация текстовых данных с помощью TF-IDF \n",
    "    X = vectorizer.fit_transform(labeled_news['text']) \n",
    "    y = labeled_news['sentiment']\n",
    "    # Обучение модели логистической регрессии на размеченных данных \n",
    "    model = LogisticRegression() \n",
    "    model.fit(X, y)\n",
    "    \n",
    "    return model, vectorizer"
   ]
  },
  {
   "cell_type": "code",
   "execution_count": 592,
   "id": "496611c8",
   "metadata": {},
   "outputs": [
    {
     "data": {
      "text/html": [
       "<div>\n",
       "<style scoped>\n",
       "    .dataframe tbody tr th:only-of-type {\n",
       "        vertical-align: middle;\n",
       "    }\n",
       "\n",
       "    .dataframe tbody tr th {\n",
       "        vertical-align: top;\n",
       "    }\n",
       "\n",
       "    .dataframe thead th {\n",
       "        text-align: right;\n",
       "    }\n",
       "</style>\n",
       "<table border=\"1\" class=\"dataframe\">\n",
       "  <thead>\n",
       "    <tr style=\"text-align: right;\">\n",
       "      <th></th>\n",
       "      <th>date</th>\n",
       "      <th>article</th>\n",
       "      <th>text</th>\n",
       "      <th>sentiment_label</th>\n",
       "    </tr>\n",
       "  </thead>\n",
       "  <tbody>\n",
       "    <tr>\n",
       "      <th>896</th>\n",
       "      <td>2023-07-29 00:00:00</td>\n",
       "      <td>На Крымском мосту возобновили движение</td>\n",
       "      <td>МОСКВА, 29 июл -- ПРАЙМ. Движение автотранспор...</td>\n",
       "      <td>Neutral</td>\n",
       "    </tr>\n",
       "    <tr>\n",
       "      <th>951</th>\n",
       "      <td>2023-07-29 00:00:00</td>\n",
       "      <td>Решетников заявил, что Россия готова помочь Ка...</td>\n",
       "      <td>С.-ПЕТЕРБУРГ, 28 июл -- ПРАЙМ. Россия готова о...</td>\n",
       "      <td>Neutral</td>\n",
       "    </tr>\n",
       "    <tr>\n",
       "      <th>861</th>\n",
       "      <td>2023-07-29 00:00:00</td>\n",
       "      <td>Гвинея призвала Россию попытаться восстановить...</td>\n",
       "      <td>С.-ПЕТЕРБУРГ, 29 июл -- ПРАЙМ. Гвинея просит Р...</td>\n",
       "      <td>Neutral</td>\n",
       "    </tr>\n",
       "    <tr>\n",
       "      <th>860</th>\n",
       "      <td>2023-07-29 00:00:00</td>\n",
       "      <td>Гвинея призывает Россию попытаться восстановит...</td>\n",
       "      <td>С.-ПЕТЕРБУРГ, 29 июл -- ПРАЙМ. Гвинея предлага...</td>\n",
       "      <td>Neutral</td>\n",
       "    </tr>\n",
       "    <tr>\n",
       "      <th>944</th>\n",
       "      <td>2023-07-29 00:00:00</td>\n",
       "      <td>Путин заявил, что продолжит поддержку Централь...</td>\n",
       "      <td>С.-ПЕТЕРБУРГ, 28 июл -- ПРАЙМ. Россия будет и ...</td>\n",
       "      <td>Neutral</td>\n",
       "    </tr>\n",
       "    <tr>\n",
       "      <th>863</th>\n",
       "      <td>2023-07-29 00:00:00</td>\n",
       "      <td>Правительство России выделило два миллиона дол...</td>\n",
       "      <td>СТРЕЛЬНА, 29 июл -- ПРАЙМ. Правительство предо...</td>\n",
       "      <td>Neutral</td>\n",
       "    </tr>\n",
       "    <tr>\n",
       "      <th>872</th>\n",
       "      <td>2023-07-30 00:00:00</td>\n",
       "      <td>Путин подвел итоги второго саммита \"Россия-Афр...</td>\n",
       "      <td>С.-ПЕТЕРБУРГ, 29 июл -- ПРАЙМ. В ходе второго ...</td>\n",
       "      <td>Positive</td>\n",
       "    </tr>\n",
       "    <tr>\n",
       "      <th>879</th>\n",
       "      <td>2023-07-30 00:00:00</td>\n",
       "      <td>Беглов: власти Петербурга требуют сдавать жиль...</td>\n",
       "      <td>МОСКВА, 30 июл -- ПРАЙМ. Власти Санкт-Петербур...</td>\n",
       "      <td>Neutral</td>\n",
       "    </tr>\n",
       "    <tr>\n",
       "      <th>853</th>\n",
       "      <td>2023-07-29 00:00:00</td>\n",
       "      <td>Россияне смогут обращаться в госорганы через \"...</td>\n",
       "      <td>МОСКВА, 29 июл -- ПРАЙМ. Совфет Федерации одоб...</td>\n",
       "      <td>Neutral</td>\n",
       "    </tr>\n",
       "    <tr>\n",
       "      <th>954</th>\n",
       "      <td>2023-07-29 00:00:00</td>\n",
       "      <td>\"РТК-Солар\" отразила каскад кибератак на транс...</td>\n",
       "      <td>С.-ПЕТЕРБУРГ, 28 июл -- ПРАЙМ. Компания по киб...</td>\n",
       "      <td>Neutral</td>\n",
       "    </tr>\n",
       "  </tbody>\n",
       "</table>\n",
       "</div>"
      ],
      "text/plain": [
       "                    date                                            article  \\\n",
       "896  2023-07-29 00:00:00             На Крымском мосту возобновили движение   \n",
       "951  2023-07-29 00:00:00  Решетников заявил, что Россия готова помочь Ка...   \n",
       "861  2023-07-29 00:00:00  Гвинея призвала Россию попытаться восстановить...   \n",
       "860  2023-07-29 00:00:00  Гвинея призывает Россию попытаться восстановит...   \n",
       "944  2023-07-29 00:00:00  Путин заявил, что продолжит поддержку Централь...   \n",
       "863  2023-07-29 00:00:00  Правительство России выделило два миллиона дол...   \n",
       "872  2023-07-30 00:00:00  Путин подвел итоги второго саммита \"Россия-Афр...   \n",
       "879  2023-07-30 00:00:00  Беглов: власти Петербурга требуют сдавать жиль...   \n",
       "853  2023-07-29 00:00:00  Россияне смогут обращаться в госорганы через \"...   \n",
       "954  2023-07-29 00:00:00  \"РТК-Солар\" отразила каскад кибератак на транс...   \n",
       "\n",
       "                                                  text sentiment_label  \n",
       "896  МОСКВА, 29 июл -- ПРАЙМ. Движение автотранспор...         Neutral  \n",
       "951  С.-ПЕТЕРБУРГ, 28 июл -- ПРАЙМ. Россия готова о...         Neutral  \n",
       "861  С.-ПЕТЕРБУРГ, 29 июл -- ПРАЙМ. Гвинея просит Р...         Neutral  \n",
       "860  С.-ПЕТЕРБУРГ, 29 июл -- ПРАЙМ. Гвинея предлага...         Neutral  \n",
       "944  С.-ПЕТЕРБУРГ, 28 июл -- ПРАЙМ. Россия будет и ...         Neutral  \n",
       "863  СТРЕЛЬНА, 29 июл -- ПРАЙМ. Правительство предо...         Neutral  \n",
       "872  С.-ПЕТЕРБУРГ, 29 июл -- ПРАЙМ. В ходе второго ...        Positive  \n",
       "879  МОСКВА, 30 июл -- ПРАЙМ. Власти Санкт-Петербур...         Neutral  \n",
       "853  МОСКВА, 29 июл -- ПРАЙМ. Совфет Федерации одоб...         Neutral  \n",
       "954  С.-ПЕТЕРБУРГ, 28 июл -- ПРАЙМ. Компания по киб...         Neutral  "
      ]
     },
     "execution_count": 592,
     "metadata": {},
     "output_type": "execute_result"
    }
   ],
   "source": [
    "# выполним label-encoding\n",
    "encoder = LabelEncoder().fit(train_news['sentiment_label'])\n",
    "train_news['sentiment'] = encoder.transform(train_news['sentiment_label'])\n",
    "# делим набор для начала активного обучения\n",
    "labeled_news, unlabeled_news = train_test_split(train_news, train_size=0.2, random_state=42)\n",
    "# обучение модели\n",
    "model, vectorizer = train_model(labeled_news)\n",
    "# предсказание\n",
    "X_unlabeled = vectorizer.transform(unlabeled_news['text']) \n",
    "y_unlabeled_predicted = model.predict(X_unlabeled)\n",
    "# определение энтропии данных\n",
    "y_unlabeled_proba = model.predict_proba(X_unlabeled) \n",
    "uncertainty = -(y_unlabeled_proba * np.log2(y_unlabeled_proba)).sum(axis=1)\n",
    "# поиск записей требующих разметки человеком\n",
    "labeled_news_new = unlabeled_news.iloc[uncertainty.argsort()[:20]][['date','article','text','sentiment_label']]\n",
    "# требуется ручная разметка\n",
    "labeled_news_new.to_csv('uncertainty.csv')\n",
    "labeled_news_new.head(10)"
   ]
  },
  {
   "cell_type": "markdown",
   "id": "5fa6d416",
   "metadata": {},
   "source": [
    "![Markup LabelStudio](./label.jpg \"LabelStudio\")"
   ]
  },
  {
   "cell_type": "code",
   "execution_count": 593,
   "id": "17c8ab14",
   "metadata": {},
   "outputs": [],
   "source": [
    "# загрузка после ручной разметки\n",
    "labeled_news_new = pd.read_csv('labeled.csv', engine='python', encoding='utf-8', error_bad_lines=False)\n",
    "labeled_news_new = labeled_news_new[['date','article','text','sentiment']]\n",
    "# выполним label-encoding\n",
    "labeled_news_new['sentiment_label'] = labeled_news_new['sentiment']\n",
    "labeled_news_new['sentiment'] = encoder.transform(labeled_news_new['sentiment_label'])\n",
    "# объединение наборов\n",
    "labeled_news = pd.concat([labeled_news, labeled_news_new])\n",
    "# не забываем перемешать\n",
    "labeled_news = shuffle(labeled_news)\n",
    "# делим набор на обучающий и тестовый\n",
    "train_news, test_news = train_test_split(labeled_news, train_size=0.2, random_state=80)\n",
    "# переобучение модели на полных данных\n",
    "model, vectorizer = train_model(train_news)"
   ]
  },
  {
   "cell_type": "code",
   "execution_count": 603,
   "id": "5cba4579",
   "metadata": {},
   "outputs": [
    {
     "name": "stdout",
     "output_type": "stream",
     "text": [
      "f1=0.38283362727807174\n",
      "метрика очень слабая - необходимо улучшение правил разметки и повышение количества строк обработанных человеком\n"
     ]
    }
   ],
   "source": [
    "# расчитываем метрику\n",
    "X_test = vectorizer.transform(test_news['text']) \n",
    "y_test_predicted = model.predict(X_test) \n",
    "\n",
    "f1 = f1_score(np.array(test_news['sentiment']), y_test_predicted, average='macro')\n",
    "\n",
    "print(f'f1={f1}\\nметрика очень слабая - необходимо улучшение правил разметки и повышение количества строк обработанных человеком')"
   ]
  },
  {
   "cell_type": "markdown",
   "id": "a5e66106",
   "metadata": {},
   "source": [
    "<center> поскольку у нас три класса используем averago='micro' </center>\n",
    "\n",
    "![averago='micro'](./micro.png \"averago=micro\")"
   ]
  },
  {
   "cell_type": "code",
   "execution_count": 597,
   "id": "48404244",
   "metadata": {},
   "outputs": [
    {
     "data": {
      "text/html": [
       "<div>\n",
       "<style scoped>\n",
       "    .dataframe tbody tr th:only-of-type {\n",
       "        vertical-align: middle;\n",
       "    }\n",
       "\n",
       "    .dataframe tbody tr th {\n",
       "        vertical-align: top;\n",
       "    }\n",
       "\n",
       "    .dataframe thead th {\n",
       "        text-align: right;\n",
       "    }\n",
       "</style>\n",
       "<table border=\"1\" class=\"dataframe\">\n",
       "  <thead>\n",
       "    <tr style=\"text-align: right;\">\n",
       "      <th></th>\n",
       "      <th>date</th>\n",
       "      <th>article</th>\n",
       "      <th>text</th>\n",
       "      <th>sentiment_label</th>\n",
       "    </tr>\n",
       "  </thead>\n",
       "  <tbody>\n",
       "    <tr>\n",
       "      <th>0</th>\n",
       "      <td>2024-04-08 00:00:00</td>\n",
       "      <td>Борьба Мосбиржи с «несправедливыми IPO»: новос...</td>\n",
       "      <td>Investing.com — Мосбиржа внедрит сервис для бо...</td>\n",
       "      <td>Neutral</td>\n",
       "    </tr>\n",
       "    <tr>\n",
       "      <th>1</th>\n",
       "      <td>2024-04-08 00:00:00</td>\n",
       "      <td>Главные новости: самолеты Boeing продолжают ра...</td>\n",
       "      <td>Investing.com — На этой неделе начнется новый ...</td>\n",
       "      <td>Positive</td>\n",
       "    </tr>\n",
       "    <tr>\n",
       "      <th>2</th>\n",
       "      <td>2024-04-08 00:00:00</td>\n",
       "      <td>«Конгрессу надо действовать быстро»: эксперт п...</td>\n",
       "      <td>Investing.com — Из-за высокого давления госдол...</td>\n",
       "      <td>Positive</td>\n",
       "    </tr>\n",
       "    <tr>\n",
       "      <th>3</th>\n",
       "      <td>2024-04-08 00:00:00</td>\n",
       "      <td>США пытаются наладить отношения с Китам, но ес...</td>\n",
       "      <td>Investing.com — Министр финансов США Джанет Йе...</td>\n",
       "      <td>Neutral</td>\n",
       "    </tr>\n",
       "    <tr>\n",
       "      <th>4</th>\n",
       "      <td>2024-04-09 00:00:00</td>\n",
       "      <td>Взрывной рост Toncoin: новости к утру 9 апреля</td>\n",
       "      <td>Investing.com — Toncoin обновил исторический м...</td>\n",
       "      <td>Neutral</td>\n",
       "    </tr>\n",
       "    <tr>\n",
       "      <th>5</th>\n",
       "      <td>2024-04-09 00:00:00</td>\n",
       "      <td>Инфляционные ожидания в США стабилизируются</td>\n",
       "      <td>Investing.com — Ожидания американских потребит...</td>\n",
       "      <td>Neutral</td>\n",
       "    </tr>\n",
       "    <tr>\n",
       "      <th>6</th>\n",
       "      <td>2024-04-09 00:00:00</td>\n",
       "      <td>Главные новости: выступления спикеров ФРС и но...</td>\n",
       "      <td>Investing.com — В преддверии выхода ключевых д...</td>\n",
       "      <td>Positive</td>\n",
       "    </tr>\n",
       "    <tr>\n",
       "      <th>7</th>\n",
       "      <td>2024-03-31 00:00:00</td>\n",
       "      <td>Топ-5 событий на этой неделе: экономданные из ...</td>\n",
       "      <td>Investing.com — Данные по занятости в США в пя...</td>\n",
       "      <td>Positive</td>\n",
       "    </tr>\n",
       "    <tr>\n",
       "      <th>8</th>\n",
       "      <td>2024-03-17 00:00:00</td>\n",
       "      <td>Топ-5 недели: в центре внимания - решения цент...</td>\n",
       "      <td>Investing.com — Решения центральных банков буд...</td>\n",
       "      <td>Neutral</td>\n",
       "    </tr>\n",
       "    <tr>\n",
       "      <th>9</th>\n",
       "      <td>2024-03-18 00:00:00</td>\n",
       "      <td>Явная победа Путина на выборах: новости к утру...</td>\n",
       "      <td>Investing.com — Путин набирает 87,33% на выбор...</td>\n",
       "      <td>Neutral</td>\n",
       "    </tr>\n",
       "  </tbody>\n",
       "</table>\n",
       "</div>"
      ],
      "text/plain": [
       "                  date                                            article  \\\n",
       "0  2024-04-08 00:00:00  Борьба Мосбиржи с «несправедливыми IPO»: новос...   \n",
       "1  2024-04-08 00:00:00  Главные новости: самолеты Boeing продолжают ра...   \n",
       "2  2024-04-08 00:00:00  «Конгрессу надо действовать быстро»: эксперт п...   \n",
       "3  2024-04-08 00:00:00  США пытаются наладить отношения с Китам, но ес...   \n",
       "4  2024-04-09 00:00:00     Взрывной рост Toncoin: новости к утру 9 апреля   \n",
       "5  2024-04-09 00:00:00        Инфляционные ожидания в США стабилизируются   \n",
       "6  2024-04-09 00:00:00  Главные новости: выступления спикеров ФРС и но...   \n",
       "7  2024-03-31 00:00:00  Топ-5 событий на этой неделе: экономданные из ...   \n",
       "8  2024-03-17 00:00:00  Топ-5 недели: в центре внимания - решения цент...   \n",
       "9  2024-03-18 00:00:00  Явная победа Путина на выборах: новости к утру...   \n",
       "\n",
       "                                                text sentiment_label  \n",
       "0  Investing.com — Мосбиржа внедрит сервис для бо...         Neutral  \n",
       "1  Investing.com — На этой неделе начнется новый ...        Positive  \n",
       "2  Investing.com — Из-за высокого давления госдол...        Positive  \n",
       "3  Investing.com — Министр финансов США Джанет Йе...         Neutral  \n",
       "4  Investing.com — Toncoin обновил исторический м...         Neutral  \n",
       "5  Investing.com — Ожидания американских потребит...         Neutral  \n",
       "6  Investing.com — В преддверии выхода ключевых д...        Positive  \n",
       "7  Investing.com — Данные по занятости в США в пя...        Positive  \n",
       "8  Investing.com — Решения центральных банков буд...         Neutral  \n",
       "9  Investing.com — Путин набирает 87,33% на выбор...         Neutral  "
      ]
     },
     "execution_count": 597,
     "metadata": {},
     "output_type": "execute_result"
    }
   ],
   "source": [
    "# формируем итоговый набор с предсказанными классами\n",
    "X = vectorizer.transform(news['text']) \n",
    "y_predicted = model.predict(X) \n",
    "\n",
    "news = pd.DataFrame({'date': news['date'], 'article':news['article'], 'text':news['text'], 'sentiment_label': encoder.inverse_transform(y_predicted)})\n",
    "\n",
    "news.head(10)"
   ]
  },
  {
   "cell_type": "code",
   "execution_count": 598,
   "id": "4c5b9a58",
   "metadata": {},
   "outputs": [],
   "source": [
    "news.to_csv('result.csv')"
   ]
  },
  {
   "cell_type": "code",
   "execution_count": null,
   "id": "e5374bf0",
   "metadata": {},
   "outputs": [],
   "source": []
  }
 ],
 "metadata": {
  "kernelspec": {
   "display_name": "Python 3",
   "language": "python",
   "name": "python3"
  },
  "language_info": {
   "codemirror_mode": {
    "name": "ipython",
    "version": 3
   },
   "file_extension": ".py",
   "mimetype": "text/x-python",
   "name": "python",
   "nbconvert_exporter": "python",
   "pygments_lexer": "ipython3",
   "version": "3.6.2"
  }
 },
 "nbformat": 4,
 "nbformat_minor": 5
}
