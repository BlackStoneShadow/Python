{
 "cells": [
  {
   "cell_type": "code",
   "execution_count": 1,
   "id": "a2f88d15",
   "metadata": {},
   "outputs": [
    {
     "name": "stdout",
     "output_type": "stream",
     "text": [
      "Note: you may need to restart the kernel to use updated packages.\n"
     ]
    },
    {
     "name": "stderr",
     "output_type": "stream",
     "text": [
      "\"c:\\program\" ­Ґ пў«пҐвбп ў­гваҐ­­Ґ© Ё«Ё ў­Ґи­Ґ©\n",
      "Є®¬ ­¤®©, ЁбЇ®«­пҐ¬®© Їа®Ја ¬¬®© Ё«Ё Ї ЄҐв­л¬ д ©«®¬.\n"
     ]
    }
   ],
   "source": [
    "pip install pandas"
   ]
  },
  {
   "cell_type": "code",
   "execution_count": 2,
   "id": "94ee8267",
   "metadata": {},
   "outputs": [
    {
     "name": "stdout",
     "output_type": "stream",
     "text": [
      "Note: you may need to restart the kernel to use updated packages.\n"
     ]
    },
    {
     "name": "stderr",
     "output_type": "stream",
     "text": [
      "\"c:\\program\" ­Ґ пў«пҐвбп ў­гваҐ­­Ґ© Ё«Ё ў­Ґи­Ґ©\n",
      "Є®¬ ­¤®©, ЁбЇ®«­пҐ¬®© Їа®Ја ¬¬®© Ё«Ё Ї ЄҐв­л¬ д ©«®¬.\n"
     ]
    }
   ],
   "source": [
    "pip install seaborn"
   ]
  },
  {
   "cell_type": "code",
   "execution_count": 3,
   "id": "5b23853e",
   "metadata": {},
   "outputs": [
    {
     "name": "stdout",
     "output_type": "stream",
     "text": [
      "Note: you may need to restart the kernel to use updated packages.\n"
     ]
    },
    {
     "name": "stderr",
     "output_type": "stream",
     "text": [
      "\"c:\\program\" ­Ґ пў«пҐвбп ў­гваҐ­­Ґ© Ё«Ё ў­Ґи­Ґ©\n",
      "Є®¬ ­¤®©, ЁбЇ®«­пҐ¬®© Їа®Ја ¬¬®© Ё«Ё Ї ЄҐв­л¬ д ©«®¬.\n"
     ]
    }
   ],
   "source": [
    "pip install scikit-learn"
   ]
  },
  {
   "cell_type": "code",
   "execution_count": 4,
   "id": "42f53889",
   "metadata": {},
   "outputs": [
    {
     "ename": "ModuleNotFoundError",
     "evalue": "No module named 'pandas'",
     "output_type": "error",
     "traceback": [
      "\u001b[1;31m---------------------------------------------------------------------------\u001b[0m",
      "\u001b[1;31mModuleNotFoundError\u001b[0m                       Traceback (most recent call last)",
      "\u001b[1;32m<ipython-input-4-0df16e96514a>\u001b[0m in \u001b[0;36m<module>\u001b[1;34m\u001b[0m\n\u001b[1;32m----> 1\u001b[1;33m \u001b[1;32mimport\u001b[0m \u001b[0mpandas\u001b[0m \u001b[1;32mas\u001b[0m \u001b[0mpd\u001b[0m\u001b[1;33m\u001b[0m\u001b[0m\n\u001b[0m\u001b[0;32m      2\u001b[0m \u001b[1;32mimport\u001b[0m \u001b[0mseaborn\u001b[0m \u001b[1;32mas\u001b[0m \u001b[0msns\u001b[0m\u001b[1;33m\u001b[0m\u001b[0m\n\u001b[0;32m      3\u001b[0m \u001b[1;32mimport\u001b[0m \u001b[0mmatplotlib\u001b[0m\u001b[1;33m.\u001b[0m\u001b[0mpyplot\u001b[0m \u001b[1;32mas\u001b[0m \u001b[0mplt\u001b[0m\u001b[1;33m\u001b[0m\u001b[0m\n\u001b[0;32m      4\u001b[0m \u001b[1;32mfrom\u001b[0m \u001b[0mscipy\u001b[0m \u001b[1;32mimport\u001b[0m \u001b[0mstats\u001b[0m\u001b[1;33m\u001b[0m\u001b[0m\n\u001b[0;32m      5\u001b[0m \u001b[1;32mfrom\u001b[0m \u001b[0mscipy\u001b[0m\u001b[1;33m.\u001b[0m\u001b[0mstats\u001b[0m\u001b[1;33m.\u001b[0m\u001b[0mmstats\u001b[0m \u001b[1;32mimport\u001b[0m \u001b[0mwinsorize\u001b[0m\u001b[1;33m\u001b[0m\u001b[0m\n",
      "\u001b[1;31mModuleNotFoundError\u001b[0m: No module named 'pandas'"
     ]
    }
   ],
   "source": [
    "import pandas as pd\n",
    "import seaborn as sns\n",
    "import matplotlib.pyplot as plt\n",
    "from scipy import stats\n",
    "from scipy.stats.mstats import winsorize\n",
    "from sklearn.preprocessing import StandardScaler\n",
    "from sklearn.preprocessing import LabelEncoder"
   ]
  },
  {
   "cell_type": "code",
   "execution_count": null,
   "id": "22c15f5e",
   "metadata": {},
   "outputs": [],
   "source": [
    "df = pd.read_csv('googleplaystore.csv')"
   ]
  },
  {
   "cell_type": "code",
   "execution_count": null,
   "id": "15867c05",
   "metadata": {},
   "outputs": [],
   "source": [
    "df.head()"
   ]
  },
  {
   "cell_type": "code",
   "execution_count": null,
   "id": "b3e05c8f",
   "metadata": {},
   "outputs": [],
   "source": [
    "df.info()"
   ]
  },
  {
   "cell_type": "code",
   "execution_count": null,
   "id": "bcf11dd2",
   "metadata": {},
   "outputs": [],
   "source": [
    "df.isnull().sum()"
   ]
  },
  {
   "cell_type": "code",
   "execution_count": null,
   "id": "24130f6b",
   "metadata": {},
   "outputs": [],
   "source": [
    "mean_rating = df['Rating'].mean()\n",
    "df['Rating'] = df['Rating'].fillna(mean_rating)\n",
    "mean_rating"
   ]
  },
  {
   "cell_type": "code",
   "execution_count": null,
   "id": "cdaa93ad",
   "metadata": {},
   "outputs": [],
   "source": [
    "df.info()"
   ]
  },
  {
   "cell_type": "code",
   "execution_count": null,
   "id": "74f82ba0",
   "metadata": {},
   "outputs": [],
   "source": [
    "df.loc[df['Installs']=='Free']"
   ]
  },
  {
   "cell_type": "code",
   "execution_count": null,
   "id": "7969dc0d",
   "metadata": {},
   "outputs": [],
   "source": [
    "df['Installs'] = df['Installs'].str.replace(',','').str.replace('+','').astype(int)"
   ]
  },
  {
   "cell_type": "code",
   "execution_count": null,
   "id": "ce833a25",
   "metadata": {
    "scrolled": true
   },
   "outputs": [],
   "source": [
    "duplicates = df.duplicated()\n",
    "df[duplicates]"
   ]
  },
  {
   "cell_type": "code",
   "execution_count": null,
   "id": "be1538ad",
   "metadata": {},
   "outputs": [],
   "source": [
    "df = df.drop_duplicates()"
   ]
  },
  {
   "cell_type": "code",
   "execution_count": null,
   "id": "23ff3981",
   "metadata": {},
   "outputs": [],
   "source": [
    "apps = df[['Category', 'Rating', 'Reviews', 'Installs']]"
   ]
  },
  {
   "cell_type": "code",
   "execution_count": null,
   "id": "ca5d70dc",
   "metadata": {},
   "outputs": [],
   "source": [
    "apps.info()"
   ]
  },
  {
   "cell_type": "code",
   "execution_count": null,
   "id": "2fc2e7d2",
   "metadata": {},
   "outputs": [],
   "source": [
    "sns.pairplot(apps, hue='Category')"
   ]
  },
  {
   "cell_type": "code",
   "execution_count": null,
   "id": "de1b02c1",
   "metadata": {},
   "outputs": [],
   "source": [
    "df.to_csv('googleplaystore_prepare.csv',index=False)"
   ]
  },
  {
   "cell_type": "code",
   "execution_count": null,
   "id": "a346ea6d",
   "metadata": {},
   "outputs": [],
   "source": [
    "#df=df.loc[df['Installs']<1_000_000]"
   ]
  },
  {
   "cell_type": "code",
   "execution_count": null,
   "id": "e39bc512",
   "metadata": {},
   "outputs": [],
   "source": [
    "category_counts=df['Category'].value_counts()\n",
    "plt.bar(category_counts.index, category_counts.values)\n",
    "plt.xticks(rotation=90)\n",
    "plt.xlabel('App Category')\n",
    "plt.ylabel('Count')\n",
    "plt.show()"
   ]
  },
  {
   "cell_type": "code",
   "execution_count": null,
   "id": "befac9e8",
   "metadata": {},
   "outputs": [],
   "source": [
    "plt.hist(df['Rating'])\n",
    "plt.xlabel('Rating')\n",
    "plt.ylabel('Count')\n",
    "plt.show()"
   ]
  },
  {
   "cell_type": "code",
   "execution_count": null,
   "id": "55006348",
   "metadata": {},
   "outputs": [],
   "source": [
    "plt.hist(df['Installs'])\n",
    "plt.xlabel('Installs')\n",
    "plt.ylabel('Count')\n",
    "plt.show()"
   ]
  },
  {
   "cell_type": "code",
   "execution_count": null,
   "id": "ce865400",
   "metadata": {},
   "outputs": [],
   "source": [
    "plt.hist(df['Reviews'])\n",
    "plt.xlabel('Reviews')\n",
    "plt.ylabel('Count')\n",
    "plt.show()"
   ]
  },
  {
   "cell_type": "code",
   "execution_count": null,
   "id": "e799ab83",
   "metadata": {},
   "outputs": [],
   "source": [
    "summary_stats=df[['Rating','Reviews','Installs']].describe()\n",
    "summary_stats"
   ]
  },
  {
   "cell_type": "code",
   "execution_count": null,
   "id": "70a7515b",
   "metadata": {},
   "outputs": [],
   "source": [
    "# сглаживание выбросов\n",
    "z_scores = stats.zscore(df['Installs'])\n",
    "threshold = 3\n",
    "outliers = df['Installs'][z_scores > threshold]\n",
    "df.loc[z_scores > threshold, 'Installs'] = df['Installs'].median()"
   ]
  },
  {
   "cell_type": "code",
   "execution_count": null,
   "id": "4138a45b",
   "metadata": {},
   "outputs": [],
   "source": [
    "plt.hist(df['Installs'])\n",
    "plt.xlabel('Installs')\n",
    "plt.ylabel('Count')\n",
    "plt.show()"
   ]
  },
  {
   "cell_type": "code",
   "execution_count": null,
   "id": "e7be6732",
   "metadata": {},
   "outputs": [],
   "source": [
    "# сглаживание выбросов\n",
    "z_scores = stats.zscore(df['Reviews'])\n",
    "threshold = 3\n",
    "outliers = df['Reviews'][z_scores > threshold]\n",
    "df.loc[z_scores > threshold, 'Reviews'] = df['Reviews'].median()"
   ]
  },
  {
   "cell_type": "code",
   "execution_count": null,
   "id": "96424dd6",
   "metadata": {},
   "outputs": [],
   "source": [
    "plt.hist(df['Reviews'])\n",
    "plt.xlabel('Reviews')\n",
    "plt.ylabel('Count')\n",
    "plt.show()"
   ]
  },
  {
   "cell_type": "code",
   "execution_count": null,
   "id": "f3aaff69",
   "metadata": {},
   "outputs": [],
   "source": [
    "# Винсонаризация - выбросы принимают заданную нижнию и вернию границу№\n",
    "df['Rating'] = winsorize(df['Rating'], limits=[0.1, 0.1]) "
   ]
  },
  {
   "cell_type": "code",
   "execution_count": null,
   "id": "c2f18bac",
   "metadata": {},
   "outputs": [],
   "source": [
    "plt.hist(df['Rating'])\n",
    "plt.xlabel('Rating')\n",
    "plt.ylabel('Count')\n",
    "plt.show()"
   ]
  },
  {
   "cell_type": "code",
   "execution_count": null,
   "id": "f5f0ce6d",
   "metadata": {},
   "outputs": [],
   "source": [
    "# стандартизация - медиана = 0, std стремиться к 1, применяется для машинного обучения\n",
    "scaler = StandardScaler()\n",
    "df[['Rating']] = scaler.fit_transform(df[['Rating']])"
   ]
  },
  {
   "cell_type": "code",
   "execution_count": null,
   "id": "dbbec7b2",
   "metadata": {
    "scrolled": false
   },
   "outputs": [],
   "source": [
    "plt.hist(df['Rating'])\n",
    "plt.xlabel('Rating')\n",
    "plt.ylabel('Count')\n",
    "plt.show()"
   ]
  },
  {
   "cell_type": "code",
   "execution_count": null,
   "id": "ee42b7fa",
   "metadata": {},
   "outputs": [],
   "source": [
    "df = pd.read_csv('googleplaystore.csv')"
   ]
  },
  {
   "cell_type": "code",
   "execution_count": null,
   "id": "6231147a",
   "metadata": {},
   "outputs": [],
   "source": [
    "# Кодирование данных для машинного обучения\n",
    "le = LabelEncoder()\n",
    "df['Type_Encoded'] = le.fit_transform(df['Type'])\n",
    "df.head()"
   ]
  },
  {
   "cell_type": "code",
   "execution_count": null,
   "id": "b62ffe39",
   "metadata": {},
   "outputs": [],
   "source": [
    "# one-hot encoding тоже для машинного обучения\n",
    "df = pd.get_dummies(df, columns=['Content Rating'], prefix='ContentRating', drop_first=True)"
   ]
  },
  {
   "cell_type": "code",
   "execution_count": null,
   "id": "7c569e28",
   "metadata": {},
   "outputs": [],
   "source": [
    "df.head() "
   ]
  },
  {
   "cell_type": "code",
   "execution_count": null,
   "id": "b75e017f",
   "metadata": {},
   "outputs": [],
   "source": [
    "pivot_table = df.pivot_table(index='Category', columns='ContentRating_Teen', values='Rating', aggfunc='mean')\n",
    "pivot_table"
   ]
  },
  {
   "cell_type": "code",
   "execution_count": null,
   "id": "a2326f92",
   "metadata": {},
   "outputs": [],
   "source": []
  }
 ],
 "metadata": {
  "kernelspec": {
   "display_name": "Python 3",
   "language": "python",
   "name": "python3"
  },
  "language_info": {
   "codemirror_mode": {
    "name": "ipython",
    "version": 3
   },
   "file_extension": ".py",
   "mimetype": "text/x-python",
   "name": "python",
   "nbconvert_exporter": "python",
   "pygments_lexer": "ipython3",
   "version": "3.6.2"
  }
 },
 "nbformat": 4,
 "nbformat_minor": 5
}
