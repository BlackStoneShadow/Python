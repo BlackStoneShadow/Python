{
 "cells": [
  {
   "cell_type": "markdown",
   "metadata": {},
   "source": [
    "## Линейная регрессия при помощи библиотеки sklearn"
   ]
  },
  {
   "cell_type": "code",
   "execution_count": 1,
   "metadata": {},
   "outputs": [],
   "source": [
    "# Импортируем модель линейной регрессии\n",
    "from sklearn.linear_model import LinearRegression"
   ]
  },
  {
   "cell_type": "markdown",
   "metadata": {},
   "source": [
    "Для обучения возьмем данные о ценах на дома в Бостоне. https://scikit-learn.org/stable/datasets/toy_dataset.html#boston-dataset"
   ]
  },
  {
   "cell_type": "code",
   "execution_count": 7,
   "metadata": {},
   "outputs": [
    {
     "data": {
      "text/plain": [
       "(506, 13)"
      ]
     },
     "execution_count": 7,
     "metadata": {},
     "output_type": "execute_result"
    }
   ],
   "source": [
    "# Функция для загрузки встроенного датасета\n",
    "from sklearn.datasets import load_boston\n",
    "\n",
    "# Сразу делим данные на матрицу признаков X и вектор с целевой переменно y\n",
    "X, y = load_boston(return_X_y=True)\n",
    "\n",
    "# Посмотрим на размер матрицы признаков\n",
    "print(X.shape)"
   ]
  },
  {
   "cell_type": "markdown",
   "metadata": {},
   "source": [
    "В нашей матрице признаков 506 строк и 13 столбцов, сколько признаков имеет наш датасет?"
   ]
  },
  {
   "cell_type": "markdown",
   "metadata": {},
   "source": [
    "## Создание и обучение модели\n",
    "Модель sklearn создается так: `model = LinearRegression()`\n",
    "\n",
    "Обучение модели в sklearn происходит при помощи метода `fit()` этому методу на вход подаются матрица признаков и значения целевой переменной.\n",
    "\n",
    "Для того, чтобы построить предсказания, для оценки качества модели, обучим линейную регрессию на первых 500 наблюдениях, а затем предскажем оставшиеся 6"
   ]
  },
  {
   "cell_type": "code",
   "execution_count": 10,
   "metadata": {},
   "outputs": [
    {
     "data": {
      "text/plain": [
       "LinearRegression()"
      ]
     },
     "execution_count": 10,
     "metadata": {},
     "output_type": "execute_result"
    }
   ],
   "source": [
    "# Создаем модель линейной регрессии\n",
    "model = LinearRegression()\n",
    "\n",
    "# Обучаем модель\n",
    "model.fit(X[:500], y[:500])"
   ]
  },
  {
   "cell_type": "markdown",
   "metadata": {},
   "source": [
    "## Предсказание\n",
    "\n",
    "Для предсказания при помощи обученой модели в sklearn используется метод `predict()` ему на вход подается матрица признаков и он возвращает вектор(или матрицу) с предсказанными значениями целевой переменной"
   ]
  },
  {
   "cell_type": "code",
   "execution_count": 12,
   "metadata": {},
   "outputs": [
    {
     "name": "stdout",
     "output_type": "stream",
     "text": [
      "[20.67313667 23.99202547 22.86600965 28.17894777 26.65926677 22.84943851]\n"
     ]
    }
   ],
   "source": [
    "preds = model.predict(X[500:])\n",
    "\n",
    "print(preds)"
   ]
  },
  {
   "cell_type": "markdown",
   "metadata": {},
   "source": [
    "## Оценка качества модели\n",
    "\n",
    "Для того, чтобы понять хорошо или плохо модель справляется с задачей смотрят на различные метрики. Давайте сначала импортируем среднеквадратичную ошибку и посмотрим на результат.\n",
    "\n",
    "В sklearn метрики находятся в модуле `metrics`"
   ]
  },
  {
   "cell_type": "code",
   "execution_count": 14,
   "metadata": {},
   "outputs": [
    {
     "name": "stdout",
     "output_type": "stream",
     "text": [
      "30.42981616181633\n"
     ]
    }
   ],
   "source": [
    "# Импортируем MSE\n",
    "from sklearn.metrics import mean_squared_error\n",
    "\n",
    "# На вход функция принимает вектор предсказанных и настоящих значений целевой переменной\n",
    "mse = mean_squared_error(preds, y[500:])\n",
    "\n",
    "print(mse)"
   ]
  },
  {
   "cell_type": "markdown",
   "metadata": {},
   "source": [
    "Среднеквадратичная ошибка составила 30.4 - но по одному такому значению тяжело судить о качестве модели, поэтому сравним ее корень (RMSE) со средним значением целевой переменной"
   ]
  },
  {
   "cell_type": "code",
   "execution_count": 17,
   "metadata": {},
   "outputs": [
    {
     "name": "stdout",
     "output_type": "stream",
     "text": [
      "Среднее значение целевой переменной: 22.532806324110677\n",
      "RMSE: 5.516322702835317\n"
     ]
    }
   ],
   "source": [
    "# Корень из среднеквадратичной ошибки\n",
    "rmse = mse ** .5\n",
    "\n",
    "print(\"Среднее значение целевой переменной:\", y.mean())\n",
    "print(\"RMSE:\", rmse)"
   ]
  },
  {
   "cell_type": "markdown",
   "metadata": {},
   "source": [
    "Как видно наша модель ошибается в среднем на 20%"
   ]
  }
 ],
 "metadata": {
  "kernelspec": {
   "display_name": "Python 3",
   "language": "python",
   "name": "python3"
  },
  "language_info": {
   "codemirror_mode": {
    "name": "ipython",
    "version": 3
   },
   "file_extension": ".py",
   "mimetype": "text/x-python",
   "name": "python",
   "nbconvert_exporter": "python",
   "pygments_lexer": "ipython3",
   "version": "3.7.4"
  }
 },
 "nbformat": 4,
 "nbformat_minor": 4
}
