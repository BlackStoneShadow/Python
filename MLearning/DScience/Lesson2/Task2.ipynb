{
 "cells": [
  {
   "cell_type": "markdown",
   "metadata": {},
   "source": [
    "# Линейная регрессия."
   ]
  },
  {
   "cell_type": "code",
   "execution_count": 1,
   "metadata": {},
   "outputs": [
    {
     "data": {
      "image/png": "[encoded data removed]",
      "text/plain": [
       "<Figure size 1080x648 with 1 Axes>"
      ]
     },
     "metadata": {
      "needs_background": "light"
     },
     "output_type": "display_data"
    }
   ],
   "source": [
    "import numpy as np\n",
    "import matplotlib.pyplot as plt\n",
    "\n",
    "np.random.seed(42)\n",
    "\n",
    "x = np.random.rand(100)\n",
    "# x = np.random.uniform(0, 1, 20)\n",
    "\n",
    "def f(x): \n",
    "    return 2 * x + 1\n",
    "\n",
    "noise_variance = 0.2  \n",
    "noise = np.random.randn(x.shape[0]) * noise_variance\n",
    "y = f(x) + noise\n",
    "\n",
    "plt.figure(figsize = (15, 9))\n",
    "plt.scatter(x, y, s = 20, label = 'actual data')\n",
    "plt.plot([0, 1], [f(0), f(1)], '--', color = 'red', label = 'predicted')\n",
    "plt.xlabel('x')\n",
    "plt.ylabel('y')\n",
    "plt.legend()\n",
    "\n",
    "plt.show()"
   ]
  },
  {
   "cell_type": "markdown",
   "metadata": {},
   "source": [
    "## Среднеквадратичная ошибка\n",
    "\n",
    "$$MSE = \\frac{1}{n} \\sum_{i = 1}^{n} (y - \\hat y)^2$$\n",
    "\n",
    "где y - истинное значение целевой переменной, а $\\hat y$ - предсказанное значение целевой переменной\n",
    "\n",
    "\n",
    "**Рассмотрим пример**\n",
    "Ваш друг загадал число от 1 до 100 и попросил угадать вас, что же за число он загадал. Вы предположили, что друг загадал число 31, т.к. он родился 31-го числа. На самом деле друг загадал число 42 - как ответ на вопрос жизни, смерти и всего-всего. \n",
    "\n",
    "Таким образом квадратичная ошибка вашего предсказания равна: $(42-31)^{2} = 11^2 = 121$"
   ]
  },
  {
   "cell_type": "code",
   "execution_count": 2,
   "metadata": {},
   "outputs": [],
   "source": [
    "# Функция для вычисления MSE \n",
    "\n",
    "def mse(y_actual, y_predicted):\n",
    "    return np.mean((y_actual - y_predicted) ** 2) # расчет по формуле\n"
   ]
  },
  {
   "cell_type": "markdown",
   "metadata": {},
   "source": [
    "## Модель линейной регрессии\n",
    "\n",
    "Запишем нашу задачу в матричном виде:\n",
    "\n",
    "Пусть **X** - матрица признаков, где каждая строка это определенное наблюдение, а столбцы - различные признаки.\n",
    "\n",
    "Ей в соответствие ставится матрица (в нашем случае вектор) с целевой переменной **y**\n",
    "\n",
    "Тогда предсказание $\\hat y$ линейной регрессии можно записать в следующем виде:\n",
    "$$\\hat y = (X, w) + b$$\n",
    "\n",
    "где X - исходная матрица признаков, w - вектор весов модели, b - величина сдвига предсказания.\n",
    "\n",
    "Вектор w и значение b являются параметрами модели, которые изменяются во время обучения модели\n",
    "\n",
    "Веса w модели можно найти по формуле:\n",
    "$$w = (X^TX)^{-1}X^Ty$$ однако такой подход не подходит для реальных задач в силу своей вычислительной сложности"
   ]
  },
  {
   "cell_type": "code",
   "execution_count": 3,
   "metadata": {},
   "outputs": [],
   "source": [
    "# Функция для модели линейной регрессии\n",
    "def model(x, w):\n",
    "    return x * w"
   ]
  },
  {
   "cell_type": "markdown",
   "metadata": {},
   "source": [
    "## Производная\n",
    "\n",
    "Производная - показывает направление изменения функции. Производная функции $f(x)$ обозначается как $f'(x)$\n",
    "\n",
    "В рамках курса нам будет интересны только вычисление производной для функции $f(x) = x^{n}$: $f'(x) = nx^{n-1}$\n",
    "\n",
    "**Чему равна производная функции?** $f(x) = 3x^3 + x - 128$"
   ]
  },
  {
   "cell_type": "markdown",
   "metadata": {},
   "source": [
    "## Градиентный спуск\n",
    "\n",
    "Градиентный спуск применяется для быстрого нахождения оптимальных параметров модели\n",
    "\n",
    "Запишем задачу обучения модели как $$w = argmin_{w}(L(\\hat y, y))$$\n",
    "\n",
    "где $L$ - loss функция нашей модели, $argmin$ - функция которая находит минимум и возвращает аргумент (в нашем случае вектор параметров w) при котором он был достигнут.\n",
    "\n",
    "Конкретный вид функции потерь зависит от выбранного алгоритма, но всякая функция потерь - это **векторная функция**, т.е. она параметрами такой функции будет вектор, а значением - скаляр.\n",
    "\n",
    "**Градиент векторной функции** - это вектор, который состоит из производных функции по каждому аргументу. Градиент обозначается символом \"набла\" $\\nabla$ и показывает направление в котором находится минимум функции\n",
    "\n",
    "$$\\nabla f(x) = (\\frac{\\partial f}{\\partial x_1}, \\frac{\\partial f}{\\partial x_2}, \\ldots, \\frac{\\partial f}{\\partial x_n})$$\n",
    "\n",
    "Рассмотрим пример:\n",
    "\n",
    "$f(x) = x^3 + 2y + 13$\n",
    "\n",
    "Из школьных формул математики мы знаем, что производная функции $x^n$ равна $nx^{n-1}$ \n",
    "\n",
    "Тогда $\\nabla f(x) = 3x^2 + 2$\n",
    "\n",
    "**Чему равен градиент функции** $f(x) = 12z + 3x^2 + y + 7$ ?\n",
    "\n",
    "**Шаг градиентного спуска** записывается в следующем виде:\n",
    "\n",
    "$$ w^{(t)} = w^{(t-1)} - \\mu \\nabla f(w^{(t-1)}) $$\n",
    "\n",
    "Где $w^{(t)}$ - вектор весов в момент времени t, $\\mu$ - скорость обучения (learning rate), $f(w)$ - функция потерь\n"
   ]
  },
  {
   "cell_type": "markdown",
   "metadata": {},
   "source": [
    "## Итоговый алгоритм линейной регрессии:\n",
    "\n",
    "-    Инициализируем вектор весов. Его размер равен количеству признаков\n",
    "\n",
    "-    Считаем предсказание умножая матрицу признаков и вектор весов\n",
    "\n",
    "-    Находим значение ошибки\n",
    "\n",
    "-    При помощи градиентного спуска обновляем веса так, чтобы минимизировать ошибку"
   ]
  },
  {
   "cell_type": "code",
   "execution_count": 4,
   "metadata": {},
   "outputs": [
    {
     "name": "stdout",
     "output_type": "stream",
     "text": [
      " значения вектора весов на 0-й итерации: 0.7948 \t Средняя ошибка: 2.5946\n",
      " значения вектора весов на 1-й итерации: 2.1293 \t Средняя ошибка: 0.9183\n",
      " значения вектора весов на 2-й итерации: 2.8047 \t Средняя ошибка: 0.4889\n",
      " значения вектора весов на 3-й итерации: 3.1465 \t Средняя ошибка: 0.3789\n",
      " значения вектора весов на 4-й итерации: 3.3195 \t Средняя ошибка: 0.3507\n"
     ]
    }
   ],
   "source": [
    "# Функция, считающая градиент функции средне-квадратичной ошибки\n",
    "\n",
    "def grad(w, x, y):\n",
    "    \"\"\"y' = model(x, w)\"\"\"\n",
    "    return 2 * x * (model(x,w) - y)\n",
    "\n",
    "# Функция, считающая значение, на которое будут изменяться веса модели\n",
    "def delta_w(w_t, x, y, learning_rate):\n",
    "    return learning_rate * np.mean(grad(w_t, x, y))\n",
    "\n",
    "# Инициализируем веса случайными числами\n",
    "w = np.random.rand()\n",
    "\n",
    "# Задаем скорость обучения\n",
    "learning_rate = 0.8\n",
    "\n",
    "# Задаем количество итераций нашего алгоритма\n",
    "iterations = 4  \n",
    "\n",
    "# Массив со значениями средней ошибки для каждой итерации\n",
    "w_loss = [(w, mse(model(x, w), y))] \n",
    "\n",
    "for i in range(iterations):\n",
    "    dw = delta_w(w, x, y, learning_rate)  \n",
    "    w = w - dw  \n",
    "    w_loss.append((w, mse(model(x, w), y))) \n",
    "\n",
    "for i in range(0, len(w_loss)):\n",
    "    print(f' значения вектора весов на {i}-й итерации: {w_loss[i][0]:.4f} \\t Средняя ошибка: {w_loss[i][1]:.4f}')"
   ]
  },
  {
   "cell_type": "markdown",
   "metadata": {},
   "source": [
    "## Библиотека sklearn"
   ]
  },
  {
   "cell_type": "code",
   "execution_count": 5,
   "metadata": {},
   "outputs": [],
   "source": [
    "#!pip3 install sklearn"
   ]
  },
  {
   "cell_type": "code",
   "execution_count": 6,
   "metadata": {},
   "outputs": [],
   "source": [
    "# Модуль Линейных моделей\n",
    "from sklearn.linear_model import LinearRegression\n",
    "\n",
    "# Модуль метрик\n",
    "from sklearn.metrics import mean_squared_error\n",
    "\n",
    "# Модуль предобработки данных\n",
    "from sklearn.model_selection import train_test_split\n",
    "\n",
    "# И многое другое"
   ]
  },
  {
   "cell_type": "markdown",
   "metadata": {},
   "source": [
    "-    User guide - отлично написанный раздел с объяснением всей теории модулей и практическими примерами: https://scikit-learn.org/stable/user_guide.html\n",
    "\n",
    "-    API - документация: https://scikit-learn.org/stable/modules/classes.html"
   ]
  }
 ],
 "metadata": {
  "kernelspec": {
   "display_name": "Python 3",
   "language": "python",
   "name": "python3"
  },
  "language_info": {
   "codemirror_mode": {
    "name": "ipython",
    "version": 3
   },
   "file_extension": ".py",
   "mimetype": "text/x-python",
   "name": "python",
   "nbconvert_exporter": "python",
   "pygments_lexer": "ipython3",
   "version": "3.6.2"
  }
 },
 "nbformat": 4,
 "nbformat_minor": 4
}
