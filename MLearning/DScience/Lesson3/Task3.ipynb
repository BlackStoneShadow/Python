{
 "cells": [
  {
   "cell_type": "code",
   "execution_count": 4,
   "metadata": {},
   "outputs": [
    {
     "data": {
      "text/plain": [
       "191    4.19\n",
       "Name: tip, dtype: float64"
      ]
     },
     "execution_count": 4,
     "metadata": {},
     "output_type": "execute_result"
    }
   ],
   "source": [
    "import seaborn as sns\n",
    "data = sns.load_dataset('tips')\n",
    "\n",
    "X = data[['total_bill']]\n",
    "y = data['tip']"
   ]
  },
  {
   "cell_type": "code",
   "execution_count": 5,
   "metadata": {},
   "outputs": [
    {
     "name": "stdout",
     "output_type": "stream",
     "text": [
      "0.5688142529229537\n"
     ]
    }
   ],
   "source": [
    "# Дополните код для работы программы на месте троеточия \"...\"\n",
    "\n",
    "# Импортируйте функцию train_test_split и линейную регрессию\n",
    "# А также MSE\n",
    "from sklearn.linear_model import LinearRegression\n",
    "from sklearn.model_selection import train_test_split\n",
    "from sklearn.metrics import mean_squared_error as mse\n",
    "\n",
    "# Разделите данные на тренировочную и тестовые выборки, с отношением 20%\n",
    "X_train, X_test, y_train, y_test = train_test_split(X, y, random_state = 42, test_size = .2)\n",
    "\n",
    "# Инициализируйте и обучите модель на тренировочной выборке \n",
    "model = LinearRegression()\n",
    "model.fit(X_train, y_train)\n",
    "\n",
    "# Сделайте предсказание на тестовой выборке\n",
    "pred = model.predict(X_test)\n",
    "\n",
    "# Выведите среднеквадратичную ошибку предсказания\n",
    "print(mse(pred, y_test))"
   ]
  },
  {
   "cell_type": "code",
   "execution_count": 6,
   "metadata": {},
   "outputs": [
    {
     "name": "stdout",
     "output_type": "stream",
     "text": [
      "[0.55056043 0.6192854  0.47423732 0.23796202 0.40067601]\n",
      "Среднее отколнение: 0.45654423588476317\n"
     ]
    }
   ],
   "source": [
    "# Импортируйте кросс-валидацию\n",
    "from sklearn.model_selection import cross_validate\n",
    "\n",
    "# Инициализируйте кросс-валидацию с 5ю фолдами\n",
    "cv = cross_validate(model, X, y, cv = 5)\n",
    "\n",
    "# Выведите результаты кросс-валидации и среднее\n",
    "print(cv['test_score'])\n",
    "\n",
    "print(\"Среднее отколнение:\", cv['test_score'].mean())"
   ]
  },
  {
   "cell_type": "code",
   "execution_count": null,
   "metadata": {},
   "outputs": [],
   "source": []
  }
 ],
 "metadata": {
  "kernelspec": {
   "display_name": "Python 3",
   "language": "python",
   "name": "python3"
  },
  "language_info": {
   "codemirror_mode": {
    "name": "ipython",
    "version": 3
   },
   "file_extension": ".py",
   "mimetype": "text/x-python",
   "name": "python",
   "nbconvert_exporter": "python",
   "pygments_lexer": "ipython3",
   "version": "3.6.2"
  }
 },
 "nbformat": 4,
 "nbformat_minor": 4
}
