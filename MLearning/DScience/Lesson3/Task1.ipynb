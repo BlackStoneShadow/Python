{
 "cells": [
  {
   "cell_type": "markdown",
   "metadata": {},
   "source": [
    "## Разделение данных\n",
    "\n",
    "Для того чтобы оценить качество модели, нужно оценить ее работу на данных, которые она еще не видела.\n",
    "\n",
    "В sklearn для разделения на тренировочную и тестовую выборки есть метод `train_test_split()`"
   ]
  },
  {
   "cell_type": "code",
   "execution_count": 2,
   "metadata": {},
   "outputs": [
    {
     "name": "stdout",
     "output_type": "stream",
     "text": [
      "Размерность матрицы признаков (569, 30)\n",
      "(569,)\n"
     ]
    },
    {
     "data": {
      "text/html": [
       "<div>\n",
       "<style scoped>\n",
       "    .dataframe tbody tr th:only-of-type {\n",
       "        vertical-align: middle;\n",
       "    }\n",
       "\n",
       "    .dataframe tbody tr th {\n",
       "        vertical-align: top;\n",
       "    }\n",
       "\n",
       "    .dataframe thead th {\n",
       "        text-align: right;\n",
       "    }\n",
       "</style>\n",
       "<table border=\"1\" class=\"dataframe\">\n",
       "  <thead>\n",
       "    <tr style=\"text-align: right;\">\n",
       "      <th></th>\n",
       "      <th>mean radius</th>\n",
       "      <th>mean texture</th>\n",
       "      <th>mean perimeter</th>\n",
       "      <th>mean area</th>\n",
       "      <th>mean smoothness</th>\n",
       "      <th>mean compactness</th>\n",
       "      <th>mean concavity</th>\n",
       "      <th>mean concave points</th>\n",
       "      <th>mean symmetry</th>\n",
       "      <th>mean fractal dimension</th>\n",
       "      <th>...</th>\n",
       "      <th>worst radius</th>\n",
       "      <th>worst texture</th>\n",
       "      <th>worst perimeter</th>\n",
       "      <th>worst area</th>\n",
       "      <th>worst smoothness</th>\n",
       "      <th>worst compactness</th>\n",
       "      <th>worst concavity</th>\n",
       "      <th>worst concave points</th>\n",
       "      <th>worst symmetry</th>\n",
       "      <th>worst fractal dimension</th>\n",
       "    </tr>\n",
       "  </thead>\n",
       "  <tbody>\n",
       "    <tr>\n",
       "      <th>297</th>\n",
       "      <td>11.760</td>\n",
       "      <td>18.14</td>\n",
       "      <td>75.00</td>\n",
       "      <td>431.1</td>\n",
       "      <td>0.09968</td>\n",
       "      <td>0.05914</td>\n",
       "      <td>0.026850</td>\n",
       "      <td>0.035150</td>\n",
       "      <td>0.1619</td>\n",
       "      <td>0.06287</td>\n",
       "      <td>...</td>\n",
       "      <td>13.360</td>\n",
       "      <td>23.39</td>\n",
       "      <td>85.10</td>\n",
       "      <td>553.6</td>\n",
       "      <td>0.1137</td>\n",
       "      <td>0.07974</td>\n",
       "      <td>0.061200</td>\n",
       "      <td>0.07160</td>\n",
       "      <td>0.1978</td>\n",
       "      <td>0.06915</td>\n",
       "    </tr>\n",
       "    <tr>\n",
       "      <th>481</th>\n",
       "      <td>13.900</td>\n",
       "      <td>19.24</td>\n",
       "      <td>88.73</td>\n",
       "      <td>602.9</td>\n",
       "      <td>0.07991</td>\n",
       "      <td>0.05326</td>\n",
       "      <td>0.029950</td>\n",
       "      <td>0.020700</td>\n",
       "      <td>0.1579</td>\n",
       "      <td>0.05594</td>\n",
       "      <td>...</td>\n",
       "      <td>16.410</td>\n",
       "      <td>26.42</td>\n",
       "      <td>104.40</td>\n",
       "      <td>830.5</td>\n",
       "      <td>0.1064</td>\n",
       "      <td>0.14150</td>\n",
       "      <td>0.167300</td>\n",
       "      <td>0.08150</td>\n",
       "      <td>0.2356</td>\n",
       "      <td>0.07603</td>\n",
       "    </tr>\n",
       "    <tr>\n",
       "      <th>13</th>\n",
       "      <td>15.850</td>\n",
       "      <td>23.95</td>\n",
       "      <td>103.70</td>\n",
       "      <td>782.7</td>\n",
       "      <td>0.08401</td>\n",
       "      <td>0.10020</td>\n",
       "      <td>0.099380</td>\n",
       "      <td>0.053640</td>\n",
       "      <td>0.1847</td>\n",
       "      <td>0.05338</td>\n",
       "      <td>...</td>\n",
       "      <td>16.840</td>\n",
       "      <td>27.66</td>\n",
       "      <td>112.00</td>\n",
       "      <td>876.5</td>\n",
       "      <td>0.1131</td>\n",
       "      <td>0.19240</td>\n",
       "      <td>0.232200</td>\n",
       "      <td>0.11190</td>\n",
       "      <td>0.2809</td>\n",
       "      <td>0.06287</td>\n",
       "    </tr>\n",
       "    <tr>\n",
       "      <th>432</th>\n",
       "      <td>20.180</td>\n",
       "      <td>19.54</td>\n",
       "      <td>133.80</td>\n",
       "      <td>1250.0</td>\n",
       "      <td>0.11330</td>\n",
       "      <td>0.14890</td>\n",
       "      <td>0.213300</td>\n",
       "      <td>0.125900</td>\n",
       "      <td>0.1724</td>\n",
       "      <td>0.06053</td>\n",
       "      <td>...</td>\n",
       "      <td>22.030</td>\n",
       "      <td>25.07</td>\n",
       "      <td>146.00</td>\n",
       "      <td>1479.0</td>\n",
       "      <td>0.1665</td>\n",
       "      <td>0.29420</td>\n",
       "      <td>0.530800</td>\n",
       "      <td>0.21730</td>\n",
       "      <td>0.3032</td>\n",
       "      <td>0.08075</td>\n",
       "    </tr>\n",
       "    <tr>\n",
       "      <th>506</th>\n",
       "      <td>12.220</td>\n",
       "      <td>20.04</td>\n",
       "      <td>79.47</td>\n",
       "      <td>453.1</td>\n",
       "      <td>0.10960</td>\n",
       "      <td>0.11520</td>\n",
       "      <td>0.081750</td>\n",
       "      <td>0.021660</td>\n",
       "      <td>0.2124</td>\n",
       "      <td>0.06894</td>\n",
       "      <td>...</td>\n",
       "      <td>13.160</td>\n",
       "      <td>24.17</td>\n",
       "      <td>85.13</td>\n",
       "      <td>515.3</td>\n",
       "      <td>0.1402</td>\n",
       "      <td>0.23150</td>\n",
       "      <td>0.353500</td>\n",
       "      <td>0.08088</td>\n",
       "      <td>0.2709</td>\n",
       "      <td>0.08839</td>\n",
       "    </tr>\n",
       "    <tr>\n",
       "      <th>436</th>\n",
       "      <td>12.870</td>\n",
       "      <td>19.54</td>\n",
       "      <td>82.67</td>\n",
       "      <td>509.2</td>\n",
       "      <td>0.09136</td>\n",
       "      <td>0.07883</td>\n",
       "      <td>0.017970</td>\n",
       "      <td>0.020900</td>\n",
       "      <td>0.1861</td>\n",
       "      <td>0.06347</td>\n",
       "      <td>...</td>\n",
       "      <td>14.450</td>\n",
       "      <td>24.38</td>\n",
       "      <td>95.14</td>\n",
       "      <td>626.9</td>\n",
       "      <td>0.1214</td>\n",
       "      <td>0.16520</td>\n",
       "      <td>0.071270</td>\n",
       "      <td>0.06384</td>\n",
       "      <td>0.3313</td>\n",
       "      <td>0.07735</td>\n",
       "    </tr>\n",
       "    <tr>\n",
       "      <th>539</th>\n",
       "      <td>7.691</td>\n",
       "      <td>25.44</td>\n",
       "      <td>48.34</td>\n",
       "      <td>170.4</td>\n",
       "      <td>0.08668</td>\n",
       "      <td>0.11990</td>\n",
       "      <td>0.092520</td>\n",
       "      <td>0.013640</td>\n",
       "      <td>0.2037</td>\n",
       "      <td>0.07751</td>\n",
       "      <td>...</td>\n",
       "      <td>8.678</td>\n",
       "      <td>31.89</td>\n",
       "      <td>54.49</td>\n",
       "      <td>223.6</td>\n",
       "      <td>0.1596</td>\n",
       "      <td>0.30640</td>\n",
       "      <td>0.339300</td>\n",
       "      <td>0.05000</td>\n",
       "      <td>0.2790</td>\n",
       "      <td>0.10660</td>\n",
       "    </tr>\n",
       "    <tr>\n",
       "      <th>234</th>\n",
       "      <td>9.567</td>\n",
       "      <td>15.91</td>\n",
       "      <td>60.21</td>\n",
       "      <td>279.6</td>\n",
       "      <td>0.08464</td>\n",
       "      <td>0.04087</td>\n",
       "      <td>0.016520</td>\n",
       "      <td>0.016670</td>\n",
       "      <td>0.1551</td>\n",
       "      <td>0.06403</td>\n",
       "      <td>...</td>\n",
       "      <td>10.510</td>\n",
       "      <td>19.16</td>\n",
       "      <td>65.74</td>\n",
       "      <td>335.9</td>\n",
       "      <td>0.1504</td>\n",
       "      <td>0.09515</td>\n",
       "      <td>0.071610</td>\n",
       "      <td>0.07222</td>\n",
       "      <td>0.2757</td>\n",
       "      <td>0.08178</td>\n",
       "    </tr>\n",
       "    <tr>\n",
       "      <th>58</th>\n",
       "      <td>13.050</td>\n",
       "      <td>19.31</td>\n",
       "      <td>82.61</td>\n",
       "      <td>527.2</td>\n",
       "      <td>0.08060</td>\n",
       "      <td>0.03789</td>\n",
       "      <td>0.000692</td>\n",
       "      <td>0.004167</td>\n",
       "      <td>0.1819</td>\n",
       "      <td>0.05501</td>\n",
       "      <td>...</td>\n",
       "      <td>14.230</td>\n",
       "      <td>22.25</td>\n",
       "      <td>90.24</td>\n",
       "      <td>624.1</td>\n",
       "      <td>0.1021</td>\n",
       "      <td>0.06191</td>\n",
       "      <td>0.001845</td>\n",
       "      <td>0.01111</td>\n",
       "      <td>0.2439</td>\n",
       "      <td>0.06289</td>\n",
       "    </tr>\n",
       "    <tr>\n",
       "      <th>560</th>\n",
       "      <td>14.050</td>\n",
       "      <td>27.15</td>\n",
       "      <td>91.38</td>\n",
       "      <td>600.4</td>\n",
       "      <td>0.09929</td>\n",
       "      <td>0.11260</td>\n",
       "      <td>0.044620</td>\n",
       "      <td>0.043040</td>\n",
       "      <td>0.1537</td>\n",
       "      <td>0.06171</td>\n",
       "      <td>...</td>\n",
       "      <td>15.300</td>\n",
       "      <td>33.17</td>\n",
       "      <td>100.20</td>\n",
       "      <td>706.7</td>\n",
       "      <td>0.1241</td>\n",
       "      <td>0.22640</td>\n",
       "      <td>0.132600</td>\n",
       "      <td>0.10480</td>\n",
       "      <td>0.2250</td>\n",
       "      <td>0.08321</td>\n",
       "    </tr>\n",
       "  </tbody>\n",
       "</table>\n",
       "<p>10 rows × 30 columns</p>\n",
       "</div>"
      ],
      "text/plain": [
       "     mean radius  mean texture  mean perimeter  mean area  mean smoothness  \\\n",
       "297       11.760         18.14           75.00      431.1          0.09968   \n",
       "481       13.900         19.24           88.73      602.9          0.07991   \n",
       "13        15.850         23.95          103.70      782.7          0.08401   \n",
       "432       20.180         19.54          133.80     1250.0          0.11330   \n",
       "506       12.220         20.04           79.47      453.1          0.10960   \n",
       "436       12.870         19.54           82.67      509.2          0.09136   \n",
       "539        7.691         25.44           48.34      170.4          0.08668   \n",
       "234        9.567         15.91           60.21      279.6          0.08464   \n",
       "58        13.050         19.31           82.61      527.2          0.08060   \n",
       "560       14.050         27.15           91.38      600.4          0.09929   \n",
       "\n",
       "     mean compactness  mean concavity  mean concave points  mean symmetry  \\\n",
       "297           0.05914        0.026850             0.035150         0.1619   \n",
       "481           0.05326        0.029950             0.020700         0.1579   \n",
       "13            0.10020        0.099380             0.053640         0.1847   \n",
       "432           0.14890        0.213300             0.125900         0.1724   \n",
       "506           0.11520        0.081750             0.021660         0.2124   \n",
       "436           0.07883        0.017970             0.020900         0.1861   \n",
       "539           0.11990        0.092520             0.013640         0.2037   \n",
       "234           0.04087        0.016520             0.016670         0.1551   \n",
       "58            0.03789        0.000692             0.004167         0.1819   \n",
       "560           0.11260        0.044620             0.043040         0.1537   \n",
       "\n",
       "     mean fractal dimension  ...  worst radius  worst texture  \\\n",
       "297                 0.06287  ...        13.360          23.39   \n",
       "481                 0.05594  ...        16.410          26.42   \n",
       "13                  0.05338  ...        16.840          27.66   \n",
       "432                 0.06053  ...        22.030          25.07   \n",
       "506                 0.06894  ...        13.160          24.17   \n",
       "436                 0.06347  ...        14.450          24.38   \n",
       "539                 0.07751  ...         8.678          31.89   \n",
       "234                 0.06403  ...        10.510          19.16   \n",
       "58                  0.05501  ...        14.230          22.25   \n",
       "560                 0.06171  ...        15.300          33.17   \n",
       "\n",
       "     worst perimeter  worst area  worst smoothness  worst compactness  \\\n",
       "297            85.10       553.6            0.1137            0.07974   \n",
       "481           104.40       830.5            0.1064            0.14150   \n",
       "13            112.00       876.5            0.1131            0.19240   \n",
       "432           146.00      1479.0            0.1665            0.29420   \n",
       "506            85.13       515.3            0.1402            0.23150   \n",
       "436            95.14       626.9            0.1214            0.16520   \n",
       "539            54.49       223.6            0.1596            0.30640   \n",
       "234            65.74       335.9            0.1504            0.09515   \n",
       "58             90.24       624.1            0.1021            0.06191   \n",
       "560           100.20       706.7            0.1241            0.22640   \n",
       "\n",
       "     worst concavity  worst concave points  worst symmetry  \\\n",
       "297         0.061200               0.07160          0.1978   \n",
       "481         0.167300               0.08150          0.2356   \n",
       "13          0.232200               0.11190          0.2809   \n",
       "432         0.530800               0.21730          0.3032   \n",
       "506         0.353500               0.08088          0.2709   \n",
       "436         0.071270               0.06384          0.3313   \n",
       "539         0.339300               0.05000          0.2790   \n",
       "234         0.071610               0.07222          0.2757   \n",
       "58          0.001845               0.01111          0.2439   \n",
       "560         0.132600               0.10480          0.2250   \n",
       "\n",
       "     worst fractal dimension  \n",
       "297                  0.06915  \n",
       "481                  0.07603  \n",
       "13                   0.06287  \n",
       "432                  0.08075  \n",
       "506                  0.08839  \n",
       "436                  0.07735  \n",
       "539                  0.10660  \n",
       "234                  0.08178  \n",
       "58                   0.06289  \n",
       "560                  0.08321  \n",
       "\n",
       "[10 rows x 30 columns]"
      ]
     },
     "execution_count": 2,
     "metadata": {},
     "output_type": "execute_result"
    }
   ],
   "source": [
    "# Импортируем данные\n",
    "from sklearn.datasets import load_breast_cancer\n",
    "\n",
    "# Загружаем исходные данные\n",
    "X, y = load_breast_cancer(return_X_y = True, as_frame = True)\n",
    "\n",
    "print(\"Размерность матрицы признаков\", X.shape)\n",
    "print(y.shape)\n",
    "\n",
    "X.sample(10)"
   ]
  },
  {
   "cell_type": "code",
   "execution_count": 3,
   "metadata": {
    "scrolled": true
   },
   "outputs": [
    {
     "name": "stdout",
     "output_type": "stream",
     "text": [
      "Размерность тренировочной выборки: (455, 30)\n",
      "Размерность тестовой выборки: (114, 30)\n"
     ]
    }
   ],
   "source": [
    "# Импорт функции \n",
    "from sklearn.model_selection import train_test_split\n",
    "\n",
    "X_train, X_test, y_train, y_test = train_test_split(X, y, random_state = 42, test_size = .2)\n",
    "\n",
    "print(\"Размерность тренировочной выборки:\", X_train.shape)\n",
    "print(\"Размерность тестовой выборки:\", X_test.shape)"
   ]
  },
  {
   "cell_type": "markdown",
   "metadata": {},
   "source": [
    "## Логистическая регрессия\n",
    "\n",
    "Логистическая регрессия - вероятностная модель, предсказывающая принадлежность наблюдения какому-либо классу.\n",
    "\n",
    "Задается при помощи логистической функции: $$f(x) = \\frac{1}{1 + e^{-x}}$$\n",
    "\n",
    "Если хочется узнать математическую базу алгоритма (нужно знать теорию вероятностей): https://ru.wikipedia.org/wiki/%D0%9B%D0%BE%D0%B3%D0%B8%D1%81%D1%82%D0%B8%D1%87%D0%B5%D1%81%D0%BA%D0%B0%D1%8F_%D1%80%D0%B5%D0%B3%D1%80%D0%B5%D1%81%D1%81%D0%B8%D1%8F"
   ]
  },
  {
   "cell_type": "code",
   "execution_count": 4,
   "metadata": {
    "scrolled": false
   },
   "outputs": [
    {
     "data": {
      "image/png": "[encoded data removed]",
      "text/plain": [
       "<Figure size 720x720 with 1 Axes>"
      ]
     },
     "metadata": {
      "needs_background": "light"
     },
     "output_type": "display_data"
    }
   ],
   "source": [
    "import numpy as np\n",
    "import matplotlib.pyplot as plt\n",
    "\n",
    "def log_func(x):\n",
    "    return 1/(1 + np.exp(-x))\n",
    "\n",
    "plt.figure(figsize = (10, 10))\n",
    "plt.plot([x for x in range(-6, 7)], [log_func(x) for x in range(-6, 7)],\n",
    "        label = 'f(x) = 1/(1 + e^(-x))')\n",
    "plt.title('График логистической функции')\n",
    "plt.legend()\n",
    "\n",
    "plt.show()"
   ]
  },
  {
   "cell_type": "markdown",
   "metadata": {},
   "source": [
    "В библиотеке sklearn логистическая регрессия является частью класса `linear_model`\n",
    "\n",
    "Обучим модель на тренировочной выборке"
   ]
  },
  {
   "cell_type": "code",
   "execution_count": 7,
   "metadata": {},
   "outputs": [
    {
     "name": "stderr",
     "output_type": "stream",
     "text": [
      "d:\\project\\geekbrains\\python\\mlearning\\dscience\\lesson3\\.env\\lib\\site-packages\\sklearn\\linear_model\\_logistic.py:765: ConvergenceWarning: lbfgs failed to converge (status=1):\n",
      "STOP: TOTAL NO. of ITERATIONS REACHED LIMIT.\n",
      "\n",
      "Increase the number of iterations (max_iter) or scale the data as shown in:\n",
      "    https://scikit-learn.org/stable/modules/preprocessing.html\n",
      "Please also refer to the documentation for alternative solver options:\n",
      "    https://scikit-learn.org/stable/modules/linear_model.html#logistic-regression\n",
      "  extra_warning_msg=_LOGISTIC_SOLVER_CONVERGENCE_MSG)\n"
     ]
    },
    {
     "data": {
      "text/plain": [
       "LogisticRegression(random_state=42)"
      ]
     },
     "execution_count": 7,
     "metadata": {},
     "output_type": "execute_result"
    }
   ],
   "source": [
    "# Импортируем лог. регрессию\n",
    "from sklearn.linear_model import LogisticRegression\n",
    "\n",
    "# Создаем модель\n",
    "model = LogisticRegression(random_state = 42)\n",
    "\n",
    "model.fit(X_train, y_train)"
   ]
  },
  {
   "cell_type": "markdown",
   "metadata": {},
   "source": [
    "Т.к. это задача классификации посмотрим на accuracy и roc_auc_score на тестовых данных"
   ]
  },
  {
   "cell_type": "code",
   "execution_count": 6,
   "metadata": {},
   "outputs": [
    {
     "name": "stdout",
     "output_type": "stream",
     "text": [
      "Accuracy score: 0.956140350877193\n",
      "roc_auc_score score: 0.9604729729729731\n"
     ]
    }
   ],
   "source": [
    "from sklearn.metrics import accuracy_score, roc_auc_score\n",
    "\n",
    "pred = model.predict(X_test)\n",
    "\n",
    "print('Accuracy score:', accuracy_score(pred, y_test))\n",
    "print('roc_auc_score score:', roc_auc_score(pred, y_test))"
   ]
  },
  {
   "cell_type": "markdown",
   "metadata": {},
   "source": [
    "## Гиперпараметры и их подбор\n",
    "\n",
    "У модели логистической немного гиперпараметров, полный список можно посмотреть здесь: https://scikit-learn.org/stable/modules/generated/sklearn.linear_model.LogisticRegression.html#sklearn.linear_model.LogisticRegression\n",
    "\n",
    "Попробуем увеличить количество итераций `max_iter` с дефолтных 100 на 1000"
   ]
  },
  {
   "cell_type": "code",
   "execution_count": 8,
   "metadata": {},
   "outputs": [
    {
     "name": "stdout",
     "output_type": "stream",
     "text": [
      "Accuracy score: 0.956140350877193\n",
      "roc_auc_score score: 0.9604729729729731\n"
     ]
    },
    {
     "name": "stderr",
     "output_type": "stream",
     "text": [
      "d:\\project\\geekbrains\\python\\mlearning\\dscience\\lesson3\\.env\\lib\\site-packages\\sklearn\\linear_model\\_logistic.py:765: ConvergenceWarning: lbfgs failed to converge (status=1):\n",
      "STOP: TOTAL NO. of ITERATIONS REACHED LIMIT.\n",
      "\n",
      "Increase the number of iterations (max_iter) or scale the data as shown in:\n",
      "    https://scikit-learn.org/stable/modules/preprocessing.html\n",
      "Please also refer to the documentation for alternative solver options:\n",
      "    https://scikit-learn.org/stable/modules/linear_model.html#logistic-regression\n",
      "  extra_warning_msg=_LOGISTIC_SOLVER_CONVERGENCE_MSG)\n"
     ]
    }
   ],
   "source": [
    "model_1000 = LogisticRegression(max_iter = 1000, random_state = 42)\n",
    "\n",
    "model_1000.fit(X_train, y_train)\n",
    "pred_1000 = model_1000.predict(X_test)\n",
    "\n",
    "print('Accuracy score:', accuracy_score(pred_1000, y_test))\n",
    "print('roc_auc_score score:', roc_auc_score(pred_1000, y_test))\n"
   ]
  },
  {
   "cell_type": "markdown",
   "metadata": {},
   "source": [
    "У многих других алгоритмов, например основанных на деревьях принятия решений, о которых мы поговорим на следующем уроке, может быть очень много гиперпараметров и подбирать их оптимальную комбинацию - трудоемкий процесс.\n",
    "\n",
    "Для этих целей можно использовать встроенные в sklearn методы поиска по сетке `GridSearchCV` и случайного поиска `RandomizedSearchCV`"
   ]
  },
  {
   "cell_type": "code",
   "execution_count": 9,
   "metadata": {},
   "outputs": [
    {
     "name": "stdout",
     "output_type": "stream",
     "text": [
      "Лучшая комбинация гиперпараметров {'C': 1, 'kernel': 'linear'}\n"
     ]
    }
   ],
   "source": [
    "# Импорт модуля svm\n",
    "from sklearn import svm\n",
    "\n",
    "# Импорт функции для поиска по сетке\n",
    "from sklearn.model_selection import GridSearchCV\n",
    "\n",
    "parameters = {'kernel':('linear', 'rbf'), 'C':[1, 10]}\n",
    "\n",
    "# модель\n",
    "svc = svm.SVC()\n",
    "# поиск по сетке\n",
    "clf = GridSearchCV(svc, parameters)\n",
    "clf.fit(X_train, y_train)\n",
    "\n",
    "print(\"Лучшая комбинация гиперпараметров\", clf.best_params_)"
   ]
  },
  {
   "cell_type": "markdown",
   "metadata": {},
   "source": [
    "## Кросс-валидация\n",
    "\n",
    "Используя обычный `train_test_split` может возникнуть такая ситуация: в обучающую выборку попали лишь объекты одного класса, соответственно модель научится определять только один класс\n",
    "\n",
    "Чтобы избежать такого и других сценариев связанных со случайным разбиением данных на выборки, применяют **кросс-валидацию**\n",
    "\n",
    "Типичным примером кросс-валидации является `KFold`"
   ]
  },
  {
   "cell_type": "code",
   "execution_count": 19,
   "metadata": {},
   "outputs": [
    {
     "ename": "NameError",
     "evalue": "name 'cmap_cv' is not defined",
     "output_type": "error",
     "traceback": [
      "\u001b[1;31m---------------------------------------------------------------------------\u001b[0m",
      "\u001b[1;31mNameError\u001b[0m                                 Traceback (most recent call last)",
      "\u001b[1;32m<ipython-input-19-d4a44e7288c9>\u001b[0m in \u001b[0;36m<module>\u001b[1;34m\u001b[0m\n\u001b[0;32m     43\u001b[0m \u001b[0mgroups\u001b[0m \u001b[1;33m=\u001b[0m \u001b[1;32mNone\u001b[0m\u001b[1;33m\u001b[0m\u001b[0m\n\u001b[0;32m     44\u001b[0m \u001b[0mcv\u001b[0m \u001b[1;33m=\u001b[0m \u001b[0mKFold\u001b[0m\u001b[1;33m(\u001b[0m\u001b[0mn_splits\u001b[0m\u001b[1;33m)\u001b[0m\u001b[1;33m\u001b[0m\u001b[0m\n\u001b[1;32m---> 45\u001b[1;33m \u001b[0mplot_cv_indices\u001b[0m\u001b[1;33m(\u001b[0m\u001b[0mcv\u001b[0m\u001b[1;33m,\u001b[0m \u001b[0mX\u001b[0m\u001b[1;33m,\u001b[0m \u001b[0my\u001b[0m\u001b[1;33m,\u001b[0m \u001b[0mgroups\u001b[0m\u001b[1;33m,\u001b[0m \u001b[0max\u001b[0m\u001b[1;33m,\u001b[0m \u001b[0mn_splits\u001b[0m\u001b[1;33m)\u001b[0m\u001b[1;33m\u001b[0m\u001b[0m\n\u001b[0m",
      "\u001b[1;32m<ipython-input-19-d4a44e7288c9>\u001b[0m in \u001b[0;36mplot_cv_indices\u001b[1;34m(cv, X, y, group, ax, n_splits, lw)\u001b[0m\n\u001b[0;32m     19\u001b[0m         \u001b[1;31m# Visualize the results\u001b[0m\u001b[1;33m\u001b[0m\u001b[1;33m\u001b[0m\u001b[0m\n\u001b[0;32m     20\u001b[0m         ax.scatter(range(len(indices)), [ii + .5] * len(indices),\n\u001b[1;32m---> 21\u001b[1;33m                    \u001b[0mc\u001b[0m\u001b[1;33m=\u001b[0m\u001b[0mindices\u001b[0m\u001b[1;33m,\u001b[0m \u001b[0mmarker\u001b[0m\u001b[1;33m=\u001b[0m\u001b[1;34m'_'\u001b[0m\u001b[1;33m,\u001b[0m \u001b[0mlw\u001b[0m\u001b[1;33m=\u001b[0m\u001b[0mlw\u001b[0m\u001b[1;33m,\u001b[0m \u001b[0mcmap\u001b[0m\u001b[1;33m=\u001b[0m\u001b[0mcmap_cv\u001b[0m\u001b[1;33m,\u001b[0m\u001b[1;33m\u001b[0m\u001b[0m\n\u001b[0m\u001b[0;32m     22\u001b[0m                    vmin=-.2, vmax=1.2)\n\u001b[0;32m     23\u001b[0m \u001b[1;33m\u001b[0m\u001b[0m\n",
      "\u001b[1;31mNameError\u001b[0m: name 'cmap_cv' is not defined"
     ]
    },
    {
     "data": {
      "image/png": "[encoded data removed]",
      "text/plain": [
       "<Figure size 720x720 with 1 Axes>"
      ]
     },
     "metadata": {
      "needs_background": "light"
     },
     "output_type": "display_data"
    }
   ],
   "source": [
    "# KFold находится в модуле `model_selection`\n",
    "from sklearn.model_selection import KFold\n",
    "\n",
    "# Для визуализации\n",
    "from matplotlib.patches import Patch\n",
    "\n",
    "\n",
    "# Функция для визуализации\n",
    "def plot_cv_indices(cv, X, y, group, ax, n_splits, lw=10):\n",
    "    \"\"\"Create a sample plot for indices of a cross-validation object.\"\"\"\n",
    "\n",
    "    # Generate the training/testing visualizations for each CV split\n",
    "    for ii, (tr, tt) in enumerate(cv.split(X=X, y=y, groups=group)):\n",
    "        # Fill in indices with the training/test groups\n",
    "        indices = np.array([np.nan] * len(X))\n",
    "        indices[tt] = 1\n",
    "        indices[tr] = 0\n",
    "\n",
    "        # Visualize the results\n",
    "        ax.scatter(range(len(indices)), [ii + .5] * len(indices),\n",
    "                   c=indices, marker='_', lw=lw, cmap=cmap_cv,\n",
    "                   vmin=-.2, vmax=1.2)\n",
    "\n",
    "    # Plot the data classes and groups at the end\n",
    "    ax.scatter(range(len(X)), [ii + 1.5] * len(X),\n",
    "               c=y, marker='_', lw=lw, cmap=cmap_data)\n",
    "\n",
    "    ax.scatter(range(len(X)), [ii + 2.5] * len(X),\n",
    "               c=group, marker='_', lw=lw, cmap=cmap_data)\n",
    "\n",
    "    # Formatting\n",
    "    yticklabels = list(range(n_splits)) + ['class', 'group']\n",
    "    ax.set(yticks=np.arange(n_splits+2) + .5, yticklabels=yticklabels,\n",
    "           xlabel='Sample index', ylabel=\"CV iteration\",\n",
    "           ylim=[n_splits+2.2, -.2], xlim=[0, 100])\n",
    "    ax.set_title('{}'.format(type(cv).__name__), fontsize=15)\n",
    "    return ax\n",
    "\n",
    "\n",
    "fig, ax = plt.subplots(figsize = (10, 10))\n",
    "# Создаем KFold\n",
    "cv = KFold(n_splits)\n",
    "plot_cv_indices(cv, X, y, groups, ax, n_splits)"
   ]
  },
  {
   "cell_type": "code",
   "execution_count": null,
   "metadata": {},
   "outputs": [],
   "source": []
  }
 ],
 "metadata": {
  "kernelspec": {
   "display_name": "Python 3",
   "language": "python",
   "name": "python3"
  },
  "language_info": {
   "codemirror_mode": {
    "name": "ipython",
    "version": 3
   },
   "file_extension": ".py",
   "mimetype": "text/x-python",
   "name": "python",
   "nbconvert_exporter": "python",
   "pygments_lexer": "ipython3",
   "version": "3.6.2"
  }
 },
 "nbformat": 4,
 "nbformat_minor": 4
}
