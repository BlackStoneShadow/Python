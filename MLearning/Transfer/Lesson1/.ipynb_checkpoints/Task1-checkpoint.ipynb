{
 "cells": [
  {
   "cell_type": "markdown",
   "id": "-tFjLBCTy1DO",
   "metadata": {
    "id": "-tFjLBCTy1DO"
   },
   "source": [
    "# Перенос обучения: Семинар 1"
   ]
  },
  {
   "cell_type": "markdown",
   "id": "fYJCO8vT7cBW",
   "metadata": {
    "id": "fYJCO8vT7cBW"
   },
   "source": [
    "## Часть 1: Используем классификатор картинок"
   ]
  },
  {
   "cell_type": "markdown",
   "id": "xLXpN33oCX2w",
   "metadata": {
    "id": "xLXpN33oCX2w"
   },
   "source": [
    "### Изучим наше окружение"
   ]
  },
  {
   "cell_type": "markdown",
   "id": "zDo9n_0QEixQ",
   "metadata": {
    "id": "zDo9n_0QEixQ"
   },
   "source": [
    "А вы установили Anaconda и PyTorch?\n",
    "\n",
    "https://www.anaconda.com/download\n",
    "\n",
    "https://pytorch.org/get-started/locally/"
   ]
  },
  {
   "cell_type": "code",
   "execution_count": null,
   "id": "4PMgVYJfCbc_",
   "metadata": {
    "id": "4PMgVYJfCbc_"
   },
   "outputs": [],
   "source": [
    "import torch"
   ]
  },
  {
   "cell_type": "code",
   "execution_count": null,
   "id": "4j0_vg0dCahq",
   "metadata": {
    "colab": {
     "base_uri": "https://localhost:8080/"
    },
    "id": "4j0_vg0dCahq",
    "outputId": "9375c2f7-0008-451b-c3bf-3477e9ef4645"
   },
   "outputs": [],
   "source": [
    "x = torch.rand(5, 3)\n",
    "print(x)"
   ]
  },
  {
   "cell_type": "code",
   "execution_count": null,
   "id": "ViE_Ky6XCcTi",
   "metadata": {
    "colab": {
     "base_uri": "https://localhost:8080/"
    },
    "id": "ViE_Ky6XCcTi",
    "outputId": "9f9bf5db-43d8-4ba8-c0a0-652ca93910a7"
   },
   "outputs": [],
   "source": [
    "torch.cuda.is_available()"
   ]
  },
  {
   "cell_type": "code",
   "execution_count": null,
   "id": "nfGMpypnCfyi",
   "metadata": {
    "colab": {
     "base_uri": "https://localhost:8080/",
     "height": 35
    },
    "id": "nfGMpypnCfyi",
    "outputId": "8c06b5ea-d6d1-4d96-df73-a6356cd0a825"
   },
   "outputs": [],
   "source": [
    "torch.__version__"
   ]
  },
  {
   "cell_type": "markdown",
   "id": "e22cb77d",
   "metadata": {
    "id": "e22cb77d"
   },
   "source": [
    "### Скачиваем одно изображение\n",
    "\n",
    "Возьмем картинку из OpenImages V5 Dataset\n",
    "\n",
    "https://colab.research.google.com/github/pytorch/pytorch.github.io/blob/master/assets/hub/pytorch_vision_resnet.ipynb#scrollTo=3508095b"
   ]
  },
  {
   "cell_type": "code",
   "execution_count": null,
   "id": "X4aaWoEUDWdP",
   "metadata": {
    "colab": {
     "base_uri": "https://localhost:8080/"
    },
    "id": "X4aaWoEUDWdP",
    "outputId": "442922d8-5a3d-4ca0-c5c9-e122bd1a6ec6"
   },
   "outputs": [],
   "source": [
    "%matplotlib --list"
   ]
  },
  {
   "cell_type": "code",
   "execution_count": null,
   "id": "BwcuNQB2EP02",
   "metadata": {
    "colab": {
     "base_uri": "https://localhost:8080/"
    },
    "id": "BwcuNQB2EP02",
    "outputId": "5bbf9063-a556-417b-88ed-903fdbe9d9be"
   },
   "outputs": [],
   "source": [
    "%matplotlib"
   ]
  },
  {
   "cell_type": "code",
   "execution_count": null,
   "id": "n9zKw_WKEUDt",
   "metadata": {
    "id": "n9zKw_WKEUDt"
   },
   "outputs": [],
   "source": [
    "%matplotlib inline"
   ]
  },
  {
   "cell_type": "code",
   "execution_count": null,
   "id": "74e89d0e",
   "metadata": {
    "colab": {
     "base_uri": "https://localhost:8080/",
     "height": 435
    },
    "id": "74e89d0e",
    "outputId": "aa51794b-5b71-405d-8bac-1041f4d45e59"
   },
   "outputs": [],
   "source": [
    "# В Colab/Linux это можно сделать через утилиту wget\n",
    "#!wget -O corgi.jpg https://farm4.staticflickr.com/1301/4694470234_6f27a4f602_o.jpg\n",
    "\n",
    "# В Windows/универсально можно скачать файл через библиотеку urllib\n",
    "import urllib.request\n",
    "url = 'https://farm4.staticflickr.com/1301/4694470234_6f27a4f602_o.jpg'\n",
    "filename = 'corgi.jpg'\n",
    "urllib.request.urlretrieve(url, filename)\n",
    "\n",
    "from PIL import Image\n",
    "from matplotlib import pyplot as plt\n",
    "\n",
    "img = Image.open('corgi.jpg');\n",
    "plt.imshow(img);"
   ]
  },
  {
   "cell_type": "markdown",
   "id": "B_nHacgFyY8n",
   "metadata": {
    "id": "B_nHacgFyY8n"
   },
   "source": [
    "### Загрузим модель"
   ]
  },
  {
   "cell_type": "markdown",
   "id": "1Wn4C22o7YyK",
   "metadata": {
    "id": "1Wn4C22o7YyK"
   },
   "source": [
    "Модели Resnet были предложены в статье [Deep Residual Learning for Image Recognition](https://arxiv.org/abs/1512.03385). Начать использование удобно с одной из 5 самых распространенных версий модели, которые содержат 18, 34, 50, 101, 152 слоя соответственно.\n",
    "\n",
    "Чем глубже модель, тем меньше ошибок она совершает (на данных ImageNet, на которых она обучалась).\n",
    "\n",
    "| Вид модели | Top-1 error | Top-5 error |\n",
    "| --------------- | ----------- | ----------- |\n",
    "|  resnet18       | 30.24       | 10.92       |\n",
    "|  resnet34       | 26.70       | 8.58        |\n",
    "|  resnet50       | 23.85       | 7.13        |\n",
    "|  resnet101      | 22.63       | 6.44        |\n",
    "|  resnet152      | 21.69       | 5.94        |"
   ]
  },
  {
   "cell_type": "markdown",
   "id": "Nqum0HhND2rl",
   "metadata": {
    "id": "Nqum0HhND2rl"
   },
   "source": [
    "Откуда берутся эти модели: https://pytorch.org/vision/stable/models.html#classification"
   ]
  },
  {
   "cell_type": "code",
   "execution_count": null,
   "id": "31fdbcb3",
   "metadata": {
    "colab": {
     "base_uri": "https://localhost:8080/"
    },
    "id": "31fdbcb3",
    "outputId": "5c05ed4f-c890-404f-bd38-8c7fd3b86cdb"
   },
   "outputs": [],
   "source": [
    "model = torch.hub.load( 'pytorch/vision:v0.10.0', 'resnet18', pretrained=True )\n",
    "\n",
    "model.eval()\n",
    "\n",
    "device = torch.device(\"cuda:0\" if torch.cuda.is_available() else \"cpu\")\n",
    "model = model.to(device)"
   ]
  },
  {
   "cell_type": "markdown",
   "id": "WUR9jLznyTEg",
   "metadata": {
    "id": "WUR9jLznyTEg"
   },
   "source": [
    "### Объявим названия классов ImageNet\n",
    "\n",
    "Пример такой таблицы: https://deeplearning.cms.waikato.ac.nz/user-guide/class-maps/IMAGENET/"
   ]
  },
  {
   "cell_type": "code",
   "execution_count": null,
   "id": "1yebyqMvrBPv",
   "metadata": {
    "id": "1yebyqMvrBPv"
   },
   "outputs": [],
   "source": [
    "IMAGENET_LABELS = {0: 'tench, Tinca tinca',\n",
    " 1: 'goldfish, Carassius auratus',\n",
    " 2: 'great white shark, white shark, man-eater, man-eating shark, Carcharodon carcharias',\n",
    " 3: 'tiger shark, Galeocerdo cuvieri',\n",
    " 4: 'hammerhead, hammerhead shark',\n",
    " 5: 'electric ray, crampfish, numbfish, torpedo',\n",
    " 6: 'stingray',\n",
    " 7: 'cock',\n",
    " 8: 'hen',\n",
    " 9: 'ostrich, Struthio camelus',\n",
    " 10: 'brambling, Fringilla montifringilla',\n",
    " 11: 'goldfinch, Carduelis carduelis',\n",
    " 12: 'house finch, linnet, Carpodacus mexicanus',\n",
    " 13: 'junco, snowbird',\n",
    " 14: 'indigo bunting, indigo finch, indigo bird, Passerina cyanea',\n",
    " 15: 'robin, American robin, Turdus migratorius',\n",
    " 16: 'bulbul',\n",
    " 17: 'jay',\n",
    " 18: 'magpie',\n",
    " 19: 'chickadee',\n",
    " 20: 'water ouzel, dipper',\n",
    " 21: 'kite',\n",
    " 22: 'bald eagle, American eagle, Haliaeetus leucocephalus',\n",
    " 23: 'vulture',\n",
    " 24: 'great grey owl, great gray owl, Strix nebulosa',\n",
    " 25: 'European fire salamander, Salamandra salamandra',\n",
    " 26: 'common newt, Triturus vulgaris',\n",
    " 27: 'eft',\n",
    " 28: 'spotted salamander, Ambystoma maculatum',\n",
    " 29: 'axolotl, mud puppy, Ambystoma mexicanum',\n",
    " 30: 'bullfrog, Rana catesbeiana',\n",
    " 31: 'tree frog, tree-frog',\n",
    " 32: 'tailed frog, bell toad, ribbed toad, tailed toad, Ascaphus trui',\n",
    " 33: 'loggerhead, loggerhead turtle, Caretta caretta',\n",
    " 34: 'leatherback turtle, leatherback, leathery turtle, Dermochelys coriacea',\n",
    " 35: 'mud turtle',\n",
    " 36: 'terrapin',\n",
    " 37: 'box turtle, box tortoise',\n",
    " 38: 'banded gecko',\n",
    " 39: 'common iguana, iguana, Iguana iguana',\n",
    " 40: 'American chameleon, anole, Anolis carolinensis',\n",
    " 41: 'whiptail, whiptail lizard',\n",
    " 42: 'agama',\n",
    " 43: 'frilled lizard, Chlamydosaurus kingi',\n",
    " 44: 'alligator lizard',\n",
    " 45: 'Gila monster, Heloderma suspectum',\n",
    " 46: 'green lizard, Lacerta viridis',\n",
    " 47: 'African chameleon, Chamaeleo chamaeleon',\n",
    " 48: 'Komodo dragon, Komodo lizard, dragon lizard, giant lizard, Varanus komodoensis',\n",
    " 49: 'African crocodile, Nile crocodile, Crocodylus niloticus',\n",
    " 50: 'American alligator, Alligator mississipiensis',\n",
    " 51: 'triceratops',\n",
    " 52: 'thunder snake, worm snake, Carphophis amoenus',\n",
    " 53: 'ringneck snake, ring-necked snake, ring snake',\n",
    " 54: 'hognose snake, puff adder, sand viper',\n",
    " 55: 'green snake, grass snake',\n",
    " 56: 'king snake, kingsnake',\n",
    " 57: 'garter snake, grass snake',\n",
    " 58: 'water snake',\n",
    " 59: 'vine snake',\n",
    " 60: 'night snake, Hypsiglena torquata',\n",
    " 61: 'boa constrictor, Constrictor constrictor',\n",
    " 62: 'rock python, rock snake, Python sebae',\n",
    " 63: 'Indian cobra, Naja naja',\n",
    " 64: 'green mamba',\n",
    " 65: 'sea snake',\n",
    " 66: 'horned viper, cerastes, sand viper, horned asp, Cerastes cornutus',\n",
    " 67: 'diamondback, diamondback rattlesnake, Crotalus adamanteus',\n",
    " 68: 'sidewinder, horned rattlesnake, Crotalus cerastes',\n",
    " 69: 'trilobite',\n",
    " 70: 'harvestman, daddy longlegs, Phalangium opilio',\n",
    " 71: 'scorpion',\n",
    " 72: 'black and gold garden spider, Argiope aurantia',\n",
    " 73: 'barn spider, Araneus cavaticus',\n",
    " 74: 'garden spider, Aranea diademata',\n",
    " 75: 'black widow, Latrodectus mactans',\n",
    " 76: 'tarantula',\n",
    " 77: 'wolf spider, hunting spider',\n",
    " 78: 'tick',\n",
    " 79: 'centipede',\n",
    " 80: 'black grouse',\n",
    " 81: 'ptarmigan',\n",
    " 82: 'ruffed grouse, partridge, Bonasa umbellus',\n",
    " 83: 'prairie chicken, prairie grouse, prairie fowl',\n",
    " 84: 'peacock',\n",
    " 85: 'quail',\n",
    " 86: 'partridge',\n",
    " 87: 'African grey, African gray, Psittacus erithacus',\n",
    " 88: 'macaw',\n",
    " 89: 'sulphur-crested cockatoo, Kakatoe galerita, Cacatua galerita',\n",
    " 90: 'lorikeet',\n",
    " 91: 'coucal',\n",
    " 92: 'bee eater',\n",
    " 93: 'hornbill',\n",
    " 94: 'hummingbird',\n",
    " 95: 'jacamar',\n",
    " 96: 'toucan',\n",
    " 97: 'drake',\n",
    " 98: 'red-breasted merganser, Mergus serrator',\n",
    " 99: 'goose',\n",
    " 100: 'black swan, Cygnus atratus',\n",
    " 101: 'tusker',\n",
    " 102: 'echidna, spiny anteater, anteater',\n",
    " 103: 'platypus, duckbill, duckbilled platypus, duck-billed platypus, Ornithorhynchus anatinus',\n",
    " 104: 'wallaby, brush kangaroo',\n",
    " 105: 'koala, koala bear, kangaroo bear, native bear, Phascolarctos cinereus',\n",
    " 106: 'wombat',\n",
    " 107: 'jellyfish',\n",
    " 108: 'sea anemone, anemone',\n",
    " 109: 'brain coral',\n",
    " 110: 'flatworm, platyhelminth',\n",
    " 111: 'nematode, nematode worm, roundworm',\n",
    " 112: 'conch',\n",
    " 113: 'snail',\n",
    " 114: 'slug',\n",
    " 115: 'sea slug, nudibranch',\n",
    " 116: 'chiton, coat-of-mail shell, sea cradle, polyplacophore',\n",
    " 117: 'chambered nautilus, pearly nautilus, nautilus',\n",
    " 118: 'Dungeness crab, Cancer magister',\n",
    " 119: 'rock crab, Cancer irroratus',\n",
    " 120: 'fiddler crab',\n",
    " 121: 'king crab, Alaska crab, Alaskan king crab, Alaska king crab, Paralithodes camtschatica',\n",
    " 122: 'American lobster, Northern lobster, Maine lobster, Homarus americanus',\n",
    " 123: 'spiny lobster, langouste, rock lobster, crawfish, crayfish, sea crawfish',\n",
    " 124: 'crayfish, crawfish, crawdad, crawdaddy',\n",
    " 125: 'hermit crab',\n",
    " 126: 'isopod',\n",
    " 127: 'white stork, Ciconia ciconia',\n",
    " 128: 'black stork, Ciconia nigra',\n",
    " 129: 'spoonbill',\n",
    " 130: 'flamingo',\n",
    " 131: 'little blue heron, Egretta caerulea',\n",
    " 132: 'American egret, great white heron, Egretta albus',\n",
    " 133: 'bittern',\n",
    " 134: 'crane',\n",
    " 135: 'limpkin, Aramus pictus',\n",
    " 136: 'European gallinule, Porphyrio porphyrio',\n",
    " 137: 'American coot, marsh hen, mud hen, water hen, Fulica americana',\n",
    " 138: 'bustard',\n",
    " 139: 'ruddy turnstone, Arenaria interpres',\n",
    " 140: 'red-backed sandpiper, dunlin, Erolia alpina',\n",
    " 141: 'redshank, Tringa totanus',\n",
    " 142: 'dowitcher',\n",
    " 143: 'oystercatcher, oyster catcher',\n",
    " 144: 'pelican',\n",
    " 145: 'king penguin, Aptenodytes patagonica',\n",
    " 146: 'albatross, mollymawk',\n",
    " 147: 'grey whale, gray whale, devilfish, Eschrichtius gibbosus, Eschrichtius robustus',\n",
    " 148: 'killer whale, killer, orca, grampus, sea wolf, Orcinus orca',\n",
    " 149: 'dugong, Dugong dugon',\n",
    " 150: 'sea lion',\n",
    " 151: 'Chihuahua',\n",
    " 152: 'Japanese spaniel',\n",
    " 153: 'Maltese dog, Maltese terrier, Maltese',\n",
    " 154: 'Pekinese, Pekingese, Peke',\n",
    " 155: 'Shih-Tzu',\n",
    " 156: 'Blenheim spaniel',\n",
    " 157: 'papillon',\n",
    " 158: 'toy terrier',\n",
    " 159: 'Rhodesian ridgeback',\n",
    " 160: 'Afghan hound, Afghan',\n",
    " 161: 'basset, basset hound',\n",
    " 162: 'beagle',\n",
    " 163: 'bloodhound, sleuthhound',\n",
    " 164: 'bluetick',\n",
    " 165: 'black-and-tan coonhound',\n",
    " 166: 'Walker hound, Walker foxhound',\n",
    " 167: 'English foxhound',\n",
    " 168: 'redbone',\n",
    " 169: 'borzoi, Russian wolfhound',\n",
    " 170: 'Irish wolfhound',\n",
    " 171: 'Italian greyhound',\n",
    " 172: 'whippet',\n",
    " 173: 'Ibizan hound, Ibizan Podenco',\n",
    " 174: 'Norwegian elkhound, elkhound',\n",
    " 175: 'otterhound, otter hound',\n",
    " 176: 'Saluki, gazelle hound',\n",
    " 177: 'Scottish deerhound, deerhound',\n",
    " 178: 'Weimaraner',\n",
    " 179: 'Staffordshire bullterrier, Staffordshire bull terrier',\n",
    " 180: 'American Staffordshire terrier, Staffordshire terrier, American pit bull terrier, pit bull terrier',\n",
    " 181: 'Bedlington terrier',\n",
    " 182: 'Border terrier',\n",
    " 183: 'Kerry blue terrier',\n",
    " 184: 'Irish terrier',\n",
    " 185: 'Norfolk terrier',\n",
    " 186: 'Norwich terrier',\n",
    " 187: 'Yorkshire terrier',\n",
    " 188: 'wire-haired fox terrier',\n",
    " 189: 'Lakeland terrier',\n",
    " 190: 'Sealyham terrier, Sealyham',\n",
    " 191: 'Airedale, Airedale terrier',\n",
    " 192: 'cairn, cairn terrier',\n",
    " 193: 'Australian terrier',\n",
    " 194: 'Dandie Dinmont, Dandie Dinmont terrier',\n",
    " 195: 'Boston bull, Boston terrier',\n",
    " 196: 'miniature schnauzer',\n",
    " 197: 'giant schnauzer',\n",
    " 198: 'standard schnauzer',\n",
    " 199: 'Scotch terrier, Scottish terrier, Scottie',\n",
    " 200: 'Tibetan terrier, chrysanthemum dog',\n",
    " 201: 'silky terrier, Sydney silky',\n",
    " 202: 'soft-coated wheaten terrier',\n",
    " 203: 'West Highland white terrier',\n",
    " 204: 'Lhasa, Lhasa apso',\n",
    " 205: 'flat-coated retriever',\n",
    " 206: 'curly-coated retriever',\n",
    " 207: 'golden retriever',\n",
    " 208: 'Labrador retriever',\n",
    " 209: 'Chesapeake Bay retriever',\n",
    " 210: 'German short-haired pointer',\n",
    " 211: 'vizsla, Hungarian pointer',\n",
    " 212: 'English setter',\n",
    " 213: 'Irish setter, red setter',\n",
    " 214: 'Gordon setter',\n",
    " 215: 'Brittany spaniel',\n",
    " 216: 'clumber, clumber spaniel',\n",
    " 217: 'English springer, English springer spaniel',\n",
    " 218: 'Welsh springer spaniel',\n",
    " 219: 'cocker spaniel, English cocker spaniel, cocker',\n",
    " 220: 'Sussex spaniel',\n",
    " 221: 'Irish water spaniel',\n",
    " 222: 'kuvasz',\n",
    " 223: 'schipperke',\n",
    " 224: 'groenendael',\n",
    " 225: 'malinois',\n",
    " 226: 'briard',\n",
    " 227: 'kelpie',\n",
    " 228: 'komondor',\n",
    " 229: 'Old English sheepdog, bobtail',\n",
    " 230: 'Shetland sheepdog, Shetland sheep dog, Shetland',\n",
    " 231: 'collie',\n",
    " 232: 'Border collie',\n",
    " 233: 'Bouvier des Flandres, Bouviers des Flandres',\n",
    " 234: 'Rottweiler',\n",
    " 235: 'German shepherd, German shepherd dog, German police dog, alsatian',\n",
    " 236: 'Doberman, Doberman pinscher',\n",
    " 237: 'miniature pinscher',\n",
    " 238: 'Greater Swiss Mountain dog',\n",
    " 239: 'Bernese mountain dog',\n",
    " 240: 'Appenzeller',\n",
    " 241: 'EntleBucher',\n",
    " 242: 'boxer',\n",
    " 243: 'bull mastiff',\n",
    " 244: 'Tibetan mastiff',\n",
    " 245: 'French bulldog',\n",
    " 246: 'Great Dane',\n",
    " 247: 'Saint Bernard, St Bernard',\n",
    " 248: 'Eskimo dog, husky',\n",
    " 249: 'malamute, malemute, Alaskan malamute',\n",
    " 250: 'Siberian husky',\n",
    " 251: 'dalmatian, coach dog, carriage dog',\n",
    " 252: 'affenpinscher, monkey pinscher, monkey dog',\n",
    " 253: 'basenji',\n",
    " 254: 'pug, pug-dog',\n",
    " 255: 'Leonberg',\n",
    " 256: 'Newfoundland, Newfoundland dog',\n",
    " 257: 'Great Pyrenees',\n",
    " 258: 'Samoyed, Samoyede',\n",
    " 259: 'Pomeranian',\n",
    " 260: 'chow, chow chow',\n",
    " 261: 'keeshond',\n",
    " 262: 'Brabancon griffon',\n",
    " 263: 'Pembroke, Pembroke Welsh corgi',\n",
    " 264: 'Cardigan, Cardigan Welsh corgi',\n",
    " 265: 'toy poodle',\n",
    " 266: 'miniature poodle',\n",
    " 267: 'standard poodle',\n",
    " 268: 'Mexican hairless',\n",
    " 269: 'timber wolf, grey wolf, gray wolf, Canis lupus',\n",
    " 270: 'white wolf, Arctic wolf, Canis lupus tundrarum',\n",
    " 271: 'red wolf, maned wolf, Canis rufus, Canis niger',\n",
    " 272: 'coyote, prairie wolf, brush wolf, Canis latrans',\n",
    " 273: 'dingo, warrigal, warragal, Canis dingo',\n",
    " 274: 'dhole, Cuon alpinus',\n",
    " 275: 'African hunting dog, hyena dog, Cape hunting dog, Lycaon pictus',\n",
    " 276: 'hyena, hyaena',\n",
    " 277: 'red fox, Vulpes vulpes',\n",
    " 278: 'kit fox, Vulpes macrotis',\n",
    " 279: 'Arctic fox, white fox, Alopex lagopus',\n",
    " 280: 'grey fox, gray fox, Urocyon cinereoargenteus',\n",
    " 281: 'tabby, tabby cat',\n",
    " 282: 'tiger cat',\n",
    " 283: 'Persian cat',\n",
    " 284: 'Siamese cat, Siamese',\n",
    " 285: 'Egyptian cat',\n",
    " 286: 'cougar, puma, catamount, mountain lion, painter, panther, Felis concolor',\n",
    " 287: 'lynx, catamount',\n",
    " 288: 'leopard, Panthera pardus',\n",
    " 289: 'snow leopard, ounce, Panthera uncia',\n",
    " 290: 'jaguar, panther, Panthera onca, Felis onca',\n",
    " 291: 'lion, king of beasts, Panthera leo',\n",
    " 292: 'tiger, Panthera tigris',\n",
    " 293: 'cheetah, chetah, Acinonyx jubatus',\n",
    " 294: 'brown bear, bruin, Ursus arctos',\n",
    " 295: 'American black bear, black bear, Ursus americanus, Euarctos americanus',\n",
    " 296: 'ice bear, polar bear, Ursus Maritimus, Thalarctos maritimus',\n",
    " 297: 'sloth bear, Melursus ursinus, Ursus ursinus',\n",
    " 298: 'mongoose',\n",
    " 299: 'meerkat, mierkat',\n",
    " 300: 'tiger beetle',\n",
    " 301: 'ladybug, ladybeetle, lady beetle, ladybird, ladybird beetle',\n",
    " 302: 'ground beetle, carabid beetle',\n",
    " 303: 'long-horned beetle, longicorn, longicorn beetle',\n",
    " 304: 'leaf beetle, chrysomelid',\n",
    " 305: 'dung beetle',\n",
    " 306: 'rhinoceros beetle',\n",
    " 307: 'weevil',\n",
    " 308: 'fly',\n",
    " 309: 'bee',\n",
    " 310: 'ant, emmet, pismire',\n",
    " 311: 'grasshopper, hopper',\n",
    " 312: 'cricket',\n",
    " 313: 'walking stick, walkingstick, stick insect',\n",
    " 314: 'cockroach, roach',\n",
    " 315: 'mantis, mantid',\n",
    " 316: 'cicada, cicala',\n",
    " 317: 'leafhopper',\n",
    " 318: 'lacewing, lacewing fly',\n",
    " 319: \"dragonfly, darning needle, devil's darning needle, sewing needle, snake feeder, snake doctor, mosquito hawk, skeeter hawk\",\n",
    " 320: 'damselfly',\n",
    " 321: 'admiral',\n",
    " 322: 'ringlet, ringlet butterfly',\n",
    " 323: 'monarch, monarch butterfly, milkweed butterfly, Danaus plexippus',\n",
    " 324: 'cabbage butterfly',\n",
    " 325: 'sulphur butterfly, sulfur butterfly',\n",
    " 326: 'lycaenid, lycaenid butterfly',\n",
    " 327: 'starfish, sea star',\n",
    " 328: 'sea urchin',\n",
    " 329: 'sea cucumber, holothurian',\n",
    " 330: 'wood rabbit, cottontail, cottontail rabbit',\n",
    " 331: 'hare',\n",
    " 332: 'Angora, Angora rabbit',\n",
    " 333: 'hamster',\n",
    " 334: 'porcupine, hedgehog',\n",
    " 335: 'fox squirrel, eastern fox squirrel, Sciurus niger',\n",
    " 336: 'marmot',\n",
    " 337: 'beaver',\n",
    " 338: 'guinea pig, Cavia cobaya',\n",
    " 339: 'sorrel',\n",
    " 340: 'zebra',\n",
    " 341: 'hog, pig, grunter, squealer, Sus scrofa',\n",
    " 342: 'wild boar, boar, Sus scrofa',\n",
    " 343: 'warthog',\n",
    " 344: 'hippopotamus, hippo, river horse, Hippopotamus amphibius',\n",
    " 345: 'ox',\n",
    " 346: 'water buffalo, water ox, Asiatic buffalo, Bubalus bubalis',\n",
    " 347: 'bison',\n",
    " 348: 'ram, tup',\n",
    " 349: 'bighorn, bighorn sheep, cimarron, Rocky Mountain bighorn, Rocky Mountain sheep, Ovis canadensis',\n",
    " 350: 'ibex, Capra ibex',\n",
    " 351: 'hartebeest',\n",
    " 352: 'impala, Aepyceros melampus',\n",
    " 353: 'gazelle',\n",
    " 354: 'Arabian camel, dromedary, Camelus dromedarius',\n",
    " 355: 'llama',\n",
    " 356: 'weasel',\n",
    " 357: 'mink',\n",
    " 358: 'polecat, fitch, foulmart, foumart, Mustela putorius',\n",
    " 359: 'black-footed ferret, ferret, Mustela nigripes',\n",
    " 360: 'otter',\n",
    " 361: 'skunk, polecat, wood pussy',\n",
    " 362: 'badger',\n",
    " 363: 'armadillo',\n",
    " 364: 'three-toed sloth, ai, Bradypus tridactylus',\n",
    " 365: 'orangutan, orang, orangutang, Pongo pygmaeus',\n",
    " 366: 'gorilla, Gorilla gorilla',\n",
    " 367: 'chimpanzee, chimp, Pan troglodytes',\n",
    " 368: 'gibbon, Hylobates lar',\n",
    " 369: 'siamang, Hylobates syndactylus, Symphalangus syndactylus',\n",
    " 370: 'guenon, guenon monkey',\n",
    " 371: 'patas, hussar monkey, Erythrocebus patas',\n",
    " 372: 'baboon',\n",
    " 373: 'macaque',\n",
    " 374: 'langur',\n",
    " 375: 'colobus, colobus monkey',\n",
    " 376: 'proboscis monkey, Nasalis larvatus',\n",
    " 377: 'marmoset',\n",
    " 378: 'capuchin, ringtail, Cebus capucinus',\n",
    " 379: 'howler monkey, howler',\n",
    " 380: 'titi, titi monkey',\n",
    " 381: 'spider monkey, Ateles geoffroyi',\n",
    " 382: 'squirrel monkey, Saimiri sciureus',\n",
    " 383: 'Madagascar cat, ring-tailed lemur, Lemur catta',\n",
    " 384: 'indri, indris, Indri indri, Indri brevicaudatus',\n",
    " 385: 'Indian elephant, Elephas maximus',\n",
    " 386: 'African elephant, Loxodonta africana',\n",
    " 387: 'lesser panda, red panda, panda, bear cat, cat bear, Ailurus fulgens',\n",
    " 388: 'giant panda, panda, panda bear, coon bear, Ailuropoda melanoleuca',\n",
    " 389: 'barracouta, snoek',\n",
    " 390: 'eel',\n",
    " 391: 'coho, cohoe, coho salmon, blue jack, silver salmon, Oncorhynchus kisutch',\n",
    " 392: 'rock beauty, Holocanthus tricolor',\n",
    " 393: 'anemone fish',\n",
    " 394: 'sturgeon',\n",
    " 395: 'gar, garfish, garpike, billfish, Lepisosteus osseus',\n",
    " 396: 'lionfish',\n",
    " 397: 'puffer, pufferfish, blowfish, globefish',\n",
    " 398: 'abacus',\n",
    " 399: 'abaya',\n",
    " 400: \"academic gown, academic robe, judge's robe\",\n",
    " 401: 'accordion, piano accordion, squeeze box',\n",
    " 402: 'acoustic guitar',\n",
    " 403: 'aircraft carrier, carrier, flattop, attack aircraft carrier',\n",
    " 404: 'airliner',\n",
    " 405: 'airship, dirigible',\n",
    " 406: 'altar',\n",
    " 407: 'ambulance',\n",
    " 408: 'amphibian, amphibious vehicle',\n",
    " 409: 'analog clock',\n",
    " 410: 'apiary, bee house',\n",
    " 411: 'apron',\n",
    " 412: 'ashcan, trash can, garbage can, wastebin, ash bin, ash-bin, ashbin, dustbin, trash barrel, trash bin',\n",
    " 413: 'assault rifle, assault gun',\n",
    " 414: 'backpack, back pack, knapsack, packsack, rucksack, haversack',\n",
    " 415: 'bakery, bakeshop, bakehouse',\n",
    " 416: 'balance beam, beam',\n",
    " 417: 'balloon',\n",
    " 418: 'ballpoint, ballpoint pen, ballpen, Biro',\n",
    " 419: 'Band Aid',\n",
    " 420: 'banjo',\n",
    " 421: 'bannister, banister, balustrade, balusters, handrail',\n",
    " 422: 'barbell',\n",
    " 423: 'barber chair',\n",
    " 424: 'barbershop',\n",
    " 425: 'barn',\n",
    " 426: 'barometer',\n",
    " 427: 'barrel, cask',\n",
    " 428: 'barrow, garden cart, lawn cart, wheelbarrow',\n",
    " 429: 'baseball',\n",
    " 430: 'basketball',\n",
    " 431: 'bassinet',\n",
    " 432: 'bassoon',\n",
    " 433: 'bathing cap, swimming cap',\n",
    " 434: 'bath towel',\n",
    " 435: 'bathtub, bathing tub, bath, tub',\n",
    " 436: 'beach wagon, station wagon, wagon, estate car, beach waggon, station waggon, waggon',\n",
    " 437: 'beacon, lighthouse, beacon light, pharos',\n",
    " 438: 'beaker',\n",
    " 439: 'bearskin, busby, shako',\n",
    " 440: 'beer bottle',\n",
    " 441: 'beer glass',\n",
    " 442: 'bell cote, bell cot',\n",
    " 443: 'bib',\n",
    " 444: 'bicycle-built-for-two, tandem bicycle, tandem',\n",
    " 445: 'bikini, two-piece',\n",
    " 446: 'binder, ring-binder',\n",
    " 447: 'binoculars, field glasses, opera glasses',\n",
    " 448: 'birdhouse',\n",
    " 449: 'boathouse',\n",
    " 450: 'bobsled, bobsleigh, bob',\n",
    " 451: 'bolo tie, bolo, bola tie, bola',\n",
    " 452: 'bonnet, poke bonnet',\n",
    " 453: 'bookcase',\n",
    " 454: 'bookshop, bookstore, bookstall',\n",
    " 455: 'bottlecap',\n",
    " 456: 'bow',\n",
    " 457: 'bow tie, bow-tie, bowtie',\n",
    " 458: 'brass, memorial tablet, plaque',\n",
    " 459: 'brassiere, bra, bandeau',\n",
    " 460: 'breakwater, groin, groyne, mole, bulwark, seawall, jetty',\n",
    " 461: 'breastplate, aegis, egis',\n",
    " 462: 'broom',\n",
    " 463: 'bucket, pail',\n",
    " 464: 'buckle',\n",
    " 465: 'bulletproof vest',\n",
    " 466: 'bullet train, bullet',\n",
    " 467: 'butcher shop, meat market',\n",
    " 468: 'cab, hack, taxi, taxicab',\n",
    " 469: 'caldron, cauldron',\n",
    " 470: 'candle, taper, wax light',\n",
    " 471: 'cannon',\n",
    " 472: 'canoe',\n",
    " 473: 'can opener, tin opener',\n",
    " 474: 'cardigan',\n",
    " 475: 'car mirror',\n",
    " 476: 'carousel, carrousel, merry-go-round, roundabout, whirligig',\n",
    " 477: \"carpenter's kit, tool kit\",\n",
    " 478: 'carton',\n",
    " 479: 'car wheel',\n",
    " 480: 'cash machine, cash dispenser, automated teller machine, automatic teller machine, automated teller, automatic teller, ATM',\n",
    " 481: 'cassette',\n",
    " 482: 'cassette player',\n",
    " 483: 'castle',\n",
    " 484: 'catamaran',\n",
    " 485: 'CD player',\n",
    " 486: 'cello, violoncello',\n",
    " 487: 'cellular telephone, cellular phone, cellphone, cell, mobile phone',\n",
    " 488: 'chain',\n",
    " 489: 'chainlink fence',\n",
    " 490: 'chain mail, ring mail, mail, chain armor, chain armour, ring armor, ring armour',\n",
    " 491: 'chain saw, chainsaw',\n",
    " 492: 'chest',\n",
    " 493: 'chiffonier, commode',\n",
    " 494: 'chime, bell, gong',\n",
    " 495: 'china cabinet, china closet',\n",
    " 496: 'Christmas stocking',\n",
    " 497: 'church, church building',\n",
    " 498: 'cinema, movie theater, movie theatre, movie house, picture palace',\n",
    " 499: 'cleaver, meat cleaver, chopper',\n",
    " 500: 'cliff dwelling',\n",
    " 501: 'cloak',\n",
    " 502: 'clog, geta, patten, sabot',\n",
    " 503: 'cocktail shaker',\n",
    " 504: 'coffee mug',\n",
    " 505: 'coffeepot',\n",
    " 506: 'coil, spiral, volute, whorl, helix',\n",
    " 507: 'combination lock',\n",
    " 508: 'computer keyboard, keypad',\n",
    " 509: 'confectionery, confectionary, candy store',\n",
    " 510: 'container ship, containership, container vessel',\n",
    " 511: 'convertible',\n",
    " 512: 'corkscrew, bottle screw',\n",
    " 513: 'cornet, horn, trumpet, trump',\n",
    " 514: 'cowboy boot',\n",
    " 515: 'cowboy hat, ten-gallon hat',\n",
    " 516: 'cradle',\n",
    " 517: 'crane',\n",
    " 518: 'crash helmet',\n",
    " 519: 'crate',\n",
    " 520: 'crib, cot',\n",
    " 521: 'Crock Pot',\n",
    " 522: 'croquet ball',\n",
    " 523: 'crutch',\n",
    " 524: 'cuirass',\n",
    " 525: 'dam, dike, dyke',\n",
    " 526: 'desk',\n",
    " 527: 'desktop computer',\n",
    " 528: 'dial telephone, dial phone',\n",
    " 529: 'diaper, nappy, napkin',\n",
    " 530: 'digital clock',\n",
    " 531: 'digital watch',\n",
    " 532: 'dining table, board',\n",
    " 533: 'dishrag, dishcloth',\n",
    " 534: 'dishwasher, dish washer, dishwashing machine',\n",
    " 535: 'disk brake, disc brake',\n",
    " 536: 'dock, dockage, docking facility',\n",
    " 537: 'dogsled, dog sled, dog sleigh',\n",
    " 538: 'dome',\n",
    " 539: 'doormat, welcome mat',\n",
    " 540: 'drilling platform, offshore rig',\n",
    " 541: 'drum, membranophone, tympan',\n",
    " 542: 'drumstick',\n",
    " 543: 'dumbbell',\n",
    " 544: 'Dutch oven',\n",
    " 545: 'electric fan, blower',\n",
    " 546: 'electric guitar',\n",
    " 547: 'electric locomotive',\n",
    " 548: 'entertainment center',\n",
    " 549: 'envelope',\n",
    " 550: 'espresso maker',\n",
    " 551: 'face powder',\n",
    " 552: 'feather boa, boa',\n",
    " 553: 'file, file cabinet, filing cabinet',\n",
    " 554: 'fireboat',\n",
    " 555: 'fire engine, fire truck',\n",
    " 556: 'fire screen, fireguard',\n",
    " 557: 'flagpole, flagstaff',\n",
    " 558: 'flute, transverse flute',\n",
    " 559: 'folding chair',\n",
    " 560: 'football helmet',\n",
    " 561: 'forklift',\n",
    " 562: 'fountain',\n",
    " 563: 'fountain pen',\n",
    " 564: 'four-poster',\n",
    " 565: 'freight car',\n",
    " 566: 'French horn, horn',\n",
    " 567: 'frying pan, frypan, skillet',\n",
    " 568: 'fur coat',\n",
    " 569: 'garbage truck, dustcart',\n",
    " 570: 'gasmask, respirator, gas helmet',\n",
    " 571: 'gas pump, gasoline pump, petrol pump, island dispenser',\n",
    " 572: 'goblet',\n",
    " 573: 'go-kart',\n",
    " 574: 'golf ball',\n",
    " 575: 'golfcart, golf cart',\n",
    " 576: 'gondola',\n",
    " 577: 'gong, tam-tam',\n",
    " 578: 'gown',\n",
    " 579: 'grand piano, grand',\n",
    " 580: 'greenhouse, nursery, glasshouse',\n",
    " 581: 'grille, radiator grille',\n",
    " 582: 'grocery store, grocery, food market, market',\n",
    " 583: 'guillotine',\n",
    " 584: 'hair slide',\n",
    " 585: 'hair spray',\n",
    " 586: 'half track',\n",
    " 587: 'hammer',\n",
    " 588: 'hamper',\n",
    " 589: 'hand blower, blow dryer, blow drier, hair dryer, hair drier',\n",
    " 590: 'hand-held computer, hand-held microcomputer',\n",
    " 591: 'handkerchief, hankie, hanky, hankey',\n",
    " 592: 'hard disc, hard disk, fixed disk',\n",
    " 593: 'harmonica, mouth organ, harp, mouth harp',\n",
    " 594: 'harp',\n",
    " 595: 'harvester, reaper',\n",
    " 596: 'hatchet',\n",
    " 597: 'holster',\n",
    " 598: 'home theater, home theatre',\n",
    " 599: 'honeycomb',\n",
    " 600: 'hook, claw',\n",
    " 601: 'hoopskirt, crinoline',\n",
    " 602: 'horizontal bar, high bar',\n",
    " 603: 'horse cart, horse-cart',\n",
    " 604: 'hourglass',\n",
    " 605: 'iPod',\n",
    " 606: 'iron, smoothing iron',\n",
    " 607: \"jack-o'-lantern\",\n",
    " 608: 'jean, blue jean, denim',\n",
    " 609: 'jeep, landrover',\n",
    " 610: 'jersey, T-shirt, tee shirt',\n",
    " 611: 'jigsaw puzzle',\n",
    " 612: 'jinrikisha, ricksha, rickshaw',\n",
    " 613: 'joystick',\n",
    " 614: 'kimono',\n",
    " 615: 'knee pad',\n",
    " 616: 'knot',\n",
    " 617: 'lab coat, laboratory coat',\n",
    " 618: 'ladle',\n",
    " 619: 'lampshade, lamp shade',\n",
    " 620: 'laptop, laptop computer',\n",
    " 621: 'lawn mower, mower',\n",
    " 622: 'lens cap, lens cover',\n",
    " 623: 'letter opener, paper knife, paperknife',\n",
    " 624: 'library',\n",
    " 625: 'lifeboat',\n",
    " 626: 'lighter, light, igniter, ignitor',\n",
    " 627: 'limousine, limo',\n",
    " 628: 'liner, ocean liner',\n",
    " 629: 'lipstick, lip rouge',\n",
    " 630: 'Loafer',\n",
    " 631: 'lotion',\n",
    " 632: 'loudspeaker, speaker, speaker unit, loudspeaker system, speaker system',\n",
    " 633: \"loupe, jeweler's loupe\",\n",
    " 634: 'lumbermill, sawmill',\n",
    " 635: 'magnetic compass',\n",
    " 636: 'mailbag, postbag',\n",
    " 637: 'mailbox, letter box',\n",
    " 638: 'maillot',\n",
    " 639: 'maillot, tank suit',\n",
    " 640: 'manhole cover',\n",
    " 641: 'maraca',\n",
    " 642: 'marimba, xylophone',\n",
    " 643: 'mask',\n",
    " 644: 'matchstick',\n",
    " 645: 'maypole',\n",
    " 646: 'maze, labyrinth',\n",
    " 647: 'measuring cup',\n",
    " 648: 'medicine chest, medicine cabinet',\n",
    " 649: 'megalith, megalithic structure',\n",
    " 650: 'microphone, mike',\n",
    " 651: 'microwave, microwave oven',\n",
    " 652: 'military uniform',\n",
    " 653: 'milk can',\n",
    " 654: 'minibus',\n",
    " 655: 'miniskirt, mini',\n",
    " 656: 'minivan',\n",
    " 657: 'missile',\n",
    " 658: 'mitten',\n",
    " 659: 'mixing bowl',\n",
    " 660: 'mobile home, manufactured home',\n",
    " 661: 'Model T',\n",
    " 662: 'modem',\n",
    " 663: 'monastery',\n",
    " 664: 'monitor',\n",
    " 665: 'moped',\n",
    " 666: 'mortar',\n",
    " 667: 'mortarboard',\n",
    " 668: 'mosque',\n",
    " 669: 'mosquito net',\n",
    " 670: 'motor scooter, scooter',\n",
    " 671: 'mountain bike, all-terrain bike, off-roader',\n",
    " 672: 'mountain tent',\n",
    " 673: 'mouse, computer mouse',\n",
    " 674: 'mousetrap',\n",
    " 675: 'moving van',\n",
    " 676: 'muzzle',\n",
    " 677: 'nail',\n",
    " 678: 'neck brace',\n",
    " 679: 'necklace',\n",
    " 680: 'nipple',\n",
    " 681: 'notebook, notebook computer',\n",
    " 682: 'obelisk',\n",
    " 683: 'oboe, hautboy, hautbois',\n",
    " 684: 'ocarina, sweet potato',\n",
    " 685: 'odometer, hodometer, mileometer, milometer',\n",
    " 686: 'oil filter',\n",
    " 687: 'organ, pipe organ',\n",
    " 688: 'oscilloscope, scope, cathode-ray oscilloscope, CRO',\n",
    " 689: 'overskirt',\n",
    " 690: 'oxcart',\n",
    " 691: 'oxygen mask',\n",
    " 692: 'packet',\n",
    " 693: 'paddle, boat paddle',\n",
    " 694: 'paddlewheel, paddle wheel',\n",
    " 695: 'padlock',\n",
    " 696: 'paintbrush',\n",
    " 697: \"pajama, pyjama, pj's, jammies\",\n",
    " 698: 'palace',\n",
    " 699: 'panpipe, pandean pipe, syrinx',\n",
    " 700: 'paper towel',\n",
    " 701: 'parachute, chute',\n",
    " 702: 'parallel bars, bars',\n",
    " 703: 'park bench',\n",
    " 704: 'parking meter',\n",
    " 705: 'passenger car, coach, carriage',\n",
    " 706: 'patio, terrace',\n",
    " 707: 'pay-phone, pay-station',\n",
    " 708: 'pedestal, plinth, footstall',\n",
    " 709: 'pencil box, pencil case',\n",
    " 710: 'pencil sharpener',\n",
    " 711: 'perfume, essence',\n",
    " 712: 'Petri dish',\n",
    " 713: 'photocopier',\n",
    " 714: 'pick, plectrum, plectron',\n",
    " 715: 'pickelhaube',\n",
    " 716: 'picket fence, paling',\n",
    " 717: 'pickup, pickup truck',\n",
    " 718: 'pier',\n",
    " 719: 'piggy bank, penny bank',\n",
    " 720: 'pill bottle',\n",
    " 721: 'pillow',\n",
    " 722: 'ping-pong ball',\n",
    " 723: 'pinwheel',\n",
    " 724: 'pirate, pirate ship',\n",
    " 725: 'pitcher, ewer',\n",
    " 726: \"plane, carpenter's plane, woodworking plane\",\n",
    " 727: 'planetarium',\n",
    " 728: 'plastic bag',\n",
    " 729: 'plate rack',\n",
    " 730: 'plow, plough',\n",
    " 731: \"plunger, plumber's helper\",\n",
    " 732: 'Polaroid camera, Polaroid Land camera',\n",
    " 733: 'pole',\n",
    " 734: 'police van, police wagon, paddy wagon, patrol wagon, wagon, black Maria',\n",
    " 735: 'poncho',\n",
    " 736: 'pool table, billiard table, snooker table',\n",
    " 737: 'pop bottle, soda bottle',\n",
    " 738: 'pot, flowerpot',\n",
    " 739: \"potter's wheel\",\n",
    " 740: 'power drill',\n",
    " 741: 'prayer rug, prayer mat',\n",
    " 742: 'printer',\n",
    " 743: 'prison, prison house',\n",
    " 744: 'projectile, missile',\n",
    " 745: 'projector',\n",
    " 746: 'puck, hockey puck',\n",
    " 747: 'punching bag, punch bag, punching ball, punchball',\n",
    " 748: 'purse',\n",
    " 749: 'quill, quill pen',\n",
    " 750: 'quilt, comforter, comfort, puff',\n",
    " 751: 'racer, race car, racing car',\n",
    " 752: 'racket, racquet',\n",
    " 753: 'radiator',\n",
    " 754: 'radio, wireless',\n",
    " 755: 'radio telescope, radio reflector',\n",
    " 756: 'rain barrel',\n",
    " 757: 'recreational vehicle, RV, R.V.',\n",
    " 758: 'reel',\n",
    " 759: 'reflex camera',\n",
    " 760: 'refrigerator, icebox',\n",
    " 761: 'remote control, remote',\n",
    " 762: 'restaurant, eating house, eating place, eatery',\n",
    " 763: 'revolver, six-gun, six-shooter',\n",
    " 764: 'rifle',\n",
    " 765: 'rocking chair, rocker',\n",
    " 766: 'rotisserie',\n",
    " 767: 'rubber eraser, rubber, pencil eraser',\n",
    " 768: 'rugby ball',\n",
    " 769: 'rule, ruler',\n",
    " 770: 'running shoe',\n",
    " 771: 'safe',\n",
    " 772: 'safety pin',\n",
    " 773: 'saltshaker, salt shaker',\n",
    " 774: 'sandal',\n",
    " 775: 'sarong',\n",
    " 776: 'sax, saxophone',\n",
    " 777: 'scabbard',\n",
    " 778: 'scale, weighing machine',\n",
    " 779: 'school bus',\n",
    " 780: 'schooner',\n",
    " 781: 'scoreboard',\n",
    " 782: 'screen, CRT screen',\n",
    " 783: 'screw',\n",
    " 784: 'screwdriver',\n",
    " 785: 'seat belt, seatbelt',\n",
    " 786: 'sewing machine',\n",
    " 787: 'shield, buckler',\n",
    " 788: 'shoe shop, shoe-shop, shoe store',\n",
    " 789: 'shoji',\n",
    " 790: 'shopping basket',\n",
    " 791: 'shopping cart',\n",
    " 792: 'shovel',\n",
    " 793: 'shower cap',\n",
    " 794: 'shower curtain',\n",
    " 795: 'ski',\n",
    " 796: 'ski mask',\n",
    " 797: 'sleeping bag',\n",
    " 798: 'slide rule, slipstick',\n",
    " 799: 'sliding door',\n",
    " 800: 'slot, one-armed bandit',\n",
    " 801: 'snorkel',\n",
    " 802: 'snowmobile',\n",
    " 803: 'snowplow, snowplough',\n",
    " 804: 'soap dispenser',\n",
    " 805: 'soccer ball',\n",
    " 806: 'sock',\n",
    " 807: 'solar dish, solar collector, solar furnace',\n",
    " 808: 'sombrero',\n",
    " 809: 'soup bowl',\n",
    " 810: 'space bar',\n",
    " 811: 'space heater',\n",
    " 812: 'space shuttle',\n",
    " 813: 'spatula',\n",
    " 814: 'speedboat',\n",
    " 815: \"spider web, spider's web\",\n",
    " 816: 'spindle',\n",
    " 817: 'sports car, sport car',\n",
    " 818: 'spotlight, spot',\n",
    " 819: 'stage',\n",
    " 820: 'steam locomotive',\n",
    " 821: 'steel arch bridge',\n",
    " 822: 'steel drum',\n",
    " 823: 'stethoscope',\n",
    " 824: 'stole',\n",
    " 825: 'stone wall',\n",
    " 826: 'stopwatch, stop watch',\n",
    " 827: 'stove',\n",
    " 828: 'strainer',\n",
    " 829: 'streetcar, tram, tramcar, trolley, trolley car',\n",
    " 830: 'stretcher',\n",
    " 831: 'studio couch, day bed',\n",
    " 832: 'stupa, tope',\n",
    " 833: 'submarine, pigboat, sub, U-boat',\n",
    " 834: 'suit, suit of clothes',\n",
    " 835: 'sundial',\n",
    " 836: 'sunglass',\n",
    " 837: 'sunglasses, dark glasses, shades',\n",
    " 838: 'sunscreen, sunblock, sun blocker',\n",
    " 839: 'suspension bridge',\n",
    " 840: 'swab, swob, mop',\n",
    " 841: 'sweatshirt',\n",
    " 842: 'swimming trunks, bathing trunks',\n",
    " 843: 'swing',\n",
    " 844: 'switch, electric switch, electrical switch',\n",
    " 845: 'syringe',\n",
    " 846: 'table lamp',\n",
    " 847: 'tank, army tank, armored combat vehicle, armoured combat vehicle',\n",
    " 848: 'tape player',\n",
    " 849: 'teapot',\n",
    " 850: 'teddy, teddy bear',\n",
    " 851: 'television, television system',\n",
    " 852: 'tennis ball',\n",
    " 853: 'thatch, thatched roof',\n",
    " 854: 'theater curtain, theatre curtain',\n",
    " 855: 'thimble',\n",
    " 856: 'thresher, thrasher, threshing machine',\n",
    " 857: 'throne',\n",
    " 858: 'tile roof',\n",
    " 859: 'toaster',\n",
    " 860: 'tobacco shop, tobacconist shop, tobacconist',\n",
    " 861: 'toilet seat',\n",
    " 862: 'torch',\n",
    " 863: 'totem pole',\n",
    " 864: 'tow truck, tow car, wrecker',\n",
    " 865: 'toyshop',\n",
    " 866: 'tractor',\n",
    " 867: 'trailer truck, tractor trailer, trucking rig, rig, articulated lorry, semi',\n",
    " 868: 'tray',\n",
    " 869: 'trench coat',\n",
    " 870: 'tricycle, trike, velocipede',\n",
    " 871: 'trimaran',\n",
    " 872: 'tripod',\n",
    " 873: 'triumphal arch',\n",
    " 874: 'trolleybus, trolley coach, trackless trolley',\n",
    " 875: 'trombone',\n",
    " 876: 'tub, vat',\n",
    " 877: 'turnstile',\n",
    " 878: 'typewriter keyboard',\n",
    " 879: 'umbrella',\n",
    " 880: 'unicycle, monocycle',\n",
    " 881: 'upright, upright piano',\n",
    " 882: 'vacuum, vacuum cleaner',\n",
    " 883: 'vase',\n",
    " 884: 'vault',\n",
    " 885: 'velvet',\n",
    " 886: 'vending machine',\n",
    " 887: 'vestment',\n",
    " 888: 'viaduct',\n",
    " 889: 'violin, fiddle',\n",
    " 890: 'volleyball',\n",
    " 891: 'waffle iron',\n",
    " 892: 'wall clock',\n",
    " 893: 'wallet, billfold, notecase, pocketbook',\n",
    " 894: 'wardrobe, closet, press',\n",
    " 895: 'warplane, military plane',\n",
    " 896: 'washbasin, handbasin, washbowl, lavabo, wash-hand basin',\n",
    " 897: 'washer, automatic washer, washing machine',\n",
    " 898: 'water bottle',\n",
    " 899: 'water jug',\n",
    " 900: 'water tower',\n",
    " 901: 'whiskey jug',\n",
    " 902: 'whistle',\n",
    " 903: 'wig',\n",
    " 904: 'window screen',\n",
    " 905: 'window shade',\n",
    " 906: 'Windsor tie',\n",
    " 907: 'wine bottle',\n",
    " 908: 'wing',\n",
    " 909: 'wok',\n",
    " 910: 'wooden spoon',\n",
    " 911: 'wool, woolen, woollen',\n",
    " 912: 'worm fence, snake fence, snake-rail fence, Virginia fence',\n",
    " 913: 'wreck',\n",
    " 914: 'yawl',\n",
    " 915: 'yurt',\n",
    " 916: 'web site, website, internet site, site',\n",
    " 917: 'comic book',\n",
    " 918: 'crossword puzzle, crossword',\n",
    " 919: 'street sign',\n",
    " 920: 'traffic light, traffic signal, stoplight',\n",
    " 921: 'book jacket, dust cover, dust jacket, dust wrapper',\n",
    " 922: 'menu',\n",
    " 923: 'plate',\n",
    " 924: 'guacamole',\n",
    " 925: 'consomme',\n",
    " 926: 'hot pot, hotpot',\n",
    " 927: 'trifle',\n",
    " 928: 'ice cream, icecream',\n",
    " 929: 'ice lolly, lolly, lollipop, popsicle',\n",
    " 930: 'French loaf',\n",
    " 931: 'bagel, beigel',\n",
    " 932: 'pretzel',\n",
    " 933: 'cheeseburger',\n",
    " 934: 'hotdog, hot dog, red hot',\n",
    " 935: 'mashed potato',\n",
    " 936: 'head cabbage',\n",
    " 937: 'broccoli',\n",
    " 938: 'cauliflower',\n",
    " 939: 'zucchini, courgette',\n",
    " 940: 'spaghetti squash',\n",
    " 941: 'acorn squash',\n",
    " 942: 'butternut squash',\n",
    " 943: 'cucumber, cuke',\n",
    " 944: 'artichoke, globe artichoke',\n",
    " 945: 'bell pepper',\n",
    " 946: 'cardoon',\n",
    " 947: 'mushroom',\n",
    " 948: 'Granny Smith',\n",
    " 949: 'strawberry',\n",
    " 950: 'orange',\n",
    " 951: 'lemon',\n",
    " 952: 'fig',\n",
    " 953: 'pineapple, ananas',\n",
    " 954: 'banana',\n",
    " 955: 'jackfruit, jak, jack',\n",
    " 956: 'custard apple',\n",
    " 957: 'pomegranate',\n",
    " 958: 'hay',\n",
    " 959: 'carbonara',\n",
    " 960: 'chocolate sauce, chocolate syrup',\n",
    " 961: 'dough',\n",
    " 962: 'meat loaf, meatloaf',\n",
    " 963: 'pizza, pizza pie',\n",
    " 964: 'potpie',\n",
    " 965: 'burrito',\n",
    " 966: 'red wine',\n",
    " 967: 'espresso',\n",
    " 968: 'cup',\n",
    " 969: 'eggnog',\n",
    " 970: 'alp',\n",
    " 971: 'bubble',\n",
    " 972: 'cliff, drop, drop-off',\n",
    " 973: 'coral reef',\n",
    " 974: 'geyser',\n",
    " 975: 'lakeside, lakeshore',\n",
    " 976: 'promontory, headland, head, foreland',\n",
    " 977: 'sandbar, sand bar',\n",
    " 978: 'seashore, coast, seacoast, sea-coast',\n",
    " 979: 'valley, vale',\n",
    " 980: 'volcano',\n",
    " 981: 'ballplayer, baseball player',\n",
    " 982: 'groom, bridegroom',\n",
    " 983: 'scuba diver',\n",
    " 984: 'rapeseed',\n",
    " 985: 'daisy',\n",
    " 986: \"yellow lady's slipper, yellow lady-slipper, Cypripedium calceolus, Cypripedium parviflorum\",\n",
    " 987: 'corn',\n",
    " 988: 'acorn',\n",
    " 989: 'hip, rose hip, rosehip',\n",
    " 990: 'buckeye, horse chestnut, conker',\n",
    " 991: 'coral fungus',\n",
    " 992: 'agaric',\n",
    " 993: 'gyromitra',\n",
    " 994: 'stinkhorn, carrion fungus',\n",
    " 995: 'earthstar',\n",
    " 996: 'hen-of-the-woods, hen of the woods, Polyporus frondosus, Grifola frondosa',\n",
    " 997: 'bolete',\n",
    " 998: 'ear, spike, capitulum',\n",
    " 999: 'toilet tissue, toilet paper, bathroom tissue'}"
   ]
  },
  {
   "cell_type": "code",
   "execution_count": null,
   "id": "55aec5fa",
   "metadata": {},
   "outputs": [],
   "source": [
    "IMAGENET_LABELS[100]"
   ]
  },
  {
   "cell_type": "markdown",
   "id": "xDAi2SdIyW5A",
   "metadata": {
    "id": "xDAi2SdIyW5A"
   },
   "source": [
    "### Предобработка картинки\n",
    "\n",
    "Все эти предобученные модели ожидают, что входные изображения будут нормализованы одинаковым образом, т.е. пакеты 3-канальных изображений RGB размерности `(3 x H x W)`, где высота и ширина изображения равна минимум 224.\n",
    "\n",
    "Значения пикселей должны быть переведены в диапазон, `[0, 1]` а затем нормализованы с помощью `mean = [0.485, 0.456, 0.406]` и `std = [0.229, 0.224, 0.225]` (числа из статьи).\n"
   ]
  },
  {
   "cell_type": "code",
   "execution_count": null,
   "id": "NjfUFGc4yWnJ",
   "metadata": {
    "colab": {
     "base_uri": "https://localhost:8080/",
     "height": 682
    },
    "id": "NjfUFGc4yWnJ",
    "outputId": "cd044968-7862-4022-d38b-1eb5965fc639"
   },
   "outputs": [],
   "source": [
    "# Предобработка для этой конкретной нейросети\n",
    "from torchvision import transforms\n",
    "norm = transforms.Normalize( mean=[0.485, 0.456, 0.406], std=[0.229, 0.224, 0.225] )\n",
    "\n",
    "inv_norm = transforms.Normalize(\n",
    "    mean=[-0.485/0.229, -0.456/0.224, -0.406/0.225],\n",
    "    std=[1/0.229, 1/0.224, 1/0.225])\n",
    "\n",
    "preprocess = transforms.Compose([\n",
    "    transforms.Resize(256),\n",
    "    transforms.CenterCrop(224),\n",
    "    transforms.ToTensor(),\n",
    "    norm,\n",
    "])\n",
    "\n",
    "image_tensor = preprocess(img)\n",
    "input_tensor = image_tensor.unsqueeze(0) # Модель ожидает одно изображение (\"один батч\")\n",
    "input_tensor = input_tensor.to(device) # Отправим тензор на выбранное устройство (CPU/GPU/TPU)\n",
    "\n",
    "# Покажем картинку после предобработки и после обратной трансформации\n",
    "fig, ax = plt.subplots(1, 2, figsize=(8, 4));\n",
    "mnc_tensor = image_tensor.permute(1, 2, 0); # (C, M, N) -> (M, N, C)\n",
    "ax[0].imshow(mnc_tensor);\n",
    "ax[0].axis('off');\n",
    "ax[0].set_title('preprocessed image');\n",
    "inv_norm_tensor = inv_norm(image_tensor).permute(1, 2, 0);\n",
    "ax[1].imshow(inv_norm_tensor);\n",
    "ax[1].axis('off');\n",
    "ax[1].set_title('inv_norm(preprocessed image)');"
   ]
  },
  {
   "cell_type": "markdown",
   "id": "6OTWFI4d3UIQ",
   "metadata": {
    "id": "6OTWFI4d3UIQ"
   },
   "source": [
    "### Предскажем класс одной картинки"
   ]
  },
  {
   "cell_type": "code",
   "execution_count": null,
   "id": "eSwNnLVO3Vqk",
   "metadata": {
    "colab": {
     "base_uri": "https://localhost:8080/"
    },
    "id": "eSwNnLVO3Vqk",
    "outputId": "ae21d481-f50c-4521-9b76-eb4926ee4eff"
   },
   "outputs": [],
   "source": [
    "# Single prediction call\n",
    "outputs = model( input_tensor )\n",
    "print('outputs.device == {}'.format(outputs.device))\n",
    "prediction = outputs.max(dim=1).indices.item()\n",
    "print('ResNet50 prediction: {}'.format(IMAGENET_LABELS[prediction]))"
   ]
  },
  {
   "cell_type": "code",
   "execution_count": null,
   "id": "e0a0a00a",
   "metadata": {},
   "outputs": [],
   "source": [
    "prediction"
   ]
  },
  {
   "cell_type": "code",
   "execution_count": null,
   "id": "7654cefc",
   "metadata": {},
   "outputs": [],
   "source": [
    "out1 = outputs.cpu().detach()\n",
    "plt.imshow( out1.reshape(25,-1) )"
   ]
  },
  {
   "cell_type": "markdown",
   "id": "buXqkcN06xYj",
   "metadata": {
    "id": "buXqkcN06xYj"
   },
   "source": [
    "## Задание №1: Создайте функцию для предсказания класса картинок"
   ]
  },
  {
   "cell_type": "markdown",
   "id": "6UE77FaUFZpi",
   "metadata": {
    "id": "6UE77FaUFZpi"
   },
   "source": [
    "Скопируйте релевантный код в функцию, которая возвращает текстовую метку класса изображения."
   ]
  },
  {
   "cell_type": "code",
   "execution_count": null,
   "id": "8OkcOU3u60Bh",
   "metadata": {
    "id": "8OkcOU3u60Bh"
   },
   "outputs": [],
   "source": [
    "def class_of_picture( url ):\n",
    "\n",
    "    # Домашняя работа\n"
   ]
  },
  {
   "cell_type": "markdown",
   "id": "OKxyGzN6FCpw",
   "metadata": {
    "id": "OKxyGzN6FCpw"
   },
   "source": [
    "Теперь задействуйте функцию в простой задаче"
   ]
  },
  {
   "cell_type": "markdown",
   "id": "5WS1qAAAFQNn",
   "metadata": {
    "id": "5WS1qAAAFQNn"
   },
   "source": [
    "1. Найдите URL любого изображения (например с [unsplash](https://unsplash.com/))\n",
    "2. Классифицируйте изображение с помощью вашей функции `class_of_picture`"
   ]
  },
  {
   "cell_type": "code",
   "execution_count": null,
   "id": "Hg5fiEYZHKvV",
   "metadata": {
    "id": "Hg5fiEYZHKvV"
   },
   "outputs": [],
   "source": [
    "# Загрузите изображение\n",
    "\n",
    "\n",
    "# Получите его класс\n",
    "\n"
   ]
  },
  {
   "cell_type": "markdown",
   "id": "fl-labM3j_9R",
   "metadata": {
    "id": "fl-labM3j_9R"
   },
   "source": [
    "### Можно ли \"укрупнить\" классы ImageNet?"
   ]
  },
  {
   "cell_type": "markdown",
   "id": "_0wUgXTOHJw-",
   "metadata": {
    "id": "_0wUgXTOHJw-"
   },
   "source": [
    "Сейчас можно найти статьи по объединению текстовых меток по пересечению датасетов (пример: https://arxiv.org/pdf/1612.08242.pdf).\n",
    "\n",
    "Но это было до крупных лингвистических моделей."
   ]
  },
  {
   "cell_type": "markdown",
   "id": "QE2oI1PoHOS9",
   "metadata": {
    "id": "QE2oI1PoHOS9"
   },
   "source": [
    "![image.png](data:image/png;base64,iVBORw0KGgoAAAANSUhEUgAAAy4AAANSCAYAAACDU5oRAAAgAElEQVR4AeydB7gTxfrG7RV77x1UVBALFkRBLGDDLnLt7dqwN6yAXa+9o9gL2Ou1FwQUULBhF7siNlS8iu37P7/Jf5I9OUl2k7ObbE7eeR5ITrI75Z0vs987X5npTEUICAEhIASEgBAQAkJACAgBIZByBKZLef/UPSEgBISAEBACQkAICAEhIASEgIm4SAiEgBAQAkJACAgBISAEhIAQSD0CIi6pnyJ1UAgIASEgBISAEBACQkAICAERF8mAEBACQkAICAEhIASEgBAQAqlHQMQl9VOkDgoBISAEhIAQEAJCQAgIASEg4iIZEAJCQAgIASEgBISAEBACQiD1CIi4pH6K1EEhIASEgBAQAkJACAgBISAERFwkA0JACAgBISAEhIAQEAJCQAikHgERl9RPkTooBISAEBACQkAICAEhIASEgIiLZEAICAEhIASEgBAQAkJACAiB1CMg4pL6KVIHhYAQEAJCQAgIASEgBISAEBBxkQwIASEgBISAEBACQkAICAEhkHoERFxSP0XqoBAQAkJACAgBISAEhIAQEAIiLpIBISAEhIAQqCsE/vrL7OWXzc4+2+yAA8z22cfsxBPNhg41mzy59FB+/dXsvvvMjjnGbK+9zA45xOy668wmTSp9X6FvP/nE7NprzQ4/PFMXr1ddZfb222Z//13ojsxnfDdmjNmAAWb77mu2335mZ51l9tprxe/RN0JACAgBIWAm4iIpEAJCQAgIgbpB4MknzdZbz2zGGc2mm675vzZtzO64o/BwnnrKrH17s+mnb3offy+0kNlll5lNm1b43uCnH39stvfeZnPM0bQe3x/6BpkqVNenn5rttJPZzDM3v3eWWcz23NPs66+Drem9EBACQkAIeAREXDwSehUCQkAICIHUIvDnn2bnnWcGMYEgzDCD2aqrZggEFotevcyWXz5DCLB65JdHHzVbeOHMvRCLtdbKWDo239xs9tkzn886q9mZZ5ph0SlWXnjBbMUVM+QHwkOdO+xgdtBBmVfqpZ6ttzb7/femtXzxhdlGG+XuXXJJs759zXbbzWyxxXKfb7ml2TffNL1XfwkBISAEhIAsLpIBISAEhIAQqAMErrkmZ+HAOoJ7V75FA8IxbpzZu+82HRBWjjXXzBCDueYyu+QSM4iQL08/bbbMMpnvF1jAjL8LlddfN1tppcx1WEz237+wixkE5cUXmxIg2jvssAzhgjjtsktTtzbugXxByGaayax//6b3F+qPPhMCQkAINBoCsrg02oxrvEJACAiBOkMAwrDsshmryLzzmg0bVt4AiIWBDEAYjjuuKWnxNd15pxmkBivK9tubTZ3qv8m8/vJLxqLC99RDbMxvvzW9ptRfL71ktsgimfpxdfvyy+ZXf/ih2WqrZa5ZemmzN95ofo0+EQJCQAg0MgIiLo08+xq7EBACQiDlCGBFOeKIjCUCawQB8EFrSVj3CdZfd90M6cHF6513Ct/x888Zi4d3/yL4P1geecRs7rkzpALrzWefBb8t/Z5gfJIH0H/cyG68sfj1F12UcXeDHJ1zTvHr9I0QEAJCoBEREHFpxFnXmIWAEBACBRD47bffbOTIkXbJJZfYXnvtZdtss4316tXLdthhBzvxxBPt3nvvtc8//7zAncl9NHGiWbt2GeKxxBIZV7ByWiMmZb75MoRjjz1Kkx5iY3ABgzRAIHyBKBFsD6nhe1zNyinff2+24YaZMbRta8aYipU33zQj9oW2ttiiueWn2H36XAgIASHQCAiIuDTCLGuMQkAICIESCLz33nvWr18/m2eeeWy66aYL/delSxe766677M9yTB8l2i/1FamLyd6FIo8LVznuWdQLGcFNjH9XX12qJTPcuRZcMNMWQfM+SB/rCtnISAqAC9dbb5WuJ/9byAikizFsu23pMUyZYtatW85C9NFH+bXpbyEgBIRA4yIg4tK4c6+RCwEh0OAITJkyxfbZZx+bfvrpQ8lKIUKz7LLL2tPFItljwBYXq9NOywW0X3hheZVy/1FHZe4nG9nDD5e+H0sIwfcQlI03Nvvxx8z1WG3mnz9DPDbbzIx4l3LKY4/l3MxwdaNfxQpk6V//yrRFooCRI4tdqc+FgBAQAo2HgIhL4825RiwEhIAQcIRjySWXbEZYFlxwQeciNmDAABsyZIjdcsstdsUVV9gBBxxgHTt2bEZyID0HH3yw4WYWdwkq8XPOafbgg+W1wP19+mRIAJnI8uNW8msjBbGPh1ljjVwAPYH7nLGCxYSg/FLEI79O/r7ttoyLGTEuYXEr1H388RmyVcmYC7Wvz4SAEBACrQUBEZfWMpMahxAQAkIgIgL333+/zTzzzE1IS+fOnZ371x9//FGylnfffdcOP/xwm2OOOZrcv/nmm8dOXjgHZZttMhYQrA+kGC6nkC4Z1ywsKJyTEnYy/Q8/ZM5Z4XosLxw0ScHFjLgXiAen3ZdLXK69NnM/dXDIZalC3WeckWmLQP677ip1tb4TAkJACDQWAiIujTXfGq0QEAINjsADDzzQhLS0adPGrg4L/iiA2YcffmjEugRdyCAvv+efuljg3qgf/fqrGYcxQiSiWEzy66UrW22VuZ8YkwkT8q9o+ncwvoTDLH18CcH4nriEWUya1pj568orc8SF82jCCumbIUkkArj99rCr9b0QEAJCoHEQEHFpnLnWSIWAEGhwBD766CObc845s2RjscUWs3eK5QeOgNXff//t3MSC5OWYY46JcGe0S7CYbLddhngQY0KsSTkleP+ii5qNH1/6brJ/demSaY/sX598krmewy49cSHmplyLy+DBOeISlpGMun1cDxaXoUNL91nfCgEhIAQaCQERl0aabY1VCAiBhkXgn3/+sa5du2ZJy6KLLmpkE4ujEOPiycsMM8xgL5br01WkE8So7LtvJrZkttnM7rmnyIVFPuZ+UiATm0K2sLBA90mTzNZaK0NcOKvlq68yFd99txntU89+++WyjRVpttnHuHtBQrCinHlms6+bfABxgftxLQdicn6MihAQAkJACGQQEHGRJAgBISAEGgABAu09ueD1ySefjG3Uf/31l62zzjrZ+ldZZRWDKMVRvNtUJfElkAB/8CMple+/v3SPOLl+ueUyxGXTTc04lJJCmmRc1XBZ69rVjFiYcgqJ1+adN0N8DjqotMWGDNO77pq5duGFzUaPLqclXSsEhIAQaN0IiLi07vnV6ISAEBACDoEOHTpkicWBBx4YOypvv/22zTLLLNk2nnjiiVjaCKYS7tEjRyaiVj5kSO5Qyf/8p/Rdzz+fO6wyaFn5+uucJWaRRconE+++a7bMMhkysvnmpQ+V/O47sw02yJCkVVYx+/TT0n3Wt0JACAiBRkJAxKWRZltjFQJCoCERGD58eJZQzDTTTPb5558ngsMee+yRbWcb0oHFUCANnTplFHniXJ57rrxKsVhANnDz2nFHs1K5Ay64IBOLQlA8mcB8wXJz5JEZ9y1iXU45pbTVxN/nX7HcQLroAwTm7bf9N81fx4zJ9beSAzeb16hPhIAQEAKtBwERl9YzlxqJEBACQqAgAv369csSih3R3hMqY8aMybYz44wz2q+kBWthgTQMHJg5+R7Ff+edS1ss8psjU1j37hnSsPjiZmPH5l+R+RtLx4YbZq5baimzN95oeh1hO95djIxjb77Z9Puwv3B5g/RAiopZfhjrqafmrrvqqrBa9b0QEAJCoLEQEHFprPnWaIWAEGhABNZff/0sobj11lsTRYBMZT6WZsSIEbG0RXavjh0zpIIgeSwjBN5HLVhPCI6H+PTt25z4QBggE/4aEgKQkSxY+JvDJ4m1oR7Oh4HsRC1vvZWLnyFjWaHUzFiHll465yY2cWLU2nWdEBACQqAxEBBxaYx51iiFgBBoUAQInJ999tmzZIIDJJMsuIh54nLxxRfH1tTDD+csHrPPbnbUUWZkAQuWL780I/VwPl8izTHB9hAOLB7//rfZ5MmZO3Ed41BIgucJvseVa9y4YK259599lrPKQGC6dTPDtStYMDKRCezGG80ItPcFcjRoUKZ9+tG5s9krr/hvM4drrrFGpo8QqEsvzX2nd0JACAgBIZBBQMRFkiAEhIAQaMUIfPHFF1kiQfB8XNm+ikF28sknZ9s7/PDDi11W0ef33mvGQZIo/vybc04z0haTwpjPISW4YxVysYKMtGuXu3e++TL3LblkxooCaYG83HJL6a598EGGsEBcuIc2saBARFZYIdMn+rb11s3jaX780axPn0wfuReC0r69GUH41MNnM81ktv/+za1CpXulb4WAEBACjYGAiEtjzLNGKQSEQIMiwAn33gIyL5p5wuXss8/OtpdE9jKIAxm/5pknQ0JQ9v0/SMuqq5oVy/TMWZu9e5vNMkvuHu6FhECAyGAWpRBsf+GFZsS6QFJ8+7zyN7EwZ5zR1OLi6+VeDpgk0UDwXt6T/vicc8xiCA3yzelVCAgBIdCqEBBxaVXTqcEIASEgBJoi8Mknn2SJxBwcZpJwGTBgQLa9Qw89NLHWOEvl0UfNLr88E59yxx1mnKeJS1ZY4bqbb87EylxzjdnLLxcmGWH1EPfCvbinQWR4HTWquaWlUD24rz3wgBnedJdcknEvwyKjIgSEgBAQAsUREHEpjo2+EQJCQAjUPQJTp041TrP3VpdJ+YEhMY9wzz33zLZ1BmYHFSEgBISAEBACMSEg4hITkKpGCAgBIZAmBH788UfjEMiBAwcalhZPXB4hcjzBsuqqq2bbOv300+3bb79NsDVVLQSEgBAQAo2EgIhLI822xioEhECrROCPP/6wsWPH2hVXXGEcArnCCitkyYMnLP71mGOOSQyDr776qol1Z6ONNjLiapZffnnbbbfdjCxjI0eOtN9++y2xPqhiISAEhIAQaL0IiLi03rnVyISAEGilCHz00Ud2xx132BFHHGHrrbees6hMP/30TcjKaqutZrvssotttdVWNtdcc2W/m3/++e1///tfIshgYfEEiRTMF154oRFj884779jNN99shxxyiK299to255xzWqdOnezf//633XjjjTZhwoTEs50lMmBVKgSEgBAQAlVFQMSlqnCrMSEgBIRAeQj88MMP9vjjjxtB77169bIFF1zQllpqKaf4r7TSSsaBjxCBFVdc0cjihWvY/vvv7z7v2LGjkeULawzXeFJxVaF8weV1q9nVv/zyiy266KLZNgjMpz8LLbSQde7c2ZGYTz/91N33+++/20svvWSXXnqp7b777q7v88wzj3Xv3t1OPPFEu//++w3rjYoQEAJCQAgIgSACIi5BNPReCAgBIVBDBKZNm2Zjxoyxyy+/3P71r38ZxGTuued2Cv2+++7rLCiQl+WWW86RhL59+9oNN9xg9957r7O+LLHEErb66qvboEGD7L333jPiXHi/yCKLWNu2bbOkApLw+eefxzpSrCeeGM0000xGXy666CKbMmWKPfXUU3bAAQdkScx//vMf8yTGd+L777+3//73v1mCBuFZcsklbYcddrBzzz3XnnvuOYMcqQgBISAEhEDjIiDi0rhzr5ELASFQYwQ4Y+X222/PunxhFenQoYOzVBAPgrWEQxwhI8SKbLvtts5K8dZbb9nLL79sRx99tC299NJGQDwZvN5++203oq+//tqOO+44W2CBBWyvvfZyn0MMghaRbt26GZaPOAoWEk9aeKXvr7zyiu20006OrJx22mn23Xff2Z9//ukSBmARwnKEmxvk5jOOpC9QvEvckUceaeuvv76zGuECt99++9m1115rr732mv31118F7tRHQkAICAEh0BoREHFpjbOqMQkBIZA6BLxFAYIRdPlCub/gggvsySefNDJ+nXLKKU5Jb9OmjW266aaOvIwePdop6Fhjjj32WFt22WVt5ZVXNggBJMYXiNBBBx1kxLH069evmVXjtttua0IwiH9pKXmhz7PMMku2XmJY/vnnH98le//99521Zb755nMkzFta8kkMxKQUiaFCkhBAiHB123vvvW2VVVYxcCIJAEkHhg4d6mJqso3rjRAQAkJACLQqBERcWtV0ajBCQAikAQFcviAbl112meHOFXT5Oumkk+yBBx6wL774wsWe4Aa12WabuQB6YkH69+9vzzzzTDbzFor68ccf79zDcPeC2LzxxhtNhonlgaxdWDFOPfXUgimIIT1YZ9Zaa60sycA6suGGGxqWjXLL33//7QhXkLTg1gZpuvvuu5tVR8wK48AKROazN998M3uNJzFYUhiDJzFR3Nl++uknhxfWqd69e7vYHlzjtt56a+cmR0poXOZUhIAQEAJCoP4REHGp/znUCISAEKgxAh988IFhzcCta91113UuTQTGY/0YMmSIy5qFoo8rF/Er22+/vWGBaN++vbOMPPjggy4WxA9j/PjxBsEh4J5/vOez/DJ8+HDr2bOnLb744o5E/Pzzz/mXuL8HDx5sCy+8sAt6xxqCq1bQtQsXNQgUiQCilGeffdYRnmAdkAWyg40bN86lP8aNDUKSX4h5OeeccxzBwOLz4osvNrmEe0hGECQxuJ5FITG+Iq4l7geitMkmmzhSCOkjbgj8IZWQSxUhIASEgBCoLwREXOprvtRbISAEaowAsRqPPfaYkfp3yy23dBaEZZZZxnbeeWeXOQtF/Ndff3W9JHaDdL8ozJALriPInrgW4lCC5fXXX7eTTz7ZBdFz7skJJ5xgr776avAS9x7i8fDDDzviAKm57rrrirp74QYGSSEGhmB9X6iDuJEg8eA9B1XiggXZwiKCpYKAeKwljJnMZsSY5N/HuTGQFl8gQJASXLiKZQejb9dcc40jZlh9HnrooSYuZtSVT2I22GADFz9TDomhHkgj4yGRAZnOIJWQNUjmYYcdZrfeeqvDJ+ji5seiVyEgBISAEEgPAiIu6ZkL9UQICIGUIYByHUzbi4JORq4ePXo4ly4sJZMmTcr2GlKDmxQZtnAPIzPWrrvu6sgF8Sf5hfgUXLuIVyFuhYB6UhcXKgShY9UhUH/NNdd08Rwo5MUKpGmdddZxhKpYNi7iakitnE9Eov7N2TEo/p6oBfsCCSCjGdnFsAwVK4yB2BTOdcECxXkvhSw1cZEY3w/6DMkkwxnn3YA/bm6bb765c8eDHE6ePNlfrlchIASEgBBIAQIiLimYBHVBCAiB2iOAoo1V4pZbbnHKOEo/u/Io1AcffLCznODqFdyVnzp1qkvhS8A8ZAJSg6WBIHMsKMFr/Qg5jJEAfawgxJwQVI7rUrHCKfNXXnmli3HZeOONnRtVsWv958TIkEGMoP+wQowIhGmGGWaITGC4FhJHZrOwQowJfYEghBWIFAkJwOWSSy4pSIiow5MYrFfEzHhLDHFDLSnffPONs2ZBJiEwuPNBaCA2HKYJ0Unq8M6W9Fv3CgEhIAQaBQERl0aZaY1TCAiBJgiwm05GrKCSyvkoBLkTUzFy5MhsgLy/kaxWWA9wE+vSpYvLaEUMBZaFUaNGFbQUcO+7777r3KywKHA2yVFHHeUsOYWIjW+LWBACzlH6t9tuO3e9/67U63nnnefiR4hDiVroD/Eg4AEJY0wE2nvLC0QFqxAubxwaSTIAlPqoQe9kEoMIkkGtWBxOsK8kJMD1DouVT6Uc/D743pMYHxPjSUy57mTBOoPvyYqGpYssbSRP8CmrOZfm+uuvd4kSSlm+gnXpvRAQAkJACLQMARGXluGnu4WAEKgDBLBaQEQgJBATCAqKN7vqEBcU9kJuQSikxJmcf/75tsUWW7ggb9L9En+CdaDU7jsKL4QG1y7cpY444gjXh1JkBShxPaN+n30rmO64FNS4g0EMUK7LUdpxmaKtTz75pFn1uKcVC2KHxESx6PhKqQcXOghQMB7Gf1/oFQyJScGFi8QHPpVyoWv5rBiJaaklJtge4yBD2xVXXOGyo7Vr187JBdYwLFf33HNP0XNpgvXovRAQAkJACJSPgIhL+ZjpDiEgBFKMAMQAd6ybbrrJDjnkEJf+l11yCMehhx7qXMFwCStGIPiOc0J23HFHp9BzVgj33XfffaFZt4hjwUpC8Pdiiy3mlG3ci4q1FYRx4sSJTrFHSSdupBCRCF4ffI9Fh36i5BcjGsHrg+8J7seiU24hFgc3qnIPgCSGBUvKXXfdFblJEhn4VMoQpmAq5WKVeBITdCfD/SxOEuPbxvIEkT3zzDNtm222MTKsMf/getZZZ9nTTz9tuOSpCAEhIASEQMsQEHFpGX66WwgIgRojQFwCGanIyMV5KJwwT/xFnz59XJwEwfWlDln88ssvHZnhhHncuAhWJ7MWmab4LqxAOEglTCwMbl2Qpeeff95lsgq7l+85k2X33Xd355cwhkKWn1L1QKggAmTMqqR06NDBKd2V3Mt5K7RfbsHVjDnCCoX7XdSC+xxYQwoKpVIuVg9t/Pe//3UZ3bAukcUsKRLj+4B1aNiwYc71rmvXrs4qg7UJOSNmCXe4csbu69WrEBACQqCRERBxaeTZ19iFQJ0hgGvWiBEjmmWCIi0xsRCPPvpowcMXg8MkVS/KNlYUFEkUWVysrr76anfKe/DaYu9RSnGTworD+Si4QBFTUk6sA+NA+SZNMq5oUWI/gv3B0nHiiSe6FMsowZUU4nXAIIpFqFD9d955p4uHKfRd2GdYKbBOQCKiEMRgfVFSKQevD76vBYmhfeaLhA1YuEhRjQshlsD11lvPEThSZBfKPBfsu94LASEgBBodARGXRpcAjV8IpBQBlGmyeHEOCsSArF0oepy9QbwDFhFiIMIKZIfMVrgaQTQIOofoQDw4LDGq0k56YTJjEUOChYPgbFyAynWVIp6GwH4sDtdee21Ja1CxsZF2mZTM/Pv222+LXRb6OamaL7vsstDril2AOxbxOyjklRSwx5UK8vbcc8+VXUXUVMrFKvYkZp999nEE1ltiyiVSxeoP+5ysdC+88IIjrpBnrH0QaeSTBBBRiHhYG/peCAgBIdCaEBBxaU2zqbEIgTpGgKB0zkXp37+/S4lLamEOWOzbt69Trkm9W8rlyw8dZZpA/IEDBxoB023atHEHIZKCmHiTctxziIcgoB+XqAUXXNCd5g4Joo1yCuTmjjvusDXWWMNwzcJSUS7h8e1hXSG2hAD+SuugLg6GJEFBS2MviOsgo1dLCgQQNzssT5WWqKmUi9WPXHDIZpDEkEGtWiTG94t4Hv87gJji+siBpKWy3fl79SoEhIAQaO0IiLi09hnW+IRAChEgkxVuSpyNQdpbzu1gp7lnz57ujBPiEb7//vtIPWfXnh1/zk7B9QrCg3WGtL7Uw652OQWFHoWV3Xf6hCJLPeWSFdqEaOGChuLJKfIoxi0pnGiPtefee+9tSTXuXogc59O0tGDxgQBhBWpJwaKFNWuHHXZoEZkiaQDWC1z4sFpU0q98EoOFrBYkBjyRb5JNkNSA+CmshlgeianCEolFkixtUS2HLZkj3SsEhIAQqDUCIi61ngG1LwRaOQK485DSl+Dxgw46yGXcQvFCSeVsjEp8+z/66CMXK4CrEwoqp9SjxHFqfSWKKtYe0ttCLsjqRQA1bjrlWGeC04gVwweRb7311s4CFPy+3PdkCgM7MoehxLa0MC7cs6KmJQ5rD3JHNrWWFsaJct62bVsnMy2pDzdC3PmYT+QsLJVysbY8iSFhA3XVksT4PkKISToBmSKxA5ZJCHv37t1d3NP999/vLGr+er0KASEgBFoLAiIurWUmNQ4hkBIEsFigOBE4jiKFQgWxII3t5Zdf7s7AKDdlL8QCVytcknCTIqsU9bHbzE59JYVsZKQ95rBFLAbU9/DDD5edTjjYNnWedNJJzq0MFzcyhrW0cCYLJI/0zOUG8Bdrm1TEjDuuQpYw4jMqsUoV6sMtt9ziLEvMeUsL8sj5KpCOPfbYo0WECBIDoQ2SGGKEqu1OVggTLJRYBgcMGGC9evVyMkiWPCxYkGhiiDjrR0UICAEhUM8IiLjU8+yp70KgxggEg4tRrFFeiQVBcUKBevzxx0PPPik0BCwW+PmzU85p8xCL7bff3hEfAvYrLbg1XXPNNY5QETvAbvUDDzwQKXamVJucuUKWMvqJxYAUyXEUlE1I2nnnnRdHddk6sCxxUGKchZS/Q4cOja1KSB+WBBIxVGr5CnaGVMrnnHOOwxMrGFndWlIg30ESA6aQGIhSWgqWSeKpjjrqKNtggw2ci9lqq63m0kKTGGL8+PEtipNKyzjVDyEgBBoHARGXxplrjVQItAgBXL44+O/66693LjgEmePyReA653GwO46iVEnhZPtnnnnGBeZjXZhrrrncmSzsFBOzUE6a4fz22YkePHhw9owXgpxJh0ybLS24wGGpIRYGSwsWl7gK8T8ErBO4HmchHoid+JYE9hfqD3E3xAXFWSAbHOKI0h3XwZHMO+SVrG70FytbS+NDPInBxRDLThpJDPOCRezVV191cVe496266qoueQXub0cffbQjnh9//HGcU6i6hIAQEAKxIiDiEiucqkwItB4EcH9BwSd7FW5FpBFu166d7bnnni4eBEJR6U44SvPo0aNdXMSmm27qlCcI0CmnnOJcWqJkDyuFNGe1EFOzxRZbOFe1XXbZxVkYSI0cRxk1apQ7gwRrCLv4KNhxFdx56C9B2JXGZZTqC3EfgwYNKnVJRd8xp8sss4w7WLGiCorcBKnwlhLOyomr0F9c5kjkgBUC97Q4XN0gMaS8DpIYXCTTZIkJYoh1k00DMMaqSewTcWNYpcjMRxY9ztxREQJCQAikAQERlzTMgvogBGqMAC5fnPaOSxI+8ZzNQfYqlBeU3DiUF6wTBBNvu+22LsUrB/AdeeSRbsc7jtgNlCtiXshMRlwNrmu4LpHBLK5CDAEuUcstt5yLj4nDahPs23vvvedc4zigsKXkLVivfw9GuLPFaRnydfNKOmOIbRIF5RqiiBUu7oJ8E48F8SWnPOUAACAASURBVEJG45KZfBKD7KSZxHhcsW5hQQtuWvg4Ndzh2HRgbCpCQAgIgWojIOJSbcTVnhCoMQLsNOMuhPtU8ARv3HHwhWcXOo4YDeI+sHoQR4LLE8o+7eFzH5fizG4xaWJ9GmR2jKm/3BTIpaYENzW/Mw/ZIgsaGMZdiLVhp5uT1ZMqpIwmaUBSBUsXxIhkCkkUFGpOmu/du3eLUiYX69uYMWMc4WUeSBcdNSV3sfqCn3sSA7HDncyTGM5tSXvJzwzoD4NdZ5117LDDDnPWKkh3S13u0o6D+icEhEDtERBxqf0cqAdCIFEEyEpFIDYnx3MgI/EjK6+8snNlIasWPu+VunwFO07gOxaOAw880MUPLLLIItanTx8XExMHEfJtYZ257bbbnOUG9zViICATcVhtfBu8YvEggJkA8bhiIYL1+/cohRy6yVk2KM5JFZRKxoKbW5KFtM0kZkiqIKsoy1gA4sjaVqifKOGQbAgG8VuVZq4rVDefQWKIrQmSGNJx1wOJ8WPC7ZIEB//5z3+MtORk+4O0brbZZs7l86GHHoptg8K3qVchIASEgIiLZEAItCIEiI8gDiDorw6B2GabbYwTzp966qnY4jFoi6xKBPUSqI97Fu1ccsklLog/Tlhpi+B/dtppBxc2YhKwuMRdaOuCCy5wvv5kR3vxxRfjbiJbHzv6xOHgpjR58uTs50m8wc1trbXWSqLqJnVyNgwuXXGQ4SYV5/0BWcWdERKbVCHOi4NMITCQjLjOvQn2N5/EsLlQbyTGjwcZJr7n1FNPdXINbrjfccgsySY4dDYuNzzfpl6FgBBoLAREXBprvjXaOkYABQffcnzMcfdhxxmLQ5KHzqGI4CZFQDenv+PyhesXLmC4giVRGOMxxxzjFB4OXOT08yQURt93iApKFXE9xMegXCVdIJBgyW51NQo7+eyGx5lEoFS/IRPIZTUKFkXcx4jNSoLIBscAjpxPRBa5uM7pCdYffE9bEBhcypg7zqBp6TlDwfpr9R7rFRZgztbxFuC4kn7UakxqVwgIgeohIOJSPazVkhAoC4EPPvjA7SZzjgUpgkk93LFjR3eCOsSBYPeWpAku1BmUeHZMiXVZY401XBA9wfQELNNeUuWVV15xrmzEwaDEsGNL6uUkC65ttMOuPSmSOUSxGoXgciwSJEOoViFe49///ne1mnPWFsaY9Bz6AUHqOUenbdu2icqpbw+CRCILMnBhlUua7JKRjKB+SIy3/rQGEgOexIvh8kfMHRskrDusdax5nOMECWYtVBECQkAIgICIi+RACKQAge+++84ee+wxZ13Ycsst3Y4uMQ9Ju1ig8KFAo8ATnN+mTRu3U37WWWfZyy+/nEgQuod73Lhxbvea8zSwHp188skuaYD/PqlXdnxRiFAAicf48MMPk2qqSb3E4GAVQCGL60ySJg0U+QOXLRTsJIlnoaaJc0ERrWa59dZbHRHFjawahTgokikgv/x+ODQ16QB1T2I4K8aTGDYb+C23loI7GWQQl03WQNZCxopb5WmnneY2V9h4UBECQqDxEBBxabw514hrjADKDqQAKwZuVwRME7fBeSYEaZNdKqkgXSw0WDfYLd58881doD6KNO2Sbjbu9L75UGPVoC0UPQgLbjcQmGqUt99+2yUkwM2HRAVJYVxoLO+8845LiIDVo9oKJq5+nMNT7ULmOFyc4szMFWUM7N7zm8JSmXScje8Pv6u7777bnb3DoY433XRTVdqGxOA66kkMZ8e0NhLjMSZTHcSQDQ4SAMw777wuUyHWUrLlkSggrnOafJt6FQJCIH0IiLikb07Uo1aGwPvvv2/sBJMJifShuEGQThQllnNHiN+I2+UrCCFK85VXXul2+9m1bN++vbM4oARUI+YBdyEsOmQywxUM0gB5qlYhUxdpkklSQIKCah+mx3kYuKMx17UoKLXEFNSiENAOSa52Qa7JNocVpJrWLcZJ/FKPHj2cleDiiy+ONTV3KRxJJFCIxFSLvJXqWxLfYdl69913XTp03AQ5sDW4tg4ZMiTxtTWJcalOISAESiMg4lIaH30rBMpCAPcFMm3hzoBbA0SBrDqchE4gdjV2BQlWZseXYF4Czml/3333dSmDq2VlwLpBUD27z7h5kJkpyVS/hSYJBdIfKkh8QLV3Y/Hdh6SRJpaU07UonNez5JJLxnIifCX9Z9zMfxLn3oT1B8WW7HrE2pBpr9oFco6bE6SV9QB30GoVT2K6dOni1iAsMaxLrZXEeFyD1mySJ3hrdrdu3Zx197777jOwURECQqB+ERBxqd+5U89rjAAPyZdeesml/+W8ErJu4fLFbivuDJxjkNRBfMGh44rDjvrBBx/sgpNRlCBKnEFSrfgN+sPuJ3ENWHSWWmopF+APPtUsWK7Agt1XSBMpk//8889qdsG1BYFFDnBpqabCmj9QztQZNGhQ/sdV/RvluVYWHwaKCyTkhaQItShYXJkHNjFwX/v000+r2g0UddxSPYnZe++9G4LEeJBZH0kFztrEQbWsj2zoEG+GTEBqSUqiIgSEQH0gIOJSH/OkXtYYAXZvOZQORTjoltCpUydHGLBwYGVIOjAXGAhcffzxx106UdonJTKZjbDoEENSjT746UApw/2KTEAoAxzWN3LkyKr2gb6wk0ymNdzRSI1LnFA1cfB48Dp27Fhn5TrppJMSdQEMtlnoPS5xxJhUgzwXat9/NmzYMBeD4f+uxSvuYsgF5wAlnTK52PiwdmKBI8YKa2i1Mq4F+wMOkBgOVIVIQWJICtLaLTFBDHjPgbh33nmn21wBC5KSsOGCZfqaa65xcXe12PDI76f+FgJCoDkCIi7NMdEnQsDYMfcHqRHEjgKIyw8nRBMIinJeLdcjHqC4mLFjSDpUHrK88jefV1vpwIpz9tlnu9TM7GSzi8whjbUgClOnTjXiCLDw4Jr33HPP1VR6IU/s6OKSUuuCnJL8odYF+WV+xo8fX9Ou+JTJJIaoBWnwgyf+xruwcZAqv+FaFEgMh8WiuEOm9tlnn4YkMWCPjJIk5Oqrr3Y4YK1lnQUbDtglwcXHH39ci2lSm0JACOQhIOKSB4j+bDwEyKQ1atQopwCToYYAcjLW4OZzyimnuEPfyJBUrQIBwHKCBQVLChYVTjxnt/aJJ56oycnT7FDiVoGFh4MTDznkEJdGOcmkAqXwxv2Ds0kgCcQR1CqGxPcRpRh3IA7MxGWu1gUZwr8fuU5DQVFHMU5D4VwQ5IbXWhZcTdndJ7seCjLnstSC/IOBSExzSSB9OW5kyC7JPUgpvvDCCzt3s4EDBzqr9w8//ND8Rn0iBIRAogiIuCQKrypPGwIoBj4TDco3hGCOOeZwr/x98803u++rrUBgxSAmhdgUlCoOYaQ/ZKSqdjpZP2f44nOOApnQeGCTBY0Hea3ICv1CweJwTNxc9t9/f8NVrdaFZAjrrruu7bTTTqnxlcenH5KZlkKcD1bLyZMnp6JLWFywvOD2WW2LZT4AJC4YOnSom6/VVlutZnFZvl/IM5YYMrJ5SwzyVGucfP9q+cr6w5p8wgknGAH/bCohR//6179cRjfS3ENIVYSAEEgOARGX5LBVzSlAAEWJnUwsJz73P0H0WFZwMWJHOumzSwrBgL87O774VJP1i/gQUsdCnFAcalVoG0sPZ7tAoDhA8Omnn65JVqggBsQX7bfffo6w4LqBApGGApHDXe78889PQ3eyfSAIGbe1NBXmj3iotBRiXdhJJ/allr+5IB5PPvlkNhMesSjEs9WygAvrpCcxrFciMbkZYROHg135rXGYLWnuScnMZg/p74mJZKOs2hthuR7qnRBofQiIuLS+OW3YERFzgr84vv3EohCTwi4vMSqcI0LMSq12fPFrJ2CceBD8p7EYkNWG81Vq7VpE1iF2WNdff31bcMEFHUHAJS0Nwam4gGHJwOJDTE+trE+FflRYo3CbI2tVmgpufcxjtWKwoo6dgyEh6GmQq2CfOWcG8pmmeSTBw4477ujkHpfIWmam81h5EsM6gSUGEkOSkLTNp+9vrV79c4gNoOBzyLsek22ymq7HtcJB7QqBpBAQcUkKWdWbKALsYJHFi0P9SAOMWwwuX+x04f7BThe79LXa6cKKg6WCzFK4Ec0111yOQKEkcb5DLd2tmBh/4jYpUoPuIGlRQrBk8KAnqBtSVeud56AwkzoVlz5k7bPPPgt+lYr3nJnDvzSWTTbZxGVzSlvfvOWMeIZarRmFMGENwyWSjQ4y9qVF3iAxbBAFNztEYgrNYOYzNsx8sheSiLChhqWd+LwLL7zQhg8fnqo1rvhI9I0QqD0CIi61nwP1IAICpHTlpHfOR+F8DILnCWrl/BQUW84LqaVvMX7q+DefddZZztWDjDS4V2Dpef75543g7VoXMLziiitcRjIUIVzT0nQoHQrj/fff79zUSGvMyddp86tHkcRihjJZS3krJkvs9mJtweqSxkK2NVyz0lhwP0QR32677QwLaZoKGw3HHXec22TgdzthwoTUdA8yJRJT/nQQn3frrbc6KzyuubiYdejQwSX5uP766w0LZa03uMofle4QAskjIOKSPMZqoUwEUL5Ir8tOFDvb7EyhaG+55ZbuBGqUbdIV17rg24wf+rbbbuuIFGeZEDjOzhoZadJQ2OkjxSc73ezyEUSKq0IaiJTHBysPsT0QAg6OJPg1jQ9sSBVxP4MHD/ZdT90rvvak2E1rYV5x4RwzZkwquwhRxp2TgGsUx7QVzuYhFTkuittss41Ly56mPnoSAzlNm9tpmnAq1BfWZH4Xl19+uTvnhwQtWOo33nhjl1GSQ1zTYnEr1H99JgSqhYCIS7WQVjsFEWCXnd1DdtfJWuWDG3GvQoFgRyoNmaPo/CeffOKCMDkbA8WBIH+C18nxX6vYmUKgQurIULbppps6QkV/ia9Jm4UAgnrZZZc5Ykpfn3rqqULDqflnKNv9+/e3pZdeOrUKtweJ3w/B02kuxAb17ds3zV20O+64w5FUXE7TWHBFZUMCqzPunmyWpK2gZBPn4UkMVsq0xM6lDati/YGokrBh0KBBjqgS60c8FlZBCCzuyLU6ULVYn/W5EEgaARGXpBFW/U0QIJsWSjSKIMrqPPPM486bQJHBepGmdJIQANKUcj4HCsIiiyziDvRjVxsSk6ZC0DruBcSFgClBoVguapExLQwXHsY8iMGTrE5p3X1nHOBKcofu3bunipwWwpgMeVgK0hSjUaifzD/WP9aCNBcsqux6E0OXJgtlEDNcVNk4gbCuvvrqbqMnLXFqwX6SWl0kJohI5e959gwbNsyOOeYY22ijjdxBmZwftddee9lVV13lYijT5mJb+Wh1pxBojoCIS3NM9ElMCBBQTdAhO6wEIbJjTSB4z5493eGBjz32WCqy5fjhEnTNziXpdvE1Jo4GNzAIFUpM2goKIJYqXOggK2B89913py6blMcNP32CxpGBvffe29555x3/VSpfOUmbw0iJLUBBTHvBskasQT0UrKunnXZa6ruKyyfZ/4hBSLubDtYMzhbBtRZLZpoSWgQnGhKDGzCY4k6GJQarQhoJV7DfaX3P2sSBxdddd53LCAmBJV6GeC0SOmA95JwwFSHQWhAQcWktM1njceBO4/PZY6Ho2LGjWzx5OPXr18+dWfLBBx/UuJdNm2cXlcB5AugJpCegnp11Auyx/KRRWSVo+KabbrJevXo5soJSxY7r1KlTmw4uRX/x0EQm0pYZqRREYEw8C0SwHgqJF7BiQGbroZAREHfLtFoy8jHknB76i2tO2gsWTNaFNKYQz8cO64EnMf7cKEhMGtfe/L6n+W824Xi2kcWStNpkZ4QkpnXTMM1Yqm/pQ0DEJX1zUhc9YvecYOUTTzzRKfvBE4QJLhw9enTqlBLIFamIWcxx/yHwkVgaUhajkKTRrQphYNeXWB+CcbGs9O7d2+2i8XBKcxk/frxzWUMhYXc9DWdRhOGFIo1rEC5CacrcFNZvXO8gh/VUcGtMawxJIRxRBBdffHG3sZF2dzz6z/lQ/tDWI488MjWHbBbCls88iWFN9iSGuDeRmGKIlfc5z2zctHneeTftYGbOWh3GXN4odLUQMBNxkRSEIsBu/gsvvOBOBw/u3rDrz6GA5O9P08GAwQHx8OaQR3Yg2fEncxVB/yzgaUt5Guw3pOT22293QZiQFVzWbrvtttRkKwv2Nf89soL7GocNspuadoLl+89BnLhXQAzrKeAVF5sll1zSXn/9dT+Uunh9+OGHXRa5uujs/3cSGdlwww3d7zHN60cQU/qMiybrH3EQWLvSXiAxuBh7EgMpF4mJd9Yg38gC1mU2a9Zaay3nJcErf/M539cDSY8XGdWWdgREXNI+Q1XuH1aJN9980wV6kzGLWA/8ZckMUw/+spzFQGpdzjpAcSauZp999nFKPztOaS4QxDvvvNMFrENWttpqKzeWelCQeLiRZhmXOwLESRlcL25AyARki910MvXU24OaNKkE6dZbAecVV1wxdSl9w3Ak8Jm1kL4TW1AvBTfCM8880yXFICsVZ1/VQ/n4449FYqo0UXgdYHnhbDTOSMMiQ6wnFhosNWz4pT2pRpWgUjM1REDEpYbgp6FpduM4FO6EE05wZ33g8tW2bVuXR57DCseOHZu6QwCDuP3www8ue9Yhhxzi3Hvw4yVI/ZprrrG0xdQE++3fE0BLhpiddtrJuYHhg3zjjTfWTawCu/24sREQ2qlTJzcWyG89lYsvvtgpcwQ312PhjB7inOqxoCBxVlM9FjYZcGlio6SeCsopVmgST3Tt2tUdQlsv/YfEEG+0zjrrOOyxxODmK3ey5GYQF18S6ZxxxhkuRobkKsTM4H3BXOBCmeYYy+SQUc21QkDEpVbI16BdFhcfsIfrFO4lPHjZ2R84cKDLsQ8RSHNB0UfBPP74451pG6KFyxqpNtn9rIfdcs4vYZcchQ3LyhZbbOHOh0k79kG5CCo/KM71qPQjS7vttpsjXLim1GMhIQaWonpNf4pLHi5MWErrsRAHRTwUWdLqycII1ij7ZJzCqs7hubim1hMBCJIYEhEcdNBBIjFV+hGRcAXZwfKIey1eGWxeEVNFdjOexfUkS1WCTc3EhEBdE5d//iEA0ezhh82GDTO7916z5583mzIlJnRSXM3kyWac13fPPWYkPnrsMYIbcx1m15uTn3HZId1kMEUigZrsFk6cODF3Q0rfsaM/YsQIF0vDCcJzzjm/dex4oO222502cODbds89f9j48WZ//pnSAfx/t1D0sWyhKGN679Gjh1vgowasp0XWcVvzJ3dXy90kTNYrmXmscfwmcCNkbtJY6NbLL5vdf39mfXvgAWsm6/iisxNaz4WYM8518iUtsu77E/ZK8gx2n4nHaGnK5CRkPaz/fM+hpayvWGGwtLO5Us0SRdZL9YdnGbv/a6+9tsumBol55plnUq8815usF5sDNk5IfMM5MsRRca4MyW9wYeW8GbwK6nVzqNiYK/28pbJeabut6b66Iy6sp4MHm3Xvbjb33GbTTdf83/TTm7Vta3bQQZkHfWuZsOeeM9t9d7Oll24+Zo/D7LP/bPPPP8Jmm62vtW27iov1wC2ARaUedmWxmLBbgwUFSwoWlfbte1rnzs/YcstNsRln/LvgnM82m1nnzmbnnGP23XfpmHFOqn/wwQfdKeGkqiXVMi5sk9FOIpRyZT1Jd3vS7ZJBDjeBPfbYI/FzbaLI+kILmW29dYa4l0NcCQpnh5aTx9NW2Hw48USzDh3MZpqp8O/cy/rpp//P5plnOUt77FYYxu+//74ttNBSdtVV0yKv60nKelh/i31PIgpSJpPOt5ySpKyX0w+uJQ08ySk4HJZMdUlagcuR9XPPjb6uQ2LIHAmJYRxYw9JEYtK0rpcrH+VcjzUVNz42utjkWmyxxdx8kB0T2eJ3Ui/p28sZd6Frk5L1Qm01wmd1Q1z4sbMpN998hR/mXnEv9LrhhhlLTL1OKNak1VYrf9xLLmnGeXRpPzsPs/O1117rXKdwXSPGhp3kyy77r/Xq9bvNOGN5Y0ex23dfs0mTqj/juIugGKPcQ1bYxWQX6ptvvoncmZbIepcuBJpHbir0QpQA5oKxHHbYYYnvmiUp61ghObMHF8m0BSa/955Z795WtqzPMMPvNZP1UOGJcIGX9Zlm+qnghkSh9dx/FresR+hu6CU+yQOKWZjbapKyHtrRkAs4HBZrJG58HMgbpytfpbJeybqeJhLz669mJ51UmQ6TRlkPEaGCX2ORxE0aV2+ejVhlcLXkeYmljzOI6s3lsuBA///Dasp6qX60tu/qgriMGmW20kqFldfZZzdbay2zbt3MSKyz7LKFr8MKc8QRZjwo66V8+63ZTjsVtjAwnnbtzDbe2GyTTTI7tDPPXHjs661nxg8oLYWsJPhT77vvvu6UZ3z0WbhIv/j5558b5nMIF3PrlZTg68ILm0FGmXPGNs88ha9bYAGzoUOTHzWWLIIXMZHzoMc8zlk2lWRfSYus42bISewkOzj55JMjW4kqRRtZ33nnwvMYh6yzc0ziAx6WWI/SUupN1uPELS2yHueYqAsLWJcuXWzrrbcuuKOctKzHOR4IC8SFdQ0iA6GptNRa1iEx5557rouN9JaYZ5991qqRTKS1ynqlsuDvIw6GZ831119vwSymHFyNCylHAGCRrbdSa1mvN7zK7W/qiQtuYTPM0FShwUUE6wvuAoVcRHgwEO+y+eZmKD1BpXeNNcz4Pq3F70jst9+5Nsss3zTpO64jJOAh+dFPPzUfAb6TZLg85BCzNm2ajnuOOczK9GBo3kCFnxAXgctUv379rH379m73fvvtt3c7LPkPwmnTzLbbrmnfmb811zS7/nqzTz9t3gkWCdY2yM4KKzS/F8IadyH2hvNrIF+4T3G2w6WXXmpkaau0pEHWiSciWQNkEp9x/PeTLpDqJZZoOm9RZB1lIIqs43q4/PLL21FHHWXMW1pKMVnv1Mnshhsqk/Ujj0zL6Er3Iw2yXrqHLfsWOSOWkHSyyJ8vxGQuvnhysu7bifsV4o8VCYUfVzJcysopYbL+2WfNawtb11si6x999FETEoNVOSkS09plvfnMtewTkqYMHz7cnQFGhtBlllnGEWeS2GAxf+SRRxLfSGvJCNIm6y0ZS1rvTTVx4QcfJB6zzpqJYfj99+hwvvlmJvYhSF5WXz0d5AWlkMXynHPOcQ8D7wPavftB1qZNU9eJbbc1+/zz6OOG2PTr1xQ/TO3VIC8EO+NTTMAtOyeYgzmpnt0u0isX2+HiB884g3O13HKZJARRR87D7vbbzbC2BOsBi5YWdofwyyXZAZYIzrYhlS5WopaWWsv6o48+6ixFKFrE4RCfU40CaVlssaZzFaesk6oZ90OSUaSppF3Wk8Sq1rKe5Njy6yZNNfKHNRnS0lJZJ/FM/rqOZboa6zpjI2gfl55ll13WWS8J6g8rccr6/PM3XSviWNc9iSGdO8QMEvPcc88VfU6FjTf4fSPJenDccb/HSs45YaeccoptttlmbvOTRBK77rqri4dlw63aCSUKjTHtsl6oz/X4WWqJC5nCgqRlxRXNICGVFGI8SLwTVGTXWaewtaaS+qPcg9I7fvx4F8vBLj2WhzZt2jiXAkzxQ4cOdfEDZCMmNsX3FfevIUOitFD4mmefbarEQ17eeKPwtZV+ythGjx7tgvA4qAqiwkGE7I6Qfjmqz+ree+fGzfhJRPDLL5X16uuvMy50Hkdezz67/LoYGySMLDUEdJM5iCDcTwuZfsqv3t1RK1lnbCj0pEPlH+/5rFolaVmfccZptvTSW7kDVas1pqjt7LVX+mQ9at9bcl2tZL0lfW7pvZw+vtJK69icc36f2LoOeYl7XS81bixKuPuSRrljx44uNW6xtaOeZJ14SzYSITEkWuB8sEpJTCPKeimZifM74sfeffddu+WWW1zsJef6kJJ5zTXXdM/qIUOGuAQyxTZJ4+xLsK56kvVgv+vtfSqJy/ffmy26aO7BTnxLHGn+cSUKKrIDBiQ3XSi2d999tx177LFuJxuSsuqqqzo/YbIZjRs3rqDbSt++uT5CWkiF2tKCp0LQAoHb1R9/tKxWzo/ANWrbbbd1ux88wHDFwYxbiXsRqV6Dc7PPPmYtPceQeCayz/l6Z5nF7PXXw8fNYsfDip03duDIToPbFOcGxF1qIetYU7CqYF0hHgdrSy1KNWR9jTX+bLGsx41NmmQ97rGVqq8Wsl6qP9X8bpddpmXXoTSv65VgwvrBQZa4Y5LBMphevJ5lvSUkppFlvRIZiuMenmu4MF522WUuk+dKK63kspJ269bNHbDNcQQtceUO62M9y3rY2NL2fSqJS1ChIfA6eD5JSwE89ticIssDJIoiG9Zmfto/dmr4RwrAs846y6UE5Jqw8uCDub6hbF93Xdgd0b8nHiCYnWvgwOj3ciU52G+44QYXsM3YeEgRTIcrRDkZswq1+uOPZosskhv7Flu0nLT4dsjkssoqubpJM1uIEEFWyAh06KGHurSN7Nyw84YbQZKlmrI+atQvLk0o8SvEsWBer1VJs6wniUkaZD3J8ZWqu5qyHse6Xmos5XzXKLI+atQo98zj+XDmmWfaJ5/8WPN1vZx5KnUtJIa0vjwXGB+WGLwJiu3oN6qsl8KwFt8Rm0UsKgds88zDbXOJJZYwYmx5vuOqX8lGa/5YGnldz8eiGn+njrigJwaD8W+8MV4YcN1v3z6nyLLAlFMwkWMtYceaLCtYUbCmsHONdYWDlip1I8J9zVsHevUqp1fRruV8CF8/aaVR6ouVb7/91rmvHXjggW5nHstDnz59XPaPuC0P55+f69e888ZjXQuOa/TopqQNRYKCuRnlnaQBKPO4S0E0OZywGqXasj7rrMMc8SSLS61LmmS9mljUStarOcZCbVVb1std1wv1Oa7PGk3WcY0jw+Lsbyp+dAAAIABJREFUs5+afd5Uc12Pa96K1cPzwZMY4lLZ7AqSmEaW9WKYpelz9Bc2XHHRJ6kO+huu++hzpbxhSo2hUdf1Upgk+V3qiMsxx+SU2HXXTWboBDJ6BR73oVLZUbE0EH/C6a+kuPRCTpwKZ48QtxJHpiKStPg+QdxY/OIukLagZePaa3Mt/PLLL85liB8zCvw888xjHBR1ySWXJBojgPUjmMKaBSCJsv/+OXzXXvsHl/GH8zw4PZ1sOe/VIF90tWV95pn/LinrSeBeqM5qyTpps/1vKijrhfpUjc9qIes9elRjZOFtHH10bi6qta6XcXRS+AAqvKKRZX3JJf/I/v4uuKBCAENuC67rtZB1T2KI8/EkZpddPsuOu5FkPWSqUvt1cDM6GH8MqcH9HZJDKu1iJX9db62yXmz8tfg8VcQFAQhmDbnllmQgIfPUyivnHqReWSZt71NPPeXM3MRuYGVgMSL9I2ZFgrTjMCsWGtUBB+T6s802ha6I57NTTsm1s/LKP9lpp52W3XXAFxQTP4fzFQu0jKcXuVqCJJIAUwK2kyi4jngldrrp/rEjjrjI2BmsVam1rNdq3LRbLVk/+eTcnLPrXetSC1knwUkCoVllQVkrWU9KgShn8JJ1M1LxV2Ndr7WsQ2IGDTrTZpzxx+yzplo6TBpkvZzfRdqv9RlfyYSKWxnuZbiZ4W42YMAA536GGxoluK43iqzXev5SRVwmTMgpGnPOaZZkRtZzz821tfTSr9gqq6zirCkEGR533HHudFfOVKlWWXXVXH/iCMgv1m82DnIK/J927LEnO7JWq1SCp5+e60+fPsV6Hc/nHFTqx37HHfHUWWkttZJ1TmevdamWrGO19PPNuTCcc1TL0qiy/tZbuXmo5rq+/fa1nO1M25L1THbIJGciTet6I8t6knOchro5jJUA/xNPPNHY5J177rmNBACrr35P9jlDJtQkS5pkPclxhtWdKuJy0025B9xGG4V1vWXfP/98rq155/3ZHRJWLStDfs9J+RuM6ynlupZ/byV/B93FOLCylmWrrXLzcNllyfbk0ENzbR11VLJthdVeK1kn1XYtS7VlPeguJlmvzcxL1jPrTtLrelpl/fLLk5W74LqOS2ItS6PKei0xr1XbJGaYMGGCrbHGp1ni0kiyXivcaTdVxCXoB92SU3GjAIoCFTwnJilTdpS+BP2gOUE86ULgv9+JrrXv/1JL5foycmSyIyfRgx/3ppsm21ZY7Y0q65AHPweNLOtk+UuySNYzclbLdb3ast6zZ+63laZ1vZqyXos4l+DvuFHX9SAGjfY+qMM0kqzXcp5TRVyC/sCVHBZYLpD4I3olKsbzBMvthj31VK4fnLGSdAke9HjhhUm3Vrp+ss34OUg6mRfHlfi2kgqaLD3a3LeNKutBf+BGlvUPP8zJQhLvJOuZ33ot1/Vqy3rw8Ls0revVlPXOnZP4NUWvs1HX9egItb4rgzpMI8l6LWcytcTlnHOShwV/a6/IxnlWTLk9Dz7gOnUq9+7yr+dwRz/uWgf1cU6P70vSP/rHHsu1Vetg7WA2HMl6+TIc9Y60ynoSWQODmEjWM7/1RlrXgxtSaVrXqynrtd6QatR1Pbj2NNr7oA7TSLJey3lOFXHBPcwrsaSKTbJwqnowruS775JsrXTdmBf9uJdeuvS1cXy77ba59q6+Oo4aK68DdyE/dlzmkiy33pprq1u3JFsKr7tRZR13QD/fjSzrnC2UZJGsZ+Sslut6tWWdbJT+t5Wmdb2ast69e5K/qvC6G3VdD0em9V4R1GEaSdZrOaOpIi7XX59beJNWLIMPlUUXreUUmE2Z0jTeJumHbfCHNnx4bce++ea5Ob/qqmT7EnyoHH54sm2F1S5Zr45imVZZT1qxTJOsDx6c+41rXQ9bGSr/fvHFczinaV2XrFc+p6XuTJMOU6qfrf27oA7TSLJey3lNFXF57bXcwjv33GZ//pkcNBdfnGtr662TaydqzW3b5vqDf3pS5csvc+3MOKPZ1KlJtRSt3uBZG/hoJ1k22CA39ptvTrKl8LobWdZXWik3D0nK+hdf5NqRrIfLZFJXSNYzctioso4LW5IluK4ndW5K1P43sqxHxai1XRfUYRpJ1ms5j6kiLhCVuebKKRv33JMcNB075to588zk2olaczCwctddo95V/nUkPfDuBB06lH9/3Hc88kiuP5BVsr0lUd57r6lV6/33k2glep2NLOt77pmb8yRl/ayzcu1I1qPLZtxX1krWmf9aF8m6mdb1ZKQwqMOkQdaTGWX6a21UHaaWM5Mq4gIQhxySUzY23jgZaEaMyLXBTmwVz5ksOqDnnsv1icPysIzEXf76yyyYuu+SS+Juofz6/vjDLOjicMUV5dcR5Y5+/XL4brhhlDuSv0aybiZZj1/O0ijrBx+c+/1pXY93zuthXb/yynjH7GuTrJulRYfxc9Jor/k6TCPJeq3mOnXEJXiiOJaB++6LFxoWeTKPeKtDGk5X9iNcbbVcv3bbzX8a3yvZq/y427TJxNbEV3vlNZ1xRq5fHI4Zd4wPpxnPOmuujTvvrLyvcd4pWc/MiWQ9PqmSrGdkSut6fDJVaU1a1zOy2Eg6TKWyUu/3Naqs12reUkdcACKY9YrTgCdPjg8e3MK88k5WsVqfph0c2W235fpGH4cNC37bsvdvvGE2yyy5+o87rmX1xXn3N9+YBXOh77xzfLWzG7LWWrlxE1/BZ2kpkvXM3EjWWy6RkvWMLGldb7ksxVGD1vWMPDaSDhOH3NRjHY0s67WYr1QSF9yk5psvp2xyUN3337ccHgL3gimQOeU2bYVEAZ5YcUDm88+3vIecjxJ0ESMRAOmg01QIlvfj5jUOYoVv/Y475upl7snEkqYiWc/MTyPJ+k035WRSst7yX6PW9Yw8pXFdl6xn5iZtOsyUKVOsf//+1r59e+vTp499VMEBJBMmTLDtt9/eVl99dRs0aJBNLTPTz99//21Dhw61zp07W5cuXezhhx8uezFIwzh8pxtV1v34q/maSuICAPnWB374LTkFmVS7QdKyyipmv/1WTaijtfXVV2YLLJBTbFDoKvg9Zxsjy0mQtOAPy7kxaSy9e+fGjUKH/3Kl1pGffjLDXSRuMpQEbpL1zDw1kqwHLW2S9cp/VVrXM78d1vU0eQ8EZzRuWc9/TsSxyRXsb1zv07yuX3TRRTbzzDPbdNNNZ9NPP73tuuuu9lsZCtHPP/9sPXv2dPdSx6yzzmpDhgwpC7qxY8faEkss4fpAHcsvv7y98847ZdWRhnEEO9yosh7EoBrvU0tcGHwwAxYPd7KTcP7FP/9Eh4aUqL16NVVgl1vOrJYnKof1fuzYpq5TjH2//cqLSUHhHzTIbOaZc2Pn4TZ0aFjrtfueDZuNNsr1l3GTDWr8+PL69OSTZhxuyP3+3+67mxHflNYiWc/NVSPIOtnz8mWdLEFxyHrfvpL1NP7O41rXBw6sr3Vdsp5b29Kgw2DpOPLII22GGWbIkoauXbvaDz/8EPln8/XXX1unTp2y91PXgAEDjLqjlscee8zmnnvubB0LLLCAvfjii1Fvd22lYRzBDjeyrAdxSPp9qokLg89X6FBEV1zRjHNYimXeQmlH/nmAB+M6uDftpMVPOA+5oLscfSdV9KGHZpSbYusDbmGnn27GoZpeaeeV7E1pJi1+3JCXrl2b9n366c045Omhh4qfO8Oayw5X585N72XsaSctfuyS9dzcNYKs85CLW9bTTlok6803pRpZ1rfYovJ1XbLuf03lvz777LO26KKLOtIw22yz2YUXXlgW6fjrr7/stNNOc1YbLDZLL720jS7z2PhJkyZZt27dnNUG4rPtttuWRZ4YdRrGkY9+sXW9EWQ9H4uk/k49cWHguEottlhOqQkq5Hzes6fZLruY7bCD2TrrNM0gFbwWBTaOWJmkJiO/XqxC3bsXHvecc5p16WK2006Zsffo0dTFLDhu3OLGjMmvPb1/T5tm1r9/Js1jcBy8x92vffuMGxhngGCaXWGF4hiRXrkcC12tUZGsN59LybqZZL11revdujWXc9a3RpV1vAFa+7qev5non2210mFwy7r22mtt+PDhZZEW/4yEvDz99NM2ePBgmzhxov+4rFesPLfffrsNGzbMcD+rpKRhHPn9LqXDtHZZz8ciib/rgrgwcAjH/vsXf3j5RaDQa7t2ZkkeZpnExPg6UbrJC77EEoUfdIXG6z/DLH3SSemM5fHjK/XKBg5nrvjxRH2F3JDkAOtTPZaWyPrKK5vde289jjpDMCXr5cm7ZF2yXm8IaF0v7zfOc6+e1/V6k884+9uosh4nhoXqqhvi4jv/7bcZ97HVVy+8I++V2/nnz+zKE+9QTzvufpz5r2TIImXsZpuZcQaLH2f+K65xuEsRtIrJsjWUceMyMT7Bgyrzx83fyy9vRqa4eiUs+XPV6LKOFVGyXvi3LllvXeu6ZL2wnLfGdZ3jHXAL5tw2dt8LPcv4rLXpMPnPt0b6u1F1mKTmuO6ISxAI4iGIZSGZBTu111xjdvfdrUdxDY41+J74Fg4vvP12s6uvzpAU0gkTF4OJsjUXsq4R63LddWa4gQ0ebPbEE/XlAljJ/DSyrHOoomRdst5aNiSK/f5Z1yXrWtcbQYcp9htohM8L6TBssNdTGEOt56muiUutwVP7QkAICAEhIASEgBAQAkJACFQHARGX6uCsVoSAEBACQkAICAEhIASEgBBoAQIiLi0AT7cKASEgBISAEBACQkAICAEhUB0ERFyqg7NaEQJCQAgIASEgBISAEBACQqAFCIi4tAA83SoEhIAQEAJCQAgIASHQHIFvvvnGJkyYYG+99VbBf3z3448/NrmR81weeughu/LKK+3+++9v9n2Ti/VHQyIg4tKQ065BCwEhIASEgBAQAkIgGQT+/vtvO/bYY22GGWaw6aabruC/GWec0a4jRej/l//+97+2wgor2PTTT++u53XJJZe0e+v1cDI/ML3GioCIS6xwqjIhIASEgBAQAkJACAiB1157ze6880674447mv3ba6+9rE2bNnbfffc5oLh2+eWXtyWWWMJuueUWw1rDvRAXPhs1apQAFQIOgaoTl2nTptkHH3xgf3KiYsyFOn/99VebOnWq/fbbbzHXXj/VsdPhceD1r7/+SqTzYExbSRbkhX+1LOX2Abx///33Wna5btoG2yTWgrQBIJnIzUgS6wbrUK3X/CTGlUMt2rty16ootUYd1/fff2+fffZZlCpjvyYtz/5aYcXzJqnnfOyTZWaTJ0+2DTfc0DbYYANHUOj7oYcearPNNptdxenZ/1/4XR999NHOarPHHnvUXBfw/WrJa1QZaUkbrf3eqhMXmPQ888zjfBfjBBcBP+aYY7JmyaWWWsoRpDjbqJe6Hn/8cYcx5tmZZprJbrrppti7/sYbb1jbtm3t0Ucfjb1uXyGLGbsyu+22W80W5Ur6cMUVV9haa61lX3/9tR+KXgsgwAK+1VZb2RFHHJE4AS7QfFU/kkxk4E5q3cAXfqWVVrK33367qvPqG0tqXL7+KK+sVSh3u+++e2zrZdRxQRx23XVXW2211eyLL76I0t3YrknLs79WWIH3GmusYddee21smCZZEfN1zjnn2EILLeRiWWjr008/tfbt29sqq6xiH3/8cbb5sWPHGrocugwuZO+99172u3p8E1VG6nFs1exz1YnLV199Zbfeeqtj3HEPlF2HKVOm2G233eaUaiw7jVh4gBHgxkN81VVXFXFpgRCIuLQAvJBb4yIuPAjPPPNM23zzzVMbyCnikhGGpB7cIi7myEqtiAuz+/LLL9uDDz5YEwtqGp795ch2nFjVG3FhY3XRRRe1I488Misrzz//vM0///y2ww47ZK0q6DD8veKKK1rnzp1t7rnnTnSjNORxFcvX5chILA220kqqTlyqgeM999zT0MTFY8wuBjtgsrh4RMp/FXEpH7Ood8RJXE4//XTbeOON7YcffojafFWvE3HJwJ3Ug1vEpfbEpao/qCKN1fLZn5RsFxlq9uN6Ii5+M3XNNde0Tz75JDuGu+66y7mJ4RbGRhTlmmuusXnnndcF75966qk288wz2+DBg7P31OObWslIPWJVqs+xEpfx48dbz549ba655nIC16FDBzvjjDOcID799NO2/vrrOxeaHj16uBR5+R3D7WjHHXe0V155xfbbbz9bcMEFbZFFFrGhQ4c6Fo5LyYUXXmhknsA3EoZ+wAEH2HfffdekqlKLF4oo7moo9PhTEvS13nrrGf3jB3PaaafZySefbM8++6xttNFGjuVvv/32TX5k+GfyA1t88cXdONnl+vLLL5v0odQfpfqAj3LYOMHjX//6l4H3nnvuaQsssIDzFx0zZkyTZsOIC2ZYXHVw3cMc+5///CdybIb/ARJYd/7559uyyy5ryyyzjDNXMz5fSskE13gsOnbs6OaD+UYGWNT4Lt9VDNlAxs477zz75ZdfQrGiDZRZ5otdntlnn92RWnZygq5c48aNs2222cbNNzs766yzjtvdCesD85VfvJI6evToovPjx90SOSw1LiybO+20k9sBvfTSS13Q48ILL2wDBw5sMsdh85M/tjj/9sSlX79+JX/TpcZJf/jd1gtxKSUTuNuwyYDbx5xzzmnrrruuPffcc00gLzVf4HDSSSe5NeyZZ55xRI61eO2117aPPvqoST21+iPquhG2NrEbizJD4C7rOG4nvK+1q1jYelhqXE8++WST5x/PN9xneN4FS6m1yltcgs+v3r17N3l+BesKex82X8gcz3hcY/l38MEHu/jK/Hr9eldonUdBxR140qRJTW7DesPnrGUUYmiOO+4498xmHWcnnt99cA0u9eyP8vtq0oEy/4gDqyi/Ya5hnOCN7PP8n2OOOVLvKsZvFl2K5xBWl2AZMmSIIybMJ+MjTTKu6DzDeM5ffPHF7ntea1WQYeTPy3rwlX7Rb0op/TBMRrgfIgpODz/8sPHsxgUWneTAAw/MWqjCnom1wqha7cZGXN59911HBlAqR4wY4R4gEJR99tnHKaBMBintWORQcvOVbAYMoYAMIBCHHHKIvfDCC8ZCh++mV3I6depk/Lv99tsNlg7xOOWUU7JCQz2lFi/a4Idz4oknuj7yUKA/w4YNy5raV155ZYN0ESTGwwR3Kx6SCCaB/5AG+sW9KBb0FwIVXEBLTWCpPkQZJ4oxJIFdC8YB3ptssokjL0ESV4q4sDDgTwrx4UHIw4MHPzhEKfwAyQACGYX8MFfHH3+8Iwde2QqTCdphLJCVAQMGuMXqxRdfdOR04sSJzYgL/WQu8KXmIRYFK5ITIIP4x+JC+OGHH9qgQYNcPX7HB2WQxQEyQ+aS119/3eHB3OcTl/w+FMIqyvyUkgHaRAEpJYdh48JPmPsxsSMbyCqLIHOMWZ4SZX4KjS+uz+KYP+aUDQ4e3OzIzTfffO7fcsstZ8hSWkoUmbjhhhvcesZDEBncf//9HYnxPt9h84Xc7LLLLk62/boJEUIBqJVCn49/lHUjbG3CLeiwww5zskwqVX7TYMZ6VKtxxjEuMijxPOP59u9//9teeuklF69CELNf18PWqmLrRv/+/Zs8I/PnpdjfUcYFGeO5gbLFMx8FNb+UWufZjGLugrvprG+sx+CAXFMnSizPLNrit4CVjWc08uBLqWd/2O/L11HpaxxYRfkNo0ehwxx++OFGmzxveX6lPcblkksucRsybJ55Jd9jfeONN2aJC3O/9957Ox2H5y3lggsucN/zDKtlQT9A/vw/9Cc2h66//nrXrTD9MIqMsJ4xn2yod+vWzW2qo19ut912TscMe/bXEp9qtR0LceHHhr8iirTPKsJnO++8c5a4+AE99dRTblKKEZdZZpnFDjroIKeUsgPDzrcnLr169XI7ayiUFNpgR57JDR5iVGzxYucGksFDj90XCkLCgx1BpD5ICcoPi6Jvo2/fvtkAcXaysE488MAD7nv+Y8FFofYKRvaLAm/C+oAyFzZOHgLgxMPIj8OTuGDKwGLEhUWDe5kvCCUF0sWDhwUDHMIKP0BIJlYpvyPmlWXiDagjTCZ8/4466qiCbfr5ZdeNhxu7j8gUpIUSBSuseCgDfj65D9JAXd6qw6KAXPhxBMce1ofgtf592PyEyQBthslh2LiYCxY/dts9QYMMQmZQ9qPMjx9PUq9xzB87T6TRJCMNawUknr/ffPNNt8mQVN/LrTdMJlBMsSIzDuaGghLOHGJhjTJfXANxYXeO9YACYWXOa6XQu04E/gtbN6KsTcOHD3ekBWXHlzS4ipVaD6OMC+KCJQGLu1fGSSPL8wmLGfMbtlYVWzdYN71cecyivIbNl6+D8bFxtdlmmzUjLmHrPM8wSDrPEk/QsEy2a9fOKW20wTMdi3lYMphiz/6w35cfR0te48Aq7DfMsw+XWHQS1k9KPbiKsR5DTplj0hznF/QvZB+dgU1pdDC8a5ArL1tsTAV/8/l1VPtvdEE2AkkK5X+vYfphFBlBJ2Uznc1z3jN+PEY8cQl79lcbh1q0FwtxQRBxa8CMBsgUfoCVEBd2ShFyXxAI6uJHys4+LmReWfcCjcISNDMXW7wgTZAOT3xoI5+4sGOFAu8FkbZpk89o96KLLnI/MHY0GTP/eLAstthiTrn2/S72GtaHKONECULxDhIlX2/QBOsfGPkxLuwKbLHFFs7E7MfAK5YPApz5PqzwA2QhQqnyBTlgh59Dp3DDos5SMoF7HqTikUce8VU0eQV7iCnKN8SQOfAPNi4MwwqCwMOUfgQXyyBxwazLzga7V152g50I60PwWv8+bH78XFUqh5DMsHF5EhncxUQekBvM8uX8Zv244n6NY/7oE/NWD65ipX6z7CyyhuD+4n+T7LxzzgEunFHmC1mFuOAaBLYeG/8+7vmrpL6wdYOd9bC1iYxEkLHg+pcG4lJqPYwyLogL8x8kmTzLIK9kU4qyVoU9v8qds7D58mumfxYXIi5h6zx9gozybGZThbrwosB6Q7Id/sazgI22QptLwTEVe/aH/b6CdVT6Pg6swn7DBPWjLAefu2knLswfyj1Wcea3UBk5cqSznLOByG+bNYBNKQq6GM9+XNqD+k2heqr12TvvvGOrr766c+0MbpqH6YdRZASdlHXg6quvzg4H3ZPnvv+dldJpsje14jexEBd2cllcMQX6AtCYer2rmP8cpY1ri1lc8h9I/j6v5ARTp/Ijh1RgcWGB86XY4gWTZ3HE3O4LD4SgxYWFP5hO0rfhicu5557rlG1MlijA/h87BkGl2tef/xrWhyjjRDHmBx6M0WDMjA33Al+KERceot27d3cuRDfffHN2DIyF+fHE0NdT6JUfILgFd8C8Ynz22WdbFJl47LHH3CJMm4UK2ENcNt10U7fLBEHlR+1LGFbsTjGXW265ZRO/axR3iBCWCDAES4gAi0J+CetD/vX8HTY/YTJAm6XkkIU8bFwodbhV0JYvfn5wmYgyP/6+pF7jmD/6xrzVA3Ep9ZtFIYHEs+Po1xReycD41ltvRZov5Abiwq4779NYwtaNsLWJhzcWc6xTwfWW9S9f6a/m+Fs6LtZciAvPP36bvjAunpe4RkVZq0qtG1HWdd+ufw0bl7/OK1SFiEvYOk8drAW4ALPWQ9zYrPLneVA3Vnk2xYIbUL7t4GuxZ3/Y7ytYR6Xv48Aq7DdM3APEhZ19X/y6nlZXMS+3WNCCmw2+/7xCSNkMJu0xlrWgmy/WRnSNUvcH60r6PRsIECvk0Xsz+DbD9MMoMuI301kP8gvyEfbsz7+nNf4dC3Hhh4MiiO+iL+ygIIBJEhfc0tiFyVc6iy1efI5yALunsCDSZ3wUvatY2MLPzh4EgfFVUsL6UEiZyx9nvmLMAwkXk3wWzrwUyiqG8OOO17Vr1+yuRrljKfQDxH0OfCEiUWQCX3YsbGeddVbB5umnD87nYcZcswvnd93CsPrjjz8cscW07ndFUHYgbSyCLDrUAcHmM39NsDNhfQhe69+HzU+YDNBmKTmEuEDYS40rjLhEmR8/nqRe45g/3zdkKBgL4D9Py2uYTPAbJyjfJzPJ73eU+UJu6pG4BNcNxlBqbWLNxoob3H2H7LCxxNoTtFbkY5jk32HrYdi46FsYcYmyVpVaN+IiLsH58piWIi5h67yvA4KDux3E27vJ+O+IZWJ+g67Q/rvga7Fnf9jvK1hHpe/DZMDXWwqrsN8wVnpwCHopXHbZZakOzgcX5hVSym+1UAGTE044wWaccUanMwZllfg1XOOJdwp+XqiepD8jvoQgeWJmC22+h+mHUWQkjLiEPfuTxiAN9cdCXJhM3BPYBcNsyYSiRBBAnn94IEotk84PEPcudtB8YYcxzOJCBiKEHNYLKWI3ikDWYGHxYvcN6wNsnwWfgtDgO8gPhD5jisN9g4w03u8/bOFnF58fILv4LIYUlAp2h4Luau6LAv+F9cErc6XG6ZUgFHh+yOy0QBKDpkXfL4jL5Zdf7pT9oGLOjgbzQ1A8bYIphA63Mt6HFf8D9AsoAZo8bHAPJAtIFJmg71jQmBPkgXZZuHnQ0Vfee+LCe9pgvmkDM3IUrJgXsOGh6GUGSwT1+ExLZK/BTQ4S62WFuWXnM6wPhXAKm58wGaDNMDkMG1cYcYkyP4XGFudncc0ffeL3y4aC34mElPr5jbPPldYVJhPIPkkjcDfyLoS4bDIulLUo84Xc1AtxKbZugG/Y2kTcB2s2r6wTWGB4prCO1Jq4tGRcYcQFbMLWqrB1o1z5DVvnfX3ILxuIJALhd8cGkX+OhK3zvg6UWuI7Z5hhBue6izz7wnqMFYbkPzxvKTxn6F/wumLP/rDfl2+nJa9xYBX2GwZbNt2IdfLrAzoTGejSanFh/SKBClk7vQt+IZw5dw/3K+JbiJNlHWBDiqxpPK/Bt5YFGSKbKWPBBRv9y//zulWYfhjBXKlMAAAgAElEQVRFRkoRF8Yf9uyvJUbVajsW4kJnCaZDIcQnG4UYdxxiHfID5yEu+CpiEuTVP6SpI4y4sKhxEjxKJlYSzIeFfB5ZvAj0og0YPLs1FBYFdifIDc6/Ll26GGlDMfn5gPIoCz+uG+x2k7KUHxV9wXyHYhxWwvqAMhc2TpQgcGAM/Ih4RenJXxRY4JkTcOCfD+6ij/wIvcsS9xPQy04O/vT+gVNqLPwA2UUBZ3zzeaV+/1Dh3igyAQFB8UAWmFcWYJQQ4pzAKkhcqBP5oZ/serBIhGHFNZBn+sdcka0O+aANv3tHOxA25BYsIDrMKQ+CsD6gUOaXsPkJkwG+D5PDsHGFEZeo85M/tjj/jiLrYeP0/eG6Pn36uJ1HMu7w8Lv77rv91zV/DZMJOojiBpFH9lDMkVncy0g4QAn7PSE39UBcwtaNsLUJnFDc8Jlnnpl31niUm1oSl5aOKwpxYY5LrVVh60a5P4Qo6zx1MmcQF0gHzxpIRnAjr9Q6H+wTrpHg6DMfBr/DxRtixHOXZwC6BpnGgmtwsWc/9YT9voJtVfI+Dqyi/IaZf577PDNxryLeBWttWokL6xfP3qD+UQxfNifZ9EZvQ46QJ9bAoOtYsXuT/hz5YdPa61PBVx9KQB9K6YdRZCSMuER9JiaNRy3rj424MAh2AFA4meC4i9+dxVxIoB1WlnxFPWqbWGEIrmKRqLRwL/ExZDAKxtdEra9YH6KMEyWIwF0Ub3x3EeRKC3PGGBhL0PoVtT58jukD1olChCeqTLBDx6KF4hF1XqNgxTj8XPkMasXGRn3IL/LlAwOLXRv2OViwAJWan2IyEFa3/z7quPz1hV6jzk+he+P6DMUDpaTYb7qccULYUPCD8Q9x9bOl9USRCdpA4SOLHrt5+b+pNMxXS3Hg/rB1g2tKrU0eS+Y7TaWl44o6ljjXqihtRhlXlHpKrfP8zgniRglk7gsV5t3/xtkky/99FLon/7NSv6/8ayv5Oy6sSrXNJimeCZU8s0vVm4bvkAOUfzaleSbwd70V/8wqph+2VEZ8/WE6Tb3hFrW/sRKXqI1Wcp1XUoPB+ZXUk/Z7oowT4pIf6Jv2cSXRvyhYJdGu6hQCQkAICIH4EICAYDnAi4IsZCpCQAgIgWIIiLgUQ6ZGn0dRxkVcMpMTBasaTaOaFQJCQAgIgRAE8FbYeuutnXsu7kQ82+pxhz1kmPpaCAiBGBGoG+LCmDGLEujX2kvYOFnYo7pTNTpWrX38Gp8QEAJCoF4RwNKCe+4LL7wQKUa0XsepfgsBIRAfAnVFXOIbtmoSAkJACAgBISAEhIAQEAJCoJ4QEHGpp9lSX4WAEBACQkAICAEhIASEQIMiIOLSoBOvYQsBISAEhIAQEAJCQAgIgXpCQMSlnmZLfRUCQkAICAEhIASEgBAQAg2KgIhLg068hi0EhIAQEAJCQAgIASEgBOoJARGXepot9VUICAEhIASEgBAQAkJACDQoAiIuDTrxGrYQEAJCQAgIASEgBISAEKgnBERc6mm21FchIASEgBAQAkJACAgBIdCgCIi4NOjEa9hCQAgIASEgBISAEBACQqCeEBBxqafZUl+FgBAQAkJACAgBISAEhECDIiDi0qATr2ELASEgBISAEBACQkAICIF6QkDEpZ5mS30VAkJACAgBISAEhIAQEAINioCIS4NOvIYtBISAEBACQkAICAEhIATqCQERl3qaLfVVCAgBISAEhIAQEAJCQAg0KAIiLg068Rq2EBACQkAICAEhIASEgBCoJwREXOppttRXISAEhIAQEAJCQAgIASHQoAiIuDToxGvYQkAICAEhIASEgBAQAkKgnhAQcamn2VJfhYAQEAJCQAgIASEgBIRAgyIg4tKgE69hCwEhIASEgBAQAkJACAiBekJAxKWeZkt9FQJCQAgIASEgBISAEBACDYqAiEuDTryGLQSEgBAQAkJACAgBISAE6gkBEZd6mi31VQgIASEgBISAEBACQkAINCgCIi4NOvEathAQAkJACAgBISAEhIAQqCcERFzqabbUVyEgBISAEBACQkAICAEh0KAIiLg06MRr2EJACAgBISAEhIAQEAJCoJ4QEHGpp9lSX4WAEBACQkAICAEhIASEQIMiIOLSoBOvYQsBISAEhIAQEAJCQAgIgXpCQMSlnmZLfRUCQkAICAEhIASEgBAQAg2KgIhLg068hi0EhIAQEAJCQAgIASEgBOoJARGXepot9VUICAEhIASEgBAQAkJACDQoAiIuDTrxGrYQEAJCQAgIASEgBISAEKgnBERc6mm21FchIASEgBAQAkJACAgBIdCgCIi4NOjEa9hCQAgIASEgBISAEBACQqCeEBBxqafZUl+FgBAQAkJACAgBISAEhECDIiDi0qATr2ELASEgBISAEBACQkAICIF6QkDEpZ5mS30VAkJACAgBISAEhIAQEAINioCIS4NOvIYtBISAEBACQkAICAEhIATqCQERl3qaLfVVCAgBISAEhIAQEAJCQAg0KAIiLg068Rq2EBACQkAICAEhIASEgBCoJwREXOppttRXISAEhIAQEAJCQAgIASHQoAiIuDToxGvYQkAICAEhIASEgBAQAkKgnhAQcamn2VJfhYAQEAJCQAgIASEgBIRAgyIg4tKgE69hCwEhIASEgBAQAkJACAiBekJAxKWeZkt9FQJCQAgIASEgBISAEBACDYqAiEuDTryGLQSEgBAQAkJACAgBISAE6gkBEZd6mi31VQgIASEgBISAEBACQkAINCgCIi4NOvEathAQAkJACAgBISAEhIAQqCcERFzqabbUVyEgBIRAgyHw9++/289vvGlTXnk10r+f35zQYAhFH+6077+3Ka+Ot5/GvWZ/TPmp5I3/++RTm/LqOPvl7Xfs72l/lLxWXwoBISAEqoWAiEu1kFY7QkAICAEhUDYCv0782F7q2sNeaLd6pH+jN9+q7DYa5YZvHnrEhrdf015YeQ378NwL7J+//io4dD5/94STHd5jt97efp80qeB1+lAICAEhUG0ERFyqjbjaEwJCQAgIgcgIsPM/Zout7cUO62T/DV+tU5bE8D743Svb7BC57ka7MEtc2q3uyGAx61S1iAuEaNyufW3U+htniNTffzfalGi8QkAIlImAiEuZgOlyISAEhIAQqC0CX9x0q72wSgf37+t77q9tZ+qo9SBxwYL1/ukD7Z8//2w2gmoRl9+++NKRUvry3qkD7B8Rl2ZzoQ+EgBBoioCIS1M89JcQEAJCQAikHAERl8omKJ+4jNpgYxfzkl+biEs+IvpbCAiBtCAg4pKWmVA/hIAQEAIpQuC3336zn376yX7//fcU9SrTFRGXyqYkn7hg6Xjn+P5GAoRgEXEJoqH3QkAIpAkBEZc0zYb6IgSEgBCoEQIjRoywk046yTbbbDObf/75bbrppsv+W3jhha1nz5526qmn2iuvvFKjHuaajUpccIP64ubb7L2TT7dvn3zauSLxShzMi2uua++edIr98cOPruJfJrxtr++1v43o1Nle3+cAIylAsfK/Tz+zD88538Zu1dteXGNtF/D+8iab2RsHHGzv9T/NtffNI48Vu919/vMbb7lrR/foacNXW9OI1SGxwFuHHpGp45Qz7MfRY4vW8ecvU+2LW253MSKMhTpGb9rTPhh4lv3vs88L3ueJC9eP6bmtixMaue6G9sNLLze5PipxqaQPwYbkKhZEQ++FgBCIgoCISxSUdI0QEAJCoBUi8Oeff9oNN9xgHTt2zJKUIGEp9r5z5852++232z///FMTVKISFywJkAmyaE286FL79omnbOQ6G+YC+9uvaZ8PudkgLZCGYOayd/uf2iz+gxiMSQ8+7ILJg9cWev/BoLMLxmz8PW2afXrt9Y4gFbov+9kqHezLO+4qiO8v77xrr+64W5P+Zu9rt7q93G1z+/HlMc3u9cRlRKf17ONLrzBIC/dNOPwo++vXX7PXRyEulfYh24iZibgE0dB7ISAEoiAg4hIFJV0jBISAEGhlCEyYMMHWXnvtsghLPpHZZJNNbOLEiVVHphLigiXkld47O2vK5P8+Ya9st5NT2t88+HDj3+jNetmkBx6yt486zn3+6o672rRvv2sytm8eftRGrL2B+3746mvZhCOOMer6afxr9v3wEfbxZVdmvy9EXCAEkBafFY26CJD/7pnn7KfXXrfvnn3e3j/jTKNukg8UIi6/fjTRxm6zg+vDix3XtfdOOcO1PWXsK/bxJZfbyM5d3HdYg7AMBYsnLlhc6PfbRx7rrh2x1vqubX9tGHGptA+cB0N/wdr9676lsxRBnsAi+7n/frNeNmbLbRw+vm96FQJCoLEREHFp7PnX6IWAEGhABK6//nqbddZZm5CWGWec0bbffnu7+uqrnTvYzz//bNOmTXNxLi+//LJdccUVzl1s+umnb3JfmzZtbNiwYVVFsWzi0m51G7VeV6cE//rhR84S8tEFFztLzKgNN7GXNto0qxx/8+h/HbEgBfNvn3+RHdfUDz7MWmWwVEAC8rNgQRSwdqCIFyIuuGSN7LyR+x63rh/HNHcF4xpHjgoQFyxI7xx3UoZsdOpsX919b7M+OHLVqbMjPp9ccXWT74PEBbKEVcYTHSxTuH5RShGXlvQBa9ObBx3q+h+0EJV6z7kz9FtFCAgBIQACIi6SAyEgBIRAAyEAMQmSjxlmmMH69etnn33WdHe+GCQffvih7bfffk3IC6TnrrsKuzUVq6cln1dCXF5YtaN9evV1WUX+s+tucMQFpRnLiQ9Q//apZ9y5MKO7b5mNFUGR/+Csc931WEtoP5+0MJ5SxAVXrLcO6ZchHWtvkCVK+TiUIi5YVTzRgMD4Pgfr+PPnn+21Pfd17bzWd2/786efsl/nExeIhD9oEuvN5Mced9eWIi4t6QOYcT/kin9f3n6nI43MAXFF9M9/51/pEy5lKkJACAgBEBBxkRwIASEgBBoEgZtvvrkJaVl++eWNoPxKyhNPPGGLL754lsBAXh588MFKqir7nkqIC0HwuDj58tn1NzoigsJO7Isv3z39rPFZkLhASLDAoGCP26WvTfv+e395k9dSxGXKq+Oy1hbc0QqRDiorRlxQ+idemLES4eqFxaRQ4br3Txvg+krCgOCY84kL9/807jUjLTJjg/D88eOUohaXOPoQ7LNiXIJo6L0QEAJREBBxiYKSrhECQkAI1DkCH330kc0555xZotGuXTv7+uuvWzQq6lx66aWzdS644IL2zTfftKjOKDdXQlyIcQketuiJyyvb7mi/T8r1uRBxmfz4ky57GEH+BLWjwBcqpYjLZ4OHOPctLDaTHizu+lSMuGCxwSoBwSAmhUxpH557QcF/43bq467DpQ0Lhy+FiAuYEGdDvcTWfH3v/UWJSxx98H3hVcQliIbeCwEhEAUBEZcoKOkaISAEhEAdI0D2r65du2YJxlJLLdVi0uLhgLwssMAC2bp79+7tv0rstWziQlaxiy9rQjg8cSEwn6BxX/KJCySFWBFIC6mPITHFSjHiguuVj03BuvHzmxOKVVHU4vL7N5NdcgEIRtR/ZA/7fviL2bYKERe+pD8vde3h6sWiRFvehWzs1tvb75MmuTri6EO2MyIuQSj0XggIgYgIiLhEBEqXCQEhIATqFQFcuIIZwZ58srjyXckY77zzzib1jxw5spJqIt9TbeLiXa9IpVzqbJVixAVLxRv7HeSIAUH5xc5ZAYBiFhfIg88mNmr9jd15LxP6HW2l/kGWSPXsSzHiArHiXBrIGefBcD4MB1NCkJoQlxj64PvCqywuQTT0XggIgSgIiLhEQUnXCAEhIATqGAEOlfTEZc8990xkJL169cq20adPn0Ta8JVWlbhgLfl/JZ7A+CmvjvfdaPbK2SYvbdTdKfzBrGLBgHmXraxEsPm3Tz/jDsfMT4fMQZnjdu3r6uYMl2nfNU3V3KwzBT4oRly4dOp777u4HsjK+N33cgkL8olLHH0IdkvEJYiG3gsBIRAFARGXKCjpGiEgBIRAnSLw/vvvNwnIf+211xIZydNPP50lLjPPPHOisS7VJi7Ek6DEk6b4h5EvFcQPdzNnmVl5jWbE5a+pufgUFzA/8eOCdfwx5Sd7Y98D3f35xIVYlHeOPcF9R/rmqe++V7COUh+WIi64xHEODO1iWRq38+6uraDFJY4+BPv325dfuRTVYAvGWH5UhIAQEAKlEBBxKYWOvhMCQkAI1DkCpD/21pb1118/0dG0bds229bdd9+dWFtVJS4o9JdekXGjar+mOzul0MA40NGdv/L/MShBiwsK+dtHH++IgCM/L73crAqIw+c33JQ9nDJDXIY2ue7ru+9zrlycbcK15ZZSxIW6fp34cZZI4DKWb3Hhmpb2IdhnkiKQHIF2SEkdTJ4QvE7vhYAQEAIeAREXj4RehYAQEAKtEIHgmSv9+/dPdIQHHnhglriccMIJibVVTeLCILJZxdqtbm8ddqT99b//NRkbB0kS3A6h4B+KONaXYPYxn1WMOBIOvwx+R2WQCkd8Vu3oSJIjLnc2PdiTOJdXeu/s6ueU+V9CrC7/++RTI77GlzDiQp8+vepa48wbxlCIuLS0D74vvHLg5et77e/aeWW7nZpkdwtep/dCQAgIAY+AiItHQq9CQAgIgVaIQMeOHbNk4r777kt0hNddd122rR49esTSFi5YnHZP/Ij/N/GiS7PKPYq2/5zX4LklnJXCifCQhUqzijGI3776OmsZeLHDOi54HSsK/7555DF7eeMezhKClWXsVr2dIo6FJej65DJ3bbSp+27Uel2Ngy4p9PHzITc70sL5LO+dOiBDYFbpYF/d1dxqNenBhzMxMATOb9XbnecStFTglvbtk0/bWwf3c2fPkDDAlzDiwnW/ff6FC8gvRly4piV98H3hFaLEvDA/kCVSVhNH4wsEEUvWp9cMNg7LVBECQkAIiLhIBoSAEBACrRiBJZZYIksmkopv8fAF41w6dOjgP27RK+5LPlWvV6ZLvY7efKtse3ERFyqcdP+DNqJTZ0c8ULLH9NzWONQSywhWlg/POs+mTf7WXttjH3fN63vu5ywKvjOQmE+uvMYRHPrPeS64SRGvwt8cevnZ4BvshxGjssQFt6z88n/snQf4FMX9xjUxifFvNJao0dhQbIAiFqzYRVQQVMSKYu9iF0WxYAF7JQaxoCIglliwISpVqgoiWEBEpIigAnbJ/J/PmLns7W93r+3e7f3uneeB+93t7uzMO9+d/b7zLQNJsfU02e63tmyxta2DvVuIR6Eeh8/be+1vCiUu3O/zhx7JWI68MS6uLaW0wdXhPrEKjW99aKbNWJ0mHNbBTGh3hN2vhr5MOvmMOlYud70+hYAQqC0ERFxqa7zVWyEgBGoMgbXXXjtDXN5///1Ee//WW29l7rXVVlvFcq+0EBesA2zOOGrXPTNKNpaCcQceYuY9+5yNz4CcTLusqz0OqUEp9xasBliI2EDSkQuID3unLHxzmLVALBw2wh6HDGHZCCrcB0sE97bWCt/eLuwVM61LV/PtxHezXNLysbhwP2JPJhzawbYxiLhwTrFtCOrP0o8/MZNPOytD6jLYbLG1JYezH+uXZb0KqkO/CQEhUBsIiLjUxjirl0JACNQoAhtuuGGGTIwZMyZRFF588cXMvZo1a5bovSpVOWmIIQBf9Otv93QpxoXp+88/N3MHPWNdwRZPmpyllENI2MEeywmbYUYVLB+Qky/6DbDuZhAr6iumTVH3iToWZxvABWw/f7ivTYJA37ybg0a1Q8eEgBCoDQREXGpjnNVLISAEahSBPfbYI0MmHnjggURRuOmmmzL3at++faL3qo+VY9WZeU8va0UZvdteNnanPvZTfRICQkAIFIuAiEuxyOk6ISAEhEAKEZg+fbrp16+fOe+880yTJk0yRIKUyKeddlqiLT788MMz92vcuLHp0aOHefPNN83SpUsTvW/aK8dqQOYxAuejCokFiJ3BVYpYmV++/TbqdB0TAkJACNQcAiIuNTfk6rAQEAL1BYFFixaZl19+2VxzzTWGnetXXXXVDHFwe7f84x//yPxGoP4vv/ySSPeXLFmSdf8rrrjCdO7c2bB3zP/93/8ZiAypme+//35DkoBfa2izQVISTzrpNEtKCHxn40VvIV6EjS0JSIe04CZG3IyKEBACQkAIZCMg4pKNh74JASEgBFKJwE8//WTGjh1r7r77bnPssccaNntceeWVzV//+lezwgorZMjJ9ttvbwkC52yxxRYG4sJO9o7IDByYvTdIXJ297777Mvf4/e9/bxo0aGDYy2XChAnm559/NuPHjzecc8IJJ5gtt9zStn333Xc3F154oRkwYICZOXNmXE1JXT2WuJx4aiYgn8D7sQe0NmQee7fjiTadsguyJ76FHezLGaeSOsDUICEgBIRACAIiLiHA6GchIASEQCUR+OSTT8zjjz9uzj33XNO8eXNrtSDF8F577WUgJ5CS1Vdf3X6eddZZltBcdtllplGjRpasnH/++Wb06NHmnXfeMZtuummGVGy99daWSMTZN1zBNt5448w9Dj30UDNu3DjTpUsXe+9NNtnE0DZIjCvffvutef31180NN9xg2rZta/7+978bMqC1bt3aXHfddebVV181X3/9vz093HXV+rnkg6l2nxL2cMlkzfJmA9uqqc0utmDI61nB+tXaX7VbCAgBIZAEAiIuSaCqOoWAEBACBSCwcOFC89JLL5mrr77atGrVyqy55ppm/fXXN8SMQEBOOeUUc8QRR5gNNtjAkpLjjz/e9O3b1wwbNsx0797dxrKsu+66Nq5l5MiR5j//+Y8ZPny4dR/DPeziiy82v/vd7zLE4sorryygdblPPeOMMzJ1//GPf7REC4vLvffea77//nszceLESBLj7vD555+bQYMGmUsuucTsueee5i9/+Yu1LB133HGWmGFxwvJUzYW9Zb6ZMNFmJSMQ/7Ne/zJzn37WbpxJcL6KEBACQkAIhCMg4hKOjY4IASEgBGJHAMWbtMR33XWXOeaYY6xFYpVVVjF77723tUo89NBD1qXqnHPOMeyFssYaa5jDDjvM/vbhhx8aLDFYKZo2bWqtFGeffbYlMJAVygsvvGB23XVX07BhQ8NO9k7Rv/zyyzPkAteyp5+uu7lhMZ198MEHzfLLL5+p+7bbbrPVjBo1yhxyyCFmnXXWseTKWU+CSAy/BZVly5aZyZMnG7KhnXrqqQaLE/EyWKDA57HHHjMfffRR0KX6TQgIASEgBOohAiIu9XBQ1SUhIATSg8DHH39sFWwU7R133NEq3pAOMnz16dPHulThFoVbFcchMS1btjQ9e/a0rlUo7zNmzDCkGmZvFNypzjzzTJuti2MUAt1xK8MNbNttt7UxI+6YQwKXMawhLtaFuJennnrKHS7qk/Z7LTlrrbVWnQxiH3zwgcFChFsb8SxffPFF5l4QFlzIcCXDnQ0MwkiMu+i7776zRO2WW26xVij2qaFuMMOS9Pzzz5svv/zSna5PISAEhIAQqEcIiLjUo8FUV4SAEKgsAl999ZUZPHiw6datmznggAOsQo17F3uaoGjj2kVsB7EnuHgRr0KAPRaSq666yrDzvLOQfPbZZ+bmm282O+ywg4EQnH766Wbo0KHGS0h+/PFH06tXLxsIz34tZBgLKgTk/+1vf7PpiXEpc+QFSwnxMYWmK8Z60rFjx0w91EeMS7t27awliJTM/jJr1iybZQySceKJJ5pp06ZlnUL8i5/EQLbyKfPmzTPPPfec6dq1q9lvv/3MaqutZjbaaCPToUMHc+utt5oRI0ZYl7V86tI5QkAICAEhkF4ERFzSOzZqmRAQAilGANLw9ttvmzvvvNMcffTR1mpAOuJ99tnH4Jb17LPPmrlz59oe4O50xx132MBzsoBhccH6wE7zpBF2hRgPFG1coSAaxLa89tprdVIHQ36wwBDQ3qZNG4NbVlDBEnPRRRdZUuFIAO5mXOfIC5+QKyw8pFeOKhCEa6+91rp/ea/HYkLbKffcc48lWlg+ggrxPKRvhoxBdHCb8xdIDBnJiJPB5Q08Xfv95wZ9x22OfhIHhCsd5A8XM6+l6/33388igUH16DchIASEgBBIFwIiLukaD7VGCAiBFCLgFOFHH300owivtNJK1i0LSwhxKVOmTMkowp9++qmNyzjqqKOsaxduULiGYflYsGBBVg9xnYLUsN8J8SzsdfLKK68E7rcyf/58607FeaQ7hhCFFdylsOjgQgVZ8BYsIlh5vOSDv1dccUVDimISAvzzn/+0/cKig5sb7fO6mrlr999//yz3L+6DRYnkAuzl4rUQeduAyxdxPrh60c4waxFplP0khn1gCi2OaHJPsIMQ4ZbHvakft7nZs2cXWq3OFwJCQAgIgTIiIOJSRrB1KyEgBKoDAcgF1hDct1D8cW9CwSazFxYRMnaRLcsVSEL//v2thQQrAQHpBN4TuB60P8mcOXOs0r7bbrvZutnbhKxi7HcSVCBCxLXQDly7+B5VsGJgRYkiDhAK3NcgYI6EFPKJ0s9mkmEFTEg4gOuWn6x5r2FDTAghG1QSn/PEE0/UsTC58yExZBzDLY19bOhfMSTG1ec28MSKdNBBB1krF650WIJuvPFG65q3ePFid7o+hYAQEAJCoMIIiLhUeAB0eyEgBCqLACvxWAiwemAhgXjg8rXvvvtaxZjYCVykvAVlluxdWCYIiMf9iwxarOZjeQkq1IEbVYsWLWwMBjEi1OFiWoKuwZ0J6wDpkXGXwuKSq5BJDDesf//737lOtcfJUvbnP//ZEp18iAv4EJeTT1twVSNuBdJHKuOoglULPCBzuJ5h6fnhhx9CL2GfmDhJjLsRpBASesEFF1irFH0lu1unTp1sm0geANlSEQJCQAgIgfIjIOJSfsx1RyEgBCqEAMoxQeHEPmC5YCNHLCDmoNcAACAASURBVA5k62IvkocfftiQBYvzvAVy8eabb9qsVbvssovdX4RYFtISY91AQQ8qWB1QwHFHgtxghYEIRZEV6iFmhY0YiUXp0aOHDegPqt/7GwQMNzM2oCwkRTD1Y/HBAgPpeuSRR6w7HJtIHnzwwTYVc+fOnW1mNOJGKLQNgpRvId4HMgUW+RSC6bkHlisw/uabbyIvCyIx7733XuQ1+R6EpBBfg+scSQXAFzKDHEBcsRCR9U1FCAgBISAEkkdAxCV5jHUHISAEKoQAxIFVfNLkEovhzTbFfiNs1uh1+XLNRIlHGUap5zo2QiRgHqsHu71HWQLILIYLFcQGsoIV55lnnom8xt0XdzEsMlg1clkc3DV8koGMAHRc2QrJEEY/yb6FC1YhZciQIXbTy0KuIS10kyZNbGrkIMyD6sLihGWKmB420cTFLldh3DiXfm2++eY201hcJMbdG4sbGd5IkADBY5NPkingbkbiAcbRH1fkrtWnEBACQkAIFI+AiEvx2OlKISAEUoQAZAJLxe23326OPPJIGwcBcSDGgjS5ZLmKcm+aOnWqdeUivoFYElbWzz33XOtylWvFHyWVTRIhObiZkYaXYO8oguOggzzgmkR8B25n/fr1C7XguGu8n5AILBPE3hRasP5AyIop4IPyXkghIB/XNzaSxEUt3wIxO++88+y4nHzyyXlblHBP85OYSZMm5Xvbgs4jyQKbeuIah4WNGCCSMmBlI/McGeiwiqkIASEgBIRA8QiIuBSPna4UAkKgQgjgygXRwK2JoPXtttvOunzxyXd+xyXM7/LlbS7pe3ENO+644+yKOXEYuAKxkaNLY+w93/83e5kQfM9+LZCVww8/3GYNQznPp6DEYplBuSWuA8tQoQWLEO5kb7zxRqGX2vMhWgTGF1NoO3E9xZR7773Xuo5BnAopWLOuvvpqe+1hhx1mrWL5Xg+JITU047zFFltYK1xSJIY2Odc7ZITMcxBTUjJjGcNNMR8ZzbdvOk8ICAEhUCsIiLjUykirn0KgihHAUoKS6zYYxJJCZiksK1hYsLTksm5gFRk0aJCNZSEjFa49WEZQwPNd/cfyAtk58MADLVnBTQhrSSHuWezbwsaSZK+iHjKUFVpwVUJxx1ri9k8ptA7iYNZee+2c8TZh9ULQSBpQbHwHFggyn+F+h5JfSOHeWDG4nsxlr776aiGX27ikcpIY1zhc5IjfwU3RbxUkQxoJFfyJINy1+hQCQkAICAFjRFwkBUJACKQKAa9yB7EgVoHYFKwDxKpgmSB2JVdBuWVvEFyFCL7HKkIMAkojMQ9R1hhv3ZAErBIEi1NH27ZtrTuXd+NI7/lhf5MSGOIFYSLupdi4CyxJW265pd0XJleQf1hb+B3XK0hDKQVsyb5VbGEciQUig1tUyuSw+gmcx3KB2xpjPGDAgIJJEMkV/CQman+csLYU+7uLw/Km3oaQtW/f3hLct956y+RrxSu2DbpOCAgBIVAtCIi4VMtIqZ1CoB4iAHkgixcbOJLVC+WTLF9k+8KdhuxfZLLKh2SgxLKaTXA0Ae5kftpjjz3sTu8E4ReSwhZSgssYrlCQFUgL5AUSU2iZNWuWjZUhbgaXITZ/LLYQQwHx6dOnT7FV2OuwEBHwXqy1xt2c2BPqKcTi5K51n2Rk69Kli7WeQCKKKcgHFjk21cT1jgxgxcSTcP8LL7zQtgVyCJkoJ4lxfSeRwWOPPWblBqsaLmbEP51yyimmd+/eBhe3Qq1Urm59CgEhIASqGQERl2oePbVdCFQZArjB4A6DWwyr7Lh8sWcHFgj2UWE/lXwVTpRVNh8kKN25bhHjwt4e7Dxf6Co1yjepbQnOd9YZVvNzBeaHDQGE7Pjjj7eKPTuz5xM3E1aX2w+lmAxgQXWi2OPmFkehnvvuu6/kqpALUiaXWheud1jWiP0h69e3335bVNtwZfOTGLKcVaJgWSNGh32AiMkiWxqZ7iDmWL2efPJJA0FWEQJCQAjUdwREXOr7CKt/QqBCCODyhRLJ7uyk6SUoGqsDweysZLMzfaHuQaxEo3RTH5YHFDiC8cngVUz6WcjNwIEDbWA9ZIW2Yf0h8L7Ywqo97mRk+rr++uuLJj7u/gSkQ/L4x99xFNISk9Y5joIrE9aJfKxiue5HrBGWBZTzfFMmh9WJpYQMZliESiGO9AsSg0scLlxsRtmtWzdTKRLj+ouMEtvTvXt3axEkXgmyhpUQuSPbXLGkzd1Dn0JACAiBtCEg4pK2EVF7hEAVIoByx+aF3gxKuHztuOOOdjND3KwK2RTRQYCVApcZdi1HaWS/DPb1wBIye/Zsd1pBnyjEBOlDfiArxM6QyrgY4uO9MUokaXCxirAyXqriTd3sr0J9KN5hm1x625DP3xANlO84S9OmTa2VK446wQ3iAoGBqJZaZs6cac455xxLmk899dSS6kTOsQr6SQyyn4aC6x5EnJid3Xff3bpLkkENyx+Z3JCnn3/+OQ1NVRuEgBAQAkUhIOJSFGy6SAjUNgIQCnZDJzaB4GoIQBx7VuCWRb0omijXWGhwRULpIii92IL7GZtA4pKGexrWC3Z+L9WCQZwBbjrE5BAgTkxOIbE0Uf2BBGJVwpoUZyHoG2IVZyHmBne9OAsuY7iO4UIWR8G6h6UPTMGg0E03/W1wJOb8888366+/vpVXUjWnhcTQXsguSSCQdfa/wdJGvMxOO+1kkzMQx5VvRj1///VdCAgBIVAJBERcKoG67ikEqggB3KmGDRtmMxyh8GH5wP2mVatW1mVm8ODBRRMAUhjj0gIBwjqD3z4WEPYnQbEsJQCZuACUXjYAJCsZ1hB2o88nI1mu4WHVGmUdVzWUQO6DIhtHod2nnXaadb9ir5o4C5skQgYLzYiWqw2MIySjGKtaVN243SFvyEdcFidimUihDdmAwL722mtRTcjrGGNPSm5HYiCxkBjinNJW6P+bb75pevbsaVNqgwPPM26SuMDhwlkqoU9bn9UeISAE6g8CIi71ZyzVEyFQMgIQBXz3Ucpxq8EFiBVaMhthBcFtqxT3HZRP4gXwwWf/DYgKmaBIc4wyVUp6XzoPoSBdMq5GkBWCl7HWxLU3Bkof6ZT/8Y9/mJYtW9o2lwy6pwKyfIE1e7QUk8HMU1Xgn1gczj777MBjpf5IamVkJO6CpWS//fazlr04SKdrH7JCPBPxOVjMsJyVQpRdvdVEYlybnQWVMXQW1AYNGlgLZb77JLm69CkEhIAQSBIBEZck0VXdQiDlCMyZM8e6UF122WWWSKyyyiqmYcOGNqj5rrvushv1lUomIEJsFtimTRvrprXNNtvYGAFWduNY+UcBxepzwgknWGsCu9DffffdJWXx8g8b8S9ux3ZiYyZOnOg/peTvb7zxhg2uxtqURAEngrfjtuK4thJzhDUnCcIFoSATHdYXiG+cBaKBxWznnXe2so9bVb6Z7XK1w5GYzp07W7KLJYZ03UmNQa725HucdmMtYrNVkl+QrY+YNdKVk7YcwsdxzlMRAkJACJQTARGXcqKtewmBCiKAtYDAbL+LCLEJKFMvvfRSyQHqdI9gaCw2Rx99tM2sRbpjrDdsDhjXijlxJGwueeKJJ1o3l1122cWmU8YVKs6CMo77Dwo5e2iUYm2KaheZ18hChttcUqVfv352NT2p+qmXDUMhqUkV9mrBJQ0rWhIFl0ieh3XXXde6K8aZlQsln/2EHIlp3LhxVZAYhzPugLjDkbacWDGea2LbsNDgykcMGQshKkJACAiBJBEQcUkSXdUtBCqEACvUpIMlWxYKN1aOpIJyISP9+/e390GZQQGHtEBeIDFxFdzMiEcgyHjNNde0sSW4bZW6iWJQ+9j0ElIEYWEvj7gJkbsnZBJlH1clMkIlWXDJQ7lMsqCYk6QhyZV4gsmRZ1IdF7pXT759J6Cd2ChiP7BGxuVq6O7vSMx5551nM+VBYq699trUW2Jc+90nsTBYO7FGEvPGc4kbJa6OWA6xIsZhVXX306cQEAJCQMRFMiAE6gECKNbsqk7a3D333NPg8rXZZpvZWA8ySLF5XakuXw4mFBHiSLBEkLKWLF24gbHSHvfeFpAV9hshWJ2V9h122MHuC5OUkk9CAJQu7oUiuWjRItft2D8JZMd16KSTTorNNSmske+88451s4orwD3sPvwOCUM+kiykTCbFL1mykrKC0f5PP/3UxgRBYJHBJDJwQWJGjBhhs3yR7ps+IXulZNFLEvtcdYMR1j0sS7jfsWACMUPO77//frtpbDnkMFc7dVwICIHqREDEpTrHTa2uYQRcViBWNEkVzAonK53sFo7CgwtVnAo3hIfAeQLocclaeeWVbTwMAfbEG8SthGAt4n740rOpHv719BUlMqkCOSIAnBgKCFhSK/mu/cRUQI5Q5MpRsFLdcMMN5biVTQkNluUobEYKjqTQTrJgVezatat9zrCQJRHjRPvrG4mhT8RWsSBAemvi0EiGwBxCLBrWTFxI47TMJikHqlsICIHKIyDiUvkxUAuEQCgCKPGTJk0yvXv3ztqHgZVMVjSfeOIJM3369NDriznAPVE0IAukJibzF6mK8WMnBgNf97gLChvxBWS8IoCcbGYo2kmscLu2c09cp8jihTJFwDFKVpIFbF2QOal+y1EgsWRYiyu+KFebIbqMYblSAWNN3HDDDa1LV9wk2t9XrI233nqrXSzg2YDwJlUciTn33HNtzA3Wzeuuu87gxljthdgh5hKe8UMOOcTKC4sUrVu3tn185ZVXzNdff13t3VT7hYAQSAABEZcEQFWVQqBYBAgGZ8PBSy65xKbyhTSwVwi7xROQPG7cuESUa9xSqB8LDm4xuDChMLGSzaaQSRSvYoaLDIpZ9+7dY98LxN92AvvJlgRZwfUMFzvaknQhMxl7ZbCfTLlIBH0i8J/00OUs7Ady+umnl+2WxFpg5SHFdjmwheCyQSi70iNDgwYNiiWVchhgyOfw4cPtM0nigPpEYlyfiVUDR+/c59xdyRIYp7uru6c+hYAQqD4ERFyqb8zU4nqCAKu3BK/edNNNpl27dnZVlV29Dz74YLvq+Oqrrya26ghBeuSRRywhgjSwYk0wOjtps6dDkmX06NE2PgYXNxeUXA5/fty/cAOjr2w8mORquR8/YkzYF+Oiiy6K3bXOfy/vdxReEiaUy7rj7o0MYeUp56o51izcudhQERkrRwFfZ7VjgYFkGHHFkoW135EY9sxxJAbCXx8sMd4+O2szmJKV0CUYwfpL3x999NHEFzm87dHfQkAIpAMBEZd0jINaUc8RwIWFTEXsEUGQKgo7QavEjBDkTlauJGM4cBfCksOeDChYxMSwHwkxFkm6Y7lhRXHGnx3SgKWDFfkpU6a4w4l+0ndif3BFIfAeq1U5CwQRQjpw4MBy3tbei71ysAhUopD1C2tPucvzzz9v415ISlHOQlwWFjUWAm6++eZE9rPx9wcSg4ulIzEo9+WwWvrbUa7vLD7QX+Sqffv2dj7BQozbHjF4jH05LG7l6q/uIwSEQF0ERFzqYqJfhEDJCDi3h4svvti0aNHCxongVkImJIJUJ0yYYHBZSqrwgsdPHLcLgtvJMsb+FPjnv/vuu2VxjYIg0P+NNtrIkiUUC1I0l6uwpwQWDhSbTp06lT1LE+5EZ511ls3uVi6S5seWFLW4xVWiMP6MPSvn5S7EfREnRUrjpBMt+PvG88U+JywOsBP9/Pnz/ack8h2cvXFikBgSaJC9rj4XUlWzvw/WNtwFsfQhdyRRYL7DxY4sdCpCQAjUDwREXOrHOKoXFUSAncKHDh1qbrzxRtO2bVvrvuECTVn9ZO+RpOJEXLchQaRUZSPJPfbYw2btgTDxnd+TDjp37SDbEvte4J7UsGFDG4iOpamchfS47F0DYSGBQRL7vOTqD+mpsaYhD3FuYpjrvt7jWNLIuBXXLvDeuvP9myQSSe8dE9YWlFWyWJFeuBLK+4wZM6yFEzkkQx7fy1UgMWw26012UQskBnyxQuF62rdvX9t/LI4rrbSSJbKktGZ/KdK2V4JQl2v8dR8hUJ8REHGpz6OrvsWOAC5frKjiYkVMCEHspPZkc78LLrigbKk9eTnTDlYUsaRgUWnWrJm1cJAOuZyrzLSDlWWICoQF4pJUutioASWOhFVW3LJwRSNguxKFVW/chVAUGadKFeSRfX0qWch6x75ClSw8qxC4ShEoLC5kksMCc+SRR9rntpx4hJGYJPe/KWf/8rkX5J3U7XfddZe1wjFXMWcimzwjuNES96ciBIRA+hEQcUn/GKmFFURg1qxZ5sknn7QuR7vvvrslKcRosJLbq1cvq6An6fLl7Tor6ChhxKagnJNxh5VcMvGQsaqcBZcvXL+Il9l4442tSxoplCtRWFkmtoBgf4hcJXfqvuOOO2wsDW56lSxYG1CUK70/Bs8GJI6U3pUszm0N18mkUyaH9RPLLLEZ4IG8kpij3MWRGFwY11lnnUza8VoiMQ5zYt9Y5CH+jT2wmFNJdoCVFOs5yTsYMxUhIATShYCIS7rGQ62pIAK8pHhZsbcALy/2osDli13hWT0vh8uXt/v4brMDNcH8+GzzUiWtLTELlXB/Yl8OLBlbbbWV3aiRYPtyZ6ty+GDJwK8ddywIHPvcJJ3Nyd076BMLF/EU2267baJJFoLuHfQbeCC3aSi4SyLDlS5Y4AjiJh11ueJOgvqMnJIpC9LPHkLlSsftbwskhoQCJOyAxCC7KOzlSNbhb0tavuPOR6IUEqZgRSeBClZ1YuTKvVCVFkzUDiGQNgREXNI2ImpPWRBg1RXXInbe5qXkXL7cbs5kgCr3ajWxEOyozv4ptIcgU9Ikkx1p6tSpZcHFfxNSrLIiSRY0LBq80Ek1WykXKFbwSYNKe3CNwxpWaV91FD321SDxQhKbc/rHJJ/vBKaTTjsNZcGCBVaWK+W658UAWXEpk0eNGuU9VPa/aQsuSqT3JXEH+8KUKxbN31naggXIkRieLUhM3Jvb+u+b9u/MN7i9et8TkBlIjcsGWc7YpbTjpfYJgXIgIOJSDpR1j4oj8Nlnn9l0tFgJICfEpWA5gLTwUoLElMvly4GB3zUWHuJDWHlls0my4rCvC64tlVLIcRthlRxlHCsPRIoA/0qRFfCCELBBJm5p+KVX2hXLjeELL7xg4yfIFJeWwlixml/J8fJjwXOGIpyW4saNmIc0FJJ7YA1Kg7ujIzG4oWJxhsQwJ9U6iXFy4k3GwsISrn+4meFuRjIU3M9wQ1MRAkIgGQREXJLBVbVWEAEsF0OGDLHuXbjL4AbBv0MOOcS6gUEWKpHpCSsPrlW4ou2zzz6WqJB1iRVgVjsrmf0JpYR2sVKPixzZiAgyr7TySzY22uXGjwDbNBRwwW0ORbPSK/d+PAgAZ6PNNBUWBtgYstyLA1EYsFKOvB999NFm6dKlUaeW7Rir+ySYID6JeaHSe5JAYiBVjsSQWl0kpq44ENiPyx+B/rgiEvhPAgDcR3kWmbcqOb/XbbF+EQLVi4CIS/WOnVpujFWEeNnjf0zAPIHzWFMIpGcPD1yJCLCvVGH/DlZ1IU24fmHFwMWAFd9KB36y4WWPHj3sPi+srOImgs97pSw93jEivofsZGussYbp2LFj2Tar9LYh7G92g2d1lXTTtDNNhR3rSb9bCWKeCwfwqsQmnFHtwpKHNQjXwzTtPI/74emnn27HkkD6JDenjcLHe4yFlyASI1cpL0q//c0cSspl3P9IwUz8ECmZSc3MeLIpLSmbK70wVLfl+kUIpB8BEZf0j5Fa6EGAuJMBAwbY1MP4GUNSUDpITUzGLVLzViprEM3EJY2XFSttWC4aNGhg9xQh4LOSAcEOQtrHrt68QEkRy0sVC1QlMXNt4xMliNVdlG+sPuWOM/K2JehvsmNtuummdn+YNFkPXFtxVQG/NBay3/HMprH861//su4+xJykqUCMu3TpYgk8lqFKZ2dz2DgSA7liHsESwyKISIxDqO4nmf5w47ztttusVQ2317/+9a/WPZh02SQbScM7om7L9YsQSBcCIi7pGg+1xoMAbkJk8iLeonXr1tbf2puuktW/SlstCDyGSEEAUGixXLBrNlmD0rBKCpxkIONlSRwNLihszgiuaSErtBGFDMWM9vESr7SLjEcMM38+/vjjVrllb5I0FogU/vas9KaxIG8bbrihmTBhQhqbZ+PKyN538cUXp+rZACwsaD179rQxZ61atbKbS6YFRMaVxQ9HYrbffntLYtIy/6UFp6B2MM9hfSe1fMuWLe2CzQYbbGDat29vF5hw1y3nnlxBbdRvQiBtCIi4pG1EarQ9KF0oNAQ5k52JLDsEq7MLPIoEq7WVSAHsHw72CHnxxRetxWebbbYxq666qiVV7N/B3iZpKezcTptIF4y7FRYpAtrTZiVgBRK3KwgpilmliWjQ+IHZeeedZ4lpWla8g9qJG1alN3sMapf3N1blcf1LayHzGQokOKbNDRDMiJMg1TUpwImPe/bZZ1PlbuRIDAs5WGIgMTzXIjH5S/xHH31kHnvsMXPOOefYxSZczHAxZsGJsWcOSoM7b/490plCIF4ERFzixVO15YkALgUuXz7KNSkmmzRpYvd7wG3jvffeS8WqJ3susMHhVVddZd1ccE0j+BIrEGmB02S1mDNnjo2nIWsarlbE/AwePLhiKVajRAHyRxzSJptsYl380hq4SswI7Tz44IMNsS1pLsSQENOV5kK2JWK90uwSg1LI807ihZEjR6YSTtrIYg7EgLi+hx56KHXPOXMjSVIcicE9VSSmcHHiHTR27Fhz99132328yBjoXdSrdBxn4T3SFUKgNAREXErDT1fngQAKH3tKXHfddVYBZCUOl5ZDDz3UZqgho1Yldzv3dgGFAMsPL1hWXnlB8MIlUBz3KvyU01RYFSZNMEorCiGr2bgeVHIzxjB8UGRws8JSxT/+ThPx87ebbGEor8SNpD2IllVY2po2i5ofU76feuqpdm+goGNp+g1yjetn2jK0+TGCHJBGnaxtuISmJUOat51hJCZtMWzeNqf5b+871blRE1NJEhg2S0Ym0pigI82Yqm3Vg4CIS/WMVVW0lA3Uxo8fb5VplGi3OoTrxSWXXGI3XCN1ZJoK2YRwUTvssMOsWxX7uxAY/swzz6RylR2/aLKoYfkhuJNEAGxcmVarBe1irxysK1gvsAKlvbDpJ0prNbQVLFnVZmGgGgoxOLgGVmqzxUIwwjJMRihSTKeREHj7woLLEUccYeOwiJkg/i6NxZEYCCz7n7AwRMIQkZjSRgv8cBdlrzLmWbwDcLnG9ZrFLd7L1fDMlYaCrq4FBERcamGUE+wj+3+wct65c2frc43Ll98fN22r6sR/9O3b107orFITDElKVPyKcbdKY8H3Hhe6fffd15IVEgBArNKyU3sQZsSrENOAkoqrFfEsaS9Y1CDcWISqZcM9klhgbUtjTEbYeLOPEckOqqHwjBEj1qhRI5vCNu1tZgNZSAEykcbMfF78eDdgyXYkZscddxSJ8QJUwt9gS5ZN3hsnnXSSdcXm/bzTTjvZmD2eP9JuqwiBakNAxKXaRqyC7cU/nV2Br732WhtQzWoZij+WClyr2AMkjauStJvNwcifzwoUmavI2oIVgJd8WsvChQttdjJ21CYJAKup+LWnzV3Njx8Wocsvv9zinKYUrv52+r+zus6GhFiw0o6xt+233367zcjm/S3tf2MhREmtpkKmQOY8nsFqKMRnsSEiyTmOPfbYVCUPCcIPN0dIDEHo4Ix83HLLLTbFfND5+q1wBHDJ5j3NghLvbdwLkY8DDjjAbqiLeySLZCpCIM0IiLikeXQq2DZMygQE4jJz3HHH2Sw27AaMexLxHhABLBdpLCidZNDCNY3gVdpNClFeguzgneZ4BXyX2QeGFwlk5fDDD7fm/2pIiYmrAiu8JAZgL5Fq2tMBQo5rGJuFVlNBltmhO61B5GFYEkvGHkfsKF5NBXcb9t9gc9u0WZLDcCTWgd3uiYEggx8pdtNeIDHERToSQyp3kZhkRg0vA7LTsV8QllDeOzybWPVZFCHWL82W/WRQUa1pRkDEJc2jU8a2YTLGdEzaV0zJmJRxl8GE36dPH7tah7KRxsJLDsUNSxDpk/Htxcf36quvNsOHD0+9Xy+uPuykjFLBS4OkBWRcS6P1Kmj8p0yZYsktK3eQ2mpyWULxJ0McySKqwZXNjz+Eq1mzZv6fq+I7geQoR9VWsISyEMJcU02yTqwZm/Sy3xSZHLF6pXkRx8mFSIxDojyfyMQHH3xgHn74YbsAxeaipGRmnmFBigx2zPnVIDvlQUx3KTcCIi7lRjwF9+PF+9JLL1nF/sADD7QuPZiMWd0nSJL0v2lWmpkwSZeM4uOUfQJoWQWlX2luuxt+4j8effRRuwcMZIVsMBDHtGRXc+2M+mS1nHavs8465oYbbjAQsGoqrES3adPGprlOa2xTLjzJKMTCQjUW5AXrXFott1GYsojDwkg1El7aThA3CilxOyio1RK07UjMySefbN9bWGJuvfVWuZNFCWsMx7C4YHlhbzAWG0i0wntr7733tpYa4i2rdQ6NAR5VUWYERFzKDHi5b0da3DFjxlgXGPyccSvBdcpNOJiIq2HCIVCaIMMOHTrYjc3oBzs1k8O+WnxyISWQE5R9Jn2UTshLtaWtxA2PLHG4zJCtphrdCMhsxSZ+uLZVi9LmnzvY1I9YgGqKx/H3gbizrl27+n+umu9kncPFEIWuGgsxJbgHkaCEPlTDoo/DGRLDXORIDJ4CkJhZs2a5U/SZIAK8d5F/CDwWSCzuxLziMUAMTZq2OUgQBlVdAQSqkrj88MUcM//Fl8z0HreYSSedZt458lj7b9JJp5vpPW81Xw5+2fwwZ24F4Ez2lr8sWWoWjRhlPuv1LzPlnPPNO0cfbyZ2OMa82/FE8+HlV5kvnhhov0+yFAAAIABJREFUprz0slWG3a67uHwRcEy6VGInUNjS6vLlRQ8XjH79+tlsKBtuuKHZeb1/mO77HWCeO/xIM7r90bbf9B8cPvtnb7No5Gjz69LvvFWk4m8UAdy+mMwhK1iIcAvL1zqRFll3q7S4CzRu3NhmYENxSKrkI+uL3y/OXWHAgAFW4Yc0pq38Z9kys3jyFPNFvwFm2uVX2mebZzxI1i+++GJrZUxbHwppD6nIUfxxY0qLrBfSfs6FQGK9YFGlGItpkrKeb1+I3cHiDhHu1q1bWRaDCpH1XP1wJIbsWSRfgcRgkU8rialWWc81Dric897G5XznnXe2Lue8LxgX3BTJclYtsWG5+lrI8ThlvZD71tdzq4a4MPALhrxu3jvhFPPW5k3y+jfpxFPNV6+/Ybi2msvSjz42H3W71gzfdse8+v1sk2bmkY6dzLBXXjHVENTN2GB1eO655+yEx0RHKs8OrVubfp1OMsN23yevfo9o1tx8dHV3890n0ys63GCOKwaKAGSFQHtIY747r6dJ1rHY9e7d21rq8It//vnnE/VtLlTWx+x3oPn84b7ml8WLc445L8wLLrjABp7yAk1T+fmbb83nfR42Y/ZtlZesD2u6g7l0gwZm6htvpqkbBbcFWT9rtxZm8P4H5tVv5v40zusQL1b+2QNq6tSpeeGQpKzn1YCAkz766CMbEI8L37nnnpuIC1ahsl7ovA6JIfbLkRgU6DSQmKLn9aFvVq0OgzUbUsw+aewns+WWW9oY1N12283uN8MiEsS/vpakZb2+4parX1VBXJZM+cCMa31o3i82P7EZf8jhZsnUabmwSN1xlLFpl3Utut8jttvZzH3y6dT1iwbxoh86dKi54oor7OoYO9Sz+zPZb8aNG2dm9+tveGH5xzLf71igflmypGx9x12HNKmkLIaskMKY9KnEExVS0iLrrByTxQcffogXcU9JlqRlff78+da9DZcG0mOnqczp/2RVyXpc2KVF1uPqD/UQb4TVAhfWsJK0rIfdt5DfcR8mKyPuP2SVxFIfRym3rIeRmM8//zyO7uRdRyyyPu3DvO+X5hNZpBwyZIiNi8Rtmmx3WF3Z64tNdHH/y3eRL839LFnWr+hmsMaq1EUg1cSFIOyZ9/Qyb23VtI4CO6HdEeajbteZOU8+Zb4aMtRaY+YMHGQtExAVv4I7rNG21sWqLgTp/GXSk0+Z17bbqU4/Ru++t/ng/Ivt6uyCV4dYi9L8FwabGbfdad7rdIoZ1mS7OtdMPvVM83OFlTVWu4m1IYgbn2qICith+LfjCwuRofz01VfW/c8/fsO33t6utM64/S5Df78a+qZZ8MprZtYDD5kPOl9kRu+2V51+v73nfubrseMSG2DaTFAiwYrsYE+/MIcXs2N1WmQdv+WrrrrKKl+4vpA+Ouny9egxZnSLfeuMX1yyThIBkk+wm3ia3CSrSdbjlIG0yHqcffLWxQ72xH9h3fO7UyYt6952xPE3Lq033nijVS5L2UQ2DbLuSAybiULIeP+Q7jdJElPfZT0OGaMOXPpY+IMsk60P/YAYROJy7777bqs7YP2vhpIGWa8GnEppY2qJCw887lFZCuxWTc2HV3QzS/JYeVjywVTrI/7Wlttk1fHxdTeUglci16IssvETCmPLli3NPmutY15r2Cir3e8ceZyBqPzn118j2wBB+ez+B8yoXffMun7cwe3MTwWu/kfeKI+DpExkXwxWVXD9atKkiencubN1NwoKSP9pwVdmbKs2We2GkMzq3cf8/HV0xqr//PKL+fKlV2zsi1dmIHILh4/Mo7X5ncLkiUsbmxTSJ/a16dWrl2HTxWJLGmSdFwd+ybiIkAK7XBtzLnxzmBnWuFnWmMcp62wyutZaa9kxK3Z8kriuGmQ9iX6nQdaT6Je/Tqx6ZGxs0aKFYSNIStKy7m9DnN9ZpOFZIpvUrrvuWpDLaBplHRcmMlA6EoMbLCRm9uzZscFWK7IeG2CeiljonDRpkvVaYC8ftmYgJTObkhK/S3wibo1pK+Gy/mBqdJi0YVZMe1JLXLCmeBXQcQe1tUGrhXby2/cmmbEHtM6q6+PuNxZaTWzn8wIYPXp0VlpBVuv33Xdf6zb1Yo+bzZuN/mdhIq6FQN1CC4r+BxdemtVvyMvPi74utKq8z//ss89sLAdKPeZfVh3x+37iiScMrjpRBVLlJy1TL+5ifvn226jL6hzjZTH70X5m+DY7ZPoOeSF4v9jCS+6FF14wHTt2tIo9ygjZtOLaw6GSso4//gknnGD7RTrpcmaYWzhseBZpKUnWL7gkM97MG2+3amNOO/Y4m0igXCQsX/lKs6zn24diz6ukrBfb5mKvYy665pprrLvlW/f2SkzWk57Xvf1HoSQuwSXp6Nu3bx2rkvf8apB1R2I6depkLTGQGDKslUpiaknWvWOe1N/EjrJ5Ki7M7du3NyTtYaENt2ys6cRflrKAWGq7sbSkVYcptW9puz6VxGXeM//OUkLIHLbsv65ExQD46w8/1Anqx90o6cKLi6w5TO6k/WQXd7J8kYGGjZzIn4/iyHmUH+fNNyN32DXT91E7tTBLPyxtVYHAZS8BfP/szrF1G5cogtDJWMamZqxsH3nkkTaYu9Bd0yefdlZWOyEfpRSsciOb756pc2Tz3QyrIfkWXmakenRKPcGEWI/iVuwrJevEEZHpDN9i/IrLHfeRiKw/9EhmvJH5Pjvsksr0rmmT9XyfiVLPq5Ssl9ruUq9/uf8A88KmW2Vkc9TOexgC80spn/tkPc55Pd92sbM9afVRIO+8887ARDDVJutu3nckButSMSSmVmU9X9mJ6zwWD/GAwOWcGFkWgTfaaCMba0pqbDagLle6+GqT9bjGoBL1pI64/Dhvnhmx/S6ZSZ64jVJIiwMV8kLaYKfEj9xxV/PTlwvc4Vg+UeRZmYf9swqAKxFWB2IFyGrC7u5Re15MOuWM/7Wv+W4lv9xcpz5/MFuhm//cC+5QQZ+k9kWZv/DCC22KZYLQ8XvGxI5Z1xGwgio1xsx96plMvxmf2X0fL7SKwPMtefEQwffPODfwPPcjPtAEBnrdB4p5abn6cn1WQta9+zZAxCqVdS7tsp5r7Io9XjZZPzNa1ottf7HXVULWi21r3NfVd1kfO3asOeyww+zCFXt6uIQk1S7rYSQm14aptSzrcT87hdaHDjJt2jS7WMweXTvssIN1MWNLCFygSZ4xefLk2GMdq13WC8W50uenjrh43ZtYmYozqBxTnncVftqlVxSNv9tJFqUdKwMEBaICYYH9Y7bM5R7lvfmC117PUt4JPI+zsCKXIW3NdzMQuVyFiRvTLHn9sTisvPLKNqaje/fudhddf+BprvqCjrP3ipeoknggzsJ+P67ffH71RnZ2LFwfUObxoyUbEDsxQzKTDNh0/fvA4940ahdkPT43Pr+sv9zhGDuJk66VfWTiGDvXj0I/0yjrhfahmPMTl/UXBmfJOjEVaSnllPVS5vW48aolWce7ANdg3HfOP/NM89a2/8sKGfu8XmZZdyTGWeCxxGBlCiIxtSrrcT87cdWHez4JWliow43dbcLNJsqXXnqpeeqpp0pyC6zleT2uMSq0nlQRlx/nf2nI/uUUzbiVd8DxKrIEBaPg5SqOxaPwnXnmmdbVC5cvXL/4zu+w/GItDtz/3eM6Zfod9yRP/fga4y7lsCUDm7/Q/okTJ5qbb77ZpsBdZZVVrLJ72WWXWeU+CZPrF48/kWmTJao5gvD9bc7nO5tUun5bC96yZeb111+3Lm64t7EqQ59nzpyZT3WxnIOrVDllnWQPz/TtW5KMxtLxlMh6XH0ppJ5yyLp3gYL9TtJQ6sj6q0Nib1Yx83rsjQioMA3zekCzEv0JZf7uw4/IzLlJzeuVknVIDMl0HIlhUc+RmFqW9USFKubKcY1mr59rr73WbgrNouW6665r2rZta7PooR8szmNvMJpVq/N6zENSUHWpIi6f3nVvZrIj4DCJgnLuDdb/7L7769yGAC8sJl6/yQYNGti0t1hYRo0aFenyVafCHD8Qx+IUaz6XfvxJjiuKO0wqYXef8W0Os5WwSsbmUJj6SRHJBlGYWEnzW45c6uMOPCTTppl331dcx3JcxR4+rt9vbtbYbLPO3y357NGjR8U2v/r0znsybaqkrOeALvbDlZT12DtTYIXllnVk/rsZld/cTbL+24bJic3rt92ZmUvcvF6gaMZ+eq3IOlkmITFsroil6cqm/9uOoJbm9dgFqAIVEpfbv39/m8YcixqL03goQFDJHEqa8yBPhVqR9QoMSegtU0Vcxns2mSwmk1ZoL30HiKFwiuzYNoeZESNGWPcgYlEI7MLli7TEpCcmZiXpTBUz7/1npj3E4SRV8L317onTbP0N7P4WPJikFwwyeyfVFur9bvqMTL+xPsQdc+Rt+ztHH5+518QbengPVeTvSsg6ex9Vunhl/b2OJyXWHL+sfz+rvBvO+TtWKVmf9a8+/qaU/btkvYlJVNbnzs2a1yXrZRdxe0NIzOst9sm8Z8qlw6RhXq8M4sneFZKCBwppwIl7bdSokSUzZJ1jWweypU57863MeJdTh0nDvJ4s+tG1p4a4/Pr998a75wqKR1Ll+88/zwjbkM0amebbbWetDGT/wgJRistXMW2efMY5mfaQBSzJMuGwDpl7vdvnwSRvlbPuef9+PtOWiR2OyXl+KSewF4wjq1POvaCUqkq+tlKyPqzxtmZZhTfxqpSsfzn45ZLHrZQKJOu/WR3KNa9L1kuR1tKulazXnqyXJjHVczXuY0OHDjU33XSTadeunTlig40yesU7Rx6baEfSpMMk2tE8Kk8NcflmwsSMALDpYNLFG6S/eNLkpG8XWT87hDulGhySLN7c8tN73prkrXLW/fH1N2X6nfTeOuxY7TB+e6/9c7YtyRMk67+92CXryUiZZP03+dK8nox85apV83oTU2s6TC6ZqK/Hs2T9+psS7WbWvL53y0TvlfbKU0NcSNHrFMv3TjglcdzePeaEzP3Ycb1ShR3fXb/5LHTDxULbPfuxfpn7TTnvwkIvj/X89888N9OWOf2fjLVuf2UkYfDi7D9ezu+S9d8US8l6MlInWf9NvjSvJyNfuWrVvN7E7huXC6dSj6dFhym1H9V8fZasD6gdHabSY5Ya4jJ30P/28ph8+tmJ4zLppNMziiym7UqVX7/7LtMOFOukXXmycD7jnEp129530sn/27dm3rPPJdoWUhZ6iUvSOEd1JmsMJOtRUJV0LAvnmpb1n0vCsZSLs8ZAsl4KlJHXZuGcJllP+N1ad16XrEcKig7GikCWDlNDsh4riEVUlhri4vWLhVQkXQiWdIpsJf3fl/30c6YdtIeJOMnyxRMDM/erdKyHN95h7pNPJ9lt8/PX32T6Dc7ljmPydk6y/tuKuGTdKxXx/S1Z/6/FpYJxTZrXfxsDzevxPdf+mtKiw/jbVUvfs3SYQc8k2vU0zeuJdjSPylNDXBaNGJVRLMfsd2AeTS/tlLf33C9zv6/HjCutshKvHunZ3X3JlA9KrC368uk9bsn0++Nrro8+OeGjH3a9OtOWGbfekejdvn1vUuZeo3Zqkei9clUuWf9NqVnywdRcUJV0XLLexEjWSxKhki7OmtcTlvVPbro5M79pXi9p2Iq+uJbn9aJBq/ILK6bD7LxHlSNXWvNTQ1z8bPLnb74trWcRV/t9wH9ZsjTi7OQPvXf8yZmXzpyE/STfPfZ/sT24F1SyeK0/Scc1eWN7MO9WskjWfyMukvVkpFCy/pt8aV5PRr5y1ap5/Tf5qyUdJpdM1NfjWbLeKdnY7DTN65Uez9QQF4AYs2+rjAKfZGDl/OdfzNyHzSgrXWbccnumPUkGzP+yZIkZvs0OmXuxGWAly+L3p2TaMnzbHRN1k3v/rPMy92JDvEoXyXoTI1lPRgol603sJsPJoJt/rZrXm5iam9f3qU0dJv+non6d6dVhRjRrXlM6TCVHMlXE5aOru2eUyyQ3YnznyOMy90k6DW8+g/v122Mz7WETox/nf5nPZQWfM/uRxzL3Gd1iX/OfZcsKriPOC8ioNmrXPTNt+qJf/zirz9T1w5y5WXsEJZ2GN3PjiD8k602MZD1CQIo8JFn/bbW7pub1hx/NzKGa14t8cGK6zLvdQC3pMDHBV3XV1LIOU8nBShVxWfrRx5kJmADqxZPejx2bb995N+se3834NPZ7FFPhuIPaZto1vedtxVQReQ1ZtLyr/J/1+lfk+eU6+Old92b6jfVr2c/xZ4X55MaemXuMP+TwcnUt8j6S9d8UTMl6pJgUfPCTG6pA1idPKbhfuS7QvP7b81RT83oaZf3DjzLvGqvD1JCs53pG6+vxsugwKZT1So5nqogLQHgzZYw7uJ0hO0tcZdmPP5qxrdpkJpZJJ54aV9Ul1/NFvwGZdr21VVOzOOYJDwWRiZR/wxo3Mz8tXFhym+OoAOsSK++ubZ/ecXcc1Wbq+Pbd97KsLXMGDsocq/QfrMi5fo9rfahkPaYBkaz/9pzPefKpmBAtvRrJehOjeb10OXI11JnXJesOGn2WGYGy6zApkvUyQ525XeqIi/UZ3KppRqH7+Nr4Ml991O3aTL0oy0umTssAUek/IGgor06RhWARxB1HWTh8pHlri60zdc+8p1cc1cZWx4zb78q0jZf7otFvx1L3z4u+NmNbHpype3zb9olYdIptLOSU/rox//i6G4qtqs51kvXflPfakfVFknUWZTSv15kLKvVDcvO6ZJ13RrGyvmzZMjNgwADTvHlzs9tuu5nnny98H7tvvvnGXH755aZRo0bmqKOOMtOnTy9YzKZMmWLatWtnmjRpYq677jqzdGlhSZLS0AbX6VqVddf/cn+mjrgAAKvuTpnjc3rPW0vG5ZPre2TVOfPef5ZcZ9wVkArZq8iiaJdKXhaNHG2Gb719pu8T2h1h8MtMU4G0jfeQNhIIEPdTSoG0eOsc1nhbs3Tah6VUmci1kvXfCIZkvXjx+nnRIsn6f63JmteLl6O4r0xmXpesO92oWFkfN26cWW+99cxyyy1n/zVo0MBMnVpYavrbbrvN/OEPf7DXL7/88qZDhw7mhx9+yFuEFi9ebFq1amW4lnb86U9/Mg8++GDe13NiGtrgGlzLsu4wKOdnKokLcQ7etL08qB90vqgoJZ6XOhstuoedT9IPp015d4P++UOPZLUViwFm8UILgffUNazJdpn6RjbfzXz3SeErI4Xeu5jzyXDm3fcAskUygWI2ivxmwjuGvYC8Yz770X7FNCvxayTrvxEXxqokWX9Qsu7kXbKe+GNb8A1indcl65m5XbJesCiawYMHm1VWWSVDXNZYYw0zfPjwvCvCYtO5c2fzu9/9LlNHixYtzKJFi/KuY+7cuaZZs2aZ66nrmmuuMdSdT0lDG/ztZGF0xPa7ZGSzVnQYPw7l+J5K4kLHf/3uO/PuMf/bc4SXMhmo5vR/0vz6/fc5seF6slSN2nmPjCBRBzE0+Vyf8wYJnvDZ/Q9ktfmtLbcxH19/k/nh89l53RUryztHdcyqA9KS9IZ/eTUu4iRcp7zkhfGCwObrOvb9rM8NroVetzjq+LzPwxF3rfwhyfr/yItkPT83Scm65nXmNs3rlZ+/w1qQ1nl93rx5Zq+99rLWDghDmzZtCiId9Hfo0KFmnXXWscRjxRVXNLfcckvepIPrf/31V3PVVVdZqw1Wlw022MCMGTMmDMrA39PQBn/D0GG85CU2HebBR/y3qunvqSUujAoP/uQzzslSwBEEBIMdSwk+JU7lx3nzzI9z51rFnODrD6/oZkZst3Od694/u3PqSYuTxtl9Hze4N9HfzL8ttjaTTz3TzHrgIetK9cMXc2zq5O8/nWkWvPKaYfd5MnNlzv/vtWP2aZWqeB7Xx6BPYpze3rtlnT6MO/AQ278Frw4x38/8zPab/n89eoyZ1ftBw6aSfsJCEoIvHn8i6Dap+02yLll3z61kXfM6Ab+a1zWvuznBfcalw2Adefzxx83AgQMNblvFFNzL7r//fjNs2LCCSIu7F+RlyJAhpnfv3mbGjBnu54I+09AGf4NDdZiD2hanwyS0TYS/3dX0PdXExQE596lnAomIe5hzfUJ05v278AA0d/9KfWJ6xPc/V/+ijpNXHqW4mgo7XkNMo/qV69iEwzqYpR9/Uk3dtm2VrHuIupe05/G3ZL26xF2yLlnPNY/7j9fqvI4nQjXqMNU1I8XX2lrWYeJDMbymqiAuNP+nLxfYoP1Ru2S7CPgnNu93XMvYJf2nBV+FI5DyI8RAzH36WcOE7e1b1N9Yaj648FLz7XuTUt676OaxN8MH51+clS45qt8cm3j4UWbes8+lNoYpuse/HZWsS9ZzyblkXfN6PnNJGs/RvF6gDnPXvVWtw6RRBsvVplqV9aTxrRri4oAgewNuUdN73GLePa6TGdl8d7svCW5B/M1+AWQhW/Da66lKfevaX8rn4kmTzWf/7G0wF7+91/6G7FukRBzRrLlhY0Vc5IgBqmaiFoQPivwXTww0H15+lRnf5jDbX/pN/8FhyjnnG+KCktiwNKg95fpNsi5Z59mWrGte17xerlk3+fvU8ryePLrpvEOt6jBJjUbVEZekgFC9QkAICAEhIASEgBAQAkJACKQXARGX9I6NWiYEhIAQEAJCQAgIASEgBITAfxEQcZEoCAEhIASEgBAQAkJACAgBIZB6BERcUj9EaqAQEAJCQAgIASEgBISAEBACIi6SASEgBISAEBACQkAICIGSEPj666/Nq6++anr16mXuu+8+88Ybb5gffvghsM58zv3mm2/M2Wefbc444wzD+SpCAAREXCQHQkAICAEhIASEgBAQAkUhMHfuXHPkkUealVZaySy33HKZf8svv7xp2rSpeeeddzL1FnLuV199ZXbeeWez/fbbm3nz5mXq0B+1jYCIS22Pv3ovBISAEBACQkAICIGiEXj//ffN/vvvb2644QYzbtw4ax2BrBxxxBFmhRVWMIcddljG8lLIuSIuRQ9Jvb5QxKVeD686JwSEgBAQAkJACAiB8iMwffp007BhQ9O4cWMze/bsyAYEnSviEglZzR4UcanZoVfHhYAQEAJCQAgIASGQDAJTp041G220kdltt93MwoULI28SdG4UcRk1apS55557zHPPPWd++eWXyLp1sH4hIOJSv8ZTvRECQkAICAEhIASEQEURgExcccUVZsUVVzQ333xzZFvCzg0jLs8++6xZe+21zSabbGIgMCq1hUDFict3331nRowYEZgxgowS+EziO3nssceaTz75JHR0nnzySfP888+HHk/LAfw+g/pRSF/py7Jly8ydd95pHnroobR0LbIdmInHjBlTZ2WEfjz99NOmXbt2plWrVoYJKVcZPny4ueyyywyYpb1EyfcHH3xgTjnlFLPvvvuabt265ezK/PnzzQUXXGDefffdnOem4QTJevYqYH2U9bDnOolnFPweeeQRM3To0FDx/vXXX83dd99tTjrpJHPRRReZL774IvTcUg5EPdel1Ou9Nq1zfNhz7W17qX8nIT+ltilM1kut13t9tc3x3rb7/+ZZXWWVVczBBx+c09oSdm4QccHCss4665gGDRpY3dF/32r5vnjxYnP77bebjz/+OLDJxTz/xVwTePOU/1hx4vLiiy+a1Vdf3fTp0ycLKgbgyiuvNO3btzcTJ060AV+LFi3KOsd94dyLL77YXHPNNVahd7+n7ZNsGs2aNbN9+vHHHzPNK6Sv7iKuGThwoAG/tBfaet5555mNN97YYA72FtIlNm/e3LzwwgvmvffeM/i55iqTJk2yqRaXLl2a69SKHw+Tbybk/fbbz9x0001mypQpWVlXwhpNOkjIahDxDbumUr9L1uu/rEc910k8o5ASCAnEJKzQprFjx5qHH37Y7LDDDmby5Mlhp5b0e9hzXVKlvovTOMeHPde+ppf8NQn5KaVRUbJeSr3+a6tpjve33fsdcrHWWmvZjGAzZszwHqrzd9S5fuKCnvD3v//dup8NGzasTl3V9ANZ0liUD+tHMc9/MddUE2aurRUlLoB8ySWXWAE/5phjzE8//eTaZZYsWWLatm0baEXBrMhqNS8lBPvnn3/OEBdyhvO7n+RQN9ksUBLxteTeKL6snEEigq7JNCamP8hvvv7665tGjRplseywvtIujvHCnjZtmlX66Tv/6AN9D8qRTt8gAOPHj6+DAxMjv3/66acGxs+5WC5cneDgHYc4us4qEj6uTGSPPvpoVpW33HKLOffcc7MIp2sTn7woWeEDBwrt//LLL0OtLWCC4vLZZ59l3acS40/7w+SbNkJc/CvC9JO2IptYVtxx5JS+Me7Ig78gK5yPjPvHDywg/2DJeYy1G3vkJNeLxX+vfL5L1uu/rIc911HPaJh8I1PIJgqr/9nlGKvdPDOkXPUSl6DnmvNnzpxp9txzz0DiEnWffGQ76LnmN/rGPxYWeEZnzZqV5UkQdF+uY/7l0zvXufk4bI6nnWFznX+O59y43nVBzzV10zfmEvrPu5e+ewtzDHMT/XIlTBai5IdruVfQXBckC3HNdUGy7uZpxm3OnDl23gUDbx+Zr5l7vd4BtJ+++9/rueZ4ZCTsve6f451cOTlK4r3uxtH/+dprr5n11lvPLhx8+OGH/sNZ33Odi4y7dMiPPfaYWXfddc2GG25o3nrrrax64v6CTHNvdA3+8TfjzT/ena64sXTf+Qx7Lv1y6yUuyIl3jNy4UZdXx4sa17BrvG2rL39XlLgwKChv559/vtluu+2sMg2wTAJ33XWX2XrrrU3nzp3ti2r06NEWcx5cXGtYTeNz0003tYotFpcTTjjBtGzZ0r6wsGwwUVIgObvvvrt9APbaay+z2WabmY8++siSHe81tAFik0RB4LAgHX300dbC0L9/f3ubqL7+61//MgcddJA56qijDO0zS10HAAAgAElEQVTecsstrVXi7bffNnvssYd9iHGl8xYwxa2OvrRp08b22bkW8eDT9wMOOMBiizULxdiNwa677mrzpR9//PH2Reett5S/saq0aNHCQE47depkJ3Ye4kGDBpnWrVubAw880I437n78znjtsssuVi64bosttrAywAuRttEHxt77MuAlgEIDRocccojZcccdzb333mubXanxD5NvFLALL7zQNGnSxPTo0cMwzowDkyJpI5F5lC7GgzHkJcfzQD58Jm33LLgxQR54HvbZZx/7D3lh4uW6s846y2KCuZ6XCSb5l19+2ey999529Rp8N998c/Pggw+66kr+lKzXhqwHPddRz2iYfKOwMVcji8gw8/5tt91mlXle2pB/ZBQZZuHHEZeg59pZI8OIS9h9ChH6oOcaxZzVU+Z35isszFiSsRBRwu4bNtdFzfFRc13QHO8W9kp91wU917Tl5JNPNscdd5x953To0MG6/TL/usWx008/3c5PLF7xzkFJC5MFCGrYHA+OYXNdmCzENdcFyfoTTzxh3124ODPW9JP3z4ABA+yYM9ciy+gk6CO0nRL0XmdxLmqOD3uvh83xKMVJv9dtZ3z/EW+CZwXjn4u05HMu/Ya48Nzz/vrTn/5kevfu7btrvF+Rc97L6FD843leddVVzTPPPGOeeuopu6DO+5WCZRe9hucg6rkMklt0Wf8Y8RxRd9jzHzWuYdfEi046aqsocSG2BUIB4Dz4CAWF1Zru3bvbSYAYgOuuu868+eabdrLjRcBLgRcaLycUeh56FEGyV7jzmEARKl6KKHJdu3a11+NPyAQKcfFfw2oeE38ShVUkJjDcu84880xz6qmnZlblgvpKG5jgVlttNdsPFFuux52KwsMFDjfeeGOmufxGrMThhx+eWRXgN/7x4gRjJnIK2IAR9aL0Qh54KLDsoDTzUMVVrr32Wttfxpd7sToEQWFih4CgrHAO8TqMKy+hDTbYwJx44om2H1hknLJCm4hlgvB4iQsrMEwyyIIrTCSVHP8w+cZ/m/HnJUfwIoGLyDIvc6yMEBoINCZ0XvT0gQLJBS8vcUEJ4DeyqzDOFPpNQX6YGLmO38ip74gLgY3XX3+9JZGQFsiuu85eXMJ/kvVT7VxW32U96Ll2YhP0jIbJNzLMy595HhmG2DOvM0+gHEJoUIKRT+cqFvZcRxEX5paw+7h25/MZ9FxDXFBSsSiz8MBzjHUCIhN136i5Diz8czztC5vrwuZ4iEsc77qg55oxRdliQYr4RLwJeAcz12BpYG5hoYwxZqWaRSUWrMJkwc11QfITNtdFyQLvuzjmuiBZ79evn9lmm23MyJEjzU477WTdeJHhO+64w3pH8BtzPQXPAnQZZDjqvR40xyMHYe/1sDmed3nS73X/s4Is8+7adtttrR7hP+79nu+5jriwASW4QiBYxPC+5731xv03JALZZt5AfqOIS9hzGSa3QWOEPuxiXoKe/6BrvPpa0DVxY5KG+ipKXGC1rAIxsbNqc/bZZ2eULwYba4M3EBNlmskAokPxEhcCMVmZY+DcC+6f//ynVdhh/5jhKF7iEnTN/fffb8+L+z8C01lBpw9YFugHpIES1Fd+Z1LiBcjETJ/cqjzHggSUB4uXBMqpv/Tq1cvWBdYUL3Fh9Z2XLMVhGpfliTYxjkzy1M1kikJOoQ9XXXWVJZX87QqTGiQLtxEKplpemq4EvdSQJYin10zP+bzMKzX+UfLNyx1cmJhd4WV+6KGHZixFTJq8yFwJeqkhV/TPTXbuXMaZhAf33Xef/Qn58RIXyCLuDxTINGSX+8dRJOv1X9ajnmtkKOgZDZNv5gX2eWBugGhjTWbVlhVZCDVxYBQ3r7OIEfZcRxGXsPtAlAopQc819+V5hmBdeumlhvcICi2LZlH3jZrrguZ42hk214XN8RCXON51Qc81i4yQSd5pkARIDPMKcw3ns/hE5ifGlX+snPfs2dPONVFzXZD8hM11UbJAm0qd68JknXfaaaedZudo3tO0Aw8IrIXMqQSQQ8DpN9ZyPqkr6r0eNMdzTdB7PWqOR8FN8r3uf15oIxhAEr06m/88vhdyrpe44JJHMPuf//xnu0jpnvWge8TxG/MNhJUxxBJIiSIuYc9lmNyGjRFyRAl6/sOucfpa0DW2snr2X8WIC0oZJlaEglUlHmpWzBFOSpAyj8sTzBurAIUBRsGFfXuD890Ljomc1TFIAi8UCvEdvCCdq5gL6PdeY0+M+T8mM9zaIGeQNcyegwcPtncJ6isHmODCVsKDBNRNcEGZxngAMcHTT8qtt95qXy6QIW+AGC9ZxsQ9PPbkEv5j1Y1+80I755xzrJsXroG0n39hxIVV1rDYi6CXGpMGL0u/8l2p8c8l32HEBVexxx9/PBDxoJcakyLy7DfLQ/SwxDiXRNceZ3FByXJxYLxkuS9WsDiKZL3+y3rUc40MBT2jPJtB8o1lhTka6wrzDv+Y49286BK3oKhBsCEuYc+1U2aYx/wxLmH3cYs5+ci+e4787y2eQxQ3FHkyHvIMO+ISdV+IS9hcFzTH08awuS5sjneuYqW+64Kea8YZSwLWFkgClmTGzREXSA0WKDeuKFgoo2Gy4MYgSH7C5rooWaBNpc51YbLOGOMNwLyMZRzZc8QFIse40mbXd2SSMY16rwfN8WHv9ag5HgU3yfe6Gyf3iSsd3iEdO3ass3joznGfhZzrJS70CbnBe+aPf/yjJWbglVTB+wYXP691B3cxFgSZByhYgbCqoleFPZdhcptrjIKe/2KuSQqfStZbMeLCajpEBb9OVi5wddlqq63MkCFDLB7upeVl7yiyXMNkxMPMag4rOFHEhRcDpksmN+rEPcpltwojO3EPCBYThB2CRl+Z8FgN4QVHCeorv0dNcEFCzW+8vHCjckqp6wt+odyT33mQcFNixYuVhCQnOOJMeMkzCdB30vniqseqHO2Ni7hgkmecvW5U9L1S459LvuMiLsgO44e7GXi6AglBSUQesELxnPFiwXUjjpe5u4//U7JeG7Ie9VwjE0GKZ5iyiqyymEMMoFtYQSH59ttv7WIL8zS/I7trrrmmleWw59oR+CDiEnYfp4T4ZTnoe9hzjYtYGHGJum8xxCVsrgub48G91Hdd2HONl0MYcWGREFxYlEThouDe6xTQIBLrMA+Sn7C5LkoW4pjrwmQdj44w4oIcEqfp9Bnkt1jiEvZej5rjcym4Due4PhnnP/zhD9blHPLm/4eC76wWhZzrJy60F1mEIK+wwgr2HefXdeLoE88YVjKymHkLnim41SOL48aNszornh6Mb9hzGSa3ucaIcfe7ihZzjbf99eXvihEXJllWKdxqFw8hpAJFlsJgs1LiJS4IB/EgmJ5ZoUPxZ1WDl0nYxMyk3aVLF9OwYUMb5MUDhSLNaljYNXEPLhMrvousvLjCKiLtoAT1ld9zERcsGGTqwurk6qYuVrlwveCFAUkgLoaVQIiLM1kTG0OwK5anpIiLG1MmeFdIh8wqBv6gpRAXTNKMqVuNRTZwz4CQ4RqA+xT3rdT455LvYokLxJ34HxQ9V1AQcEMkiJFVZhfgR8pWEhmABS4NWNwY9zhe5u7e/k/Jev2X9VzPNTKB4ul/RsOIC+ej6DE/IavMZ7jGYKngOSE4Fqsi8stiCxaXsOfaLVygJDIXkMyCuApXwu7jjuf6DHuumYvDiAt1ht03F3EJmuPD5rqwOR7FrtR3XdhzzXwTRVwghVjYiX3BBZD3D7IRJQvgFSQ//B4019G/oHc8slDqXBcl6+gqYcSFthKkT7/BiH7jQsgiUtR7HcIeNMeHvdfD5vhcCi7ti7NgyYdILLfccoH/2PLCpf0t5Nwg4kK7GXOsr5Al5K+QxYdc/eb5wtPlL3/5i/UWwWOE92jfvn2tdQ39gjFivmJMvcH5QToI9wuSW8IGonQv9CP/859rXIOuydXfajxeMeJSClg83AguCjnCwwsuV8Elyhsnkev8aj+OgEMSvA80Lwte6HzW10J/ecnSf2+p7+PPZItFkn/87QoyT9/rc5Gs1w9ZdzLM/M4L2BWs66zWen9zx4p5rsPu4+pM6jPu+wbNdWmd43lGUdTiePc4HP1zXTGykNRYu3oZI0irN5GMO1bMZ9BcVwtzfDFYJXUNi+3IHqQ2qAQ9l5wXJrdBdei3aASqirigkGKlwWqC6wsWC1Za/AHZ0V3WUSEgBISAEBACQkAICAEhIASqDYGqIi6suJEBBncXzLRsXiTSUm0ip/YKASEgBISAEBACQkAICIHCEagq4lJ493SFEBACQkAICAEhIASEgBAQAvUBgdQQF9IHEpBXzoIFh0AxbwKApO5fjv6RSpp8/QTn40pXq9aooHEl4wfJHJyvMf6mBPmCFZglGQcS97iUQ5aSeg6qpV6SXfAMkcEm6UKGPbLtke69HCXo+SjHfevbPaLmEAKRCRrmH+lf/cU/H/mPV+o7QeBkKHQZoFw7ovrqzinkkxhV7kNCgXwLAc7sS1XJ9xrxVuwl4t83K98+5HteLvnJtx6dJwTqIwKpIC68SL1ZT8oFNJMxiisKbJKlXP1bsmSJdZ9jN3bSL7uMbUn2LY11B40rmed46RE4R2FMcDtkI04yFrkNSpPoT5zjkoQsoQjgevn6668n0f2qrNOfjajUTkRhTHDtnXfeafeBKPU++Vwf9Hzkc53OyUYgag4hYQwb7bZs2TKzCaz3av985D1W6N/sUUZ2K7cHWqHXe88neQuxoyS+8ZaovnrPy/dv8OE+3j0ycl3LflO818qxmBDWFoLjvZmgws4r9fdc8lNq/bpeCFQzAqkjLijbKJGsyHgLkzMbQXknLZRQr3KOgkjWEpQEVkaYbMlkQgYIf2FFCcWVHNxxExeyTbB6yqot7fEqm2H9Q3lhRYl+0nauo3+8jMiyw3f64l1tYnUMTJwVwfWRNIykDfVi446FXQPe5CVnYnaF+4M3/QkaE3ee+3R40w/v+LlxoT5w8Vo3gu7r6iMVImPkzxoXdU3QuILtl19+WQcn7sOL2r9Rnbt/GFbueNhn2HWFjAtYMq4ombSdDfn4Ox9ZQlaQPTZ7oy1cEzWWjC97KrABYLkL8kzSDeSL8XZ9pO+0G/lHuUGGXPHjyzWMMee7wt/+58Idy+fTERfu5Z1DXL3ck+K+8xk174RhzPNFv7mPq9NbL3VyDHwYV29B1nnWmB+oP58S9HxwXdD86uor5j7u2vr06Z+jXd/C5hDGs1OnTnWIS9R8RJ3M/8zryB1/uxL0XHOM55xUw4yhvwTNlV6Z9T9fXuLinXdcvWF95XgYPhzzz+V+4oKc01Y+w4ojLsxlYON9j3ANzwCE0P++4FhQ2zifeYVxYn4lC6f//v52e4lL2HPJ/Rk/sOUetJdP2sz96Kff0oSOwpztvX+Y/Dh8gq7hmP9ZduNN3WFtdnXqUwhUAwKpIi7sTcEKFYoke33wIPPQs5q0zTbb2NTH5M9GmeWhZhMizLYUvrMPDBsdonSQJhlrCvu8bL755nbzMs5DmWfTLH5jHxM2sIyTuLz99tt2BZ9c3/w76qij7MsHi1JQ/2gTbSZPOHsXbL311jZzGptUstFRq1at7L4Gp59+ut2XAOWXgosb54IXWHFfV8IU5LBr2F2dPQ+4P3smsBkok5y/zWDPSzKoMMGT+5xz2rRpY/cUgaTwskUpZvdkxpX9RjiOwhZ0XyZZxpIxoU3swcDeDmwCRgm7JmxceUmw/wP4spO8X5kNexGHYRXUd+9vUdcVMi60C2UEWeWTsT7jjDPsi88/Lu5ZoR1uvwX2dGFFk36zV4//GjeWvECxRPHduRiyUSjPXdKFFzljgsWLT/Lls9JLH9i8jf0feH6RSfeMBuGL7LEK6iVeTz31lCXvxfYhaA554IEHrMIBrigmFFxGGB/6EnQNmyaGYYxSijsaezyw34jbg4R6UZDYhwkMeGa23357K8eMS5isR/U17Jqw+ZW6wq6Juk99PRY0RzNPUcLmEI77iUuu+YiduZF3xp5nkncUc2XQc81O7aNGjbLWUp5zNpvlOWHvG0rYXBn1fIXNO7Qhqq9h+ITN5V7iAibshcGG0v752d70v/9BXMCFecrNbe6ZR1dgruCdy1x52223ZRYywtrGfirsFcc7mvp43zhLU1i7g55Lt28WpOSss86y9TBu6623nnnooYfMySefbPfWYjzRUbAa8U5zi5S825kD2XONrKmQC0qQ/PA780bQNWHPclCbeSeWY47/79DpQwjEikBqiMuFF15oNtpoIzvpouzygOPGgz8/igGrKyi1+MViTWBX5SjiwuZn119/vVXAUR5QqpkImOiY4Jg0+B6nqxgTDgoYij9tpXAP/g7rHxMuG66h9FDosyNgkDU2ymSzTVxJrrvuOsMOtKwM8Rt+0pRbbrnF+lJzL0qQghx2DQoXSqLbIRYCxKSKYuZvM9YpXgL+Qv+6detmN4RyK4T8xj/Gko3ZmjRpYkkP7hNMzrQn6L6QHTanZJL3uhHQN16qYdfkGlfip1q3bl3nxRikdIRh5fD19999z3VdoePCixTSx4sdXCAoY8aMqTMu7llBueAl3LVrV4s7SjUvQ4hL2FjyHNx00012fLgW5YdNtLwWDte/OD+RC549dgZGQWYcUB4ccWGTTRQZ5ImFCxSyKHxpM8oCig+rmywSQDSKLTyP/jkE+WeVM4q4+K9h3kHBjMIYiwnzhp+4oMyweIHiwYowxJ/nNZesB/U57Jqw+RWlJuyaoPrr829hc7SbD4LmEPDguJ+4OJyC5iM3F0O6Kc7CsGDBgsDnGrkiPhNy26BBA7s4wTti8ODBkXMlxCXo+eKe9CVo3sEa7477LdRR+ITN5Y64cLxjx472eY0iLQ6PNdZYw74LwRbSz8Ie+EB86DvvHBY2eUa5R1TbIC6rrbaafeeiX7AI6IhLWLt5Fv3PJZtLM9dSH8SK55n2HXHEEZa4QGyQg2effdZuSAmx5BjvWHQTFgzRHZjrWKgbNGiQxTpMfsKuCXuWkSt/m91cYm+k/4RAlSGQGuJCgDSry0w8PLAoNawEE1B99tln29/Blpc7SjsTRRRxYeWFoFcKLwB2WUWxQ5FAiaC4+7jVXPtjCf+hVKL00zZvoU9B/WNn9169elnFHuWN4iUu7HbOJIjizwTM/jWsJNGfddZZx07OTJSs2PLpSEOQghx2zb///W9L5JzZnZcHEzgEJajNKIj+wn2ZfFkN9xcUVIims5igENEnUllDIP33ZbW/R48e1oXPazan3rBrHn300ZzjGqQoUGeQ0hGGlcPX30f3Pdd1hYwL481KO8SVAk68IFGog8YFWeIa5A+3IoqXuARd48YSRb/crmK8THmOnaXQT1wg87h9UHBZwdUjCl/wQZ5QDiC8PA+QsmILOAfNIWAaRVyCruEZiMI4jLhgNX711VdtF7z4FDqH8RwFXcNiSNj8CtkNuiauubLYcanEdWFzNO8PStAcwu9hiifHguYj5lzmUTfPIO+szkMagp5riAslyFUsbK5kfoW4BD1f1EVfguYdrxz6iUsUPmFzOaSCRSjmNJR4nu9cBTywrLpzWQTjWcRdsnHjxlY557lnoXPjjTe2BCaqbRAN3q3oBYwVcwjPKiWs3RCXoOdywoQJdqzQWSjU54gLugykgjkFEoNewjH0BRZnNtlkEztf0XY8QHr27Jmpw098qTfoGnSasGeZ+wS1Ocx7wt5c/wmBFCOQGuKCK8s111yTRVxQdi+//HJrfkX5p2Aaxw0GxQfXGecqxuTDijqTPxMEJmBWqilMeG7lmt/79Oljf4csQGjiehkzQbCywU653kLbg/rHpMoKN2ZbJiTKrbfeaic1XMVYaUapwULBS8oRFyZBlDTuh7LKP144DqMgBTnsmqgXXFibvX3jb0dcMIv7Cy8CsKc/3kIgeBBxwb2BlwYTu3uJuOvCroEw5RrXIEWBeoOUjjCsHL6uPf7PXNcVMi5uZd+tALLijrLBamLYuIwYMcKSAaew80JHHp2rmP/5Qv4oboxYYS9XwYKE+xP9oiDD9M9ZXJANMPCWXPhijUXRu/LKKy1GucbLW7f/77A5hHkHJcC5ikGS3HwUdg2kJQrjMOLiDQJGTlHSUGJzybq/L8yNQddAXMLmV5TboGvimiv9bUzz97A52s3ZQXMI/eG4X/F0/QyajxgPFnncgg0LC6zADxkyJPC5jiIuYXMl8ytjG/R80TYnZ/55h7nEHfcTlyh8wuZyiAv1kE0P6zrzQa7iiBzyTMHygJXVWWKZv9z7kHmF93tU2yAukHM3jt77h7Ub4hL0XKKXYDUFXwoLdFiDeCeSWY4FFeYHFluxrjjiAqnBjdq1GzKB6yslSH74LegaFnfCnmXeGUFt5p4qQqAaEUg1cUGx4oHH3YUJlYe2e/fu9qHHlQULDS5KTPSsdGBGjiIuTHiQBBQ/6mLiW3PNNa3JOY7BY0JigkCB8ipN/B2mbPbu3dsqQpAsiAhmel5e9COMuECMWK3ihUahL+Dj7hmkIIddg/89+D799NO2LtIwsrrHiyuszX6suC8vCIijI4vuHKew+YkLAb9B98VagAvctttum+U6Q31h1/DSyzWuQYoCdQYpHWFYOXxd3/yfua4rZFy8xAUMyfoFAcRFMmxcUEjADQKDLOJCxsojL/awa+gD8sNKIIoThX7m6qu/74V+p38oLLzMIb6sIrLaGEVccuELqcD6yAqmc6MstF3u/DASgsKFRRJXEmT96KOPtrE53DvsGohLFMaFEBfwCZL1KELBvYOuwdUmbH5lTIKuibqPw66+fYbN0Y5gBM0hYADuhRAXFG/mRJRj5kFchSGPkOOg55rngcKzhJXEKf88u2FzJfXmS1y8845zHQ3qaxQ+YXM5z5GzlrAgR78dEQuTHy9xwTrCuxZ55PnCNZQFCzCn8ExBHqLaFkVcwtodRlxYyGB+5j2IXPBs4YaGu2oYcYEM4i2ApYV6KXg8uL/D5CfsmrBnGfkQcbHw6r96gkDqiQurJpdeeqkNpkehxr3ErQZhvibInlVlAuCY5KOICxMc/qUEP3INL2ZIQpwvYyYjXiKswrKihEKIEhCmOEIcWMF17l433nijXUXCKhRGXJA9lOBGjRrZe3AtGLkXKcdWX31107BhQ0v0nKyGXUNAKIQJMkSQJ5MtdYW12dXn/URRZiUIkz0TMS8iximMuHBt0H156TJhs9pIm3C9YdxxhYq6Jte4QlyIPwATZ3GjPl7E3IfgaFY3XQnDyh0P+4y6rpBx4SUOlij3jC94skIGPmHjAtZdunSxfUT+UAhQDnA3C7vG9QOXQZ4lzgdzpxS543F/MsYsQkAyeKZxc2AVmD5GKVZR+IIN9UCgUVpKKWEkhMUP0o0zhyCXKEu4u+QiLrQlDGOULMaZuAMUMEqYggQ+XlknPgArk7OehfXZe4133ouaX73X5HufsPtX8+9hc7SLyQibQ5BxsGbegYSApytB8xFjjgWBeECeQ2QZZZj3R9Bz7WKieK/xfDOP4SaFizG/hc2vUc8XfQmad1y7g/oahU/YXO6IC6QMGSROhwUBnoWwAnHBRZrnjXn8zDPPtNhwPvMV71GeSSy3uNxxj6i2RRGXsHZHPZcvvviifX/SBsaAsSfONoq4ME/Rd97ljB1zPbJBCZOfsGvCnuWoNodhrd+FQJoRSAVxyQcgHj4mJ5Qzb8GsyuoSSku+hRdBodfkWzfnMeGwysE//s5V6BMvBH/fcl3HBAYm7gWa63yOh13D76zMF1JX0P0YJ+qhvnxK1H05xkuWOr0l7Jq4x5X7FIov7SzmOv81yAPEF1c+5MiRUi8OYX+zGun8wMPOCfod/MCbz3IVFBUsF5BcFA+UjVzFj5U7n1VhgnSdu4b7Pe5P5hra6bcu5nOfuDB2sg4WKLe40eUq7pqguTJsfnXXFHKfXO2oxuPFztGF9pXnnGcf4sGCGkqve4fkeq45TgyWd65g3IqZ13kuC5l3cuFDO4Lm8mLwYVHH/06gHvfepe1eGc/Vtqg2FNpu5l3GodBCf1j8KEQHCLsm7FkutE06XwikFYGqIS5pBVDtEgJJIIDywqqrsy4mcY9K1okSQ+wWViHcKugrq8pepSvf9rGqSpwT1gp81lG262tBoSXlKlnisELiYodvfTHKUhRG5bpPVBtq7Vjfvn0t8Yaw4AKNe9hLL71UazCov0JACAiBSAREXCLh0UEhUBkEWOkjRTUuePWxsCJK0CiukcTvYFkqhrSADSvD1IHrRzGWpmrDF2sxrmG4rBH8W4zlJ58+l+s++bSlFs7BDRH3LmSZzFJYSlSEgBAQAkIgGwERl2w89E0ICAEhIASEgBAQAkJACAiBFCIg4pLCQVGThIAQEAJCQAgIASEgBISAEMhGQMQlGw99EwJCQAgIASEgBISAEBACQiCFCIi4pHBQ1CQhIASEgBAQAkJACAgBISAEshEQccnGQ9+EgBAQAkJACAgBISAEhIAQSCECIi4pHBQ1SQgIASEgBISAEBACQkAICIFsBERcsvHQNyEgBISAEBACQkAICAEhIARSiICISwoHRU0SAkJACAgBISAEhIAQEAJCIBsBEZdsPPRNCAgBISAEhIAQEAJCQAgIgRQiIOKSwkFRk4SAEBACQkAICAEhIASEgBDIRkDEJRsPfRMCQkAICAEhIASEgBAQAkIghQiIuKRwUNQkISAEhIAQEAJCQAgIASEgBLIREHHJxkPfhIAQEAJCQAgIASEgBISAEEghAiIuKRwUNUkICAEhIASEgBAQAkJACAiBbAREXLLx0DchIASEgBAQAkJACAgBISAEUoiAiEsKB0VNEgJCQAgIASEgBISAEBACQiAbARGXbDz0TQgIASEgBISAEBACQkAICIEUIiDiksJBUZOEgBAQAkJACAgBISAEhIAQyEZAxNsQzZ4AACAASURBVCUbD30TAkJACAgBISAEhIAQEAJCIIUIiLikcFDUJCEgBISAEBACQkAICAEhIASyERBxycZD34SAEBACQkAICAEhIASEgBBIIQIiLikcFDVJCAgBISAEhIAQEAJCQAgIgWwERFyy8dA3ISAEhIAQEAJCQAgIASEgBFKIgIhLCgdFTRICQkAICAEhIASEgBAQAkIgGwERl2w89E0ICAEhIASEgBAQAkJACAiBFCIg4pLCQVGThIAQEAJCQAgIASEgBISAEMhGQMQlGw99EwJCQAgIASEgBISAEBACQiCFCIi4pHBQ1CQhIASEgBAQAkJACAgBISAEshEQccnGQ9+EgBAQAkJACAgBISAEhIAQSCECIi4pHBQ1SQgIASEgBISAEBACQkAICIFsBERcsvHQNyEgBISAEBACQkAICAEhIARSiICISwoHRU0SAkJACAgBISAEhIAQEAJCIBsBEZdsPPRNCAgBISAEhIAQEAJCQAgIgRQiIOKSwkFRk4SAEBACQkAICAEhIASEgBDIRkDEJRsPfRMCQkAICAEhIASEgBAQAkIghQiIuKRwUNQkISAEhIAQEAJCQAgIASEgBLIREHHJxkPfhIAQEAJCQAgIASEgBISAEEghAiIuKRwUNUkICAEhIASEgBAQAkJACAiBbAREXLLx0DchIASEgBAQAkJACAgBISAEUoiAiEsKB0VNEgJCQAgIASEgBISAEBACQiAbARGXbDz0TQgIASEgBISAEBACQkAICIEUIiDiksJBUZOEgBAQAkJACAgBISAEhIAQyEZAxCUbD30TAkJACAgBISAEhIAQEAJCIIUIiLikcFDUJCEgBISAEBACQkAICAEhIASyERBxycZD34SAEBACQkAIVAyBX375xSxcuNB89dVX5scff6xYO3RjISAEhEAaERBxSeOoqE1CQAgIgRpHAKV9/PjxZsSIEWbGjBlZaHz55Zdm5MiRZtSoUebrr7/OOobSz+/vvPNO1u/V8uX11183f/3rX83vf/97c99999lm//DDD2bs2LFm+PDhBf8DJ/BSEQJCQAjUBwREXOrDKKoPQkAICIF6hsCcOXNM06ZNzfLLL29OOOEE8+uvv2Z62LNnT/O73/3O/OEPfzB9+/bN/M4fDz/8sP19l112yfq9Wr4EEZdp06aZf/zjH2a55ZYr+B8YPfbYY9XSfbVTCAgBIRCJgIhLJDw6KASEgBAQApVAYPHixWbvvfe2ivqBBx5osDpQIDAnnXSSJTSQly5duphly5ZlmnjDDTdYa0Xr1q0zv1XTH0HE5eOPPzYNGzY0K620Up1/K6ywgsUILP785z/XOY71pn///tUEgdoqBISAEAhFQMQlFBodEAJCQAgIgUohAEE54ogjLEHZeeedbcwHbfESGqwx7dq1Mz/99JNtJgTmrLPOstaYU089tVJNL+m+QcQlrMLvvvvOHHDAAZa4YJH58MMPw07V70JACAiBeoGAiEu9GEZ1QggIASFQvxCAhHTu3NmSkM0339zMnDnTdpBPvju3qWbNmpm5c+faYwS2Q2SID7n22murEhARl6ocNjVaCAiBMiEg4lImoHUbISAEhIAQKAyBm2++2RKXv//972bSpEn24tGjR5u//e1v5k9/+pPBTYpj7777rj1GoH6LFi3s7w8++GBhN0vJ2SIuKRkINUMICIFUIiDiksphUaOEgBAQAuVDALcssk/dcccd5phjjjE77bST2Xbbbc32229vWrVqZa644grz7LPPZty1ytUygsoJLidOY+jQofa2AwcONCuuuKIN3F9jjTVsTMczzzxjj82ePds0btzYrLzyyub555+v00wsMk899ZRp06aNJTzUvdpqq5ldd93V3HbbbXUylHkrwAL0wAMPmJNPPtlcffXVmXOxAHXt2tVss8025i9/+Ytt26abbmquueYaw/3Cyrhx42ysziabbGL++Mc/WiJGHAtJBfjuzSoWVkcxrmJx9gO3vbvuusvgygfmtLtBgwbm7LPPNtOnTw9rdtbvuLedd955ZrPNNrPX/9///Z+VuzvvvNMsXbo061x9EQJCQAiIuEgGhIAQEAI1igB7hdx4441mww03zLheOResoE+sHMcdd5xNzVsOyF5++WWz6qqrWjIAYaFcf/311qLSsWNHqyQTlN6jRw97bMqUKWa99dazFpkxY8ZkNZGUwEceeaS9NqhvxMvgduasN1kX/zcpAKSO87beemsDSSLoHYsPv/nrPPjggwP3YSHNM5hDcvzXeL8nRVwgqXH0A5x22GGHwL6DBzL1xhtv+GHMfIdAYRXDehaEH+N60EEHZdwAMxfqDyEgBGoaARGXmh5+dV4ICIFaROA///mP3SOEVXKvslzI34cffrhZsGBBovBNnDjRrL322tb6cM8999iMYhAWLCW33367dQtD6T3++OPtsbfeestaUDbeeGPzySefZNr2zTff2EB/lGH+YVHq06eP3e8FS1KHDh2sxYO6sNhMnTo1c637w6/ws8cK1hraQgazQYMGGe5P3eAYRFyoA9ICAeQcLEmnn366ee6558zbb79trURnnnmmJWrlIi7F9IP0zE2aNLGEAwvJKaecYiCZw4YNM1deeaXBEgaWjRo1yhoHhyWfjz76qCWlnAfJgXyyZ88LL7xg2rdvb3FlrMggp404vcjpbyFQ2wiIuNT2+Kv3QkAI1BgC8+bNM/vuu28dwoICigJOUDuuV6+99pp56aWXLMHp1KmTtW74ic1aa61lFc2kIGTjSdyuUGBxV1u0aJHZc889rcL/6quvGtqF4rv77rvbY5AH3Mi22247Qz9duffeezPEBMJFPd4Cobjpppsy50COXPpld56XuKy++urWUgBm7CnjsprhuoVrXRhxIX5lzTXXtG3GpQqi4y9Jx7iU2g9wweoG7liNcJ/DeuIt/fr1s8cgX7jM+Y9DfHANo44tt9wyE7/k6uAeuOQx7uDFxpsqQkAICAEQEHGRHAgBISAEagQBlHkURS8BwbUqV3wH8GClgcjst99+WdcTIP/kk08mguD8+fMz7kiQFOImiANhhR7l95ZbbrHWGCws7HUCQUFZbtmyZSY+Ahex5s2bWyV5o402qqMku4ZjlSG1MMo07kujRo1yh+ynV+EHPywtWBe8cSxRxIV4jbZt29r6sbRgZQkq5SQuxfQDq4qzqEBg/ASPPoHlXnvtZftKsgSSJrgCienWrZsdJ/adeeSRR9yhrE/wZxwgL9WaIS6rQ/oiBIRALAiIuMQCoyoRAkJACKQbARR4P2lhR3qUzEILu9WjfDsCBHkh6D3u4g0+J94BpR6lGXcs4nNQ/nF3oy1YiC6//HKrEGMxgWhQCOrnOIQElzIv0fC3t3fv3paQQH5w6fIWL3GhLsiR33ITRVxwg3LWFmJtghR+7ldO4lJoPyAdl112mSUT4B5GvjjvtNNOs5hvsMEGlmQ6LB2RRHaaNm1qvvjiC3co69MlWqCNhx56aMaqlXWSvggBIVBzCIi41NyQq8NCQAjUIgKHHHJIhmigNN59990lwYCFg00PHXnBbcjttVJSxZ6LIQuQEJRXMlcRj0F8CDEQEJDJkyfbYHyIU69evSwxgXR06dIl457E7xzn91x9ZpXfkYujjjoqQ35okpe4QJ4gGEEF8oKFgU9vwaWMNtB+sqWFlXISl0L7gdXIWdxImoA714UXXhj4b8cdd7TjhlsdVhpXxo8fb+OWGFP247ngggsCryfWh8QHyJdzBXR16FMICIHaRUDEpXbHXj0XAmVD4P3337dpU/3KXCkNwO+d1d9iLAbuviijKLMEAF900UWhq7/u/FyfKGUo11Gr+gsXLrT3Gjt2bK7qYjuOhcQRDD5JYRtHgbw45ZJ6cQ/CpSyu4l3hJybijDPOsCQEFy2O4UrmFGRW+Pfff39LDnAZo3AObkm4G0EYyAIWVUjNu/7661usqMubjtdLXMgqFmYpCKqfa11cCMkGkJOwUk7iUmg/5syZY9Nke2Up19+rrLKKdTF0/SX4PldGNX+d/pglV5c+hYAQqD0ERFxqb8zVYyFQdgTIOISrj9+1ppSGsCEhJMGrXBZaH4otBOLhhx+2sRSs4JdSSNnLzu1RBI29LyBLQZmrCrn3p59+as4999yc6WK///7/2bsP6FmKKmHg36pnV1FAgoCgBMlJggr6yEFAkiJJchIkiCSRHAXJkkQRRCQICBIliKASRNICogJiWAR0AVndVVf06O72d37l1tt+Q89M90z3hP/UPef/Zt7MdIVbt26uW6+E9KqoDIpW1AnOvcS2vTqYXSfAlUjFvPPOGw7muyuEIQYYiFtttVXw7LuLxd0zzk04pA+srztWGC75z8OXBf+oROYcjHmss846mbWK0I/hgkallmnXofxOd5yMsuEifUs1MfNQmAGtK3bQ6Y/BpjpcBFXcFDUQcWE4dXo2fnfwwQfPcE4mtpVeEwYSBiYPA8lwmbw1TzNOGGgEA5RE0Q8Knjx2h6e9B9FwEW2gtKkWBZQ5zSuH8bM//vGP0793X4QUHmlI+gBScfTRLtri/AOD5Nlnnw2/j/94jreb0p/vV9uqVVUxXFSSYjzx0sdxRcOFomqeea+8uRqXccNDa1TGZxS81jlpW1vGnTf83FmyxhprhLnE+RW9OrdB0fQnNaiJEsYOzsc+nD+pE+KFk7z0ojtSj2I1LrhRtYphwuBQaKA1Nem0004L3ztMz0DtBI8//vj0e1lcUhmrhXmmH8PFmopGwZHIUaeUOoq98yOMNYZ5J2AgKyigXWl7aLEb9DMP9CtlT3/ucBHxqgrudlFG2poxSOLeqdpO+n3CQMLAZGIgGS6Tue5p1gkDtWOAMkaR/tSnPhVeeVOl9lCuGC5rr712SMlSZUhuuzKqd911V7i1PHqgKfNy21W58pncdgqfKIH7Lij3lHeHrCmAyvrmFX1KGQ+9Q+jOdEgjimlDzhV4hqJnbNqMhlVVw4VRxtAxF2ksLvQzNkq2MwBSz4xbf1deeWXAtZvcjceBZOlI5h5BZSVj4pV3CaI7PQBFcfvttw99UKQpjdGQO/roo0P7Ki6Zc7692K5X/UWjQknhJkDKGA967KdTKlTV/qOiG9tujVh87WtfCyWQRWIYJxT4fDRL9EW0haIstbCTohwP+/vtAQccMMNv+1H4GeLxbIjD6u0MDLQtRQ0uR9FwsT/j5ZWMRIZ7VRDVUuLaHJXf7hSdrNp2+n3CQMLA1MdAMlym/hqnGSYMDAQDlH8Gw+abbx6MCwo2Jfzhhx8OhovcfreeU37cmK2y0u9///tw+V+8+ZxCxxgRTVClivLfzqvLEKD45A0XnniGxGOPPTZ9zhROZ2yUxGVAAZ53lw72YrgYvwv3nInxXhTHOBgPDBdRjbPPPju07SyJez1iBEnfjBFpc9HQoGSLUsS7KpT41f5f//rXcD5DukyMDlG6/amURbGmxPNaf/rTn85uvfXW6XOOb6xJVPgpws8//3z8qvbXDTfccHpfzqDUBdaOkhzn0XpQG32hrfg9AzAf6WJkwhNFedq0aQH/RWNDC/vtt18wcGaaaaZXlXjux3DxrMP+xqDCWdHBfutq7ePllKNouMCbizujkWi8VUHkMab3Sf8b5FmvqmNNv08YSBgYPQwkw2X01iSNKGFgLDFASXbO4L777gvjpzxSMl0UyGBwZiAaIRR8CjklhgGy6qqrhrQuyr/ICoPgueeeC0aM27eVpnUwOA9FhgsDiEHk+TyoLOUOjViCth/DxRwYVPlSsMYnl9+8eMwZM8BvWo2vVsPFM/PMM0/4Ha+8CIlX+BMdanfPRZlUMferRIWeEdkkuNk+9mXcdYF0v1jGmeIvAhUNTn3AE2Ml9g3feWMWLaApz7qcsl361f333x8MJL+TBvXCCy/MMIV+DBcNxapiojmHHHLIDNEc33/1q18NRo0KaH4zqoaLcy7OEsGTyIn0uk4gGtd6Ds2+cGhfGxwI0TAvagePyEfQin6TPksYSBiYHAwkw2Vy1jrNNGGgUQwwXCiNUZHh6RblkDYUz7jEMxqUdZEZSgklc+ONN84+85nPZNKhHPaOQOm85ZZbQkSDARPb9n07w4U3N382wW+lU0kviwrvGWecEby+8f/GXvaMizMq0t5uvPHGOMwQSdK+eeUP54ssmVtecWs1XBgXUs4efPDBEBkSYTAeeGEAXHzxxdP7yb8pY7hQkKNCr+pWk2D8sS8lhesCKXgMYm1T6FsvI2SMohtKsL9YKjnfP5xSsrUhIsZ4QXsgRrDQl+edpYnpffk2+jVc7IMYOXKx4vXXXx+aN370KBLjbMsee+wR3o+q4WLQl112WRgrfMEbQyTvLBBhvO6660K6pnRJ6WF5kB626667hvVkqFmzJ598Mv+T4Lg488wzs+WWW26GtM4ZfpT+kzCQMDBxGEiGy8QteZpwwkAzGMgbLgwHZzAYJ5SYToaL0ahE5eC1aEU0bigyjARAiXf+I69QFhku0q14g3nP8+CAOmND2xRsHnyX2kVlq4rhQoHdZ599sn333TcovwwRBsYXv/jFGQwXkQDzEUXKQ6vhIj1OCtOdd94ZfqZ94zE2Sro0tIiTfDsKHFDopeQBCngriD5FY0L6WpNgnWNfXlUzqwPQUjRMpFHlaUD75u1cFaPG3/7771+IC6l0UpOMjcKN3pw5YtBQnn3uLAwDOtJFfvz9Gi6et57SrPRlLpRyxozxqLQlYihCyYgZZcMFfqQnimCZC7ybB3wus8wy06uG+W6BBRZ4leECryKo0ig963fwwsjRhtS+uCZwIzoLfwkSBhIGEgaS4ZJoIGEgYaAWDFC2KS3OmEh3kv7F0w26GS7SryjheeVapIECIxLiDIizL/qIwHBxtmHRRRcNefc+p9wwIBgmUtMoQeeff37w3jJcYhqW1C6RkJhSpF3PULIc6u8GCgdI55J+xePsML62YtqXFDnjUmigNQ2GMeY8SP5SPgfMtWOuxihSQjkUbdA2vOoPTmPUScTA+RbjVhRBRCVGEeL4GWeUQn8XXHBB/LiRV7iPfXmN6XL9dsYwEYWgwIrkqDDXClL/HMyn7Hc6d+E8DCPTb/NjpTwvtdRSmXVopyD7PB5Mbz1H0zqedv+3PieccELm8sbYvzGjb5FFcx3lcsj5ecEHeoe3aHzEOVkre1O1OetVZFRrC40oGKESnGfi817hxZ449thjw/7N953eJwwkDEwuBpLhMrlrn2aeMFArBij/FO877rgjlDsu8lq361DUgPc1lkmOv6PoiUj4vJ1CGX+bf5WaJWLz4osvTv+Y594YW9PIpv+g4hvjYcDI+c+DeUuNyfed/96ZDUZUjJTE74zZXKMxFT/3qi15/vmUs/i9yI5zBEX4dn4gKoOtkZ/4fF2vIiyxL6+jXC3K+jhTIhVJdTtRuCr01S/O0LM0Qka2w+mD7Lvfsbc+j+4YJ86RSXnjcDCnViO69bn8/0UUpZudddZZwXkhfdLeamfw5J9N7xMGEgYmCwPJcJms9U6zTRhoDAOMgvwZlzIdSely3sBzFJ+pCpQ45Zgpyc7CdDuQXBcepE1FY8JllU0CQyz2JaLwP//zP012l9pOGEgYSBhIGJhADCTDZQIXPU05YaAJDIgG3HzzzSG9qWz78vkPP/zwkEo2zl7nbvPllWa4OIuh+pYUsKZAxEbUS0qS8z7RmHAHTJOQv+hyoYUWCmMoih41OYbUdsJAwkDCQMLA1MZAMlym9vqm2SUMJAxMYQwwiB555JEQtRLJWWKJJUK1J1XK3DMj9SYaLg6DKwzQFOTT0pQTds5HlSxj2nHHHcNFoM6YuJ8mQcJAwkDCQMJAwkAvGEiGSy9YS88kDCQMJAwMAQPPPPNMdtVVV4XLJ1UiU4nKwX2lZZ2XkK6Vj1xJ11p44YWnGy/xos+6h65CVP7AuwsygbEoJqAwwEc/+tFs2WWXDWN2GF3qmnMmzuckSBhIGEgYSBhIGCiDgWS4lMFS+k3CQMJAwsCAMSDNSiqdsrMqoM0111yhnK97YlRFYxy0ViwrGqIqWzHqMv/88zdyaF4KXOxDJahOIKXwrrvuChcyKpf99re/PdytotrXMcccE6prvfzyy52aSN8lDCQMJAwkDEwoBpLhMqELn6adMJAwMDoYkD7lgsLzzjsvpFUtvvji4SJEZY4ZBV//+tez559/vqcBq9g000wzTTcs3D9TJ0j/induMF7a3UzfqU+31N9www3hvJMy1g73K4XtHhqVv+67777MRY0JEgYSBhIGEgYmGwPJcJns9U+zTxhIGBgCBpTDdZGiql8OzUv5kkYlnUpalfSqfMpXv0M89dRTpxsu7suIt7b3264zM86wxGiL+03qKDctxU05a/ezuAvH3UCML/fm7LnnnqHk7hNPPJEql/W7gOn5hIGEgYSBMcNAMlzGbMHScBMGEgbGCwMu2bv99tvDrekbbbRR9pa3vCXcMu5yyJNPPjn77ne/m7l1vklgBEkTiwaGW8pvvPHGvrpktDBUYpsuIRQ1agpEXNwXouDAtttuG87uiMy4E+fQQw8NxpizNgkSBhIGEgYSBqYuBpLhMnXXNs0sYSBhYMAYkPIldaqJlK9ep+IcjHMxSiMzmqKh4TD98ccfX3hxZbe+7r333hkO/WvTDeoqiUn7GhQwnm699dZwNsYFpnPMMUf2tre9LXN2RiECZ2mKLu0c1PhSPwkDCQMJAwkD9WIgGS714jO1ljCQMDBBGHC79xVXXFGY8uVek7pTvqqiVrqV8zJ77bVXSOF66qmnsnnmmWe68cLgkIblfEmZW8qffvrpkKoluhINIK8KAEjvYgjNN998GcNmWPDzn/88VCvbb7/9MtXLYhrebrvtFtLwWiuvDWucqd+EgYSBhIGEgeoYSIZLdZylJxIGEgYmEAMOuX/zm98sTPmK3v2mU76qoP2aa64JERbnRPLAeBEdyRse3i+44IIZZf+yyy4LBpdzOAyV2267LVQ2c2je+Zj8c69//etfdRgfjhhHn/3sZ/PdDu19vvBB/q4b0aGDDjoou/rqq7Nf/vKXQxtf6jhhIGEgYSBhoDwGkuFSHlfplwkDCQMTggHK7kMPPZSde+652Q477JAttthiocrXmmuumR1yyCHZddddl/3qV78aSWw4z3LwwQdnbq9/9NFHC8f4l7/8JfymNXKSN0q6vV9ppZUyRlARMATe/e53Z1tuuWXj53eK+u/2mVLTd9xxR3biiSdmH/zgB4OhNffcc2ebbLJJMNKUoXY2KUHCQMJAwkDCwGhhIBkuo7UeaTQJAwkDQ8BAUXqRg+e777579qUvfSn70Y9+VCqVaghDn6HL3/zmN+Gw+nrrrZf99re/neG7ov+YlznmyyV3M1hWWWWVUBGtW9UzxtEee+yRLbnkkqFCWFH/o/TZc889F8pOM/qUoZ555plDmh3DlQHLkK2jYtoozTmNJWEgYSBhYNwwkAyXcVuxNN6EgYSBvjBAoZf+dOyxx2YbbrhhNuecc4ZLEB3oVjb47rvvHssD3RRrlcMOP/zwykaWNDgpYm6znzZtWib6MMsss4TD7s7IqOIl9cuZnapw8cUXh5S1r33ta1UfHervGWY//OEPM2eVGHcMWQbeyiuvnLkL5/LLL89++tOfDnWMqfOEgYSBhIFJw0AyXCZtxdN8EwYmCAM85A8++GB2zjnnZNttt1226KKLBoV8rbXWmlIldCnXc801VzhkP4rL+9hjj4ULJQ844ICeqpiNypz+9Kc/Zffcc0922mmnhTQ4huLss8+erb/++tlRRx2V3XzzzZmoV4KEgYSBhIGEgWYwkAyXZvCaWk0YSBgYAgZ+9rOfBU84jzjPuIpSyy+/fEhZuuiii7If//jHlaMRQ5hG6S6lY7m0cumllw4H6Us/OIQfOjOy8cYbZ6uuumo2le5befHFF7ObbropO+KII7L3v//92Zvf/OZwvmjrrbfOzjjjjOx73/te9sorrwwB46nLhIGEgYSBqYeBZLhMvTVNM0oYmAgM5O/w2GCDDUJaEw/4FltsETziPOM85FMVnMl4z3veM7IH4IvwrmTypz/96WzeeecNKXlFvxn3z8zxJz/5SXbppZdm++yzT1gjKWbu0fnYxz6WffnLX55yBvS4r1kaf8JAwsD4YCAZLuOzVmmkCQMTiwGRhQceeCA7++yzw3mLRRZZJHNruhK9hx12WEiRGuTFh8NeiG9/+9uhEpaUpXEEVbuUTHb/yyRAnn6lLKJfZ4ikLMYqdb/+9a8nARVpjgkDCQMJA31hIBkufaEvPZwwkDDQBAYcenZY/OMf/3ihx/qJJ56YUilfVXDozpi3vvWt2Xe+850qj43cb5999tmwtiJkf/jDH0ZufE0PSJEId94cd9xx2UYbbRQKGIhEbbbZZtlJJ50U1ncS8dI03lP7CQMJA+ONgWS4jPf6pdEnDIw9Bl5++eXslltuyY4++uhwyNlh5wUWWCDbaqutgkfeLexTOeWr7AK63JKS7/6U559/vuxjI/07xRP23HPPbIkllsgYo5MOLv286qqrMkUMlJ12Rsv5pV122SX7whe+EO7l+dvf/jbpaErzTxhIGJhgDCTDZYIXP009YWDQGJAyc//992dnnXVWts0224RKU1K+1l133XC4+cYbb8wcdk4wIwacmXDbvXtR4HCqwSWXXBIiDpT2BP+HAUaKS0TPP//8YLwwYhgzjBrGDXwxdhIkDCQMJAxMCgaS4TIpK53mmTAwYAw4pPz0009PP6TsJnWHlFdcccVsr732ytzv8eSTT2Z+l6A9Bq6//vqg1LsIcyrDD37wg2zhhRfO9ttvv+yvf/3rVJ5qX3OTPiZNUDqZtLL55psv0Id0M2ln0s/cy5MgYSBhIGFgKmIgGS5TcVXTnBIGhoABKV/usXCfhZvbZ5tttmzBBRfMnAsMcgAAIABJREFUlIV1eWEqC1ttUf77v/87FB6QNvfwww9Xe3hMf61k8iabbBIiCumwevlF/NWvfpVdd9114aC/A/8O/ruzSCEABS0UtpiKkbryGEq/TBhIGJgqGEiGy1RZyTSPhIEBYuDPf/5z9v3vfz8788wzs4985CPh3gr3V7jH4sgjjwz3Wrz00ksDHNHU6kqpZ7hUNY1BOEkgAnfiiSeGksl33XXXJE29trkyet1ZpPSyEsxKMYt2Kp+tRLPUPOmHKdpZG8pTQwkDCQMDwkAyXAaE6NRNwsC4YoByQ8mh7Oy9997Zu971rqAEefV/nz/11FNJCappgR955JEQqVIm97/+679qanX8mrnjjjtCyeRTTz11/AY/giN2Caaop+inKOhCCy0ULstkILs80yWaydkwgguXhpQwkDAwAwaS4TIDOtJ/EgYSBn7zm99k3/jGN0LkJH8TuMiKCMt9992XibgkqB8DPORvectbsmuvvbb+xsewRZdsqqK2+eabT2TJ5KaXzF6P6Z3rr79+pqKfS1y33HLLibjEtWn8pvYTBhIG6sdAMlzqx2lqMWFgbDDQ6oV1JsXZFGdUnFWh1FBuEjSLAWWBpfQoCyx6leD/MAA3ijksvvjiIf3p/75J75rAgDuULr/88mzffffNVl555VDFbLnllst233337MILL8x++MMfTuwdSk3gO7WZMJAwUA0DyXCphq/064SBscWAlC9VvL7yla8ERVB1L3nvqn3Je7/00ktDFbCU9z7YJXaw+r3vfW/24Q9/OEUVOqAefYpGXXHFFR1+lb6qGwMMx4ceeij73Oc+l+2www7BgJx55pmzNdZYIzv44IOza665JhMZS5AwkDCQMDAIDCTDZRBYTn0kDAwBA+5DcS+K/HX3pDg8/453vCPcn+IeFfeppEpDQ1iYXJcOn7st/eSTT859mt62w8Djjz+eLbLIIiEakEomt8NS85+r/vatb30rO+GEE0IVuLnnnjt761vfmn3wgx8MhRXuvPPO7Pe//33zA0k9JAwkDEwcBpLhMnFLniY8FTEg5csN82eccUa4cV4JXfnq8tbdSO9m+kmrTjXq62yt5plnnswh9ATlMfAf//Ef2aabbppNmzYtE61KMBoY+OUvf5ldffXV2UEHHZStttpq2Zve9KaQ+rjTTjtl5513XvbP//zP6X6e0ViqNIqEgbHGQDJcxnr50uAnEQNSuZ544olQ6nTPPfecodTpxz/+8eyyyy7L5KknGE0M/Od//mcoIS1F79lnnx3NQY74qOwBFzDy8n/3u98d8dFO5vBUxHOp6AUXXJDttttu2bLLLhvOy7zvfe8Ll4x+9atfzX7+859PJnLSrBMGEgZ6xkAyXHpGXXowYWAwGHjhhReyG264ITv88MPDvR6zzjprSJfZdttt0+Vyg1mC2nphUC6zzDLZrrvumtL0asCqlCTGyymnnFJDa6mJpjHwxz/+MZMeqcS1SnFvf/vbsznmmCP7wAc+kB1zzDEhMuwOowQJAwkDCQPtMJAMl3aYSZ8nDAwBA3/605+ye+65J5QiVZJUaVKCfYMNNgiC/dZbb82SYB/CwtTQpXsy5pprruz888+vobXURMTA888/H4obbLbZZulcRUTKGL3+67/+66scM/EsnvLrLrpN5dfHaEHTUBMGGsZAMlwaRnBqPmGgHQbi7dYXXXRRtscee2TLL798SKVQglQpUiVJf/azn7V7PH0+JhiwzkceeWTwLj/wwANjMurxGqbKVyrjLbbYYtmPfvSj8Rp8Gu0MGGitfhgvvFUFUVnsiy++OFRHTNUPZ0Bb+k/CwMRgIBkuE7PUaaLDxgDP4vXXX58deuih2dprr53NMsss2aKLLpptv/322TnnnJM9+OCDGQUswdTBwO9+97sQLVtzzTXTreQDWFbGvpLJzk8kmDoYEHEReVENcZtttskWXnjhTMrsOuuskx122GGBr+KvCRIGEgamPgaS4TL11zjNcAgYcAD77rvvflUu94Ybbpgde+yx2W233Zb99re/HcLIUpeDwsBjjz0Wyk+rsuSgcoLBYMAFiRwCClWkksmDwfkwepEyK3UWP3VGZs4558ze9ra3hbMzzjw5S4MPJ0gYSBiYWhhIhsvUWs80myFgQCqQ9JQvfelL4XZpt0y/8Y1vDHn3++23X/D+puo5Q1iYIXYZL0v82te+NsRRTG7XSiZ/6EMfylSwSiWTJ4cO8FkXlO6///5h7fFhxTBUNfviF78YqpwlJ8Lk0EOa6dTEQDJcpua6plk1iIFf//rX2XXXXZcdcsgh2VprrRVSvuTWu1X63HPPDbdMp5SvBhdghJvm4Y9nLX784x+P8Ein/tCcgXCxp6pj3/nOd6b+hNMMX4UB+9H9MZ///OeznXfeOVtyySXD/TKrrrpquG+GY8H9MwkSBhIGxgcDyXAZn7VKIx0CBqQaSDmQevDhD384pCJISdhoo42y448/PvvmN7+ZOceQIGFAjr1LEd0enm4NHx16+Pa3vx2MF/e+pAPdo7MuwxqJvamM9mc+85mwVxm2c889d7bJJptkn/70p7Pbb789+/d///dhDS/1mzCQMNAFA8lw6YKg9PXkYEDKl/z4Cy+8MPvoRz86w4VpUg+kIPziF7+YHISkmZbGwL333pvNN9982QknnJCU49JYG9wPpYtJG2NUSiNLkDCQx4CS2l//+tezT33qU9kaa6yRzTzzzKFCXYqi57GU3icMjAYGkuEyGuuQRjEEDFBmrr322hmE1eKLL57tuOOO2XnnnZc9/PDD6XDvENZl3Lo8++yzg8dW9C3B6GJA2pAD+w7uc1AkSBhoh4HoxHJuUan6eG5xpZVWCqXqL7vsssxlsgkSBhIGBo+BZLgMHuepxyFgwI3N3/3ud0POu4vq5p133lA2deONNw7pAd/61rdSesAQ1mWcu3RZ6HbbbZetsMIK2b/8y7+M81QmauxKJSuZTPlMkDBQFgPxcuDTTz8922qrrbIFFlggm3322bP1118/O+qoo7JvfOMb2W9+85uyzaXfJQwkDPSIgbEzXF566aXswAMPDNVBepxzeMzt5Lvvvnv4o9AmmDoYUDXm8ccfzy644IJQTUZVGdVlnD844IADsquuuip75plnps6Ep9hMeDtFMVw01wq+UxiB8akE6g033ND6k4H8X/Wid77znSE698orrwykz9RJfRhQBVBBjb333nvK3p1Up4yz7y655JKuRQ7cRfXJT35yYkq9v/jii9lNN90ULph9//vfn80222zZggsumG299dbZGWeckUkhTfyhvn07iJYUVXGvGkM1wWhiYOwMF4fmKDX9lpd99tlnA8PhLVFxJMH4YuC5554L+ckHH3xwtvrqq4f85CWWWCLbaaedwto+8sgjKeVrxJb3b3/7W3b00UdnDk63AiXp6quvzm655ZbWr0LUbOWVV85uvvnmYJz2c+boxhtvDAd09VcFjGuuueYK6YRVnku/HS0MOKTNAH7ve9+bOeMwSOhE/3WNo04ZxxmkpLCqiZ3gySefDL8R4e4VBoGbXsfW7TnFH55++ulMOXRpie95z3uC02z55ZfPPvaxj2UXXXRRRjGuynO69Zu+rw8DUn4V30lFd+rDad0tDd1wwVwfffTR7IUXXsj+8pe/ZJjWH/7wh7CxKSX5FAwWsEunXNyXr8Wu8pNn/R7DRHCU2Ty09uM7beyyyy7JcMkjasTfow2lTVUIck+DijCUSBVhHIy+44470uHbIa1h0R6zH5WGtkd/8IMfZEpJA/t18803z6688soZRmv/29/2uduyW0Gaxic+8YlCwc+pofSpaBo6iUBJwBt8lxdG559/fjBu87wkPlP0Silx2Z1L7tzinWBqYODUU08NfESlqaqAthz2j3QrktNaCr2ILtvRv32Sp/u4f4zLM/6PXn/yk59kTz31VOg3jrlo//Uq4+whcjl6nbUTDRfje+KJJ8JYYt/2mz0rVaq1+IFxO1NkfK3gO3yBMh/x1g43rc+Oy//N54EHHghe/O233z6csZplllmyNddcM5TUd84y3TU02NWM+xZdo1n7yXsQDRdyqFUH9X0RPdu39orv8IC8nPGM/zszK0IH9G8v++OE1zedNV/Nrpd+WvetvrqNLQxozP4ZmuFiwdx3oK66cwYq8ghFI5q11147MEnec4elv/zlL4eFFr7juZBbev/99wdUW3AVoFT/eNe73hVCtLxoDtFZxHb9eNizyXAZXYq1PoSai8N23XXXbOmllw41+FdZZZWQLphq8I/G2rXbYxQRxomKbIS0ddt0002DR1KU036lDNnXKrZhsAS8qj7OIClXGgETV/WHgbrhhhuGZ6655pogKPzm8ssvD6k/G2ywQUjh2nLLLcP+pkxRFvSlb5WlpLOI6Dif4v8iuF/4whdmcJLEfuMrgcILt9pqq00XPvG79Dr+GJAuHGmuSslkiogUISmo6Pvd7353MIbRMiiiS3KpiP5FgBwEP/PMM8Oz+J+UI20Aqa9ocJtttgn3R5GdUmLb7T/PVJVxxs0x4DA6OWzfPPTQQ6Ede5XMlqVgH4hUiS7ow51WfivSTW5T+gCDxP/XWWedsC8/+9nPTnc62OsiEr7zZ14UyCLcRHyGRqfAPxRZuo6S+vQfZ67QH92FU04kOu98mQJTHqkpuLuHnIlV5KT97rXXXsH4KNJBFWkARfTMaSHbwz1B9gZZZy8w7oHUdHuVbLI/Pve5zwVjZb311su23Xbb8JmLqmUS2GO99NNu3zKQOo0tdDaG/wzNcMGEMXx3H2B8DrtFw0VN9RNPPDF4kxgtFA+/AX6/7rrrzmC4MFoYIPLdKbfu3dAej1G7frRVlamP4fqO1ZB55CijcqQJxje96U1hw2MIFEvriUkkGC0MtNtjDBdRsWWXXTYwcbngDArpJC4G9DllhfBmnFLAAGaLkRPgERgu+IO9T8nxjDMwvL+ECaZP4ICvfOUrQeFTReqYY47Jtthii+lKQPR04SuUBALmuOOOC+OhhBUBb/EiiywSxpTorwhDU+Mz0UDn4Bi4rVGDdjNkuFC+GdPeU7wpLjy17eiSh7WI/vXZzXBxhgJ9GyslKZ7lK5KlxlxVxuG/FDrt2yunnXZauL+KUUXGqsjG8KcowZMIaB5EwxlXDBd7k3PA3SjaYgC5sBef9729TInzXRwro64IN5E35Puaau/NnZLrDC8jmPxbaqmlAt7JPynPif/Us+oMF8YExxojkoN0xRVXDFERcqRVB/3IRz4S5FMRPVu3gw46KJxtonuSe37P4aAfPEVqM2Csc6pLN2YsKRDCsUdOKhDEkGm3bzr1027fMn7bja0eTA6nlaEYLhaG0sCzAloNF4qJQ/iAZ5TiEcPIRYYLK9XCIThGjGcZLvfdd1/bfmK/KeIS0Dzwf2woXqV4Cdg888yT+SMMGa3SNgjLBKONgU572Z51aafS0oCyY/8ChkhRqpjvKDKthkv83LmYI488crqy43NCHeM3FhANF1ESXi4GTxGUSRWLFahEhBJMfQwwdkUcGKqMgm7AWBGZoHQAigrlnLe1HV2Sd0X07/Nuhgs6l5Lit4yLeE6nSJYaj9+VlXH23aGHHhrOZkRjQmaDyMrPfvaz4A1mhADfO8PBY52HvOECFwqjMOwYVgyihRZaKBgwjB8KnHZboQg3rb+ZhP8zUh577LEMn8pnHMQiM9Js86n0k4CTuuaINhmHdERgL3GW2sf0yCIdlGOriJ4ZI5yt9oJ9Yc/RSTnjpK6LOGofcE5wOJx11lnBwGeMiFb6rbFw5LXbN+36wWfa7VtOknZjCwMa03+GYrhQKHhbeBcAhUaFoBhxyR+MYrhQcDAzUGS4qA4m2oLgMH7eHIaL8H+7frRVhamHztM/PWEAAxYtwYAJUV4k3qRVV101eAOscVH+c0+dpYcGioFOe5nhYu9S/lshftd6xsXvMP8qhovoi0IM9jNQzcf+j4ZLUXUyv+tkuKBZY6DApjs/Alon6h90KX3HIetOwHCR8qGCF4iGi2hLO7pEp0X0j+6lq8RUMQaK1Mh8qlg++0B/nfaf76vIOP0ffvjhIR3Me+Asl3RKChBlLB7ON35pbFK/8pA3XPB0Rg9cwoc/ESkOBoYLg6YoylmEm3wfk/yeww+ORaU4haTYo1MRP5Hj2267bXqa3iTjqdvc4z6Nzgl0KWrvHCQ9skgHdW9PET3bp9Kx4N++sefsFQYF52yR4SI9mhPCuRZGBxkZDZd2+6ZdPxyD7fatyG+7sXXD0Sh/PxTDJXpUMHYKgkUUApe+0Y5oejFcMF2KU1E/FqUKUx/lRRy1sWEKzp8IUTJOGClS+BgtlEVeJOueYPwx0GkvRwWkyHCx90RHnS8BGH5UlrxWMVwuvPDC4PUW8qcQSQEg1PVv71P+fNcKxuUmdQIhjsGrQiG8b4QXxTDBZGKAou2MJWMCLRVBJ8OlHV3ifUX073NeW+mN3ouizDHHHB0Nl077z3iryjgOQDwbD/esgiecABTmvOHCM83wwMvzkDdcjE2arztOtAU4HjkqORcZfFLR4r6P7RThpvU38bfp9e/RAiXiKcCifw7+c7hIa8JfRc2i/pTw9XcM5A0Xe1skn64oJbGdDiq6WUTP9kY740DRBfvJ+gAODpFGBmY7w6XdvunUT7t9az7txjbOtDAUwwXC5Pipo28RlQnkMZXT3o5o4sbD+OSlzz///IGIMLl2ERfWc7t+jMGz+pXP6DCi/MQE1TAg9CkcKr1Lmpd0L5W+bEppYDwOKeWrGk7H7dft9lgnw8UclSOmGEqtEZqP3ldKyr777huqxfGCUSCBz4tSxXitCGyFO6Sk4CMOvKJNChKFS4jfd4RI9LJF4YUH8SrzbHN2qBqmeliVQ9rjtmZpvOUwQFmg0KDD1kqVWuhkuHSiS88W0T+DwJ5gFCg6w3juFHHRTrv957uqMk40ROqKMdgXPMz2i3akKy288MIhxcZZF9GoVoMCv7f37DtgT9ub2oJDqZsxuk4+S9ex95wL4shg1IAi3IQv0j9dMWBNpCpyBO+5557hglz3mCkcobiCzBYV6SaZv+H9ZAJdktwgF6Kc6aSDFtGzdK9OxsH1118fnGlS/Oi8DvqLYLYzXCxw1X7a7Vu00GlsXYlpRH8wNMMFPngzY+5fk/gZVD9NzmEU2uYFdECQJ5DngWdbNEUoVB6lc0ZFwn0Uxp7G0CwGet1jFEOH9b32A4wkwqiTZ5ywjopR7AtNy7PHhxwUVlqbIpggYSCPAZEBThlOmirQjS6L6F8lPJ7aVqOgU7+97r92bTLIKE+t+8l4pdW0Oyyv8p9oZ4xiap/R4ywGp2PrnOJ3vvc+D0W4yX+f3pfHgEswpSJJ7XNw3FmjN7/5zSGV/ogjjgiGojWfFCArGMv2M9ojB8pCpNkiem7XBrlD/nCmlYVe+mm3b8v2OS6/G6rhMi5ImtRx8iS0VjnhpeDBdphMJY5WYTOpuErzHl8MEOo77rhjqPIiJzhBwkARBkTklayVPjXJ3upW3HBWyef3J8WSAyDB6GPA/SWqXYlii4TNPvvsIZNFMSSG+t133/0qR8/oz6rcCGO0PUbfyz2VfjUqGEiGy6isxJDHwRMgTUHVGGcCeJ7zdeXlLvfrFR/yFFP3CQOvwgBvm1QB+eB5L/Grfpg+SBj43zMa0pvwSFGOBH9PlzvllFPCGQspXlW81wl/o4UB0WepiSrrSROUYqZsr3R8Z7Zi2uBojbr6aERAGG0xpbF6C+mJYWIgGS7DxP6Q+lbyU36xahTO+LgUaeaZZ55+IZNw//PPPz+k0aVuEwYGgwG5zM63xQIBg+k19TLuGMA/FY9w3kPUOUHCwFTFAFp347somqi0s090Benhzk6k9PCpuvKjPa9kuIz2+tQyOl5lJSlddOSAGC+Ky/8c/pxKXpRakJUamfIYkOYjsqiU6L333jvl55sm2AwGpNEqRdvunqBmek2tJgwMFwOxII+USQV5OH8U5Il3sDk3UuUsx3Bnk3ofRwyMpeHigJ9wtHr3Dpa5uRu4tJAHrPUA4DguTK9jlr5w++23hzKwqrtI+aKgOTApnO9um3YHK3vtMz2XMFA3BuIe/sY3vhEqfCkT6yyKA45ouPWQfdn+VbgjYBnwDlcmSBjoBwOqN4lYq4zZepC9bLuR1m+66aZQCjlP66p09UrrZftPv0sY6BcDKsWJvijSIxojKmNfiNLI7BC1Eb2ZZOAwU9hCtVWlq5XuVw1M1bGU4VKNMsbKcBE1UNLvgAMOCLO0Of7f//t/4fIlHwhj+j9DRr66ClhTGfJhXKUkYxhXtQwlLdUOV50mQcLAuGCAYaJMpHsIgBKs9rQ/e/rII48M75U2BsoXl82pV+5SOUo3fk+6EA3IS//UggFn/xxoVsI4lvot03CkdaWFQZ20Xqb/9JuEgaYwoGiP8zAyOmR2OCcj08O5GWmW7tBynmaqAzyYr/PCZJX7W6I8czEyHPn/a17zmnDeBk9QNCFBZwyMvOFCKXFBJW+rPEuL7M4VoAa3/6uzz5r9p3/6p/B/VU5sGN+JNEwVUPHoiiuuCBuh9eCc2uA/+tGPJjraNFXWeRLnwbOsXKeyxK973evC3nVTsRui7WN/9vi2224b3p9xxhmBwf/jP/5j9o53vCPz207gQtQyN6F3aiN9lzDQCQNoUslkRU46QdO03qnv9F3CwLAwIHKoUtmpp54aDP23v/3t4YJVFc1cuqoM/csvvzys4dXaL4exe3SACBT55a47aftRnkk1FW3xf/oc4JCbaaaZsosuuij8P/1TjIGRNlwoKlI64qJLcXIrLOtUSpRDtc5tUOalgKyxxhrTCUBkxnNSyYBqJ+MEbvp2ePi4444LESVKl4vxGGk2/lQuVThO65TG2j8GKHz26gorrBCMEzd1+z9jnJdq7733DhFEPUmjkfrIMyX10e+WXnrpEHVR+a71slOOjwMPPDAYN623fPc/8tRCwsCMGMCX0aczVORXK9RJ66nKYyt20//HDQMvvPBC0M0OP/zwcKeMu2U4otw14ygAZ5Z0qnECDuRZZ501e+1rXxvklBQ6cmr99dcPjmXXSRx00EHhwkvGmmiU80IupfyHf/iHoN8++uij4U48rwlejYGRNVwoJnJ/3Rdi0RksrHHKfLdLDqWUrLfeeqEmufcuXdKGW2SLhMmr0TLYT+RGP/TQQ9m5556bbb/99pnUAfN1o7hcSFZ5yscf7Jqk3prHgAOcPFO8UASWPXrZZZeFCykZLN32qlxh3ikebPxCKgIjJl5q+9JLL4VLxnj0OAISJAwMAgN4tZu4nTGMJZPronXGeaR1d2pFWh/EvFIfCQNNYwDPR98KXnBYcUDj6yuuuGLQ36RXOVfWTTY0Pc527RsbvZX+SZ45T8l5dvXVV3ctt69QjItB6alSzPCQN7zhDZlznglmxMBIGi4OcrmRHeECB7yU3qt6SFGNbudcpJMgIuc+RgFY1nI81UpfeeWVw8aU/rbHHnuEEKFc/HhgcxTGm8aQMFA3BjgU0P6SSy4ZHBIioiKmDi9WAbeMM/ztH3tc+igjBQ+RinDUUUelvVQFoem3tWCAsuIsJu/xAw88EDIBIq3fcMMNPdE6eVZE67UMODWSMDCiGPjLX/6S3X///SHDRqqw848iGmuvvXZ22GGHjYxjV5SVrsm5zsnO2BJtqQL2t8wicos8Y7SJ4iaYEQMjabicdNJJYdEsnFSpfoCnS4hOiglwu+8gb/YlbBzIOvbYY7MPfOADIaeTQhVvp73nnnu6WuL9zD89mzAwihhwj9Bss80W9jmvGuHUD7jpWTuMFgce7XnFKRIkDAwTA85WOafVJK0rzMJDmyBhYFIwkNerNtxww2zOOecMqfTDqp7K4Hjf+94X5JksAI6zfkAGDqdHPBLAef/000/30+SUenbkDBeKPIiHaaWM9Au8X/722muvQFisYiG9ugHxKnGnmICbuFs9AzxtcjoTJAxMMgYYLYptiDzK743n0PrFiT3OWOGl4vTgAEmQMDBMDORp3d1ZidaHuRqp76mMAcWL8vfVydqRTqlanyMHzjg2YeC/+OKLoTgM/U/WjKh/61nLXvBOnv3yl78MMpI845hLmTh/x+RIGS4OKlmgzTbbLJzpkE5SFzjI6OwIo0XKWNW0s6JxKOd3+eWXZ/vuu2+20korBYVp+eWXDzX9VZSI+Y5Fz6bPEgYmEQPC4C4sc+u4fH0GTJ2g1DEesu6664Zc6TrbTm0lDFTBAFp3j1ai9SpYS79NGKgHAxR/RwVk2ey8887ZUkstFY4gODvicDzn+DPPPNN3ZzvttFP2+te/PkRW9Vmn3kpGKkalMJNzMgn+joGRMlwYFKoqUDxELOoGRCyHntXN4OANKwty6W+99dZQts9h39lnnz1bYIEFsi233DI7/fTTww3cdRJs2XGl3yUMjBMGXB6p8IQ9bg/V4UDIz58hJLIJ7O90q3keO+n9IDFw1113JVofJMJTXwkDXTAgEqKYi2i8+8Lcr8KRppCGMyou744FNbo0Fb6W4qwgDHnmr4nqtdokJ93vYtxNRI3KzHWUfjNShgvEMCzcQtxUPh/jQ+WGTsZR62EwHjOHwXhxle1DSMKDCRIGEgaqY4DwUBbWRbFNgKpO66yzTtjj9m3dUZ0mxpzanJoYGCStcwiMW+nYqbnqaVbjhAG31l977bXhHLTLu+0jFxWr8KrSq/R/aWDtQIUzlb/orU0Bp74KY/TW6Jhrqq9xaHdkDBc3YjtQ6+4GB6+agjvvvDMsvntRVC1DdIwkZVilmbj9uLX83pNPPjmy5feawlNqN2GgbgyIePJOKVRhTzUFf/3rX0OKjrRQF3rVkQ7Q1FhTu1MTA4nWp+a6pllNfQw4R+IuFpdAOrMi/Z9O6DgAHZGuSGekO/rsox/9aIjUNBnEu1d/AAAgAElEQVQJMQ5GizM7UtwmHUbGcGEwWBh/anU3BYhLecp4yGm11VbLFlxwwWzrrbcOXuDvfe97yUPbFPJTuxONAZW/4h5XYa9JcBDTGYMECQPDwECi9WFgPfWZMNAMBhwDcM+KTAEXJNMZ/UV59rrXvS5TwbYpePbZZzN/Cf6OgZExXKRwuVBOne6mPaQsVjfQSwFDiAkSBhIGmseAYhVKkbtgi9eqSZBy6oZiFV6cSUuQMDBIDCRaHyS2U18JA4PHgIpf5Jg0LpGYpsGVHlKglX523mWSYSQMF2dKHKR1g3aTVmtcaBUloqXsYssECQMJA81jwMWqDApMN0Y8m+pVVDXucZ6xBAkDg8RAovVBYjv1lTAweAz8+te/zn74wx9mv/rVr/q+h6zM6N3/F2Vav/fElOlvlH8zEoaLfMG4IHPMMUfj+JJG4ub666+/vpH7XBqfQOogYWAMMeDOlrjPVXZpElSGufTSS8PNxXfccUeTXaW2EwZehYFE669CSfogYWBKYUAVsijPZBE0DQ7lX3XVVdlNN90ULlpuur9Rbn8kDBf3oSiD/OY3vzlbYYUVGsfXD37wg3BRnRrZzz33XOP9pQ4SBhIGsnDIUWUUnqP777+/UZT87ne/C4cYlbd89NFHG+0rNZ4w0IoBB3qHQeuccgkSBhIGmsfAiSeemDnb4q6mo48+uvEOVS67+eabM+ew675GoPHB19zBSBguqjO4uGdQoJpYtJSPOuqoQXWb+kkYmGgMdCopWTdi3BcT9/jiiy9ed/OpvYSBjhhItN4RPenLhIGxx4DqlXTXQYGzLVGmSVGbZBgJw8UCnHXWWdkWW2wR6mdXuRiyl8Vzq73Sy7PNNlu6oK4XBKZnEgZKYgBzV1rSha9nnnlmKB2pgmDTHiqe52222SZ7xzveka299trZU089lS7uKrlm6Wf9Y4DhrEzqoGndRXoJEgYSBprDgGiHM5T0SOelldxXFrlJIEcVAHj3u9+dKfP/9a9/faKzhUbGcFH5J1qTLv1pChBdtFZZywgiQcJAwkA9GHBQ8bbbbstOPfXUcIHXEksskfkT9cDg4x5fffXV6+mwTSucH9Hrfc0112TrrbdetuKKK2Y77rhjdvrpp2fOvbzwwgttnk4fJwz0hgElS6Vz7LPPPkOhdWWYd9111+ycc87J7r777oEUu+kNU+mphIHRx4DrMxSUYShwtn3wgx+cLs/cSeaIA5n22te+NnPxcVPgOMXLL78cmne8wZmaVVddNZs2bVp4/4UvfCGkkA2iuFVTc6zS7sgYLg7SKivXdI6uS4UQ2qKLLppKIVehlPTbhIEWDPzhD38ItwrzPB144IHBOFh55ZVDCWJn1ZZbbrngIeIpOuCAA7KPfOQjIQricGE0KlqarOW/GDyv1KyzzhqMJ0rc97///XCx7X333Zd98YtfzPbdd99QWpLD5JOf/GT2la98JVOpJd39UssSTEQjv//97wNdURoYKmh/qaWWCn/ve9/7hkLrjCZ/0XHAQ7vhhhtmhx56aChI8/jjjze69yZi4dMkpywGXnrppUy0lPPcpY8cbErq+4sybd11183222+/sOfJNCX+PdckyBBiHK255pqZogCyF1zi/OKLLwYnnIyl3XffPXMv4Yc//OHMEQjXfqhu2KSsbXLOndoeGcPFIFm3V199dQiv33LLLZ3G3fN3lCyVyxgvmHmChIGEge4YcAaN5+nGG2/MTj755GynnXYK6ZbuStl+++2zzTbbLPwfU2cIXHDBBdnZZ5+d7bLLLsFAOO644zJGg2pflCfPYLRNgDs0CBl7XKoYo0R/Ij4OVD744IPTz9QpaSn6wrihfBIQojLmqIqLioeDPH/XBD5Sm/1jgPCnKPC8ouUtt9wyKAmrrLJKkFdRsXEP2eGHHx4MdekkTdM6xSTSurLf6JzRdNhhh4WIi6sGfvrTn4YKmieccEK4J41yY1+Kzrg/TZSo6fLk/a9AaiFhoF4MuFSSo/zKK68Mir67/aRakmkMkk022SQjzzbaaKPw/YUXXpidcsopQdb5jPEg+vHb3/42GBNutW/i0Dy9eIcddgiGC5l2xRVXBNlqfOTueeedF2Qz7Pjtz3/+81B5jPNC9JVM+9jHPhae+da3vhXGPO77faQMF1ashfFnQeoGTFo4j6fYZZfPP/983V2k9hIGpgQGeHKkmmDWDBFeHMwP4z7ppJOyY489NuTcYuDyfEVMGSa8PAwAXl5GgkiHdEyVUHiw5P3HPT7LLLMEpl8nwn7xi18Ej5k2GR4UzGOOOSYwc2lsLgwjmIT8pYxJKcsbJt5T9FRwcTmtOfutiJFIzV133dVoSkCduEht9Y4BckLVSd5UEUP0vPPOO2cKuzDat95662AIO0eFjpzh8rrppptOVyauvfbagdI65YazgIGl3D86d2GdvWr/xbToV155JVNZk8Jmb1DSjFvGw8UXXxz2rKp8CRIGpgoG8HX3BH7zm98MBod9/KEPfSj7xCc+EaKTohgcDvaMvXDEEUeEUvr33HNPcMJtt912QQZycHEW/PnPf87s76222iqbb775pu9ze6pOcJyBbI0pa/vvv3/gO/iS+9Dsde/JObyIjCK/8mC/Ox4hZZpM5pgzbnPUNkceh+I4wUgZLvL43vjGNwbrlocLc60LLNxMM80USi6ff/75A60GUdccUjsJA01ggJeIZxgjZphg3qIh3vMwu++IYibHF8PDPEUuH3nkkXBORBRGqhjjRqQCI6QkERaiGdrj+bnzzjvD51JqnDlx8zBvb11MU3/alnesP94woX7lKpWnZYCZJ6CYEjKMLHOi8CmbrI1W4JnDP+DH/Bhg2uf8ECHmteMMSTCeGLB2aBk9iKZQUkQujj/++KAUiExQ/in4/uwLnksRFYoCI8YfuaIIBBryPQXBfS6DoHWGBsPcWPVnjBxzUlgoLBQ13mSKi1Lk0YiJK+Z5ToZLLrkkKDT2hH2L3uN9Z5S1BAkD44CBf/u3fwv7M8otRj0HxGc/+9lwFYY9EVOcFYWSfeOOFPuXgSNKz8nGGBDRUGAGSCUW8RCdIU/oqPbc2972tkyWkL0v4l8X2H8cfaKq8dJJsktqmIiLvqMDXkaETAdzFVHlhBB9KQL7/aGHHgoODjwPr8IjRJE47RhEorWjCiNluEASRsvK5AmigFAO+gWKGeEkZIYIEFlSNPrFanp+HDGAsT7zzDOZCyAxOQybIk6hobgxOjBp959g8pQXhsqXvvSlIAgwboaGA/g8VFJjME9KXMyl9Yr58VBj7trMg9A6D5LoxVve8paQctNviJ0ipl9Rkte85jVhn8eLJ++9997sAx/4QKgi6IA+Bk15i+FygoBRYp686Z///OeDgVNkxMR5mIN5EXZ4lMjMpz71qcx5B0orJ8woM/44j0l7RSOEOfq2ztac0JYTzvvoc2ewrKMDsOhbhNG5EYaBZyk8FAPP2RcUBmC9GfEUBzQmysErCpqgdRGeeDhYdDECpcS4ZC0wvqIH1ljQueghD629Ep0M8dn4am+Yr3x/UVd8wnxFZfAN/IPTwT5OkDAwTAyIKDAWGA4cUDJ37D9yCb1zSnBKeS+ygo6lUopKMjzsW7SOlzNuyC1OCJGVSN/2lH1v30i5xN8jkD1korOVzqC4j7COyrhkImNlnnnmCfKMMyUP+uRo4GQwprjP/UaKs/Eyvvbaa6+QaSAboROQg2SlNunfnsUXGUAiT6MEI2W4YKxKlyK6mE4C+YgmKkVVkQfhFl6KCEXEIq6xxhohvaWTYlK1n/T7hIFRxABmivmJnGDkFDXMm5Jmb4hK+I00LwqKtC+KDeUEE6OgAweRGQIUIdEGHp+8seI3GC3hQKnTB69NKxAyvrMPXd5ln/Mc2YvS03qByDd4zggaY5DCxksuWhKBQcabLkXNmQTzkA6U5wMqjVECCTYGHQUwL8BiW62v+iX8KKu8fASJNAQeMwIRrrQdjaXW59P/m8EARxjc85JaE2sqRUKRFmtP2FNqKDHWnNLCiGeAEPTWVWTQ9+QSYe5ZikEENGZ/USy0HaN68Xt01yStc8ip3NeaoWBcPMsMqSOPPHKG7+15dM4g8b3DyBS81khMnINX31HYGOYMO0aMfSy6I/KIz0R+kX8uvU8YqAsDeLUIA9mFz5Il+CwaxGc5pOx5vJi8YsigUU42CjkajU6y6LA6+OCDg+MJr2cARWPFmMkkUVV7W0qWM5Gt4DecVs64kGf0TQ6OXuUZxz0566JmTkb8h8Fkn+JjrTKETMWvOBllRbTyATyO/iu7gPyXzq3NbmC/44GcFPTwUYKRMVx4fuaff/7AYDE/oTHEaJEcqhVyz1uU3ZCIMVPKhPwQE8Eh5A20zwMrjaRX4urWf/o+YWDQGKCo8P5SLChXmBjl3XtM3P6R7oFxS2/CwISJRUUYKrzC+RLBoivOuTB4MH8hc+Hl1kgCz49oDaVODnA7pqhtiiHG7pXAcFDYmHi4GBSEUVkgYCiJhJQ7mexzERPCTarb3HPPHZh9DKXHdo1PVbGZZ545GDAEgvNvrakweIPIETzy4hF8Ve6Did59XmvPUpwJUEof7yCDiEGYoB4MoP/oeaVkUKwZEmhLhNDaoWlGB1nAqETXImbXXXdd2DvRQYZmKOMMeQLf+uWNFSNG9wwaHlx7pCgtg/DXv3z6JmidksOxp0iAlEgOiVYwJ/ufNxlO8tFGvyUr0SPvKsOOosaY62TExD7gEx2LSIlgUeDQuDbwIfyIYpUgYaAXDKBtirgoqD3NuWC/onPyCi9Hp1LDON8o2IxxNChSgNbt0wh4urbwdDKAfsjBlnde+S3dkbxjDOirnUFubBwHKlhq861vfWsYL4XfZ+SRPVoWtEfn5XgjzxZeeOHpZyqNAT/jWLHvWgEeyBpp235n7nkjzO/xKLIaX4NLTj5zHTcYCcMFk8N0WY0RIrNjUVtAlcAIeeFtBFxUr9r3vK8sRGdlLD6Qj/imN70pEGxsHzFR6hys4llOkDAwThjAaCnsDH7eXhEQXhpRE0oaL29k2BQXCgQlXPoXhkWZcuYE08p7cBg1BAAPbDyQLuzdaqzAFYUHU6cQUex4utoBb67Sw5g5IymCfY5Zv/71rw/7nEIpakH4FOUKmzdhZU6LLLJIMD4II942fMJY4nwIJf2pDMPr3grGT9jMPvvswVHi/IL+i4wJc2PcEBrGhvlTZFsFQ2sfrf8ncAhKKUmErPYovTxp+BAPW6sB1dpG+v/fvf9SldAK3HFyEdZkA8UETVF6rA8aR+sUEQIbzu0Z55ainIFTHlgySHSC8GdEF60xGYO2GMdo2XNFoH/GAINVarJ17ZfW0WERrZNnHAHkHA90EQ3ZF/iFMfktJafVOKEAos0YMUSj8NSq2BXNN36mDfvdXsJHrAsaN268xXpUaS+2m16nNgbQLIWfQWLv2dOMFHvN/rUXY7TEforON/vZnmWo4KGtcgifR9NSPjnptB3PorVilGIvSmMP4QVFBkJ8RsTSxZPSnWMqFX5CNilDTh5JNbXH8Ap8qQjIM3yKvPUMWUqmadeVAuR8BPtG9ETkhKwoAvvc/rOHOSrsc2NqBc+LyNqfUsPMt9XJ1/rMqPx/qIYLZYhFK8TWLpoCoaIlDBbEijFbXN5bC63cKaJEtD73GcvUPQ7+z4jBSIvSViwCJY9n1qGkBAkDo4oBShBFnucUI1fqkNLEGMGkMLqosEflngAQ/magM1Q86+Bhq9LAU02h8RtKuQiNNouMFfgRLqfQEAI81UVOhIhHY+LVcWieN0o/rYCx+k4ZV8DRYO8SIObgTBpGrR+8gLMBxEtrnS8BRQ4IiqJIrtQw3vHWuXuOMLT/55133nAHh5Qz0Sh8owgorniONaAEYv74V1UjJrZNsFIO8SJ41S4DlBeccLa2vbYd+xj3VzgSXWM8ontGOqUY/YkCMh7i2lqfeNDc+lB+YhGFVkUEbuE5b5C2W0sKhP3EOKaEt/PCwjUli0eXgZRfO+lp6KxXWnfuBhTRus8pRyKJUq7bGVR+Rx5yYtjDKi3lDbjQwf9mJlAYGR0iKRQ+PCjiOf6u26vf4xn2Pl5g3ShVaNx6WtdOuOzWfvp+/DCAJuhwInuidZzXDBV6HHrED/M0wajhfLNX0Q+Z5rcyAuzL/B6DDc/S/eiNoi8cTe2MFb8XNYy/9VyR4R+xTF76rfRMBkpr+hheZf/RQcnb6GhwYSRYbLHFwoXM3qtWSNbhV+Su9+Sd/UgG66sI7CVZAO34QHwGH+LMIdfJrHbtMWIYYjIw8EL7snVesc1ReB2a4cJbZtFVY4lWdDuEYJYWUhqKhbXwgCfV/wklCpz3yy67bPhOhSMCgmDrBhaNYmMsrYKt27Pp+4SBujGA1tGkUC+vpRQMyhqPCIZl7+SNCsYBBUxUAYMmAAgCjIoSlv9tHGtkjIwgQoCXhxDpxLAxYcoG75Y0kHZMMPZhX1N6Fl988ZAmQ6FsB5wS8ucJp3gegNFhHva1HF/whje8IfyfEDJXkRqKZCcQeWLkcHJwhMRIVOszPGPwYbxC9NJ74KWTAkhIUUYZWRg+5g9PrYK0ta9O/yfU9UlwEdQENGHNmOLZI4yKokKd2hyn79AVz6e5mrNoIvwyAnjs7Y08ncIFAw+vZ/TxrHpOPjuDvxXQIfp1uF3EjfywT9op5NYTHVLerUc3GUHZZ2gbUxEYL1qnGFSldUZ9J0eB/nhw0TA52U2xwUsoTCIwjJ52dAWPkc7tf8pYJ0WwaN75z/AkeLWeDH/0bY2thXXnee/GX/LtpfejjQE0i28xNNAOXQ5f46zB5/KOBzPBi9Exx5XfxciL//u8aK/i6+hdZJVMQ0vkSWtUMWJKG2QeGaV98rPdb+Mzxumsm3RnDrNOv9c22exIAhkmsmEfee8PSFP2niOGDCTf6KL2ZTcwFoYGh0JRRCX/PONOpEa2Rad97hl906fxUQYaXqmvUYKhGC4Yu4WHlLKAwOUIW2DCCbhwy6LbCISE9wsssEAwhAgnFYQImjKAkYr+uPkYQ06QMDAIDFBwhbaldtkX0l4YBzFligKHobUCJs1TicHwqHiGpwrttnMEoHGeLAo/Rq0v+4YR0wkwf9EYjIyi0Y1JagujdDZANFMUtIwiDw+iKYSOtC1Mn0JlX1PYgPQwZ2EYCPAinG4e3UAqDd4hLcz5GnhtB34b0wCMxz0uDEcKcydgxBCszrDgbXiPZ8yjX6CoE9iiCzyUIjOMrCj4hfiLDNR++236eYKfUESH5kJJoXhQZik5RUYaevU5wxxdMkAYKhSP1jSROH4eWO1Fbz8jh/FQpADFZ0QljIWxKyqYN5bib/Kv8M/Qld7MkdANKOYiD1Ka29G66AmHhT03bdq0ECGx57uBsdhDc845Z5hzt/2HduGQcsVAbBdt1C/li3HBoWL8cGk9OuGy23h9z2hiQFonSifcR+UWfaCTfvsoM470m/4wgPbwIwYJz701ZByjW443PLFV5qB/ewZ/s/acFfgbYxmvbsfbGEQcfNonn9BiJ2PFzPAc46BHMqDIxG77w3McaRziqoYZWxnAo6R7Of8prdX8yDN/5AxD4rWvfW04W6Y9WRHSmxnuZQBPIgvwwHyEqt2z9jXdgoz1at+3A2sirZNeITo7SjBww4U3WFoIQVAFMHcLlAceGwQI+RhaqyeVEHFwqgpIBaAMYd4JEgbqxgDhjBFTsjByZ0QwW4oAowNjKVJ0GSOUA8aNfYBOKXrdDnhj+CKW+sB8CAUGT6vgaJ2nMWibEs4wojiUVRp4miKDpwyVBcYUQwFDjwAf2ovOBP/Pf68yGI9WGcGjTYKEMicCA+fdgBLlt55xDwbFN46l07PGSVBZK8/wWjE8ita2UzudvkNLBBxaYsygJXzLmCnd+GJZvHTqp87v8GjKKc+otCEGN8cTBQW9cTi14ojSzgvoGel+PPOekV7BQG5Hl/ryG33wqjIAuhkr8EWRsWaUAfKlk1c14gau9WENuhk48RmvFH+KFqB4UPYiffl/nta1zXkn4lFmTNpkXEiv5pRrF00Jnf/vP36DrzC+ODi6eVpbcYyn4W910B06gFe0zCGAd1lLdIMW8EP9t9JLfj7pfbMYsPfwOjSLn5Iz9C5efXvPfmsXIWQA22scPCKajAFpWta1U7SNw0o0VaSBTLOvPdNtT9iXeLJ9qq9Ozqs81swRXUv1UumLPCoLZAbHVwTyGJ/jAATm0uoIXHLJJYOzLz5T5hXPt2cjL+n2jKgxXUKBEjK6W1rYqO2xgRkuFojXVK571QNADBTGRBWBYOEQhMhO2cWMi014LLTQQuGAZjuhGH+bXhMG2mEAkyL4RVMIXkolxo7JYF5yfNsxW7RL0cX8PRc9jxh9N8+KZzFyzJbXkqA3hm7Ginmgd4yZwoO5a6cs0/IsgYXBS8tiMJUFuJLmyWtWBfAGhTjs2bJACVa1UEQWXsvwFcYeDzZvm4qEIiplPXXWi3EhVE9AE86tRRHKjr3T7yiL+rJmBCNjhlBirBH0cIUPDwrQG17P6OVJFBljcBCYvJeEpXVvBXRkbxgzryDj2TzMydq12zPaoSTxalLyGTiUIgpKNz6uTTTEA2uN7M+ydE++UBoo01XAOlGiyoJ9zeknPQRuyoLfkoP2ZVllLSp5jDcKYrdoo7HAfaRzhh8DCM3VYcTEuVontIGfMXZF5hizaBzfsq/K8LnYXnqthgEKL7kE1/a0fYnnMwjsg+hELmrVs5wWnNbWzB7FCzzXjS9x3OEZ+uNIw9sYRZ14QRyDZ8lcPJss7aakx+e8GjOe4DyLcyvdZG/+WXgiL+yJKkDu0j/LOBry7dpr+An8luVd+K+IlTniz9oYBxiI4YIwWZFyAjHfquAAoZSRXkAOs5zEqsAbEEsmY5QJEgY6YSAqjRQDigJBiqFjmBRcClwnL1JU1ih5wuuUBW1QmHmhuwl/DFzfnhGN4YWifJUV4hiYcUu9oQxQAKpAZPDy6nmZqjJd4WgGSDvvXKexuJfJ3TFVAB8SvncQEo8gcMsABU4KXKxW5lwLhbeMANU+vgLPBDABRdklSMsKmjJjzP/GuKRP4cGMYLTFoGUEMCzxtiLjId9GmffoEw4p4/rRBw855YaSw+Bol8KofQoBZVRkiscWDVKGCNJuhiWlxxrAKSMHLYlEdTNW9GvuoiqUIcqU58qCNeOQoCz0IvAZspSGKiBtzVlMDokqgO7sEwpR2fRp7aMf6wevFM2yjgz7GJ2L2jAEKagUuW58rMqc4m+jgUyxZcxw1ERlWiQA/yy7P2Ob6fXvjl/pW3BoTzMW7Gv7kmzhlOvEO+xba05xl3prf3HaiKChx26AX+AJno2p0IyVsjokGYQeGNF4gshQFcCXVSFU8VZKV1UerSgAvbcqoFXl/aW/VQW8EP/kIOqkb7S2i1fSU/RJ9yi7z1vbGdT/GzdceJhFS3pZBEjAlDxfxuNThDSCWV57LwqRMD3vlvSVqt60orGkz6YOBijq0lQwcLTBuxiNFMwa0+zE6HyHkcY0CJ4gShvhi2bLKF0YnH2BOVMqKCTaK2usWA2/pTw5w0GpbXdGoNPKwQMGL53KOZJ8ekun5/LfbbrppqF0ZP6zsu/hjSeaglIVGA+EBMMnpuiUaUNfUnbwFuk7qldRgKvgXpoLpZCixdtFObD2neimzNi6/cYYKR1ohQFDqFMojIUCzojoRn8EJGMEvfLwURQppwwIyn+3FB7PU0LsHQYOHBgL47uTgRPnZv8RtJ5jqDOQjL3buOPzhLr+RBYpRt1SouJz8RUOjVvErhfZQnGTNt3NKIv9xVeKJC+uZ6s6F+xLCpjnGdydlM7YX3xFk5QZSo09g++VxTVeyCETI8eMPWNvwoiJ4y2iT3zSOPBMa9b0PotjGYdXuLBn4QaO7GkyjZHCeOB4s+c6AXmEf+EJHGicD3COVjg1yuDbvsKXyCJ0hqfgJ2WNFePDv8gETji0VtWJpo0YYScb8IeqgL9w4uFNvYAqYM60ld1j+T7sK/ycTLceVcAa4cucQHSKKvu8Sj/9/rYxwwXyIN8BevdA9AoMHjdr9wNuy65SCKC1L4LdIeNRO6DUOs70/2YwgGlivJQqyh2mLp8Xgy6r6BkZBooJ80DxXmHK2uDZKcuYMTJCn0DhVcGgedOrKMzGQrBrg+KFuRNavQAGzwPMaLFPegHCkjKFSfYKPMmUuV7AGijq4aJbDL+KQkWY4y0qGKqSqPIUhRh+qwBFCi55NCnj0p0YkWWEfZV+in6rD+OlnIjCMGTRJjplzKFxf+iMcYbmfM+jTsgxwLt5tNEnQ8czDOxYfMLzZXHFoKHU2DuiFZQitNOt7/yc9WXvigIwdqp6YbXFaCWXPF+l7/w47Dl47AXc4u2eiV4UKv3Bv/0m9bFK6kscq3W0fngHJbcs7/I8/KNzEWEeeHuF46PKnovjqPKqfcYiOo48HL9C62ic4VqVh1bpf9R+S7Gm1MY9bS+RB5wBHG/kQbc1wTfsH/izpzgvyEZ8HO/q9nzECeNdChmeIkJnLFWNFW3p05qiS/yzSsQhjsV+ZjSJTqrMx1jvBRhtovJVnAP5fvAYGQjWpFcw9pj22ksb9iVey4Cxz0cJGjFcELNSxf56EQx5BMlF71Uhiu0gYjn3/SgBNrMydVtttVVXz0PsN72OHwYwWwaGTYupox3Mg3KLmWIoZb2kGCcjw6bHlCnF2tF22TZg0JgYN5RGEUxtYfS9CFoCiZChNJhbGe920Spi8BQgefPvfOc7gwJZ9Lsyn3Fw2Fv9gHQA4+gFJ/qFFzX1hfYppVXxQnlzEJ+XTWVCNfYpp2VSIlrnjf4If3yPMkDRQnf98K/WPtr9H63BBYMA3aM3igDvJ0OZYsJ4MJ5OQhk+RAfiWQQGmYgSuoWTsnOxngQwI0H/opp4cVWDQZfBJT0AACAASURBVJ/Ww1zMqxcvLJxFZaDK+a1WXHM+8Ab3KhsZfwxt6WJljb7WMcDh0ksvHfYdntQLoAHrwog0pqp7z9jhkaIoGsNQZkCUpY1expx/Bo1ySOHrcIC28EaGFfpn1FWls3z7o/LePM3FmuMr9iGDkZFinujQb8oABwt8kR34kz2lTUZQ2Tb0g3cwIj3PUQPvxlKljTheDhfRIVFr/KaXNrSFHu3LRRddNBSX6RZhiv23vqJfui/nQj/gPrFtttmmnybCujMG8e1eojc6Rx+eHyWo3XARXRFlcWNnWYu7HUJsLkTUS+pJa5vvfe97e/ZQxbZsNjegUm4I7wTjjwHClgDGNDE9xgHBJbpC8aLAlhWkGKZn0AblyGbXFuOlqiJs7xAGUm8YCISqMVVVDuIKYT7aICQIrE5KZ3ym3SulT847ZwDvb69j0j68UPYJnX7AGHi4KMi9Aj4j1U1qqtSvqulD+tUGZf8973lP4IN77bVXUO7QWC8A1zyajFWKgrWzlmVpslOf2oB/NCvywUDCc/FwCrr5E96xL/StbwoQGqesok+/5YW3hyii2pAqQkHynWeqyAJGPVpHr3CpHe33okTCOw8u+jLWXmmV0DcvqVK9pFPm18F6ilj0Ay6wVBCg6hmZfJ94gHskRAvhp8oa5duhzMKNNoynF2MKnUU6Z6xbK3QZaS/fX5Pv0Yf1RX+MmbgfOLE4j8ytVzw1Oe7YNnwZI9lhT3OakWn4BkPBfqiyB/AHhoHnGRkMDIYKXFRxvhkfesM77OfoyLCvezE0zNOzDJYy1QIjftq9mo8zKXPMMUeoJtjud2U+hx+V/Mj9fsAekIoM//0A/HKaitD2aoz1038Tz9ZquPA4EvqUozpg2223re1Ge0xVVYg6IM5TjnOC8cEAxYeQxaQwdUYFhkxIYfSUxCpCiTLDk8UDRdljrGgPw8orfGUxpG9C07goftrTdhVB09oX4U/gCPlSIntR/vJtwp08eQy16gHhfDvxPS+6NLNevUGxHa9uKhc1qbKG+efje15kfIxS14+DguG63nrrhTRTZZsZoL0YQ3FcFBJrSKFnyBCQ6K+scmftRVMIQkoimmWsiIKIAtobZddBn36vHfO0jvKiKRGUPfsLLYs6lhkfpYbh41m0Stkyzl7p1X4mrBk+jKle24F7+09UwJ6sqqzFtcu/Mlookf0AfK+yyirhIG4/czMG6SSMfpHPXtJr4jw8S1EWPaGc9hJt1BZlGU2ic4opA4LCXYaO4ljqetUnXo6PkhN4M4Pd3qOEi9jUQRO9jlffeACZw7iCf2NDX8ZcVQ7Zh57TlgiY/ag9/KEX2qA028ciNNbSvjbWXowVOMLbzU1b+DTjpV+6MD+6pkP4nBz9gkiLiEsdoPKlghx1AF4thc1ajjvUYrggQhXDRCIgpw6weRyMIhzrAMzdIXte9TqAwOdxdrleWWFfR7+pjXIYwOAIQIIlMnUMiiFAeURXVZmnNhk3GLG2MHb0pH3t9cJAPWOMlCsKoDYpcP0YK9pkYEQFF3PvV5nXprnKi3cQnmLSLxgTBs8QqgOsgwv7+jE24ji0JX1NKpyzCFVpJbbjleIFb/gZAcmxo/1e6CW2SyGhSFkH60zRyKdgwa3fMB7QE3o1jmik+G3VOdlPhB5a5VmnjDCk9BHbMie/o2iao+/b7TtKkt9QZhgFFELt96qI69veZLBQbOz1funePBg/FMJ+1iuum73O4dVvW2SOinhSW+C4X+Dd1Z770vCOfgAtoEcGKOcLHPYKaAmdK+LAWMeD4LBf/PU6Hs/BPTnAOEZjxsSgMc4oW3ql4U7j0i/nBd2I8o7P+fM+Ot6q6iJ+z/DRRozO2N/2If7RC2gTDWnPXkRb9qX93iugKc4QUWe0AAf9gjbxdjwerzfGfoEeMP/88wd+1m9bnpfm5ayNfVAH4NWcS2h2mHuo37n0bbggcHezuHDOpqoLhMEZQ3WCNqV61QWEP0avqlA/ntS6xjOp7diAmCKmgaFR1AjzyNB5mXmmqm5Uv8cwCAUKH2MVU6dsabNXpUi7aMcYYyoC46IfY8XaGw/mK8KCuaPJqnMuoqHI4KVb8vLWITT0g3kKqdfVnjaVMO83tzjiwLzxIOcJlOOkrPQD6FFpdgejN9tss3DOCK1WVTZax2BcFEVKgjQbXkOGBfrCnykmvdC/PUXppJChfQpIjKRUUULMjxJE4YQDxpZxihow1u2tfmgf3fN+m7/27IE66N68pVfUodDENTN3hlwd4PJKBrFIXh2Ap3EkcEDiH/2CdUffDA7t4aP9rAuPP/rh3GGsU9qrRBz7nU+n5/EK8sccjZGcsP/QDro39iryAp48Y36MAAaS9uBTH9ZKn1XBGPALfAH+7GnOZv/3ea/rY63xcTzdWnOSGHcVPlE0F8+bNwODowQ+6gBzdZbRsQZl8fsdZxyTKmIKxdQF1kthKLyyLsBr7R9OhbrmXdfYyrbTl+FCSPC+9lrNp90gbQLeH2k3dQIhzOtZF/EbW8yLF82R/5mgeQygDwZFnqlj6BR1BkFVIZEfMQUv5vFTMDB1woeg6MeLRiBogzKEAfNGaVd//QJ8UNwwI+k/xl8XYPCYsRuDGQT6qgvch5K/VbiOdvEkexEd1AWqqkiNExki4PsFXq8jjjgitLn++usH/FJMyioi1oCTiEKEhhgT6MrYGNWMGNELf5SosgqJduFNGzFCo13j7cewMC/KFn4e0ykZ6ugUTzYH/fjM7yiAZQwt+9H8GCwMNeOsA+CBQkfhrtMZZ04MoTr2vHlaf/JMBKeuuZNnznfJ9RfN6YfnxbXA+yix1p6MtN5VlPjYTv4Vj0cv1snaM37Rbq+Kd77tOt4bh3XG89E0+WSM+DQFH41TGuN47RH7tGg/mFeZ/VA0bu2TlfqM0SH8IRoq/ayDZ42XjGRM2t9kcB3KMH6jXU4Y7da5D40RjePpvZYrLsK1NeTY66eCbVG7ruRYZ511apW91g6Px+PQ6LhBz4aLG3XdxmvidYM8vNVXX73uZkN7O++8c3byySfX3rYQJsu4bqKtfaBj1mAUAHmmHhUcGw5T7keZJpi1Q7Dy7PjD1AmLsopkO5Qau3ETVgwVDFjb/SiB+b6Mj0CkEPB06atOwOAdWMTgnRGrE+C8qfuReIxdKFgnSAXhSRNZ9r4fgR/HRRi7vJDzR7qC24sZIXnFFg2hF/iifKB9yjp6pfiLZLRTLil3lETjRX/oUJ/aBObg/xQrShVBRrmhBHs2/i6Ot8qrPUmxpiRJBeOB1m67seqLwoOGPWefmCsajPOM+9ErHDDUeXbhpi4wbx5jDoB2Y+21L7xFu3WC+4dc0AzHdYJUO8aL4hJ1Ko3WEg7g2Pr2w7vjfO2PSOeMdTSMJvqh39h2na/GY6zoG/3al9aNI8v7/N7rh7/oA57hl/KPp+AXjKV+8W1c2sYvrKOoDb5U114hz40Zfdgv9mNdAP/Gq1IXxzhaqRMY0LPMMkut+8X4OGilQDPS6wb8lQ7PWTVOUNlwQVjubXBngY3RBKy55prBi9RE2wS4HMR+GEO7cVEM4GXLLbfsOT+0XduT8DnGggGiMYYDRQfDxRj9n5JGaelHIGHcBLG2CY/I1LVfh6fI2IyTIGVMYJSYQ14Z7XctjZOQ4+Wqm7kbmzlQNNGxc1wMrrqBN1fZ4CbAxVuqetWxnvnxEfwbb7xxttxyy4XD2nWtKZrm+VNBUUlnHjYKjTXOK+/otlf6p8wwBgg/SgEh631Uluy5fvYVPOGphKw9JbWM0cIj26tSoz04ZsxQlhjpUq2kRlE6KID9KmL59dUeDy++UDfArcgQPlMnMNwoYYoH1KnkGSPaQ4+ciNa0TrCmDGXraV3RdR2AzskMbUdjXV/90navY9MvPkQm2BucBMZH/jCu8BTji44JCqR9ihZ9bj7ddBX7y/PaFbm0p8kcn/W69/Lz1T+6jcYWmWP8dfJXvI2sxJfQQ51tm4v27L+VVlopW2uttQJ+83Os4/1OO+2UKcLSBKjeKaWtCUCb9iGZXyc/bWKssc1KhgsrW+333XbbrXbCigPCcHhim0SgMymiOk2ADbLHHntkSyyxRNiITfQxVdqMigmmhakzUDDEaKTAZb8CRx8EuvYZE5gvpq4PSlG/7VsLbVD8tMtbhLGbS12KbVxvQoxQ4ulqgrnrJzJ41UycFyH86gZKinKuSio3AebAW9xENFgqjbMFKtCoqtYPfvA4a0pBoahQWBgwyy+/fIjuSE3jibU/egF0iQbRelRq0A0HCzpCq/7Qba+Gi/1F+dKusVKczKUOhSnOGY60y5izt8wHzvI8wzqYQ6+GnfEz6LTZBOAHlIMmgGHhcmSGYt0An5Qxzj7GkfWuE/BmRpG1xZvr5Jnagnd4oVcwCuylOnh+Oxzk9zRjW//2QxX6tHfQsmfIw2jooHufwxn65xRgXKJd/fh9XQYgHNnX2qfQWqN+nBDt8KUPBgtHB/7XhN4HV+6hole6ILhuGjY3BimZYy5NACeo9q1zEwDvxk63wG9HHUobLioRENZKJzYJe+65Z/A4NtmHco2MlybBRWdKqioRmuDvyj2mGhU1CkJk6Cx+QqYOhhKVNQwR0yesoqGi7zqFFgGij+jlwtjrFLyRbgir6O0ixOpUCmMfXjF4BxalgB599NG13J+Ubz++V5DAAfUmGeTBBx+cucCrzvWO4/fKKMIPP/7xjweBm/+u6L1xoH9riTbRCtqxDyhTrfTP8//+978/pJEddNBBwXvsuW6gD+uobQYK+teXPVakFOjX9wwZdEwwoutOeIvGCkcAYUdxoqTVTZdwRWESGTKPIqXMOPWLluCRcmcsXiNefd9uPr6jmFGcmti7cb14//GhJkCVOoUznB8pWuM6+sQXnKdxnpVjoG7QJiWZ4oQO0WCdoP3Iqxky1sKeaEcXZfq2D7Qb9zS682ef+sx3/bQfx4BGtWm/cTSIslFk7TsyVF91rLux2jNkDCd1U/taP/anuZiHdalD9kd85V/xsyOPPDIo/XVd05FvP74/9dRTs2nTpsX/NvKq/brPk7cO1NrXWQShtf26/l/KcLHwPC68Ik0CgYs5sl6bBJvEfAirJoGwkmqz//7718JYmhxrnW1jTBhpZOrWFaOKDJ2C4Ps6mLpxU2gIIULDxoveJ8pM3QxRm4QFph4FR1MKDyHCYKFYUS7rnkt+zeGMN8qdKnVVKcq3H99bc/ejUPibBHQg35hC3hRQJKSkOTiJl0TlIdI/ukCXPKF5ZRoNlaV/7W611VbhnBGnjvRAeynuHe1QXCLtxzQT/VJ4qoDx5mkbzRmrvtAeeqTwUWoomcZRtY8y49EPg0WKIrqMeC3zrN8Yr3EZe8S/NdAuhRhfMh/v8WiKcpN7Sz9SYJrqQ7sq33GSofumAC3qRyUzdNIEWGvy39pbF2tWN1h/+wX/RmdozB6Ke6qov0hTcU+TZeifbMvTVNGzVT/TlzFqG56tqb3o//r3vTWP8tVYzIcTJI6HTCxDb9qyR+AcvjkItNXEvtaXMTIc/dmTPmsCzF0fm2++ebjgmJHUFOAzUiqbvteP4SXjCb01CWjIXiffmlqffsdfynCRE8gqbhrOPvvswBSb7kf7Dug7qN802Jzy4h2+bcrj1vQcurWPSWB0kakjfH+Egc98V+cGINxsXrhFl5g65o2BlGHW3ebT+r05YLiYemTsPmsC4AnuGCyEal5JbaK/yOBV91pmmWUaVfSNnxDmnGjSoIh4cpD+kEMOif9t5JWCoGSyspoUR/SILtEjhQBN1kH/8MVwEalyuNTN0wQz4ULRoOAVRSR6nTSliNKkD15wf+jR3JpSauCM8qRPc6pzL9tX8GPf4kuUVhEKr03wqDze7WXRryaBx5dBwRBrEqz/BhtsEM55NdmXtUcDaAFN4Il1ypCIIzSBtzPErRNZQragcd9F41f/ecOXDKprPNrRH7rE7/EQe0+faLNsP3AWjRljjXyoVQ5rzxz1gS7x5KacEPBsXPri8IBj82oS4EDhDmcRP/ShDzVi/ObHL4VSgZU6+VW+/fjeuqnuqTJh04D2rRee3wS/73f8pQyXphfEJOSOu2hHhaRBAGZFgcKomgZzc4fMvPPOGzZU0/012b7Ng2nnmToFDSOMCkDd9KI9bWPG1i0ydULFWJoAzA/jZ2zyYmPsPmsK4JXiRpEiTJoS1Pnxm4+UJF4cyrA1bBpOOumkkALVdD/al5Lm4DK6qQsi/cMdfGnbn3teVF878cQTA33W2Z++7DG0L7VCBFdfm266abgPhYJX1z4wP/PCFylz6N97f95HJaeuvRDpnmHmzx7wWVOgbfvZmQd7DB/DWyh3cOzP/31eh3KqDUafNpsE/Ik8Uw4cDpsE8uzYY48NqdCqDdZFe0VjztMHAwZPrps+tEc5s4/Rt3NUPPScVPpDC3X3CWfkFxq0f+1t/aOTuuSnMesn8g8GEdliftFI01/dc4vrqG+y2rpxsNhjTQMcXnLJJaHC62c+85mmuwu4cydXXbfbdxswh7uzp03uuTgGdIHn2wuD0A1iv2VeSxkuZRrq9zcuGHIodZDgMkoGxaDAHJ0fUAJ1HADhYqKYelTUEDCG6/8+r4vJ5vGhX8JCX4QwoYwhNWmo6F+fBInUAaFzfdeloOXnl38Pf4QjgUKhGgRz1z8FjbLtHJZI5yAALpUqFi0YFKywwgrh3E4v/UX6RxcEPHq0Pv783+d5+pfeIjVUBRhKv+ergmfsq0j7lBr0oU/4i23aD7zsPH1rr712uKCMkuDZqqBNe4vyhAbRv31QJBzN2b6gBPldr3sE3uxrxgoFET02DXATDaQiPMGDOefXu19+x+DT5yBA5E+6J0VxEOAKAPzDeTL7oWlAI2gFPtFOfu+V7dsae67bGqMPtE0ORGO9HyVfn/avfWw/G380knuZR5n5mqsx6888YjQ4ym+vkZ/Fz8zbc/2ANvAi60TxbVqGxrHqU4Td2cM77rgjftzoqzlKSbbPBwFoctZZZw0OrEH0pw99inyOEoyM4cJ7SJEaJPBeqjRRJMSaGgeFRl683EvKxyhBq+DGzPIMDYPtl6kVzVeb1kBfmDmlyav/18FIi/qMn2nfOmB6GLu+CbWmAS4JFPRAARyE4I9zMtcDDjggKL0qKQ0Kbr755pBSxWM7KOB9U8GszB5vpX9Kqz9rgyYotd3oH5PfZJNNMlXZnAks06929YHm0YQ2Wg2VdviiFOCbSikrxe49IdqNhs0jKjUxqqL/ImOlXd9x7+jPX5m9g+4pbQx1/drjgwD9xPMM3dYwP55WmtCOP7gz/240wbs9KD7vLBzHmMPbg1IWGRJofb311gte9TzumnoP/xRx0WnGdieaRW++tx/i2nmFH+tXRqZFOicf8g6tTnTkO33iH9Y/yjR002m8/eJMv+amP+PF6+1rc2gHkcY9BzeR7/l/Wb6nbX3oj0zjcOnUZ7ux9PK5NbS3peSjRf0PCtxz5gziIEFZ5KbPiLbOBy2MEoyE4UKIORRs0wwaeCvrvlyv2xwwA94xqXGEzTAAs7LhMRdEiaH6q8qsehl7nlFikhgrRS0qA75vEggO/RF6GCzBYk2a7tec9E1x49nWt34HBdabIqValSpEFMdBgb4p9KIEgwT07WLY1hTUIvrHf9BgFWFdNBeGmZQx/X71q18NikD+d3ChD7RPwfDnvc981wuYj2qJ73rXu8JhVOVxW72dfmN/M4woNejPPqhDkYJn+9ie8ud9nrYj3VN0GTmDFISMQVGIugwIeDQf88vzTv+HB2voN3BLoRokKBShTDcFe1Bg3rIXXNDqbIG5DwL0S1FGU2jOWliXIpmWX5d+xhbp3N6Jxnq+X/zDuqN/e9r/jalJnGgbLvRpXHBhDMbaC2gPDUc8Rr4YeWMrLuM6kGn2mvkOCvR91113BV3KmeVB8hU4VuSpqTLn7XAo+kFfttaTCiNhuAjvHXjggUNZA2WeKXHDALXFhdqvvPLKRruPjCgvbG1wfzZ+04zV5KKyFhm7Te89JtgkU4+INUeChNLGcNC/uQ+ib2MwT0ydMunV/wcJ5qqE78ILL5zts88+A++fAifEbe6DBlURHVyGA3+R9qMgRhu9Ggyd5uLCMx5w6TuUHAoA5cKf98bSRL/Wed111w3RZGcRHLLUP0EXad+cm4K416y1fuW3847re5B0b28z0Hhgm1Ro2vFX5whEUyN9DYLX3HTTTSHyZr81QVudaMYVAM5efe5zn2t8nSPO0RO+Ds/SdqR14e1w3iS+tY1/oGl9ojG0NignmP7N3VyNwV6Dh6b2dR7f9pK5c7iYO8Nx0HsbHZqve68o8U1f01FE95dddlkoAFD0XdOfcbifeeaZTXczsu0P3XCxASjvg8rLbV0JG1JeetOlnlv7jf8X1qdMfuITn6iV2UdGg5FFRY2iNCghGhmrvilp/rzHbH03CCC49YvBMlgwukH2b45wTqhEoTZoZcIYCDeXPbrA6tJLLx0E6l/Vhzz4QVTx0zH6QufWGs0RrPKQ8ZhB0H/sX98USClcolw8ZeihafrXvrmLMqkWR5nEX0R37Yem+7cG5kmZgXvef15ge1D/1qAKGK9zWBTjsmD+lCr7bhh7ztozGKNx7P/+jMt4mloD7ZInzpENw0mg0pjIi72O79YJ5gZ3cV/DZ16m+ZzhwIiJEZg6+499W1N07C/275V8QePwjucaT93rrM3YD/z2sp/6xYn5wy88G0Nch0jjcGGcTdE5nOIteJoqW8PQ3fCwNddcMxhO/eKzl+c5KBTVgetJhKEbLqIOqiQME84444xsu+22G9oQMDppNKusskoQtkMbSB8dYyY2s42EsfnLC+o+mq70KGapb15tQgxjb0KAdBsUPFhXXm5CrG4B1q1/3+uTgJGWSJlosnxpp/GYv0PkasM3CeZr/dGhNc8Lz2233TZcRNZE/620j+bQIBowFu/33nvv4CBRxa0JYWMM5kupoUzklRrG0x577BGqTsmPRgfG6Jm6wdwoFSIt9qD1iBBxYV/6gxefdQPjdEdC2fuFzE3aChzUAcboQlYRtLJg30ljGgbwxG655ZbBaGxijbvNifK+0UYbhbTFJu/PaDcOc8Zz0KB1QGe9gHbsKXJMG/7inu6EV/SCBtE4GuzXYZZvr8q+6WXO7Z4xX/OHz4jTIhz4zHgj/83z4HZtV/kcP8HPRBxWX3314Jio8nxdv8VDOQJ7pa1+xyEdmYNCKeZJhKEbLryRZQVSUwuE0fJKDjLnv3UuMS9eyWQlLUcdMChMJDL26HWpm1GVwYNx6J+AILAIDeMoYqxl2uv1N/ozjuh1w9QGPYY4djhxnsX9Qeuvv35QJuN3g37lKR9WOmac68MPPxxSp9BHv9BK+9bZXzel5vLLLw9pDc4goNV+wTgoCfqOKWjeW/siEPk49NBDA69zoFRExjjqoFF0z1Cn1ESjSKqUssPGmAf/V4FNmWApNpQ7z5lDBO8jPn3HAWBuebCW+vW5aJJnKHZShuxBrz6LkZ/8s61jMybPwoXnfB9BH4qplE3p1Yb0OOMfBsAnecZRUAed9TIH8uyEE04IFZ7cO9GOJntpu+wz1gFtWH9/3neidd+hA+tmzf15348sMW/9olW06L0+Oo3D/PxG/57zF58rO/e6fhdxaG+jK2MaFlgLzgN3ZjlaMAyaMnc44Qga1vGGiH8OCgUJhoWHOI5hvA7VcHELNKsRkxs28Ijyqg0blPGTFz/oQ8zd5m2z2iB5QwUTG4ahYqzGgpFRkgjnyNi7CYRu8+zle33CBcYemfswxhHHDi9KlbrDxPmOYY6FAJ42bdrAC2BEXORfGU+qjPUC6K1IqSmjhOT7U8lwkUUWyXbdddfgke9lbfQZlaGovFcRXmj0lFNOCVEw1aB47eyhKm2YU6R7RoI/e8BnDACXZaqeyHDm/Wd8AEaB8ze+8woXjMrddtstjMk4/HmGoUdGrLHGGuEOrPy9DMbqGee1GOb64QRzdw/c7rDDDsHjv/XWW2fuWVhppZXCOZt2Y7NfeHG1yZOrcMqXv/zlELX4/Oc/H9ry3TnnnBNoGd7bgfHz9g8TVB1ytmpYUZ84d1cAKE971FFHBVkRPx/0K56I7ing0bBGq/ZSXqb5XZRpdY8RzdojrcZI5AHx+7gH/LbqnqxrzMaEx9jX9gycDBOsmbNTzrO46HeYgJe5M8m5vWGCdXEh8aiVKh4EToZquBAup59++iDm2bUPi89gwLiGDfLCCVo3f2O2owAYGSYa/yKzHeTY9ImBYqgYGcZeVXGsc7zGYwwYCGE0bOZubnBjTzk3Jg922PDQQw+FfTUKuOExZ7ygmW5gbf0OP7DG/ryvg97saTc6U7RFCsooJ36j/zqVGnNyqJXzaOWVVw4RBe13G0+ke/NA+608k8LvdnUC3vfO2ah45neU//322y/QqWqSa621VogM8GDyIOrb3hbh0I5n0I5nXF4awe922WWXUAaasYJnSjl2QRu54juefnngqg6JMIlAtBsbw0UVONXgrLHfuY/HuShtLrvssuGS1uOPPz7gjPe8HTAWzGGYINrKYBDRGvbeE31iqG644YZDS+2JawEX1o5Cjtb9Hy2haX+DAn2ibfvDWBhU3uPfvhsW6NsYjIVMK8MrmxyrNREtwzeUfBfBHTacddZZQz/eEHHAceOszyBpN/Y9zNehGS48UqxWRDkqwHPXq0e27jlganvttVcobToKm7Xu+ZVtz4YkXDBTf/BSh/JYtv+i3xkTpY8AJPyGzdyN0Zik0zirRVlzMHjYYEy836I+owDWyb1NVcpXmoO/JoAizlmisiG6boWo3FCC/flNE0qN+TlD4g4EF4Sef/75QZlqpWu/Q/dRqSlSiI3PmjOGFCTw5wCtCLJoC8NRFAUUGS4+14ZIiUIS5myPEdAutEfohAAAIABJREFUC47z90qZcWM1A4mSJcrwyU9+Mnx+zTXXhKgjI8YBfYaLQ7ztxsZwUUrYbwF8bLHFFqF/cy6bKgYnDJemaCYMruQ/DDlFOUbB+WUdReHQhXUYNn7QD7pCy/ZWpKuSqO3rZ/qCjyjT4v6Or3GfDxJHxmQ8ZNqg8dEOmcbEAOdUcc/fKNAxnrjMMstkt912W7thD/RzjhVnbRi/kwRDM1yE/QmeUQIpE+5B6BUI0NNOOy0cDO21jdbnCG/e80HdNYNZXnfddSG9guDjtQQEupxOVdDKAMWh1xvSjQGDoDD4w8j9f5CMvGiO+jceStKoMHfjxOCffPLJbPnllw8KmvGNAkTnxDDPjrXigfLLuBs2LcVxOazPeJGmGmkqr9REJSb+vulXqapSphgb0sko4caA7qNS02rQ5MeEFvH1/fffP3hHOV1ElRjVeIcoU0xt8B2lxEFXTppY3pNCqViJVDFgrfbdd99wZiLyBL9hlBgjY8EYGTuije4UwbcYIyI5+HI0XNqNzW8dKI+ONIYLYyXyn7KGSzTq8jgZ1nvKFZ4A99ZlFIBjkKLlotQ6x4RGiuRWtzkbA4Udz/Ra55jyfWsXnUb69b6or/i7aNTE/d8Uv9JfnL+xNdVPHhdl3sMP+nXmV5RzFI4TGDf+KL11VMZjTPS0c889twxap8xvhmK42Cwu7hlWlaN2q4cYF1tssVddVtfu962fRw/i448/3vpVX//Xns1CeNvQTYLCAJQJt5zrl5cUCGUrSVqmbDXmp/ztcccdV5oReqZpY4VSQTlSlaQIjKGo7Cp6xdQpll793x9mQRHi5VV6dRiAHnjspbmojjdKQKmk8I0SUOLkBUtfGRWQzmPPEUB4SKSxYY7PwXmpqnLK0Tc+QMEpo9i430CkRblUwBvovQPvHEOMBHtR9IOBRA44jyF6ggc4U0K5zRsu+VQxNM+gYoCi+ajkSEcy7naGi+/aja2T4WKvM5LwBgAHRXjwO4aP11EA8sxZHXPDu0YF4hUA1okBWge0k1tl27aejATjQeedjPMqbaJN+9mf92ijiHaK2vTbfp4vajN+pm3zRBfmXXZM8fkmX+GK7JDqiHZHBeAIT3S57yjB7bffHrIs6qDZUZpXp7EMxXDhGVH6dxSBMso7VwUQDI83a3y11VYLCr/nMQTVc4Q7WxlDfMZh3TIeMcJfuNRBZ6U+mwIey9acSczcGHkui4Syz++///5wyNZ7c42GC+ZojtGT2Wncnot/nX7X63eUJ4eR77nnnsIm9J0vu2qumKg5tDJ3v3V+QzlvCpM5DhqMiXHIYy+Pf5QAfctJHrVxwZHzD8MuxIF+4MgaojF7TIEQqTRSqYr22aDWN9I9pUZUhHHO2BMVwcsoU8bfDnivDzjggCBMHazn9Rd91a5KU+YoZeywww4LB+E5SBzipmTbS0o2i37kDRdOG4qMs3/2neiPdXQHF56I1kSnja2T4dJubJ0MF/PkHDA+Z3KklMFDK+AToxLtjGNzoDmeley0ZvH3g3qN8sx6R+dYP30XyS17i4EcwT5DN/Cgf/uPvMK7/z97dwK8TVUdCB8VcWEbcAMVWURERBaVTSMWKEFMZAilhJ0ooKC4ABEDgluiIRKiSDRGJNEoRhNxiRF0XFKKjNmsaGVPHJ1Kvm/M1JeZSlVmvsxMJfbUr/W8732b7qe7n773efr/vv9T9f8/W/ddzj37Ofe2a4Hf0JDgVuydcl/cE3wZn70C13DIlKEKPsT3XuN9feGS//SbOjHGvky77jNWtNrHx0sOdenbzMd6yJySGeve/N6ciHUlB9HO3ODQQw+dTfnaKnCzFseF4F9V6dNYJBJson1DI7KEbvOUHIpYOYQHFDmhRpRRdBBTgq57+sYqgqbEzjMxlJjkBMLMBlolGjZROj1HuRfjxXuCZP/9968dlLRf91DoNhs7vYfjRzjGAwftG4IH9fM59+rogwBJhbf3qVCBbxty47vUcWkqLO35joPG+GgKd21bN1Hb1AkjzMyvzXHRBsdVRD0nGIsyLJueGXIlHdllxy1jpxZ4jsDAUIJAec8N7rjjjjrLoZSGYbFKCIelzahR7icr4phdz8TBB32GD37DM2EUxly0hYfwDkeAvAR4Dy2nPB33eNUO3tSvsXKobJwna8ntMdA1tkVtMIIFqFJjOK43Zt+TI3OC0Geep7JqeurDQ+gzgRdl2l3rvqidLr3l+zvvvLPWS+FMCjLRw7LjMoKcawFU5YsXXXTRlnIxdK7ygh50MqMIu2whOR/PouLYcMrRtz8BS7TsNDx7eULXLxr7qn6DV3SJr/15vwyuS44XP9OhdIbs5pwyhDHv17/+9XVQJT7P6VWW2tHIc1vXUjhaueNCgDK85yZEUwQrSxAN7AOKlPJsnpLzjW98o476KbEgJJRZcQgY9V33hPLu69PvX/ziF+sou3RqLiDo1R9zwjiW6ko9fyOMO8aG32RWAggb0U24ShnG+6uvvro+b13E3ZxFUSiOXCAa4wjU9Jk3saFWH+ZyxBFH1EelcppEsRkrTYVFSFJsfudkok1zT4U7g8oJQxxQWa8TTjhhy16fLseFk6Y9uDQOyi/F0bJ4gHOlNRSrB0vC7dzAPAlRG4PnCtZGhH6OgHZkEPAWYzgH3SyaJ5rC/20OS/M+QYA4VIBhJ4DS58A024jPTcclvm++mr/xyUoZK/BK9pKpcwA4CAN5DuNJx8BAp4vgb44QjwCQPSZ3x8AivbXIcZHpQb90QgQZOSBOHiQb6JegMadIhaMi24ce47N79MNpiYMdxoy/5LXGCZ9w5C/VaSX7Hdu2canCsZfXM67mCGQj22CMnbbKeeBtAfe2TPAqx7GqvlbuuDgdZt1lGn3ItY8DE4XR3nU9odV2Sg5lTpClx9FS9ozkrnvGMoSMkLp4WY5cp20QdNam7dkfbY4LvHh4qNIPmRXnq8OZdihKkSvvQwE4rSgXaNfD9JTXaB/jigSrYeccW5d77rmn7i427Iq0NRWWSBnFxfAg3JWkOBI1QD9q750wFJFW3/kDbY4LHIjs2QjuOsoOPUzNvBDwFKt9B5zKuQKlLjI/V0MJ3mQKZavQzhwBT+Nt9OqEuKC3XGPV3hSjBq/g5yjVYniMdWAY+jJzi6LTxomfQq6k81fyaeP/HCD2CsxhLM0x0DmMGvuC5krvMm30mYCHcY4BNNKmtxY5Lg6gUJ4IUgdagEoWD4Te4hw7blvGxYloaF/mjYMDt34T1HOaIz1PV64T4MPY8aO/ua65cQq8yWSMPe1x1fhVtspWmDM4PKlZ5j/n8U4Z20odF4Yfg2ZdG5nHIIoAff/737/wFiUnbafkyAIQjOqiAxjD0tFd94x1XLSL6TmCorNtpUrR99DXLgXg/i7HxW8MD8JdZuHss8+uHanY4xJCVHQ0dwSeElHfzlFRj2z/inHKvCg/4CzIsChz88ohbVNYUcJmrOkmYHNDs55JIYPTBm2Oi++kvBmd+lVScOCBB9YOTFsbfd8ZF8OIYFKuJ6M3VzBW2TYCdM5gnHA55mjkdcyHEeXgBQECjkYOMHfGjPamGjXuF7CQ1UTzsli5xqltDstYhygHjsa0YZycdHhdFjhhMmz+0izysu0175MpVk7C6J4rWOfY50XGDcWn69ocl09+8pO18x+ZMJkTwS32R7rXMRwXD0K1t+r222+vUYT2BKzoNo4V3aFUTH9KJQXHBGl8RvN4VGUFB2YZfT7XdSkxLjiT7XIgCYfA+7mCsSop/OhHPzrXIdbjQscCFFEaP+vBThzcSh0XGwXVgOYAqVzG0fe+970czd2nDelrhvgi6Dolh3DjUIjeUxRKjRi/HvbWdc8UQSfLIEMUm1kXjXnRbxi0TQG4p81xMTdlS1GupIyMMBeFWoXjQrGcc8459TMiGPU2/pqDvTmiYRwbTok/TG0ObQpriOPSleHQbnOPi8wKPMiORP+yOsY7FsyH0uSEieqhpTkDIwEtUuhzB6WW6AeO5wwMWY64Uhq8NtfximAz7jiETuCaknFjxOKXXE5QyfW1JiEDl+2HzJChl7nmYEwFeCPLv/SlL9VNKS9mUAuAzJV+Ys70mayyh4AOGatr2vQWelQOJrDGKTnssMPqwFqX40IHCy7SXZxR/RsHx4VhbW2+8pWv1PuzOEBO+qTrZF/sOQSMRteR/ZvQjgG45fip1BAonDuPs+fsiZz7OGHbvtc4/bAd+9vHtyt1XAiOrlOGGMGyEQy9VAl47zslAQRQCDKfRbJLnjxhvIuiXxiw65QcAk20XSSSwpBxINSa9yh3YmSH8bwsWdkELvPCYaL0l4EuBaAtRr89Ho6x/qmf+qm6eUaqk33st+AQwNfrXve6WjmuwnExCOUA+lX2AwdAnadMDGUN4HxZxwVO7HkRSUs35dcNd5SKoWU4uuGGG7ZEtOEvIn9xb9+rvjmDcI5Ogvb77lvn76KVaGEjgL1nczsauQtvjC17q2SCOa9zpgWlkY7BdgrYm970plHOtnmR+XhoznOMdTJGDhYZ0weuDR3A0BXMSO/znjxtc1za9CB5wjmEKxn3VD75rvnsGRkxz8ZYVj/0zS/n75wI+sw+vr6N2vDa5riQufYY0lscaropNud3BbDYJ05oki2/8MIL64yNSgFro6TJb3QN2S5TQM8LaimZFMASsBJgom824b4YgEdZWQ7hXA9oSkeNtpxySI5tBLBNwWFJG8HJmoLPlTkuIj9PecpTWsdqYzRBQcj4EwUllEUyCAcKW8SZgazcR3kHQeUzo1JEpMshau1w4JdquNWZ9wEBmSqNuB6TEmwi5k2IewhoQnXq/gftU4pO9yI82/psjiHXZ3PnSK5jcyIDAH1wDFNmVb7CYaRMlIpRWnDSpbDggpCKY1fVW4czyWHWPsXPGXUoQGTIKChPGxdlFu0I4DxZV0pOWzJuY9eYEyB7Yf/ARgD4YySkJZJzH7cHFDJINgIwOGWZRXoFeeYOeIDSVx4ssmovwCJAP2SmP+83ApA5aaBt0ZjJCsE2e/+8yug7YjoyU+bd5ri06UH7ngSHBEhE+Mk5vEcOwzPnx2dyy6mQjESvSsY2ilNonxd9RoaOlZ2xDpxKVQ7mPBSUB9MVbBDOnww+QJPG0abrtY/e9WUdN+G+GMAr5AD5FUHG+141r28EiQS35lzK1sQYuWLv4PYMK3NcOABtm7MZhSIUyshCWWF8wpwDY6M4xaD0hMHIceFVOilFlIPwtgnacYq5wRhEBnJmdSgh5XKONaZIOGRO5UqN7inzcMSkungnYESZwJT2NvK9FA9lwqHLAYSX/TTaHQLomCLjpAZtD7kPvTOoOUSishsFBCAOOOCAUXNd99zwozKsZcr41jV2ZSgc2q59V+saV1e/skUO6+DAiGIzrrcXYLAONVQjyMEYZvxyPmXklTEB7TQdly49yHFpntxof6FyYfqKDhAopEMF95QpC/KgGzIsl75ZxToq6aTPIoNeqk9rqWIBXtkqHpDKNkG/mzANA3SnyhJ7iGS6Nwo4DRRfbSRwlL4SyTE2x0aan7GuxHERAbJpqM3gsw9BRKVZEy/a7fvYdJ46Lga+ilIx/VC4/nIBYlJK4fQRWSN7aUooEU4LYa8fzswmbAwMOC0O3dsUOvbZFOueIaP07W9/+7qHMbp/WTR19RsJyEclAZ4ZMTTiv+75MVgEbDiKSi8dqLEjAcfFJt+YN4NYRUGcbtXmuHTpQY5L28mNHBTACG+Wivletsd+wI0GgpX0Gfopqc9kWpSGycIqAWvLrmw03K17vCpkPA/HHr2Sa5d7nsaqqudrX/ta7qaLticIp0y3aVMX7XTFja/EcbnuuuvqFGHb3DguysRExlNALEqeItthM5frZFzAqhwXykbWpc3pSsc7x/eEsDIqJUy5sg5znOf2MqZQzhvR+HeE6V577bXwaNu5rpO0utMBNxooaWGccnT7yrDmNDeKlXFoc64s+vZe1hC4p0tk2KPMVDZVGSndBtocly49GKVijEHBMPcqC4uTGzmzbY6LUqeuIGKMc66vHD17F5W7beqzua7StuNSScOIduLaRoPPf/7z1dFHH73Rhl2Pl80995M9pyC2uOMi8uM4T4K2DZSK2Xdw0003bZPaUsKBaAhu13iAoSNlw8FRgiN6FbXeJdNiytxCIbTNYc7fqYu/4oor6o2OG6WudM74LDU29C8SvVHL+2T2lFZsRBBZU3c996ORu3AbtBOR+67r5vY9Y1vZmz1oyppkvUpkn+cy79Rx4VjIuHMuIrPa5rh06UHlXosOQNGW54bFCUP0Y+hIfc71QX99a5Xu8woHsO+ezd9XjwHBCSe02W9hn+9GBFnhvkdizHVegtZKcwW3tkco7rhQRn2nDIk4cUJkB2wyJHClaO39cLKI76WIRaviye0cIoLbPgAbHZ0+4rsSYOO/fgI8rPwP/7CqPOblHe/4wd9tt1WVh8ovceJtNFv09Y477qjrm3OUxNgsbn/O+973vnrMsl+RCSs6iTU37uhntc8eaOkYblkGzxuYUqrDaDnrrLPqbOJco+Y2KCqbUO/rOFAQAQXvGUkOJ3Bs5EYFBp7gyEYF6+LITvv9cpRjoHXBmqB1+yPQeqkTqT73uc/V8t0eKbIlNqxv1PVoGzfHxQEfNs1z1mSb4gAQ1+Mjxp5A35FHHlkfOEO2tOlB5WaLHBftOSRDOSG96dCbCPqhFadj5aCTtnmu4juHDdiv44SqqeB5L2guyuw4izuCPpuKt677VckIOjvBbY58LBAe+iwOdUr1mXmZg0qbvhPtunAwh+/pswhczGE8OcewtOPCifY8Hts/7F0688wfvF59dVU5wvyHFV11Kjx9gnzX4AltWZTmqRzSw4s2c/ldLV/pSN1TnnJsdeWVf1adcEJV7bJLVe20U/vfzjtXlaoTR/EP3MPdhZLs39svpGbTQ77GGNucRQcKUKpAdHSnnXaqnUqfpe59lp4EooHbAzDYbdSk/AkwRqF5+pPp4wSmeJBVRMdDgSHhKGcnL5VyuoeOpXkdB01Zhod5KmmJeav9Fk273/3uV93//vevjVklbmr1NzKITIlQiVQxzskc5aH2kKB9GSXAuHEE9xxr3x0CIQDkyORFMrNtndC6vQ820JINDj+x/srQOOgf+MAHaudaEAmMpfW2Ptu+Uzosw628RBkUI2MVoB+8y4BxUteZZ55ZeSgkvMhoMXDG8HbbmDkuAnP2NdJzY3RWnx5s68936Joh3oy8cpw4iwHmhvZt5Lf2Ub4nIyYwNUcnZ9l9Xg4RESyyJw9wEsk3WVegtNpnR9CD7UWf1ZP54QOjS9E6muJ4z81gJrfJMw+RpHdDnwkK0L10GZ0miC5IQxbS/RsZBDcE/vEu/qe38YzKCFlXDjsZJCmgLG5uNsgi3I9yXP75n6vq3e+uqsMOazfam8b8/vv//9Vee91Q/dM/bYyjLdsQ5WHVb31rVe266//qdFaa847Pe+5ZVddfb6NkW8vr+c4RkwwDtdU2gi8CdamYGIFjdLXRmMDGcZ/jAZ2iiD4TWpSC99Ksc4y2LJpv/CbawlBhuDoK0XycaOOIZe/9MeYZVt6rLVeGIetAUDC++uBTn/pUbZw5AWQuQLDFg9OcRmRuTjdjyO+88871Z84bQ8hv9rRQgIT8Qx/60Ormm2+ey1SWGoez+mVurTmlhdYf/OAH13ONbAyD2txlHTkKH//4x7eU4CzVaeabKKLXvOY19f4RWZM+QOuMdc+rUorrmUHg/PPPr+dJoQOnLZk3uoAXwQp8P4TW6wZG/sNfFCxn0nz6ZNXI5rdcTlmrCHjAAx5Qyy5ZCvP0x0GVnfB+1113rRW7Us44MGZLIwPfpKViA28pdpmHK4qIex6JjdOCMGmAAi/QFYELgRrO1tw2/DLIOJlD9nk5edSR/WSveZFf5LbAhM/oGURgzvXo22+CARtxn2tKQH20TueZ6zK0TiZ4pt1jHvOY6p577km7Xdt78w19htbN7dJLL62N9Qc+8IH1Z4560D25T3469II+o+s2OjilkC22yy671LpK1hwe/HEuZRa957SpIkHvUdU057kPdlze+96qYoiHUT7mdY89fpCB2GiHW/3Zn1XV057WPueHPayqPGfv/POr6oILquq006rqkY9sv/bJT66qb3xjXmTQd8SkrAyCtj+Gccoo95kCY2wzYBjuQJR3zz33rBU7RnGdYw/BRmCCeqA//MdZI7QYcASf6KP5yDQQcJw+mSdR6Le+9a21kcvAoeRct8cee9QCQJSuLepNUcpMad/pcnMB81E+Yg6MNfs9vOeIAeuqhNM8jVtJj2Mi4YhD61pReZ83WskY5xy9M4JkmszFMbUgnHJReIaL3ygBJX6MO58dmTo3EFlUSqMkogs+85nP1JkyTpjjSs3LfNSkU+je4wVw2mmn1Z8dtysC7ze0bp8Bvmij9a5+x3wvC8CJ5MDgO05zDuCsmSPwvCXzkVXDt977IwsY+N5z1IBnQ1Hy6GQsoB+ZjFVlkbrGh9cdAMJIC3nNSUwDFI5TxsfmrgQRCNBw8OzNmRv07fOix8wFn5PB5JfP5mgfA30WDxlUwkefCeTAi+scLws2mj4z5tK0zsGVpWIHCObMAWRKVTNYOw5ZBFQjq2Zd6TM87jhy9CA4RX8pEXMf3pd9ZuxvNLCfOTJGMovmI/hEb3nvTxbKvkjvla8CQRyf58jj6RoMclxOPfW+BrmSqGOOqarLL6+qd71LCcUPXl/xiqo69tiqeuAD73sP/d4T5E/Httb3Hrr+kIdsO4dHPKKqrr1WmUT30L7znap64xurat99t71XedmnP9193zp+iVOs0iMmRaQoNMY4AhaZEGXD4AxaTkwbROkZh+VBD3pQfY8orogtxtHmnIEyI3TNn6I2d8pdRJqx1nWKjfvgxH4A0XlZBwYwAcnoF6UMYLB4WBxDibE8F2AcgsiyiF4Cc1oUYbXmDElOmBIiUTcGgvVnOG8EQJfWynp7ZlRk2ThjkYHyMD9RROvHePNnzUWq3edBoUoJrT16mAtwMDijsmYUcoAxclTCKafgzefcc8+tM2uyDrI1InLxrBiBDmVkDAKn1Zg3ZwZ4uKsTH/FKKVCaJ6KrDIWRNMWAdC+55M88I6PMMWK8M9opdXwhwyKiTwagAfPefffda1khOpmWW5Wae852ybfIGpLp4ZwohwWCKv4ELvzGiGfwME5F4s1f8II8nNvcGahkNzohi4D5WlPOubHLHCsVMgf6rEsvhT6TaeHQK43UPseNwdt1X93pjP6VpnWlR8rPyX14ngOEPiPPrDnZhB6G6DOBC0FaJ9q6h6yz/pG5mcP8+sbA5qCDzT0cM+/tcwPveMc7avmGDzhlApD2rwpYCcrgEVll2Rh7o+cIgxyXNLvyqEdV1ZveVFXf+97i6fzDP1SVgNY++2xrwB9wQFX95/+8+N51/9p0WlRLXHPNuI33eBieUgfO+7k5L5ic0SmiiHAJIQyPaT3llnEydtM4xhHVCweAF88InDMw7ggs+FDbrmzm7rvvHjVk5SyEdwhMEe8oK2EEaNOG2i7nb1RnmS4m2Dhcng4tGiPD8MY3vnGUYqbk1eBHCQYheeutt2YaYblmGF7Gbu7GLLvAoLdmfYYJQ07ZgSgjXkE/2lA7PCfgRCvtdNxzPH3cWAUtlAY4yc64OV/oF9/2gWwDXmHMidhRdtrRZmngIDoRCy9xpNDvUMCbwdP2OJj38573vJofh5xQJTKrTl50n+FuDAzZuSr3Jl7IIBDZdLzOiZV5w/uLgJGDhpSdADTF8Zsbn5NDeNI4BV04ZAIy5slRt97BB4vmm/5Gn3HYlUGhGc99mrs+WwWt2/+Y64CEFN9T3nNI6TNjE4RSzr6MPmMHpGWjc9uz04Yjeij2k0dQStkjGFI2jMfZe+w+elEWBr07oGVuMMpxsZdt7ENPPbT8xS/eOM6LbIrqiHDW9t5bqnX5ZZNlTJ03mZdvfnP59krcSci98pWvrNODjBDE6vMUA5vBJDIaTot09RwZAD7Vnkd6WPRZZL3PcF20Ds6uZ8gxgLVl872HpzGQ5wZKIKy3qNLUh6ESjvvtt98WY0YmL54KPrd5ywihdQYYo0aUeZkT9/AIYxgO52zEygbJVsgueJUtQveiyFEmN2aNzJthoC1zV2ZB2SkxWIVRp38nS9lYzTjhPCySV5Q6Z8Wau5Z88jk91Wvo/NFLlBBx4EpmmoaOqe865VDmLupsnURflRHCy1BwLbw5TdKay8ajp7kBfWZflAxq6DNZo0X00TcHjh19Fk6Ljc8c2DlCaVqHR2VIBx100CCDeJU4UvER+kxQZYoeVxavmiCcFqWkcyrvbuI1nBV0iQfs61nmiH/rS47DoxLdIU5PcyylPw9yXGQcbr992lA++MGq0k44BKpROqqOpnU04W5VHs94xtYxcloG7G/t7fGv/mpb5+XII6tqJlnVLWOPk1MoIrXry9Rwb2nsh28wACOG0mQYi9BxYOYEom8OEWDE2dfAkKfYpwJFxygi3AkAm77nBAS6iGQ4rSJnQQNTxmneouIMWfNWhuXz3ED5Vxw4YP/SFEAv9sAoJ4JPax318lPazX2vaJxTcyhja+OI9ymK3fg4DxQkXndQgdOqROxWCRxHR+LLgAgatNGb7xie5m3dpzrUstNKPkXjOS7KUSKjscq5D+1LOYi5k8Eyo1OArLTOdEXQ+9yePxWyzFzpM/w+FUKf2fsQ+mwuG9HTuZWmdZH4M844Y1YnK4Y+86q8K7c+C/6Zqz4TTFHCjMf9yaJOASWWgs6cFmXt5OucYJDjsmB/56i5fPjD2zovb3vbqNuLX/zOd251Wu53v6rKWflgH7Z9QeG4/XBfe/E5DemAElYTSbFLtefcf0HYR8pRvTBFPydQ+sG5cGoYJ6uvZGLM2OP4ZAbVVEGxwRO+AAAgAElEQVQypt8h177zne+sU+qyIoR9zjVXdiNd70+aPt1fMWRsJa8xV4YHQa/GnbOa68Qq+zAIeIpD9mWZaH7JuStto5CUg4m456zbttE9otvremKzDbgMKlkg44kjq60DA1Mk2oEijBDrnwO0G9la2Z+5gaxYRF3xulJg5ZBTAf7Qkj0w6F0ZlWzMHCD0mfJnJT85ZRt9pmTOnEX39TUnkOVfBa3HiaJzmTt9xoZxYE5ufWaje+izVWWUx+CV/gr7QsCZw5FL55KdssrofU6w8tFceeVW413Z1Fz2u8j+PPaxW8f2ylfmXyaB3XBcnEo2l20fNmshTH+xMTvn7G0SDsaSap1L1kVNZ2w4FYnM7VRRciLAHCJKfk618By2WPMSJQ9qjCl1SsRD4uwJmQPYHxF0TiHlBOtMoSsLXKbsLOdYmm0xZih2hw7YcD+mRKjZVttnZTkyGUp07P9QH74uEG13WpYyB0d1e8YQp2qZkri+OcjcKJmy3yY3PfX1PeT3KJdSKsWxyGXQ6NseJwcViG4LBuSmqSHza7uGERuyTSYsNziQJPYSWP+56DPzRIc7Iq2HA23dHaqTG5R5hz4j27sO68nd75D2Yk+tgExOJ13fbCIZSxnWOcHKHRfGugNMwoC36X0O8PGPbx3TbrtVVQk7y9wf/vCt/Uwtv8uJN5Eayr6UwaF9T3AmWAjXuYCorNrVUuUtDIXLL7+8jtiIwstozQFETJ0cZ7NqKaeCgRzRGg7cHEAWLJxV5/XnBsqNgSiq7QF2HIY5gOxSlC067S5HOWQ6LyVDAhReHYut5HLdR6OKRFpvEUhyh0EnK5Mb1MIDbZOhcDAXwN9hxHs6fG5wcqSjsOPUN5vY5wAixfYhldqDo/04RnsuD98ld3ZUWqfPnBxXUp8JwIU+K8FLy/CNeXsOkcArPqfTc4OAjCDsnGDljovJKz0Lx8U+kjmUwDssJcb08peXWyIP441+5vCwcZuUPZtE2UjOMqkmBkVBMZaorKdH5zacmv31fWasyzrEkcd910/5PR5oxmCcgyGrZEg5T5QUTJnbonvjWSAe7BXPzFh0fenfYu9DOKsOTigBnnOktAC9O9Fo3WCeInHhrHpKcgmwZyr2z+y2224rOWWsbx6x5pSvSHwpUJYUDgIDak7AoXKSXCmZK2Mr82L+6z6ARaaXPrP3qqQ+k60PfaY8NGcma1naWQetl3IMx+AAbTtMyGmgJbN+jtm25vRZPMNuzDhLXBtrLmAmAFsKBF/nBGtxXJqZh4n7iLLg0zNawqH4+tezNNnaiOenRT+eE7NuRzYeToQhHdVbEpSLlXpQ3dhxexCcOfsTRSkJDAeKbg4gcsKojLmXPCVFdsmpVcrF5gCi4Y5HtRm/5ElQjgWWXVO+MIfInFJQytZzSuzlKgVoy/6Sxz/+8bVjnLtsYey4jUdpnP08ar9LGpeXXXZZ/dBC0U8G1BxA1sszaASlHEBSCjzjhzxxIqNTy9YJDskI2RYP4Cs1Hvos9lGV6mNouzsqrQvGhNNs3UtkVGMNZJDnpM+MywErArCew1KqckI/nLY5wVocFwi46KKtBvwb1vwgXvtswpnwrJXkWW3Z18rpk7vvvrW/b30rexejGmTAe4CcjYalT4YhVJRkiVCtOwLvad828qkPVQdeEkS8bVJ3+MG6ywrsw1C2xdBi0BH8JUHtO4PZxmUnWq0THJIQRg26LwVwGtkcxnJJo3HIHEQjY97WoiSEsyLyue7yQPQW8/Yk9JIOtIBMlIjF2pfEc1/b6M7JVzF/+zJKgfmm+wNLRr375uC5PqHPSjrpxuEBpPZ0qSBY9ymCOyqto/PQZ0r3OHAlwRHinGN7PqaeTDh1nJ7DFfytVKxkmeZcDt4InK3NcfF8unAWnv/8GM56Xj3DLMayioNhbPGI/j7ykfXMOXp1tOWqNprFxmjMtu4H9dmDwMgqLejgWT8hYNTZr6LPWN/mq/IJJ+1wYFYBlHrMXVniOoHxppTEyTClM39KEJ/85CfXpZGee7FOcOS3h20q47EnoSQ4wcoDAEVBKfd10joa9+RwpXulnSjzdGpiPKSwNH31raGyMEcBC87INJYGEVmGowxXyah33zxWqc9kl0K2KU9bJ+yotO7UvFXqs9ina92VI64TBEo4rPYUliwTW+ccu/pem+Pyla9sNd5t1l8nfOxjW8dy8snlR3LGGVv7u+228v119SAyHILX3pPSytbmXWUryjY8HGqdwHEyd46E58yUBHhmNHLcZCAiMluyz662OQ+x5jYylgb1/sqlGI/2QKwLlHRQNAz4VTxQyylOgWeO0joBfTsFyelHFH1JUEoR87ana5207rkqni2jdC/XkdeLcPfIRz5yy9xt3l4nOMWQ06ZEtbRcN884BtzaCw6sA2R6gvbos9KZL4GQueizHZXW0Vqs+amnnlqc7OzpCX3mVL11gqoR85dZtMdlR4K1OS6eKB9Zh8c9br0oJ2djLCedVH4s//7fb+2vsM28cDKpoLfvobSCs+fB6Uae80GxrhM8MZ3AU04hYlESOC6Ei+jIt7/97aIbCPvm8bGPfayet9Sy0rXSQKEyoCj50kbzormkpRSl9zQZh8ivUgIGbMkU/qI5x2+xYR69K28pCTJ6Iu54nGJfZ9mQkqEwakqcINfE4ze+8Y36IZQOIim5n6bZb9tnD0ONua8iQEGuM+oEBpSwrAsEosybPivtuMxJn+2otO6YYutt3V/ghKXCIOglq7xufWaat9566xYedxTyjgRrc1ycShnOwuMfv16Uf+5zW8dy2GHlx3L88Vv7W1NwasskCd9VKdlbbrllC6N5svo6gTFZcjNbOjeb+sKIsGmbI7MusN/CAwhXVcKjbCjmLvq9LpDts2n8uOOOqy644ILiw7jrrrsqm5Z/9Vd/tTbii3e4oAPRcGVbz33uc4sfEsFhUzakNMvc10nr8G/zqn1lpbOq0H/zzTfXEXhZ1VWV33Ytuw35ntujdM2pS6WBwyL6K5NOvqwLVqnPRN5DtjmUYZ2wo9I6fbaqkm/rS5bEmq8rsxh05nhmh83QsTfeeGN8vUO8rs1xUe4ejstxx60X1wJEMZb737+qSlZTOGDJaWLR31/91Xrn7mQUGwzVJ5fcsGyWov1OwHBU7LXXXrvWiUuz2jCvNtn8S4KNq+rfPaiN8bxOUPuuvEHd+/HHH1/siNSYo43hhKuImOzLHED5UulMgAhYKDgG7Tohjsw0htJBCqWBMe/DDz98ndPepu/S8xYI4CjE3P/u7/5um/5X/aE0fTfnE0+TN/942HDzmpKf7fGQVfXsKPLcwSOlx8FwDX1GngqOlDwAYij+diRaT/WZoFSpI78D9x4jEPpMhnUuUHrN5zLPGMfaHJerr95qvB9zzB/VDz4UrVslKFfyTAMbmx784H/c4kx86UvlRuFgpXBadt75f1Q33PCG+sFJ6aks5Xq/b8sve9nLtihbRmZJiDkyHNcdkVS6FUbGPvvsU9SQRdcReV5XNFKNP8fUaW6Oxo25lzy6Nc1qiYSKxN99991rezChk9QY0550XtqJsqfEk9qf9rSn1XMuyVd9bXt+iaOZnaxVOmAgIHDDDTfUD8Jb99n/9lQ5LXG//farDj744D40Tfqd4SwgwGF1KEPw+6RGJ9zMWb3yyitrA17WpbRh40GfnAVP2VYqVxLgVk2/0jSneZ1xxhnVoYceWhuU6WEg9pmVhFSfyb54+KPM5nnnnVdnW8k6G8dXATsyrTsQIvSZksVSoPQw7BZl9et2UulXtO/Bwg5DWVUVRSn8jml3bY7L05++1YC/4IIv18ezSnmJYFB4NjJ7QF6ufRdSimrOpfFFZKT8nDsfAm/33T+7xaE477wxKBx3ref4hONy9NH/UG9UZ+AYzzHHHFNdcsklde2i039WYeSKSp111ln1E1cp31Kgtp5wOeKII6q3ve1tpboZ3K65OiGEUceoLgWUrGN4bdz14MdVbBJWAqcOV6kO2jr22GO3oXV7WzzjoOQzXODTvgJ7iDxPQrZN+ZCyFZmeE088sX5omE379kSUfFhcrO0pp5xS06DIuNroUqA00IlOJflpzNjf8573bFHs559//phbR1+rRCn4ad3PuNB/PFFacKLkeAQA1n08anOxZHjJXDgoedKXwEwcvFHCYWMwMkjZBOQZ50RA4Oijj66PWXfUOt4WDees2L+oLDXNNDZxM/WztYZbDxfmtHk2lHI5ZUv29DlJ0NH/xqVEk82hXNE6lChR3pFpHW456aX3711zzTW1PjvttNPqgPdUGpp6P0dFMAod7rXXXkXLgGUz5wRrcVz+6I+2Gu877fRv1Qte8Kp6gzSFR+nLgjAoGXoMHF6lKB6l6AnIfQYBT9gm6E9/+tNbntXBIZJKJPBC6DlZyqY2AubII6/e4lDssktVldhf+E//VFW77bZ17k984nW1kGW8ObLUEb0yAfaCMPA4MzaciZI6EcnGsFLPhPjmN79ZP9PEOeUl4M4776yZC5Mpm5oLiFrIQoiSlQA0TbGatxK53MaT7JUIJ0VtHpxQ0XXOQUrr9nWgI1k1gp7Qc8KYa0ttppXNC8PRmjv/Hg9zyDlwIpLKqF7ykpfUtG7sIqhoxZxyn0glC6KUhOHAqClVTuOpytZ71113Lf6MoCE0K+or2xXGZSkZYsOqeSsLJG/XfQAH3Kj9dqoYg7rk4RAyeebu4IfSR04PWXPXOAqZLqFTS9G6fgTbzF1Qauo+NrqdjleGRRaQCbJmZId9kd4LOHlV6is4Y54+K/vlpJMb9BmZLlBZApREMhbNm2NCZgm4sld+5md+ptbj4TiRr56RZjM1x8rpVwIIeFI7ZF2OEqcdmdbpM8GxkvrM+oY+K2UnjaVVwUCVFGi+pHxbxQEfY+a+Fsfl3HO3Gu/HHfePdWaFsrfPgoByIkoYU5wQCpfRYQMaIwcSGfacG1EOQkpEhhDjeYvwStm7hsHm6cHatoFOWRjjBZNzCkSfLb761P32+x9bnJezzhqDxmHXXnLJ1nk/9KH/WH3mM3fVkXEGpzQ7QeuEq4jKY0YOmKyI50JcfPHF9XUUBYPPw7akzF03BRxPTAD7k4XKreScMER5MhjNdS6KHZ4Zl+bN2KIwcwIDUSQWPim2HGetwyP8UdCcENEfDxXkJAStoyXv8QdapyApSw/bpMiVOKQlFSWO6+WA4118deGFF9aK3LhFJvWtbIuRw3EEBK+jW5V/wJM5mRtFL9JK8Uckf8oacZoYPA9/+MPrNZnSVte95iCTi64YK3MADxAT/BClLnUwBjktyISXZI/nAmrRzVkGIko9co6N0YmulWs4hndV5UF9c2A4k7l0h6xvqVJsc3/oQx9a07tg4VDgTArYfeELX6h18BVXXFHrY3LNmOkKToD9I/S04CU5So54hgp9Ts/TX06wQ+MMSjZC6DOHM+TWZ/QEWQS3si30tiCrChGBKdlWwVB2ClljvGmwlVykt+lvTzwnC81PQIlc52gvS0M7Kq1HNt26o5PcgEatm+AMuzJdz9x9jW1PeS6bkPwpxeP4cU6wcsflrru2Gu9Kpk4++abaoHIKD0GrxCUiKBiaFy0TEeAaaVoMT2iJZh9wwAH16TEiH4QZA1+62HtGGwGhXUKBAhPFYQxZcEqHY+D7Zz3LA6W2ji/n84U8qDtt+1Wv+staIBsnQ4e3LNXJOROdRogf+tCH7rMfwPz/9E//tDb64ImjF5mj22+/vbr33nvrdHXga8ir9LbaZEYHh5EyyQXS/JSmlCb851YiU8d5+umn1xvmKRe4hYtcQJkRpBTvMkdzKp+yF0NmhGPP8eCQUJZqqjnf119/fU3PvufMMvA9r4PTIgKpb86LzcLmpy1KkvCVAeIkcHxzrrlgAuMVbypH47jiL2OhlAl9gQaGiSADJY8HmjjCE7KMZID5m+M555xTR2IZ4eQA42EMRHTYuigtyQ3WBX8yyoxxFSVwQ+Ygix3GnOer5B4Xo80pNwDNlixNGjLfuMbejni+CnrP/fwowQmOP6MZ/ZYsQYw59b0KBjCYzZujGutOt+QGjgJaoqPx86IgmrJvPIsvgp8FJuhyDoksCx2mjJVevO666+rv6GlOsaALfUcOqFKI52iYr6ClQCR9j/7oG7JdoCfnQQkcE3sK6Es2BH3GoGXYcpiMD6/5znzZFkqMyGJjwydtRm/odRkYRiL5LHjjHjJbqU6f070j0nrQ8x133FEfjlFCn1lPmRb6rHQ5WsxnzKs9dXjciaVsxpyAn8m3nHZRjvENclxy7S/7L/+lqh7zmK0GvIc9fv/7VU0MMiUcCgKMMuBQqBVV3iL9Jz1MMBFoviO4ODsMHhGXyEb4nUPDmBcJ8V4E2r0yK7FxkKAQ8dWnSEco2vQZKw96UFXdffd0NH/1q1W1665b533SSd+v561lAsleAOMl0ClAcyfgGaLmQ7gz3gjhNiAgGYjul16PCPxNN91U40eEqC+NGBsNRYt47oTtVCC8rSVDGWMxHKJcZWrbue6ncI2R4f7Upz61/stRzmXuHDXCxNwp50Ug4yAKR0hSiGjSOjJAGITKqtB67BOhvK2v6zmbMhuikGhe9kXWMhQ2457zQnlqL3jAmhunCKeIaY6NjdpDbzZEm/cJJ5xQT5shL/ukRt28BBPQOWXL0bLvSWb0ta99ba3su9aAkUIuENAEqmwOB4TDAEeyNtrtAuss0MFIYnQwNHM505wyDpvN/2TUonF0ja/k92ToVVddVTuwDKgcGSzjZYjFs2IEj6znnAAf0iFoQ8aNc58LyGZ0/tjHPrauCsjV7jLt4HdBACVM+MIzhMgMmSbGLzrPua8ND5o7Xmegp4Cv4RtPklnoTqkNmUXvygwIShgfh0fpFEeFDiM/8M53v/vdikHqPvqd4xLOir7oQ3xPd+ojqjT8RpYCGSBOBrkyFUKfCfCZt/17gjIp0Nv6gn+6lJ0B6Gi4EGhik8CDYGqbExPtkYHao/sZ5OQ6PNIP2oILeE5hR6H1dM7xPvQZffCQhzyk8jDcqWDNBaJCvinBnhuoRlKmyZZk5+U8HRbdofW99957VtMe5Lg4kGWq88LmfuITtxrvD3zgv1R/+Zc/YOrACG9WpMEmfRFaEQwGtHILf4wBEVoZCQ6HP0KPs0NIIjKpMkabbA0BYQ+LyDQjRwRcewQAJc5ZYvClILmzxx7/siU7wnn58IfTK8a9/8QntnVadtnlf1ZXXHHTfaInhJBIujkR0BF9JsARJMFMuBNcBH8qpNtGRKgzThisjFVzpxhEtBhYlAJ8paBdhhdChSO/NwVjev2i95SoIzIJWUYrhcrBnCMwhiMq66hD0YU+R69rHnDG6VCaZe0Y6NLYTSNWH5xlez5kztArpRbrg56tO6eFIsQLlJ32IjsiEolWZBEYUJR+/GZ85mWTKJriBIcjE2M3Vo6x9WZsU4bLzlubBKZopHQ6o1hJGMHXnDtlb66cLzQXfaI1yvwXf/EX6+ySlL8xUfpdICKk5I+SEv3VLhkiosuwkoE0FjQYYN6ixBw5c1eOMhUYSpxPTpk2OWyLos9T+1vmfvOGBzxpvW0sDsNqmfbcg47hEh079EBwYt1PjW/OxZwZ7UqKOa3GONW50h5DybqTGdYc3a4D4JuhzGEhe5p8TiYIiAkgKWUbU87VNR/Rf+3G3h68jnfJIPKMvMf7Pgs00Ff4VMbLvhvOCH2ER2VIBI+AawQVZF0EOeiv1FlxDd1FnpEf5GNbkINe13/oM/oP/S+rz4zLISfsEPQEz3Qx2RtOUoorsln/5AGnMc0Mwx080Pey0PBBF/SNTb/0OpnGoYNnRrpXn+HfOF23vdJ6iuO29zLyeBGd05WhW9qu7fvO/fQZWoJ3AfC5BV5jDmibPOLAyA7J3E0FdG2fIrqH0znBoNEY8wEHVJXMwTJw771VddBBW52WnXb6frXLLi+pPBiNkyHNS4jJPIig2OfBmOB4iMRiSmluBgkHRCqVUYPpfSa8GHCEHQPQ/QRHCow4p3qIlhCIjEAGPefFMZYWmoDV7rnn/nz1sIf92xbnxfzPPHOc88YBcoBPWh62555Vde+9/6eOxIsg2b/SBEaWqAknxSuGCUCcolSRYVJbTAkN2QTLeESIoo1wZe6UC2Ur6iyyQxFxGhmzhB+nj2KiWIYCY80cMD1ipzgon7kDOnNsKBygAxGGsY6WexnZoq/mLoNAGaE5G+XRsTVF2+gd3cuYoFXGn0yICKSxoGMOt2gKYRlGMJrRDoVFcVLy+k0B/hmnjBmOUFual2NsfY1FWYU2GQ/WG+0Zz1BAf+apTMK8H/3oR9e0xiimVPFlG42iR5koyp0cSB0U7QlkkAecNiUTyjH6yiWM2b1w5no8j6eNQVv4heMEd8YqMsfBd33a/9C5u47DJPrKmAJkS3NNxrRX8lo4NW9/1p6z1YwaD+0f3XoukSCQyDE8MtLmCGSnsZq38imGJJm3DGhLGTJHAe7wkkx3rszd0DExYJVDCbron45rgsCAo6DttzB32XTZjmX3UGifDHOkOjmJHwUZyU5yLoJi6Mp4GNP0DVkjqEBXo8GUj+k42QkykT4mC5rOin7RGzuAbHR9l1FK97AN9C3TJiNDn6F38s38h0LoM9Ud8EefsS8CZJHJPaXGbQDPMuH0vbk3TwqFBzgj6zlzrhWwagZ72tr2nesYrPrnBJKT/pRnb0+03jX/5vfWFm2iIfpHcEYVAsd9KNCX5Bm9A4ehz4bev67r2G7GKzjDBmC3hd0wdkz2mwnwoE14pEPnBIMdFwa4hzN61Mff//2wKcjSeLaf+7Ya8N+vzjzz8zUxKU9xCouyrzCuIByyGI0cDELHxnpCLRVmhJ1Mi4iH33nDhJ4IbWQrjNJ1DESCg8BpGlAMNBErTK8dkXLO0Fve8snq3/27/52Mu6p23rmqPCBX+dh//+/3xYFy+y98oaocUOVksq1zrqq99qqqP/zDrfeIEBN4XWUL5iCKaX72KzSjOhSDqArDTLRdhNncm/Pb2uN93zFURcfdZw3MmzOkL4KakOa9S90z+CigtugWhc0QYPyJUNiY6ztZG4wksrQRAM7ND00aN+cO/TAKoryqOY9QwJwUUWyZEgYz3DnFTtRNptCpN86bZ+QykAkU2UGRN9k0hjWlzHGxJqniEmHkXIajwRhpRlWNiwITvYN313QJa3NxTZRLBb+EoCbsKXoOFMfK+yYQ7BwE9OeAA2NHA4Qmg45RE8DIQMfotQ2U66EtUVGOVrqnzfX6ocwp9Qg6UNRpFLOt3fQ7uJDyR9fkATpn1ChxIQNEzSmoVMak97e9NyZrJeiBXvyZx9xBoMZ6AJFjdCszNxQYX2SGV8cMmzf6jqj50HZWfR0nQ6kHGcngVMYpgz8U8Cye8SqoZt6PetSj7iObh7a37HUym06cJKfwe5sBTz+QKa4RzUfXeJNu5VAIrtB3XTKibWz0JF4R8DJ3BiLnz7qTkwwnPIWHBSw4KnQuB6tpsONxvEg3qILg8NIfbbLGupFFMs/Gn8rGdJzkRASGQobAje/Ra+gz7dFnxrlIn9GD9JnKAfqMY2HeqjxSkOWAa+3BexuEPqer6do2x5E8U64rmCOwoj3GZ9d82/rxnTmjEZHyjU7rXXNc9H048GSc9eKsoiu62P7LNhoLfUZ+02euxRscQEFMNDx3ECyz5viIXjIPtDuUftA4XY3HJRHgbrfddqt179zmPshxefCDtzXCH/CAH2Qg6Lo/+ROGxQ+m5ZVtctttVfXCF/7A0E+N9513/tfq2mu/XRtdkEm4iEQT/ox4Xh2hIL2sFjeMQogM40e0hbJlxLmOoUiREBgEEsOQEGEsikojXkbfomiqCJB2nYQEED4j68Mf/g/VUUd9ZxsHJJ2Ph6AreVTG/4QnVNX97rctnuLa5z2vPVvD+DRWxh/h2gbmTgiZi+xIs7TNPebOKBPRQXCYjsEZzmBbu13fmTs8UiYUu6g9wPwImeIgUDknohqiWmqIGe7G4bQm10UEn8LYSMAYFT0UxYR7Tov5oA/KmVHPCQZOrFEeQ3GHkBR1JBgpUMa7Egn0CTiijHrpbEqdsc/55hg2jT60QblyJv1xaLqi+BwR0X60RDATwl2ALihgmbsU3BMnszDm0Zl5W08CTVRV+RMc4C3Grvloz3WyNowT+Gs72UR79tIw8tsUh7Hgd7zqOoGLtvmSG5Q5GjRfWRSR/jEGWMzbeBkuMkzm4CQwa8WBYjgwNhgBMV70QFYwaNSdu4fxB8gvSm5uZVIx17bXcLgYdHBqPZUVolt4DjqCE9FuyhsOKESZKsaX6LZsE6dyo4B1x+PWT0AMDTjGlkMLUocY/+IpOJBlcQ/apE8Y/7LTU8vthuCNbCXfyR+y2HvftYExq2bAz6kOsKZ4mbNmHpwfQLbhp6DzaNO1gibWnHxBJ+QWurAhmFEv8MIBwYf0tz733XffOnjTbM9YXB8VE4IrMsjN6/QP32wA2QM2Ab7zXRcw0MlJDnibLuUMKB/C6wAe4YDOZ6yGPkP7cVCNzFqUENN1ZLS5toHfBKA4YmE4t10Hl3iGfsUzzYBk3EOekWvalClStRB7f+KaIa9NWifT5k7rQ+bVdw0a8EBQa6xqgY70XvAQXQs80GcC5YJY9BmbRdDRdWgAvdJneGAjAXkU9hr7jZwQ2JfVA6l8Qx+C574T+Dd3PE5WKDuTTW9z7teNj0GOi6qr445rN8rDOO979cBJ20kwLsOY0lRSgdGlsaWwGYRNBwNiCTvXIjBRcIaXz9ppAgVLSIkec25EaUSlRDKaC0AwMZQYQG1lW9H2Rz7yb9Whh/6fTgema+4Pe9j/V/U9FoVhpG6WcE6VTPQdrwhJlJBwFn2SEm0T5IiUkYgJKWXRVYQJj2OBM8R4lB1C0AwUTCFq5LNxhIHLIKeAOBO8xOEAACAASURBVFhSjMEkY/ucw/WYmJFmbcLA4SQHHpSaAEdHwwPjnZLxnoAIQwYtMwgpaE4KmqWs3Gd/BV5IgRClGDme6IHAbTPe3QPXnGtGAOdKzX6XIeN6gpyDjH8WZeUYaSDW2DhBPMwOn2jDXDlrxgFHNuimWZb6psY//GduMohw2wXwh+c5SHhDcKIN8AQcUOponbPIkW7ite3e9DuGKMeLE8npkmWkyBgjDPlYY+P2nlNjLpxWnwUWGBpN2ZX2Mcf3aJOCo8SBDKH5oHU06701RpfeW2MQhq8SP+vflv2rL5zpP/zN0WTEcJYZ5eaH1slUa48egOfR+A1tyx54L9BmvUXaSwM+4RTInESGcFGf5BCHiq6k35rA6bBunBC84s+cbD4GsibuF6CIjLlqBPrTdaokOKzkBN0NJ35DA9Ef3QO3nCtGvOwoPnY9vU+GtOku/ZNhZC/5h9/olz4QLOAIdJVrxf2uM86YS/C4shhzkyUSqfZeNskYBUnpM+0PAXKL3dE3bvKYPlcpwT5ZFPBAa+iPY032CjC4nvzrgyatC36a3xxpvW8uy/we+kwwzLzt8wJ42GeZSGvgPZuRPCPn8NtGyLK04QRt0VF4lT6TzTS/OKLe/HxGV6Hf2MGceN8Hj5MBXXza1u8qvxvkuBiQYMf73vev1T77/MMoA37XXf9Tdc01f1vdddd/qCNVDDiCjcAUGQqAOF4uJ0b6mRAisAkwBoX0VwhGr65hHPsTjRFB5rC4nvAOpvZKiMSRqowUfRO+hKl7IrMTY+l6veaaz1Ynn/z/NvbrbOvQPeIR/7N67nM5LP9PddVVV9fj7mov/Z7xS+AtEmCuN3cGBwEkGmUuXQar7wliRgjmFL0hLKM0KO1/0XsRB1Efyh4op0Pg+icYvefUMJ4JWFGKRYbpor7m8hs8i8pRXCKTyrAY/ubqWEQQER00bb7KjZRlcD44KAwidA0faRSOYBHV58CgVVEeDqZ2ROO6nBV9GpdIJAcADaD7PuHCaXW9bKS+hwCngVATjYw1NneCXqmD9yEIBRDgaYjhbvxwwtnqM3jRL3piUOBT/VAsbYDPRSQZ3WhdBBmehjox4dgz+MyNwQqcNOezNQ1jPtZfBF7GZepG77b5rOo7tMMJI1PM0x9HhVz13l4BOBet9tn6K5dSdjSmvGxV8xnTTwSKDjnkkHpuDGURcPNUIgFCsZN1eJzBwwhqBsHG9DvkWjIaHevPYTRDaIwMkSEQ8GgC/rCu1pkxRw9y+iPbaKM7oIPNn8ETAQpyX5RahgXt41/yMHRssy9ygNMiW4uPOCvwukhOcajofM4NmdOViUj7QpfmYpyLAo/pPd7T+4KfotEg9v/omzFn/oISdCcbha3hty7Z02wfj8g+0el998CJNbF2/rxfhCfjY++Q5WQ620g2ocsGiLEtS+uqA2T74YBeiixstLtRXhnlaJxeiDW2zgLdvvNe9Q+Az0VrsFHmHGsua2J+qnGsn6CFz+xeDo73sq543FH5+L2tlHFO8x7kuDCOlWoR7I4Vvumm/1i9+MX/tXrmM/9Xtcce39/Gkdl99+9XJ5zwL9V55/19df75v1qXxhD0BG8alWkigSIQSRDZlWpm2BAADJ0u8BvGtQ+GcMfMzZKb9F6CFlFSuFLaMS6GWR9YZNmbuPa//beqctqeUyDpiS9/2R6Df64dFXPF7AiFgcowZXTxYLuEvf5FlmVUlFcNYRzXmwvDTjZg0dwJNtdbR0YJ49M4l1HAMjEMbEwPCHiKlnMpSqEPRj7lRbEQxpTmorn34b/079YVvcEJRWvtZBLg1fwYttbPWiqXA+ZrXUXwRCXVkxKODGZlkF1Ki0DRLqNB2Q1juc+Ihzu45dyIvBnrEDB2qV9jHAoUFDoMGtQ3h1fpGkcAzTTHy5iReRgKnDnKnRLuA+PglDA4OIOU6CK5YLyCFRwNtG5thjrT5ud6xjkQOSbYzY1TyjDksKIFThVawYMcJsoRb1j7RePrm+86fqe0wnDUP0Vm3qLzQBkdJw4NWg/Xby/A6JW5xFN427xFHYFIu83tjETQZyDWF034J4sjCCCDTZagpz5giCnl5FSYC7lDHpP3oYtkJTk0aJbc8jvnk84VpMDbMrHm7o9jgq45rAx7PO9+5bFtQD/iZf0wwOkHQRXZOZki8r8N8BuZik/JkDSY2XZ9fCcrS9/Lsg4NPLrXteRhZMV916bPmrqK3GE7DAX9OCClzyZJ27Ne9KYgDVnTHEN6rfdwp/JCIBjOraE2FtHoWFrnrKMFa0sG0unWif4iY9HMRpN18NPUZ4uChU28b7TPnBBJAGvIZgvHBU+z6WWXlImBRbQzp3kPclwYngwVBinmSOFf//Xfqm9/+79WX/zin1Qf/ehnq3e/+z21EhdJFrWh8BhomKwJIjOMPOlmCMQYhIg0po2yvksFTNwvaoyxMTgDHLMiPAxMAVHAXRF/i8cpwvAUFWGM6dWwMojCMYm+4pVRMvbEHHNmAGsXPjgzGB8OOYPGTYGkBi5ikhkh8NpwFuNJXyk7CohypQS65hD3EDSUl70M0tSUDXzqOxeYk/YwirmjHf3Agc++b849V9997Yg6YGYRR6l9RqeMHKOFgcwotWfHOqTAYKOA0SyDVdSScQx32vPKGAiDP73XXBl9ojsUmnWybgxqkUyRjzYFgP45HcrMjLPpMKR9pO/hH81yaimeMcBod+8YoMBEiMcIPgY+gwAuh94nEouO3AeffRkkyh+toT98joete5d8aM456HiREWG9ObacRApRMAWf4y+GImNhjHHVHMO6PjOI/e1ogKbSDOkq5s8olt3isHBchvI52qZjZf/QGr4ly+g1/OF3tNmUSX4XaMEH9BDZh2YFRfBX3NfkS3tbQjagDXqU7uFAyDCQNWlf+Ie+pc85UQF0v6AWPpbNHKN7ODd4mb3QJjOjj7ZXcpcsGAt0ODtlDBgbB85Y6ZShQC+Qwe6jK9tsoGZb1pGj6D5rIfhJxzfXr3nfWFoPeaht+s4akKnWEo6sP1nnuk2YJwbQBPm2kYNPgxwX6DdZexpEiwkd3jajj5AjKClsRkWTyQhCJSV+B4xqxloIOwzmvqYAwrTqjNXZMnCAtgk/Do0+24S78XEMCERCKgwG4/e9dqO9utEfzo1xESU+2iaQQ2kbm0h3W3/RRterPgn0AG3pH/7ghBBl/FIGBI8+4IhAMNauSFW0l75SUO4zd3hlLPeB8Zg7waO8iXFMAAXe+u4f87s1YODG3OEmjGTOMedzqEE5tF9KFJNSzpxFxiR82/cT+G5mqjghThKBA/dyZuCH4mJkMxCMtc2YteHPNQCfcJQ5xaKXjANKqSnUKW2nMilJi4gj2jNGzjkjI9K+Q+aNT6yj6F2fE9tsDy6UxQx1mtP74QffjAFOJMVHTsDXUIAnTjAeEf0bQjfoDx3gEcqdgyFj1lz/oWNYdB3awOdKPzmexoruBFXQExpryspF7W3+tn1igPHnQA+ZPI5/n8xGw2QBOqaP6Uh7NOhFchVfLHLm/UZ2cVrsR6SHySVO9xCZTx7Zx0fGkS90bNNZaVspBrw5Cq7hP9lTfDtWzuAnY8BDY4GuU15LB40FeBcUpWPHQoxZwGQM6ItNAlfkRtgjfW2QheQamZOukfmXgKBJzi7daMx0FqcLTXLaNmqJWQl8bbY5HQODHBfCBSEq7aB8pQoZ3bzuPoOBchZFiiNaxzCSiBFhp0ZPBgIDE3pDBA8hTCCLmhuzVBmHpM9IwdwcKQJZNoeA5lzoexkwVgKvzciN9uCIIUPAwSvjGvMzPqXxzYNwGAqMVUrB3K1b01HrasfcKSFzt07wxrgfa/x2td/2PYFGsBFwBF3MnQAkCOFvEe6abRLunD+CGw7MnwPAMbJXB100HYe0DXN15C5jglNF+HN43DtE+KrPVlLjXjTLaLW2i/rUv+iH/VnKJBnj1s64hxgT6fjhiwPK0VpGUeG5cLzSdoe8l8HkgCwD1lv2D++NAU4feoUvzv9Q5wc/Ga+gAlpHd4y3ks4E2cNxZXThc467deLcGgtDZQyfj8HT5rXzwoDAEr2mTAPdt+klMoM84miQZ2SJ+7wq4VPKio4WARnAmWE0o3W6m4yy/4Tc7ZNL2jY28hmP0In2/5CJaWZl0Rj8pi/BG2OO0rO+e9Lf9UUeki9D9Vl6v/fmoCpjWeA8pEHIMe1wNskZ94+Vy3SaNZfhJ+v6nNt0XOyzWDsZNXNQCTN2DGmbQ97TlehOJpFsJ+fIZ0FrgVIBwdJjGDLOzWs2JgYGOS4ik07tkWEZasQGw3A01LnKuhA8YxQzo4Tx7MFhBLzI9RhhaUlEpuxN4QAwYgnQoYCxGKxqYiNSxLnoc9aa7YtqcQDGQBjgjG8b45X8EFoUGMHTZ4DrS3RNWROByQBnNA0Fc9eP/tX8M7L0PTTqM7Sftus4ysaqbFAkkbI2DsrXmBin6MD8GOqMPvNEn2OFI0NVm+6nmNGbbIu2hq4znMANHFEO9mm5f4hREPOn2MxTmYj+1XyPBUqCAY9GlwHjpRzHZPnSftzPOFkmM6kd9+mfUTQGd+61VpwuhhUlOSYySiZxmMgntO5+uCzpxBizOTYNUwELxijnJrKvY3GRrsnm+/lggMwSjHIqoYM/yIrUeENvjHLyTNYbPQrmoAXOC5mPNz2lnvHfZsDqg1Eo6IOO6Dyyk/FKxvhdENGG9kVgLHQnQ1vAzziMwXjtDWUPDAE0TC7iK/NA7x4IeNRRR9VBsiFt4G0OFx02hSfpYXNaFsh58nVIAKutD/qKjjGOoXZU2o5+0YUqFzJqrAPHASXX0jW1PikNpv3lfk+vC+KhRc4MXe3VZ9/D76asy4317bO9QY4LYcn47SOqEHaMNuUfBCdhxyiQ0sZwQ4CAZaSLWDNiMLnNQwxCBvxQ41nZigiNLIKoPcEZRrhxDQFjUVZibu4hwAnyMG7aImXNdkUYhs69ea/PBJasD6OMMW8eDHrREwY3Ycwh6xoLw8x9ok2cUOvRt5bpOAg2Ai6dO+N4bJo/bXPM+1DG5kDoUvgyaFHuAxdDMyLoAK44GgSnEgblGtYInTEslEL0gbmL0HM2KFUCWLvGikYdrTgERKWMAV1ybik3jpRSDnXrQ3CsT7yGXzhyywK6mBKR1K/MFmNpWTBf2SrGzjJGCvzBI3zC61gnDK/AvwgnPmc8yiwva6yMxYO1ZJCSWWgUz+FzkUoGLWNlGbyMHcfm9fkwgHbIKgE45aCMVzJVYI5cDUOOriPbyTLORzPIR845qtjBGSG/vZJbeJcuoJfIAm2ilWYbgj4qINqMXuMkB9EbPWE8bYYtp8hpZ12ZcGNCv3hY9hb/oOsUyG9tcNQXAflId8pKxpwXXd/1Gz0u09QcR9f1Xd8bLxk3BcgnshpulwFran3JSTJuTEAy+mMrsBvIN2tEf3EepuIn2h/yqi/OuPGbjzVG4wKU6NmarUruDhnv5jXzwcAgx4UjwtNvgxB2ojoiIqKeGLIpMG12FmlZZFgx/PTFeKS0m0QrGk7o9h3XxniJqEKzdASzEKSYlTPg/aKIgzItc0rB9ZjN99pwDaOiy3EgcAnfZQVV9M0Rs4+AYQUoDgqOkqDwCB9GOKfCNQygVLkYB8VkzOZPAS2ae/SbvsIfY1Bf2iH4CMCh2Ym0ra73xgmXlKv1IegJNPOHZ3RC6YuqmyeHxnj8mXsofnRgfq4zV+tFsROQ2tVGUxnG8Z1tY0uFPaXMUAhnJb1ef+jU2rSBPjnBspFoum0djP2lL31pfYoPB6kLjMlYtNXkl657ur7XzqK+uu5LvzduWZdlIorRDhqz3pwoymsZsO7wygCj3NFJc6372iXDrBO6IdsYhHjNHFcJ+kNT4cwwKIPPjQ8dj+XjVY5/R+2LUSaIsc8++1SnnXZa7dCTvwwzMojMtqZovM8Zta+ToY+W8Tz9Q0dyMji3DD+yqI82lS3HQxiti+vJSzTOoTIuBmwfPTmVU3AgBfeQq+QIOUvfLeI541Y6Zm9P20ZhskiVRei7tK+x79knnP+pwJFinyya15A+rBX5xglati1ykoFv3dAFWvLdWEB76JJ8o0fgqU2vjW13mevJ3HDorT8dS++T5egST/XR5jL9bt6zsTAwyHERHUgFKwMpFXaIiyBtOispKkQwnbjE0G2CezkajGmpzEXtMJKduy9yRcg2gaMiAk6gp0Z78zqfo18GeJfxaO6LMjyYCENx7AgPwpgwSfGlL0qGMJ8K+pJqJlzaBJ61oQitD4Pe2uibYCKMIh2rHVktBhml14ertnETkto0FgLPGlNcFOsYSIWV9dcegW6tOUmM4CHCCs45xgyCyMzIUnEOKGYKcNE8OUgexJYK/1SoW19ClEOVXtM2VxkXm2dTsF6Ui3b8WaO2NUzvQX8yjaL/TTBXmc0uWmhev+gzhcC5HoLnRe34Da4Z1lMBH1Hu6GBZgF/GvcwYGsUHfWvX1hcaJS/wk7XjPKCnPkOxra0c3+Ex6x/OjHGhe/PzvUBCH23lGMdmG/fFAL72AFcPMfTAO/JHQMVajV0b6/jCF76wLi2jO/EV2gtHpaln7juard+gezrY/WhZW3QS+UHOjuF9euP444+vG8cb9CcDmg4wx6FAfzgu2WMWyCBgHAIXMrdTAiAxBjqRkzVWL8X9zVeOGZkyFawtuSTwuUgvDenH+qEPGSE6eMxapu2jJ3SKRtAGnThE36Vt5H5v/QQBOcLsA7ZBBCjZOpuyLjfG59/eIMeFJ05BY1bOAoJmqDN+FzkZzekfccQR9UMWMQelSvHLsDAyvR+qaBGqMpoDDzywjn6E8aANBh7iHgMEbQhKCgGjAO8Z90OBsCBAGLfmJANAiZmvMTLCcghi8yeglDrFWLvGCKeuN0djMScRP4qGICDkRKMIY4bPGEWY9kkpikYRdObOeGV4NpWF65QDxXgIII6VTAp64niOFeLm515z0y9FHAac9qIvvxufSA5aJgyNL+ju4osvrp0NOIUr64c+lxHecKysA034Mx5rBteU9RjQvzIT5ZKhkBjzSgWmZvFiHPia8ZsD0Lio5BjZ0NWv9UOb1iLm3nVt3/cUMFnG8UBvy47POFI+hzfrEHKobxwlfu/ic3SCN0Qx1zm+EnOeQ5togTxjQDFAPVNMWbTN8/TA0KBLOhdtypbTPY5K94wy8gTNkXXLAFpX7m1vjXGSKeTQsjyA3jyBm74l18gPvLoMGIOT0Tz8Di+F/lh2bM0xkPcCirmAXhtjFyzqlz6krzhpbXuWFt3b9hudRlZyiOj4sbo0bZMeDJsPzQiEonNjXiegPXpbFpoDTsYZG1sGj6DDTVm3zhUq3/cgxwXR+uPpIoxlBYoaU1Eajg+DkBEx1ohLUeI0FiU5TjvjeMicMFKXBREfDhlBjBFEysx3GcDcDKVI52uXcCJUckAIPFGusQLPvZSt8XH2CDgKQ1sMTtGWZZWQuWnfOlC2BCgHS/ucFH/hpBg34RiOw1C8uEf7BBXjAF1yDAjVPkFtbLJO7o+5c2go3t13373OQFFKnDjXuH5ZkBVU4oHeRTcplWXBejBglLIxvOE1hxNsPPhZlhJN5AIZT+uTA6wph5TMyDFGRjx6hENBjilKjpHJYUfrISM5Cn10mAMvfW0YW9A6R9xcGXHoHq/4zTWbMAwD5BTZgxfpLZFpspPecQCNk7oc5LKMPMbL6Mb6kGlOFnRIh70gY+VjzAZfo02yjK71ZHAnDi6rv6NdRiOZKasso5SDJ7Xt+VZ77LFHPffoa+or3Mm0MnJzAZ6x5pEhytGuwAf9i09zAHrinHICrdWyAckYC7o3Rm2ytdApfTZFP0bbOV6NAx2GM0P3sDOMmazz26asy4HpebQxyHEhpKcqYvdjINEop2QxCnMAA8nTrU8++eRaieRoU1RLZFx9Mkal4KcApjJfzovyIREWSmqKwRTjEREhmEWBpgBlRthpjwFmLw1BytihiOGkT0hpA64ICpEQgsMfJ5AzJJUdmboxglS7xmBs2mIkhqNCoC4LaJJjakyXXnpp/UR0RoM5w6c1IpyHzD0dgzExaDjUsoxT6SfaJnw9pA69t5VcxnVjX+EyZ0RS/wwmDltOQEuCChzuHACfjDoOEYe6mR0c2wfFiM+1Rblre0pUe2z/Q65H8/jcOPGTaCUD3Dg5dPhyWUN5SP8b6RpyJzWG8AmnD21zXshHJ3wpLxWgGEo/8EumWANyBp2gbbKInHOyoGoCemIsBA0yLAXJ6Fz8QsZFBnhsm3E9XJC/ZA/5xihctJcv7ut7hQ90yMimz2WZ0uxy3/2LfrdW9FlugF8Bs5yAL40VPeQysvEzfaZdcskaTgV2C1o1TgE5tItu++yDqf2OvT/skXBm8BrHMPgXbuY25rFz3FGvH+S4TEEOIw5hE0gMTk+St1GfYTsVKFrRfE6GOlkRJTW2OYiRoU04Gbv2OTBTshAxVwYiJULwi/JTBFMdQ5Efggl+MWsOIJyMUXRfBsI4Mb51o3DhHj4IrMjcMIDC2Ccgm8LXuhAilJS5E3wEYNP5cB8h7jf4J3C1rd+hxkEXDrRtvBQ6oWuO2qUsfQ4wf3h1LQVt7l5d63u/Nw08Y0MzaN0rh8Ux3ssYIDGOeNUvA9s4vNrw62FqOYAhYp65AW8ad07gSJo/Gmrif9l+UhmFznM4muiMA89oQOvoAS6aPLHsmHPdB4fmj6aNjzMTfB5ZGc5OLlznGnfudsgmhgyZBg943R++IOvwtmvgwb4yz2o6/PDDB+8Lg2O0C79oghNE7pNzQRP6kqUd+5wT92sbT5A1ZJq1S3WBgIcHyy4DxogvOOPkMHoIuPDCC+uHM8fnsa/GaMz0LfwD+IaDZz/72ZPlB96D89xgPQVmUlzk6AM+OEQyzFN1XToe47R21tBaWtMcQA9yBOhT60h2WL85ygtjMl5zZ4ewLwQi8CH+YbPsCLIux7qvu41ijgumI0gxCkEqwgQQi02LoitTgFJhUIcDRKl4XguD7vbbb98iBJfpw1hToUQx6E8Ei3OAyJcFSpFhC4yZ4U+JRaTf75hrLGA4bRB4geuxbbRdb4zmrtSA08XZYIQRrvqL7IdxtzkrbW36Lp07R47Q46CgGYpdZITyNZepQpAy0Ja2jVka2RoaA+Ccec7QIjCGMPC0xUGjEMOxMX4OLsGdrp9TfC644IJFTff+hj44pind6duYbdydYmhrEz1OxXHbJCgFJVm5wTpwMuE8p+GATuCVEYXOcwQqzJ38oCg54egPHTYNy9w4mtIevmBEUvDGScaGEQ8nZHsY21P6Wde9aB3dkFcReMHPZJj5kTloIQU8rczq4IMPrss1lf22nYQV92ifM8gowr/kAgPPd8223UO2yoi86U1vWthutG+NGIjaJYPJNDTW1rbvZUa8jgHt4wPGP/y0rTn+lh1aRn7AP31Fn4QsjvFpT8baPpply6uto+BJ27ijnymvysDhvwSQnYKwY9esbyxwYS2tm7W1xrkAzeMh8g1uzAG9L0MbucbU146x0SdkHV2IX+GH3DN2crAU/fSNbfP3bgxkd1wII44Kw4KHjyia8JM/+ZP1ZrxlmIaAY9hyiNqiBo4/VUpz9dVX10qp2feQz8YvKtEERM5QZbTLwGDSZZiSksIYKZgXJUoQYnqKaBnjhrDgZDTbT/vqe49Rw3AhODmb/uDd2CkSn83duF2LyV2L8f2ZC4Pa+rcpJd+7hlGkXXPmwFCSPsPtFKPUHAgiRkMoGP01xwIXjipVGjcW0C9akLFgPDB6zV2/MXc4YTSgm7HACNEuJdPGR/Bz2WWXVYceemgd8Rrbvuu1n6uuutm/NYCbnI509GEdKUiGT5sciOuWedW2deQYUe7Wcxk+b+sbTtAhnAddat/3cwbj47AEn+N/hnjwOcM+F45y48HYQ57BNV4kH8NJwUddYzdf5b377rtv9WM/9mO1bG0bnz7oPu2SA1GS4v4+OfZLv/RL9VHH9lwtAnSpPe1HFhr++2hHpkXGZQjAAxxpn2wgh9tkZtqWAIoDNMaAdvEuPlsEHMRHPvKR9XNwFl3X9hv54K8UWAv6sIt2pvaLPgVR6PTcfWjPGpBBbB16KmcfaF6b9C/HlJ4np3P2MRW/Xfejd/o2nBnyAq7oezw+Z1nXNaft7ftsjotFZvCLKCLStshPIA8zqgvGNGMAMTEUGROLlIHI5mGHHVanm8cKLkQr0tEXxUbEIdwRdp9wT+cpesnx6QJtEYquw/QcQApqEU7TtoxtqMAjSOCScUlQUrzmEwYJnDfnpn2pYWtB8TQVp3EycoLxMT1Dx3zMxfoQxvoiCNL7Y+6Us7lz5AjAResdc9eOOWjbvV6NtTn+uN4rwUoxtjkG6XXpe32YP8XeXHtjSI0kc7/wwgvrfV1wYh5DhLf14LDA1aLxG5djjB2ZrIRlDJizLNFQuhrTdlxr/P5KAfyi9T4DaJn+rRMjjmInq9Br31qM6aeLXlN+GNPeKq+Fm+BzsgqPWgv48hmt+30Irecct/UJeRbjijHhKUbHkDXklMngC4J57gmdk4I2zJF8QXvkFVmgz6GGDdl31lln1WVnXcED/ZCj5Cddph99DuVZtCSTs0jfmJd1soZ0Gtmpj6FrR/786I/+aIqezvfapAMEqfp0bDRCfjgNzfPbhspp8+YYkcUlgb1DLpQCtET20DdD13zMWKwHfRbB2twyzljwIx6kj9EwfkH7Q+lrzHxKXYue0BKaxRt4xavPvl+HrCs1143Q7mTHBdEjRsq9acQtQoD9KMpoMOYQ0A9DjuAeQvCUyjnnnFM/80VN/FBjgMJikA4FSoXxS7G5d0g/IVSNsQ9SxUWAY3646OuHgA+BF0Y/vLnPbwQHxiNQtJcyYN+Y4ndtREZDejUVrPphKGifI0sxc1woYMIxNSaMp20+3dJK9wAAIABJREFUxgu/2o65Nx04+GEs6MM1Xn32/RC46qqr6iO6+641Fn3LBlHsxj+EDl2DnpQwuifFOfy1zZ1QlHnCT0NBH45MfvWrX73NOiy635rAWUkg1BkQbeubq198xImWpRy67mP7RlNwRc4x0HPPJ+g4aD3oOHc/Y+c95nq0TtZYD3yLX1I+H+o0DO1Tf2ROyDNrhL/0PcZJSfuzxpdcckl9otcrX/nKWt76XV/Gr23yK+SYPvXv9zFAhjzpSU+q+2rqQG2RDQw88pXcJKNT+Tq0L8GME088sfNydGc+xiNINNSZSBs0fsGfviAh2tAPGTp2Lmjq7LPPXujkpWOiixn7pQHumk5t7j7RA71PxqOLUqBtTiW8lZBxxm3d8SiaRtt0nH7H8k8pHAxt13jNhX4zfvwZsget5pZ1Q8e1o1y3lONi0SwSQcVTp6DGEp4HQj3zmc+sHZE+ZBPgIhv6HAu33nprHTVzrCSC6gPCgeE4FhAwZsT0lFo4C13tEBBj62MpGYqFUHYvI4fi7DJuMJY1iog05nI9RssZJdAWI9gaidgRstaM0aKvNiWFXuDIveZkbP7CgfJbSlPe+027jAsK0B/6g+9FeOhaA/TgCFPj7QI4Nw/9ELQMl2Xguc99bv0UaPd2zd0crBcH3fuxAH8e5Iav4GkRGIN+GHilgaHSN56pY8ADHBf0x5AsBWgGveBzfNhG21P7RnPoDM7wOfr2uYvPp/ZX8n5zwcvwlvL5MjIo2iIz3A8n2gwnBX5SmTFmXjIAnsEic/mGN7yhNtyMWz/0DgOLXtDnMo5KOhbPX9KPvZgBxm0eDEb0taxMi/bi9YQTTqiP9Y/P8QpX+iLX6K0hujHubXt1UqigSRfAIwOfzlp2jbStrE4QqG+PrAADeVgazEXQZBVylJ0lGLmMfTIGD+jbOqGNUjLOeMhOa6QvNM8JRIdT6GPMPHNfa9zmRD6hB7LCn/dw6reNOrfcuJra3ijHBdIxDwOBQmVcLbsQlAIB5PkRFFIb+J6Bz0BFDMuCPRmPecxjKg8YXMT0lCAhtOycjM+8GBxhUDejaTEH81FDv6wxAjeUQaroGNiYJIyEYBqCQV+EUC6AI3ODM/0aB+WONigombGxa9ZlmJiPP0LOHMLpQ4Pew/cyjsv73ve+6vTTT29FibGgFU4SoTpVManVXnQAAMHG6KZwI3IDt+YNz0ONMhuGHeP96Ec/ui4Da51cVdVrhq9WAeiQwp3CV0PHiQ7R3zKO39A+XGdNGJeh3PF9CUCH6ABvoUOvPvt+o0Ibn5NlKa2jd3/w7Hu/p9fkMgJk4x2lbxO4U/rCOfFK18E13syBb/NxzK/N7II8+MHcyE8ZNrINr7guB3DGlGSnY4c3PEJOk5vwmwPQprK6NjlpfmRbLp5U3kq+kXNtYM30twp5o394NP9VAJ1K5qCXdF1L9E2mhU5Hm7lopW2s6BLt64e9gmbMdVVr2DamHN+FrCND8EbIMXODX7y+0eeYA09j2xjkuEA+Qoq0NeTnACeoSP9quwkWWvSZAZyDQSkiZ+6LQDFs2ohF1oAQygEIUp9wxsChoJrgN0pkLBh7yhCpYUMhtZWZhMATXVsGn/rEaObBgbBmXjGj71N8pnM3ljZlNmTO2iHM4I8DwUkh2MKY0C+Bhx6NR19h2Lm3D4488sj6aN30OveJ/MCjftFhDoAfpVxtJ+TAj6yEuQUevcYaW7sQevBvTObu97i+OUYn7gkM3HTTTc2f6s94a5kMZmtjA740v1yGS1936IFTluKz755lf0d/QS9kRy56aRuP9UYH+kPrXn1ehp/b2l/Xd3iOUWTd0KR5+cPTaAbNo/dcgGc88f3oo4+unvjEJ1bvfe97azmsb2OwhrlxijYc2X/qqafWOkZf5Av5T54NkVdj529vzi/8wi/Ut8Ef2SjYA7foNjd4GKWT1wLg0BzJ0tx8gf6PO+646owzzqjxF3165UQso1fTNsa8h0uOUgmcto0DXulxa5mTL9r68h3axIv6I1Nzr2WzX/3hCWuIb/DK9uDEmGeq1+GRbPNnfmQgGsote5r43R4+D3JcIqqdm2AJUkcjywakwFgVVWD45wREI6UtWvPJT35yG6YvJXwQIQOfMCXEEWkA5jTPLuMzrvM7ZiakEHgQu/Xwnd+iDa9+Fy3E9HAYxo2xcAQJoL7oSfSpP+M0B0aEtvQZ/cUY217TuYuiuLfvPr/rMx0/YyKYOcZlDE3G99lYCdl07vDTBKfBMFriSFPrD1doncDUfm7wNGyOegqEMhpA832waO5NOtAW5XbsscfWJTDwEgC/DPu+tYjrc7xaT7hdFVhPgQj03rb+ucehD2sZwQ84Lgn4AZ8HrXv1OfikZN9T2zZG+CKD8Cxc+UsVt9/9tfF5G60PGZM+fvmXf7l+ZhO++MhHPlLLC2PQVymQIXAq2XXXXVcbftaKTCvZJwPTaYZeyTN8QIaX7FOwxLNtgDXCC+R+KZrUh1MVDznkkC37WfA92VZynm10EoGEtt9KfUemcgrR0irAOtJT9Aq6Im9Kg3U0PzzDXmSD4NdV6q7Sc0z1OhkY8tA8l5V1pce87vYHOS6QVwpEha655potRq1okEwEI7cUcFrsbXjzm9+8pR/9Ej6lAHEyHjkv/jCj78w1NVp9R0AQwKliX4aItYUJKCzKi6AjbALHqTFr3vrVJ9wbk99db/2nKB/jMN/m3APXfje/dJzGMLRP9xNwxqkdczZu7ZlrODG+izY5ELfcckt9D4eFYoefkgoPTvfee+8aD8ZB+FPucL4stM0dDrSJhsyZcuekxWZV6wAvqwTz5aBNmevY8cINuueoo4lVgD6tM4MN3cG/70oC3OqH42S+EaEMWi/Zd1/b5m4cqTxL6dNvQ/HjuiafL2rL9fpl8LzlLW+pjxw+5ZRT6ud/aWdov31zbPtd2+SRo5RtXP/4xz9ey9WS8iUdx+tf//r6+VF4HT2uihbIGcc6C1Kgw1XAr//6r9d7hpSdk+Xk6qqBfKHLS9JU25zwPVwz7FfVt37oc/INrocEJNvGPvY7vBNyzjqzT+iTVc177HinXG9OIevMkZxbJOum9LUR7x3kuJScmDpc9cWMC8qe80DZlAZCRnRIqlmfPmOK0oAg9cPAMF+ZGH1TcimB+oxwcykc/SJ8SoyQI3Skt42B4CGI/BHA+s7VbxOf2o+5Ez6Um/FwMuAlR7/mqp1gfO2mTox577nnnnUpIsUuipOj3+Zc2z5fccUVddZP1MoalOg3nXsIPBuBOeuOLlW2tUoHIvDAWWJErhooOPLFOq8K0CC+Mt9VKndrj8fMFV+tMkLZ5Ds0Fn9kOn50TS6I/rRNZuFzMsx643flpa95zWvqzINARd+RwFPHZTzGYd3xt9Kpo446qpbvU9secr/+rT2Zzlly+EZOfA8Zw4033lg9//nPX4kuTcejamP//fevLr300hr/6W+rem/N6ddVA/qnx8gZPLYqCHoLuY73VkVvqZxjQ+gb762q/1XhOPoxr1Svh1z1at5hK26v8w88xOvaHRcDUatqox3GWyXiCXkZH1GiT33qU0WMyEC0V3NDYAQNgiPkOE0epmnupRlP//o2b8xOwTmMQCR+Fca7/s2RkDFf2QbRIkYGpiwJ+tYHnDv9xkNQOYwMy1VGbpxax4FYpQEfc7ch+IADDqguuuiieg3QIHrIbVB2raO+OBCl17qtf3SH3ilZ+FglcB456dZ8lcrdPPWNvvF7bjrXvj/0A7+hTL1fhSLVN1pCV+ZJrnEaHHDxkpe8pC5Dvvzyy+sARSlaNwb9c5rIUPKFTKVTGNH6LQ3GoH+0jc7e//731wcOlO43bd866F/pkvJvvLZqEAR89rOfXZ100kkrzyibK95ex7z1jQZCp6+C5pprq08VC2gAHlYp4/WF98k3PEgG4Ek42Z7B/EL+tclfv2+vOFi744LI3vOe91THH398TfjrILSf//mfr09EkXJGADkhiCccFu1jKgQXRMWgYdDJRGC+XEyv/TAqMLY/Ct4Yon+/65/CCaFDCMXYpuJCO6liNz9jiDn6jbAxd0rfeHKDMZi7CDSHyaZ1BzToy/ccJwqf4CV04SfX/NO5mB/F5mFtaG3VYE6yTZ4A7pAKEUL4N982uiwxPrRmvdcBaM46owHzXjXAMVpD66tW7tYeX+sXHZK7Ofl8Vbi0htbO2MmRkGd4Wfb+RS96UR0YuP7667cYr+bu95TWfQ4ZOHbs2tMW2UGewWnINJv+BSZ+7dd+bWyzo683Dg5LZKzhBDz96U8f/ST70Z0nN8AFvmY4GxNn8YYbbkiuWM1bfG09rr322vo0NRmnVYK5C0TGOqyy7+gLPcjk4+91AFogX8jZVcs488XT8K9vtIBHjcnabML2g4G1OS4IiRInbDCb44odTblqAmNMEDZOe/KEYaU8CH6VQImGwMNwFJEx+H4MwN0ixb4It9aAUU35eK9/r/Cz6L628bm+qdgJE2PrAnNN5+7+qWAcBBeHxLwYF7/5m79ZR+WabbvWXKfOvdmuz+ZtTRms5qkG3IlGqwZzo9QcSKD23iEVv/d7v7fSYVgDZQ1jaSrnINE2uYM21gFowBjQBJofy+dTxxy0zriZwudTxzHkfmOFH7xJhsRfaox88YtfrDwnifx2pDGc5oYYB/qFt3D8QqYZo7I0Rx3LuJQEY8HLZBojMZWVntl10EEHrYy/8BBeSg1lwRHBoXRcJfGhbfSRypVPfOITtQPpyPtVgvXA1+sEeKdr2FdoZR2AH9AEGl2HjDNnvEleBL/iXeNaF07WsQ7ba59rcVwQD+ZmUIbgVyp23nnnbSMAV4F0zB0RYFGC5zznOdWznvWsuoxolQQOH4wIACehmHy3SAG4Fj5Txe76ZRjUfbIucOJ+nykmjO9VH1048b17QrEbv+tjfYeu5Zi5d7VpLMYbit04AqytTZyLwP3p3GMuXXNf1FbgFI3F/RwHpSRf/epXF92a/beIgkXDDD4GRhyZGt+XfqVUrc86gUIzDvwV67Lq8aD1dSv3Jq1bFzS7LpzoN2RPOCn413epLHEdPpZdOPTQQ+sMh3HnBv0aBxkQciAdh/4YzB76KpNJ5pSCkI3kc5cxqATWQxpLA/zjHTIlla/Rr0cPOLVtVQAnnIYU7OV70pOeVD+/zRquAqyR4BC6WSdYHzqHjbXOsaQ0S9atayzGgU7JN3y86cSskzqn971yxwXxhAGFuQJ8pzbWyUOrAsQsWpQykzFJNYveyQClv5UcVxhSKU68x2AEEEUVBoUxwWNTsaf3LjtWbTQFnu/0bSzB9D4bh79Q7ISCccHrVIi5U0YUpHb7QL/GYPyEZNOQUR5mXcesadfcfd8H8MURhLMmOJbVk7pXBXCB1pvjlumzx+zMM8+8j+IvNTb4WHdU0tzQC0OT0ZODZpfFlzUJug0+X7atKfdNofUp/ca9+rcOIVe8b9IrOSCK/oQnPKGmWydExpHm0c7UV/3qx5r0ybQ46tipZbnHEfMwHuMgC/GOz20gY+4IZPKvJOhfH4v4xilqz3jGM0oOY0vbxhPZ7C1f/vAN3fHCF76wdnCdHLkKgBt8PAcIWbsqx61rzviYPrQebbq5674S36OXlL/hhsxpypoSfW+2mQcDK3VcCF8RgC4mevGLX1w5xrHr9zxT3toKpu6KkH3605+uj1gUjR5iNG9tdfl3jDnM3QQMZQyEoT/XlGa0rrXSr/4J5yjBKimImnOHh6aAIYiMl1D06nMbvPSlL62PRW37bch3+jV/9KkfeOAQNMfjM5ygrabzFP1YR0+aXpUyhRt/bQCnL3/5y2tj0Mbm0gA/HLou3JTuP21/yFql15d8byxoaw7K3VisDxoPWi8tcxbhltFOFitvfN7znldxGHJCGDPm6w9PdMmR6FdZ2qMe9ajq85//fHyV9RW+4T5kvjVZBJ4T84pXvGLRJZN/QxMcFvJt0XjgTpCo9EluJkSP9zlrb3/72+u1kmUuDXAkELsIP6XHkLZvPHQRPK17TPoPWybshnWOSd8h54Lv1ynn0nXbfN+NgZU4LoiD8CVcEEUXOHHJXhcG8SoAM2OiLnDq1FOe8pTqrLPOWkmEGOMsEsDBZBgePo29JNOHktKX9/oLxe6zP+vJ2PK9V9+VGpO2Cd+Yu8+pYl9kaMCraKRNpDnAHNvmbkzhJCwajzFceeWV9TOMcoxnURvGyilexHvu/43f+I26LvzDH/7wouay/IaGuxypLB2MbATtMsjQ8brBeuE1OJqLcm/Sus+l+DzFP3710GBO/jnnnFPREbkAf+JXax+yq49n9c2Jki1VpuYkq9wAt+SatTeuIXhGt45ALlmxYCzk6CKdmeLiZ3/2Z+syrfS73O/hBt9axz740pe+tLLSWDQyB1kSOEHX5C3dOYSe4r5Sr8Zgzehzf96ve1wxppAH6Bze1j2uUmuwkdst7rgEwxDCQwjgxBNPrDxzYogCmYJ4REng9QEFcsEFF1SHHXZYrTSHzKGvza7ftc2Z6jMw3R/KDdObS+5xac8aEL6MXn8YumtdXG9MxhKM73PucZm79q1dlBwOwZen1p977rldqJ/0fczdWsQeoSFr4iQ5JxChsZJgDYc6Cd/61reqgw8+uI7cmkMpQEdovYueSvW7qF10BE/WsQTdLuq76zdjQh+l+Lyr367vg9aDz72W4HNBo5e97GV1sEE2EK/kAPS2jLMSfdt4bn+a7C05lBPgEa9a77GGHJ0pE1UCrLkxMXqNcShwOpV/4/NSgP44CUNBhvuYY46py8eGysShbafXjR1Xem+p97GO5j1mHUuNJ9pN6R7e5iB7jSGVE8ZFdsxhbIG3Hfm1qONi4THJGAF/55131kcjU9QlgSM1JiLiyOZHPOIR9YbDkkwfRsrQuWMm+HVfDqZvU+zWcYziwtxwZDzG5tXnqUyfCjhjinHddttt1ec+97nO9tWeq4m/9957h6J19HXmiNbR1Ji5n3766XXN/ugOR9xAsRvfUOAUenieI8rtgSkFY3hQDftVV12VNeLeNi80SvYYG16YCxhLGLXWciov5ZhXG58b55SxOZFLhluGRemTdc8JxhZ/Y9t1IqFAQ86jzAOHsbZk2jL4O/LII6u77rpr7JR6r7eeeGFZZ16wSEldKTC2MfaFccD1JZdcUm/ct4G/BFhDctd6zg2MKaoW5jQ2tGYtrc9cZBz8hLxYhi/nhN/taSxFHBcLjAAJFUbcGEC8j3vc46qvfOUrSwnwIX3pg1AZS4jOhTc2JT6YqwQYGwN47Nhcj9mD6bWTGwg8azrGCJ46BvMKh8XcmordPD1sTkala+6cmlLHDxuffuFlGZyruT788MOnoqnzfseCvvGNbxzNh5w9RyY7dUyJRQmwrkNpnTN1yy23rOwp5Gjcms7N8EBjKZ+PlRMl1jFHm2jM843sYbnppptqusjRbo424PtVr3pVfcxwrj0b1g1tkR3+xurJdF72+xxyyCHZDwcwpsj0pf2NeR/HM5c4uAAvTCl9EvASjCQjSwAbSMBvjgB31hbtzU2GNGWcz5uwiYEUA9kdlzDkMOyyBGcjnUhNKQMZsy4rUJRMnXLKKfWzQDzArwTTG9vYKFIsqvGkhs2yaxDtNV+1FwLP/P/4j/+4Pv4xxhuRHEafenRHhQYoGfCQuHSfibEyXgO0EyUJcO29NhgM1i0Fp+hwJs8+++zq1ltvrdcijAHtxtx//Md/vH6adHpvjvfat1ZThT/HZZFzwICABwCvKa6D/hj21uK73/3uNvh817veVZ1//vlbcJHO214yEe50X1Xg39zUy4suc15uvPHG9NZs75vOgXVTjvPnf/7n9V4380NvaMF4Y01jAIvoLa5Z9jUMNzgJPC/bVu77gs+NLaX13P2UbI8x6/QppTvKrzzxPWi7ZL9j2iZ7nI71/Oc/P8veS+tGRuVcNycCkn85AU2RbVMcqhjPU5/61Oqzn/1sfMz2CodNnTC28T/4gz+og5H2UeXmce2Rb02ZNXaMpa43Pji0znMcYwleKYXLzXZXi4GsjgviD6N7ihBg4KqNzVXXnKI0hzDRhtPPnJoi2jVlrunY4j1lQeBNade9oSAJp5yCiSGpbEf5lWcX7LfffrXipOxsWvUgNuf4e7aBUijXf/SjH61T8+qwPXfBccDGqDTwjDPOqOdr/p44bRPud77znfqZOq9+9avrdmyEveiii+rrKKtrrrmmNnY4JdF/4E+7cGjeSgGUnaDLnKB9bZrzVHjve99bveAFL+hsxvNeHOlp/wwjhZJVQiPTpGbbZnoRV7g94ogj6qeHox8491wHJV+yFb/yK79S41VHH/zgB+trTz311Iph8fu///t1/46atabW4KSTTqrXzLHg2rBOY+rJOyeU/IBG0Qf4i7/4i/oZSieccELdtzn9zd/8TcX5Ouqoo6r999+/flBs3L6I3uKaqa9oCb1NdU6njqPr/pTP4SMnn3f1OfV7fMlJ4awce+yxtQwoEZGfOk4PZ913332rn/u5n5uczQiZZI3QfK51cjjA3nvvvU2wYsq8jdP65KR3+29OO+20KcO6z73GSW7kwCO5evLJJ9cBSfsmcwJc+pszoEfrncNJLTHPUrxTYqybba4GA9kcF0Sfk/htzOQc5GYmTJrLiP2d3/md+iQXD/zKPU5jNNapgOkJd+Pz5/NUUOvtEAVGJQPZMdYifpQy49ZJbCLm8POiF72odh5ELX/3d3+37pqRzGCRkQnHRdbFOCk5RrO9FSKxIp0yNKL/nCHObPQvu+Ceiy++uDXiaK5XX3117WTlmrsJ5Bb0FLDaeRuS28D3nAllF/DOCJApUactYug5LMrhwAc+8IHaWYFPTgjH8WlPe1r15je/uc6a/PVf/3W9HhyRe+65p75HDfqll15a49I9Tl/Tjmgzx8aGfXO+4oorsh+ZbI3M33it+/XXX1/T0d/+7d9WP/IjP7IFJx7q5unoX//617egqIvewhHacuHEN8aoL/Ith6E0cTittxtjbj5v7WjCl5xeZWBOjkRXX/7ylye0VvbWOD6X0z5neO1rX1sHinKMEf2gcbSOnnIBXbZIvi3TT8jgZe5tu8fc4VJwROY6F2jX/HPiM9fY0nZKrX3ax+b7TQzkwsBkx6WUUmf4KlFJy4hyTDqnc2U8MgM2RopspyU3U8eaWzBPHU/czwFQehSlQ5ScTMg73/nOWunJCLz73e+uL+fUMDi/8IUv1AZ3lI3BE8PFk5XDcXEtYDCfd955tdEsChaGg8iiDAAjOu2fwO1yXCgMNcy5MndoPXc0MvC6yABRJvUTP/ET9ROxL7/88tpxcVgEpwyuOYvoOvCHFtGP+bvO+sBTwG/91m/VvAWfyh5lM7yGs6O9iGZaM2sccMcdd9Q4zXlksvY5YpzZeI7MUMeljd5irLlf0X5u+ZF7jHNsT+DBRnuZT7RprecKnCs0JWiyqmcsLYsLMhNOc8g3tE22eS0BP/3TP10HkHK1XYoPyUZOlsx/LoBX8njuEPrNeOfuaM0dl5vjK4uBSY5LaUJ/znOeUwuQ1Oiago6IKuRmSkKUcejIZPX5OdrXhnZzzX0K3tJ7GbSi/zIjwBiVh8k6MXwpfcZtCvZvyBQ0HRelTJ58zSgPx4UDZH+Ta23WVSYFwnGxR6bZvzKqthpvyse1OSBoPXc0Msa2qOSDMXHhhRfWc/nQhz5UZz5kUkSFPbE7dUxuvvnm+lSmcLCUoaW/6++3f/u36/WQrUGv/vRvjjIuXXtiYqycC2WCHnaXQyHrF43IHMmiAVFPxmNkoboyLmivSW8xzhKv+BFuS9FBiTGvq00GNUdbBu+yyy7bspbrGk9fv/hAeaKxWuO5Q1+J6ZDx4z3yBT2X1DUCfJysHNnQUno88CVoig5UfeSgA/ilJzcCBD2Q695vwiYG5oiBpR2XIHBCpBSBKzVS5pLDOIJ8wjlXW22LaQ+BCD/DMAdOjNWY5wTWmyEsQ+A950CEyh4KEX5OCOM6BZvolf3E6S2ckYiuy6jExldOCefPZvsux0XGpa1/+yCaYO/G3Xff3fx69OeU1kffPOIGTl+bA6b/173uddXjH//4urxOqZwndstYORlHZsq+MI7Ik570pNp55AhSmIx6RxuHwaAt5WJK9+Ip0tZxjONiSiLT1jrXkcnKBmV+vva1r9WboEXmDzzwwHqs+puL42IscAhn/rzfhG0x4CANPMxQtR8rPYxj2yvn8wkvkWP2fm0UePKTn7yFhzfCmO1HJK+mQmk9bnzkm8yzYMrUI+HJCA4QebEJmxjYxMB0DCztuEzvur8FDH/QQQdlORo5hEdpQ4PxfcABB9Sbx6cKqlWNuX8ltr3CgQQ22IuIywQwYDltFEpXBFxmhVHNYP6/7N0J/G1juThwQsbQpdtFKWlQchAqCY3IlIjMQ6acMg+hxAkpQynUTSmqS6W6KVfTrcxTlEwlNE/806DULdX7/3yXnv1bZ9vD2nuvtffa56zn8zln79/ee73D877vMz/Py5olOdf8CKQ8axRUAjgBPULFOnlcWEXz/VNiOgn88kFcpFjHpN+5sTnzl3lJWO40Zp6QjTfeOBPq5fvAFwVQZTd4i3CvU045JfPMSN6H3/BUURQlvUeI16c+9alE8JE35Fl4p+gU8bjMjDild73rXVkCc6+qaPnfd3tP6aUMWzPjVIpZKFvktNgn5qwc+Z577pk102u/deun+bw6DEhmFwKqpLF9QfirO9hDBx54YMsoUPfxxviE3zq/0wSMSGjNKICmjctggA6ffPLJWVitvT0KxLhHaaN5tsFAg4FHMFBrxcUQ3c/BejcqIBz+jQPkJGDgBK9RL1Ab15gHxYuwMJ4Uln3KCi9TP/BbVb7ac4G40YUSDOKWj/674Ue4mbCpaQP5UoN6iQhfFBSvoH2vU0jkjESoXuC/KCdBAAAgAElEQVTEevC+tK9HfF/0VZK16kuUpk5KV9F2jNsYlXZuYDowYL3lqbFMM0iwqA9yjic5S/SLkqyi37TtOWP+4Ac/OEn0Ddy3vSLENIqCDNzAhB74yle+knm4p5GfTAhlTbcNBirFQO0VF1Y75R7bha5KsVJC44Swt73tbVmpXtb/eQUIJXIbJIaLsVaSV7WnOq2P0BTltIVPTRvIHVLWeNoghEBhaaMqQtM29/lxvJRke5XnValy97F0MyLUET+hbLOoj6JsT2Ju8r6EtfFSThuUZYgc97zl3gk9FsIad2qNewxNfw0GGgw8goHaKy6GqQyrMqnTCC7eko/QKQdjGudjzIRUoWHKVbugsG4KwoknnpiV951G/PI+/fu//3tW/nnaxi8nS9gNq+qtt946bcNvxlsAAzydymcracxgEXlSBR6tzU94BtFk4VbTCIceemgWijyNY+fZYlQS+jltQFEUpipEz1UADTQYaDAwGQxMheIinAWjmZYQhPalFAa19tprZ9WyhOc0MDwGKElf/OIXswIAErqBnA/hUED8s4tBJfFPKxxzzDGZV2taxx8lk9uLNEzrfJpxp+zyU4YKlv4ddtgh3XzzzZWhxSWAl1xySfrYxz6WVbzjERFiOmrOIE+gfDz5XnLDphFY+0Ug1L1Ucy/c7rfffumEE06Y6ydyF5UiVg7fHIVb18mLnx9sFOGxR0eFqvb6qONqnm8wUGcMTIXiAoEu3WPdBw8/+GD67XXXp59+6CPp7pNOST9425zs9acfOi/73Pd1A5Z0YVWsNRSxYeCfDz+c/njHnemXn7o43XPKqekHJ7w9/WDOyemH735vuv9LX0l/+dnPh2m29s9IKFfWWAK4ylkLLLBA9k+YB2HE34973OMyvLqIcYMNNqj9nHoNkEeLVTJCrijs3vM6Ki8bpaiVk77mmmsqrZTXa5y9vovSsrNnz27l3vT6fafvImdHEQL3QCj/LEzx+OOPz4SaaQvx6TTHTp9F6VQhpkIyCXoqdcmXI8wPSz869dXvM0aXKGlsHHKlqgDVCeUFupxWQQZFI1QiJOASZOULPve5z836f+CBBwbeU1HC21zqaACT1sUB9M53pnTggSntv39KBx2U0mmnpSQvPFja2WefneUUVrEG42qTN1YREqHUCrMAdCLoOoVFWXx/u18K1K0ynT3KQIYmDxoiSY6x17Uh6T/mbc7m7u+ll146U67t9SoroWbIbf5rMDBlGJgaxeVLl16a9nzurPSdnfdIVzxrjb7//O6+//lSIuzXCSSvKpksobUoPHj7nel7R781XbXmen3nff1LN0k/fv+56a+/eaBo87X8HetqVKrCvBBzla+EGgShd3cMy6+/4RQDOeSQQ7IqMFE9q5aTKzAodwgIkXzyk5+cTjrppCyefcEFF8zmSgEGmJu5X3rppVnoBaGvTiA/TcW3QUuK8qqJJV9yySWzsES5VObJUh5r744QpWtVqsPw5wUQhrX99tunJZZYIlNOKCkxXwUbKOX+tu6EGYpNVSE3PJaKorDuK2n8q1/9qnQUU0zlmgDzVuChyF5XVl1FQxb6IsDzV8dSx2ppuPLqRS9KacEFU1pgge7/fP/Sl/4zrbDC7PTNbz5yt1WRudftN4wy7kmRp7PQQgtl+5k3LRQV+5uwLuTU+8MOOyzb68JnVU+Me53qMC+GBAo2o2q/cGnnNSqTqaxpbu7gCkXF3+gcI4336D7Yd999s/dFit/UASfNGBoMjAMDU6G43P+Vr6XrNnp5X6G9k0Jz3UavSJ6vE7hcT8nkuAul29ge+vFP0i27v36oeV/53Oele951evr7FFyk1j5/QpJESIztzjvvzMJGEHOCKxBbz2JFYBenvtRSS6Xddtstu+TLZXd+y6pFMIoLDdv7qOvfPCs8CqzCcnXMBcMGSgH7m3VSiIH3iy++eKbUHHfccdnfLo+sG/CUEEr75UMQaCicPCkqVJkf5SSskvaEzyg0fqNynL8xd8ADFSGDdcNBr/HwpkSFKFXlzIkQQxH13j+lst///vdn7124CiTGL7bYYtm8e7U/yHf6cbasl5LG4fUbpI0ivxXqZK4KUTinsdfDAl9kr6tmKO+gW9iUdnnolNiuW+joJz6R0hOf2F1R6aXEPOUpKX3xi0WwXK/fUDh5xlVyA4wa9rZ9fcUVV2SX4lIC0L599tkno/+MV86131GihZDxAtblnBsH5cq1DRG63I51YYmzZs1Kj33sYxODi3u4zIfSAzbccMPsHOBl7q5D31yCyvCDt/mt8vX2+rSGOLbjpPm7wcAoGKi14vK33/8h3Xn4mzsK7te/bNN0x0GHpR+deVb68Tn/mb362+edFJg7Dzsqaa8uwKqEaSNendzgv/jERR09LFevs3767u57p3veeVo27x+f9f5011tPSDdts326cvW1HzX3G1/16vTgd2+ry7T7jgOx5m1xZwmCrewnTwph3h05ncDveWJuvPHGzBqNMRJseV8oMpjiNIAQIQzQvBVzYNFbdNFF0zLLLJPhxCWfc+bMyZQ1l6IJnyO8Y57uzvCc+3G0M87b5IvglvJhjO5n6RTixfJurpg2L4KLOM0HAyesUPJ5K4UOsVSC//iP/0i8UHKcMHy/Z4kXWjQtYN4LL7xwNnclrc3RPPbaa69McBEixwvBUq1yl73Ng0DB8DuCIHzxPH77298eatrWwz1LLhN1ySklKsLVhmqwz0OUIWsUykl+rwuRdJ6L7nXnnrDbXrnR+eDp23rrrWtV6vj++1N6zWs6KyyrrJLSDjukpA7NiSem9Ja3EO4ZLDr/3nVGU3BVTka/rbcQMYYW+9ZeRq/li3Tif7aQfYK28fg55xQcnzH6CR3EK+oClCte//a8PmPkbbEXzZsn2d/4GYNFJzBn8+R9obiE4YqBRh9186x3mkPzWYOBKjFQW8Xlb7/9bfrWVtvOJYhftfbz091zTk4P3fvDnjjx/d1vPzn5fV6J0d5fa1QiNwRysbJyFQLk7eTH7f2te++ffvPNK9I/e9xFI7fn5+d/PN3wys3nev7KWeumB66eaT/6qdsrixNFw+3pvC4EXdasQWKIKYSsWhL4MQr/VEGqO8jdIUAKfzNmDArTI6D2E8Tvv//+tPnmm2fMURsRL37wwQfXatrCIoRJECYxZmC8FA9WVkqHuQuFM2fKju+7gXkTgFjWWdU9G96XOgk1ncZPOCe4EVJYXI2dt4xV1Zr3mrf2nBVz5s0yVwqHEDN3ThQFeJNbwnPjck+hV4OctaL95H9HwRT6af5l7vWddtqp1Q0rPaVW9bCq59PqtMAbhbSe+cy5lZCll07JMe1XpOq22x7Je1liibmfX2edlOp+7RHvCYVbYRqecHR90LuqKOb2DG9j0EchZnWCyKMS4ks5wYN4iRjceAUVGFJ4ZRDgWWfQ4HExb/8ocA00GJifMVBLxaWT0nLrPgek//v1fQOtld97Lq8EfGvL19RKeTGhyy67LCNq4nzblZbrX/LK9Ntrrxto3vJ6eKHyHhjKy2+vru99MgS1sEqxunK79xPYeyHlq1/9auapeKds15SSpFYKTR1BCIWwOEoaIMCec845AwtdDz30UMvzwEIZSfx1mjOGftBBB7XCdySfsyqymGPurP4sjYMA7wDcKcpAGCccERLqFA/fPp9ddtklC/OinFHoeF4HtaTCJcVn9913zwQaAmGRMq3OFaVBSWOhWZSgcQDBk3fkMY95TCV7nfLPI0dp6ReWOI755vvopLRss01K9w3G0tJPfpKSfPZ8KFmdlRdeBSFSBO5NNtkkO5/D0nVKKKWAUYeSIK+EN7JOwCDDMEORXmONNbJ5L7fcclnI87DzNj9KEO8qTzRwHw6vYgMNBuZHDNRScfnunvvOpWyoFjYKqD6WV16+u9cjMfGjtFn2s3IxZq+x5tzj3H3v9PAIYS8P3np7uuYFL261edU6L0x/+UX96ucTvliWJCdvs802mZWqjJh0IQgEWRZ8jJNQXCcLbOwhlWnCmoYhjQJCZ+QAUVrMlWIgfKxuIM5bXpIqe+YuHE6OyyhgHwnVIBhrc++99x6lucqetUZRaIAwwuM0ClB45IuoNkYJEoIqD6AdeKjkQklUZ7mWazcu4FEjaB577LGV7nWex7rlAfz97ykpdBjKhkT7971veMxzQs6ZM9Oedrfeevj2qnoS/WWQUj2LUm1t0ONRQbu8Le6Lcs4ZeeoEDClomf1OUVdYoAzvkHlrO3L7GDv6eWYniRdRE0Jd0WHhoOhzAw0GysBA7RSXn1/4yZagTdn42UcuKGOe6WcfvWCudn/xX58spd2yGvnzz36erlprJrRNHsvf//KXkZv/4/e+P5fycssee9eO2BHWWaUInQhxmZ4R1nveB3kEcl6qjN0fdLEQcheUAoK8/JZOAueg7cIhyx+mibELIRJuUCfAhHlYeIl4mDbaaKNS1kbBhkUWWSQTkFn4KcN1AsUmKBgEeQydol4GQ7fmQs8IiNY8En/N3dqzVAvDFEpXxCtTNs7kZoVSfuGFF1a61ycxv174UtI4r7SUFenD2RDtej3//F6jGO939qO7y5xr+915L/MOM+Fn9rkwax7rOgEvEI+v8C7GozJoesxPKKh5o3FHHXVUKYpgtF32Kw8Tb677n9yfVCfeW/Zcm/bGi4FaKS5/vf//zSW8f//ot5aKDe2F54WS8H8yJWsCt+7zhtbYrtvw5enhEhMPH7j8ylbb5v+rz9aH0GNwavojxv5FdaUyl4V7XWiBvigKZVj9yhgfS6E5E14lWJchwMa4JLRLfias6ocQXyeQfM7bIDzS2OR2lAUUIoqBJH6lg6u6e2SY8So6oRKY/AvrXeaaU9rsJ9XXhN5RWISkibMn5FRVOrkfHsxRpbJx7XUelzLx2m9+vb4X2rXoojMKxuzZvX49+HeS+UN5WWaZlB6oSRV8OZsMRtZcwQ25h2WCvC7KMGWIkSbKapfZxzBtoWVPecpTsnmbe3uy/jBttj/DAMBLi58JIesWRQAv7byOMhGfeXXfFu+Q9Yl2Qtmyhr5HSwN8x7DIWxsloLWTNxD5fT4sjgKnglwnxQWtVlSEdyb6iefh0jx5q+pyngMPzetkMVArxeVHZ53TErCVMS77IkntXb/xK1p9/OjsD0wW+//q/U/33NsaE8XigSsGi/EvMonvH3tcq49vbfGaIo+M7TeYD+Vi3XXXnYsAljkAiccusMNMeDfqAEq1RliTO2rKBgxBCB4mL9dn1FCsssaHgakMZC38k7BdNogzj/bl1NQBrEXsQUJdtyp5o4xVbgfhArOnHKriJjRt0qBgxLj2ujmrzlYHOOqoGcXiaU9L6U9/KndUv/nN3GWVeXfqAjwtqgK6k6UKICyrNsg4IS8yBN8q+hqkTeOiXMjZLNMgkx+DsvGKanSjnwR93lWhoaGQCEcXRowv8PwqCqJoggptys/LCYRD9FLo6Q477JApHEL9AGMY77hCHuirZ+WiupOO8S08aueff35mMAljWSfFhWKD/7mHa8stt8zy7ZS+B+eee25WMVOekLH5TRmh41njzX/zBAZqpbjceeQxLeFaqFQVoN3wunzvqMEqfFQxHm3+5huXt8Z01ax1019+Wf5lb7+48FOtPq55/galhKGVgY+wzLCSujeCFakKQIzDAhgJ+1X0M0ibKmJR1jCfKixzmBCmpR8Vu5S8rQNQXIQu8bgQZln1ygZMD16FyZ1xxhllNz9Ue/Y6K7GYd8KWnJOywZpTVISrqDTW7W6Jsvvt1R5Bbtx7vQpDQK85dvtOOePwiGy+ebdfDf85culalOhj//2Hb6vMJ0OIpUhXFcrFEBDVBBU3mZRHMY+34GeUhNMq1CIjVA6Ni4T9/Di8F6ZFOYmcL3dDyfdEH9BHuZW8JTzSL37xizPFhQdE5cf24hb4iBLOcuPCu+Iz/4ZRXCgnqgtaMwoOJSmvuIgUoADJ2eOtbRSX9tWdv/+ujeLy19/8Jrk0MZSKB668upKV0W70ob863DD/3b33b43prmPfVsm8//HXv6ZrX7hRq59fXvzZSvoZtFEXcwltEToTrudB2yjye1WUhCy8+tWvrsTCX2QM+d+400DcN+CSxwCqAHcgYG7+sZLVAaIaDgYovKkKYFHE0IVL1AXcJ0SxoLjJR6kKKCyx5lUoxIOOm7dl3HtdBatJg6JPCy00o1QMWCyv8PCleITisuSS7j8p/GglP1RJzH0twoMorFUC/sF7y3pfhzw+BQMYiSgtVdIeF7Yy/MBxt9LS+ufNUPKcsoL+o7cMRYqDCJ8GecWFIiMnRe7Qfvvt16JTaLWiH6Fc5Nd0UMUF/ZPzEmWdOykuPDjyH31HeTGuBhoMBAZqo7jcd+llLaH6hk22qMzyzqKv/VBe7vufLwUuJvJKociXLf7jHXdWNo4fnnFma963H3hoZf0UbZiiEl4QgpY416oAESQ0Av1OOmaWy563Qc5DldWdlIjl2mctq7KfQdbtyU9+csYYhZG4ZLMqEBJBcSPcTLqyGuuw9eZpEW5RJSNmSSWwsLBO2grt4sy11lprIntduehJwkc+MqNQzJpV3Uikrz35yTN9VRB5OdDg5a2F4sxaXiWEsQtfr8KDOcjYCdgxbx6gGNsgbRT9LY9W0BAhXBGW1f48ukdhESrt1Zjck6bCJq8QwBcoW/ny8cKKFbORJ4mOhOKi1Hw78ORTRMLLZv1VPosxtYeKUaLwP5d2As8pJBNKEW8MGhnPt/fX/N1goDaKyz2nnNYSqn9w/ImVroz2Q3FxA/0k4Q+33NoaC49IlfC7625o9XX9xq+ssqtCbSNMXMBueReXXjVwk8dt3VVavIvMI8aB0Y0jnIfg7G4bguQkgSAdzJ0gH6EVVYwp720SWjFJcF+LpHxzF09eNRDkVNeadHgg5YGiGms+zr3OwzVJOOCAGWXi8MOrHckee8z0ddxx1fbVr3WWfrhXFKQqj2qMgWdVmBODwHOe85z4eCKvjGG8TbycVYaJxeQoBzwjzla3cNsI/ZKz8oEPPJLTC2cqvlFgJOW/7nWvS6usskqr+lu+PDu+7J4o51ixk6222upRChm+otS1tuTtWYcdd9yxpXi0Ky4MiNttt13WHpwplSw0jGcINIpLrHDz2g0DtVFcbtl1r5ZQ/avPVBuLr/1QXG7Zdc9uuBnL5z//r4taY3FZZpXgTpiYt9e/PvDbKrvr2zbBitLC1Z0nln0fHPIHYndDgJq0QGcKPEzikKu2LGEiMe9Jex7MW9jQVVddlZULHXIpCz0mBE9yKoZIoJg0WGf7nBesSuBdFEYSa15lyEq/eUjQBpPY6297WzVht/3mHN+vu+6MMvEv43J8Vfrr2WfP9PWqV5Xe/EANulBZiJhKX1V6HQwKD4l97i6oSQKFQKnvL3/5y2MpOc6TGXNXJrkTCEF2d5L7ssLDwlNzzDHHZPfgSLCnnEiCl4RPAZJ3yUvvclqJ8SqXAYqJEu4KjMhPoTAyPDJG+a1nXvaylyX5ZaoZBl+juKhsKIwuLgxV3ZMBR8ja/vvvn/bYY48sXFw/jeLSaSWbz/IYqI3icsOmW7aE6t/f/O38GEt/r/0Q4IWNTRJ++J73tsZy98mP3PJe5Xiue/FLW/39ccSL70Ydp8o/QXi5mqsGQqPcEjG9hLtJAWaLWGMe41AkhGS5nd6N02eTcCYI1kC+kbLXLHVVgoo+GCvvmrCxSQIFXXUlIXsUqqrBWhPk3CIfAkvVfXZq31qPc6/rK/a6kJVJwkorzSgTVW8/RynyXNZaa5KzTplAG3T985//fKWD4QkQ6iS0aZL73CTf+973tvgZwb1qoCjhZ0K8hqleJrRN2FY7UHZ45rXfiU8yPKlaGKFhnpe34r6aCMdub7PT3/o2hgYaDAyKgdooLte/bNOWQO3G9ypB+6G46HeScO9pZ7TGcu+p7658KDe8bLNWf3+oGM/9JnPxxRdnliB5HieffHK/n4/8PUuOimJidqPSysiNDtGAMIpg7Cxh8xNY85h7/pLEKnDg8tHoi+VwkiBBPcZywgknTHIoY+1bpcCY97j3+iQ9TZD87/8+o0zccUe1aBcVF4rLhCOmsopVCq7Ib7n++usrnTgvAM8aBfljH/tYpX31a1z/vBHo2umnn97v5yN/L7nd+cLPGgVgZHQ2DUwRBmqjuNy42VYtgfr337qpUhT+/qabW33x9EwSfnjm+1pjufvE6vM8rt3gJa3+/vj9R8I4Jjn/6LuTZSe+K+uVazqEKDkHkwIeFzkXXOrj8LgIBRCDLCa6W0jBuHDB24Cx77bbbl3LeJY1FvHW7lJwi7Vk1EmCuHfKCyFrHB4XFYBU0BOCIXl3UsDDNqm9PmlB9klPmlEmbqqWpSWRQqG4rL32pFb70f1WTdeFNwVNlzdYF6h63uYZ+S3mX3X4aV3w2oyjwQAM1EZx+e6e+7YE6l9+8uJKV0f74XH57p6TTdr95afyY9m30nn/7Xe/b83b/P/2+z9U2l+/xl2MKNnPTcOLLrroQG7mfm13+l5FFJdyqTJVBwuVhHn18quufiTuOJi72vh1AEmZwrciDrqKMQlfCJh0FTnjkDAvTHEcVuhYb6/5kI7Ax7he7XEQe73qdcjvdZboSUL+fpWPf7zakbznPTOKy6SrnsuJ2GCDDbJQRYndVYKQJqX0lc8dR3hWr7moarbFFltkxSiEK1ZJ24xDBEHknHQK+eo11ua7BgPTjIHaKC73nv6ellB911uOrxSn2g/F5d7TJxsH/eAdd7bGcvW6L6qsDDSEPnDVNa2+bnhlBbehDbFqLuMjXC233HKtuvJDNNP3kZtvvjlLhK9acOo7kJQyReVZz3pWS5mousKZ+w2Unjz00ENrYZnj/XExpHWv0lJIiKAU8zRNOsfl2muvze4RMmf3TlQJBCb7XVWngw8+uMqu+rbtvMUlgebOC1Yl5Pe6vIdJgVDULbe8t+UFOeigakey884zisucOdVc4lt0BpLzrbV/VZdDVuaXB7sO4NypbmbecswYKaoCdFPxgyqVIwU1jjjiiEw5UvmrDryzKnw27U4XBmqjuNz/la+1hOrrN35F+qfi9BWAdrUfiot+Jwn/ePjhdOUa67TGU2VhAsn/Me87Dz1yktNu9S1USlUxRDFu5G19WeIbNewxFNVNxh1C4sJFZUFZBrfffvusuopqKu6wUZmlSgu8UArMh+AsfEElGlbpww47LLuZmEA/SEJlGUvCy2YtKG9f//rXy2jyUW1g6HIq9ONf1crhowbQ9oF8i4UXXjhLHHdr9TDJtG1Ndv1TUvp73vOepBRqHUAO27j3+jj3tJLeSsvKOVAcQPUkytoTnnBIS3F5xjN43KpZDXfz5fNpnva02VmIoD3gfI07VBCdmTNnTpbAbcZV0XVJ4o997GOz8y23JC45rQbLxVpVcljREfSnqnkbiXtQ0LXll18+u6Ol2OgG+5V9reqlCykVz8l7sAdraebXl1xySVbFrKoLl2d6at7NyxiojeLy8IMPpqvWen5LsP5/FSkU2g3hXX/6nTTc8aZDWmOqSqH4+58eSlevs36rn/u++D+TnnarfxVKuLxZ4cXEVwGqaa244ooZsSfMVwWYlfZVTGPtVmZSDX3haZirfz5TEz9ukKdUVBUuxtsQwrtbljFVlmjlSiWJU6QoUX4nF0aYh+owVTIW8yXoAeU3q0iiFrYhNEsonlu1vZ80sJBSWJQjrWoPCgtzJ0KsedWV24rgVGW3ce/1qkKUnFPVlhSZkK8kRMn5zp9x91jILdpxxzemBRf8a0t5+VJFdx0LQ4v8lsUW+0u6+ebvZQqLKldCY4VtueDvyCOPzIw2jBVVKs72BPqBxsgx038VwCPgbi4GgXHcjVR0Dm6kt/+WXHLJyiqdKUYgd885H/VuJDSDok8xwRva79Zqv4cljwfGEfvJWmgjDJDW/9577814Sf73wjedjSo9Rfn+mvfzJgZqo7hA713HzWkJ1jdvt2PpXhfelm+/dqdWH3e9bU4tVvW3113fGtOVq6+dHrr3h6WP66fnntfqQ4L+PyZ8q3R+gurGI8BuG45LqPLfj/IeAVXHXiw0wnrRRReN0txczxJiKFqf+9znsvr0hH/17CkIBIWNNtooUwp4GJTBVWnGbcS8LBK1lQqNu2WE9VQBSmXuueeeGXPn8aEgbrjhhlkpZgUK4IQQ454TdxC4dd34N9lkk0zxooC5c6Vsqy1l1cVnLqE8vOTb+dwrIGSDlXCS4ULt6wnPqtqtsMIKafHFF6+ssp07EiijwjCtbx2A8DPOve4ujTLAXuK1OOusszJvCku3fSUMUZEJeCaYv+lNb0qnnnpqpswIhfSPx2PTTX/dUio23LB8rwsyPmvWjOLyghdck51vgrMS3LwQaKAQOvvCxYh77bVXZjxBF4yZsYKQWaYwSXjnZUPXXUBadk6hMsBnnHFGNmaGlklfNprfa+HpXWSRRUrlN/qgGLhY17qiJ0LlRgFrjicw7gjrwxsUMon7l7TdSXGh3HhGtcYtt9wyrbTSStnN984dj7428T9edTydUmSs8pDcHUOp5p2ydg00GBgUA7VSXP70g7tbwjWvyE8/dN6g8+n5e+2Ft8Xrn+6qR2ysQd+45WtaY6NclRkq99A9984Vjvajs97fE0/j/pJgwCOhHj/rz2c/+9nShoC5YZ4E2VGVA0IMYR/B5U2hkOy3336ZUqJCGEJOeVHNiaJiHi669N6FXb73mRKevA6vfe1rW2MrO3wNQ8JQQhGkfFBIjId1jDXUeCgoxofx54VcF8cZo2R+c/MspnPiiSdm1mZW9FGstnHnAWspT0+ZwMsSFzASmuoSm03RjXwPFnrKW5mgPcJCWGAnfa9Ffm4qi8U5rHqvDztvwpjcIAI/bwrF2j+CojNw0EEHZQKZM8Pw4Gx94QtfyIjeC4oAACAASURBVJQanktnxL7mRSSoK1X7vOft21JceEXe9748VkZ/f/zxM0rLAgv8PR1zzIczI43Kdby6hFHha3Lc7rvvvlaHzjqlntHF+aPooFvCSoXvKiXOazkKsKzrmxcaXrvd7j5oH7ynzo/9pOxy7PdB26nq9xRBlzGikeZe5l026K95L7vssqVUpMQnKLLCG+XN4L/CqvPlnDspLgoD4Gl4ojZ22GGHluLCE+R6A3TXGdl1110zPHhP6YcboYSMOHkFqar1aNqd9zBQK8UFeu8+8ZSWAH/lc5+Xfnf9jaVg/Xc3fCtpLxSXu086pZR2y2rkd9+6qTU2Y7znHaeW0rRKYjdttW2r7RteuUX6+5//XErbZTbCKsj6QoFhqSM8jAqIIgFcjD1iT1AvCoQYXghWIrf9sk6yIvFaKG173nnnZQKLNhFjngrKgD4JDX5HEJAQj3FRVhB44ULaUQ7Y54i6MBpCBWFoFGUgPzcKijn7xwtEaCY8yG0hYPGuYFI8KX7LE2S8hBhhXHklJtrltTJ+l0cScAh1FDgKoZAkAqM5FgEWXoxPfo85wy9GPwoQaKwVoVFiLKHGmtQJxHgTPqwHhT0vIIw6zggLpAxS2OsEzqG9bg9VuddZe4Xi9QP4l9Qtv46ywWNiP1NQeBkpV3JWnGvhYM6mMBf7VaiY808wl69k/4dnz76mMPC48tIQ/vfee0a5WGKJlK69tt/oin3PqbTwwjNtH3TQn7ILZnmDnAPnkfAoLJGQaB6UL8aTqPaW74mQzXjEK22PolGEWrTMOXI+0YyigKaDT3ziE5mHUfnevPJUtJ3871Si5G1AhwjvvPRVhV3m+x30vbnjBTwSvMplGOO0Zz/xWKDrQv9GBfQaP7LewLidhaOOOqrVdLviwnuC5zkfoF1xwW9infFPBro4k02oWAutzZsRMFA7xYVQ7Tb7UDCuWnO9kZUXyo92ok3t/32CN6d3W6988ryx3nvqaMJHprRss31r3lesNitVmfzfbV5FPkfYhFAhyCpBEXBUIAqCV6SN/G8I4lz1kuK1QZjollyIuRM4CN8Ia1RSQcwpUBQRwjwCLlGR5+G4447LrJiEGO0aq7hjwg+GwhIb4VX6F6ZBOCfo82QEUzdmwkLU5CdYjAqELsyEQIWxY0x5ILARbDAUVjBCJaBcsRYS3ljQhJUYa7c1IPxREIQHyCES8iXmXNsUIxa8TgISj4gb3Ql/cBQhRAoHjALwH/tHCF9RJWqUPod9VhgRBcN4WbdHAcKM/SYpmrXUml9++eWjNFnZs85JlXu9m3GCIGUvE6JZewnkzmkkUzvfEUrlnFJUnB+eSjlYQq08y4NAYaG8O/sBFBdeGp4Xhg0CdoC3yy//UMvz8rjHja68UFoWW2xGaVl99X+m0NcoIOgWWmRMoVQ5r84kpdZ36BxFOuhUjDf/SklA/9AUOXHON7yZv3McylH+mfx7xqhIoOd1Q/eswzDAwBN5gsYM/+hXHQEdRc+cb94M+w/uh/X+8uy7MgDO8Rv8zHqOCqG4ULIBWm9voKUB7YqL0stCJnnxAGWWon7BBRdkvIDiHDyF4rLddtu1DGGN4hJYbV5HwUDtFBeTUSL4mvU2aAncVz537fST939w4PAp4Vae83woLUoO//GOGYYzCvLKfpbS9p1d9miN1Zhv2292+r/7BnfZy5u5/qWbzNXWTz9cTyIvdInSwiIoXpxlyT+18MULF/VCsLgLfSCAE04wjcUWW6yVCB7rhYmoMoUgs0SyMGHKwqKETEk4pMiEICPBleWVJZLVkTcCA+KRIdwQguTRYFZ5IYAgyZtB0CFAiMtuB96BsJSvttpq2fOsc7wjwwDFyLyFfsAHpYLllNCVV5a0zc1v/DvuuGMmwFmHADhU1pSCRpBjlYazbkpMPIeJiW8nSHuGx4mARLGBT8oNpSUuACW0Y8hCuzxHgCQ0dlJ4oo/2V+2y/hHYJEab/6TvdGgfY/5vggdvkHEecMAB2TpREoe5i0FbT3va0zJlxb6xxoHbfJ91eS/syryr2OvOrv0Ze9B5VMaVl9Ee9N5n9plzRykhSDEWHHjggdlZoPBFiBRBGY1gBCF0U7SF4+UVYkaHY445JhPoeVDbaRXh0t7ffPM5afHF/95SXigdp53Gwj3YypBVjztubk/L4ov/Ke2xx7vmoj1aRaecDWOH93xlPeMydgIr+oS++W2efnUaGbpHiePxoDSga+gnrwxc6SOs7fG8QgYMIfDGo8ujjt4WBedCG/Z6nG95kf6uG5gjww/jG/qJr1Hu0H55bWuvvXZhhcNZJvija9p0biT8l1lSvF1xYbxbb731Mt4WuG1XXOwrygjlyX5wrhQEsR/wm16KC4WaZx9vBO08KfpsXhsM9MJALRUXA37wttvnUl4I8Tdts31SDatfYrnv/c7vQ2HxSmnRbp3h4Ycerbxc8/wN0o/P+c/01//X/wbsB2+9PX3viDfPNW9z/8kHP1TLaRNUJfbxbhC0AYYUMcyEasRVIiwmCQjVIUCzCLoN3mdB3AkanlHRRsw/SxeCykpIwdAOIUSpR94H/WmH4EOQIWwT2An7FIiosoJIY0BiwAmcmC/m1M7sWVtZo1gnWa66JSBi8oQGbWAC7n4QB666Gqs5AaFIaIb+xRQLPcLUeJowOVZ94HuCCxzHXLIv/vUfwQBDMV7KBkabB9YzDI0nhcWZlVolmViD/G87vdc/3FoPDF0b2mKZprgIQ+EZw8wiB8Q6EBL12wkHPD2eJVzClTkTSH1uHp1C3TqNbVKfEY7tRYxbgrT1EgICOs23fZz24Rve8Ibst9rxPMu2Ygx1B+emrL0eXivnx3l1DngElIQOA4D9B6fOMk+g80/Bp1CgAZSYAMo84wdlhEDu0tp2ZQUdQLfQG7SGEN/J+h3nztgInwrpLbXUjJdEzst666Ukv/rhh2MEnV/VWPjYx1JaY425n19++ZRuueUfmdJg33fKIzFeShrlzT9n0WcBxu48o4/2FDqBXqKpRQD9ZGhCh+U+oJ32pDMsFI/Hh0JnDM6qvap9uN9ss81a5fDRIXQbH+BNcfadD9UgKTvG6B9jFEW/bkBhE6ooB8raB6C5cW8X7ze6KQkeDQR5fsZ4BGd4CGUarnj5PcODI2cp782LPoZ9hW/7Bt2lZPEO8a7lFQqKi2sEfBdjpuSq5KY4RXghKa/9FBc8TVVNz6F3zmwDDQYGxUBtFRcT+eOd30s3vmrrRwnhqmLdedhR6WcfvSA9cMWV6XfX3ZC9+vvOw9+cfJ9XWLzXzoMlJ8MOiuyiv6e83HH4UY+aA8/RrXu/If3ozLOSss68Kr+9+tr0q899Pt095+R006tf+6hnhMj94qJPFe16rL9j7ZPIh1DnAVMlXLAuEcQiX4MyAxBQBB2j4A3wHrEVguA9AU6oEMFFOxgy5YBgG6V3MUmKA8IpOR2z1YYY9nBz6wthx0R9x3LLYohB5xlTjN1nhHFKDcUo78GI33jFFFjSeBYw/AAMOxQ2eSj+xvBYwIyJAiZUAOOSkGos5sxFb95rrLFG1jbBg8chb/2FUx4l1uVuihTFgQLhNwSDfChMjBHeKEi+J7SxsvE8dRLc4hmCHws7BocBw6lQQGNnSaXcCV/BoM1D1S2Kh/AIf7Po8SLwvlknHjGfS7yHI6EN/iYMTBvYkyF8U3atK8WVYA2E8gjVAfaz2HO4VnjBnO1df/NUUqinBewD+WzmwHo77F6nFKjgRfG2n+wre93+QQPgTx5ReP0IVu3hTYwW9j0vLY8gmtAp1NCYKSnagndGAnu5E9jz6ID9nf/N9dentOqqcysfFJgVV0xpl11SOvPMlJDDb3wjpcsuS+n001PacceUnvCERz9DicnfsWnvOGO8St2AxxjdQMvQsXYF317yG/TL+aZUO+95mtit7fzn6IS9je6iv+iwtRIWSrgHLO/W3/kP2i3kCL4oODwUeTpA4AWUy7qB8aNH6FNe6DdO+4aSy6vM0GJ/mXcYKhju/E25FmroPWMOWu89PHjOPm1ve1Q8wDVlSuSBPd/JsNWtD2ucV/q7/a79c+eTgWmYZ9vbav6ePzFQa8XFkvzj//4v3XPKaUl+RrsyUujv1Wale955WtbOtC3x/V/+arpm/Y2Gm/ez1kjf3nG39Ocf1+MSujzuCdQSdVmQugnRfo9ZEv5ZsBBwAjWiFx4F34WwKzQKEN7lbmC2CH0IDYRy1kjhHAQZQgplhFDYHtrgGQoFSxPLoepArIOdlBV9YqQssxg9QaUXk8cYCOmsUwh/OwjfUI4SE9GneQutAhi+v1kuKQ7es8qZW1TRokgQArsB5cczvfIqCC++x4QJOaycnRgmJVBoDes2xkxp4wnwfABh2y3SxtULCCiYGaULbrTBymeOxgK/3hNyQcyXwEDZFIoyDd6GTjhgmbbHrVsoa6z99ps5x/qzUgY+CDbeU+7t815r3qnPOnxmr5vTsHudQBzhQugCa65zz+ov9IlhhFHEviI85oHHi0Xf2eZdEQZqHNppB/SKkM+Tw4vZSaHPP6NdZ4xC3wnkt8+endKCCz5aGYn7WHq9LrRQSsccQyB+dOtCLHm0eJPQhW4gFFZ4JUWNotNJYHUGKR/oJI+tc+68h/GnW9udPkdT7VNeL2vkNbwv3ofxhUcBhDBPUXTGeWp5gzvRoU79jfMzhhWlxym/vQBfsCaRywmn/o6y0bxyeIhzzfPlTDPS8cp3M4L16q/Id6G4RI5LkWea3zQYmDQGaq+4BIIe+tGPk0pg+UsUeykufnfPSe9MnptmePhPf0o///iF6cbNHu156jj/1WZleTEPXHlVLYUZDJNXgaKR9wh0WyMKDuEZk8XwCBfB8FhsCCli/Fk3CR3B2AgqBFnCv99oAwMm9HsuFJro199+L0yEZZCAgml2U1Y8R1BSgYjgQ0DqF+IjPIaiRSHqJCDFWOKVZRcTI5SDlVdeOftbqAdBy3divgFBDa54I/qB+bMYs/y1C3T5Z+GE8MXqKkRA9Z5u4ybMwK110naEnhkzAbUoWC/7gzKpYhMBhocpwqnCWisEkNAL7z5jSZ92sHcjhp8CTCGzxoQiwAvnb/i1bnLCelnXpwkfPElF97ozZD8wetiT9lrQCCEsvB2daIuzzHNHAIdDOGag6LanCZKEUUo5b5bz3gsoUTwVjCKE9H5w661/S7NmXZEWW+wfrdyXXgrL4our5nRvuvfe3i3bG842L0c/qzaB2G/hn5Ghm9GFEiPki1dQu865cLlhlJgYPbrAMGRdKFvWX6VBIPlbHhiPGQi6nv1Rk//Qe/mJ8lZ6GeDywzVPXjHGCgqbvRr8DC4pQUKw7DmArjPYVQkMQ1HAocp+mrYbDJSFgalRXGLCqoE9cOXVWc7HbbMPSjdv97r0ra22zV5vO+DA7PPfXHlVLauGxRyGeWV9+cOtt6Wff+LC9P2j35q+vcMu6Vtbb5du2ua16ZbdXp+VT/71F/4n/eUX9XOjx3yFDQgNYw3sBQQJDJV1j0UZk0ToKRU8JCyovs9bmQnZwkR8L46dV4MHgJBPmO8knGCGwkYIJyyvEtX12UtZMW7CjvHwDiD6vYT/mKewNArOIEI8AQvOMBVjVWZSeI22hIVgmjwvgQeCGI9SESBk8YJ4vt98tScXiIWbAgNHYenu1BcmLnmWEI7xEoi6WbPbnxc+op92ECpB6KQcGQulkvJmbxAEKDHwZC51FHLa59Ptb2tJGOeNs7d431hogXNjroTzaQcCsj3hfFLk44wLCyX0y2lTQYryRnmmxDpvBD17nIAn1woueFI7eQzgSD/2jPNKuUFD7J9O9CBw6hl98DgaW7tHNn6Xf+XBEW4jHLPX2cg/Y27O+IMPpmRJ58xJaautUlpnnUdyWdZdN6XXvCalk09O6StfcQZ/np2nXmNvb78ozbHfFNSg0FFOeilelBjrwOsnp4hSZ8+OmnuhXR4j9IOXxV5gdEKnrDNBH40vQm/zeKjiPR5gfyrMUnS9jVsYbLvHDr2iJAcdz4+XsYvnuZ9RLP9M877BwLyOgalTXOb1BZkX54cgs0Iqgxrx+jFPRBvTpIxgVgQGYUEEDNW8hAZJXmwXRv1NWBDG5BmCD0WFUM2r0x67ne8PMxDOIfQAYyQg9qtiRTEiIOnHc5hoEQHCbzBgQs0gsdkUM4JTkT5ibvDBGt1t7vG7/CvB0doQRIoAwYFgQwjkHWkXGMX9C+sQBmGNCDMULd4uyiThqJvgyKK93HLL9QxxaR8j/HgOc7dvjI3wSBnVL8W0V8hMe3vN3+VjgPeD8YDSzjNmL/CSCL9yfu2pTnuWsGZf2mc8GZQPirxwxE5hljFylmtKgf0Qew596XeWKCiEccq5/dOrj+jLK0GUJZ2CNAjI7TCXQUBID9pTFOBW6CUa2W/+2nRWGAg8wxPTz4OrTUK89sNYhAYQxMsC66APHh58wboyhqBd9gdjBfo8LojwV7xjEMCfhIQOCu5MoaQ30GCgwcAjGGgUl2YnVIoBTEciscRpwjjrFGbKYyD0S5I6ZoQJiadm6WN5w4gkO+bjxAkkrOqUDswLY6WoEEr6CadCJjBk1nwWPApUP2UFYjBmY+CNYVnEKNuVqG4IJLRjbhhWp9CVbs/5nCBAsBsU4EUeyyBAuOdxsh5F50ZYINwJ2RGuxUoNP/JZrGcnIMwQunjEeA88R8kMgYqyo6LbMEBhkxcC7DEeGusmwdUeI2zYK5RP+7AOVtth5ln3Z5xdCjRhniBvH1tvCgvFxV7rZj22br4noFJA7Sd7zDr2O6v2lvb1RbhnoRf6aTz9AD2yR3gf7ZFu42tvB41yZhglioYKRRv2J+VgUIEbjWQ8GQTQRjQILSoa2gVvFH+eLfknjA39wDlGi+He+baGFNN240a/dvp9D2exx+wVe4z3Fb1EXxgyyu7TmPQrz+mpT33qQJ7zmA8vtP08KNhjvDsNNBhoMPAIBhrFpdkJlWGAwLHKKqtk+SwUBdZSTIZwoHINZaKbQE/4FSZDsCUAESwwJ8qHEJMiFj0CqmdZ4DFu4QxFwqIghGDLcsjSJVykX3x7OxJZKuXJUMiKKgPRBgGOUFNUyIjnvBIc+oXi5X8f7+ETnljC+ymB8YxXAgKLuGpBnTxq+d/m33vO/hDeRqDC0Hlbinp+8m15by/xunQLV9GfNSRIUWbsL4KONSbgUrwGFSLbxzA//g3flA0Co30ArxRSQm/gtdv+JxxbNwqHXB0CMqHXGjm7odB2w6s1ZQCxh3hjKEdFlRVtUjbQFEYJ4+3k9enWtzNCSWIE6bbnuj3rc3hCGwYFe5SnhuIzCFgDnmXPWq+ioD/GIvP0j+Jf5JxYO7TbGWMsYjhA84sqhUXHF7+zdjzaxofm8+z6R7GhRDOIjWKsiPBF5ZuLlomOsXkVTSDRvlM4WP533d4Lu8U3G2gw0GAgpUZxaXZBKRjAGAm/wrCEP0jgXHrppbOYbAyL0IjBdxNiDAJjwZAJMnI5JCUi1oTZomEbLHHCRAgkLH4EkqLKijFQpCg4mC1hulesdzfEGT+rLyFqGCBMC1kZFihbgwgn0Q+BhHWPEEhwLALWS36JcAaCmGIFQuMGEawIM/IXJONSniinFL9+gmv7+Nz5E3fXtH/X/re5UlYIrwRl8yY0E3QIP6zwVQlZ7WOZlr8p1PaF8+iMMEQQTHn4hPI4e72EQ2ef5wR+KTkMAtqg9MB3Ee+INfE8oZQgTQm1hkWehWdjMFYKur3Gg1H02VgnNMEZ4fkd9FltmIOwqmH3V4TUxngGeYUrhg00clDwLCVR2B6jQ9G5O8fokTPGI0xJtYbDzr/ouCmX6JA1dq6db7lxzru5FDVWMLoxysj/6cW/eo1LyXYhxsOCNVMts4EGAw0GplxxYfng3sf08oC4sN4hUnUAAr2xsAgS7oYRhovOw9wRSAyiSmDhIqiw8BO0CRDm5r27VbjTMYhegKGJK8fE4EcFGW1gbJL4i1pAKSaEH8I+yx7FYRBlxRhZbzE3TNlYMLVBASNnbebdKapoderDGAb18OTbIVSw6A4LBDuCGYbfC+BJsqlwsYCw0BIMrQWraxFm764aiiJhhoWXQMuibU0ow0WsvAS6VVddtVB/Md78K6GbYE3htJ/Mj7Dlvc9810swz7c17e9DsSNw8mo4l5QNAi/FhXW7m7c0P3deQzTC2jjfaCC6QKAser4JoKzmzpbwUOtiXEUFZ+PxW/vKviR8W88i+xLtpgybAzB3hgFtDQsUPUL0sADvQrjgUh6gf5T9osCA5Gyhs0XXIN825dVa4DHoPYW2KKD5jBL2kzGYA5wO4uUt2lf776y39dQ/4xraQvmkhNtfvH/typTiCXgRejQskE94k/U9LOBPPMrtss6w7TXPNRiYZgzUyuOCqLHUExaKAOHOpVQs+nnAdF2qVJfa5ARpApVE8y222CJLXmaZrgIQZ2FVozDG9nHBJwGEAIlhE0K44wnIBAAKDAZIIVOm1hw7Ce7GRiEQLx0WW+ELmIY2rD944xvfmO2D9nHk/9aOdcd8WV+NZVBlRXvGaQwSho0JgxgG4IeHh3A3iEDV3pc9bSyjAOGa4tFpDYq2yyhAsCAkxrrkn2UwcL9It7NqrVk1eV8olJShbsoHQU5Ja8/kgRAhLJBwQQkiNBMuurXjWQqQ/VAWEMrsa4IrgdteCUGH8E0I7DWessZRZTvwDteUEetEGCVYWhdnk7BE6Gpfn05j0g7BkLLHG+M8wJvPBhFOCefohP1F0UBvnI1Bzxa6hE7wwFKMB/EEmp+1l1DtHASdKFJlrBNufAaHPEVFPZrd2mEocrbsdXefDJr34kzzZlPkgm4Oyn/RYPuEocbZHJR26s968GigEeZk/xVRiLvhZdDPjcE87C2GGmOx15xxuZk8/8Y0Cij5XEZJYzl8CrY00GBgfsdArRQXTIZwj8l0AoIYJYC1DSPNKy4EX0IOIcK/UFwIHoTtIKr6aLd8+Cy+79TvqJ8ZM4GKkA8oFhtvvPFcnhdCHs8DQhpgTIRQwgCrJ6EtgGCJuBIyIubWs95jRJ2sYNrSB3z4XQgsBAo4QLg962/MmbVcv/qhGBDeMHLftwsxlBnudNV18nG8sU6EF0IIK5f+tdNJCPF7lqX8XGPOlAPjJ8iy+LGaxdzjN0VfWc8xbmthbp3wVbQtQhnmbWyjgnn183QU6QMDhutRwH4hsPHeRBy/Pel2Z/uZIlsECMQEWMoHQVi7edhtt90yz2n+s/b39pz9Z80oq84U4a9dabAO7oCoCuLM6JtgbV87H4Rj58W56XQ+qhrPMO066845+mnPUlCEVFoba+qc5elQrz60FbkFBHvCJ6VF24PSVGcQHSQ4yoWDV2erE53oNSbfaQvtEo5mD+MPwwA65Z4gOWfaQm/z+9d7dIhwGzTRKxzG3oy/vZof/mZsaCY8xXPGh57ZU54PQP/h2ZyCl1k/Hg+fK8nbTXGBP+3Zr35rXdFYfdqv1suZcbZ834v/xnjaX40PXuAH3RnGYGJcFGT70PmmEBnfOJWYmJf1dJeK+7PsZfsQvSFf4EuDGCusmXuY4HdU4JliLMrvv1HbbJ5vMDCNGKiN4oJhIr7rrLNOpnRwhbP4IopAiABiIjmOFYTwhLBRAFye5dXnLiJEmCkuLPesUSpaSfTGXAg+G2ywQfasdhHM2bNnZ0mLVS1gu+KCkRpTWDLdkksQdF+DeWFeiBMmosoSr5Ixb7311plQxDr1rGc9K7uATm4BzxJGxOoFDyuuuGJWrjY/H0KJPtdff/2sPbgkeB122GHZHQmek6vw7Gc/OxNUEVoCCVwGA863l38vuZU7nZcHo/Gc/jAxzBnBDcaZf67Te3OBgwBMAsMQCkH4JWgNq6xokyCiLWEr2h1GKIqxwTmlh/Kj3VEBrnlbymBM2iKQlNEWYYk3iTAhSXSfffbJhJxB50vYsicoQoQDTJ1Aueyyyw4UmkcxcPYpZqz61gD+7VPzxdyNeVygX/vUvnduCKWERfTGGSfIlbEOw8zH2OwF54/hxNgIY84kodaaEFiLAnpJ6TdPQiZlBf4ZkwjbeSG8SJv6Ng60SziONlnhh8UXfgH34aEbRojOj9s+xVd22WWXrACFylAUbf1YX/fN8DLjW37Deo+XodnGAeAKfbVneVu04Xt0Du0Peia8WV94lnwvOLF+3XgZfFnHTooLpRH/Q895Dlzkqn2hWRQxbRo3PoLXyulTMUu/vmvnv3mcdHtvLdFnniDKp30yDNhjzhL8GS8eYn+hF1UD3qoyoop2AfY0moNWGYc5OkNeKZ7m2c1YIexXBEJZ4C4vXrIGGgzMzxiojeKCICgrucYaa2SCtNvLEVMEGIF4wQtekBExiyWpUrIbRoAwE/AxDEw5CD5irooHayImQ+g//fTTMwLjWeVfAebDQluloJNXXAgKGNzBBx+cKU0YWVQqIWC4gA/xxLjdjA0fxiYkAKPzGzHNLhbrJCT4TNsshAGIqgvcuKwxSQwR88T49thjj4ypYfQIMysTJbEIYCRuayfMUsbME74xU4xnGEZjPXkdMHvMj5JBCbK+wwKcsJRRWnlr7DUCwSiASWuPMgW/ZQBGDX9lAdxRzsoA1l3FFkZJUI1xONPmKnTnwAMPzATB+G7QV4qy9bSnWY8JmgQwZ2SSQCEmNDsHFAZeNPuYoMMrAwej7sH2+dnn8IHGEP7RNviwBygHvQSs9rbib2M0D+PmVSJEorP+HkZR0S7aZnzohfPjlYI3rLKiTYqjdtBJ4wuDV8xjmFf4I3iuueaaafPNN8+UY7hkAELj9ttvv3TEEUdkdByOttpqqyzxvZviYlwMRZSY9nAz7TGuoXkAr7KH4aQbL9OP+XZSXFTqcwu9/WcN0fVQXBiZXBxJQcB/0HA8xnzkJuIzef47KO60a89TOii2lOZhMuFVhQAAIABJREFUwdgZJew955tiay8Pw1t6jcGYDz/88KwKJqWkHxiXM2wd0R9n2xknk8C5/WDt7B08pyygFKrg2ECDgfkZA7VRXCwCYbCTq1oyJCE+iFVeceGJYMUFhFNMheDLaqRSEcDQxYfyzACuaN4NBJCFn9UL4aoKMFQWL0yBYP7mN785E8QRv9e//vVZ/gsm45+7SyQ7I3rbbrttVqrTuDBiBBHwbMiZYZnjng+8+C4UF4zJ5wgoAZYlj5cBYYUvTBKhxXjhxXPGA28Uxm4AT9pk7V5ttdUypYvF1diMUTvDgGcpTOalbUIDZWXY9ozBfDB38w8GOkp7MS/zt8fMWx9lALzmQ7LKaBPDpxyMMmfPUpJdKgmHlDXClbM6KmD8kvt57Cgy+fCYYdq2351pXpillloqC/EgrJe1RsOMKf9MnEdnxTkk7OQFHd8PslaUIwK7daZIEKp5Ue15RohhlCP9e84YCdNCgCg/2nceh6WT6Jk2Ce88d84Oeu3zUcCYjNGaGy8cjgrmSEAmcBLAeShC+IQH3hJz8EpxCGAs4o3pprgIfyPMM5S5l8Pv4QTw2vIUahMfWGuttbJXtKYbL7NW2mSUyoeKwQFPfHxm/+cVF1b7UJz0q1qVdaD06pviH9/H3IZ5NT4KKlz55/0g+7u9T/MwLoZMtAjNoPCOSosoVrxPlNNRDGT2DcOiMaJDvOf4mXmjQ3jcqLTI8yuvvHI293b8NH83GJhfMFArxQXx7KS4sP7wDMShV0oSIcb0EXrWGIBx88ywWiP2kZyvXV4WNewBAYn73O3fPDGE0CqB4pLPcYm+zMc4DznkkIwYI8gsXyymgYtubmGeE/OjkCgDi+CGBYgyRCERT40x8qwIA8OEQYyHkINJuTkdQ4nxUBQDfBaCDGWC4MEKufzyy2cK1iiMCKNE4DEgFnNM0xqN0qZxYyAEDEI2AQTTKAswIfuFcFImGG9YW8tsl0V7WIunfSgxmeBGEAbWxj4lyI3C5LUV1kMCuLNMwbQ3I3RmFDzsvPPOyaWU9qsYdXtXu0FDRmm7rGfh0hmAR+fUeeVpDMWDEBShjMZN8DEHAn+v3w46PmOwvtqkpFhf+1Ff0f+gbfq9c0ip0h5PjVd7EW0bFZxpdJ6n194po01jgmN0wz40d+N3BgjKIBQXfzsXjEEBjEX4FGHad+gaoKThSwqyaB9eGJ94aFZfffWMfylAQHg2J3iKNTCGXryMsoaXhZKiP8oO5Uh4J9Dnq171qpbHRehSnF2KC55L+A+eo7AHBQt/KAsI8+ZGgUHz4WAUcB7sATzf3rJvnaFBlRg0l1ERD8znZo4ytniW4RGPZlwIZQZOeWjsK+s0qLFC2+QWPL6BBgPzKwZqpbggRixWUe8cY/cPwccIEFvEj9cCUSCIh+KC6KpIhghTTPLEnpBFccBAAuTPsPZiSkHE47uyX0NRCMUh3748BAI7QgaM3ftgIu2KC8KsPb9D+DDAtddeOxN6EW7EXM7OSSed1OqGZddveDIII5Q4F0Nieu2KC4II/9rBpD1LmCJwIMCUSIR+WCEboSZ48faYB6HDXBBzJSMx2WEBzghfhAqMTLtlgb1JqSRcl9lujA9Dt35lgzUkuA8KwiV4CHnjzL0djJVSRAgZFtrjtfVD6COI2BuEaed/GGCF5yXSpj1nvITB2HPOTqd5DdNXmc8Q6BgK0ABCDuGX8u2f/RcKBTowLG6cEzSPEk7wQwesYxhMRpmP8Vs3iqIxox9Bz0Zp17Pmqy1ra4+gI2WuIeHSnkZDAvTXSXFhLENnhTpaC7ijHBD6PcMb7kzDMyXaXuRRhY8wAqAjfidZH76EAAmHAuZlrdsVl3ZeFl4SZXsDjAcfRKuth3yVxz/+8VlYGIWkm+Kiz+C/wl/ReGtov5QFzh3caRuey2jbuOEfn7I3iu45RjJhc3BSNlg7xr32MGJ7GD2y9vabM4j3oU/m4Oz3MxbgzfIC8fIGGgzMjxioleJiAViwJAxSSAg2CDoLJMUl3Odc7KxMhFM5IPI1CObCvwgnCBkB/OlPf3r2mVwXbts8o0c0hJmFklTl4hOWOnlc9ElQl4DP8ib22RyFsiHomE8kWPsdQkXQ521SPhaOhGvxrmBWwBwxU5VMWPngQ1vCfeBBcj6LjWeFjFFclFhENOFZ2IAQO8yXohKWMe95p+BsUAHb2Cg+GAqmhahrL78exic3ZxjQPrwQ0Alioyg/nfrHaDBwQmQZjLa9D8yc5TiPj/bfDPu39SOMYYhFQT6LBFVW4F6gTXvIHot90uv3+e8Iy0JjOjFpeCDcMTQ4O/aOMz0oEATlbuXBXrG37RPeGHuREFEF7vP99noPdwRQ+8C8CTOEcgKKc8Lz4h8h2Nh9DyfOrM/Nqdf4ta8dzxAWKUTa8LxnRwVrgzYxzFgzuEVfO63tMH2Zm3nbC84gHPWa76B9aAv94GlpFwb120lxsec9w+gkrxL9Ziyzl+CDtw9t5ulGX3nG0RBnC+2W1C9cl2fEHgTCfrXjO3xASLH16cXL9IUuM/rIpzAHwKClAIv+999//8wThG/2Ulw8l+e/eC5vPSXDPisT0Gj7BM2GRzS2DIAP58Q+d77tdfslT7fRLTyU3BC4L6PvfBv4Kr5cBIzZ+bd3nHnGG+ffuH3mO7/JAwVTSfoGGgzMjxioneJiERBJQm6eWCI8iEyeAMWCEaQRqnbhyfOIYyehDVFjIfNcHQCDRMBZaBAqggbBgrBBCECMzSOEFH+zwPquKCCGhCMChfb1ydoDB977rJOwgUljgvKEOn3fqX/jRHhZwYyToKT9TgKH31K0MJlBAJ4ISwQCcyiL+eXHAF+Ec+13Gnv+t8O+532qch/CK0WhHzhb8r0YDpy/IuDMWV+WznbrYq/ni95JAP/a5wFyztvPeK8+hMoIv+kGsUftIX1Q3Lvt0W5tDPq5PaRfZzkUkVBC9G1P95ujNqwV4U8bzpk2CD0EHXQvhCDnzvwIQ+iJ9svYxyEgoh/ogz70X5Q+FMGbPqy5tbc+9kLZYLwMYPoYhn4YI7oNv3mAY14s60MZ4u0OsP4Mcs58u0BqTX1n/YDvKUQK13TjZZ7hCW7fN/CF5g8K7fzX3jJ+r2UDnNtDaLg9NAgN6TcWuINHckMomjx1FEqFD6xDFWAOvC2jKEXW0lmNcwz3eL01RTsok6ImyjjLVeCgabPBQJUYqKXiUuWEWXjEA/M4cOtPEvICCAJFsCCEBHFC1NsZ2zDj1Qbmpn0MFkNFBAlKnRTBfB+sgKzvPD/9QFv6wJAxWX1hgv2IK2+YkImiYC6YHOuuPsoUlvJjwPTl3phTVQBnmFC/dRilf/tIH73wBI8swJJ6rdmg4PmiuNL+oLdAx5ozOBRdc8zf3UKe6QfwT/COvWvtCQj99m6vdj0L5wQQcybAOt9eQ0nptSa92s5/px/CEuODc0EQpwxTWAn++iKkjUpLQhCk4DnfcOVslDGH/Hy0B//ON8PHMPsx31639/YUhVsfo+KmWx8+JzRTIIcB48qHPXdrgyfbWlcFzkKVuGpfc/2VCfCoqA+6I+KAUkGpLHvvGjO5Ah0tE4KWOOfOMxrCK8c443yEwWMUelXmeJu2GgxUiYH5TnERNiMXRixxlcyqfdEQFIIUIRJRpqggnF797fN2i1l7G0X/1ldYaygoBD0CUwgwRYibsSjdKayhl+CH8JsHZYgAwDJkPkX6iPkIZ8hX54nP218RaIIZQcC8ysJXez/2hX4IA/BYJRACWVirBh4X+6ATCC9x949QklESVO0voTzm1Gv9zz777CwksdNY+n3mnNhrBHPCYD+rqYRp5WIHAUoMwWDQPW3feDaEC+fCvxAsfNcLL4OOUbsRWuLcMXjoO+iaV/ghoAe98ZsYj7Pbbzy+t64UCecbTuCmCoEPfvRjbQmWVZ49CpfQM3SkSrBfGctGwZecPR6nXmBNnL0qAb2lsFqffudu2HHYs3iV+dpv9t6oYNzCsfEyyrA+nIHY0+iVc1EWP3E9AA9Y1aCUtTBG58R8zAG9gTN0wHkKWlD1WJr2GwyMEwPzneIyLuQiGAgHohKKCoJCiMDMiggNRcdKuMBIEC8MmRBDoPG3z/sJJ+39YObirIXSIYTtYOwEIYIwNz9Lr3kN2o92WfEkgXd71ufwJhyDBRmDrpIYWxtMU39V9mPu5kbYsD+qBjjEtNvxrEKfXBMKfRlgzxNuKGPdhDWMPWLxh+1TP/Y5hYwC003IdQ4kJnsdBszBGYi97mwQCgg5vrNfQjEII4SxlC006E8/xmIM/oWiUlTgsvZ+G8oM+mDMXs3J576PviKU1Nz12209h8Fr/hn96kN4ImES7qoCOCCo8krBZ9WgL56pqsG8GJisZ5WgH54dfaEpVYF+7DnKi3/2us8GBWN1RYKCBNpoBzQe/Y29bv/BYdEz1d4eOiqfaRzg3Aixhp+AkDuc55A7zMdeL1vuiD6b1wYD48ZAo7iUgHEENQSCIBiEgaqIhf4IEfpCjAllBHp9Ik6jCNzCfdSJl1CaZxTmp33CImbMKmZ++d8Mg0rlQ+My0Pzz2kVwMX3KESY5al/59ju910d4czp9X/ZnGHPRXJIy+qaQ6RNYO2W03fg9Six2p3FZJwKA/vSTh69//evZHRb5z0Z5b19S1jFvCkx7f9qW3Jyvsjdof+ajH23b/7xxFCZ4c+5GPXOdxuMMa9eeND/nzXlw5o2lLIi5UbbQEWfN3CjuoaSNQk96jVOf9gmDhPlVpRjFGLRvn1i/qvvSJ9wS8K3ZOIDwnRdiq+wTL0Ar9WmeVYK+ePrsSfSr6H7kqVIBU3W1Ip5k83DG7UX9mZu+BzlvSlyrgjouOProozNvUq/+4IsxwHmjzPhnnmFgMb+q17DX+JrvGgwMioFGcRkQYw44QoDxESwQAP8wJ3/7vChhHaRrxEX7CCni7R8CxOpSVn9ic1lwImxLn/pAyFlECVDmWRaRC2s44S/AXChjBKhugmj8tqxX8yGk8RSY77iAkJGfe9X9hoCvXxfgEejtqaqAoE0Izs9R7Hf+nqCy+raG+X1jHWOfEh4JMEUFEM85x84W5h5nPM/ofUepINyw6jqPvo8+B52X57SpL3jTnva1WXTcw/SpfetDgXAG0BdCTqf52yu+M55h52mMaIj+CKL6Lot+9Zq/Pp3vcQjaMQ5zG5cioU/rwpNkH40D7AVrSMivao/m5xH7hjELbnv1efrpp2eeZBeTDgP2t/7QTHsVD0RTevVJIZYP6kyNCxhPVJQz1qJgbuZh/ZzpPH2zd6qSYYqOr/ldg4F+GGgUlz4Yaj/kiJJ/DriDj+mOwsS7da9d7YcgQ5hBOBGashm9NgmxhFnMXZ8YA+vyqAJZt/n5XKWcyD8wJ31hgvodF/FHwClIGACCPS6Ac96Wstey1/j1pTAF5jquwhTOCUGDcE8ZlRxrf1UFzqJzQtG2rgRxnyk1Hhfy5fvudr6tj/Nnf/Q7336jT4o4wdhZ9Xyv53xnv9nnxugZr/72ea9n8+Mf9L12jU1/zpkx9xPI9GHvGJf19Lxx+pcXdHqN2XfWnRDIY0sp6/X7QefV6/foCgUCfscJhHp4Hic4Z/6NC6yhPW+u9sU4wJ6jZIfHM0+3rbGS/q4fwEvKAHO01+0jZwZvtJfbabeLpHlAxg2vfvWr0wc/+MGRujXHvDIT59uaFqWDIw2gebjBwAAYaBSXHLLi8OYZtIMbzLmIEJNrbqC3+tav/ggSCDArir71WxUg/u4hQOwJeixLRQSvUcdjvi5lc6EoS7m+CVGI5LgArgnTmKDxjBMwQP2OC8xP+J8k/EsvvXRc3Wb9YPCEqTe+8Y3Zv3F1jvkSqgjLquK51ygEcPvM+se/YM7twsigY3VWQ/F3lgjocYZ9573vnW/nXP/OfZX7T9v61acxheA1Cl3RZhFc+p35hkDtfZVzza+XfpwzNM78xwn2HmVpXHONuZmn0LtR93G0V/TVPudx8DoucG7sZbyDZ0QOn1LH7q2par2tpzOLRzpLeJe19jejDKV83FBVXo09hEa000q4hXvfj3t/jxu3TX/1xMB8q7g4cPmD6TDGP4fSga2S+Os/BBkKCoaeV1SqJgjm5pIyoWEunMRwEOSq+41j8JnPfCa7AIxQifjD+TiB0EhpGSejjfnBPaFmXEoaS6FCCwou8EToexShNeYxyKuzxdMjx8VeHwfEGbPWBArhYkJHCBpxvqvc7+ZsbxPa9U+Jst98XmW/cKt9+8vcCXfGgb5Uue76tLedZbSEMElpsOfM23dVzzv2lTEQaOFcv+MGCpP5TwLg23qPG+xrXg4C/bjW2RytrwpbFAcVC41jHGCO+mIQED2wzTbbZPt+3PtN/g6FTU5PlRDnGw1BW8w9/vk7aGqVY2jabjAAA/ON4hKHDkOLw+Y1f+CqJLbRv/4wdUIEAcoYHPgq+46trg/9IbRKQqsm9dWvfnUsfccYzB9TdTHgueeeO3ahAg4Icpg7XEwCWOfGFc4hv0MZ0MMPP7yFa8IcZWacwOOhdKe9T6DUf5l7XlsEBufbHrO2/nnvM9+5v8GN2eZvDcoW4qN//Trf/pmv/v1z3gnw9j/lzWdl40Cb2taHvkJJG9dawwFliTfROYv+jSvWJNYlBJ0ycWCe+qQoWuNJgHkJjyx7fxWdi303Ccu/8Vl/a4++WfOqQR8HH3xwWnXVVVsVGvVPaXT2xgEUh2c84xmZUcbed/bwWPscPsYB73vf+zLaNo6+8n10o7vmbm3Mv+zzne+/eT9/YmC+UVxieR2i+BefVfXq0AbDxkz9c6AxtHEdZv0Q3ggzBBmWQDGxwmYI7+OCUFiEgykBzNPjs3ECvGNqLILjYiid5gfvhIuqwcWevBwuEc0Dhk6wGdce1Lf9dskll2TDyK9D2cJdnO1Oc6MsKY1McYqwKWdiWAFLH8ZvH8NpnO9g2Hmc59/be35vDP55zjOdxpx/rtN7z3hWG+aiPW2XjddOfec/MydCm7NFYeiGU+PN/8u3UcZ7OODFhYNJgTHAwyRhXDSm2xxjHezLqsA6b7DBBkklL8pCgP2lX8oL5dle8FlVcNlll2Xh1tG+voLnOo94L75f5RjgG20bl0Es5trp1TzjX6fvm88aDIyKgflOcRkVYb2ed1jzggyCiYD5rEqi1T4mfemXcEyY8Opv5Su5lA844IDs7/bnqvgbwSbIEBoxE2M78MAD01ve8pYquuvapnFEqM4416J9QPZE1cyF0Cif5JnPfGbXi+vgYhzKk/l3uqvHGmC2xmFvjgvEvx9//PFZd4RtOCDcGEu/cRizZ+DXOvpnX/nb58PsK89pg3DjrDoj/eiFfvxG/54JwUhb4wbjMAY49OrvSYC5GwPDyKTGYN7WZtKKk3EQmCetPAXNNZZhzkavfeSCR/l6ypz3KnVsDO38p1e7w3y36aabpvPPP7/jo+aNPjjXzkfw4rLxoXN8PWhbx8E0HzYYmEcw0CguIywk4oNJEngQSP+891kVhKnXUINAEmYQR4TSWGIcckpY37sR2F5tD/qdPoNhEAi9j3Eg3mKRWb3HBfDB0wI3k4YQ8KoaB6WIFZJXDe67AZwQ8sYBe+65Z8e7evRtTayN8YwD3C0jRDKvpNibxkHACQXGZ/4RiAkecb69hqLinL/3ve9NH/3oR0caOi/oEUcckVXYcyEoQQ8+9JWnJd77zHeTVFZM1licZZZu45mE0hRItx72svULOhPfjfsV3Z20wmDO8GBfwc0kwT5B8xiuytojp5566sCX5sKDc2W/WqOy9okqnOiJc9kP9Gkc+ndmvPq7rLGgbSussMLE17wfHprvGwyMioFGcRkQg4hMCDOEH/8Qn7KI8iDDMRaMgdCFCHptJ4TGddRRR6VVVlkl3XzzzYM0P/BvjQcBJ/wRaoylHZTj3Xbbbds/ruRv48GsME14mjQYAw9DVXvlqquuyhLQTz755J5WSHiAGwpDXoCvAj/CNYQw9EpUhhdrVIVlttOcXvGKVyRhdO0AJ6HAxHjiTFkz3+fB35/+9KezIhf5zwd976yoDMQL6Z4bferP2viOQB5x8/HdoH2U9XtnmtLkjBtLO07K6qdoO8Zgb6F/dQBCOqG0DmCN/Js02CP2Mdx04glFx2cueMfzn//8oXN40Brroy17ZlRaPHv27KxaY9E5xO/gxFjwy268O347yOtLX/rSjmXfB2mj+W2DgbpjoFFcCqwQIqNO/U033ZQJWPlHVFGRs8G6FVYXrwg1osgi4xI+RKoMyBM8TFtf7cpK9MMK+bKXvSxLisY0qgJjijljCr3muvrqq6dvfOMbVQ2l1S7cE/jGJQy3Ou7xxp4wniqA5f+JT3xiVjWraPshgBb9/TC/e9e73pV4XPqBPRRCeq/906+dIt9/8YtfzCra9fqtM2Uvx5q52I9F0zmKM+g9odk5zEOchfbzH14Sv9eWtvMgF4lg5neUFr/zj2Bz1113peuuuy6rhGcP+T4UcuO47bbbHqWEShAXHloGPkNhMWZ9w8EkQf/wRKEbRRgucw7wjOZOGjcxp7qNx7mwZ9vPS4y316t9LPS1rDBnZ9M47OdhFRj8pYy8kqAn8GNMXrvx9F448p3Iihe/+MX9ftZ832BgqjHQKC59lo9gsuuuu6Z11lknbb311mn99ddPKjUhePIInv3sZ6ctt9wys3RfcMEFWWuqZW2xxRZp5513TiwgfvPd7363T0/dvw7CRmBA1IoQthtvvDG7J+XYY4+tjJEal7EQIIoQf3HJFJeqAdHHVIypLgBXBMwyhMj8nAjXu+yyS1p77bUzoTb/Xb/3mLcxea0CzPmpT31qpvAXbR/jtnb2elUgJv7pT396uuaaa/p2QWF50YtelFl5XWKpepD7Kq6//vrsUktx9qqV5aHT+Wfc2HvvvTOaISZ+ww03TC984QszhcSz1uC//uu/shC/mL/P2umM/s4777ys7OzLX/7ydNBBB2XjQ5/22GOP7CxSbN7whjdkl/ARYrbffvtsnfNjLPLe+jlL9ph/wwpTRfoa5DfwYo5wU9XeHWQ88Vt00L86QXgW6jIm9M+Y7Cf7qwhceOGFWZhzJy9pked7/cYY8jxsEPosrBOPLxOMxxjyvN7fRXHlPDz5yU/OZJQyx9W01WCgThhoFJceq4FYSHZzOWNYyn3mH+Hkla98ZZZojVgos5pXXFhi5JNI1CSoDKq46GNYAmZsqnZ9/vOf7zG74b8yX8Qe8/FaVHjYbrvt0jnnnDN8xwWeJPhaK0JWnQCeYg+VNS4C9KxZszKB1byHgVA6h3m23zOqiKkmNijY93BlTs5BFXDmmWem173udT2btr932mmn9Na3vjVTgll9GS54S+x5Y1OK9ZRTTpmrHeev/fxTXPbaa69M8XHpKryrhsQjZW/4R3GJULFosBudEXK47rrrps022yxTYihYSoy7fPDDH/5w9jmlFB7lO7HEFgXzIjiZP+XfetQFYm8YV1V7Y5i5GgvvT1FaOEwfwzwTRpy64cre6qd4GrtCLowMg/LPQXGV3/PoTr897/fCr53lqkAfxjGoEqNgwb777lvVsJp2GwxMHAON4tJjCTB9gkEoJPFThI2AIV8DYFbtiovLqBBn31FeilqQESv/PIdoefV3ESD87LPPPplXQ2hJ2WAs+iA0mE/RcRmHZHxJ+ZhVFWAs8E0gNM66gXkX3QNFxh6Xh8YeLPJMp9/YYyygg6xlp3Y6febeFve3DAOxnta0irGZM+WiV0lwiop4emFYwMWdCh/ceeed2RlwDghWnRSX9vPvtzwuLns1H0KZ+HhJ+TG/CBULJbQXnaG4CAN1DxMQFuaCUQqS0Dx39zCs+McCK6G5HxiHPWqsRYS3fu2V/b2xOUd1M0qYJ7pYN29L4B8fK5P2RLujvsJZt/V0Lnk6RTnwQI4L4mw6A/7Za3E+82NgFBzGKJNvY5D3xhAyAZrt707j0qbcRbSNIt1Ag4F5EQON4tJjVUNxaa8ahCBI8P3kJz+ZPY1huZk8FBxWUuFl4xSg3cux3nrrZQpU2Qw0FBbCTDdC3gON2Ves1oS8KsD4zNn4uhHzKvot2iZGYy+VMTZhTieccEJ60pOelK699tqiQ+j5O7grW7ChOMu5IZwMC/AVAiEclg32o1DKbnD11Vdn4Vw/+tGPsp/IcXPGeLpibMJFKSP5s97p/Pue4nLWWWdlbcE3j8+73/3uVvftiksvOkNxoRjGbdluqBeWyjKtn0MOOSTLb6F88RD1Ko5gLsbj/MB3fi6twU3wjfEZm31at7EFWroJ4PH9JF+tbdk8oaz5ONfGZt9ZZyAHUnUsBoFepY7LGkOndozF2Ow7/9r5HqOBELa6gvBhoWwNNBiYFzHQKC49VhXxevvb356FdEgqDEBkhT35DnFzay0Lx0c+8pHsJ50El3i2itevf/3rWUnG008/vdTmCQnm6p95BmMZtBOMU8lIhQrKBuMKy1jZbZfVXgiEo7ZHkJU7JSSI4FoWYMo8G2WC3IteSsEgfVW1xsKqlAi3Pp2AZ0XuEAVG2BVFQ3hIeDOdB/MUmpE/J//5n//5KMNFu+LCU0IJ+s53vtPqul1x6UVnuikuFBVeLp6W2CMs1vG+1dm/Kss5m/rxOuz5zrdZ9ntjCg9QHcdnvvYn4buu4zOuOit9xhcKgnwxSsv//u//lr2Vhm7P2Y1zglYyDsg1876uoJCHELtJKX51xUszrnkDA43i0mcdCSwsmM997nMzYUCyK8IlVEeVE6EkLrWTGBshI+NUXMTII/QS38sATAQjzgtiozLkT3ziE5mHqozxRRvGhJkQaupqhTVW4ywj3EkOA0bEkm59yoQYY1l4JCQJC+QFLAuMzVrbl6Pux/yYNt988yzZPf9ZvLe/jjnmmCwvRW4LoYpXg1AAjIPXRj4ZOqBoh/HJ45K0mxcxqVHUAAAgAElEQVRsjP/1r399toZoiCR/ycb5uVBc4M13lCHQjc70Ulzg/9BDD81CRhUUWGuttZJKagHGkhfE8mOI39ThNRRWY60zELrrPsag53XFI6OMnC/niPewjhDnxjnm9a7ruQncKdhx2WWXxZ/Na4OBeQYDjeJScCkJCsoaEwoCEFv5K5MAoQmKBoizreIyxzKJMqGvzEIBxhaMuMxxVrGOISCO0rakbZ6Biy66aJRmej5bxjijgw984ANZDlj8XdZrrDtBkRBRBnz5y19Oa665Zs+mnHFnfRQwXgaQd77znZnn0fktCsPSGTRLGfduQnWdzw6lzzqXraQXxXnR38EhhbrOuDSXOo+TUYayLuySkce655X+omsxjt8xZC677LK1uGS033xFgDDMNNBgYF7DQKO4TOGKCrlSYpmnp5tQUpdpufTyKU95SmmCJgGQ0oKxTYOwMIqQTWgTisTTEgniVa0rXBprGTjlnRS+WBXAiz1QhlArlGK11VZLl19+eVXDzdoNxSVyXCrtbIobt/9CiS5jL1aNCnSo7jQ4cBB0M/6uwytvPKOM14Cg8fBatz3A8FDkXqqYyyRf0XO4ZbxooMHAvISBRnGZstX83Oc+lxEjdzlMAygBGyF0o463TIF11LEUed54MY9hwIWm7vpwR9C4quoQFEa1dFIAnvOc5wwz5YGeCeGmDAVWaJcqgVWDRHqJ8g10xgAhlXBdR4G104iNdxTDRKc2q/zMmSnLODHqOK0xDwtPC49LO8Ct39RpL8CfCn0q900LHHnkkenwww+fluE242wwUAgDjeJSCE2T/xGiefTRRw98od8kRx5udbdJz4+A6Q7jFXAxoqphij+MM7kylIFRrJzCF88+++ypWm7hn8stt1xtY+unCpnz0WDDkDJNUy7LUznKnIU2u3xVyXBlyacFLr744syYNC3jNU4VEZdffvksnHGaxt2MtcFALww0iksv7NTkO6VMlV/2r1dZ05oMtzUMd0fsvvvurb/npzeE/2G8AYR+ZYQnlVRJGKPADAPuXpBcrvTztMFhhx2W3akybeNuxjs5DIxyViY1amd7GGNKWeMVQqqYjJCrcRplyhi/ohqUl2kDRQ9cSttAg4F5BQON4lLzlXR3xFOf+tTM2zKsQDmJKRLclY791re+NYnup65PCb677bZblig+rTHJxx13XBb+MXXI/9cFjiyTZZeFnkZcNGNuMFA2BigpUerYPS3TBsLDVl555aGNOpOcrwIkyro30GBgXsFAo7jUeCXlsSi1Kq9l2kD5VaUt5zW44oorkgtJP/jBD2ZT+8lPfjJy2V+3nitZS3GhwNQRKFOqm7mjRPiB8CoFA8J6KyzOXT0q700rvPrVr04qojXQYKDBQHkYkKPnbKkuySs7jeC6A16iaQRKo6sb3EfVQIOBeQEDjeJSw1UkBO63335Z5bAqLm0cx5Q33XTTdMEFF4yjq0r7gP8DDjggKz2tI7eVL7DAAmnJJZfM+vWdv/fdd9/s70HvIPjSl76UhYbVrdoUBUpRBXcBKAf8oQ99KJunubpbhNXUe1VrhMS5g8Rt0tMM5hSFBVwdcuONKZ1zTkqzZ6e0xx6P/DvwwJQ+9KGUbrnFxYPTPNtm7A0GqseAO89URXTf0aiFP6ofbece7rvvvuyCaTmb0wpnnnlm2mmnnbLhR17Rf//3f2eVSXfddddMoWR0UkJ5WmWOaV2bZtyDY6BRXAbHWesJBaPuuy8ll5iXFdYvcdHdLJKcB7nroTWoMbxhwUHEf/nLX3bszY3kPEUSQacVlHGmhLBSEdAXWWSRzMvwpje9KftbWBGgoPmeYG/tFlpooax2/v33399z6nAo+X6llVaqlSXst7/9bXaZqbBEFXTMTalSFbG894+AL2bae4oc2GCDDbLQwCrLIPdEaElfrrrqtmmzzX6WllgipQUW6P1vmWVSOvjglH7wg5I6b5ppMDBGDAjnvfbaazM+46Z64UTO8UYbbZTWW2+9jA4InbzrrruGGpULVhk2eGrrBu5GCg+ES31dLyC0Gd1zX9bs2bMzA41xo9NhmKrbPIqOh9dr6623zooLLLbYYllI7PHHH9+i6ffcc0963/vel/3N+w8YqObXwjpF8dr8bjIYaBSXAfBOOREhtOuuKa22WkqPeczcgs1KK6W0zTYpnXJKSsNcGv7Nb34zS1yU1F4nQMwliwsTApIUCa3hdXjLW96Snve857WqSR188MHZjeN1msMgY4H/xzzmMWnHHXfMHsPQzVes8Cc/+cmsRLE7dIALvhZeeOHMKxGMYNasWRkDZG2koLRDMBF4VPa4LiAficIpwR5jF5Nu3i5OpIgpDkGhZpF7//vfnx73uMcllrzbb789+x2lzZx5aPopbnWZc4zjJz9JabPN5j7P/RSX+H7BBVOyVebT4nmBwuZ1ijCApvMuOt8uBw4DjWqGQj59fv3112dhyt4rzV602qCIAZ5o4UloQ93gK1/5Slp00UWzSoLoM/pmjugX2GeffbK/0Xjfv+pVr0q8E9MKwrYvvPDCzJCIvpsrHPjMe//QbAqc9/i5AitLLbVUxuOvuuqqaZ16M+55FAON4lJgYX/845Te9KaUHve44oINGuhqiGuvLdBBSun000/PlJY6Wax5TPxjMUPQCLSYl0ph/lZCFohf9jdBl4UOQ3zPe94zdYmMPFzuObAGFJcFF1ww3XjjjemrX/1qxsC7JW6HZ4zLHR54Jwj3FLvttttuLs+TvBB3F7hYsk6hEyxrQghWXXXVbA5HHXVUZm2zjjxJnYDwA18slIsvvnjijfIZhcylo9OS7+JKpKWXfvTZtr0pM8cem9IZZzijKR15ZEoi4jr9/olPTOmSSzphqvmswUA9MKAqFpoEQkAXxuX8o10UF95k7wmvb3jDG7L3hHvg7pVe95j89Kc/zSIGtt1221qVOuZJdnGk3ET0eumll87mdcstt6R3vetd2XuCOhDyav5f+MIXWp5mSo3cvmmD8IzzfFnPY489NpubOcut5E1C44UGn3vuuRntprAyUsKBMD8yAO/L3XffPW3Tb8Y7j2KgUVz6LKxcXfQsrKvtr7wulJT2z+Nv1lhx8Q891LkjRHSHHXbIXPOIfl2A8I1onXzyyRnhQvgQMkzrpJNOyoR6rnWwxhprZN9hAgoK+B0lR+lmguw0AMLNqqh0pIRzBJ0XiQdhEHDBIGF+zTXXzPAAN1HCmrcGHvO3RA/SdlW/xcRYWTGm73znO1nOjVjnQYDFjifprW99azZviozwk7rD8cc/+uyKfvviF1P6xz+6j/5vf0vpootSWn/9uZ933s89t/tzzTcNBiaFAYYEAjj6LCfNxY/OKUs7YIV3/nleoxz7Lrvskj1z5513pk9/+tPZs7wVnXL5vva1r2V0pG4RA+Z2xBFHZGNXah7PZTh62tOeloW94ruKroRCxrvie4aqnXfeOXsuQsUYZwj2dQcecxVJzXW11VbL5oA284QXyWGx1qqohcLCu46nC6FuoMHApDHQKC5dVoCisfnmcwsllBHhYCywl176SG5LPC6M7IorHrHKChENxSVen/GMlNoNFmKHeSdYvuqWDzJnzpyM2LFMscZRYFisjJlgnldIVJzCCEGEkQklUnmKAD8NSfqsa7wsmDrPifkJeRgGKEESISktcAdnii3wZgyqCA3T/yDPYHArrrhiNm9lt1X9sb7Dgopr9gwvlT3t0tRIBh22zaqea1daVljhkXM9aH9qUCy77MyZp7z8q+jcoE01v28wUDoG0LFzzjknC3uK8E90GRBs+4FwVp52gj76SAAGER0gnIoxCx25/PLL+zU31u8pU0J80WQhvMbP6+LvTmG87YMTvr3llltmdFzFQc9T9ngr6grm5oLPZZddNjEmCtdz2WcnZbPXHIL/qQ5q3gq14BcNNBiYNAYaxaXDClBaXvrSGUGE8vGkJz1iYS1aSUjlwXZrrDZCeRFXLN5UUnedwF0cLkHEqCReS+RjdSkKLDrKRnpeCUkEjwu+Trkc7XOJEAAM7vGPf3wpFxFiijwQrJgYCDyEctfe/6T+plQRXBRZeNGLXpSVZBZSMSpgbtYb8zTvOl5C+tnPzn2+X/CClEYpGiRHhnEiDBW8sNddNyomm+cbDIyOAUYU51DuIbrEm9ytsEqv3nhihIpp421ve1vW5hlnnJF5qSX187rWCXgcllhiiezfNddckxSNEQ41DDDCCY2GR0oaQN/rCDxIkb/EwxQe/2HHioe95CUvyZQWHhfGyTL4xLDjaZ5rMNAoLm17QHjIK14xI4AQRCTjD0OjtCXPfuGFZ9pbaaV/poMOekeWAyB/ok7wmc98JiPMcjuEMxFshQgMA6qOyXOQ5yHsTD5H3eZrXpiPmG4JmO5kwXyLWOKK4kRCO2a37rrr1u4yTmEQwgGEhbCulZlQz6pp3sILoqhDUZxV/TsF357whJkz6bqhYc53+zjJbXnl5ZnPTKmm1/K0D735ex7FAFp2wgkntLzJaPyokC+NLoFd2fQ65evF/JQxViENHeItijun4vtBXwntclHhlIFPPtCoSsGgY+j3e7wWH2OQksskp6UsED5GEYRP0RcNNBiYFAYaxaUN86edNiPQUFoOPbTtB0P8efHFcysvyy13TalC4hBD6vgI5qMMJMIk32NUAZ7VnaWLQMxKI062brfCU9DM1z+hUvkQuI5IGvBDTIQQzwNl7nUJpcBwI0HV3K+rwD3AGqsf1kr5PXUBPDc8I49/fEplGopvuy2lxz52pv1/RdXUZerNOOYjDKA9jAbouNBNeRqj0nTo41FVLllRDqA8+qhKQdnLcuKJJ2a5KMZ1+OGHl2o0k/cTPIP3qi4gNJcyJcJBaWO8rIz1jvmFMUrYWUQpxHfNa4OBcWKgUVxy2OZcWGyxGaFjn31yX4749mMfm2mX0HT++SM2WOLjhGqVVBAmhA5DKtMVHDGyws7qWNNfDPDrX//6LA68RLS2muK6V1pZYqxEyboAAURYnxLHVYFcqQixUFFt0uDOpbxi4VyWDe94x8xZd93PCClDZQ+taW8+wkCE6grZLDu3Dp+QM0GIJcTjHXUBBQZEDchZFB5XtjdI4RIhWHI3y1QMRsWf4guRiM9IWEV4NkMkUHiF16mBBgOTwECjuOSwvv32MwLH05/evRJY7pGB3r7udTPty3cpmi8zUCdD/Dhfz50CQ5EpE+SOSHAMb0uZStEo41SfnjudN4BXoCr49a9/nd31gsFHwn5VfRVpF7MVGnfaaacNnLBZpP38b17+8pdngo18rs9KLJkwzJkzcwaf/exqBkNRobCEV+ejH62mn6bVBgO9MHDYYYdlXm5053Of+1yvnw713ZFHHpmdbUqCssl1gUhGp7jw9FcBSgszSFGM6hI2RUFD2y+99NI0aFXIojgyb942e8q6D5rwX7Sf5ncNBnphoFFc/oWdn/987nCur32tF9qG++43v5n7LpgSwo2HG0jbU/JRVA1bYYUVKmNA3NYUJLfyurSxDuCiLQTYP/keVYISm3Uh8irNxLzlIEX1mCrmL6FX+dCyleFhx/qc58woFGefPWwr/Z9785tn+lFeuYEGA+PEQBiHCJrnV+TeZ5B585vfnNy6XheQ2xHlfpV3r+oCTN6NRRZZJKOjXvHQSYIqZ8sss0zabbfdMsWlyrFQXBSxUfRhWu7qqhIfTdvjx0CjuPwL5/nSqGusUd1CzJ49I9C4yG7SgOBxeUtSJ8BWVSlFYmMIy0Km6pDUKO770EMPTa985SvTxz/+8UqXAjNViWfrrbfOYq4r7axP4+KTJewKEdtrr736/Hq0r8Vdv/vd784qi2F4k1RglCx371J4Qu67b7S59Xr6pptm+vm3f+v1y+a7BgPlY4DnXHEU945UWbqX1+G9731v2nTTTTPjV/kzGaxFlRvxGaWPqy4KojwwGkoxrNJjXwQDPCzBX1+gRGKFoIBN5IJ2u5S5wu6bphsMpEZx+dcm2HDDGUGjSkusMP8QnMTaD3lVSGlbV7gQgvfYxz428UBUCZJDzzrrrNok9qmaVqW3IY9LYVLBWNZXJ3uC4F4VlthxAEUlLJPm756YSYErJuLsrbxytaNwQeWii870d++91fbXtN5gIDAgXEiCdtCbsvNboh+v7uuKfhiAJg1HHXVUazyUtqoBrpVZjssrq+6vW/t4mWsLXCZcdR6pyAGh3woBxCXU3cbVfN5goAoMNIpLeuSG7KWWmhEybr+9ClTPtMkCGwIUy+wkAaFTKlK8qkTtKoGSwPPy4Q9/OF2s1NqEwW3xmK4Sj1W7vFk91f9XaWvS97kceOCB2bwpFFWvuSWmHLtNm9JalUevyFb68Idnzt2WWxZ5YrTf5C+i/fKXR2urebrBwCAY4FXlUXbxZJUVv+64447sbhdlguUy1gGUQXY55rCl/IvOwXxDQVR2eZIgad56u7um6gt/eVxCWV3YXQ8NNBgYMwYaxSWl9P3vzwg0Sy75iCJT5TqIeQ/FpS7FWLi6q7bCC0kLgidpe9IQioskTgy4SlDByz02rHOTjoc+6KCDWuswjnKeN9xwQxZrztsyyVCxs86aOXc77VTlaj/Sdt6L+9//XX1/TQ8NBmCA9d1dKyzvLg+sEpxnFvi77rqrchpaZB7veMc7kkqGjCRl3kvVqe+rr746o6NCn9dee+1OPxnbZ0L1grcq8V8lUIQphtdee22SL9lAg4FxY6BRXFJKbrkPReJZz6p+Cfbdd6Y/pVMnCapLbbLJJlm53mFuUx5k7Aid0sgbb7xxZqUb5NkqfssLgsmPQ5iOyz0xl6oq3RTFEYskq9k4wuTEQrPKBVOteo/1wsEHPjBz7lQQrBpe+MKZ/i69tOremvYbDDyCgXw+oTyXKoExIs62cveTBqFLMZ6qLzzGN8outTws/iTKr7rqqkl+y9eqqCyUG5i8Fh42kRNlXGiaa7p522CgEAYaxSWllI99X331Qngb6Uf5BH3lWScJbo0PQl91uNQk59mpb+51CfPuIqjaSuV2ekqbXKLdd9+903DG9hmlRciaex7kHVUJvEubbbZZ+rd/+7e0+OKLT/Teg09/ekaReP7zq5z1I22vuOJMf9deW31/TQ8NBmBA2XnJ6VtssUXlhUBccqnEu3tDnvCEJ0x8AVygrOCIXJef/exnlY7HvVTK6bsDbBwht0UnE4nzRX8/6O9EJ4TMoLpYAw0Gxo2BRnFJKd1ww4yAUXXSrgXebbeZ/k49ddxLPnd/H/jAB9J5552XvvCFL1ReGYXwruSyS7L2KfN2z7mnVPgvSksQYAyoSghPgypbPB6TBCVCY96spFVWhlEyNTxaVQsS/XB6990z545xWAJ9VfCLX8z0tdBC5d8JVdW4m3bnLQzwiPz5z3+ubFJxtnVQdahx0UlImFeiuWp6k7//bNI5LpdffnmWML/yyiunHXbYoSiqhvqdPaWQzyte8YosWmOoRpqHGgyMgIFGcUkpuV8lQsUWXDCl3/1uBIwWeHTWrJn+Jh37/pe//CVL6FNOUWJflUBJCoG5akWhyDyEriG+4sGrzDvh4RAHveaaa2bx11UmyxaZN8b+kpe8JPM2VZ3bs+GGGyaXT+63335Zfk+R8VX5m2WX/WfrrAsRrQouumjmjD/lKX+ozR0+Vc23abdeGFDmfaWVVsrobZXhPPp5xjOekV3C6ELfSYLCHwTqSJhXhKRKwDPcz3X00UenM888s8qu+rYt5yR4a9X5NvKmqlYK+064+cF8jYH5XnHh6r7kkkvSMsv8piXQ/O//VrcnGL8U4ghF6fbbf19dZwVafuMb39gieN5XDb/61a/S5z//+Sy5r+q+irZvDxxyyCGVMZ//z959QM1SVIsCfsv17vK9e++76vV6FRUTKjmjIIIICiJREQRBEUURBESRDAKKKBdFBQMgKgIKYkARMSAgHHKOSgYJEiRnFbXe+lprqH9Oz0z3TPdMz/l7r3XOzD/TU7Vr1861q4pRee5zn5vRWQlHU0DQ6jjTuoJIBz4ss8wyHf6KF8ONa/yywS6hcxS11TUbWP/t337Zkb13v7s+TFZZ5WkZX2yx04IjsN1js+WWW4ZDDjkknHnmmSFeElgfFm3Ls5UCSqY4sko067qAEm0lQKLDXHe5bTqX9uddeeWVWYmvsrAVV1wxvPKVr8zu5IrjJvN1gn4dQQyXvfbaK9u3+fWvfz27cNdFmOMEOOy4445B+bPElJX9OsCJZcoCnUKq9JntbKGlwLgpMKsCFxkZgu2IyA996ENhwQUXzLJFMkb//u8ndxyarbeubxqOPfZph+b//J8Hs1pkm+N32mmncPTRR2endNSldPJG9f3vfz/bd7HuuutmAVzeM1V8plzBxkHGpM57BcrietJJJ3U2j1sZqJr2jiWl3Bmyz372s+E4qfgGAHyU7UWno+rThwQNMQMrMSAzWzc4aEHJxFe+8pVshQe/WeUSLC622GJhkUUWCcsvv1dHzt2jVEcZ/CWXPC3jEhRrrPGRYEUT35966qlZgCyAEcystdZaYffdd89OgPJ91fxXN83b9ptJgcsuuyx873vfy/jJ6Vp1lKcqDeMk2wy+ySab1HoMrwy/44dtCnc7/FJLLZXJdSrbEjBKkOkbm+Y52XVdvinxEHWnpJR7XNgSOv7d73535tS//e1vD/vss0+2gd3+0XGstNN/dEpdd4Up/d10002DkzjZj3GMqZkS1mI1SQrMs4ELxaUMxp0Zn/jEJwIl4qZby6ipM0PRyU4tvfR+HYfGkcgP1bQQ4u7BuNqy8soXBwbGefPuNaHkNthgg8zBp/xs+JPRqTOrIevuqF5gZcARj3UAIxoV/fOf//zOzbt19FWmTfs7KOAVVlghmwdGvqrNjZxQzrPShS9+8YudvR5l8KvzWc6zwxnUags0qnRu9t9//2y+nXZTZbuRHvjWUZz4SraT02JFZf311w+O2jafMoIcKvfnwMcm2hVXfH34z/+8pyODb31rbLGaV/tmnIwaZfyVr7wlW2EUsKuDJ9eOBbfnCc1tpOZokXWHJbjx3OZid9/YE+aoWc+10FKgLAXuu+++bJP6v/3bv2XOZtnf93uebpP4W2+99YJN6lWCgMMR6kceeWTYeeedM0fc6ZcuPbTCQ66tXpKXePzxxhtvnMmXo5DZVInA//iP/whKVesAODpK3ub0VVddNVvxkQxVlmcllf8R7Tqc6EF6aeutt86OamZr477HqvCzuiygYGfhZZ9PlcAPkRSijwRiP2uPSqySvG1bJSgwzwQu9hHIZirDoBziEb8bbrhhoPQoPI6DIMUzHANOhM8poLPOOjc897mPdxyO3XYrQcWCj/785087NP/rf/097LHHtzJlbLVDjWzcb6DExn6TY445Juyxxx5Z0OVkJllr+zFksqvck8FICOooPJnpqrMolrFl5jhiHHljahK4g4AyRocXvvCF2Ulb8B0FtGfcm222WUZXS+tW+5oEHBuBmsCVjHBElPKNCsaOd52ghqdGXW0RSHLgZVwPPvjgsM022wQyo7RRTbv2ybzT4TgwLlUVDFjdcmeNG709d/rpp2cXYO6001kdORdguN+lKth116dl/BnP+HvYdtujs2BE8CRIOe+887JAijxLmsAxpTmHkCMokeE3dJSky6677pqt2uChKmW/qnG37TSPAngoJoucZFhVQsZIJQ04x9p3WuCwPElHKiGNwbvkgmBohx12yPaO2Kfi5EOrCMYgAeQgGUGNAJ8ckRNyRZ8ddthhWfKPvoUbPcGeVgkqI+Bn1VoAo4LDhnXBCNtm3yS9Y0wxKah/zzuqWkmdZKpN9P55784dNn/UAw7QRPKTThG4VHkJJ/8JTdnwqoPVKuenbWvep8BUBi4UACEn7DKZhJ+DaMVi3333zYw8p4YzxqHh7FMqFIZNwj6XqTn//POzE1fsuSDsyy13XMehcRLQ+edXxwAPPBBCejzqc597boYrZ0b2woVZssbGYt9B99HEDIOAxVhkoTgzlswpbQZKmYks9DAgU+OuDZk5ARTHs0rgaLq7Je5xYKyaBlaanvnMZ2aKmZEUvA1LT8bKUaTmBjBMNnA2ETjKTnljkJTKuSBz2HEb3xe+8IUsy8lZULZg3sueWiZj6Q4G8kq+lSbIZko2CIjUkSsZ2WKLLbIVFbIsKGaovXLyOT90wW9+85tsPBwCDofPzcXaaz/YkfVnPCOEb31r9Nkx3XGlxWuccvxAbvEEXohlIwLlAw88MJPl7bbbLpNjpRjdoMTVs+hBxwlmrJZZpbE5mBNR58lR3fi0f08PBdiTWJ6Kd6pYUbdnhqzJwCtJYoeKJno41MqslE6SU/jhfQEJ+RR4kGcrFAIVcs5200vsHLsuQYH32W8rG1Z0JSNjEKM8VzKDfwAEFlUdPEM3qhigL53gNWfOnEzn8SnoJyVtZJHeoX/oG+NUOSHI6QaJI3OCHkpGrRCzl+yw30iqGWNRiLZV6a/Acv7558+CqqK/z3uOjVCGqyTwWc96VjZ2uLXQUmBSFGh84EJoOda/+MUvMuVEyXFkZFCVXCgFk33Zb7/9MiVI6J1eJQNz2223hRNOOCFTYhx9TgIHQJucKb8VLHz84x/PalS7yzwcjXzzzaNPjXhi9dWfdmr+3/8L4corH86UVXSkYgaDc095C8QYBJc8UdrdIHvGcFAmFLONeZSeV+O3+iRLXXT1hOJUD8zBQyt0qwIo63gpmMDAvDQR8ATDZ5Mn3jAHr371q0sbeo4ng+oUMcbNCkHTAb8oq5ANxANK5zgMZYBDkgZBso7+HgSewfMCDrSSqZRh5ZjYf8WoC4DIOjnltAsIZV05KPgVr3PKrK7SA5yG6MgL+MmQ79Sfx5p3iYQFFnhaJgUv++4bwlNPDcJ47u8ffzwE51qkQcszn3lF2G23vWcEbfhKKQmnjDMTnRuG5KAAACAASURBVCkyetFFF2UOEBk2TgEJp6YXKDPhNNF9SuVkWgVkAiT0ohuqzLD3wqP9vPkUoNvYEvqI0x1lYxjMyZ3VjBe84AVZSZYEhbJMwUS3Yy7BaGUGL7O9kojss/cOzCDbZFeiTiWE0i+rpWy9CgrOsqSisq+NNtooCwzYj+icCxLoKX0rYeoO+ukGAb5x02mjjButlKDROfazWJlHSzgCyQnXCtAz9BOfBehToCYY8x1ZFVR00yp7OIRMZtltwZoEDZkm2xI4dCCapSu08XfpK91gFcy4+Rf0gIMMhgHjU25nL5GEEj9FgNVCS4FJUqBxgQvl45ha2UW1oRSP5VcGWakH54pQW6GwekIZctzjKT2ES+0lx4AT4KK9GKwgNIUhsyPTQ8F0BwXnnfdYeMYznuo4IS4eHqVU1Cp1GrRwbg499GnviGITJHDIOCyc3giyLZwuioszFzNd8fvu1+gEyobIQMk6KUdR3y9Ik8W2nN4LZNFsYKbwXvGKV5TK9OS1ySBRtDJi6pKV5VW9mpPX77CfoR8DxNi63wQdONTGILDrRTsOqe+coOVkG44CA+X3+HcagNxxCJZbbrkMbzyHNwUCsYSxexzGDZzI9i//8i8Z73LGvVd2xvlIgQH1GXpaOVGiKYNKDsm7MijOiPIGDr7v8b3vyQh54OTH1RyBCIdMkEP+Iz76ZNzpBUGC126nxjPHH39ueOYzb+/IOtlcdtl/XEib4t3rvYXJn/40hFe9ambQsvTSfwubbbZdtoLFWZFASQF/SDhw1sgoesQgw/joOPqNI0f32fQbHaS0nfS9Nq3ecgTpSvyHtpxEmWrz0ot/03ba9/MeBcivk6DsfxAI4Ee8UWbvmbufJBboCKssdJuSIeAzK6JshkCaA4//8DfZZHvYNeVUnH8rIfiabhSo4G8BARmQaGC/rEySbSsx7HeaBGGnBAISmGy5FckUtKMPuoMeF2j5W9ueHwbYTnsVjZEOE5iofOBvpEBnCsrIrjGkB9FYrSHrgi1jo9fIqwCrH/id5I6ATpLJaWYSPFZllKMJSroDITS398Zv+RBoAJ+igN7mweuiiy6azTcbDg9Bq3lpoaXApCgw0cBFRoZCFGjImMisyDAQTkJKSBhsiotC9D2F61lBTHRGOJuyGJZmlY9QsBRNzMwgruwlAbaS4ffdTpVnKEQ1th/4wKlBfXrMoFohOfzw8lN05pkhvOIVM52aZZc9L1M8lGgKHA9jUtNLKcma+iwCRSnjwhj4nqMXs8fxmbxXCi1mvdCFk0nhojGnXNlKdPgYD5kpp6RwHtFdX4MUa16/2mbcLC3LUFHo3WPO+10TPhOk2J8h0AJWYowF/Y1rpZVWypxh9Jd5s0oDrNB4jlLngNo4Pk0gMHjZy16WGXvODQfEeGyK5QwwXAJ+oDRCeWG8jMxzkQ6MKb7jUDDcHBMyx+AKRsgyXkc/hlGGkbzHFRcGXeBCN0SHBY8y+krROCSMv9LJyLuRzlYaBO3k2KEDdEM3mBsragzy/POvGBZY4MmOrEeZX3zxEFwOS4bTk0019+tfh7DffjNXbOLvVlophOjLGCf+Vxuet79JEE/GOHHkXjCT6izyT3YOP/zwLEEjkYP/igYgaEOO7Q0i71apOZTa01cq+900av+etyiAz8ggsOeLvFqdZxfJIge3G8ivJKLvnv3sZ2fOL7skKaDsEQ+RU8lBtlmQLkDCp/QH2aVTBEsCaNUSAhV/SxhG+0ZGTznllMyRl4yEZ7f9hptsv0SKZ+iYbtn3jKSGoIaN4zvwC7SnlI0eM27f0wFFQEKEriGXVh38XoKKPmSDBV/dZd3a9bwEa9yrI3DzmwhoavVI8GE86IO2RW1t1K1WwIxPohbdo26VxEBfNIurL/CVwFAWjy5oEucAXuaVjgXKhwU7VoL5D+yhxKrf0NdoICmUNwdxjO1rS4G6KDC2wIWAYHjlDbKtlAdhI3SUEOGgwAg0YaMQrRQQfNlHSpIyjBl7jhGFK6Nj1UV2n1Cmhh/ROFaMNkdGtqWX0VdeIujhDAHHFtvnEh0Sr695TQgSNoO2aLgH5u1vD8FllunvlZNQmFHh9cpkc1YsDXNmOHTdRkWAxSmTreUMKqlB26Ig08aQycRyBCl58yErpS1OlrngxFLUHEHLz4MydAJRwaPVIwpOuZDf13WyS9HxDvMcg2t+GAAK3DgEdujkPSMs2+Y9B57Bwa+ymr6bVmCIGDUQD2xgVPGcsSqPAE7I8bdgjhPiPcNOjvA3uWRIZf85JYw7pwLgI3pAYCRREVcE6YD4jOfwPT4l2wJogQ3eTJ/JGgwhc5A4UGRGIqSXQcXXnKyXvvSlmfNFj6ho22WXEJSLpfKavnd08r/8S+/vn/nMfwQ63dvDZJjVmTvJkFPRy2FCHzXyxinQ68af/pRZ1Qa5R186sTvjG+nR69Xz6MzhoRdlYdGNLuCkWvHqhWOvNtvPp4cCVgPIKkfUXJt7f7OzEgnKvugvTrZn/vVf/zWTN0GO5xZYYIHMRlrtVAHAOZdUk5jyG4G1jDzd7zd0h9VSujS1Y+SOrhAU4HmJBPY7JioiRbXpc3aF3PpNt42Pz/IPJObonO5n+BDwtwLjOf26BkEQxSfgsEt6kDt2kG5iz+z7pNPJMfljE9MkBNwEHux0HvBXBGFKWdlq+KfBgt906znBDD9E/0VBP/QqfJTmsdmSFObJCWyOj2aTraSjA3z4WWybuQLGarWcfqVHPSfpAuj/FOCsrcUXX7xTFpd+375vKVAnBWoLXGQ7CDsngoEkKISJ4iTIontKiZEkFDHjSrg9529OY2pEOYccHoJNQakBVVbRraQQjBKmrAggQe6lBCiR6AxQaCnw31784rmdlf/4DxdvhbDzzjYjh+DS3H32CWHddUOYb765n/+///cfz6Vtw9vyOkXfCzjPAgtjoGDzxmCcnA51pxSVsVLAZQANjJ1CFrjIyFrZorhsQGRM4GrfhoCJwmOQKFfzKHAU/FBmcfMegyZolJXpFSyWwXFSz1qZ41zLUgIBMLpY+QIMO8PGIBmn4GZeAIaQ3ApQGEPyaNzPe97zsuEphfA3vuB0k28Og/ICjnE657KD2lC+IEgR/HlPBnyXAl7zudVRjooyL5nJvGDF7zgTeNGqhYxlni6I7QuwrBi5lM/KD0OewkUXhWBBKb0gNg1e8t4/85l/C//7fx8VTj75prSpGe8FS45qttcLL/m7F5BDek1wQld208fv6ESrURIx9CUdgf/KBjHaooMlJehkukOQaH44blZqrJilc9kL7/bz6aAAnhdw4EMQkxNWmdlWMi2bDmKJEFnFl561ipzyL2eZ3cCLgguyyJ5afZWwSvdpsd9sBrtMtsm4JF13sKJvNkm79IoECP5MfYEMweQ/KxoCLiskeYCHlWexU2igpNdYJQkEKt7T7fwW7+kIOtBv/E0Pgjwc0EACgL5Mg7NuPOhJvguZJVuCvW7we7oy6j/y2E//df8+/TvadQkJfob+4+qLpK+A0the//rXZz+LFQOepYOtshmXdnqBgNOhLujYQkuBcVGgksBFlkLwQWk4wUQ2g4ByqCkfzlxUTpQBZ9CzFBxlJ1AhLBz1bseDw0JwCbAVGgq2l7JDNKURSnUoZvWjsd88gjL0HCmZ3F6OER9jiy36Z2PzHJr4GZ1w7bV5vf8j82xlxdj6KTwBgHEL1tC0V8kVOnM+0NSSOmUiqzYMCJKU7AhUZMfU91JyglH09R4+cPOekjO3sk/+Vl41LwKHEY0toQOOHfrMy8DhYEwFETJ4khH40copOpDn1KDTB+RQEMNJsTrA4bF6wjHoBjKPjtpjKAVAHJFeMhmzsBxs/+Dgs37AsVfzzSHhNPQDW3OWXPI74dnPPj3MP//ciQib+jfeOIRDDglBxScHTwDXDzhLHDD9C+a799Z1/5ajxWHk5KBd6gCmz6I7WtO7nDxzRLemzmX6fJH3dKYVXHo3BjN0NN0jMy2h1L0iVKTd9pnmUEB1gWDDpvd4gWJcjRFgA0eLe8+JJp/2d7CZbAC+sFpjldDv2OSU59gCpYkvfvGLsyBYMC6xZoXW73vZZXZQAoIe4EPg7X6A/2PirkjSyPNWhK2SSzhJDJBLNgtNQDxdks7jQyiLFTj1AzpMQKgtybx+IAikP/kzVj572Q+0QCs0Qw/zAI9RZE9CUSJUsoJeNu54WaWVFytq6AMWXnjhbC76jcV3dLVVZTia9xZaCtRNgdKBC8HnqFBUHBPCxDlhZBlMBpmjkwJnhXMhmy8jw7hyfiwf5wmhzzwv68exp2D7KTvCIstLkQpECBI8+wE8BTfGUETYTjnlxrD88meF5zxnbkcmBinxVUnJEktcFb797ev7oZB9R4FTTBQeZdIPODNK6Cg8yqWfgrTqInDh2KG5jLl5GwbQnhKLwUlcjbHEz2GMJ2hRqjI1yv/y5nWYvtvfjJcCDLBg1DySDQaW02HFT+bOCl93ptBvfC44YLytAHC2PY9H8+RLFk8QSG+QWUkMMt8rWEEFv9Gm4AmPDXJq/AZudJRSCXcUFXFuBAmyiJwKIC4lmvyRvCshBFwctCIrHsrwXPrpoklZz0EggUB26UH99EtE0Hn2BXIkyb15kzjKW7UZ1G/39/CQnNKe9mVazRnc6Ac80y8z291e+/f4KUAn439zpiyInLKx7AR7bvVSQKIEEZhPv8FT+FZ5pcNe2CCympeE8Du/oT/YbRvo7Xvh1PZLzpF7/Qq+6ZwicsrhF1DzP7p9jl7UNUb6Q/IvrhJI0Ckbs8oJJBYkIugn+oufMMifiP0J7FU/kIlBEO25gI5M+bsX8BMEjxKJ8EVbNB7FzkqmoAO5Vu5nxY2PZuWIrrGC5T48K0qDEkOesSdUkFdED/YaZ/t5S4EiFCgUuFgJwdQyG8qIZPcYXYJN2LodE0rEdxwfQmBFQaCixGhQdsGyLUeGgBLUXpkZg6NMOMuyPhSY9rtxySOCjI5sUK89Jnm/4QSggXjo8stD+MY3QrCV4T3vCWGzzULYaqsQHLRhb5vDlmSX4VQUosJjQAYBJ4IhEexwFAftb+HsMFYCOzjJIg0KkvJwoJwAh0V2ioFhjNCSo0SZmmvOKBozeBRjkTnJ66/9rF4KmBfzo4QAbzOe5pbzoqRDcJ/n9DJigmAJAjpBEGHOBRV4rZeR5wjpS/tWZQXfjG+/YAUF8JikiI29gvwiTo3f0U14UzbQvqvugKsXdfWjTp9hLwLGK2tdVN4lFZZeeuls3wu90s+hi/3Tg+YkluJwNvoBnMyf4IuDSk/QSb30b7+28r7DOxwUMp7yjvITeLayn0e18X1G1hxewybKskskkG38YFXcakqesy/QJ1/mlC0m2wIVdlZlgpLHPCBb7LV+2GP6wN94m/9gVdJG9m57Tr+wTZxxTnM8cCevj/QzNs9v+Bi99E36fHwv4LaSWAYkWgVqRcGKCnsoMBrk8GvTPLDnfoN+g2wzGvKv6F56lD8mcVtUvw0aB5wlb8y5oJPPF3kH7eiePD1iHuxrsmoDnxZaCtRFgUKBC0eXEiJQeVk1AoOZZVw5r5SDQAXzcox6AQGkWKMAUlwyIoMMud/J/FGQBGqQEY/9+52AyBJ0v+xGfD6+MtCyIoPwis97JcRKtgYpofQ3HBrKi3Epoozhgw6Ul6wyAzEIOJYyWwySoFKA0W/lZlB73d8zfJxaGSf9UKp4Qikg5c8oDnJUu9ts/66GAuiOxwQLNsybGyspHE2rF4xVnqHlpPqOPHMUZGnJKt7jQJjzXoCPyaff4Tl9Cs4F34PAM5wucs4hLsOnnHb7cKwScjyKgrE4ZIBTVAYESIKRfrRI2/Oc7LVT6WR0Y1IgfSbvPXqinzEpqTNvgxIDcQ7IoOy0OcADeY5rXp9FP9OPcUgI0SsCVH3hNTjjvVEyxEXxmI3PCQCU8HE2zbOggx2REBNExgQj+43n2F1gztgoutl8CaQlMCQl2IrU3rOfViJl5wH7Y67JJpvqd9rNs5N0j/1ljlvHB/Dh2EsS0A1lsvQCcHaS814G6DA2uaiMxraNkdyUAeOVLGCXi8oZukn+KMWW1CmSoDEndAA9LrCMc1BVEKO6wmoZmuET/pmktWCWDfCeb2jFNc674MteSKs2LbQUqIMChQKX7o4pM0qNciMoHBmBCmeVcuhnSAmarKuTxDgylB4FFJm+u6/0b0ZPJkgGkeCUKX2iKGP2qKzikg1hBMqCgM/4ygBnjcLjlORlNfLaYnwoDwEjw8N4+GwQoJ9gU19WTziwRR2oQW2n35s3xorzIpiRjUMXc2nuOaRl5yRtv30/NwXIqLnktDCGnATGLdKcESKLvQDv+S3DxAmSXOAEKQkbJKt4z3McVtk6siroKRKswEetPD5hiLVRxqmhe6zOyAxbNTH2MqA/By6k9fpFfk+/+B2ZLwNkXXDlmPYyjphxSlRwDsgv+haR+by5obeLzk2ZsXkWr3Bq6CS8hwfxonnBX3i0lf1yVEVTuhu/oKmAIwYpnFirFr1oyiG2ad584HVJJb9nyyUh+ukEWNpULyHA3kt8seMc+6KOslIw/O5wE3Jahu+MSX+Cdn5GWRDQseVlgawJzNiwMuB37KtApMxvySh7zpaTb3KurUGAPmTK3PAF4twM0tf92sVP9GgawMbn2XWrS3SPcbLpaIyXBKP2RJnnvN/GNtrXlgLDUKBQ4CILy8AQJsu6hAljytpxgPKytCkyBEoGFFMzspQsZVdUoGQsCIash/45CWVA35SHbFRZoERkfHvV8/Zrj1K2Aa5slpGSkrGE86AysO7+ZcMYJw6j+ellwLp/Zx4ZQStYfm9JeBjj0N1ur79lCDm3cOSkMp4MqQ2RPuesFlHWvdqfTZ+jE3rK0EUjQj7NpwyZJMOgVS6Oh9+bd84lIyRQsVoy6LdoTQcwYviWM64NfZdxTMiYjfOMriC6SL/pPNMnHDFHDzvVqGjZSdqGW7iV0QwDMsrrr79+6Z+aM/sHHB5g/IP0aXcH5pf80K0y54Ocz/h7uo1+EZyaM3qZQ1uW7rG9oq94As74A49ytOAggMKDgsayNCja97Q9x+lj78gh3UhXohfZFLgICgfZF0kINpBMOU3LHgxyjtZFAg42hF2hn62QKB+ShCry20hvuoFOYZcEPJxhtrEo4Ak8qo2ifkPatjEolS6TBEl/zxnX9zBg7vguZcrN9EOvo7sqESWyRROSfht9LvpEUpLfJKgZhnb248FhEEQ7RKfQaWyQS0rtLbRyjgf4cq1dH0TJ9vtBFCgUuMiYCjo4mUU3YVK4lq5lICkcv7fSUkZwKBmKmiPDISq65BoHTUAoePsuGMphgHEtIrS92uYMlM36xrYoLQpvmIDLPMm4yNpYWi9jZKyAwNm4LQdTuMMEbnEcRV45KqmBpujwTGqg63aoiuDZhGfMpTliiMwtGeEAMhaCviKOH8MWS/o4JHjFnHNwBEFFwJzhM3OkJIhDxZkqE6zox1gYOUEz56yMjoh44k9HHCuDcWgEp7wsMLiyweg4DNAVjgOn98qCOVtrrbWyi984dmVpqD80MJccFY5pGXlBL44FPiL3ZE+2tUwbZcccn8dHxs+RlhyDA57mLMIBnw5yzmNb0/zKXpl3MkWOlGKaTwEH3jI/gpBBjh9ayfCTJfNohQs/cLzdQzLo92hIP9AlAkqJLA4wfUP3CM4FIINAP9pQlaGN1PFmjzm1LkMcZNfxBR9gGDsYcSTT8BgW6CR72Abh2qt9/I0G9BzalgX04ksIYAT4ZdrwLJ3Eplo9J1t8i6Jt4Jt4uXBZvPmBAmX3f9FL/Dg+oblkaySXhtH3ZfFon5+3KFAocCnKWDGDx/BwZCzLWuYs+vtIWpl+v+XIcJrLON2xDX3K+nK8h3ECYjuUjYzJsMApEzwMm0Gk8CgbTmFZOsKZM0NRKOdjCMsqXittnGPBq6yuTFu/fUvD0invdzLH+qfgGGFG1D8BtDkxtqLKN6/9afiM4hfAc6oZfnPIkYlBimDPM4OAbJIryQO/59DEQKXM6hY+xtN4gkHj0HAuh5Exjhi+VhNtBbbIOPLGyQh/8IMfDM95znMyvZP3TJHP7GNz+tgo4LI3d0UMAw4DcIy5U8ecHMiBHQY4t/jE6pOgsmggGvvCKxwl/EHuOTr0+DiDB7yAt2MwYxz+ceB9RgcNyy9xnJN+pd/oME4leSaX5k3wVmaM2rFiTj/Qj7Lrgj46Mp17J3xZdegF6CnggQe7yW7Qvd32Fz/YB9YL8I/f4R3BAvnMC5bobneAuaWdXsoDep/DS1eMAuw4mo4Cqj7Mz7CAvoIHiYFhbSh+0YaqF75RWZlEc3RQpmd+BBL4r98qLZ3vPje2f1jAk4IXwR8cIt8LwviLdI1gHf+xR3iohZYCvShQKHDp9WOfp0aOkiJUFNUwTrbMGkeII0MJD+uUEgqKigIeNmAwNtkASjNP6fajSfd3jABFPiygccyWMObDgICFcqDwKArKoSxwfAUNsvMcTgZ2mHbK9ps+T1FznNGTIjUWTjTnmaPHUI8y52lf436PzwQAxkeGjM+coTPjgv7dTkQvHLUl6OW8MHCcDVlXDigeKkMjbQkg4SN7ixdlX4fJxmuL4cQ/MojGVQaXdLx+R8bj5Y6c2mHBWBZccMFMPoZtw+/IutpuwcOwwGG0uXWTTTbJ5n7YdvCKOYMTORlGd6AxvYyHzBeHB28W5cNhcc/7HZtCt8vim2v8TB/haTjSccPyUl5/VX4GL7qJjiI76Al/sm08xlXUZmrL88atDbJNB5qXXkkIgY07hNJAxvg403Dye3rd/NIZg+ZXsIGnUtCWAIQfwFEtWuXAxuL3dEUELaw2+WwUWYIf3pD8o3tGAbSFq3GOAmwVO0z3DQtoYu7tFxWklk1I6tc4BApsjLkXlEmQ5fldDkNwKtwogM8dYGI/X3fA5W82Bu8J4uEkqMHT/DB2cdT5GwX39rfNosBQgQtHmiKkfDkgFBiGK6p4UxJgRtkUio7wYNRRjI/fC1q8jgocNIZ/VICL1Z9RgVGg8NB6WGCQKAbOjAwSZ3gYYDgZXZl7BkbGnKM8bsA/lDZ+ZMjNF0XOsaEoKcNuJTluHHv1J8sl84b/za3sIrwZNMFLWWXtec6CNmJAhybmuKyxRVdzrC2rn9oTLA4TrBg/mSYH9AVHi7M0iiEyp5wR9dPuDuh2yHrRvNfnDh9wpHFZOnW3Z0zq961wjgJ4wglMK6ywQhYs5jkTRdv3W/xFv5L5Yfb+6Msc4ksyJsHE0SFjg5zconiWfQ6t8YHxwEOyiwzRRRww/Au3UfisLE6ej3iRO0G6TDK84Bd1Ejkqipfn6FZtob3ggu0lT0WTEE6GslEamEf6UtDH7lrJKjuPMuf2dAF6zBityMvg07llAX2Usblw1bxZzYXXqPIID3Yc7auAWDI3alvGaMVDydQo/k605+jF2R82kYjObAd88IRAlg6KegcvW9Eetv1IL/huvvnm2T7EfoEbmsQkHn+HHcIj9Bi82M1+q0Sxv/Z13qRA4cAFIzEQ0WgREspumGAFKbVHERMSji9mLKrI86ZCe4SOAA+7DJu2S8AECV5HBbhZRRom49ndN4UnC0WxjLKcSiHJ/MmicmYYsmHBuBguDqlSBcpl1CzZsLj4HbpwZGXaONsCNdkbTjyHmRNQhUEsgyOcBFjRyeJcoVkMUtCr7HySPe0ZF36IdcMch2hwyuBI/sgO3Mwjx4HRGDZY0Tc6mwMBLkd32EA5HQcZcImco1kdb1r0vpW0jfQ9+XTRmvKsKsBRyiuttNLIPGYOldK4h8aJiKMmBqLOpW/J/CjBo7bwmeSFFSLJAsHCsPagCrprA14cHnLBvuDlNBlAL1Qt+9ozN3QoeeEk65d9FOgNsxJkDOaHjogrSwIVvF9Wtjl4ZIU804Vx9RV9hrVvxsSRpSfYELpnVP5kR8jN4osvnumzKnhCYMv2VuXkmhOrzlUAnMih+Rg1uYYn2IEq9Cx+ZjsFtmRbwGDcVkpcvVAFOBlO6Rh8iwL7yE6SKXaTbEQ5I+94sqwNLdp3+1yzKFAocKGIZS04R6MaJ4xFuctcKPPAcKMC5UvAZHuqUlDGPEo9a/eYGM+q2uMcUHgckFGcSjgy9OaU8jTHowaQHF9L4ebC/HJaJxnExHnAF7JFFDL+o/QEWMbOAeMooEUVIADAk2l/aBIdGc5TWecDXgwK464dDgjDwpmB/7AOY8zmMnocGw6o9kflK/QWGFutYfhGXRGJ82Lu3GptH0gZoxd/n/fK+P37v/97ZhDzvi/7GQdOe5I7VYC9Ksp8Pv7xj2elHaO2ac4Zf/JJj5CBUXjfbwWkZMpqAL6UvR2WJ0cdX/fvyQ0dxNYYK7mnl+BInvB60fF7zvMCCLqS/GlPEICmwwZGaEWOtSc56B9eR9dhbZp5hqcLnV/72tdmqzTGP2ywEulKVwpY11lnnSyw9veoAFdtCoJ22GGH7JQ9q0qjArvLb6kK4GnVuAq/BU7aIzfarCKpgz/NcUw8Cab1MSyQHW2YG4eGvPjFL86CGJ+PCvwh7blIe9jkEztK5sgeGSSL5EagxRfB66OMf9Qxtr+vhwKFAhcKelQjhMEYC842hTTqkmMkB8XspA7OR1UMqh0KlFGrCtDPSsmodIz4wNGYKTwGrwog/JxXAQwlMIpygp855hBTUBxiWRJZkSYA/Cg1yk0wAzeONqedooa7ufLcIMDbxsXwkBV8Hh0ZTuywylOQTylTwhQy40Epm+9RMnTGxJHTFqPOSVLrPGqwgk7GKkiTSBD8V9GmdtFCIPDmN785Kw8zX1WBU8jWXXfdqprL2tliiy2yDGVVjXLAXv7yl2cnOgkMijrag/qn4wSWAhi8P4rM6wte2iRL5gvPkq9hne9B+A/7PXzIFgcU75NZDp+/fU72Vc9JAAAAIABJREFU8ZznyHD3c3Slz31fREd044nOdI8+6fG4KkS2ydCwAJdIfys1VpqVUyrjGhXoDO2RbfoIH84333wj84zxsjv+RfuocsK+Fxc4Dgt4kX00T1WC4LKqpETEC3+pPtF2FYAP8Cg8lfkK0kfVGXjW4SVOadUuvoX3KDrD790rJAiuYp6MGw9pKwYzZJuMky083DRdVMV8z7Y2CgUuoxAFEzFiMgCUcxXZmYgPQ2vlBoNWCQwtfKuGWKNZZbvGXqXCgxuDClc04NwOszqQjpEy4QxoSwCjbQa7Sl5I+xv2PcXO0Y7BjOADzpS+oERwgp8FDRQjpWsclKJ5EOz4blgDgU5oQsFyzBkGPK4fePl+FIA/fAUqVmwEWVUFFvCGb9y8HR2QUfCNv0VTm1Bf/epXZ8HAKI5dbDO+mscXvehF2Qph/KyKV8GbUhpBZ1VAhgRYSmnsmauSDgy6QDPuV6zCuJMDssQZk6zCH+RkVH1SFT3TdqLs0f3sFR1lRUoJFCedDkCjYWUQLfxeUgQ9omyPmoQwBjjRPXQVvAWL+A5/GAO5GTajrX1tC1jwBn2Uzp+7h5RiDQvaFgiRl27amoeFF144OzFwGH5EA8FQ1cBRt9pble6M+NFz5ktAOEowENuLr2SQzkcLtmqUtl1tYU+hoJ5NNEdk26u/h2lbW1bZ3DHER6wayF5qs9GAHaSL6H/fwaGF6aFAbYELZsDMlJ2se5VGFpNxvAh51crD1MkmcOqqBo6HFadhHdte+KBBVHipUen1fNHPObqWsbUta1HFHDJODLigoA4HuujYijwHV7Sl4DgFeE7gxbDgaU6OsQw7n9pHUxlS/KZNCpUzIxAYtt10bPBnwDml/nlPNqsC4+eEye6OahTzcLKi6tI7pWHuNKoaHFXuNLE6QCZRGUSVwAFV+iMb7YJavFMl4EeOtfn0WlUAipc5qRxfcoTX8XmV+qoMHcieseFfNCTLghM4RWeGs4we9DanjOz4hyd95ve9ZDTqDr8j01G2/U0mfT8K+D0c6FGBChkUFHXr6I022mhouUEXc2VV1rjzxqqKwL6UYYDOs7pPv/YCenDDDTfMSt3MTxnAw+a1DkBvwVbVgMZsriDD2KsE9hzO6IJvhpE9PG+/FHsYgT+GV+gLAa5Xf5cNBhwTTa95rRvgRg7JOpnHW3gF3nSCcY4qo3WPYTa3X3ngQjhkqAgHhT2McPSbEE6XtkXmZQWjX7vxO8pCBihPScdnRnnl+NahTFOFZw6qhNSZYYAJfBVAMcCVw8upprDRpkrHugye+Ck6KpwTBpVS43AZM16Gs6ySv33ue0bdszJb+Cc+l9c3Z4jDwcmwqkJGODPoUBU/o5/2yaF/3ldNUwqf8Zbh1X4d8sK4OoJTOUpdmVMXq9koWgdYFZHtrkpeUhw5fDa32ryPh6oGPEwuZVPJfJVOFF4hA9on85wg8jZMtrbIuKPMkgF8S97Iq1d/m5+ifXtOO/BPdQSHxz+ro5wgY+KY6wPtqpCPqC+1T/bMi3FwsvJA//ZGlZk7fcBZwMIJpd981guMy+ERni8KfhN9hKK4HXjggZkeKFoJQZ9a/a2C7nnjwgPKK6vS2d19sIN0HvpXDWwc/rSaKJHQi3969esQk4997GO5X6MHO6hdsk2H+7sonfh1Vl6swBT9TS4iJT+MOoIuyNMR5pvs95OFkl22j49AgcoCF1EqZSQbTejqYDqGwX6JspmXMvQxBhmDuoBhq3KzYDeeUeHpp2oguIwhZ9VqWpUBEoXAiAkCzIH2GeXuDGJVY2LQBBGpouKIUFrw8F1Rowd3jp7f+T1jg/7RmfG3seDb1Jkp6iwVGTM66cfKmH/6r5p2xskIcZoEmuhVhyJHFwH+G97whuzGZrSrA6ysPvvZz648qIu4Wh156UtfOlIpTWwr75WsuH38jW98Y0avKvkp9kePo39cJaHnqwQypk2yQe6jozPKWLTJGYvyyBGPsk3e+yUWyoxNO+TdPAgiZLPJHqdNn/QjGRzFFka9SK/rg8NJzumnQbDbbruFj370o4Mey75HMzrD6o1xkPOi4BQ9F8AWAfSw0k6HlKWLYF0SQxAzCNgPvFQncLLNfV2AfwQXElx16Fn8S+4EqPogG0VAosTR8Zz5fmB+yYcEBdlm+/w9aN49s/baa2f6vw4/ph/O6XdojkbRR2DPyTX86BY6ZtBY0vba99VRYKTAxcSaREzJkTGpRZ29MkPQD+YnxFUbzhQPTCjLUTYDkbYx6L2xWDGqcxxR4TFydcyHNjkzjBwDgQeqBDSiGGTyOQKUKt4adl60xxFiNKMzwzDLmlJKVSogtKHQOUoUvCAY/oyo8aCVPssERr1oC2904ShFGlUdrOgb/ShtDg3nyRh8VgegnfsN3Omw3XbbFc6El8UF/u9973vDtttuW/anpZ53fOib3vSm2gwcvnY/B3q5i6ao81FqEP/cdI+n6+QBskN3kRNyw9GxqtkviDGPnAt877eeJ9v0K16qQs4irdgH9NW+QAKe3vssdWAiTvqPOMEr4gTffnrZ77VJx9LhdAfaFwlWIq7ooezG7/sBvPXDfnt2GLskkLKfa5Ad8L3E5iiJRzzhhDQlcHR5HuAXSYky9MprZ9Bn5lQSr04wP/wrqxd1jUcfAgQ8wI7g2UGw3nrrBWW2RUEf7K1Aj2x79XcvOZD0UWbr1DFz2RSAr3kg22SF/OMDNCNzZJv8tlAvBYYKXEyMCeO0cmRMXF2TRQnpQ4amLsGNJGaI9FM3UNxoVyegW1R4wzr8g/Az5xxa/RgPnqiaD7THiFOslKpgYJARp1xSZ4aCpGS0E4OUqvDUjja1L4jgBKAJRdatxKLSg4fnyQ1jHrM35mwQXmQAnRnwSIs6ghVzD1+0NreCo16OwiA+Kfq9cbmfRTbPJbJ1gnnibA1y7EbFAR8861nPqt3BcRknusl+47+6AH+SJ7IoqVCX7tcPfiP3HHeBgr7IWuo4wAWNyZTPOUhVAf4nW/qIq6ZwgBdZLQNRJ3F4/F6b/kWdBHfv6RByLVFnHn0+DBxxxBF9T8qDPxmgu/UFr1HAHR8HHXRQzybYVqt2g4Kbng0kX6CJFZ5FFlkk147iFbw5DqhqTP1wJQvGJFHIbtQFeJQOjslCffWyR/bqLrnkkkOhoh9t4wl2xSsZ9nk3ODHWnhr3WDUV6Bw8GRMV5Nr4/O1z3/eiY1PH1HS8SgUuGIsyxdgYDrPVCSZepoFiHcfEUwyYrm5gNNSOc2zrBDSjFOoel37QLTozeCRPCY06Vv1wJKJxFwDqKzot+IVTgC+j0igSDJTBCw7mTZ+cGLhEZ4aS8n1R8Gyq9Cg7/yL++kFHzhqDL0tlzIyLz+oCOBlXzIzVFRhF/NGBjG+++ebZkb/4tW444IADspWQuvvR/jbbbJPt1SnDG8PgJWOqPnyTTTbJZLHu/siAAFrwV4fM433yS5bxI5tjxYee8TcZqHKM2iLDdEiUbXJnnN1JiGHmJ/2NvsgZeSfXMQkYM9H6G8XhcfKcu7m6QbsCFjacbTDeKkAVAd7rPr3MGMybAKlqneWoZE5tetQzuirhqts3iTSL5bnx7zpfjYk/pM86AQ3xpYSBuSMDPkvBPDvUxME9owAZJ2/GxAZ49XfqP5B3QRL7ULctGmUs8bdRtslW9EmMiR4hA9Gux+fb1/IUKBS4UD4ME0eG42Qy6gaGg5By0sYBBFV/4wJZNUZqHGBsVpLqVnjGEp0ZvCJbj3eqgqgQCD4exJMcJ33FcoqqFZs+OU/aRUd8WZczg06xP4ourjJxMvCKfssGR2Vob5wcQo6ovqtyavrhoE8loMo/1lxzzWyM/Z6v4jvjWnTRRbO7mqpob1Ab+NMmaTStG/Do+uuvn923oOyVrNQNjDEnmINB5s1pWUhlW3v0iH/kznxp0zP+RdknE/iVrAyjZ6KsaQ/d2BoJGH+jm+/rAOMhy2gmiNBn7M84vDfuSAP4RBqkDl0v3Gxgx98p+L3+yDY7MMwcpe3lvV922WVnXAprDHQXHV0E77w2B31Gd9hHtvvuu2fzhZZ1VzOkOBmXQKnqoCztI31vHs0hJ38Ynk/bKvIeD/L5BDBsXzqPBx98cNh4442LNFPoGW3rjw4h21797XO8ZFXPPTJwmTagS8yX+Utl23vy7ru69M200aoIvoUCFwaJgkX0usHkxYyQSR0XcHwZwXGBsQmUUkVQZ9+EwzwyIuNQeNFQ6hNdhzGUaON3UdjRzD9/+9z3+MU/hiM6AxxEjsgwfZoD7UbniSH0jwLVb53zBV9ZNfQyBv3q03yldODI+AfHKpSeNvQZg79h6VaWf82lfRkvfOELw9577z1XtrZse0WfV37A2RmnoVh99dWzMriiOI76nBUlp44dddRRGe+O2l6R30c+iiWM/s4DdM+Tbfycynbeb9PPtIOHOFRsRlx97SWjnidL+hHskC96ou5ABc5ooS9Bg3/e96JP9xjh7Fl4Rx3YT/YFrocddljWjOfRxpwIzHrRJu1z2Pff+ta3wlprrZX93PgELeambuDg2ke2xhprZBvNx5XsjONCX6Vc4wJzGBMF+GAcoB82KfIRnjTHym3hUjUYI7k0l+iLj/z9pS99KdNr7u+bdqCP2Npu2U51oGdamJsChQKXcTky+pFJGJdzHcmBcZQg1KnUY1/pK0dxHIo99kkIKAHBxLgUnjnlUJhXBqaXsY5Ohe8JLvz8i0JMURYRYs/4TXQSOOSclH48bN71SzEKHPzzXjt184RxCYooaLjCW7+DxgovY/JsdGa8+tvnvh/Uhmf1KaMm6Kt7rJEPverP5kv3s7jdelxgjBw7jv04gaFVWoHm4wLHtb7gBS8IO+20UyaD4+oXT9Nr+IrM40ufkbEo16lsF+HVQbjjdW0KRvB0dHT02S3b8PHZIPkY1Oeg78kh3YMG/tEr+h0V0CuPntq2H9ReJzTgaMpc0yl1j9WY0J88K4NmY9B5XIAmH//4x7PLZK3CjBMi3eEwTsDrVl/M77jAWNlzss1mfehDHwr77rtvrd2jK15iM/D1r371qyzZxX50lybWikjNjZNRY6U30DnVlf4m874fhyzXPNSRmy8UuIzcS4EGMKYlQAp+3BMTlXwBNCt9hCETvIwbKDqGZZwKj9BRtAypjKPAIAooZy7+85lnq+ABbRB4dKZsKVpBgs/0QzH42z/4+Hwcxsf49EcRw4lzo+9Rxuy3UemhZZ7Si+37Ds8LYtFmHGOOPA4HQaxTgRZbbLHM8MbvxvGK722WH2fCII7rVa96VTjhhBPin2N5lQleYYUVghUfGfC65zrlQzqdPqfj4IHXqpLtXsQzPvxP1+BvSTCvdB0ZqxuMjz7BX/55T9fUCZHmxueEOc4kGaNb0KJumsex6Sf27/24gV355je/mZ2mZvVnnIC/J6FT6PKYFIz6fRzjNr9kLCZH8Pk4gHwbswBdefFb3/rWLEAf59jHMc7YR5Ttun2l2N+0vDYicCEAliDHxfzp5GAMWQsKftygb0adEztuMF5GfRyBonFSdAyrserTfFP2nHbKyDN1gbb1rS8Ou+CJMyNwQIc6+45jMkaOHAdKv3gdTnX2rW39xiBNv8YuW0bmfF5n/3Hs8VV/sqE2Dr/rXe+aCN/vsssu2SbPiNM4X52Mo5zFnIwT0H377bfPDj6QraxK10X+irKt3fhPnz73jH/4neyRfXJQFd9pRz/6pVv849iQrahXfEf28b/gyfdVzoH+9Uum/PPe+McFkb5sidIdezzgFGUfLeK8eA+3SJuqcNQ+veKULSs+5nicYDwSn8anemKhhRbKAjh/jwOMVwBRFV+XwdnYBW1KtsbJd3DU90orrRQOP/zwTqBcBvdRnsVzAuUFFlggOzKZbPtsEnMwyjjK/jbqPHM9Dtkui984np9o4GICZMI5sONSMN1Exez6nxQwppb0JwFR4XHi61Z45rr7HwNflzNjbMZEkTEq0Zlh0P3zHWeKoyGY8IzPqwQ46J/TpI/o0KDDuEBfxhZXnOBA1iJt4Oefv+Eb56hq/ND/2GOPzbKh6pQnAebbfhoX4E0C0J5jaTPvJOC4447LSnnQHy2qgsgz8bVXu77HB1YC8CO+9FkZ8Dw5xcPaSmU78m+v9vzW74ydPHrF+35XFuCgf/Yj6g8yNE4wHmMQDLIjNktvsMEGPVHwfPqv54Mlv6Df2FD8DdZdd93gxK9xgnlI7ai/0cJqo2TNOCClwTj6S/swr/gQDvhynODeLcGL+Y92Bg5wGgc4Ol+J4jHHHNOR7WjnxoXDOMbZr49UrmfDmCcWuFDysgQYfRjD0W8Sy3wnS1GlES/Tt2eN3crHuI1exBOTU3joMG6FBwf969cyO16gcIYRPHREQ46I9vzjpHAw+rXnO7/jADF2jLDfDsuTfgcHPKUt7Wq/Hw5xLqp81Z++0VVwhha9oG7c8Neuu+6a3Xo9Z86cXmjU/jnD5qb5ScIOO+wQtt5667HzQxyz0wVf/epXZ5dv0r91z33st/sVP+ILQUw/mYdfL9n2+bD4+12Ue3JaxNHplm16YpB+6R53FX/Dg35BOzrLONT6L7zwwuGMM86oootCbaBhTLyl+sWq3tJLL12ojaoeknyj77rBXjbJinHQBR+RqUkCnhTA4YtxARlwUaRj7PEE+4cv2B74DCujZfC30mflZccdd8xsHX4k00Vlu0xf7bOTp8BEApcoXJhqkkDAOOzjEKx+4yTgBH2SEOdknAqve7zRmUEPRqjfvPiOwvQb8+if96M4ErFNtMCbnAPtchT6gd/pG85+4/eTCFbgCFd44CdjgMekAC7KJ9Qhv+51r6vl9JmiY8MXsoJ1X2w5CB/lPI5G5nROCsi4bPQyyyyTORtoMynAn/gUv3I08Ix/Pk9l29+jyHa/8ZFf7ZMbOHjVt8/h4r3Po2zXhUc/HH0HFzigldd03gQLw14IOKjfvO/1LdEEF3ilIIgSHJ9zzjnpx7W9p6M56+YrD0499dTskIp+F2Tm/a7sZ/ofR/XCILz6zc2g3w77/X777Re22mqrGT8nN3QNHiFTveZnxo9G+IPfwNasssoqnQBSn/CIsj1J2zzC0NqfdlFgrIELJqJwLW1TNpMGjD5JRz2On9Gk8OoW7Nhfr1cKj0OVZ4x6/aaOz+HR7cygjX++o4iqCFT64R770g+nxT/9RiPte/NGEVKKnoObzycB8IKHLDZc4TJJ0D/HxaV022677UQDKHS4+OKLs2M0zdmkYZ111gmf+9znJo1G+PznP59d4KfUA29PCqIs4V22ISYuJiFPcCHL7AJdCBe6CH0mJdvoQKbRh4xHHZTOl2OIbUwfB6CFoIUt7wXKEe1jGwewV+aoH0igLLfcctm9I/3w7tdGke/wjRXuSQNejTw8Dp0ncFQGay66Af+ieT/+7f7NsH8bt6P1559//nD++efPaMZ3qc1ug5gZ5JmqP8YWuGAajDtppzjODuVvWTfPCMRnxvnKQDJOk4ZxK7x+402d8V4Gu9/vq/oOTSjfGBjgYbwcAwTfTwoijRjuSdIoHT/Hz6k+6o6PPvro9KuJvDc/W265Zdhzzz0n0n93p6eddlqWkR6HQ9Hdd/ffZ555ZlbCt8cee2TOxSR5GW74mUMR+ZncjQP0G50a/XPO4z/87DOvnhkXjWLAghb679Wv0+LcIO+ZuoGOYavQph9w3jmyEnJ1gnmzT9LrIDB/9IDTDNGsDjBnRfGpo//uNvGE+TL2umHTTTcNX/jCF3p2Y47wT+TnInPWs7EBX5x00kmZTBx66KG5T5Ilc5XKtr97yVhuI+2HE6PAWAIXDMHZE3U3hTFiBmBilO/qmABNsnykC53MCFJ44zCG3X13/41n4EHhxWCh+5m6/k4VnDmieKOyg5N/nJk6lXDe2MgUXPAxfJogV3AwR9ttt112gtVll12Wh/rYP5PFf/aznz3RQzi6B815OvHEE7s/nsjfymVf//rXhzXXXDM7GaopvISv8Tc+x+9Vg3GS3SjPnPFezotnfefZ+K/Xs6PiqV16ztjhNGg+nBgn8KwT4BBtZlFd51jmT33qU3WildGJzikDTsAS6NUlf1Y68GxTAD/FRNsgXhoF53PPPTdbYR90twr+SWW7KD+Vxe2GG27ITrDcYost+voxUbbJGrz66YGyOLTP10OB2gMXTCD7giGaAhiVU85oNQmKZLLGie+4FF7RMZk3/MSA1hnAREUWHZReisxzlK7v47N1BzHmhFE0fv3CoQkAD/s3Vl555fCWt7wlk68m4AUHJVH9TluaBJ5f//rXMzrVZbTLjglfOTjgZS97WTj77LNrCRTK4uR5fEWm8HsMYEbh+dhelFcyZA7KtOlZ9Erl3t9l2uimRcQryrYxF2mPQ2rPVJ0nZ6EPZ9wcFMEpju2qq67KLoREmzoALhKiw7R/wQUXhJe85CVhr732KjWmIuMwd3yeMrQq0u4oz8CF3RTk1alz7Jv7xS9+UQhVOJGhVLYL/bDEQ9pWsggvVzAMAjilsg2/UWV7UJ/t9+UpUFvgggEoYQpvGMVSfijFf4EZKfymQVxVaBJe5pHw163wyowZTowD/qrCmYl9a5dSx6/+lXFo4m9TZwaOVRgJbcMnjreoUxPHVfcr3E4//fSsrrgOR2AU/OHmxnoXpTUJyLpSOqd8NQmOP/74DC8lFni5KTCqDET5xA/+lZHtfjQYtV2/H0WX2Uuy8cYb90NxpO/gRvcPyws2Sn//+98fCYdeP4ZT2dWWtC0lXauuumq20lh1tQO/Z1iapThW+R6vCdjRzLzWAfZZrb322qWaTmWAXiSfPqsSyMkLXvCCcMoppxRuFg7D+gOFO2kfHIoCtQQuJpyz61/VDDjUKLt+RHAJcNMArQRUVTi7VY4NXnUrvGHwhRclR9n51xSHHl7+RefI+2Gge3x1KPRh8Ep/wzi7P+J5z3te+OlPf5p+1Yj3P//5z8Oiiy7aCFy6kXBE9DbbbNM4HRkv8Hvf+97XuMwxGpID+qhJMt89t4P+Jtv0lTEYizGVBW04/EKJTtWgbXjJ0g+DW8RH0CJ4qQPgNmpwQEfvtNNO4RWveEWosrQVXvBrIphPuJnfqkFyTULGZaBloW57Zz+fo7H333//7Pjwsvi1zzeHApUHLoRCwEIoMGLTgKISuDQRN7SKTnjT6AafOLeUctPoZ17x3DQ7M3HOowI3Hv+MrWkAR+UQm2++eRYY1LXZdZRxw9FleF/72tdGaaa237pp3AbmqrO9VSBMR2644YZZiYWb2JvIg3Cii8hIU5IWg2iPJ+EKZ7iPQlcbkF/zmtcM6rL093CkRzmh3o8CbMaLXvSioGysSkC3Ku24AEvy5aijjqoETXQTHIwyv5Ug0qMReJlf8zzqHHd3IRD0bxSAX7R/Vcq2Czodzf+2t72tkVU3o9BsNv220sAFgxEGyqqpQFAJRFOBwFJ4VSuTqsYLLzSsQ+FVgSP6TZszE8eNtlU5NbHNOl7hed1112WXzClTaWpm8cYbb8zq/5uKn7kRHNiD01RwSlDcyNxUvY4fo8x79XfToA7ZXn311bPbwqsca3Roq6SjDfo26lcJMfCrsk1lm8pKqzq+PfJklThW2RaeREc+m3mvCqy2WHXR7qhQhz1nYz/84Q9nc211uYXpo0AlgUs0HFULQNXkhKfVoCqFtGoctScooPSaCnG+4dlUWsIxBgFe/T0NAM8m48p5Pfnkk7M7UfodfdkEWu+8887BiUtNhjlz5mQ3Pjc1KEC7s846KyuxsH+pSoe26nlpuuxUiR8ne7755qvUTuBBOr1qXox3fFihrQLQka9Rh55Uqi0bv+KKK458CmGdeFZBx9hGHfPurqoq7xWqUnbiuK2uWWX7wQ9+ED9qX6eEAiMHLhiKshO516FIqqQjBxauTQeKpIpsRd3jrEPh1Y1z2/7wFCA/bkjmMJ1xxhnDNzSGX1plsVLQxBK27uE78eYnP/lJ98eN+tt9HPHEuH63lDcK6XkYma233jrsu+++lYyQ3Y6rA3UlopzsZIN0FRATUlW0ldeG43w/85nPZMG6xMIowC+Cb9PBvMdVrCr8OCeLLb300k0fdrav6eUvf3lW2lYX7zeeCFOI4EiBS2T2aRBMc1NHNqmuOZ8WXCMPNDkTW9cczZZ2GTI3Za+//vph+eWXr/Xo1apo6gJMpTTTAEceeWR405ve1PjEj0TFjjvumN3R41bq1tBPhrscAWxvlAByVCDbVTqsvfA555xzsktXB93x0ev38XP4so3j4L1f/epX2UlUowRc8IRvFcFApEFdr3CMAeyo+JrnV73qVcG8Nx3sMXSE/2qrrZZdHtp0fFv8Qhg6cGHEMPk4FEgVExUVSBVtjaONurNKVY6BkoOvf6MqvCrxatuqhgLxlClZXjLfdMCDNi03fRUj0hFNn//854crr7wyftToV6UVSiyqLAVp9IAbhtznPve58J73vKdhWA1GRwZeMDAKsOMCrXGBuz+siLoVXpn5MABf/tJsgy9+8YsZ3aZh3GzGnnvumd3t446fFppNgaEDl2YPa27sOAfTpDwIEoXXBgJzz2X7yfgo8MMf/jBzUq0KTAucd9552UWK0yQ7n/jEJ8JWW201NfJ+zTXXhEUWWSR84AMfGKsjOS08WBeeHHeXhF500UV1dVFbu9/4xjeyU/5G6YANH3ey1IqJo8EXX3zx4MCPsgDfaalKKTu2fs9XuTLYr58qvzvxxBOzEmMXBLfQXArMisCFA0PhTZMjg2UovHEr6eayaovZOCmA73bZZZfMSbrkkkvG2fXIfW2xxRbhwAMPHLmdcTZgD4nyH8Z+WsA+ok022SQsu+yy4ZZbbpkWtKcazxNOOCE7znUaB2HfppW6aeWVww47LFsZ/dnPfjaN5J8IzpIxTpWbJrAv0t1fW265ZZuUaejEzYrApaH1obulAAAgAElEQVS0b9FqKdBICtx7773Znos11lgj29vSSCR7IGUvTlPvRumBcufjzTbbrNFHI3cQ7XrjAlKlbi77bKFeCrzxjW8M3/ve9+rtpMbW3e8hIRLBXojHb74l3Hfab8I9J/8i/PEXvwr3n31u+PP998dHGvVqb9f8888f9t5775EvMfzLAw+EB845LxvzPT/7ebj3tNMzWoy6D6hJBFP+6h6faap2QT9JGUf9L7fccuHWW29tEklbXMIIe1xa6rUUaCkw71FACcpLX/rSsMcee0zdCqXZOOCAA7KyjmmcmQsvvDDb+D5tK8NoffbZZ4cXv/jFYZ999plKvpkkv/ztz38Jj1x5dfjDsceHm/7n8+GGT+0fbtz/f8Kth3493D/nrMDBBVdccUVG42lzAlPa3nTTTWG+5z0v3Hb8D8IV7/tgOHu5FcOZCy6e++/8N64ertl5t/DQxc1a8b3nnnuCAHKttdYKD/xzbtIx9nv/0CWXhmt22SOcv+oauWNGi7OXfV244r0fCHf96Cfhb2Pcz9MP71G+cxrhtB45fNBBB2UHNJx66qmjkKD9bcUUaFdcKiZo21xLgXFQ4O/KCJ94Ivy9wk2fRxxxRFbf2+RN7bKRjPnfcg4J4PCr/5+20raUX1ZYYYXw4x//OP1oat475YpDt+aaawYn9bTQnwIPXXRx+O0OHw9zFlumpxMbnfqL13tHOGCtdcJnKjoCuT9m9XwrQPv9Vw8Lv1h4yYHjjeOOrxe/baNsVaYezMq3Knh0wt4CCyyQBZSDWrjvN2eES97+ztLjPmf5lcMtX/5arr4b1GdTvj/++OPDKquskosOPf7XJ58cefUqt/GKPnT0vysAJMWqgjrsd1W4TUM7beAyDbPU4jjrKfDo764Jv//KoeGqD20bzn39G2cYwHNXeEO48gPbhFsO/kp4+IryJ1M5BMIma3W91113XaNoLdv8h+8el2UpL3zreuHMhZbojH3OEsuFS965abjhU58J95z8y/CTH/0ocPynGY477riw6qqrzhjCU489ns3rA+ecm5WWPHz5FeGpIU84mtFwDX/YG+XiT3cjXHzxxSP1wLg/dv0N4cHzLggPnH1uePDCi8Kf7rprpDab8ONHrv5tuGSDjTt8HJ3zQq9LLx9u//bRjXb08mj8yG9/Fy5a9+25Y56z+LLhkndsEq7Y4oPhis23DBeuuW7uc+hzzc57hL88/EheFxP5TNmefTvf+c53cvt/6pFHwjW77NlzPMZqzFaf0OCsJZbLffaitd8WHrnq6tw+mv6hIO+FL3xhuOKyy8K9p5wabtj/gHDZJu8OZy35mhljRYtrdto13HH0d8Of772vUcO64447sqsANthgg/DII+X5j8z//stfC1dt9eFw7oqrzBj3ua9bJVz5wX/Y70euvKpR424qMm3g0tSZafGa9RSwuqDum5Iv5NT8s+SCAbz7xycGjt8guO2227KjgzfaaKPw6KOPDnp8bN8/es21WbBSJBsdafOzhZcIJ77/g42tjy9CPEZeTfglP/hhuG7PfcJFa60/I1iLYxXACeSu22PvoPykafCjH/0oc+is4pWBP93zxyxAv+xdm4ezlnptLt8L3K/aertw1wk/mapMtNXRWw75ajhzkaXmGtc5y68UrtzyQ1mpGAfnli99OXPiejnxl2+2RXji9tvLkHZiz/7x578McxZdesaYz3nt67OxPvrb3+WuGj/16KNZmdzV2300nNm1QnP+am8JT95+x8TG093x1Vdfnd1Zsv322884PezJP9wZLnjTW2eM21iu/vBHwv1nzgmCmm7AI5JUNx34hYBGHXmn2xdZKtxz0sndP2n833958KFw5AYbhZ8XWFmM452z2NLhdzvukpVQNmWATqZ1JcBCCy0UnKo4CDL7/bOfh0s33mzmPPYojYxjz+z3iSeFv//tb4O6mLXft4HLrJ36duBNpgDDfPnm7y+l8KLii68Upo2vveC0007LlsA///nP93pk7J8rJ7n5oC/N5azEMRV55QRylqYRZCRPWmHl0vOulMbG5iaB1TureO9///uzS/j64fbELb8Pv/voTnM5uIPm22ojJ1/ZZJOBQ5o54anTsvCS4bfbfyw8eEH/o43/dPc92RjnytSu8IZsRarJ4yaHMwK1RZb6x3w9+WRhtOlCQV3KC/aINCl4eeihh8J6660XVlpppeCEwCxoWW3NGThbVSkTbCqhEsTOCPoWXjLYyD8tcO+pp821wpDO48D3Cy0RbvzMgY3a6+NqAKtskjO9wDxf/u4tZsz/wLGmumHBxcNlm7wnPPH79mCAPBq3gUseVdrPWgpMkAJ//OUp4exllp9L6THedxz1nfDQJZeFvzz0cFYb/NTDD2dlRHd859hw1Tbbz5WdV3ogM90NjgtWt3v66ad3fzWxvxn7i9bdYK5xX7DG2lkZ3H2/OTNw4jipf33s8cDZlYG84ZP7527y/d3Hdw0CoWmAvzzwYOa49zJu5628WrDP4eL1NwznrfymuWgUf/fbj+zY2czdhHE7ncflfS4fvPnmm+dCSVbyjm8f07NEhhxctM7bs/0BF75lnZlOcGLo8Qi5aCLkBS3GpHykDOD56/f+5Iy5F7gpp2si2FSfBi3nveHN4ZGryo05HZeS0XT15YLV1wp/bVDJJF7eb7/9wsvmmy+ckcroQktk5U/pWMq8tyrloIIo42gwKNgt034dz1rtt2Lcwfmfsnr2MitkPHz3iSeFx2+6OdPjAjQrrVahlENnJcGJbGvDymOTnHj7KO2ndEJe95UVgvWzlp57tVg5tzK4hy+9fKb9vvyKcMcxx2Zl4GkptHErp7v7Jz+tY4qmus02cJnq6WuRn9cokGUou0ojrt1tr74rJykNZCGv32e/uQzGnT/4R3ZIOdiGG26Y1eve3qBSk7wMJSfdqUocgkEgmHEqk9WW1FgK5poevDx2w43hvJVWnYF3VlKyzUfCvb8+Lfz5j/fONXw14Pedenq4etsdZjhzxq6U6rFrm7VX6ZBDDpnrDgwbc+3ZSufLe069QPzxG2+aq1yCkyNAuenAg+YupeEgHnPsXLSa9Ac3fe6LM8Z4zU67jcSTsthpCeUFq62ZOYCTHmfav4Digjc/XSYlaHni1tvSR4Z6f/eJP5vB73Rd0+DXH0hWhxZaIivbHRVHGfw0eGninMcxClqsnqZy7aQ0STfBdxF44NzzwqUbvmtGGxI2TQpeHL2/+uqrZ1cHuEIASKSlwTUaXLvHJwrj/cRtt8+VnBDM3PXD6TywpchcD/NMG7gMQ7X2Ny0FaqCAuwxSpceZ5bgPAw+ef+FcR25eeujh2W3nLgVTr9sUcGcDQ9wxdAstkZWT/O0v5VdLOPTdzrASnaaCoKW7BMj+jTJlMIK+LIBJspRZJr5hwcu5556b3YGx1157haeefDI7UKIz5wsuHuxduH/O2YWnShBz2xHfnOHEa09Wsynw8GWXz5BpQUsVtev3nzFnxritxDQJbvj0ZzvybPM9Pq8Kbv/mtzttm2+HNzQFnBSX8vRtX/9mZahZoUg371+/76cra7vKhq7ZefcZNFAiN8yhGgIgR4LPWLVb+U3hT3ffXSW6I7XlJMvdd989u0LgvK8dNkPWrZKX0WcpIg+cd344f5U3P03HhZbI9rumz8zm923gMptnvx17Yyjw5/vuC46+jEaP0ho1Q0nBK6eIbf7iVYuEIw/6QmPGHBGZUfsvQzni0jjH8Nrd9+qM2/jv/N4PYneNeTXn6QlxNqTe9aPhM2volmbiBS9KMJoE7sBwatrXlpp5ehKHvmg2tns8VmayQwySwO2en07+dnN8mJa9OA53mGC8e7zxb6eLRdn22pT7TpwEmPKhQKNKQFeHN8SxO42sKXDlllt38LLHsIogNR1bOuf0BR3SJMhWxBI5dNx3kUNi+o3B3r00eFEy3TT48bePCie9cuHO3NuDVWY/U954nrzzrhmrllathgkA89qe9s/awGXaZ7DFf56ggJNmoiF2msyoQUskiuBF5ie27ejNIqVX8fd1v3IwI25e7zy+mgCDw8BoxrbVHJdZxah73NpP55wTYg/PqGCFLnUarT41De78yU8782J+rvvEJ0fmSQ6cI2PjfLvY0H6oSYL5jPiY38euu75SdMhxugHYqlsT4NbDjuiM296jqp13Y3TqYKStV6sRkwZ77lKcRtnP02ss5jw9ac69OE0BSZJzXvP0SWh0z6hBSxxbVoKVBERV2YnY/qivVsnj3EtAjhq0RHwEKmly68r3bxW/mtWvbeAyq6e/HXwTKOA426j0vFZ9aoxNj2n7ykyaAIxauhxedUmXgwvSjez2CjUFugM2mcqqINsnlRj5vMMZquqrbDtK+dJjXgVvVQXS2nYnQuR1dyZMEtLsuzr3OmCG7lh4yaBscNKQHgFshaAuuGzT93bm2p6nScPNn396L5Mj7OsCpZCRx2X2mwIOSYl4We1VAlwlpCVo2s+7hLjK/oq25aCEOG6vVZ/umJWQJ/r8/rPOKYraPPtcG7jMs1PbDmxaKPC7j+3cUXwuoqoDnLAVlavTTZoA9/7q1x2c3NlRR9mDze1x3GrtlbFMGrqzpk4CqxrcgRDHbZN0VcHBqHje/MVDOnjV4dw4TjqO22sdWe8iNHBKXIqHk6HqAkdhx75uO+JbdXVTqF3BY8TFpmKnH9YFyipjX46OnTS4Wyfic+f3f1gbOu64SfdCTnpl0UCfevSxGSdhOjWsapCISld0Ri0prgo/+jvOu8Ng6oC0esDqzmyHNnCZ7RzQjn+iFGDo03P669po6ujVqFy9VlWKNgrxrnjvBzo4Xb/Pp0ZpqudvOezpPh+buScNboGPc5HVqeecGjYqjrKdArXYTxNW2WRI0xWRPxz3/VGHmfv7GSsdE1plU7IXae8Y5zrBBvDYVx1BcBnc0/I4JU11gr1NcdyOja2qLGkYnJXDpUfgVl0W2I1TWhbpdMFJQ3ZU9T9XBZwg5wjwOuCm//l8Z84v3WjTOroo1aagMd1/8+CF/e9kKtV48vDDV1zZGbeEwJN3/CH5dva9bQOX2Tfn7YgbRIG0rKduQ58eLznpGmFOLKc9Oh6P1ngCVnoKkRNuJg1phs6m9LpAaVyk79XbfKSubgq3m/K6zGldl0ampZGCN9ngcYO9B5H21+y0a63dO4Eo9uVktknCrYd/o4NLnbxtjN3BQr/LduumiURQnINxBFHX7rpnp79bv3Z43cMb2H66X8+lmXWBvSORzl4nIdvp2NKSX8FknXDJBht3xj7bj0duA5c6Oa1tu6XAAAqozY6KuK5Vh4hCep+EDdGThEeuvKozbnev1AnKhSKN7a+YNKSbLeu8SC7d/2DD6KThhv0+05mHOo9ytcom6xvnvK5VzH705LTH/usu3/rLgw91+tLnJO8tuvkLB3dwceN53WCPR6TzpMoCjfHR313TwQPv1Q3pygO9PmmYIW81rTrEMab32Tj2f5KAxyP/2eNTJ9x4wOc6fdWpP+scQ1Vtt4FLVZRs22kpMAQF0nKpu35wwhAtFP/JH395Skfxyd5MEpQJRYVf9/GWjqBNT9pyydekwCkxcdzq1N1FUhdkq1qLPr2qNelT1RwPG8de5WEEefT77fYf6/RVd+AwqP+6j+JWIhXp6vWpRx7JQ2ksn9180Jc6uNz42TEELqu9pdPfI1dePZYx5nWSBi4OHKkb0oTXTQdO9oh7Zakd/ltoiaGPNS9Ks1S2qz5quygO8bn0VL+6D0G55+RfdOisemI2Qxu4zObZb8c+cQpctO4GHWVUd/bIBuFoYGStJglpKc04br9Ob/F++PIrJjZ0e03iHJj7usHdIbE/N65PEpTQRFzqPr423fdRd6lWHk3TzbR/OPZ7eY9U9pkANdLV67D34VSBUHoU8jW77FFFkz3bsLJ29jIrdMZeN0/1RCSE7Gb0OAcOGqnjCOi0//SeqkkfifzY9Td05sBqct0wI2ib8GpTek+Ty0frhLRKwYXNsxnawGU2z3479olTYIbiu/iSWvGxYTQa1/NWWrXWvgY1fsvBX+ngooSobkjvPlBCNSlI7yMYx5n8TqmLc373j0+c1LCzzboRD69ORqoTZD9jf5O4y8ZN9rF/qxB1Qrq/wspi3U5zv7HYKB7HXXfNvz0tsS83yte1IbzfeON3Vr1mBOY33hS/quX14iTh5eTESUJ6p844yuRmlCOOYVWvH23dUxR58OFLL+/36MjfjXtVb2SEa2ygDVxqJG7bdEuBQRRIjzK9f87Zgx4f6XsrDVHJTjpjk2Zm67rjIiVWel/MJGvh082cdZfIGT+nPc6542MnBcr1Ih5e695U66jU2F9dR4z3o2VaCln3gRDufYpjveQdm/RDq/bvXEIYcXH6UZ0BajrHyhAnDY5kjmOvU9asqM04DvmuuyY6dCtdcdwO3agbbtj/gE5/gphJQlox8cA559WKSrpnUcA0m6ENXGbz7LdjnzgFXLoYlf5t3ziyVnycJBb7srdmkjBOZ8v5/3HcXm1mnhSk98qMo07ZRXhx7FVfjFaWhumx33VflHjHt4/pjFvZ1rghPX787GVfV+tleenFf03YtJtumHdMbl2Q7g8cx0EAg8aRljBd/p73DXp86O/ToNgFu5MG+/RmBFJ3310rSpdv/v6ObN/5gx/V2tegxt3bEvXr7UceNejxkb5Xchr7GkfSayRka/5xG7jUTOC2+ZYC/SiQHh/6u4/u1O/Rkb+7bq99O4rPLc+ThO7yljpPQpIJiwrfrd6ThHGWt2THxS712s7YH7vhxkkOPVy83js6uNRd3mJ/RZzzOo9n7UVQK0xOsIs41FWm99fHHw8Co9iPI6cnDegd8VEKW8flp+kdLvqq+96UIjSdC6eajni/aJ23d+h7y5e+XAS12p+ZUbpW4166bF9Twu91HqNfhGjpXk2XPNcJKhOiXLnIdzZDG7jM5tlvxz5xCjxw7tNOdZ13W3Ck7GuJis8JY5OG1LGrc+O4LHQcd93B4SCazmV4a7xRPd3T5HK8Se59QJfr9ti7Mw91B87p3jGXIk4C0iNrHZJQhwN/x3eO7dDUxmhyPmn48x/vnXGpbtWrLuh4xRYf7IzbyU5NgXQVyKpL1XOerrZYwXQBYhMglW13zNQFqb3M9jX99a91dVWoXeXd0bawZ3WdEimxd+6Kq3T6qtNeFhr4hB9qA5cJT0Db/eymQLdCquvo1PQoRSfxTPLkoTjj6QoQR6QOUGOf3mjdhIDNpvxo7Oo8MtYxqbGfOktXis7bnd//YQcf5UR13XSe3ttjn8Wf77uvKIqVPpddlrfQEp0x33H0dytt/0933x3OXm7FTvsOvGgKpIcTOGXLCmtVkJbM4O+69waWwTt1rOF2x1HfKfPzvs/ip1SXCRaaAvfPOavDhw6I+MsDD9SCmot0o06re4WjyACc6OeOrIhTXVcaOD4+9kHm67q8t8iYm/BMG7g0YRZaHGY1BSz3R6WklKlqpSQ4SjcRjuMUryITapk/jttrHcdJprS1Qb8uZ7nIeOMzcxmhxx+PX1X2+rc//WlGqVKdm4WLIm2vUXryUl3lYumt4pPYmJ/SIw3Ojb2qcj18rM49ys+5r1ulNmcxHU/R9xIG6UWBjiN/8s7RN5HjmXSvlGOBmwbX7blPZ17OXGSpUEWyRJCanmDl9K5J3tfTTXMrSyl+dew5ck9Pupem7lO8usfY62+rx1EO0aDqVZfMfq/9tk4fddC219ia+nkbuDR1Zlq8Zg0FGKU5iy/bUUw3fKraG3jVw0bFypDaZ9EUuGLzLTu4ZUFbhU58ZugWWarTvrs9mgDdq2x1XCCXzrmMoECmCZA68sq5qsare87vP3PORIft9LR0s7pyrlHvGxG0pPfEkO17Tzl1ouPM6zzbW5asOAleRgnc7BNKgxaBUZ2nluWNqchn2ZwnF2PSuXf9cPgT/fBLGhSY7yatMkWapGWLVjofqvB4fysbF621fkeXj+NgkziuQa8C8jmLPX3R7437/8+gn5T6Pg2M8H+Vq5elEGnQw23g0qDJaFGZvRRwu3cnuFhw8VDVLbz3/urXM7JUTdvUxyinQdvV2+5QyX0MbqgXCEWaWnESMDQF0kMZGPkqs4fZRWULL9kZ+6QvqEtpbgNz6nzaB1IVZM5Nkpm0YbjqPQbD4Opi2XTMatXvP+ucYZrKyt6u2urDnbnF3+M4TnwoZEMIVvrwd5RDZUS3HfHNUntx/nzvfSE9fVFb9us1KQHTTZ8nfn9rcOJXHLfXqz/8keC46KLgXho3w6f6UTuTPkmrF/4CasdxxzFbFXrittt7PV74c3vzXCIb2yVL7jRpEszQ5wsuHqyqVwFOgkxXmW455KtVNDv1bbSBy9RPYTuAeYEClHN6dC1jP2p5jxKF1GHiyDXJeY/zdvu3juoYpczAb/fRkfCUAbtg9bU6bWaGrsZN8HEcZV45Jemt9pxZTv2owJlLD2FwklcTNmyn40pP4jHfVdwsj6/To0mbNucuZkxl0biv+8Qng9XWImAOJTPSenptOGyiCeWP/cbQHbzA+7yVVwtOH3vilt/n/tR8urfC6XCCHb+J//y2yUFLHFAWvLzhzR284W8s1+y0W1YWK9DOA78jI8YZx5y9LrREY4OWOI4sMZFUD1gVG2WFgJ5Er5QOv//KobG7xrySwUs32vRpPBdaIrhnaBRwQqDVujh2d741TZePMr5RftsGLqNQr/1tS4EKKZA53MkqAYV17W57lS6HcERqepKWdhjBXk5ChUMYqql/ZNRmGicrJI8OEWzIdDmdLSp7r3VtmBxqsMmPnPqVOmWCl1Eux5SFTIMW5QtutW4aZEHbOzaeMUeC12FBudBVW283o71JHIE8CH/BS7q5OuPRRZbKyr4cntHt4NnDYLO3fVpKzFKe9p5T3/SgJdJEEJImE9KxkFeHR1iRMI+XbLDxjNKb9FkrL3++//7YbONfbVL/7Ud2nGvujIl8GqsxG7v7Sbp1Vxy7MrsqS6/qJFx2EEyy4uswmGFWiR67/oaMPpEGXs0//dFEcDfV+WmJ4D9XQ8uWMzo45/p9PjWDZ7LVqwoPuGgi/crg1AYuZajVPttSoGYKUH5piRNlzRm99WuHDzTYf3no4eASy3RTbPb7KchQdpcDwFuGWuDmMr9+wHmzaZfz43fpv6YGLXE89532m5lO2iJLBeUAZTJrDLkMbZrR976uze8R91FeHZl74Zrrzpgrm82V+JUB+yi6+d2GbfzURHAylON7Ux5N39vAb6N9LwfWs45ddYHrtIFDR1zSyJFNx1zk/YVvWSfcc9LJ0zbkDr6ceWMoMtb0mbOXWT7ceMDngmTUNEF2wXASvBjTZZu8Jyh9GhR4PHbtdcFeuDSp4/eCljJ6cRL0evL2O2bsaYO3pOGthx0x8PAMFyMro3SITMoDWdDy+1snMZzG9tkGLo2dmhax2UoBZ/Nf8b6n7ymISkyGTjnZDZ/+bHCev9IRxyc7UveyTd8bnGsfn42vjAVnaRqAs5mdApYsj8dxcHKv2Xn34HZipScyeJx1x2Om59vH589d4Q2N3LCcNw9zBS+xlOYrh/Y9iYmT/4+Skpm19E0PWiIN8oKXrJRm593Dw5dd3jP44ABzBPF2nO/42uSgJY7bvhubtdOT/iL+/V5dNHnD/gcEdJtmkFF2t8ulG282l3Oajv+c5VcK9rzZiN6EvUqj0twY7G3igHeX/KXjJgOXvnOzYLO7jf7TCo5ITleA4xjp5qs+tG1Q8kWP0+d3fPuY4DTAi5I9avF5ZdMC3qYHLXGe6OX00Jk4DvNKZ5HhaL+9OiXssndtPtdeJr9j1wVDLcykQBu4zKRH+1dLgcZQ4A/HHh9k3KLiK/Mqc2tjZ1Mzz/2I7GSo9HboMuP2rNKMaSonQQslYrlG+59BjP0bNmG7u0Gw1r3xN9LISV02508LOCI5veU+jsOr+z8YbqtuMrDubcic/a5MbnyWMzxtDu6DF14Ubvjk/sEpSd0ZZuO6YLU1s1IyCYppy7oX4UHOqJLQe376s+CeHwGdE9Jmg7NmjMZqzMaOBlaXp8VBLzK/qgDSjfWpfBd5L2H10CWXFemqUc/QQwLPuUpDuyoCetGA7rv920dPpf0ex0S0gcs4qNz20VJgSAqoj3WJWdEyA46OcjEGY5ohy06eMSdc+YFtCgVuFL1L7+wbmVawWdepb8MEqwykYzOrPl54XLS0/6Moj3cbe3e1dO8PGRfeVfbDYbU6aoOz/WjTLsNV0qZta7op4PRIx/wX1W0uJKYTpjHxls6UfWpWk7qPs+7WYfFvZeL2+0notNCbAm3g0ps27TctBRpDAY485X/3iSdlS82/3f5j2XK7VwZB2Zg7EqZd0ecR3OrJ/WfMyUoLnKIUN7MqLZCVsmm16ks78/AY12fKQ2TrnCKTHoUZjVvndaElwsXrbxjcyF52A+i4xlKmnyxYnXN2djrYoEylEhQlk9NwulQZGrTPthSYlykgseLod8k4ZZ3xQAZ6/ZaDvxKUzU57KWTe/M2w35/+bJhhv/f7THBHUWa///73vJ+3n3VRoA1cugjS/tlSoKVAS4GmUEB5kMDMkcE2bvrn/UMXXRzsFZhXQQDuVCFHiip5dE+CIPXeU08rfITwvEqbdlwtBVoKtBSYzRRoA5fZPPvt2FsKtBRoKdBSoKVAS4GWAi0FWgpMCQXawGVKJqpFs6VAS4GWAi0FWgq0FGgp0FKgpcBspkAbuMzm2W/H3lKgpUBLgZYCLQVaCrQUaCnQUmBKKNAGLlMyUS2aLQVaCrQUaCnQUqClQEuBlgItBWYzBdrAZTbPfjv2lgItBVoKtBRoKdBSoKVAS4GWAlNCgTZwmZKJatFsKdBSoKVAS4GWAi0FWgq0FGgpMJsp0AYus3n227G3FGgp0FKgpUBLgZYCLQVaCrQUmA0BJu4AABuLSURBVBIKtIHLlExUi2ZLgZYCLQVaCrQUaCnQUqClQEuB2UyBNnCZzbPfjr2lQEuBlgItBVoKtBRoKdBSoKXAlFCgDVymZKJaNKeTAn/729/CUUcdFU4//fSeAzj77LPDbrvtFh566KGez8Qv5syZEz74wQ9m/37zm9/Ej+fJ1wsuuCDsvPPO4f77758nx2dQ+OPggw8ORx55ZKExXnzxxeFrX/taeOqppwo9Py8+dNddd4WddtopbLnlluGQQw4pRItHHnkkfPGLXww33HBDY0hSVJaL6JDGDKpFpEMB+vwzn/lMWGONNcK73/3ucOONN3a+635TlBe6f9f+PR4K3HHHHYE9qlPv3nPPPWHHHXcMl19++XgGNcW9tIHLFE9ei3rzKfDXv/41c7C+/OUv90T2yiuvzJzRxx57rOcz8Ytbb701/PSnPw1vectbst/Ez+fF19/97ncB3R599NGBw7vlllvCRz7ykcCpnSbglH7/+98PJ598ciG0Pfv2t789PP7444Web9JDVc0Rfvj1r38d9txzz4wWTz755Ixh5vVz9913Zw4kB7EpUFSWi+iQpoypLB55czWojRNPPDELCMhOUwFun/jEJ8JGG20ULr300nDhhReGBx54oCe6/XiBs7z33nuH0047refv2y/qo4C53GGHHcLLX/7ycM0119TW0YMPPpglsfoFuLV1PmUNt4HLlE1Yi+50USB1OjhYv/3tb2c44pTVH//4x7lWWwQxf/rTn0Leb7T5vve9r2fgwggylpx4bTB8Ms4U8E033RRuvvnmuYjos6uvvrrWjNJcnfb4AK733XdfLl2MR6BnjCmg6yqrrBI4Qk2EP//5zxl94WkFyVyYF++Ntdv5Nk4Ourm+9tprM4Pp+Ri44A9z+Yc//CEbrvZkeD0P4t9egfZk8s4999zw+9//Pvs++6KG/3r11W+Oes0r9MiIlSZzizciHH/88WGDDTaYi3Z5/aSBC5pfddVVwZxUDeZIwK198xrnQ1/49rrrrptB+0GyLNPL6d1kk02yID7iawxkPK7SxvmOPFXX+GL/3a/Gh1/hkfJlfI7TftFFFwXzkELeXMXv82TGd4cddlh473vf26FtfN5rr37SZ8bxHi3e9ra3hZNOOim3uzx924sXyMY73vGOcNxxx+W21fQP8ep5552Xzb/3KeTRwfe95j797bjeWwlZaaWVwn//93+HY445JusWfnQwfr7zzjszfPE9+YuQNzZzmafXJaLoC/SJOiO24zXKFT3YHQAPY+/TtqfxfRu4TOOstThPDQUoISUt2267bbZKsvLKK4cVVlghc2AoIAb41a9+dXjzm9/ccUL6/cbAexk4ClE/Cy+8cFhnnXXCi170oqxM7Ze//GVYbbXVMjze8IY3hAUXXDB861vfymjIEdx6663Da17zmkw5yxB2G5dxEtvYdt1117DsssuGhRZaKMA34iOw8veb3vSmsMQSS4QvfOELmULnjMtIouOnPvWpzME744wzxol23744sub9da97XVh11VUzPGXVzj///CzYeuELX5hlkNNGvv71r4e11147bLrpptlvzOkVV1yRBS6rr756NpexLQ7Nbbfdlj3HmQVKogRyjKl/+ve8+TXfkaZpn1W879VXvznqNa/w+c53vpPRa80118zmHP54BOQFLr364WCg28c+9rHw+te/Piy33HLhPe95T+Z8VDFubRg7OSZLXl/5yldmcyZYeeMb35jxLr7ebLPNOs5HL1kWyO6yyy6ZrJLl+eefvxO4KD3F/1Zdl1lmmYyP8sZHtxRZxa1i/ALqPL6M84R/zSGZ/spXvjJQbvNkRpCjH/QjS0osDz300E4iBj/k9VPF+Mq0wZFVwmiOPvrRj2bzxnEH/fRtHi+Qa6Wh+CaWRh577LFjm9cy48579oc//GHGw4I4K8VW0Dnh/eiQN/eTXIVQks3u4DsJQ8EJnUs/r7XWWmH55ZfPdCrew4P9xpan1y+77LKMX5Zaaqnw0pe+NAvyUloKaJQa4oH11lsv431JqGHsfdruNL9vA5dpnr0W98ZTIBqjV73qVVmNLEeC8vn85z/fwV1Wbt11150RuFCQvX4T22TQUqAUOQ8Mp2fe+c53dgKX5z//+WH//ffPlK6ghSL0jPccCo4shbv++usHxqYJYF8Q4wA3jhzDsd9++2WGTxaaIy7b5DkO6Ste8YpsT4xnfv7znzdhCFlJ17ve9a6w1157ZVk5AYXsXTTEjLgyhM9+9rMz8DWXz3nOc8K3v/3tbFWFkxoDl+c+97mZ02b+OEhvfetbsxUZ9MgLXH70ox9ltJI5rBt69dVrjvrNq4CGUyDwBmix8cYb9w1cevXDsRdQcDS8t4olmKtqz4sMLMfSXBqTVS3zcckll4Stttoq25PD4bF6RNY576CXLHOMOEtWmTyjbU6fUhWJj7POOiv7PT1iz5uVt+7xCZYEU+MAAUUeXwo2VlxxxfCzn/0sQ0Ow/trXvjbj5V5zJfucJzNWkegrDjAn7pOf/GQ44IADsiQQevfqZxzjT/sQbHz605/OgihzQx/FREo/fZvHC+bfGBdffPGMJhIzhx9+eOa0pn028b3xGP/uu++e6ewUx1506DX3UV+mbYzrPZobB91GxtgcweOSSy4ZzjnnnEweBdHm+Utf+lJfm9pLrxsLuy3hEYNcn7EP++yzT9hwww0z+xw/8/kw9n5cNKu7nzZwqZvCbfuzmgLR6aDUAIWz3XbbZdnUSJi8wIWj0us3eQaOs8Sgx2DGM2ngYpUiOq6cDIrwiSeeCO9///vDAgsskAU8gh6Z3QMPPDCiNtFXjk0MXDgmiy22WGY44Gk1Qc2xAAb0KzmZ5CA43xw1ThcoE7jIUjLk5pJjyjk2dzb7coCB/U4xYImvsZ+44sKRYhDRT4DEQNYF/frKm6N+8yqbjgZ4GxQJXDyX149gxarjKaeckrUVAwvzUwUIEAQUHHMQ28fD5sU8RTAHVntAniwLcCQWOKzxmRi4mP8XvOAFWZvkQJbWK8cub3xoMQ7oxZc+F4DFkkalbYJwjh/Im6tBMpNXKmbPU79+xkGDtA/JFrrL/Ecw1/30bR4v+O00l4rZu8e+mHOrEWS5Hx0GzX2k5bheJfPM43e/+91Mpq3UkmX8+6EPfSjTpXQUvB3EIJHQb44FG3l63XjyAhf9SyxaZU1hGHvPfswr0AYu88pMtuNoJAUo6eh0QJDykDVW5hShV+ASN/R3/ybPwHFkOaff+973smat7MjEU3gy1pRvrI3lTKiZ5hTDTTkDxesfR8LSdBMgDVxkuTiGMtERV1nz6NTmOUBNGIMT4+Ad996oUZa1ixnEfisucVUsHYe5Szfny1wqJbr++uszxzWuuCg/UE4TM+6cYU6EbP+iiy6aZbzTdqt836uvvDnqN68ynelehoMOOigLxvE/yCsV83lePwIXAV/cnB8DC7xUBSjd4NTgSaBdq0XKTAQUNpRHsPJpXCBPlsklef3mN7+ZPYPHJRrogx/84AeZg+6EoygHxsLpqXN8Efder7340kqLla3uwCXqqby5GiQzeYGLjev9+umFd12f9wpc+unbPF6AH/0/7Xtc8K7SOXu1BK+96DBo7uuar17t0qdKPrfYYotsVV85stV9gYzDYMid8lX6PAYuvcamD4FLnl73Xb/ApfvUyWHsvQB4XoE2cJlXZrIdRyMpwBhRZDEIkfHluHIsIwwKXLp/k2fgYlaOs8dxVEKk1Ihj2ytw8RubDWVsOXaAUYnvI36Tek0DF7gyHk7qMX5A0ccafhsh7V2IR0kKCJoA6rWXXnrpwCBzZgStVorsewCjBC6cQc4q3jJnsppnnnlmFqDaG8PgClzg4AAIEDPeAsA6oF9feXPUb16POOKIzOkXcHPU1ZDbjI+/Qa/AJa+fugMXfSpfImuypLKuVi85Ph/+8IfD9ttvn2XOJQUkFDjfIE+WfSawcRS492T4v/7rvzKZxjdKok499dTO75sWuKR8aQVOaeQJJ5yQ4avELV2BzJurQTLDaVTSKsADZGhQP9mDY/wvL3DRfT99m8cLfuNzK3TKkYDxNkW/ZQj1+I9ss3Mx068EKiZxetFh0Nz36Kq2j7/61a9mq5v22lllcVwxfia/eYGLhGSvsUGybOBintl0CaeYeNQO2gpmy9r72gg15obbwGXMBG+7m10UYHQ4MZxICs++laOPPnqG4RG42IPiO1nWQb/xPcfGb9TZxvppGXUZIY6BZWzPKEvpF7hw/GWQZOGVFik9gU8TQBbVagInAHDaZK+NTzbbErqMPaDIOXqcW+Mwfp9NGhhtNd7m1gqIrJzSoVjHzDBxap1YY0xxBaCXgZPZnm+++bKsuzY5xRxlPOF4YJuf0UeAJwMtcJGts//HngeOg5U5zm4d0K+vXnPUa145o+Y7lkPhZfwg+AICl//8z//MaGtPQYS8fvBJnSsS6A8HZTFo7F4mpUvm0xxIDthIT84kMuIYeskymTaXkhzkWMAWkx/GrR3ziTYOs3D6WJ3ji7Tt9dqLLz3/4x//OJNLARf99I1vfKOj//LmCj/3k5m4WobPyRSnclA/vfCu6/NegUs/fduLF+Boxc6hKnSHst+Y+KgL/yraNVZ7Nc053lxkkUUyXjXnvegwSF9WgVfRNuAp0RSTDH5njxk5dhhMr8Cl19j8vpde951EnOTHS17ykixJF/HES3SGUl96hB9hv+Mw9j62Oe2vbeAy7TPY4j8VFGCMlZE4CWQQMGAUlRr3or+JbVpCjmUZ8bMirzLSHKyYHSvym7qfcUgAhy1mVvWHNrK0lHxe1tHY7SOJWfm6cSzaPrzivpSiv+n1nLEpTeheGUMPDnqamYttMMKcHbRDwzphUF95c9RrXvEjR3UYvszrp85xaxtfoj/HQtAVA2vjI18CjKJAZ3g+j885R+YzBkBF26zrOYGLQ0cEat18qU/4cvp64Zs3V/1khgyQc8+kMKif9NlJvh9G3/7/9s5fxaofCMDvYCGiiDZWIr6HD6BYaCUqWFgoimKhWIgIloKFlYh2amthaaOVL+Eb2PrjC4xkzy/J9Sz3nj3ZfIHdu3v/nJN8k+TOZCYT+gMeCR57KowHQgJjj2Ve9xqHluzzz6/571rb9ltnrscYoo9H2e/3fXy+10cNl14lZ70PLQGUnDy87NA2tNAwVtnZlM0PHoPIvlR4q09JYDUEUCiJdcejRpgm3hC8BmszoHcFbLrHZVf38boSkIAENFzsAxJYIQE2EbNKNVphVenFixcpfTDZW0ZR/EaT82FrL14REi+QkY+4c/agjNR38eSR2WvX3rzD1m9sjwQkMJ+Ahst8Zn5CAhKQgAQaBPBAcPYB+2k4h4CCcs8G42mGnNplCDvCe5GHCtbe28PzJSY91HsbdUT2bNAnIx7JCT59+rSNy676GoTF4YFjfweZpCKT4KornVXu169f6fwhvP+Mw4M2xNnrwaLWnHDLrDk7+ZOkK+xnq4VAlm46HQucD8P+NTjfvXv3f+GPpWuM/pyGy+g9wPZLQAIS2CIBMmexiZQ9WngN8URQ+MImpIhNpf9Spkkl8s+gRLFBlgQOPZQakx7qvo06khaa5BOkRybzX29K/FwG9HUSZBA+SGY5zpsq7T2be90l389+TLxoJP3A4IzU80vWIb9XJGVg/9i2y37nk58/f6az0/J9J5vqNh0LpLKnf3BOFck44syvTdcZ+XUNl5Glb9slIAEJbJkAX8IYLvnGaRQDVkxR4EsKEK/jkeBLm/cQchSGC59jYzvhSFFIANA624LPoDDmK6F8BmWMa5P0go2u3HeJUmIS9y3VFcWXuvPIyjdpZak79WVzNs9PmcT11vjIwXxkYaLe01Jqf01WKIh44HidvrJWYwBZcdBgLUMjfRmPYt7/+AxJKGgjxh3jJ/oB74MTbd5Pooop8zn/19KOcw2STzDO6KPIhD47rV+0K+45bfumPs3rzA0YUex7zA2XOX0n7l96pO7T+QT2MdaoA+2gMH/xfjbGk2Y+n2N4fVMfrY0FDDP2xpUMF/r59+/f/ya+yOvD/agPhTrGGCuxif7EYz6vpA939EvDpSNhWVUJSEACayaAgn7nzp0/586d+/P8+fOU/hMFjBPlSVN9/PjxFD6TtwEFnJAyVht5JHU4ygmGC5m5CKEgtTDpYEmlSwKHV69epdShEcbCGQt8gVM4dJXD7jjXhtSlcZo9qUg52JEzbkgrS+rsXAnK67TNv2tMWnVFUSN9MKnKaTupkQknKTHhnJe1FhQqsgNyDsWFCxdSyBGHaIaiNUdWGG+kPOc8J2SLkkf62LXtBSSzHKFV9EEO90Vukf4cRfjmzZupr5PWFo8MCibKPooz8qZvciYVWdpQ8lkE4Hme45BT0mNHX19C7iXDBQX51q1baQyRovzEiRPpvCHCQ/E0hfLMwbuMaYybWttbfbo2N7TGztxxXptPeB5PE7LjmvAnMxp72DjSADmQ6pn2hfFCu2t9dNNYqBku8GeuIv0/8wAJa0iXzqG0GE5k3iRcjbpx9ALGZG1c1eaVJfrRNu+h4bJNml5LAhKQwMAEOGDw+vXr6YuWEBNi0vlCpvClfvv27XS2UCBCYcP44HlWMvNwEBQaziripHlWGFHQOXmbNLiEoWEcXb58OSkSr1+/TquNeFE4R4V6UFjdRJnCy4LywaGshGRgTKH8LmG41Ji06oqCwXkOKCIofHgrwnCZMqmdxB2MD/IRZQ0lCuWO80dQ+tjjhKxb7S/JCsMFo/j06dNJcaPv0B/iHJeDbGd+bxRezvRB2aTvPX369O9ZW/RhFFCMFeTKQZoYdrQFDw19GkOMxCQYNRguGPQYfSQuwVOIwYZCv1QpGS7IB4MKI42xdfHixSTn8IrAgMIZKPRh2ldre2mc06d///5dnRvm9p3WOMe4Ks0neFQ4h4bwVs7aQp4c8MvfHIhLmR4ezRxX66OtscC1SoYLz7GAQYglhUUYzi/ifxZhvn37lhY22DeGcXjt2rUUmlubA2vzSrp4R780XDoSllWVgAQksHYCrAbypUrIV15KhgsKGF+y4RWZGi4ou3H+AwoEq4woAPxMQzu4F+85duxYWrVGsYrDK1ESUbZQDgk1QtnCeEGhWqKUmLTqioLBnhBi6CmsrKJIoeSVmCzVjv2wQu7sR3r06NHflXiu02p/SVYYO2xevnfvXroOMsToxWhdW8EwYQx8/fr1b9WoL0o8h5TSN/k5efJkykSH/Fg556R2Ch4VjAKMFbyOX758Sc/H+FjSyzQ1XJADngi8npTccMHzgAcGI4X+itcIJbvV9lqfDuOkNDfM7TubxkdpPqHf4j2i7yI3PH2PHz9OfQ45UEqGS6uP1sYC1+Ka01AxDEE8rsxVFPiy4EKfRwYvX75MHjwMF+SB0fThw4fqHFibV9LFO/ql4dKRsKyqBCQggbUTKCnp1LlkuBDLT/gLK8kU4v5R2CNUDOUv9jGgrGCsoGSgiJQMF8KQ+KJnRZRr8YNCwL1Rhg/KO1Fi0qorCgbtYMU9Lyh5NSb5+9b0d01Za7W/JCuuQxjOkydP9hgunPm0tlIzXDC0CB+LvokBgoEf/fndu3d7moLhQlYy0uNTwnDh80uVqeGCQYIHDQWZgpGF4oxnjUI4JwYL45VHxm8YmaW21/o0IZa1uWFu30kVa/wK/u/fv9/zLryDhO7hZeGe/E2IGAwoJcOl1UdrY4FrlQwXko+wr2dquNBPrl69muaCt2/fprA9WJOOvcWmNq/saXQH/2i4dCAkqygBCUigFwIlJZ2686U9DRVDMWefAsoLXhFWNlmF3mS4oAhduXIlpVeOa3N9TpMntIJzVCi8b62GS6uuNQWjpuRhzK211JS1VvsPo+GCfFAy8bRgkFBYQefvUJx7MFzCO0HYHyGc7OchBBMvC4U9FozB8+fPp4OE05ONttf6NB6X2twwt+9EHWqPtfkEjwceXPaVMFcRyofhwvspuzZcCLljLxSpxCmEnRIqxvx4//795L1j8QeDixBS9vq12NTmlXTxjn5puHQkLKsqAQlIYO0EWoYLK5dHjx5NXhVWjVEA2A9A+AwhY2wyxdPAazWFJpT0z58/pw37rIISPsUXNoUV4rNnz6awC0LF+IJHwSopw0uxrDGp1bWmYGxislR75tynZrjMlRXXaa1mz6nTrt9b8rhwT7wTbLSnf5Ksgv6J8rt2w+XIkSN/zpw5k8Yq7SClORvTUaJv3LiRlPlnz54lrMjp4cOHqY3sH4lSa3utTxPSmc8NDx48SHND7FepjZ39jvPSfMI4JMkCe1uQ0aVLl9K5VLSRguwwGGDz5s2btDjT6qOtscACC/toTp06lfY+BbePHz+m5zEGYY5Hi+vQTvoQfQ2PNUZeeOZqbGrzStyrl0cNl14kZT0lIAEJHFICxPMTUoJSQkw/q7b/UvDS8GXMY15QkjBkIttP/tra/u6prrtgN2L78bKwvwtluNdCuFSEMM1pw9y2x9xQuse2+05tPinde8nnaCceqDnz2bbZLNneTffScNlEyNclIAEJSGAnBDA6yJ7ECeOEnLA5lZVVPCQWCUhAAhKQwJSAhsuUiP9LQAISkMAiBAh5+PHjR9pUSsw8e1M0WhZB700kIAEJdElAw6VLsVlpCUhAAhKQgAQkIAEJjEVAw2UsedtaCUhAAhKQgAQkIAEJdElAw6VLsVlpCUhAAhKQgAQkIAEJjEVAw2UsedtaCUhAAhKQgAQkIAEJdElAw6VLsVlpCUhAAhKQgAQkIAEJjEVAw2UsedtaCUhAAhKQgAQkIAEJdElAw6VLsVlpCUhAAhKQgAQkIAEJjEVAw2UsedtaCUhAAhKQgAQkIAEJdElAw6VLsVlpCUhAAhKQgAQkIAEJjEVAw2UsedtaCUhAAhKQgAQkIAEJdElAw6VLsVlpCUhAAhKQgAQkIAEJjEVAw2UsedtaCUhAAhKQgAQkIAEJdElAw6VLsVlpCUhAAhKQgAQkIAEJjEVAw2UsedtaCUhAAhKQgAQkIAEJdElAw6VLsVlpCUhAAhKQgAQkIAEJjEVAw2UsedtaCUhAAhKQgAQkIAEJdElAw6VLsVlpCUhAAhKQgAQkIAEJjEVAw2UsedtaCUhAAhKQgAQkIAEJdElAw6VLsVlpCUhAAhKQgAQkIAEJjEVAw2UsedtaCUhAAhKQgAQkIAEJdElAw6VLsVlpCUhAAhKQgAQkIAEJjEVAw2UsedtaCUhAAhKQgAQkIAEJdElAw6VLsVlpCUhAAhKQgAQkIAEJjEVAw2UsedtaCUhAAhKQgAQkIAEJdElAw6VLsVlpCUhAAhKQgAQkIAEJjEVAw2UsedtaCUhAAhKQgAQkIAEJdElAw6VLsVlpCUhAAhKQgAQkIAEJjEXgP6WHsKpd6/3oAAAAAElFTkSuQmCC)"
   ]
  },
  {
   "cell_type": "markdown",
   "id": "ns_HyUCmH_cJ",
   "metadata": {
    "id": "ns_HyUCmH_cJ"
   },
   "source": [
    "## Часть 2: Что там с линвистическими моделями?"
   ]
  },
  {
   "cell_type": "markdown",
   "id": "dIDWhJLqIEEp",
   "metadata": {
    "id": "dIDWhJLqIEEp"
   },
   "source": [
    "Поработаем с моделями BERT из репозитория [DeepPavlov](https://docs.deeppavlov.ai/en/master/features/models/bert.html)\n",
    "\n",
    "Стоит зайти на https://russiansuperglue.com/ru/leaderboard/2\n",
    "\n",
    "https://russiansuperglue.com/ru/login/submit_info/176\n",
    "\n",
    "https://colab.research.google.com/github/deepmipt/dp_notebooks/blob/master/DP_tf.ipynb"
   ]
  },
  {
   "cell_type": "markdown",
   "id": "LvhyLgLBT8ia",
   "metadata": {
    "id": "LvhyLgLBT8ia"
   },
   "source": [
    "Много хороших примеров... Заставить работать которые практически невозможно.\n",
    "\n",
    "Например, прекрасный пример с сайта https://newtechaudit.ru/deeppavlov-box/ (Гончаров Петр, 2023). Ответы на вопросы на русском языке, все должно работать. Но вам придется установить все правильные версии библиотек которые конфликтуют или нигде не указаны."
   ]
  },
  {
   "cell_type": "code",
   "execution_count": null,
   "id": "O4xJfEupIEbZ",
   "metadata": {
    "colab": {
     "base_uri": "https://localhost:8080/",
     "height": 1000
    },
    "id": "O4xJfEupIEbZ",
    "outputId": "08fee31f-1bda-4a94-ff3e-985616773b44"
   },
   "outputs": [],
   "source": [
    "!pip3 install deeppavlov"
   ]
  },
  {
   "cell_type": "markdown",
   "id": "GJf-An4YajDE",
   "metadata": {
    "id": "GJf-An4YajDE"
   },
   "source": [
    "https://colab.research.google.com/github/deeppavlov/DeepPavlov/blob/master/docs/features/models/SQuAD.ipynb#scrollTo=rYWzI9lkW6e0"
   ]
  },
  {
   "cell_type": "markdown",
   "id": "Qfko2UWaZGzC",
   "metadata": {
    "id": "Qfko2UWaZGzC"
   },
   "source": [
    "### Погружаемся немного глубже сервисов"
   ]
  },
  {
   "cell_type": "code",
   "execution_count": null,
   "id": "OT9uck3GeRLn",
   "metadata": {
    "colab": {
     "base_uri": "https://localhost:8080/"
    },
    "id": "OT9uck3GeRLn",
    "outputId": "7656f1e5-0fb5-4aa4-806f-448656e02b5d"
   },
   "outputs": [],
   "source": [
    "!wget http://files.deeppavlov.ai/deeppavlov_data/bert/sentence_ru_cased_L-12_H-768_A-12_pt.tar.gz"
   ]
  },
  {
   "cell_type": "code",
   "execution_count": null,
   "id": "uWBasn-2ej4Q",
   "metadata": {
    "colab": {
     "base_uri": "https://localhost:8080/"
    },
    "id": "uWBasn-2ej4Q",
    "outputId": "7d05c587-35d7-456b-de94-757ba5d448e8"
   },
   "outputs": [],
   "source": [
    "!tar -xzvf sentence_ru_cased_L-12_H-768_A-12_pt.tar.gz"
   ]
  },
  {
   "cell_type": "code",
   "execution_count": null,
   "id": "ZG5jnYSGfa8D",
   "metadata": {
    "id": "ZG5jnYSGfa8D"
   },
   "outputs": [],
   "source": [
    "from deeppavlov.core.common.file import read_json\n",
    "from deeppavlov import build_model, configs"
   ]
  },
  {
   "cell_type": "markdown",
   "id": "qbU-3WcyhukD",
   "metadata": {
    "id": "qbU-3WcyhukD"
   },
   "source": [
    "https://docs.deeppavlov.ai/en/master/intro/configuration.html"
   ]
  },
  {
   "cell_type": "code",
   "execution_count": null,
   "id": "nwdqciIXgjSX",
   "metadata": {
    "id": "nwdqciIXgjSX"
   },
   "outputs": [],
   "source": [
    "bert_config = read_json( configs.embedder.bert_embedder )\n",
    "bert_config['metadata']['variables']['BERT_PATH'] = '/content/sentence_ru_cased_L-12_H-768_A-12_pt'\n",
    "model = build_model( bert_config )"
   ]
  },
  {
   "cell_type": "code",
   "execution_count": null,
   "id": "9x2yny-5hvrp",
   "metadata": {
    "colab": {
     "base_uri": "https://localhost:8080/"
    },
    "id": "9x2yny-5hvrp",
    "outputId": "79f7dd62-cc2c-4c1e-d02e-d902b9095521"
   },
   "outputs": [],
   "source": [
    "tokens, token_embs, subtokens, \\\n",
    "    subtoken_embs, sent_max_embs, \\\n",
    "    sent_mean_embs, bert_pooler_outputs = model(['Опубликовать новость про продукт.'])\n",
    "\n",
    "print('tokens:', tokens)\n",
    "print('token_embs:', token_embs[0].shape)\n",
    "print('subtokens:', subtokens)\n",
    "print('subtoken_embs:', subtoken_embs[0].shape)\n",
    "print('sent_max_embs:', sent_max_embs.shape)\n",
    "print('sent_mean_embs:', sent_mean_embs.shape)\n",
    "print('bert_pooler_outputs:', bert_pooler_outputs.shape)"
   ]
  },
  {
   "cell_type": "code",
   "execution_count": null,
   "id": "COrnLvSoh4eM",
   "metadata": {
    "id": "COrnLvSoh4eM"
   },
   "outputs": [],
   "source": [
    "print( sent_max_embs )"
   ]
  },
  {
   "cell_type": "code",
   "execution_count": null,
   "id": "exLGOqNKh6WL",
   "metadata": {
    "id": "exLGOqNKh6WL"
   },
   "outputs": [],
   "source": [
    "import torch\n",
    "from scipy import spatial\n",
    "import numpy as np\n",
    "import matplotlib.pyplot as plt\n",
    "from matplotlib import cm\n",
    "\n",
    "def get_sentence_embedding( sentence ):\n",
    "    bert_answer = model([sentence])\n",
    "    embedding = bert_answer[4]\n",
    "    return embedding\n"
   ]
  },
  {
   "cell_type": "code",
   "execution_count": null,
   "id": "WwOrmYGajA5C",
   "metadata": {
    "colab": {
     "base_uri": "https://localhost:8080/",
     "height": 155
    },
    "id": "WwOrmYGajA5C",
    "outputId": "549d2c2d-4e53-475c-9e16-1a2d700f2ebf"
   },
   "outputs": [],
   "source": [
    "sentence = 'Иногда бывает сложно грамотно выразить мысль, составить или закончить предложение для сочинения.'\n",
    "plt.imshow(get_sentence_embedding(sentence).reshape(12,-1), \\\n",
    "           cm.PiYG, clim=(-2, 2) ); plt.xticks(color='w'); plt.yticks(color='w');"
   ]
  },
  {
   "cell_type": "code",
   "execution_count": null,
   "id": "Ck4SK_ZhjNEb",
   "metadata": {
    "colab": {
     "base_uri": "https://localhost:8080/",
     "height": 155
    },
    "id": "Ck4SK_ZhjNEb",
    "outputId": "b354118f-9bb4-4860-b759-fd85503edf5b"
   },
   "outputs": [],
   "source": [
    "sentence = 'Порой бывает сложно грамотно выразить мысль, составить или закончить предложение для изложения.'\n",
    "plt.imshow(get_sentence_embedding(sentence).reshape(12,-1), \\\n",
    "           cm.PiYG, clim=(-2, 2) ); plt.xticks(color='w'); plt.yticks(color='w');"
   ]
  },
  {
   "cell_type": "code",
   "execution_count": null,
   "id": "ELeB6wAdkDzd",
   "metadata": {
    "colab": {
     "base_uri": "https://localhost:8080/",
     "height": 155
    },
    "id": "ELeB6wAdkDzd",
    "outputId": "9df8d3b8-51ff-422f-8cc0-43cd4cbb0dab"
   },
   "outputs": [],
   "source": [
    "sentence = 'Я рад вас приветствовать, дамы и господа.'\n",
    "plt.imshow(get_sentence_embedding(sentence).reshape(12,-1), \\\n",
    "           cm.PiYG, clim=(-2, 2) ); plt.xticks(color='w'); plt.yticks(color='w');"
   ]
  },
  {
   "cell_type": "markdown",
   "id": "4IbSiOcukewC",
   "metadata": {
    "id": "4IbSiOcukewC"
   },
   "source": [
    "### Что делать с эмбеддингами..."
   ]
  },
  {
   "cell_type": "markdown",
   "id": "ZKwvtllAkpaK",
   "metadata": {
    "id": "ZKwvtllAkpaK"
   },
   "source": [
    "А давайте поклассифицируем новости по разным категориям"
   ]
  },
  {
   "cell_type": "markdown",
   "id": "skvyq7zDxOs2",
   "metadata": {
    "id": "skvyq7zDxOs2"
   },
   "source": [
    "__Библиография:__ Тематическое моделирование с использованием эмбеддингов BERT (2022, https://habr.com/ru/articles/653443/)"
   ]
  },
  {
   "cell_type": "code",
   "execution_count": null,
   "id": "cNmgQxZxktAC",
   "metadata": {
    "colab": {
     "base_uri": "https://localhost:8080/"
    },
    "id": "cNmgQxZxktAC",
    "outputId": "696a9e4a-b5fb-42ba-c4e2-880574f9350c"
   },
   "outputs": [],
   "source": [
    "!wget https://github.com/yutkin/Lenta.Ru-News-Dataset/releases/download/v1.1/lenta-ru-news.csv.bz2"
   ]
  },
  {
   "cell_type": "code",
   "execution_count": null,
   "id": "30PhUZGdkw6b",
   "metadata": {
    "id": "30PhUZGdkw6b"
   },
   "outputs": [],
   "source": [
    "!bzip2 -d lenta-ru-news.csv.bz2"
   ]
  },
  {
   "cell_type": "code",
   "execution_count": null,
   "id": "nkVy98yulG1j",
   "metadata": {
    "colab": {
     "base_uri": "https://localhost:8080/"
    },
    "id": "nkVy98yulG1j",
    "outputId": "4efc0137-014a-4219-9ee1-0f26c8adf0c6"
   },
   "outputs": [],
   "source": [
    "import pandas as pd\n",
    "df = pd.read_csv( '/content/lenta-ru-news.csv', low_memory=False )\n",
    "df['topic'].unique()"
   ]
  },
  {
   "cell_type": "code",
   "execution_count": null,
   "id": "8YvA0uCrqBC8",
   "metadata": {
    "colab": {
     "base_uri": "https://localhost:8080/"
    },
    "id": "8YvA0uCrqBC8",
    "outputId": "38fa9634-58cd-463a-b22a-81e50cd1188d"
   },
   "outputs": [],
   "source": [
    "df[\"topic\"].value_counts()"
   ]
  },
  {
   "cell_type": "code",
   "execution_count": null,
   "id": "9JbVJgOSl5D9",
   "metadata": {
    "colab": {
     "base_uri": "https://localhost:8080/"
    },
    "id": "9JbVJgOSl5D9",
    "outputId": "9817f1aa-2d02-4e96-fd33-8b91ecb2d6cd"
   },
   "outputs": [],
   "source": [
    "df.size"
   ]
  },
  {
   "cell_type": "code",
   "execution_count": null,
   "id": "_ujX-Yb3mUSR",
   "metadata": {
    "id": "_ujX-Yb3mUSR"
   },
   "outputs": [],
   "source": [
    "df2 = pd.concat( [ df[ df['topic'] == \"Путешествия\" ].sample(500),\n",
    "                   df[ df['topic'] == \"Бизнес\" ].sample(500) ])"
   ]
  },
  {
   "cell_type": "code",
   "execution_count": null,
   "id": "4a7yCtU9mZye",
   "metadata": {
    "colab": {
     "base_uri": "https://localhost:8080/"
    },
    "id": "4a7yCtU9mZye",
    "outputId": "9f11b03f-fa63-4f11-8290-c616e7e5412d"
   },
   "outputs": [],
   "source": [
    "df2[\"topic\"].value_counts()"
   ]
  },
  {
   "cell_type": "code",
   "execution_count": null,
   "id": "GMbmQ5fYnJer",
   "metadata": {
    "colab": {
     "base_uri": "https://localhost:8080/",
     "height": 112
    },
    "id": "GMbmQ5fYnJer",
    "outputId": "b3e24f74-77b2-40f5-ae8a-ff1b99b4a197"
   },
   "outputs": [],
   "source": [
    "df2.sample(2)"
   ]
  },
  {
   "cell_type": "markdown",
   "id": "L2s4Rhp1lMh7",
   "metadata": {
    "id": "L2s4Rhp1lMh7"
   },
   "source": [
    "Додумаем для каждого объекта новый вектор для его описания."
   ]
  },
  {
   "cell_type": "code",
   "execution_count": null,
   "id": "v_NCH-FOlxS3",
   "metadata": {
    "id": "v_NCH-FOlxS3"
   },
   "outputs": [],
   "source": [
    "embeddings = np.concatenate([ np.array(get_sentence_embedding(s)) for s in df2['title'] ], axis=0 )"
   ]
  },
  {
   "cell_type": "markdown",
   "id": "MYzGmDWEorMG",
   "metadata": {
    "id": "MYzGmDWEorMG"
   },
   "source": [
    "Не будем ничего обучать, просто снизим размерность датасета. Вдруг после снижения размерности мы все еще сможем отличить несколько классов друг от друга..."
   ]
  },
  {
   "cell_type": "markdown",
   "id": "y2no-JzqA1wg",
   "metadata": {
    "id": "y2no-JzqA1wg"
   },
   "source": [
    "![image.png](data:image/png;base64,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)"
   ]
  },
  {
   "cell_type": "code",
   "execution_count": null,
   "id": "sjRZrWV_lC2u",
   "metadata": {
    "id": "sjRZrWV_lC2u"
   },
   "outputs": [],
   "source": [
    "from sklearn.decomposition import PCA\n",
    "\n",
    "pca = PCA( n_components=15, random_state=42 )\n",
    "emb_15d = pca.fit_transform( embeddings )"
   ]
  },
  {
   "cell_type": "markdown",
   "id": "9gqTxGwK_Fey",
   "metadata": {
    "id": "9gqTxGwK_Fey"
   },
   "source": [
    "Метод главных компонент находит линейную комбинацию признаков, вектор меньшей размерности, который сохраняет максимум дисперсии (вариативности) из исходного датасета."
   ]
  },
  {
   "cell_type": "markdown",
   "id": "4DcFbhZK_YAB",
   "metadata": {
    "id": "4DcFbhZK_YAB"
   },
   "source": [
    "![image.png](data:image/png;base64,iVBORw0KGgoAAAANSUhEUgAAAPMAAADJCAYAAAD2FwT0AAAgAElEQVR4Ae1dB9QURdZtEAQxk9NHRkmSRCTzARLUVUAQFRBUouDyq7uAILqga1pZUdeAiKKIgWjABKIoIKAYSYIikhVRySjT4f7ndZrpmZ7U0z3TM/PqHJjuqlevqm/1/aq6wnsCODACjEBOICDkxFPwQzACjACYzPwSMAI5ggCTOUcakh+DEWAy8zvACOQIAkzmHGlIfgxGgMnM7wAjkCMIMJlzpCH5MRgBJjO/A4xAjiCQMJlvuOEGtGrVCoWFhejYsWPK/woL26Njx6shCPegV682KCxMXacb9WId3A5270Dnzh1xxRVtIAj/QefOvaC9v+5h1aVLF5QuXRqKojj+05IwmXv37u24kFgZ584Fhg2LJcFpjIA/EGjXDvjqK+/qMmLECBw6dMhxAQmTuU+fPin91YhVw5deAq68MpYEpzECmUWgUiVg505v60Cj38OHDzsuxBdkptrPmQP06uX4OTgjI+AJApIEVKgAHDvmiXqL0pwhMz3V7NlAz56W5+MbRiBjCBw8CBQUAETodIScIjMB9sorwN/+lg7ouAxGIDoC27cDVapET/ciJefITCARofkb2ovXhXUmgsCqVUCDBolIuiuTk2QmiOgbmgnt7svC2uIj8PrrQNu28eW8kMhZMhNYr70GXHqpF7CxTkYgEoHHHwf69ImMT1dMTpOZQKR1aP6GTtfrlL/ljB8P3HJLZp8/58lM8PKkWGZfslwvffBg4P77M/+UeUFmgnnePKB798wDzjXILQToM+655/zxTHlDZoJ7wQLgssv8ATzXIr0ISM/MhDTiFih797pWcLNmwLJlrqlLWVFekZnQom9oJnTK701WKZCG34yAIJj/lEPOtzwaD163LrB+vXHnj9+8IzPBTj10167+aACuhfcIaEQ+BaJQQiW09PiTKRVavjywb19KKjzJnJdkJiRpPZC/oT15p3ynVOrUzeyVidjy1u8d1fGvv4CKFYGTJx1l9zxT3pKZkJ0/H+jRw3OMuYAMI0AnfKUBgyE2ag757Xcd1YZ64qpVHWVNW6a8JjOhvGgR0KVL2vDmgrIQgU2bgFq1/F/xvCczNdGbb/I3tP9f1czUcPlyoFGjzJSdbKlMZh2xhQv5GzrZlyfX5V98EejWLXuekskc0lbUQ3fqFBLBl75DQF61Oi11evBBYODAtBTlWiFM5jAoFy8GLrkkLJJvM46AcuSIZUZa+W6rZ3UaMwb45z89U++ZYiazDbS0bMXr0DbAZDBKGj5KJbOxViy282YIdd11wCOPZPBBUyiayRwFPOqhO3aMksjRaUdAmnCX3jMX10h9pftnDcl6Ju3hDw/q0taNwyD26gvl99/Dk31zz2SO0RTvvsvf0DHgSXuS2LiFRuQK1QBZdrX8+g2BNRvtVQbKVtb/kGhbQp1bprbX71YskzkOkjQpxt/QcUBKY7IXRKpRG/iezl/MfgryCy9FPA3tGhOFU83toMrX30TI+CGCyZxAK7z9NtC+fQKCLOIqAvLM5yFdMxDyui9c1auQucylbwPyn6hUEzhA2quUN3tfsY31+0qsWM1MI2J78QfFjQdkMieI4vvv8zd0glAlLEY9nPzJClt56e4pVgKt32Arl2yk8s23gCDgD0FAGWEZ8PM+YMcWtSyt99W+ycPt40ojR0O8ZgCUFIzMJ1vXZOWZzEkgRj10585JZGDRqAhINw03ySpe2CpCTqxaSyeYftJpzG0RMo4iWjXF90IVVBN+UkmNW0aparSTVcFjko50ZzgTkznJBnjvvcxZX0yyqr4W18hD36GnqqRVtv5gqa90899NspOs/PEnlnSnN1/2vR91hdUqkRVBgDT5XlWVvOpT0HBarF0fyg6P/cg4rXycfEzmOADZJX/wAX9D2+GSTFywJyyikdnG4Zl0x50QL24Hed6CZFRHlX37HeAicpDQtApkmtTyaK06agU8TmAyOwSYl62iAyfPmAmx6GkIlKkM5Xv7s8PyipUInFIKAaEIpJnPR1cWJUU5fATKseNRUiOjp0+32lGPNYlF3ii2bNH+kYuZ8LB1K0BzKIFAeApw5Ej63NGEl85kDkckiXtq0Natk8iQB6LKL/v14bHW4wZOPcP1pxb/73ZzCC7d92Bc/XfdBQwdGldMFfjjD+1TmpYjadNQiRJAv37BvJUrAy1aAKNGaXJ0Jt4INEkuCIDNIMMQ8fSXyZwivB9+yN/QoRAqK1epRKNtl6JQTL0OTU/kmnpNsXUHBIRTIN4+zpJFOXZMJzLNOmv6lYBokQm9Id/dkyeHxsS+pg1eZ59tlSGCUiCTuuOs1cGpp2ppNFKj61KlgKNHtbh0/89kdgHxJUt42SoURjFkx5Q0MnnL8FKPK3TCFlV/Q7+ZlePH1ThtGUkncxQ3i+SeaMaM0JrFvyYyn3NOUO7PP7XelmKI1NF2c+7ereWpUQOwG5oHNXp3xWR2CdulS4FWkSssLmnPPjXywtchr17jqOJipeo6YfVlqfETLXqkf4zTyS5Aetj+VETz5sA771iyJXRD37xE2iJFtN8zzgDojzUFo4eOpYg8PzKZYyGUJWkff8yEdqOp5JdfNclKs95KkuyoUwf4xuGOy/CeOfR5qlWLNK/bu7d1wovJHIpYll/TslWHDln+EB5VX9m5y1azNHaCRt7ip0PZ/J0qo6zfAPnJ6aBhdTKhRl1gR3JZLOoPHACKFbNEmTeffKL1zsYEF02sVahgJqsXZcsCNImWicDDbA9Qp0mxli09UJylKpVAAIEiJfWhc1HQJJYRlPUb9V74FO33tLDZJ0MQgLztR4hdL4d04/CQ2OBlmcrA4d2HgO6dITZrCWVL8gYMiKixnCTQ0L12bY3EV18dLNu4oplvGqpnIjCZPUJ95crcJ7SyZy+IqPGCOHSkTmRtt5fYs6+ZRX73fT2NZr9PQaDEmbYHGZSTJ3XSa1suxfOCVvb27wfKltNVlqK16+C2zFjryWYlcuSCyexhQ1IPTQfeczFQz2eQRl6wyPYRlYOHIE+dpu7iIlnDSoh0dX+LfOipJLHUuUG98xeacsp7S9T48CUvsh50/vmmmC4TclxRH7YHJXL3isnscdt+9JG2ycDjYtKqXlnygUka2sFFRA0Pyp9/qvEG4WnNWLs+Bfjzr3BxKJ+vUw3Ua6SnHtyqV1EUiz50uRhrfgDqN7CqEus1DsoVLWlNzPE7JnMaGvjTT3OL0MGNIdqwOSAUj0BRmjpNJZXWGxeFeE7YTFFEDkDZvFnPQ3q1NeZQMeXAAYj9BwEPT8Tc94B2USYapQcfhnTn3aFZ8+KayZymZiZj6m3apKmwNBRD371Gr2tn/lb54kszXe1t2xYmVCvpb73NfLREZRemPQ/0u9YuJfk4afT/Qbzueii/+de2V6JPxWROFCkX5GgdmjYz5EqgoW+sID/7HALlq0LsepntpFa0vGRWF1F033YbQP/cCIFqdcw/HPQHJ9sDkzlGC5K3P/L8J0bZ+rttm/07F2tv7tq1uUXoGPC5nkRmcKdOdU+t8X1unqles9Y95RnQxGSOAjrtsaUN97TrhzYC0D8j3HMPULy4Zlubtv39+99aCp32O+00zREdbQOMtt9hxYr8PG2lnDgB8YLmCBQrZRoFMDCN90unmObMiSeVXLpYocDSM8ceZySnOxPSTOYoqBcUWHfykKuSe+8FNmzQCBuajUZo1Iufdx6webOWMncu0CeGaWdah27aNFSLP6+lW26F2PxiyCHLRE5rGlzO0maqZbLHlUBo0gSgZT63A5FXGjwE9J2u7PWh9/QkH5jJHAWwcDLTHtynnwauvTaxkzgjRwJTpkRRrkd//jlAL6pfg3j9jZaeS05xGBoodY665KTNcGsnnqSJk2I+PrlSJUMBHOIjwGSOghH1mmeeCZQvrx2JowPpFGib5rJlUTLp0S+8AJRMcIlz1Srg4otj68tUqnGU0dzsMW5CSlWRpj2u/nGgnV6hhA6dDVfN4OqlkHPzn39Oqci8ysxkjtLc1asDP1htzKmSdNg9fBLm+eeDp2kmTADo5EwygQjtxx6abHAZy0/0q/y4PZnHspVVftqh6zQILUB+7gVVVhp2s3qS4bhQEuc2BALuOq2wrU8uRTKZo7RmxYr2ZDbOuxonZ/bsCZ5zfeIJ56T84gugceMolclgtPzsLEiDboKySZ8McKEu8jPPhvyR0Ex1qPoFAT8JNVBV2BYENU55dDxSfn9pUktfcVRmbTKTOUrT0Z5qMuxmF9at02a3yR5UuXIAGXijQDPfNAtOQ/PTTwdGj7bLHT1u9Wrgoouip+dKChnikz/8yGo+d/0qfClUxnnCdyqRyQyuEaT/PgqxXBVIfa6xkJYM6FtGDlEsjhh6cv2XyeyzFiZC+7GHNmBSPl0NMlAvNmwGZf+vRrTtr7Iv8oNXHHiDSUBp0r/MfB+sApoKn6lEJjO40lPPqGnGqSqDtFLf68w8ZOOa4s1v+jtiT6aZGXP0gsnsw4b96ivgggv8VzH1XHLI8UIyp2sXlI2bTMLSWi7t6BJbtFb/CGjkI2N8uhsYAC/MBrp20zXt2gk67mgEaZxmuMAgrFi+qpEEsbCrXo4+M/50kga/TE25ccFk9mk70k4xYwbdzSoqf56AdPtYSHdMgvzZ50mpJt9QRk8oGmS02XYpnt/IlDN6VO23iO5NkY4oFlN74Xv/A9w4JHo1lD17zD8MpEN67AlTmP64iJVramVdeoUZn68XTGYftzwR2u0e2kouAfJDie+PpE0WgeJnmOSK5hFCrN9El9F6XypTs6ZJBvqKQqTvYUHA8DNfwZ0PxW8AZd8+SBPvgvxBnDXB+KpyWoLJ7PPm/fproGFDdyqprPpU68VUm9ZErCIIlDgraeXyfx+FPOvFqPnIV5PxR4PsX0uDhpj3klBUzdd7JPCUy9szo1YoTxKYzFnQ0LRTzI3TVmrPan7zaueFaYulF4HKUkKMTMuvzQce0czidugKLAgaEfGi+LzUyWTOkmYnQjcKmr1yXGtlw0aIbQtBbmNUIodMNjlWmkTGeg0B+nzg4D4CTGb3MfVM47ffujfkDq0k7exSduwIjUrpWl78DuSPlkfoKKgN7LBxxBYhyBGOEGAyO4Itc5lop1izZu6VL/UfFPyeHTIiZcXGTLY66XXFVaa+CrWBgxv3AA9OAW324OA+Akxm9zH1XCMRukGYITsnhZL1zOBMs2bPK3SNN1mdyrZtIfqKqzPWR347iQo1AWXXLvXemBiTn5uVrHqWj4MAkzkOQH5NpnPV9eunVrvgJhCaDNMmxGjiymlQZNns5WnpaYtQCQXG5pfbbtWJrvmPEqvXdVoM54uCAJM5CjDZEE3LVqmetpKnz9AIWKSEKwYIyGEcypTESqEZGoXYDJcXLjKJro4GBgzOBoizqo5M5qxqrsjK0tbPVIfcytGjkMbfqdqtNktQFIj1NRvU0ugxZnQiF2+tBFpfHikp3Xs/AqUrQupzreXARKQkxzhBgMnsBDWf5dm0CahXz1mllMOHLT2mdNtYVZHYpqMerxmvV9eJEyiCjoH26pWAIIu4jgCT2XVIM6OQlq0S2fopXTMAYvEzIPXUDJSR3WhtEkzbahkodrr6AIaxO+OAgzT53rgPNnEiMGpUXDEW8AgBJrNHwGZCLfkkjjUppg5z1R1gmkE9sclFOpE130ymyVnyuPjaPEuPTe5mYoVBgzSDh7FkOM1bBJjM3uKbdu1kHZSshNoFwwsF9bbGqSfjAIQWpy9PkbFw2o65Ywfk2XPift/26AGQ3bNYQX7nXQROOwdipequmB+KVVa+pjGZc7DladnKbuunvMHwhay5PJVefEnvfekkExFcJ/O+xM3OkmWUJUtigxjpRC5oRSR2Tk5NBgEmczJoZZHs+t3A+Tbr0GT9g3pbafoM0BHGQIUCiLXqmUNqujaC/NbbEAu7QXpYOyBhxBu/dS4Cvk7A9LXy5Vchw3ntWGQq69lG+fxrRYDJbMUj6+/kuQtUrxEYOxpb9gJ1Q3wXGw+n/HHQJK86+dWuM2RyqUprxHqgs8PGbi36lSaGeFUcMhDlhA3Y0/UmQzzub6BMJVOfeDlPd8cFzIEAk9kBaH7NIq/5zCQMERBDB2Dz/sh1aOnVuaqcNrTWTO6EP5M8XjOzSzIq4etqh6qPP/wkKghrcVQ4Xd2emYzrVDoDLb/xZnhRfO8SAkxml4D0gxpp0mSTpCoBq9ZSq7VxE3B+WA9N6cY/6brrLdWXJtyl+lPWHKTrfpJfnI7fAFQUdkG1nKnnFxu3gLzqU0t+vskMAkzmzODuSanK7lB7WUUhVqkJw8fx9zuAOnWsxcqPPwH5zcWWSLKxpZGcNosUhVi7HjDmJmwoU4iqwnLg6u7mgQljwkz9w0HnGzlkFAEmc0bhd1Y4ffPSIQkKYlN9rbiR5viZTPaIl16hE1K3JtL3WkA+jC27gXrGpNgDD0C8qC3IBFBokK7qZ+ndMagXltYZhWbCpyqJyQyuvGYN5OmaIXttaUufBU/QEVxoeXztHgJMZvewTIsmcXDQnpbYoKlOWt3U7HBt+xUZ6VN7y5DlJrrHif3YvAuoe9YvJjEpnma2jUAWOylOlRcEvDz0I3QW5ujyWjnKV1+r4oaceeIqxEyQoS/Wr/LJCog9+4A8XHBIHQEmc+oYpk2Dsnu3TrSg3emAUCxoBH7gDaphemnM7bqc5s/JmMSS/jFOreuWnmNRU/hGJ6i291qa+bz5HAq5XfzvBDzc/0tcOxHA/beoFjWJvKI+EUbCyvqNEEuerZZFy13JBDKmH/xjIEC6+55ksrOsDQJMZhtQ/BpFJmdVQgm0/dIwY6vNNlO8dPPfQwhSHGLFavq97g/ZmEl+6zVsEkqgru4KhobOlD803DYFuC3E6aOy+TurO5lQYQfX0shb9GfRZ8trhs3QOdCZ71mYzFn2BojDbjYJKz/7vLrV0rAnHTizbIj/Y0F1qEZmgcTTS0Oa8m/rky58CRuFM1BH2GIOuQ2Bq64Cpk0z7rz5JV9ToT2zPNXjAr15DF9pZTL7qjlSq4xhf8sYVovNW8VWOKgftgrnoIawFPhkvirbvj2waFHsbImmSjNnQbpxGOSvv7HNIr+xGNKVfSBe2Bq0xCV26gbFxkOGbWaOjECAyRwBSfZGqD6dqte1Dl8vbB3ngY5i+w8iuvQEevYEVq6MFJfnLQSZ6E0mSNffZO15V9vb1w0/T00O6Tg4Q4DJ7Aw33+aidWPtu5oOTmi2vRKpLBk3sDsPrXq90L+ppSeeSkSVKqMNoYMO1enEll2QnpsVUl9tMs5OjuPiI8Bkjo9R9kgoit4b0gy3tvYb6jY12oOUqwDQqvXek0AN45zF8g8h9r3OJJq2/KS5lommJzRebNRcr4t+QuvJ6aHJluvQb2dpVHImiiyK8vyGyZxDL4CkGxSIteeaHleh88pT7sShl95CQStApMgxo4C+V2L78p9Q+9wD5qSYpkubORdrJG5Rk05FkctV1Un62JBpcRu8lWPHIP3rHshz59mkclSiCDCZE0UqC+TINnVoLyfWiWJcWxCwUyilHpjAxLFA925mPtVEbrn2qCls1Qmt7yKrWA30fcvBvwgwmf3bNo5qJr/zHsgmtdilBxRFjtSxeA7WCjVQR/heJaty+ln6ULq4vvmkiBq/TaiIAn3ZCr/sjdTDMb5DgMnsuybxtkJvzTmEVsIscxgtXdYT0k0jzJ6ZenblxAmg7UX4sUoH1Co4aamQsu3HuGaEjAzyq3MhDbsZZOGEg/cIMJm9x9g3JZBHmMuuBbD8NUjVa6v7oqV+AyCe1wiBM0qDdmUpu3Zb6vvjLqCWftpKLlvBJL3yxZcWufAbSd8fbgz7le9/CBfhe5cRYDK7DKjf1CnrNwDtG2By+2W4YaS1dtKESTo5te9iGqLbhV2/AAXCT9qwXNCWj8QKVe1EzTgy3EdENjawSGP+YabxhTcIMJm9wdUfWv88oRJwiDANk4TbgUYVLfUSG2qnrgzCiVdfB2XdF2oPLa/93CK788XlqCGs0AktQKwVey+1OMQ6dKftmxy8RYDJ7C2+mdW+eh56CDMxXRihkpB6ytAgv/ya3nvSwQ1tXdoYFqu9auEloeLYdkEvVKetn6Rn53ZLmt0NeccQW3eA/Mprdskc5zICTGaXAfWTuouvAhYLnUwik8uZ8KCdiS5imtrVjA3QSSZ908mI0ZYsu3crKIi3Q1TPofx6ANLjT0LZ+r1FB994gwCT2RtcM66Vtmau/U6rhnT3ZEhTI83l0iEI47vWHGoL2hKVed+lR8Sz7N4N1KwZEW2JkHXzukZPL7/9riWdb9xHgMnsPqYZ11ipErDjdwCffQjyHSWeW0E1pRteMfGCC00yq6T+W28EipZSz0obZJbnvBqeTb3fuROoUcM2SY0U+15r1X1x++jCnOIKAkxmV2D0hxIyC1a+PHBCXxo2ekXjN9zwvHSHMZutmwM6eRK0a8yQp1/l6LGoD7d3L1BQYJ8s/+8pix5pHJks4eAlAkxmL9FNo24yv1WlSrBAIi6R0WJw7+hRU0AapB1RNCyWkI9mCoooqueKxboNoHzwoSkf7YIIHa2Hlm4fi0DpSuqZ5mj5Od49BJjM7mGZMU3bt1t7SOmBhyDfMQlikxZm7yi2LbTUTyM6fR/rljXJuLbDQN/Q1as7zMzZXEOAyewalMkrol1UgTPLIHB6aSgrbKwCJKByxQqgoeZsQpUm31BEVO1fMcjLPrK13aUZuKfzxjqZ47hsjVeVn38GqsbeRxJPBaeniACTOUUAU8keJJ1GvvBv2ni6580DOnWySpFOUQgaBVCi7OqS587Xh+G6I7e/YvtftpZif0fOI7mHtscmHbFM5nSgbFOG8tvvJpnM3nH/rzaS9lGPPQb06ROZFjj/gpCeWYBy+EikEJ01vvRKvXzdOubgIbZydpHye0tUm13SDZF56Bu6WjW7XBznNQJMZq8RjqFfbN3eJJ5Yr3EMSWvS2LHAmBgGOcRrBkJs1R7kSjVakK4ZYP4xod5c+uf4aKKWeGXTZrPO6ijAZh36l194yG0BLU03TOY0AR2tGHnBQpAbViOQ2xnppuEQr78BZIHDDAFabxIxcAjw0ENmrOML1RJIlZoaoes3SViPNO1x/Y8A9ehFIRYpYZuXCM1DbltoPItkMnsGrTPFgbPLBXu+IiVVJXLvPuqWzEJhPub8y92tkcl+pyu//RasH/XoQ0ZEfVCeFIsKjScJTGZPYHWmlIwCaBNYwYMPmD1bJXIz4XMsEQqBktbDEs5KSi2XsncfpKEjVedx8TT9+isPueNh5FY6kzkFJKX7H1J9LyViATPRYgKlzjV7PpQ6A1i3DLWFj/G10Dx4YKJyjH2UiRaURrn9+3lSLB1wM5kdoiw/PcMkHfWm8v3/cajJmo0sZ0oDBgPX9wdOHkbF1sC+JpepRKb90ubM94bkNnlId0/Rev36TaCctJoCMmqg/Ppr0sbujbzxfvcfBaoaZnzjCXO6IwSYzI5gA8QreutDYn1pp11nh5rss9Gqb/kqgChp6YbbVPrDQf9UO132WSNiyReVlk+3tNm4RYSMNPleXUZAXLc2EbkTiHj/Dfx6z9Oocl4CsiziCAEmsyPYAHmpQRCNXDQr7VagiaPQfdakV9myFYHKNSCeVRby4nciiiKb2WLZyhCbtYw4HCFbZqAFdddZuAKN7CHbO6P4hwrPl8i92K+/+oeCjBrsE8qhIPFVuETUs4yOAJM5hVdBXr0G0vBRkD9cnoIWa9YNG+KfFbbmAJTde8xeVSVlhbCjTJJkSZcfeyJcRUi6foJq+08RMk4jqE6i7keaCL1/3nJUqe1UG+eLhgCTORoyGYhfsgRo3jz5guVFb6hkpO9pIg2RJzzQEpQ8cxZk/UAF7dmWrr4OZA6XgvzxCpPQ9H3tZlD3n5v7xQXg5CH8fiRy9OFmmfmoi8nsk1anFaju3Z1Xhsz8GEQmk7mxgrzsQ5O4RHzp6RmmeLLrzmbGGBfK/v0QaZtp6UqQF71uSh44wMtWJhguXDCZXQAxVRX33QcMGuRcizxvgd4z64cmjp+IqSy4lVOfvGvaMqa8l4l0DrtyZS9LyB/dTOYMt/Xo0cAdd6RWCbH6eTqZNXJKt8a2US3PX2jtme9zYX9oCo9w8CATOgX4zKxMZhOK9F/Qqaf//S96uYokq5Y/oktoKeJV/XRy6sbsX45v2lZ+bhbElu1AG1/8EKiH5vPQqbUEkzk1/BznbtcOWBA8XxGhR546zew9pSn3RaSHRqiHJgq7IlCkBMhWdbYG6qHJGCEHZwgwmZ3hllKuevWAtWujqyByqktM6sy0vlR01P5ccnQt2ZlCXmP5G9pZ2zGZneHmOBcZv/vxx9jZDTJrS036pNbBQ7Ez5VDqH3/wspWT5mQyO0HNYZ6KFQH6NkwkSOMmBIfZt9yaSJackjl0CCC8OCSOAJM5cawcS9LQsWzZ5LPTgQglRUN7yZfqnxxHjvCQO5nWYDIng5YDWRpSs8UNB8DpWXjZKnHsmMyJY5W05LpNQIMuSWfjDGEIkH3+ChXCIvk2AgEmcwQk7kS8uQJoKbwL1D4bSsdOkOa8CrHHFer+6GRLUNZ+BrHGeRAbNYOy7+dks+eEPBGaZ7ljNyWTOTY+jlKfmgn0rPedalBACjlgoC03CZBnzExYrzGzbeQNCMUSzptrgjQpxoSO3qpM5ujYOEqZNAm4+Z8A3ngGonr0T7MOoi0zGYYMwizXxyhJ+fZbdVY7dJkK5CEuTwMZLCXneBwiEWAyR2LiOGbIzcCUfwezB3tTw12MbshgxnNBoQSuAiXPMpepxJZtE8iR2yLHj/NOMbsWZjLboeIg7vLBwMzxZAZXNnOTDWz5kccgr1oNecEiSN0uhxxCZBpCJxrkhx9JyBpmovqyXY6WrXjrp7UVmcxWPBzdNe8KLAQWsekAAAZSSURBVBbamtYz5U/XxNUjXtbTHD4r5LncJpAbGPnJ6TYpHEUInDgBlCvHWBgIMJkNJBz+1m4KfDv8f7r1TM2jolgptrMl4/xxQNC2aooFkTZ0pMFDzaE1TXol04s7fJSszEZ7ariH1pqOyZzCK0z7rHfR9sz5L5q9LH0ni3VDfKza6JefmanL6xNi50Yuoqp6hBADe+++b6OJowgBWrZiQgNMZgd8UBRtRpW+24xAjtqMCS/lp/jG8Mgnsylv43ZVPO0cM53klF27jaL41waBv/5ytmXWRlXWRjGZk2w68s4QbWkk2aFwLIIqBw9CrNsAgRJnmUb3kqxq3okTofO5h2YyJ/HKb9wI1K2bRIY4olL/QaqfY3nJB3EkOTlRBGgdOl8JzWRO8C1ZuRJokrjn07haxQtbWYfRu/fEzcMCiSGQr0NuJnMC78errwIdOiQgmISI5m7mFJD/KPomlma9mERuFo2HAG2Sy7fz0EzmOG/F1KlA//5xhBwkS/8YZ+2ZqTvh4CoCtA6dT3u5mcwxXp9bbwVuvz2GgIMk8vIoNm0JsU4DiN0uh/Sve6Ac+M2BJs6SCALk8NKJYYhEdPtNhskcpUX69QOmTYuSmEJ0oFwVvUcuov4m480xhWLzOqso5seQm8ls85p36QK88opNggtR9H1sOFFT148XveGCVlYRDwHaKZbrQ24mc9hb0LAh8PHHYZEu3oqDbrJ+K7uom1XFRoB66DJlYstkcyqTOaT1yFbXDz+ERHh0KS98HXQKKtlNJh5VJ6/UynLumiBiMuuvcrVqwC+/5NV7nbcPSwsHuTjkznsyG7OdeWy8Iy9JLUm5N8ud12SmY8T5trEgL5kb5aHpwEwuWf3MWzJ/8QXQoEGUVubovEGARmS5MuTOSzIvXQpceGHevK/8oHEQyJUhd96ReeZMoHv3OK3LyXmJAA25aeidrSGvyDx5MjB0aLY2FdfbawRoHbpKFa9L8U5/3pCZSHz33d4ByZpzAwFah87Wvdx5QeaePYHpbOQyN9iWpqcgazJE7GwKOU/mNm2AN3j7cza9k76oK02KZduQO6fJXKcOsG6dL94NrkQWIkCTYdk05M5ZMhcUALt2ZeEbxFX2HQI05Kae2u8hJ8lMBt3ISTcHRsANBOjbmYbcfl+2yikyHz6cXcMiN1401pE+BPw+5M4ZMm/dCtARRg6MgJcI0JDbr4dycoLMq1cDF1zgZROybkZAQ4CG2jTk9uM3dNaTeeFCoC27LGaupRkBPw65s5rMjz0G9OmT5lbk4hgBHQFyJ+unIXfWknn8eGDMGH6vGIHMIlC1qn8InZVkHjgQeOCBzDYil84IGAj4xUhg1pG5Wzdg9mwDRv5lBPyBAA25M+2UJKvI3KIFQIYFODACfkSAhtxkUy5TIWvIXKsWsH59pmDichmBxBDI5JA7K8hM2zPZDG5iLxNLZR4BWrYiDxrpDr4mMwFCRM4EMOluCC4vtxCgIXe631vfknn//tyxmphbryk/TaIIUA+dzsMZviQzfRvXrJkoZCzHCPgXASI0+YlOR/AdmWm2mmatOTACuYIAna0/ftz7p/EVmV96CaB1ZA6MQK4hQD201zbFfEPmBx8EBgzItSbk52EEgggQob3soX1BZtpjTXutOTACuY4AzXIfO+bNU2aczHTq6dFHvXk41soI+BEB2vrpxXnojJK5XTtg0SI/ws11YgS8RYCG3G730Bkjc+PGwKpV3gLG2hkBPyNAs9xHjrhXw7SSGdC8clWrBpDNLg6MQL4jQENutw5npI3M11zTC0Rm8rRHVjQ5MAKMgIYAEdqNHjptZO7Xb6RqPTOd29v4ZWEEsgUBGq2m2smljcyXXnqnr+wlZUsjcz3zBwEy45uKgYO0kblv357qMDt/moaflBFIHgEacjvtodNG5p7kV5UDI8AIxEWgaVNnhB42bBgOpuCXSYhbM11gwoQJaN26NQoLC9GxY0f+xxjwO2DzDnTp0gGXXNIV55//KDp3bpMwRp06dUKDBg0SpaOtXMJkts3NkYwAI+AbBJjMvmkKrggjkBoCTObU8OPcjIBvEGAy+6YpuCKMQGoIMJlTw49zMwK+QYDJ7Jum4IowAqkhwGRODT/OzQj4BgEms2+agivCCKSGAJM5Nfw4NyPgGwT+H5TuGi1/rYnNAAAAAElFTkSuQmCC)"
   ]
  },
  {
   "cell_type": "code",
   "execution_count": null,
   "id": "JKYepMh1o91d",
   "metadata": {
    "id": "JKYepMh1o91d"
   },
   "outputs": [],
   "source": [
    "from sklearn.cluster import AgglomerativeClustering\n",
    "clustering = AgglomerativeClustering( n_clusters=2, distance_threshold=None,\n",
    "                                      affinity='cosine', linkage='average').fit(emb_15d)"
   ]
  },
  {
   "cell_type": "markdown",
   "id": "My7MV1zI_giT",
   "metadata": {
    "id": "My7MV1zI_giT"
   },
   "source": [
    "Мы выполнили кластеризацию 15-мерных объектов, это гораздо быстрее.\n",
    "Как мы и хотели, создалось 2 кластера (но можно наоборот, указать расстояние `0.6` и получить 50+ кластеров)."
   ]
  },
  {
   "cell_type": "markdown",
   "id": "wglf1kQRC84N",
   "metadata": {
    "id": "wglf1kQRC84N"
   },
   "source": [
    "А теперь, для отображения на графике, еще раз снизим размерность до 2 параметров."
   ]
  },
  {
   "cell_type": "code",
   "execution_count": null,
   "id": "faO8zv82oiaz",
   "metadata": {
    "id": "faO8zv82oiaz"
   },
   "outputs": [],
   "source": [
    "pca = PCA( n_components=2, random_state=42 )\n",
    "emb_2d = pd.DataFrame( pca.fit_transform(embeddings), columns=['x1', 'x2'])\n",
    "emb_2d['color'] = clustering.labels_\n",
    "emb_2d['label'] = df2[\"topic\"].to_list()"
   ]
  },
  {
   "cell_type": "code",
   "execution_count": null,
   "id": "EQ9qbmpSwsBc",
   "metadata": {
    "colab": {
     "base_uri": "https://localhost:8080/",
     "height": 617
    },
    "id": "EQ9qbmpSwsBc",
    "outputId": "ee9f4ce5-e58a-4e7c-ad67-bb689e00a584"
   },
   "outputs": [],
   "source": [
    "import plotly.express as px\n",
    "fig = px.scatter( emb_2d, x='x1', y='x2', color='color', width=800, height=600, \\\n",
    "                  color_continuous_scale=\"Bluered_r\", hover_name=\"label\" )\n",
    "fig.show()"
   ]
  },
  {
   "cell_type": "markdown",
   "id": "fatr6Aj4feEc",
   "metadata": {
    "id": "fatr6Aj4feEc"
   },
   "source": [
    "## Задание №2: Создаем свой граф слов для ImageNet\n",
    "\n",
    "Используя разработанный нами код, проиллюстрируйте разброс классов, присутствующих в ImageNet.\n",
    "\n",
    "Перечень классов (их текстовых меток) можно получить в виде списка:"
   ]
  },
  {
   "cell_type": "code",
   "execution_count": null,
   "id": "fumgNhq8gmFi",
   "metadata": {
    "id": "fumgNhq8gmFi"
   },
   "outputs": [],
   "source": [
    "IMAGENET_LABELS_list = IMAGENET_LABELS.values()\n",
    "IMAGENET_LABELS_list"
   ]
  },
  {
   "cell_type": "markdown",
   "id": "LvALA2XXgyJ9",
   "metadata": {
    "id": "LvALA2XXgyJ9"
   },
   "source": [
    "На уроке мы использовали нейросеть `sentence_ru_cased_L-12_H-768_A-12_pt`. Для задачи классификации англоязычного текста лучше скачать себе другую нейросеть, например мультиязычную http://files.deeppavlov.ai/deeppavlov_data/bert/sentence_multi_cased_L-12_H-768_A-12_pt_v1.tar.gz.\n",
    "\n",
    "Можете попробовать и другие модели из репозитория [DeepPavlov](https://docs.deeppavlov.ai/en/master/features/models/bert.html#bert-as-embedder) или из других репозиториев, если хотите очень углубиться в материал. \n",
    "\n",
    "Как вы скоро заметите, простая ручная загрузка моделей может принести довольно много неудобств, если ошибиться форматом или не разобраться с файлами в архиве. Чтобы сэкономить ваше время, мы даем код для загрузки уже в готовом виде."
   ]
  },
  {
   "cell_type": "code",
   "execution_count": null,
   "id": "12QePuBVgxEd",
   "metadata": {
    "id": "12QePuBVgxEd"
   },
   "outputs": [],
   "source": [
    "# Скачаем нейросеть (код для Colab)\n",
    "!wget http://files.deeppavlov.ai/deeppavlov_data/bert/sentence_multi_cased_L-12_H-768_A-12_pt_v1.tar.gz\n",
    "# Распаковка нейросети (аналогично)\n",
    "!tar -xzvf sentence_multi_cased_L-12_H-768_A-12_pt_v1.tar.gz\n",
    "# Один из важных файлов в архиве называется config.json, а библиотека ждет файл bert_config.json – переименуем\n",
    "!mv /content/sentence_multi_cased_L-12_H-768_A-12_pt_v1/config.json /content/sentence_multi_cased_L-12_H-768_A-12_pt_v1/bert_config.json \n",
    "\n",
    "bert_config = read_json( configs.embedder.bert_embedder )\n",
    "bert_config['metadata']['variables']['BERT_PATH'] = '/content/sentence_multi_cased_L-12_H-768_A-12_pt_v1/'\n",
    "model = build_model(bert_config)"
   ]
  },
  {
   "cell_type": "markdown",
   "id": "iKAAI3johAPj",
   "metadata": {
    "id": "iKAAI3johAPj"
   },
   "source": [
    "Создайте матрицу эмбеддингов, где будут значения для каждого названия класса.\n",
    "Поместите в переменную `embeddings_imagenet`"
   ]
  },
  {
   "cell_type": "code",
   "execution_count": null,
   "id": "227ZsIEJg__5",
   "metadata": {
    "id": "227ZsIEJg__5"
   },
   "outputs": [],
   "source": [
    "# Повторите команду для создания матрицы эмбеддингов (но теперь для списка IMAGENET_LABELS_list)\n",
    "\n"
   ]
  },
  {
   "cell_type": "markdown",
   "id": "9PoSjtu3qifp",
   "metadata": {
    "id": "9PoSjtu3qifp"
   },
   "source": [
    "Создайте еще одно разбиение `emb_2d` (полностью по аналогии с прошлыми действиями), но теперь для матрицы `embeddings_imagenet`."
   ]
  },
  {
   "cell_type": "code",
   "execution_count": null,
   "id": "6yuhOqsQiQJE",
   "metadata": {
    "id": "6yuhOqsQiQJE"
   },
   "outputs": [],
   "source": [
    "# Повторите код для снижения размерности матрицы эмбеддингов (но теперь для матрицы embeddings_imagenet)\n",
    "\n",
    "# 1. emb_15d\n",
    "\n",
    "\n",
    "# 2. clustering (попробуйте сделать побольше кластеров, например 10)\n",
    "\n",
    "\n",
    "# 3. emb_2d\n",
    "# - не забудьте закомментировать или стереть команды emb_2d['color'] и emb_2d['label'], мы зададим их отдельно\n",
    "\n",
    "\n"
   ]
  },
  {
   "cell_type": "markdown",
   "id": "PbBE98cfqYee",
   "metadata": {
    "id": "PbBE98cfqYee"
   },
   "source": [
    "## Выполнить после задания: Получится ли у нас график укрупненных групп Imagenet?"
   ]
  },
  {
   "cell_type": "markdown",
   "id": "KYWyUYdYpmZk",
   "metadata": {
    "id": "KYWyUYdYpmZk"
   },
   "source": [
    "Добавим в нашу Pandas-таблицу несколько столбцов.\n",
    "\n",
    "- **Короткое название:** _мы его быстро сконструируем из названий в списке_ `IMAGENET_LABELS`_, отрезав все что находится после первой запятой_\n",
    "- **Класс:** преобразуем отметку кластера `clustering.labels_` в строку (`.astype(str)`), чтобы получить дискретную шкалу\n",
    "\n",
    "Потом узнаем, сколько классов в нашей модели."
   ]
  },
  {
   "cell_type": "code",
   "execution_count": null,
   "id": "BZhT0FnspleN",
   "metadata": {
    "id": "BZhT0FnspleN"
   },
   "outputs": [],
   "source": [
    "emb_2d[\"short_name\"] = [ s.split(\",\")[0] for s in IMAGENET_LABELS_list ]\n",
    "emb_2d['color'] = clustering.labels_.astype(str)"
   ]
  },
  {
   "cell_type": "markdown",
   "id": "1490613e",
   "metadata": {},
   "source": [
    "Теперь посмотрим, какие объекты попали в какой кластер:"
   ]
  },
  {
   "cell_type": "code",
   "execution_count": null,
   "id": "l-qUUHdii9ev",
   "metadata": {
    "id": "l-qUUHdii9ev"
   },
   "outputs": [],
   "source": [
    "import plotly.express as px\n",
    "\n",
    "fig = px.scatter( emb_2d, x='x1', y='x2', color='color',\n",
    "                  hover_name=\"short_name\", width=800, height=600)\n",
    "\n",
    "fig.show()"
   ]
  },
  {
   "cell_type": "markdown",
   "id": "5495694e",
   "metadata": {},
   "source": [
    "## Заключение\n",
    "\n",
    "Целью этого занятия была работа с нейросетями на уровне файлов – скачивание, переименование файлов, загрузка... Для всего этого нужны библиотеки, поэтому дальнейшую работу мы будем делать при помощи инструментов более высокого уровня. Вот, например, как получить модель для английского языка при помощи двух команд.\n",
    "\n",
    "Попробуйте, результаты классификации подписей ImageNet должны стать гораздо привлекательнее!"
   ]
  },
  {
   "cell_type": "code",
   "execution_count": null,
   "id": "737e7d26",
   "metadata": {},
   "outputs": [],
   "source": [
    "from transformers import BertModel\n",
    "model = BertModel.from_pretrained(\"bert-base-cased\")"
   ]
  }
 ],
 "metadata": {
  "colab": {
   "collapsed_sections": [
    "B_nHacgFyY8n",
    "WUR9jLznyTEg"
   ],
   "provenance": [],
   "toc_visible": true
  },
  "kernelspec": {
   "display_name": "Python 3 (ipykernel)",
   "language": "python",
   "name": "python3"
  },
  "language_info": {
   "codemirror_mode": {
    "name": "ipython",
    "version": 3
   },
   "file_extension": ".py",
   "mimetype": "text/x-python",
   "name": "python",
   "nbconvert_exporter": "python",
   "pygments_lexer": "ipython3",
   "version": "3.11.5"
  }
 },
 "nbformat": 4,
 "nbformat_minor": 5
}
