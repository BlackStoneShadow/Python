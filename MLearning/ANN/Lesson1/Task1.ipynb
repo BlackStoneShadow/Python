{
  "nbformat": 4,
  "nbformat_minor": 0,
  "metadata": {
    "colab": {
      "provenance": []
    },
    "kernelspec": {
      "name": "python3",
      "display_name": "Python 3"
    },
    "language_info": {
      "name": "python"
    }
  },
  "cells": [
    {
      "cell_type": "code",
      "source": [
        "import numpy as np"
      ],
      "metadata": {
        "id": "OynMETv9Dmvf"
      },
      "execution_count": 336,
      "outputs": []
    },
    {
      "cell_type": "code",
      "execution_count": 337,
      "metadata": {
        "id": "lWo5OXwRDd3C"
      },
      "outputs": [],
      "source": [
        "def sigmoid(x):\n",
        "  # Наша функция активации: f(x) = 1 / (1 + e^(-x))\n",
        "  return 1 / (1 + np.exp(-x))"
      ]
    },
    {
      "cell_type": "code",
      "source": [
        "class Neuron:\n",
        "  def __init__(self, weights, bias):\n",
        "    self.weights = weights\n",
        "    self.bias = bias\n",
        "\n",
        "  def feedforward(self, inputs):\n",
        "    # Умножаем входы на веса, прибавляем порог, затем используем функцию активации\n",
        "    total = np.dot(self.weights, inputs) + self.bias\n",
        "    return sigmoid(total)"
      ],
      "metadata": {
        "id": "ywULOSGaDx1G"
      },
      "execution_count": 338,
      "outputs": []
    },
    {
      "cell_type": "code",
      "source": [
        "weights = np.array([0, 1]) # w1 = 0, w2 = 1\n",
        "bias = 4                   # b = 4\n",
        "n = Neuron(weights, bias)\n",
        "\n",
        "x = np.array([2, 3])       # x1 = 2, x2 = 3\n",
        "print(n.feedforward(x))    # 0.9990889488055994"
      ],
      "metadata": {
        "colab": {
          "base_uri": "https://localhost:8080/"
        },
        "id": "KwOqYXxJE9dF",
        "outputId": "ebcbd10b-6236-4940-a07f-a5cd76b98238"
      },
      "execution_count": 339,
      "outputs": [
        {
          "output_type": "stream",
          "name": "stdout",
          "text": [
            "0.9990889488055994\n"
          ]
        }
      ]
    },
    {
      "cell_type": "code",
      "source": [
        "class OurNeuralNetwork:\n",
        "  def __init__(self):\n",
        "    # Веса\n",
        "    self.w1 = np.random.normal()\n",
        "    self.w2 = np.random.normal()\n",
        "    self.w3 = np.random.normal()\n",
        "    self.w4 = np.random.normal()\n",
        "    self.w5 = np.random.normal()\n",
        "    self.w6 = np.random.normal()\n",
        "\n",
        "    # Пороги\n",
        "    self.b1 = np.random.normal()\n",
        "    self.b2 = np.random.normal()\n",
        "    self.b3 = np.random.normal()\n",
        "\n",
        "  def feedforward(self, x):\n",
        "    # x is a numpy array with 2 elements.\n",
        "    h1 = sigmoid(self.w1 * x[0] + self.w2 * x[1] + self.b1)\n",
        "    h2 = sigmoid(self.w3 * x[0] + self.w4 * x[1] + self.b2)\n",
        "    o1 = sigmoid(self.w5 * h1 + self.w6 * h2 + self.b3)\n",
        "    return o1\n",
        "\n",
        "  def train(self, data, all_y_trues):\n",
        "    '''\n",
        "    - data - массив numpy (n x 2) numpy, n = к-во наблюдений в наборе.\n",
        "    - all_y_trues - массив numpy с n элементами.\n",
        "      Элементы all_y_trues соответствуют наблюдениям в data.\n",
        "    '''\n",
        "    learn_rate = 0.1\n",
        "    epochs = 1000 # сколько раз пройти по всему набору данных\n",
        "\n",
        "    for epoch in range(epochs):\n",
        "      for x, y_true in zip(data, all_y_trues):\n",
        "        # --- Прямой проход (эти значения нам понадобятся позже)\n",
        "        sum_h1 = self.w1 * x[0] + self.w2 * x[1] + self.b1\n",
        "        h1 = sigmoid(sum_h1)\n",
        "\n",
        "        sum_h2 = self.w3 * x[0] + self.w4 * x[1] + self.b2\n",
        "        h2 = sigmoid(sum_h2)\n",
        "\n",
        "        sum_o1 = self.w5 * h1 + self.w6 * h2 + self.b3\n",
        "        o1 = sigmoid(sum_o1)\n",
        "        y_pred = o1\n",
        "\n",
        "        # --- Считаем частные производные.\n",
        "        # --- Имена: d_L_d_w1 = \"частная производная L по w1\"\n",
        "        d_L_d_ypred = -2 * (y_true - y_pred)\n",
        "\n",
        "        # Нейрон o1\n",
        "        d_ypred_d_w5 = h1 * deriv_sigmoid(sum_o1)\n",
        "        d_ypred_d_w6 = h2 * deriv_sigmoid(sum_o1)\n",
        "        d_ypred_d_b3 = deriv_sigmoid(sum_o1)\n",
        "\n",
        "        d_ypred_d_h1 = self.w5 * deriv_sigmoid(sum_o1)\n",
        "        d_ypred_d_h2 = self.w6 * deriv_sigmoid(sum_o1)\n",
        "\n",
        "        # Нейрон h1\n",
        "        d_h1_d_w1 = x[0] * deriv_sigmoid(sum_h1)\n",
        "        d_h1_d_w2 = x[1] * deriv_sigmoid(sum_h1)\n",
        "        d_h1_d_b1 = deriv_sigmoid(sum_h1)\n",
        "\n",
        "        # Нейрон h2\n",
        "        d_h2_d_w3 = x[0] * deriv_sigmoid(sum_h2)\n",
        "        d_h2_d_w4 = x[1] * deriv_sigmoid(sum_h2)\n",
        "        d_h2_d_b2 = deriv_sigmoid(sum_h2)\n",
        "\n",
        "        # --- Обновляем веса и пороги\n",
        "        # Нейрон h1\n",
        "        self.w1 -= learn_rate * d_L_d_ypred * d_ypred_d_h1 * d_h1_d_w1\n",
        "        self.w2 -= learn_rate * d_L_d_ypred * d_ypred_d_h1 * d_h1_d_w2\n",
        "        self.b1 -= learn_rate * d_L_d_ypred * d_ypred_d_h1 * d_h1_d_b1\n",
        "\n",
        "        # Нейрон h2\n",
        "        self.w3 -= learn_rate * d_L_d_ypred * d_ypred_d_h2 * d_h2_d_w3\n",
        "        self.w4 -= learn_rate * d_L_d_ypred * d_ypred_d_h2 * d_h2_d_w4\n",
        "        self.b2 -= learn_rate * d_L_d_ypred * d_ypred_d_h2 * d_h2_d_b2\n",
        "\n",
        "        # Нейрон o1\n",
        "        self.w5 -= learn_rate * d_L_d_ypred * d_ypred_d_w5\n",
        "        self.w6 -= learn_rate * d_L_d_ypred * d_ypred_d_w6\n",
        "        self.b3 -= learn_rate * d_L_d_ypred * d_ypred_d_b3\n",
        "\n",
        "      # --- Считаем полные потери в конце каждой эпохи\n",
        "      if epoch % 100 == 0:\n",
        "        y_preds = np.apply_along_axis(self.feedforward, 1, data)\n",
        "\n",
        "        loss = mse_loss(all_y_trues, y_preds)\n",
        "\n",
        "        y_preds_bin = tuple(map(lambda x: 1 if x > 0.5 else 0, y_preds))\n",
        "\n",
        "        acur = accuracy(all_y_trues, y_preds_bin)\n",
        "\n",
        "        print(\"Epoch %d loss: %.3f accuracy: %.3f\" % (epoch, loss, acur), sep=\"/t\")\n",
        "        print(f\"{all_y_trues} -> {y_preds_bin}\")\n",
        "\n",
        "  def predict(self, data):\n",
        "    '''\n",
        "    - data - массив numpy (n x 2) numpy, n = к-во наблюдений в наборе.\n",
        "    '''\n",
        "    return np.apply_along_axis(self.feedforward, 1, data)"
      ],
      "metadata": {
        "id": "3ZurGOmTFatr"
      },
      "execution_count": 340,
      "outputs": []
    },
    {
      "cell_type": "code",
      "source": [
        "from sklearn.metrics import accuracy_score\n",
        "\n",
        "def accuracy(y_true, y_pred):\n",
        "  return accuracy_score(y_true, y_pred)"
      ],
      "metadata": {
        "id": "iBLi_KYZ8oNV"
      },
      "execution_count": 341,
      "outputs": []
    },
    {
      "cell_type": "code",
      "source": [
        "def mse_loss(y_true, y_pred):\n",
        "  # y_true и y_pred - массивы numpy одинаковой длины.\n",
        "  return ((y_true - y_pred) ** 2).mean()"
      ],
      "metadata": {
        "id": "g_RcWISlGz6b"
      },
      "execution_count": 342,
      "outputs": []
    },
    {
      "cell_type": "code",
      "source": [
        "def deriv_sigmoid(x):\n",
        "  # Производная сигмоиды: f'(x) = f(x) * (1 - f(x))\n",
        "  fx = sigmoid(x)\n",
        "  return fx * (1 - fx)"
      ],
      "metadata": {
        "id": "wAWrGm6XIN3x"
      },
      "execution_count": 343,
      "outputs": []
    },
    {
      "cell_type": "code",
      "source": [
        "# Определим набор данных\n",
        "data = np.array([\n",
        "  [-2, -1],  # Алиса\n",
        "  [25, 6],   # Боб\n",
        "  [17, 4],   # Чарли\n",
        "  [-15, -6], # Диана\n",
        "])\n",
        "all_y_trues = np.array([\n",
        "  1, # Алиса\n",
        "  0, # Боб\n",
        "  0, # Чарли\n",
        "  1, # Диана\n",
        "])\n",
        "\n",
        "network = OurNeuralNetwork()\n",
        "network.train(data, all_y_trues)"
      ],
      "metadata": {
        "id": "UDp_NhE-IpWx",
        "colab": {
          "base_uri": "https://localhost:8080/"
        },
        "outputId": "8bffcc09-b5d1-4443-9440-b19ef4793c82"
      },
      "execution_count": 344,
      "outputs": [
        {
          "output_type": "stream",
          "name": "stdout",
          "text": [
            "Epoch 0 loss: 0.183 accuracy: 0.750\n",
            "[1 0 0 1] -> (0, 0, 0, 1)\n",
            "Epoch 100 loss: 0.021 accuracy: 1.000\n",
            "[1 0 0 1] -> (1, 0, 0, 1)\n",
            "Epoch 200 loss: 0.009 accuracy: 1.000\n",
            "[1 0 0 1] -> (1, 0, 0, 1)\n",
            "Epoch 300 loss: 0.006 accuracy: 1.000\n",
            "[1 0 0 1] -> (1, 0, 0, 1)\n",
            "Epoch 400 loss: 0.004 accuracy: 1.000\n",
            "[1 0 0 1] -> (1, 0, 0, 1)\n",
            "Epoch 500 loss: 0.003 accuracy: 1.000\n",
            "[1 0 0 1] -> (1, 0, 0, 1)\n",
            "Epoch 600 loss: 0.003 accuracy: 1.000\n",
            "[1 0 0 1] -> (1, 0, 0, 1)\n",
            "Epoch 700 loss: 0.002 accuracy: 1.000\n",
            "[1 0 0 1] -> (1, 0, 0, 1)\n",
            "Epoch 800 loss: 0.002 accuracy: 1.000\n",
            "[1 0 0 1] -> (1, 0, 0, 1)\n",
            "Epoch 900 loss: 0.002 accuracy: 1.000\n",
            "[1 0 0 1] -> (1, 0, 0, 1)\n"
          ]
        }
      ]
    },
    {
      "cell_type": "code",
      "source": [
        "network.predict(np.array([[30, 6], [-20, -8]]))"
      ],
      "metadata": {
        "colab": {
          "base_uri": "https://localhost:8080/"
        },
        "id": "VT2BTR9sXtVp",
        "outputId": "71397091-f7ab-406b-ad2e-7b5d59bc688d"
      },
      "execution_count": 345,
      "outputs": [
        {
          "output_type": "execute_result",
          "data": {
            "text/plain": [
              "array([0.03879208, 0.96739207])"
            ]
          },
          "metadata": {},
          "execution_count": 345
        }
      ]
    }
  ]
}