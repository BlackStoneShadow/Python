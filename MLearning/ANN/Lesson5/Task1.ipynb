{
  "nbformat": 4,
  "nbformat_minor": 0,
  "metadata": {
    "colab": {
      "provenance": []
    },
    "kernelspec": {
      "name": "python3",
      "display_name": "Python 3"
    },
    "language_info": {
      "name": "python"
    }
  },
  "cells": [
    {
      "cell_type": "code",
      "source": [
        "import re\n",
        "from google_drive_downloader import GoogleDriveDownloader as gdd"
      ],
      "metadata": {
        "id": "PH_mcB21EoxE"
      },
      "execution_count": 118,
      "outputs": []
    },
    {
      "cell_type": "code",
      "source": [
        "gdd.download_file_from_google_drive(file_id=\"1moAgo9pulaAMUCTvcqjdNAefyL-I35o0\",\n",
        "                                    dest_path=\"./train_data.txt\",\n",
        "                                    unzip=False)"
      ],
      "metadata": {
        "id": "JJfV17PP3tHM"
      },
      "execution_count": 119,
      "outputs": []
    },
    {
      "cell_type": "code",
      "execution_count": 120,
      "metadata": {
        "id": "bJQINrKnDqju"
      },
      "outputs": [],
      "source": [
        "with open('train_data.txt', 'r', encoding='utf-8') as f:\n",
        "    text = f.read()\n",
        "    text = text.replace('\\ufeff', '') # убираем первый невидимый символ\n",
        "    text = re.sub(r'[^А-я ]', '', text) # убираем все недопустимые символы"
      ]
    },
    {
      "cell_type": "code",
      "source": [
        "text"
      ],
      "metadata": {
        "colab": {
          "base_uri": "https://localhost:8080/",
          "height": 53
        },
        "id": "SubXLsi5ErEN",
        "outputId": "d6954def-0bcf-423b-d3b4-09343457ffe3"
      },
      "execution_count": 121,
      "outputs": [
        {
          "output_type": "execute_result",
          "data": {
            "text/plain": [
              "'Вы  лучший ответ на проблемы которые возникли в понедельникДумайте позитивно и верьте в свою способность достигать отличных результатовЕсли вы смогли в понедельник подняться с постели значит вы супер герой'"
            ],
            "application/vnd.google.colaboratory.intrinsic+json": {
              "type": "string"
            }
          },
          "metadata": {},
          "execution_count": 121
        }
      ]
    },
    {
      "cell_type": "code",
      "source": [
        "len(text)"
      ],
      "metadata": {
        "colab": {
          "base_uri": "https://localhost:8080/"
        },
        "id": "fyD7g4glKVps",
        "outputId": "4eff5cd3-28ab-476b-81dd-70c814ba0aeb"
      },
      "execution_count": 122,
      "outputs": [
        {
          "output_type": "execute_result",
          "data": {
            "text/plain": [
              "205"
            ]
          },
          "metadata": {},
          "execution_count": 122
        }
      ]
    },
    {
      "cell_type": "code",
      "source": [
        "num_characters = len(set(text)) #уникальные символы\n",
        "num_characters                  #len(np.unique(np.array([x for x in text])))"
      ],
      "metadata": {
        "id": "IJD76YJ4E6z0",
        "colab": {
          "base_uri": "https://localhost:8080/"
        },
        "outputId": "b0c19e06-3bb7-440f-d478-074b1ce094fa"
      },
      "execution_count": 123,
      "outputs": [
        {
          "output_type": "execute_result",
          "data": {
            "text/plain": [
              "30"
            ]
          },
          "metadata": {},
          "execution_count": 123
        }
      ]
    },
    {
      "cell_type": "code",
      "source": [
        "import keras\n",
        "from keras.preprocessing.text import Tokenizer"
      ],
      "metadata": {
        "id": "DgiJrgsiIK_x"
      },
      "execution_count": 124,
      "outputs": []
    },
    {
      "cell_type": "code",
      "source": [
        "tokenizer = Tokenizer(num_words=num_characters, char_level=True)"
      ],
      "metadata": {
        "id": "appv1wfpIJvH"
      },
      "execution_count": 125,
      "outputs": []
    },
    {
      "cell_type": "code",
      "source": [
        "tokenizer.fit_on_texts(text)"
      ],
      "metadata": {
        "id": "N1yoi7pGId-n"
      },
      "execution_count": 126,
      "outputs": []
    },
    {
      "cell_type": "code",
      "source": [
        "print(tokenizer.word_index)"
      ],
      "metadata": {
        "colab": {
          "base_uri": "https://localhost:8080/"
        },
        "id": "QJmXPaQbIf-I",
        "outputId": "83e6d3a6-aa71-410b-e050-09204a5e6c84"
      },
      "execution_count": 127,
      "outputs": [
        {
          "output_type": "stream",
          "name": "stdout",
          "text": [
            "{' ': 1, 'о': 2, 'т': 3, 'е': 4, 'и': 5, 'в': 6, 'н': 7, 'с': 8, 'л': 9, 'п': 10, 'ь': 11, 'ы': 12, 'р': 13, 'а': 14, 'д': 15, 'у': 16, 'к': 17, 'з': 18, 'ч': 19, 'й': 20, 'м': 21, 'г': 22, 'б': 23, 'я': 24, 'ш': 25, 'ю': 26, 'х': 27}\n"
          ]
        }
      ]
    },
    {
      "cell_type": "code",
      "source": [
        "inp_chars = 6 #кол-во вводимых символов\n",
        "data = tokenizer.texts_to_matrix(text)"
      ],
      "metadata": {
        "id": "1wWs_206JRu-"
      },
      "execution_count": 128,
      "outputs": []
    },
    {
      "cell_type": "code",
      "source": [
        "data[1]"
      ],
      "metadata": {
        "colab": {
          "base_uri": "https://localhost:8080/"
        },
        "id": "Yqy7uBYCJTYV",
        "outputId": "040ecd45-3025-4740-e54c-0faacea63d66"
      },
      "execution_count": 129,
      "outputs": [
        {
          "output_type": "execute_result",
          "data": {
            "text/plain": [
              "array([0., 0., 0., 0., 0., 0., 0., 0., 0., 0., 0., 0., 1., 0., 0., 0., 0.,\n",
              "       0., 0., 0., 0., 0., 0., 0., 0., 0., 0., 0., 0., 0.])"
            ]
          },
          "metadata": {},
          "execution_count": 129
        }
      ]
    },
    {
      "cell_type": "code",
      "source": [
        "n = data.shape[0]-inp_chars\n",
        "n  #размер обучающего множества"
      ],
      "metadata": {
        "colab": {
          "base_uri": "https://localhost:8080/"
        },
        "id": "HnWQb42jKAd1",
        "outputId": "de61889a-3cc1-48d2-e334-b39ee1c89b29"
      },
      "execution_count": 130,
      "outputs": [
        {
          "output_type": "execute_result",
          "data": {
            "text/plain": [
              "199"
            ]
          },
          "metadata": {},
          "execution_count": 130
        }
      ]
    },
    {
      "cell_type": "code",
      "source": [
        "import numpy as np"
      ],
      "metadata": {
        "id": "kvZ-iB9LKwgc"
      },
      "execution_count": 131,
      "outputs": []
    },
    {
      "cell_type": "code",
      "source": [
        "# генерация обучающего набора\n",
        "X = np.array([data[i:i+inp_chars, :] for i in range(n)])\n",
        "Y = data[inp_chars:] #предсказание следующего символа"
      ],
      "metadata": {
        "id": "_nG7M5RIKsfs"
      },
      "execution_count": 132,
      "outputs": []
    },
    {
      "cell_type": "code",
      "source": [
        "len(X), len(Y)"
      ],
      "metadata": {
        "colab": {
          "base_uri": "https://localhost:8080/"
        },
        "id": "z20DCMmSK3tj",
        "outputId": "545987d6-b990-4f16-bccc-d6832d4b611b"
      },
      "execution_count": 133,
      "outputs": [
        {
          "output_type": "execute_result",
          "data": {
            "text/plain": [
              "(199, 199)"
            ]
          },
          "metadata": {},
          "execution_count": 133
        }
      ]
    },
    {
      "cell_type": "code",
      "source": [
        "X[0]"
      ],
      "metadata": {
        "colab": {
          "base_uri": "https://localhost:8080/"
        },
        "id": "0NrELysIK5fL",
        "outputId": "46dbb9f0-4540-4e64-8174-4078755f41fd"
      },
      "execution_count": 134,
      "outputs": [
        {
          "output_type": "execute_result",
          "data": {
            "text/plain": [
              "array([[0., 0., 0., 0., 0., 0., 1., 0., 0., 0., 0., 0., 0., 0., 0., 0.,\n",
              "        0., 0., 0., 0., 0., 0., 0., 0., 0., 0., 0., 0., 0., 0.],\n",
              "       [0., 0., 0., 0., 0., 0., 0., 0., 0., 0., 0., 0., 1., 0., 0., 0.,\n",
              "        0., 0., 0., 0., 0., 0., 0., 0., 0., 0., 0., 0., 0., 0.],\n",
              "       [0., 1., 0., 0., 0., 0., 0., 0., 0., 0., 0., 0., 0., 0., 0., 0.,\n",
              "        0., 0., 0., 0., 0., 0., 0., 0., 0., 0., 0., 0., 0., 0.],\n",
              "       [0., 1., 0., 0., 0., 0., 0., 0., 0., 0., 0., 0., 0., 0., 0., 0.,\n",
              "        0., 0., 0., 0., 0., 0., 0., 0., 0., 0., 0., 0., 0., 0.],\n",
              "       [0., 0., 0., 0., 0., 0., 0., 0., 0., 1., 0., 0., 0., 0., 0., 0.,\n",
              "        0., 0., 0., 0., 0., 0., 0., 0., 0., 0., 0., 0., 0., 0.],\n",
              "       [0., 0., 0., 0., 0., 0., 0., 0., 0., 0., 0., 0., 0., 0., 0., 0.,\n",
              "        1., 0., 0., 0., 0., 0., 0., 0., 0., 0., 0., 0., 0., 0.]])"
            ]
          },
          "metadata": {},
          "execution_count": 134
        }
      ]
    },
    {
      "cell_type": "code",
      "source": [
        "Y[0]"
      ],
      "metadata": {
        "colab": {
          "base_uri": "https://localhost:8080/"
        },
        "id": "XbsyrcEGK7G7",
        "outputId": "b328fa9d-7991-4879-8ece-17bd8a65f314"
      },
      "execution_count": 135,
      "outputs": [
        {
          "output_type": "execute_result",
          "data": {
            "text/plain": [
              "array([0., 0., 0., 0., 0., 0., 0., 0., 0., 0., 0., 0., 0., 0., 0., 0., 0.,\n",
              "       0., 0., 1., 0., 0., 0., 0., 0., 0., 0., 0., 0., 0.])"
            ]
          },
          "metadata": {},
          "execution_count": 135
        }
      ]
    },
    {
      "cell_type": "code",
      "source": [
        "from keras.layers import *\n",
        "from keras.models import Sequential"
      ],
      "metadata": {
        "id": "lIP7yhRzLZsr"
      },
      "execution_count": 136,
      "outputs": []
    },
    {
      "cell_type": "code",
      "source": [
        "model = Sequential()\n",
        "model.add(Input((inp_chars, num_characters)))\n",
        "model.add(SimpleRNN(500, activation='tanh'))\n",
        "model.add(Dense(num_characters, activation='softmax'))\n",
        "model.summary()"
      ],
      "metadata": {
        "colab": {
          "base_uri": "https://localhost:8080/"
        },
        "id": "gwyYcqGiLXPE",
        "outputId": "e4c3e4a7-22a2-4056-be40-4381030340f2"
      },
      "execution_count": 137,
      "outputs": [
        {
          "output_type": "stream",
          "name": "stdout",
          "text": [
            "Model: \"sequential_6\"\n",
            "_________________________________________________________________\n",
            " Layer (type)                Output Shape              Param #   \n",
            "=================================================================\n",
            " simple_rnn_6 (SimpleRNN)    (None, 500)               265500    \n",
            "                                                                 \n",
            " dense_6 (Dense)             (None, 30)                15030     \n",
            "                                                                 \n",
            "=================================================================\n",
            "Total params: 280530 (1.07 MB)\n",
            "Trainable params: 280530 (1.07 MB)\n",
            "Non-trainable params: 0 (0.00 Byte)\n",
            "_________________________________________________________________\n"
          ]
        }
      ]
    },
    {
      "cell_type": "code",
      "source": [
        "model.compile(loss='categorical_crossentropy', metrics=['accuracy'], optimizer='adam')\n",
        "history = model.fit(X, Y, batch_size=32, epochs=100)"
      ],
      "metadata": {
        "colab": {
          "base_uri": "https://localhost:8080/"
        },
        "id": "Y3-y2cQiMGLK",
        "outputId": "17edafa8-e39a-4450-cba0-a659386bc217"
      },
      "execution_count": 138,
      "outputs": [
        {
          "output_type": "stream",
          "name": "stdout",
          "text": [
            "Epoch 1/100\n",
            "7/7 [==============================] - 1s 14ms/step - loss: 3.2944 - accuracy: 0.1407\n",
            "Epoch 2/100\n",
            "7/7 [==============================] - 0s 13ms/step - loss: 2.3142 - accuracy: 0.3116\n",
            "Epoch 3/100\n",
            "7/7 [==============================] - 0s 14ms/step - loss: 1.8327 - accuracy: 0.4925\n",
            "Epoch 4/100\n",
            "7/7 [==============================] - 0s 14ms/step - loss: 1.4320 - accuracy: 0.5829\n",
            "Epoch 5/100\n",
            "7/7 [==============================] - 0s 14ms/step - loss: 1.1957 - accuracy: 0.6332\n",
            "Epoch 6/100\n",
            "7/7 [==============================] - 0s 14ms/step - loss: 1.0009 - accuracy: 0.6985\n",
            "Epoch 7/100\n",
            "7/7 [==============================] - 0s 14ms/step - loss: 0.8219 - accuracy: 0.8040\n",
            "Epoch 8/100\n",
            "7/7 [==============================] - 0s 13ms/step - loss: 0.7381 - accuracy: 0.8291\n",
            "Epoch 9/100\n",
            "7/7 [==============================] - 0s 16ms/step - loss: 0.5832 - accuracy: 0.9045\n",
            "Epoch 10/100\n",
            "7/7 [==============================] - 0s 14ms/step - loss: 0.6191 - accuracy: 0.8342\n",
            "Epoch 11/100\n",
            "7/7 [==============================] - 0s 13ms/step - loss: 0.5387 - accuracy: 0.8995\n",
            "Epoch 12/100\n",
            "7/7 [==============================] - 0s 13ms/step - loss: 0.4816 - accuracy: 0.9196\n",
            "Epoch 13/100\n",
            "7/7 [==============================] - 0s 13ms/step - loss: 0.4443 - accuracy: 0.8844\n",
            "Epoch 14/100\n",
            "7/7 [==============================] - 0s 15ms/step - loss: 0.5348 - accuracy: 0.8693\n",
            "Epoch 15/100\n",
            "7/7 [==============================] - 0s 14ms/step - loss: 0.3889 - accuracy: 0.9246\n",
            "Epoch 16/100\n",
            "7/7 [==============================] - 0s 14ms/step - loss: 0.3401 - accuracy: 0.9296\n",
            "Epoch 17/100\n",
            "7/7 [==============================] - 0s 14ms/step - loss: 0.2976 - accuracy: 0.9447\n",
            "Epoch 18/100\n",
            "7/7 [==============================] - 0s 27ms/step - loss: 0.2576 - accuracy: 0.9397\n",
            "Epoch 19/100\n",
            "7/7 [==============================] - 0s 23ms/step - loss: 0.2151 - accuracy: 0.9799\n",
            "Epoch 20/100\n",
            "7/7 [==============================] - 0s 16ms/step - loss: 0.2009 - accuracy: 0.9598\n",
            "Epoch 21/100\n",
            "7/7 [==============================] - 0s 13ms/step - loss: 0.1796 - accuracy: 0.9749\n",
            "Epoch 22/100\n",
            "7/7 [==============================] - 0s 13ms/step - loss: 0.1886 - accuracy: 0.9749\n",
            "Epoch 23/100\n",
            "7/7 [==============================] - 0s 15ms/step - loss: 0.1597 - accuracy: 0.9648\n",
            "Epoch 24/100\n",
            "7/7 [==============================] - 0s 14ms/step - loss: 0.1440 - accuracy: 0.9698\n",
            "Epoch 25/100\n",
            "7/7 [==============================] - 0s 14ms/step - loss: 0.1371 - accuracy: 0.9799\n",
            "Epoch 26/100\n",
            "7/7 [==============================] - 0s 14ms/step - loss: 0.1274 - accuracy: 0.9698\n",
            "Epoch 27/100\n",
            "7/7 [==============================] - 0s 14ms/step - loss: 0.1599 - accuracy: 0.9648\n",
            "Epoch 28/100\n",
            "7/7 [==============================] - 0s 14ms/step - loss: 0.1895 - accuracy: 0.9598\n",
            "Epoch 29/100\n",
            "7/7 [==============================] - 0s 14ms/step - loss: 0.2062 - accuracy: 0.9598\n",
            "Epoch 30/100\n",
            "7/7 [==============================] - 0s 14ms/step - loss: 0.2827 - accuracy: 0.9648\n",
            "Epoch 31/100\n",
            "7/7 [==============================] - 0s 14ms/step - loss: 0.2668 - accuracy: 0.9548\n",
            "Epoch 32/100\n",
            "7/7 [==============================] - 0s 17ms/step - loss: 0.2368 - accuracy: 0.9497\n",
            "Epoch 33/100\n",
            "7/7 [==============================] - 0s 16ms/step - loss: 0.1575 - accuracy: 0.9648\n",
            "Epoch 34/100\n",
            "7/7 [==============================] - 0s 14ms/step - loss: 0.1480 - accuracy: 0.9648\n",
            "Epoch 35/100\n",
            "7/7 [==============================] - 0s 14ms/step - loss: 0.1297 - accuracy: 0.9648\n",
            "Epoch 36/100\n",
            "7/7 [==============================] - 0s 14ms/step - loss: 0.1414 - accuracy: 0.9648\n",
            "Epoch 37/100\n",
            "7/7 [==============================] - 0s 14ms/step - loss: 0.1213 - accuracy: 0.9749\n",
            "Epoch 38/100\n",
            "7/7 [==============================] - 0s 13ms/step - loss: 0.0890 - accuracy: 0.9849\n",
            "Epoch 39/100\n",
            "7/7 [==============================] - 0s 13ms/step - loss: 0.0708 - accuracy: 0.9849\n",
            "Epoch 40/100\n",
            "7/7 [==============================] - 0s 13ms/step - loss: 0.0607 - accuracy: 0.9849\n",
            "Epoch 41/100\n",
            "7/7 [==============================] - 0s 14ms/step - loss: 0.0787 - accuracy: 0.9749\n",
            "Epoch 42/100\n",
            "7/7 [==============================] - 0s 17ms/step - loss: 0.1886 - accuracy: 0.9799\n",
            "Epoch 43/100\n",
            "7/7 [==============================] - 0s 14ms/step - loss: 0.3015 - accuracy: 0.9246\n",
            "Epoch 44/100\n",
            "7/7 [==============================] - 0s 14ms/step - loss: 0.2598 - accuracy: 0.9548\n",
            "Epoch 45/100\n",
            "7/7 [==============================] - 0s 14ms/step - loss: 0.4394 - accuracy: 0.8945\n",
            "Epoch 46/100\n",
            "7/7 [==============================] - 0s 13ms/step - loss: 0.4787 - accuracy: 0.8593\n",
            "Epoch 47/100\n",
            "7/7 [==============================] - 0s 13ms/step - loss: 0.4059 - accuracy: 0.8894\n",
            "Epoch 48/100\n",
            "7/7 [==============================] - 0s 13ms/step - loss: 0.2362 - accuracy: 0.9397\n",
            "Epoch 49/100\n",
            "7/7 [==============================] - 0s 14ms/step - loss: 0.1985 - accuracy: 0.9598\n",
            "Epoch 50/100\n",
            "7/7 [==============================] - 0s 14ms/step - loss: 0.1468 - accuracy: 0.9648\n",
            "Epoch 51/100\n",
            "7/7 [==============================] - 0s 14ms/step - loss: 0.1216 - accuracy: 0.9749\n",
            "Epoch 52/100\n",
            "7/7 [==============================] - 0s 19ms/step - loss: 0.1409 - accuracy: 0.9749\n",
            "Epoch 53/100\n",
            "7/7 [==============================] - 0s 22ms/step - loss: 0.1456 - accuracy: 0.9749\n",
            "Epoch 54/100\n",
            "7/7 [==============================] - 0s 21ms/step - loss: 0.0919 - accuracy: 0.9749\n",
            "Epoch 55/100\n",
            "7/7 [==============================] - 0s 23ms/step - loss: 0.0773 - accuracy: 0.9849\n",
            "Epoch 56/100\n",
            "7/7 [==============================] - 0s 34ms/step - loss: 0.0513 - accuracy: 0.9899\n",
            "Epoch 57/100\n",
            "7/7 [==============================] - 0s 37ms/step - loss: 0.1530 - accuracy: 0.9698\n",
            "Epoch 58/100\n",
            "7/7 [==============================] - 0s 40ms/step - loss: 0.0518 - accuracy: 0.9849\n",
            "Epoch 59/100\n",
            "7/7 [==============================] - 0s 28ms/step - loss: 0.0599 - accuracy: 0.9849\n",
            "Epoch 60/100\n",
            "7/7 [==============================] - 0s 31ms/step - loss: 0.0375 - accuracy: 0.9950\n",
            "Epoch 61/100\n",
            "7/7 [==============================] - 0s 30ms/step - loss: 0.0611 - accuracy: 0.9899\n",
            "Epoch 62/100\n",
            "7/7 [==============================] - 0s 38ms/step - loss: 0.0425 - accuracy: 0.9899\n",
            "Epoch 63/100\n",
            "7/7 [==============================] - 0s 32ms/step - loss: 0.0381 - accuracy: 0.9950\n",
            "Epoch 64/100\n",
            "7/7 [==============================] - 0s 38ms/step - loss: 0.0314 - accuracy: 0.9950\n",
            "Epoch 65/100\n",
            "7/7 [==============================] - 0s 42ms/step - loss: 0.0341 - accuracy: 0.9950\n",
            "Epoch 66/100\n",
            "7/7 [==============================] - 0s 32ms/step - loss: 0.0309 - accuracy: 0.9899\n",
            "Epoch 67/100\n",
            "7/7 [==============================] - 0s 24ms/step - loss: 0.0302 - accuracy: 0.9950\n",
            "Epoch 68/100\n",
            "7/7 [==============================] - 0s 24ms/step - loss: 0.0404 - accuracy: 0.9849\n",
            "Epoch 69/100\n",
            "7/7 [==============================] - 0s 27ms/step - loss: 0.0814 - accuracy: 0.9899\n",
            "Epoch 70/100\n",
            "7/7 [==============================] - 0s 25ms/step - loss: 0.0636 - accuracy: 0.9950\n",
            "Epoch 71/100\n",
            "7/7 [==============================] - 0s 26ms/step - loss: 0.0552 - accuracy: 0.9899\n",
            "Epoch 72/100\n",
            "7/7 [==============================] - 0s 24ms/step - loss: 0.0389 - accuracy: 0.9899\n",
            "Epoch 73/100\n",
            "7/7 [==============================] - 0s 28ms/step - loss: 0.0303 - accuracy: 0.9899\n",
            "Epoch 74/100\n",
            "7/7 [==============================] - 0s 28ms/step - loss: 0.0323 - accuracy: 0.9899\n",
            "Epoch 75/100\n",
            "7/7 [==============================] - 0s 25ms/step - loss: 0.0250 - accuracy: 0.9950\n",
            "Epoch 76/100\n",
            "7/7 [==============================] - 0s 23ms/step - loss: 0.0242 - accuracy: 0.9950\n",
            "Epoch 77/100\n",
            "7/7 [==============================] - 0s 30ms/step - loss: 0.0374 - accuracy: 0.9950\n",
            "Epoch 78/100\n",
            "7/7 [==============================] - 0s 25ms/step - loss: 0.0414 - accuracy: 0.9950\n",
            "Epoch 79/100\n",
            "7/7 [==============================] - 0s 29ms/step - loss: 0.0233 - accuracy: 0.9950\n",
            "Epoch 80/100\n",
            "7/7 [==============================] - 0s 28ms/step - loss: 0.0400 - accuracy: 0.9950\n",
            "Epoch 81/100\n",
            "7/7 [==============================] - 0s 27ms/step - loss: 0.0345 - accuracy: 0.9950\n",
            "Epoch 82/100\n",
            "7/7 [==============================] - 0s 24ms/step - loss: 0.0313 - accuracy: 0.9899\n",
            "Epoch 83/100\n",
            "7/7 [==============================] - 0s 22ms/step - loss: 0.0250 - accuracy: 0.9899\n",
            "Epoch 84/100\n",
            "7/7 [==============================] - 0s 26ms/step - loss: 0.0242 - accuracy: 0.9899\n",
            "Epoch 85/100\n",
            "7/7 [==============================] - 0s 30ms/step - loss: 0.0204 - accuracy: 0.9950\n",
            "Epoch 86/100\n",
            "7/7 [==============================] - 0s 26ms/step - loss: 0.0200 - accuracy: 0.9950\n",
            "Epoch 87/100\n",
            "7/7 [==============================] - 0s 28ms/step - loss: 0.0186 - accuracy: 0.9950\n",
            "Epoch 88/100\n",
            "7/7 [==============================] - 0s 29ms/step - loss: 0.0184 - accuracy: 0.9950\n",
            "Epoch 89/100\n",
            "7/7 [==============================] - 0s 41ms/step - loss: 0.0177 - accuracy: 0.9899\n",
            "Epoch 90/100\n",
            "7/7 [==============================] - 0s 27ms/step - loss: 0.0185 - accuracy: 0.9950\n",
            "Epoch 91/100\n",
            "7/7 [==============================] - 0s 32ms/step - loss: 0.0202 - accuracy: 0.9899\n",
            "Epoch 92/100\n",
            "7/7 [==============================] - 0s 30ms/step - loss: 0.0694 - accuracy: 0.9899\n",
            "Epoch 93/100\n",
            "7/7 [==============================] - 0s 26ms/step - loss: 0.0774 - accuracy: 0.9849\n",
            "Epoch 94/100\n",
            "7/7 [==============================] - 0s 32ms/step - loss: 0.0473 - accuracy: 0.9849\n",
            "Epoch 95/100\n",
            "7/7 [==============================] - 0s 26ms/step - loss: 0.0274 - accuracy: 0.9849\n",
            "Epoch 96/100\n",
            "7/7 [==============================] - 0s 33ms/step - loss: 0.0247 - accuracy: 0.9899\n",
            "Epoch 97/100\n",
            "7/7 [==============================] - 0s 33ms/step - loss: 0.0203 - accuracy: 0.9899\n",
            "Epoch 98/100\n",
            "7/7 [==============================] - 0s 33ms/step - loss: 0.0192 - accuracy: 0.9950\n",
            "Epoch 99/100\n",
            "7/7 [==============================] - 0s 23ms/step - loss: 0.0165 - accuracy: 0.9950\n",
            "Epoch 100/100\n",
            "7/7 [==============================] - 0s 30ms/step - loss: 0.0190 - accuracy: 0.9950\n"
          ]
        }
      ]
    },
    {
      "cell_type": "code",
      "source": [
        "def buildPhrase(inp_str, str_len = 1):\n",
        "  _inp_chars = inp_chars if len(inp_str) > inp_chars else len(inp_str)\n",
        "\n",
        "  for i in range(str_len):\n",
        "    x = []\n",
        "    for j in range(len(inp_str) - _inp_chars, len(inp_str)):\n",
        "      x.append(tokenizer.texts_to_matrix(inp_str[j])) # преобразуем символы в One-Hot-encoding\n",
        "\n",
        "    x = np.array(x)\n",
        "\n",
        "    inp = x.reshape(1, inp_chars, num_characters)\n",
        "\n",
        "    pred = model.predict( inp, verbose = \"None\" ) # предсказываем OHE седьмого символа\n",
        "    char = tokenizer.index_word[pred.argmax(axis=1)[0]] # получаем ответ в символьном представлении\n",
        "\n",
        "    inp_str += char # дописываем строку\n",
        "\n",
        "  return inp_str"
      ],
      "metadata": {
        "id": "s0_LNL2pMiku"
      },
      "execution_count": 139,
      "outputs": []
    },
    {
      "cell_type": "code",
      "source": [
        "print(buildPhrase(\"позитивн\", 10))\n",
        "print(buildPhrase(\"способ\", 50))\n",
        "print(buildPhrase(\"проблемы\", 76))"
      ],
      "metadata": {
        "colab": {
          "base_uri": "https://localhost:8080/"
        },
        "id": "7-vxdO-dMijp",
        "outputId": "012c59ad-cdfb-4e31-ccbd-a13dc42a8d3a"
      },
      "execution_count": 140,
      "outputs": [
        {
          "output_type": "stream",
          "name": "stdout",
          "text": [
            "позитивно и верьте\n",
            "способность достигать отличных результатовесли вы смпгли\n",
            "проблемы которые возникли в понедельникдумайте позитивно и верьте в свою способность\n"
          ]
        }
      ]
    },
    {
      "cell_type": "markdown",
      "source": [
        "# Слова\n"
      ],
      "metadata": {
        "id": "5Lp6XvkoOYyH"
      }
    },
    {
      "cell_type": "code",
      "source": [
        "with open('train_data.txt', 'r', encoding='utf-8') as f:\n",
        "    texts = f.read()\n",
        "    texts = texts.replace('\\ufeff', '') # убираем первый невидимый символ"
      ],
      "metadata": {
        "id": "_-Wq8QJ2PDM2"
      },
      "execution_count": 141,
      "outputs": []
    },
    {
      "cell_type": "code",
      "source": [
        "maxWordsCount = 1000\n",
        "tokenizer = Tokenizer(num_words=maxWordsCount, filters='!–\"—#$%&amp;()*+,-./:;<=>?@[\\\\]^_`{|}~\\t\\n\\r«»',\n",
        "                       lower=True, split=' ', char_level=False)\n",
        "tokenizer.fit_on_texts([texts])"
      ],
      "metadata": {
        "id": "revghpcNPQSd"
      },
      "execution_count": 142,
      "outputs": []
    },
    {
      "cell_type": "code",
      "source": [
        "dist = list(tokenizer.word_counts.items())\n",
        "print(dist[:10])"
      ],
      "metadata": {
        "colab": {
          "base_uri": "https://localhost:8080/"
        },
        "id": "HPga89Z4PVFe",
        "outputId": "a3f91e1f-3b09-49cc-f134-1052c81b61dd"
      },
      "execution_count": 143,
      "outputs": [
        {
          "output_type": "stream",
          "name": "stdout",
          "text": [
            "[('вы', 3), ('лучший', 1), ('ответ', 1), ('на', 1), ('проблемы', 1), ('которые', 1), ('возникли', 1), ('в', 3), ('понедельник', 2), ('думайте', 1)]\n"
          ]
        }
      ]
    },
    {
      "cell_type": "code",
      "source": [
        "data = tokenizer.texts_to_sequences([texts])"
      ],
      "metadata": {
        "id": "7mpCwwYQP5hV"
      },
      "execution_count": 144,
      "outputs": []
    },
    {
      "cell_type": "code",
      "source": [
        "data"
      ],
      "metadata": {
        "colab": {
          "base_uri": "https://localhost:8080/"
        },
        "id": "tPDrhzF4P7Lk",
        "outputId": "ee4d320d-983a-4041-a999-d5e8f0cee141"
      },
      "execution_count": 145,
      "outputs": [
        {
          "output_type": "execute_result",
          "data": {
            "text/plain": [
              "[[1,\n",
              "  4,\n",
              "  5,\n",
              "  6,\n",
              "  7,\n",
              "  8,\n",
              "  9,\n",
              "  2,\n",
              "  3,\n",
              "  10,\n",
              "  11,\n",
              "  12,\n",
              "  13,\n",
              "  2,\n",
              "  14,\n",
              "  15,\n",
              "  16,\n",
              "  17,\n",
              "  18,\n",
              "  19,\n",
              "  1,\n",
              "  20,\n",
              "  2,\n",
              "  3,\n",
              "  21,\n",
              "  22,\n",
              "  23,\n",
              "  24,\n",
              "  1,\n",
              "  25,\n",
              "  26]]"
            ]
          },
          "metadata": {},
          "execution_count": 145
        }
      ]
    },
    {
      "cell_type": "code",
      "source": [
        "len(data[0])"
      ],
      "metadata": {
        "colab": {
          "base_uri": "https://localhost:8080/"
        },
        "id": "fA6DuYkoQS8N",
        "outputId": "8bceb535-adcc-4c83-f3ab-804031f820b5"
      },
      "execution_count": 146,
      "outputs": [
        {
          "output_type": "execute_result",
          "data": {
            "text/plain": [
              "31"
            ]
          },
          "metadata": {},
          "execution_count": 146
        }
      ]
    },
    {
      "cell_type": "code",
      "source": [
        "res = keras.utils.to_categorical(data[0], num_classes=maxWordsCount)\n",
        "print( res.shape )"
      ],
      "metadata": {
        "colab": {
          "base_uri": "https://localhost:8080/"
        },
        "id": "ILtfEKKIQH2d",
        "outputId": "dacf3583-404c-4568-8370-eeb03b79b048"
      },
      "execution_count": 147,
      "outputs": [
        {
          "output_type": "stream",
          "name": "stdout",
          "text": [
            "(31, 1000)\n"
          ]
        }
      ]
    },
    {
      "cell_type": "code",
      "source": [
        "inp_words = 3\n",
        "n = res.shape[0]-inp_words"
      ],
      "metadata": {
        "id": "pVSmTo2qQyer"
      },
      "execution_count": 148,
      "outputs": []
    },
    {
      "cell_type": "code",
      "source": [
        "X = np.array([res[i:i+inp_words, :] for i in range(n)])\n",
        "Y = res[inp_words:]"
      ],
      "metadata": {
        "id": "_ljnZUqXQ3Zz"
      },
      "execution_count": 149,
      "outputs": []
    },
    {
      "cell_type": "code",
      "source": [
        "model = Sequential()\n",
        "model.add(Input((inp_words, maxWordsCount)))\n",
        "model.add(SimpleRNN(128, activation='tanh'))\n",
        "model.add(Dense(maxWordsCount, activation='softmax'))\n",
        "model.summary()\n",
        "\n",
        "model.compile(loss='categorical_crossentropy', metrics=['accuracy'], optimizer='adam')"
      ],
      "metadata": {
        "colab": {
          "base_uri": "https://localhost:8080/"
        },
        "id": "Yc8dLHkSQ9Nr",
        "outputId": "41bf3fda-743c-4303-9f9e-3a790a7dc4cb"
      },
      "execution_count": 150,
      "outputs": [
        {
          "output_type": "stream",
          "name": "stdout",
          "text": [
            "Model: \"sequential_7\"\n",
            "_________________________________________________________________\n",
            " Layer (type)                Output Shape              Param #   \n",
            "=================================================================\n",
            " simple_rnn_7 (SimpleRNN)    (None, 128)               144512    \n",
            "                                                                 \n",
            " dense_7 (Dense)             (None, 1000)              129000    \n",
            "                                                                 \n",
            "=================================================================\n",
            "Total params: 273512 (1.04 MB)\n",
            "Trainable params: 273512 (1.04 MB)\n",
            "Non-trainable params: 0 (0.00 Byte)\n",
            "_________________________________________________________________\n"
          ]
        }
      ]
    },
    {
      "cell_type": "code",
      "source": [
        "history = model.fit(X, Y, batch_size=32, epochs=19)"
      ],
      "metadata": {
        "colab": {
          "base_uri": "https://localhost:8080/"
        },
        "id": "Av36xtecRA8L",
        "outputId": "8e2ce457-b61a-42b9-c2bd-23441a4e2462"
      },
      "execution_count": 151,
      "outputs": [
        {
          "output_type": "stream",
          "name": "stdout",
          "text": [
            "Epoch 1/19\n",
            "1/1 [==============================] - 2s 2s/step - loss: 6.9046 - accuracy: 0.0000e+00\n",
            "Epoch 2/19\n",
            "1/1 [==============================] - 0s 23ms/step - loss: 6.8788 - accuracy: 0.0000e+00\n",
            "Epoch 3/19\n",
            "1/1 [==============================] - 0s 26ms/step - loss: 6.8527 - accuracy: 0.1071\n",
            "Epoch 4/19\n",
            "1/1 [==============================] - 0s 32ms/step - loss: 6.8262 - accuracy: 0.3571\n",
            "Epoch 5/19\n",
            "1/1 [==============================] - 0s 27ms/step - loss: 6.7991 - accuracy: 0.5357\n",
            "Epoch 6/19\n",
            "1/1 [==============================] - 0s 22ms/step - loss: 6.7709 - accuracy: 0.6786\n",
            "Epoch 7/19\n",
            "1/1 [==============================] - 0s 21ms/step - loss: 6.7415 - accuracy: 0.7500\n",
            "Epoch 8/19\n",
            "1/1 [==============================] - 0s 21ms/step - loss: 6.7105 - accuracy: 0.8214\n",
            "Epoch 9/19\n",
            "1/1 [==============================] - 0s 21ms/step - loss: 6.6776 - accuracy: 0.8571\n",
            "Epoch 10/19\n",
            "1/1 [==============================] - 0s 27ms/step - loss: 6.6424 - accuracy: 0.9286\n",
            "Epoch 11/19\n",
            "1/1 [==============================] - 0s 21ms/step - loss: 6.6045 - accuracy: 0.9643\n",
            "Epoch 12/19\n",
            "1/1 [==============================] - 0s 20ms/step - loss: 6.5634 - accuracy: 0.9643\n",
            "Epoch 13/19\n",
            "1/1 [==============================] - 0s 27ms/step - loss: 6.5185 - accuracy: 0.9643\n",
            "Epoch 14/19\n",
            "1/1 [==============================] - 0s 21ms/step - loss: 6.4693 - accuracy: 0.9643\n",
            "Epoch 15/19\n",
            "1/1 [==============================] - 0s 20ms/step - loss: 6.4149 - accuracy: 0.9286\n",
            "Epoch 16/19\n",
            "1/1 [==============================] - 0s 19ms/step - loss: 6.3546 - accuracy: 0.9286\n",
            "Epoch 17/19\n",
            "1/1 [==============================] - 0s 18ms/step - loss: 6.2873 - accuracy: 0.8929\n",
            "Epoch 18/19\n",
            "1/1 [==============================] - 0s 19ms/step - loss: 6.2120 - accuracy: 0.8929\n",
            "Epoch 19/19\n",
            "1/1 [==============================] - 0s 20ms/step - loss: 6.1274 - accuracy: 0.8929\n"
          ]
        }
      ]
    },
    {
      "cell_type": "code",
      "source": [
        "def buildPhrase(texts, str_len = 1):\n",
        "  result = texts\n",
        "  data = tokenizer.texts_to_sequences([result])[0]\n",
        "  for i in range(str_len):\n",
        "    x = keras.utils.to_categorical(data[len(data)-inp_words:], num_classes=maxWordsCount) # преобразуем в One-Hot-encoding\n",
        "\n",
        "    inp = x.reshape(1, inp_words, maxWordsCount)\n",
        "    pred = model.predict( inp, verbose = \"None\" ) # предсказываем OHE четвертого символа\n",
        "    indx = pred.argmax(axis=1)[0]\n",
        "    data.append(indx)\n",
        "\n",
        "    result += \" \" + tokenizer.index_word[indx] # дописываем строку\n",
        "\n",
        "  return result"
      ],
      "metadata": {
        "id": "WiPb0RnqRJiT"
      },
      "execution_count": 157,
      "outputs": []
    },
    {
      "cell_type": "code",
      "source": [
        "for i in range(1):\n",
        "  x = keras.utils.to_categorical(data[i: i+inp_words], num_classes=maxWordsCount)"
      ],
      "metadata": {
        "id": "yrBbGq92UeSP"
      },
      "execution_count": 153,
      "outputs": []
    },
    {
      "cell_type": "code",
      "source": [
        "x.shape"
      ],
      "metadata": {
        "colab": {
          "base_uri": "https://localhost:8080/"
        },
        "id": "9CEjebYVUpuH",
        "outputId": "85abc1ca-87cd-4c93-a9a1-3a586ce6f75d"
      },
      "execution_count": 154,
      "outputs": [
        {
          "output_type": "execute_result",
          "data": {
            "text/plain": [
              "(1, 31, 1000)"
            ]
          },
          "metadata": {},
          "execution_count": 154
        }
      ]
    },
    {
      "cell_type": "code",
      "source": [
        "print(buildPhrase(\"ответ на проблемы\", 20))\n",
        "print(buildPhrase(\"вы лучший ответ\", 8))\n",
        "print(buildPhrase(\"верьте и думайте\", 8))"
      ],
      "metadata": {
        "colab": {
          "base_uri": "https://localhost:8080/"
        },
        "id": "v2L7ReIFRUuz",
        "outputId": "52207ef9-f5af-4d83-ea83-0ca45f84fe77"
      },
      "execution_count": 163,
      "outputs": [
        {
          "output_type": "stream",
          "name": "stdout",
          "text": [
            "ответ на проблемы которые возникли в понедельник думайте позитивно и верьте в свою способность достигать отличных результатов если вы смогли в понедельник герой\n",
            "вы лучший ответ понедельник проблемы которые и в понедельник герой позитивно\n",
            "верьте и думайте способность результатов верьте результатов смогли способность понедельник подняться\n"
          ]
        }
      ]
    }
  ]
}