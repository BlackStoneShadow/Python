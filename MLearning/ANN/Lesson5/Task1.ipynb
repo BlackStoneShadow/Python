{
  "nbformat": 4,
  "nbformat_minor": 0,
  "metadata": {
    "colab": {
      "provenance": []
    },
    "kernelspec": {
      "name": "python3",
      "display_name": "Python 3"
    },
    "language_info": {
      "name": "python"
    }
  },
  "cells": [
    {
      "cell_type": "code",
      "source": [
        "import re\n",
        "from google_drive_downloader import GoogleDriveDownloader as gdd"
      ],
      "metadata": {
        "id": "PH_mcB21EoxE"
      },
      "execution_count": 1,
      "outputs": []
    },
    {
      "cell_type": "code",
      "source": [
        "gdd.download_file_from_google_drive(file_id=\"1moAgo9pulaAMUCTvcqjdNAefyL-I35o0\",\n",
        "                                    dest_path=\"./train_data.txt\",\n",
        "                                    unzip=False)"
      ],
      "metadata": {
        "colab": {
          "base_uri": "https://localhost:8080/"
        },
        "id": "JJfV17PP3tHM",
        "outputId": "d39b7699-e450-41af-ccc0-d414afa140ab"
      },
      "execution_count": 5,
      "outputs": [
        {
          "output_type": "stream",
          "name": "stdout",
          "text": [
            "Downloading 1moAgo9pulaAMUCTvcqjdNAefyL-I35o0 into ./train_data.txt... Done.\n"
          ]
        }
      ]
    },
    {
      "cell_type": "code",
      "execution_count": 6,
      "metadata": {
        "id": "bJQINrKnDqju"
      },
      "outputs": [],
      "source": [
        "with open('train_data.txt', 'r', encoding='utf-8') as f:\n",
        "    text = f.read()\n",
        "    text = text.replace('\\ufeff', '') # убираем первый невидимый символ\n",
        "    text = re.sub(r'[^А-я ]', '', text) # убираем все недопустимые символы"
      ]
    },
    {
      "cell_type": "code",
      "source": [
        "text"
      ],
      "metadata": {
        "colab": {
          "base_uri": "https://localhost:8080/",
          "height": 53
        },
        "id": "SubXLsi5ErEN",
        "outputId": "93b5726c-11ba-4225-e8d3-28179ccd059b"
      },
      "execution_count": 7,
      "outputs": [
        {
          "output_type": "execute_result",
          "data": {
            "text/plain": [
              "'Вы  лучший ответ на проблемы которые возникли в понедельникДумайте позитивно и верьте в свою способность достигать отличных результатовЕсли вы смогли в понедельник подняться с постели значит вы супер герой'"
            ],
            "application/vnd.google.colaboratory.intrinsic+json": {
              "type": "string"
            }
          },
          "metadata": {},
          "execution_count": 7
        }
      ]
    },
    {
      "cell_type": "code",
      "source": [
        "len(text)"
      ],
      "metadata": {
        "colab": {
          "base_uri": "https://localhost:8080/"
        },
        "id": "fyD7g4glKVps",
        "outputId": "6080d856-4e16-4d6f-8341-910d759face1"
      },
      "execution_count": 8,
      "outputs": [
        {
          "output_type": "execute_result",
          "data": {
            "text/plain": [
              "205"
            ]
          },
          "metadata": {},
          "execution_count": 8
        }
      ]
    },
    {
      "cell_type": "code",
      "source": [
        "num_characters = len(set(text)) #уникальные символы\n",
        "num_characters                  #len(np.unique(np.array([x for x in text])))"
      ],
      "metadata": {
        "id": "IJD76YJ4E6z0",
        "colab": {
          "base_uri": "https://localhost:8080/"
        },
        "outputId": "db5a113c-5ed2-4238-8bc7-f03c28e5241e"
      },
      "execution_count": 27,
      "outputs": [
        {
          "output_type": "execute_result",
          "data": {
            "text/plain": [
              "30"
            ]
          },
          "metadata": {},
          "execution_count": 27
        }
      ]
    },
    {
      "cell_type": "code",
      "source": [
        "import keras\n",
        "from keras.preprocessing.text import Tokenizer"
      ],
      "metadata": {
        "id": "DgiJrgsiIK_x"
      },
      "execution_count": 28,
      "outputs": []
    },
    {
      "cell_type": "code",
      "source": [
        "tokenizer = Tokenizer(num_words=num_characters, char_level=True)"
      ],
      "metadata": {
        "id": "appv1wfpIJvH"
      },
      "execution_count": 29,
      "outputs": []
    },
    {
      "cell_type": "code",
      "source": [
        "tokenizer.fit_on_texts(text)"
      ],
      "metadata": {
        "id": "N1yoi7pGId-n"
      },
      "execution_count": 30,
      "outputs": []
    },
    {
      "cell_type": "code",
      "source": [
        "print(tokenizer.word_index)"
      ],
      "metadata": {
        "colab": {
          "base_uri": "https://localhost:8080/"
        },
        "id": "QJmXPaQbIf-I",
        "outputId": "50b91cf1-476c-43fa-9dba-e689f30342da"
      },
      "execution_count": 31,
      "outputs": [
        {
          "output_type": "stream",
          "name": "stdout",
          "text": [
            "{' ': 1, 'о': 2, 'т': 3, 'е': 4, 'и': 5, 'в': 6, 'н': 7, 'с': 8, 'л': 9, 'п': 10, 'ь': 11, 'ы': 12, 'р': 13, 'а': 14, 'д': 15, 'у': 16, 'к': 17, 'з': 18, 'ч': 19, 'й': 20, 'м': 21, 'г': 22, 'б': 23, 'я': 24, 'ш': 25, 'ю': 26, 'х': 27}\n"
          ]
        }
      ]
    },
    {
      "cell_type": "code",
      "source": [
        "inp_chars = 3 #кол-во вводимых символов\n",
        "data = tokenizer.texts_to_matrix(text)"
      ],
      "metadata": {
        "id": "1wWs_206JRu-"
      },
      "execution_count": 100,
      "outputs": []
    },
    {
      "cell_type": "code",
      "source": [
        "data[1]"
      ],
      "metadata": {
        "colab": {
          "base_uri": "https://localhost:8080/"
        },
        "id": "Yqy7uBYCJTYV",
        "outputId": "de98c48f-4924-4e9c-befe-1e67b036499f"
      },
      "execution_count": 33,
      "outputs": [
        {
          "output_type": "execute_result",
          "data": {
            "text/plain": [
              "array([0., 0., 0., 0., 0., 0., 0., 0., 0., 0., 0., 0., 1., 0., 0., 0., 0.,\n",
              "       0., 0., 0., 0., 0., 0., 0., 0., 0., 0., 0., 0., 0.])"
            ]
          },
          "metadata": {},
          "execution_count": 33
        }
      ]
    },
    {
      "cell_type": "code",
      "source": [
        "n = data.shape[0]-inp_chars\n",
        "n  #размер обучающего множества"
      ],
      "metadata": {
        "colab": {
          "base_uri": "https://localhost:8080/"
        },
        "id": "HnWQb42jKAd1",
        "outputId": "15d00219-73a4-4d32-dd48-beb17641884c"
      },
      "execution_count": 101,
      "outputs": [
        {
          "output_type": "execute_result",
          "data": {
            "text/plain": [
              "202"
            ]
          },
          "metadata": {},
          "execution_count": 101
        }
      ]
    },
    {
      "cell_type": "code",
      "source": [
        "import numpy as np"
      ],
      "metadata": {
        "id": "kvZ-iB9LKwgc"
      },
      "execution_count": 42,
      "outputs": []
    },
    {
      "cell_type": "code",
      "source": [
        "# генерация обучающего набора\n",
        "X = np.array([data[i:i+inp_chars, :] for i in range(n)])\n",
        "Y = data[inp_chars:] #предсказание следующего символа"
      ],
      "metadata": {
        "id": "_nG7M5RIKsfs"
      },
      "execution_count": 102,
      "outputs": []
    },
    {
      "cell_type": "code",
      "source": [
        "len(X), len(Y)"
      ],
      "metadata": {
        "colab": {
          "base_uri": "https://localhost:8080/"
        },
        "id": "z20DCMmSK3tj",
        "outputId": "973e5722-6307-4913-98a9-4577381b5803"
      },
      "execution_count": 103,
      "outputs": [
        {
          "output_type": "execute_result",
          "data": {
            "text/plain": [
              "(202, 202)"
            ]
          },
          "metadata": {},
          "execution_count": 103
        }
      ]
    },
    {
      "cell_type": "code",
      "source": [
        "X[0]"
      ],
      "metadata": {
        "colab": {
          "base_uri": "https://localhost:8080/"
        },
        "id": "0NrELysIK5fL",
        "outputId": "90b667a0-fe21-4888-804e-4185dfaef282"
      },
      "execution_count": 51,
      "outputs": [
        {
          "output_type": "execute_result",
          "data": {
            "text/plain": [
              "array([[0., 0., 0., 0., 0., 0., 1., 0., 0., 0., 0., 0., 0., 0., 0., 0.,\n",
              "        0., 0., 0., 0., 0., 0., 0., 0., 0., 0., 0., 0., 0., 0.],\n",
              "       [0., 0., 0., 0., 0., 0., 0., 0., 0., 0., 0., 0., 1., 0., 0., 0.,\n",
              "        0., 0., 0., 0., 0., 0., 0., 0., 0., 0., 0., 0., 0., 0.],\n",
              "       [0., 1., 0., 0., 0., 0., 0., 0., 0., 0., 0., 0., 0., 0., 0., 0.,\n",
              "        0., 0., 0., 0., 0., 0., 0., 0., 0., 0., 0., 0., 0., 0.],\n",
              "       [0., 1., 0., 0., 0., 0., 0., 0., 0., 0., 0., 0., 0., 0., 0., 0.,\n",
              "        0., 0., 0., 0., 0., 0., 0., 0., 0., 0., 0., 0., 0., 0.],\n",
              "       [0., 0., 0., 0., 0., 0., 0., 0., 0., 1., 0., 0., 0., 0., 0., 0.,\n",
              "        0., 0., 0., 0., 0., 0., 0., 0., 0., 0., 0., 0., 0., 0.],\n",
              "       [0., 0., 0., 0., 0., 0., 0., 0., 0., 0., 0., 0., 0., 0., 0., 0.,\n",
              "        1., 0., 0., 0., 0., 0., 0., 0., 0., 0., 0., 0., 0., 0.]])"
            ]
          },
          "metadata": {},
          "execution_count": 51
        }
      ]
    },
    {
      "cell_type": "code",
      "source": [
        "Y[0]"
      ],
      "metadata": {
        "colab": {
          "base_uri": "https://localhost:8080/"
        },
        "id": "XbsyrcEGK7G7",
        "outputId": "7ceb89b9-f127-4cbf-ee9b-b1813cc58a6c"
      },
      "execution_count": 52,
      "outputs": [
        {
          "output_type": "execute_result",
          "data": {
            "text/plain": [
              "array([0., 0., 0., 0., 0., 0., 0., 0., 0., 0., 0., 0., 0., 0., 0., 0., 0.,\n",
              "       0., 0., 1., 0., 0., 0., 0., 0., 0., 0., 0., 0., 0.])"
            ]
          },
          "metadata": {},
          "execution_count": 52
        }
      ]
    },
    {
      "cell_type": "code",
      "source": [
        "from keras.layers import *\n",
        "from keras.models import Sequential"
      ],
      "metadata": {
        "id": "lIP7yhRzLZsr"
      },
      "execution_count": 53,
      "outputs": []
    },
    {
      "cell_type": "code",
      "source": [
        "model = Sequential()\n",
        "model.add(Input((inp_chars, num_characters)))\n",
        "model.add(SimpleRNN(500, activation='tanh'))\n",
        "model.add(Dense(num_characters, activation='softmax'))\n",
        "model.summary()"
      ],
      "metadata": {
        "colab": {
          "base_uri": "https://localhost:8080/"
        },
        "id": "gwyYcqGiLXPE",
        "outputId": "7ddc4a4f-05a8-40ee-d9b2-fffef0930fc2"
      },
      "execution_count": 105,
      "outputs": [
        {
          "output_type": "stream",
          "name": "stdout",
          "text": [
            "Model: \"sequential_2\"\n",
            "_________________________________________________________________\n",
            " Layer (type)                Output Shape              Param #   \n",
            "=================================================================\n",
            " simple_rnn_2 (SimpleRNN)    (None, 500)               265500    \n",
            "                                                                 \n",
            " dense_2 (Dense)             (None, 30)                15030     \n",
            "                                                                 \n",
            "=================================================================\n",
            "Total params: 280530 (1.07 MB)\n",
            "Trainable params: 280530 (1.07 MB)\n",
            "Non-trainable params: 0 (0.00 Byte)\n",
            "_________________________________________________________________\n"
          ]
        }
      ]
    },
    {
      "cell_type": "code",
      "source": [
        "model.compile(loss='categorical_crossentropy', metrics=['accuracy'], optimizer='adam')\n",
        "history = model.fit(X, Y, batch_size=32, epochs=100)"
      ],
      "metadata": {
        "colab": {
          "base_uri": "https://localhost:8080/"
        },
        "id": "Y3-y2cQiMGLK",
        "outputId": "2207d61a-4beb-4384-c4cc-b31bcdb5970a"
      },
      "execution_count": 107,
      "outputs": [
        {
          "output_type": "stream",
          "name": "stdout",
          "text": [
            "Epoch 1/100\n",
            "7/7 [==============================] - 1s 11ms/step - loss: 0.7406 - accuracy: 0.7723\n",
            "Epoch 2/100\n",
            "7/7 [==============================] - 0s 10ms/step - loss: 0.6499 - accuracy: 0.7673\n",
            "Epoch 3/100\n",
            "7/7 [==============================] - 0s 11ms/step - loss: 0.6195 - accuracy: 0.8168\n",
            "Epoch 4/100\n",
            "7/7 [==============================] - 0s 11ms/step - loss: 0.5228 - accuracy: 0.8267\n",
            "Epoch 5/100\n",
            "7/7 [==============================] - 0s 10ms/step - loss: 0.5031 - accuracy: 0.8366\n",
            "Epoch 6/100\n",
            "7/7 [==============================] - 0s 11ms/step - loss: 0.4705 - accuracy: 0.8317\n",
            "Epoch 7/100\n",
            "7/7 [==============================] - 0s 11ms/step - loss: 0.4500 - accuracy: 0.8416\n",
            "Epoch 8/100\n",
            "7/7 [==============================] - 0s 10ms/step - loss: 0.4345 - accuracy: 0.8663\n",
            "Epoch 9/100\n",
            "7/7 [==============================] - 0s 13ms/step - loss: 0.4551 - accuracy: 0.8465\n",
            "Epoch 10/100\n",
            "7/7 [==============================] - 0s 12ms/step - loss: 0.4335 - accuracy: 0.8416\n",
            "Epoch 11/100\n",
            "7/7 [==============================] - 0s 12ms/step - loss: 0.4265 - accuracy: 0.8663\n",
            "Epoch 12/100\n",
            "7/7 [==============================] - 0s 11ms/step - loss: 0.4304 - accuracy: 0.8564\n",
            "Epoch 13/100\n",
            "7/7 [==============================] - 0s 11ms/step - loss: 0.4168 - accuracy: 0.8564\n",
            "Epoch 14/100\n",
            "7/7 [==============================] - 0s 11ms/step - loss: 0.4419 - accuracy: 0.8267\n",
            "Epoch 15/100\n",
            "7/7 [==============================] - 0s 11ms/step - loss: 0.4096 - accuracy: 0.8812\n",
            "Epoch 16/100\n",
            "7/7 [==============================] - 0s 13ms/step - loss: 0.4453 - accuracy: 0.8812\n",
            "Epoch 17/100\n",
            "7/7 [==============================] - 0s 12ms/step - loss: 0.4068 - accuracy: 0.8713\n",
            "Epoch 18/100\n",
            "7/7 [==============================] - 0s 11ms/step - loss: 0.4076 - accuracy: 0.8861\n",
            "Epoch 19/100\n",
            "7/7 [==============================] - 0s 11ms/step - loss: 0.3988 - accuracy: 0.8515\n",
            "Epoch 20/100\n",
            "7/7 [==============================] - 0s 11ms/step - loss: 0.3841 - accuracy: 0.8614\n",
            "Epoch 21/100\n",
            "7/7 [==============================] - 0s 13ms/step - loss: 0.4289 - accuracy: 0.8515\n",
            "Epoch 22/100\n",
            "7/7 [==============================] - 0s 12ms/step - loss: 0.3955 - accuracy: 0.8713\n",
            "Epoch 23/100\n",
            "7/7 [==============================] - 0s 16ms/step - loss: 0.3698 - accuracy: 0.8911\n",
            "Epoch 24/100\n",
            "7/7 [==============================] - 0s 16ms/step - loss: 0.3674 - accuracy: 0.8564\n",
            "Epoch 25/100\n",
            "7/7 [==============================] - 0s 15ms/step - loss: 0.3631 - accuracy: 0.8663\n",
            "Epoch 26/100\n",
            "7/7 [==============================] - 0s 15ms/step - loss: 0.3988 - accuracy: 0.8515\n",
            "Epoch 27/100\n",
            "7/7 [==============================] - 0s 15ms/step - loss: 0.3938 - accuracy: 0.8812\n",
            "Epoch 28/100\n",
            "7/7 [==============================] - 0s 16ms/step - loss: 0.3529 - accuracy: 0.8861\n",
            "Epoch 29/100\n",
            "7/7 [==============================] - 0s 14ms/step - loss: 0.3590 - accuracy: 0.8564\n",
            "Epoch 30/100\n",
            "7/7 [==============================] - 0s 19ms/step - loss: 0.3763 - accuracy: 0.8713\n",
            "Epoch 31/100\n",
            "7/7 [==============================] - 0s 14ms/step - loss: 0.3877 - accuracy: 0.8762\n",
            "Epoch 32/100\n",
            "7/7 [==============================] - 0s 11ms/step - loss: 0.3488 - accuracy: 0.8614\n",
            "Epoch 33/100\n",
            "7/7 [==============================] - 0s 11ms/step - loss: 0.3589 - accuracy: 0.8812\n",
            "Epoch 34/100\n",
            "7/7 [==============================] - 0s 11ms/step - loss: 0.3353 - accuracy: 0.8960\n",
            "Epoch 35/100\n",
            "7/7 [==============================] - 0s 12ms/step - loss: 0.3605 - accuracy: 0.8614\n",
            "Epoch 36/100\n",
            "7/7 [==============================] - 0s 11ms/step - loss: 0.3260 - accuracy: 0.8812\n",
            "Epoch 37/100\n",
            "7/7 [==============================] - 0s 11ms/step - loss: 0.3811 - accuracy: 0.8812\n",
            "Epoch 38/100\n",
            "7/7 [==============================] - 0s 11ms/step - loss: 0.3640 - accuracy: 0.8861\n",
            "Epoch 39/100\n",
            "7/7 [==============================] - 0s 16ms/step - loss: 0.3686 - accuracy: 0.8564\n",
            "Epoch 40/100\n",
            "7/7 [==============================] - 0s 17ms/step - loss: 0.3508 - accuracy: 0.8762\n",
            "Epoch 41/100\n",
            "7/7 [==============================] - 0s 18ms/step - loss: 0.3715 - accuracy: 0.8614\n",
            "Epoch 42/100\n",
            "7/7 [==============================] - 0s 18ms/step - loss: 0.3246 - accuracy: 0.8762\n",
            "Epoch 43/100\n",
            "7/7 [==============================] - 0s 15ms/step - loss: 0.3474 - accuracy: 0.8812\n",
            "Epoch 44/100\n",
            "7/7 [==============================] - 0s 17ms/step - loss: 0.3028 - accuracy: 0.8861\n",
            "Epoch 45/100\n",
            "7/7 [==============================] - 0s 17ms/step - loss: 0.3238 - accuracy: 0.8762\n",
            "Epoch 46/100\n",
            "7/7 [==============================] - 0s 16ms/step - loss: 0.3277 - accuracy: 0.8663\n",
            "Epoch 47/100\n",
            "7/7 [==============================] - 0s 15ms/step - loss: 0.3055 - accuracy: 0.9059\n",
            "Epoch 48/100\n",
            "7/7 [==============================] - 0s 16ms/step - loss: 0.3501 - accuracy: 0.8812\n",
            "Epoch 49/100\n",
            "7/7 [==============================] - 0s 17ms/step - loss: 0.3453 - accuracy: 0.8911\n",
            "Epoch 50/100\n",
            "7/7 [==============================] - 0s 17ms/step - loss: 0.3512 - accuracy: 0.8663\n",
            "Epoch 51/100\n",
            "7/7 [==============================] - 0s 21ms/step - loss: 0.3275 - accuracy: 0.8663\n",
            "Epoch 52/100\n",
            "7/7 [==============================] - 0s 22ms/step - loss: 0.2953 - accuracy: 0.8861\n",
            "Epoch 53/100\n",
            "7/7 [==============================] - 0s 24ms/step - loss: 0.3363 - accuracy: 0.8564\n",
            "Epoch 54/100\n",
            "7/7 [==============================] - 0s 20ms/step - loss: 0.3065 - accuracy: 0.8911\n",
            "Epoch 55/100\n",
            "7/7 [==============================] - 0s 23ms/step - loss: 0.2919 - accuracy: 0.8911\n",
            "Epoch 56/100\n",
            "7/7 [==============================] - 0s 24ms/step - loss: 0.3129 - accuracy: 0.8812\n",
            "Epoch 57/100\n",
            "7/7 [==============================] - 0s 20ms/step - loss: 0.3352 - accuracy: 0.8762\n",
            "Epoch 58/100\n",
            "7/7 [==============================] - 0s 24ms/step - loss: 0.2953 - accuracy: 0.8960\n",
            "Epoch 59/100\n",
            "7/7 [==============================] - 0s 22ms/step - loss: 0.3395 - accuracy: 0.8663\n",
            "Epoch 60/100\n",
            "7/7 [==============================] - 0s 13ms/step - loss: 0.3236 - accuracy: 0.8911\n",
            "Epoch 61/100\n",
            "7/7 [==============================] - 0s 13ms/step - loss: 0.3406 - accuracy: 0.8911\n",
            "Epoch 62/100\n",
            "7/7 [==============================] - 0s 13ms/step - loss: 0.3161 - accuracy: 0.8713\n",
            "Epoch 63/100\n",
            "7/7 [==============================] - 0s 13ms/step - loss: 0.3165 - accuracy: 0.8861\n",
            "Epoch 64/100\n",
            "7/7 [==============================] - 0s 14ms/step - loss: 0.2895 - accuracy: 0.8960\n",
            "Epoch 65/100\n",
            "7/7 [==============================] - 0s 14ms/step - loss: 0.3037 - accuracy: 0.8861\n",
            "Epoch 66/100\n",
            "7/7 [==============================] - 0s 13ms/step - loss: 0.3109 - accuracy: 0.8762\n",
            "Epoch 67/100\n",
            "7/7 [==============================] - 0s 14ms/step - loss: 0.2836 - accuracy: 0.8911\n",
            "Epoch 68/100\n",
            "7/7 [==============================] - 0s 14ms/step - loss: 0.2744 - accuracy: 0.9010\n",
            "Epoch 69/100\n",
            "7/7 [==============================] - 0s 14ms/step - loss: 0.3101 - accuracy: 0.8960\n",
            "Epoch 70/100\n",
            "7/7 [==============================] - 0s 13ms/step - loss: 0.2756 - accuracy: 0.8960\n",
            "Epoch 71/100\n",
            "7/7 [==============================] - 0s 14ms/step - loss: 0.2816 - accuracy: 0.8762\n",
            "Epoch 72/100\n",
            "7/7 [==============================] - 0s 13ms/step - loss: 0.3216 - accuracy: 0.9010\n",
            "Epoch 73/100\n",
            "7/7 [==============================] - 0s 15ms/step - loss: 0.2787 - accuracy: 0.8960\n",
            "Epoch 74/100\n",
            "7/7 [==============================] - 0s 16ms/step - loss: 0.2921 - accuracy: 0.9010\n",
            "Epoch 75/100\n",
            "7/7 [==============================] - 0s 12ms/step - loss: 0.2832 - accuracy: 0.8960\n",
            "Epoch 76/100\n",
            "7/7 [==============================] - 0s 14ms/step - loss: 0.3078 - accuracy: 0.8713\n",
            "Epoch 77/100\n",
            "7/7 [==============================] - 0s 13ms/step - loss: 0.3004 - accuracy: 0.8960\n",
            "Epoch 78/100\n",
            "7/7 [==============================] - 0s 13ms/step - loss: 0.2571 - accuracy: 0.9010\n",
            "Epoch 79/100\n",
            "7/7 [==============================] - 0s 14ms/step - loss: 0.2643 - accuracy: 0.8663\n",
            "Epoch 80/100\n",
            "7/7 [==============================] - 0s 13ms/step - loss: 0.2739 - accuracy: 0.8960\n",
            "Epoch 81/100\n",
            "7/7 [==============================] - 0s 14ms/step - loss: 0.2947 - accuracy: 0.9010\n",
            "Epoch 82/100\n",
            "7/7 [==============================] - 0s 15ms/step - loss: 0.2779 - accuracy: 0.8663\n",
            "Epoch 83/100\n",
            "7/7 [==============================] - 0s 14ms/step - loss: 0.3067 - accuracy: 0.8861\n",
            "Epoch 84/100\n",
            "7/7 [==============================] - 0s 14ms/step - loss: 0.3002 - accuracy: 0.8911\n",
            "Epoch 85/100\n",
            "7/7 [==============================] - 0s 12ms/step - loss: 0.2825 - accuracy: 0.9010\n",
            "Epoch 86/100\n",
            "7/7 [==============================] - 0s 12ms/step - loss: 0.2573 - accuracy: 0.9010\n",
            "Epoch 87/100\n",
            "7/7 [==============================] - 0s 11ms/step - loss: 0.2690 - accuracy: 0.8911\n",
            "Epoch 88/100\n",
            "7/7 [==============================] - 0s 12ms/step - loss: 0.2715 - accuracy: 0.8861\n",
            "Epoch 89/100\n",
            "7/7 [==============================] - 0s 11ms/step - loss: 0.3025 - accuracy: 0.8762\n",
            "Epoch 90/100\n",
            "7/7 [==============================] - 0s 11ms/step - loss: 0.2804 - accuracy: 0.8861\n",
            "Epoch 91/100\n",
            "7/7 [==============================] - 0s 12ms/step - loss: 0.3186 - accuracy: 0.8861\n",
            "Epoch 92/100\n",
            "7/7 [==============================] - 0s 11ms/step - loss: 0.3421 - accuracy: 0.8614\n",
            "Epoch 93/100\n",
            "7/7 [==============================] - 0s 11ms/step - loss: 0.2876 - accuracy: 0.8911\n",
            "Epoch 94/100\n",
            "7/7 [==============================] - 0s 11ms/step - loss: 0.2772 - accuracy: 0.8861\n",
            "Epoch 95/100\n",
            "7/7 [==============================] - 0s 11ms/step - loss: 0.3122 - accuracy: 0.9010\n",
            "Epoch 96/100\n",
            "7/7 [==============================] - 0s 12ms/step - loss: 0.3006 - accuracy: 0.8713\n",
            "Epoch 97/100\n",
            "7/7 [==============================] - 0s 11ms/step - loss: 0.3087 - accuracy: 0.8762\n",
            "Epoch 98/100\n",
            "7/7 [==============================] - 0s 11ms/step - loss: 0.3081 - accuracy: 0.8762\n",
            "Epoch 99/100\n",
            "7/7 [==============================] - 0s 10ms/step - loss: 0.2733 - accuracy: 0.8812\n",
            "Epoch 100/100\n",
            "7/7 [==============================] - 0s 11ms/step - loss: 0.2864 - accuracy: 0.8861\n"
          ]
        }
      ]
    },
    {
      "cell_type": "code",
      "source": [
        "def buildPhrase(inp_str, str_len = 1):\n",
        "  _inp_chars = inp_chars if len(inp_str) > inp_chars else len(inp_str)\n",
        "\n",
        "  for i in range(str_len):\n",
        "    x = []\n",
        "    for j in range(len(inp_str) - _inp_chars, len(inp_str)):\n",
        "      x.append(tokenizer.texts_to_matrix(inp_str[j])) # преобразуем символы в One-Hot-encoding\n",
        "\n",
        "    x = np.array(x)\n",
        "\n",
        "    inp = x.reshape(1, inp_chars, num_characters)\n",
        "\n",
        "    pred = model.predict( inp ) # предсказываем OHE четвертого символа\n",
        "    char = tokenizer.index_word[pred.argmax(axis=1)[0]] # получаем ответ в символьном представлении\n",
        "\n",
        "    inp_str += char # дописываем строку\n",
        "\n",
        "  return inp_str"
      ],
      "metadata": {
        "id": "s0_LNL2pMiku"
      },
      "execution_count": 218,
      "outputs": []
    },
    {
      "cell_type": "code",
      "source": [
        "print(buildPhrase(\"позитивн\", 7))\n",
        "print(buildPhrase(\"способ\", 15))\n",
        "print(buildPhrase(\"проблемы\", 21))"
      ],
      "metadata": {
        "colab": {
          "base_uri": "https://localhost:8080/"
        },
        "id": "7-vxdO-dMijp",
        "outputId": "1a6dadfc-c2b9-4cfb-e293-8df9540e74be"
      },
      "execution_count": 227,
      "outputs": [
        {
          "output_type": "stream",
          "name": "stdout",
          "text": [
            "1/1 [==============================] - 0s 77ms/step\n",
            "1/1 [==============================] - 0s 33ms/step\n",
            "1/1 [==============================] - 0s 21ms/step\n",
            "1/1 [==============================] - 0s 23ms/step\n",
            "1/1 [==============================] - 0s 25ms/step\n",
            "1/1 [==============================] - 0s 22ms/step\n",
            "1/1 [==============================] - 0s 24ms/step\n",
            "позитивно и вы \n",
            "1/1 [==============================] - 0s 21ms/step\n",
            "1/1 [==============================] - 0s 23ms/step\n",
            "1/1 [==============================] - 0s 22ms/step\n",
            "1/1 [==============================] - 0s 21ms/step\n",
            "1/1 [==============================] - 0s 25ms/step\n",
            "1/1 [==============================] - 0s 23ms/step\n",
            "1/1 [==============================] - 0s 22ms/step\n",
            "1/1 [==============================] - 0s 24ms/step\n",
            "1/1 [==============================] - 0s 24ms/step\n",
            "1/1 [==============================] - 0s 26ms/step\n",
            "1/1 [==============================] - 0s 22ms/step\n",
            "1/1 [==============================] - 0s 21ms/step\n",
            "1/1 [==============================] - 0s 24ms/step\n",
            "1/1 [==============================] - 0s 36ms/step\n",
            "1/1 [==============================] - 0s 73ms/step\n",
            "способность отличных \n",
            "1/1 [==============================] - 0s 55ms/step\n",
            "1/1 [==============================] - 0s 66ms/step\n",
            "1/1 [==============================] - 0s 40ms/step\n",
            "1/1 [==============================] - 0s 83ms/step\n",
            "1/1 [==============================] - 0s 34ms/step\n",
            "1/1 [==============================] - 0s 69ms/step\n",
            "1/1 [==============================] - 0s 105ms/step\n",
            "1/1 [==============================] - 0s 36ms/step\n",
            "1/1 [==============================] - 0s 88ms/step\n",
            "1/1 [==============================] - 0s 36ms/step\n",
            "1/1 [==============================] - 0s 27ms/step\n",
            "1/1 [==============================] - 0s 22ms/step\n",
            "1/1 [==============================] - 0s 24ms/step\n",
            "1/1 [==============================] - 0s 23ms/step\n",
            "1/1 [==============================] - 0s 22ms/step\n",
            "1/1 [==============================] - 0s 21ms/step\n",
            "1/1 [==============================] - 0s 20ms/step\n",
            "1/1 [==============================] - 0s 23ms/step\n",
            "1/1 [==============================] - 0s 22ms/step\n",
            "1/1 [==============================] - 0s 25ms/step\n",
            "1/1 [==============================] - 0s 23ms/step\n",
            "проблемы которые в пособность\n"
          ]
        }
      ]
    },
    {
      "cell_type": "markdown",
      "source": [
        "# Слова\n"
      ],
      "metadata": {
        "id": "5Lp6XvkoOYyH"
      }
    },
    {
      "cell_type": "code",
      "source": [
        "with open('train_data.txt', 'r', encoding='utf-8') as f:\n",
        "    texts = f.read()\n",
        "    texts = texts.replace('\\ufeff', '') # убираем первый невидимый символ"
      ],
      "metadata": {
        "id": "_-Wq8QJ2PDM2"
      },
      "execution_count": null,
      "outputs": []
    },
    {
      "cell_type": "code",
      "source": [
        "maxWordsCount = 1000\n",
        "tokenizer = Tokenizer(num_words=maxWordsCount, filters='!–\"—#$%&amp;()*+,-./:;<=>?@[\\\\]^_`{|}~\\t\\n\\r«»',\n",
        "                       lower=True, split=' ', char_level=False)\n",
        "tokenizer.fit_on_texts([texts])"
      ],
      "metadata": {
        "id": "revghpcNPQSd"
      },
      "execution_count": null,
      "outputs": []
    },
    {
      "cell_type": "code",
      "source": [
        "dist = list(tokenizer.word_counts.items())\n",
        "print(dist[:10])"
      ],
      "metadata": {
        "colab": {
          "base_uri": "https://localhost:8080/"
        },
        "id": "HPga89Z4PVFe",
        "outputId": "6241df03-5511-4cd8-c085-924d0abbe941"
      },
      "execution_count": null,
      "outputs": [
        {
          "output_type": "stream",
          "name": "stdout",
          "text": [
            "[('вы', 3), ('лучший', 1), ('ответ', 1), ('на', 1), ('проблемы', 1), ('которые', 1), ('возникли', 1), ('в', 3), ('понедельник', 2), ('думайте', 1)]\n"
          ]
        }
      ]
    },
    {
      "cell_type": "code",
      "source": [
        "data = tokenizer.texts_to_sequences([texts])"
      ],
      "metadata": {
        "id": "7mpCwwYQP5hV"
      },
      "execution_count": null,
      "outputs": []
    },
    {
      "cell_type": "code",
      "source": [
        "data"
      ],
      "metadata": {
        "colab": {
          "base_uri": "https://localhost:8080/"
        },
        "id": "tPDrhzF4P7Lk",
        "outputId": "ec62ccbd-6cbf-469b-d48d-7f03312dd3d4"
      },
      "execution_count": null,
      "outputs": [
        {
          "output_type": "execute_result",
          "data": {
            "text/plain": [
              "[[1,\n",
              "  4,\n",
              "  5,\n",
              "  6,\n",
              "  7,\n",
              "  8,\n",
              "  9,\n",
              "  2,\n",
              "  3,\n",
              "  10,\n",
              "  11,\n",
              "  12,\n",
              "  13,\n",
              "  2,\n",
              "  14,\n",
              "  15,\n",
              "  16,\n",
              "  17,\n",
              "  18,\n",
              "  19,\n",
              "  1,\n",
              "  20,\n",
              "  2,\n",
              "  3,\n",
              "  21,\n",
              "  22,\n",
              "  23,\n",
              "  24,\n",
              "  1,\n",
              "  25,\n",
              "  26]]"
            ]
          },
          "metadata": {},
          "execution_count": 106
        }
      ]
    },
    {
      "cell_type": "code",
      "source": [
        "len(data[0])"
      ],
      "metadata": {
        "colab": {
          "base_uri": "https://localhost:8080/"
        },
        "id": "fA6DuYkoQS8N",
        "outputId": "57106bdd-b61f-47ee-a7eb-4871f6ba3e73"
      },
      "execution_count": null,
      "outputs": [
        {
          "output_type": "execute_result",
          "data": {
            "text/plain": [
              "31"
            ]
          },
          "metadata": {},
          "execution_count": 107
        }
      ]
    },
    {
      "cell_type": "code",
      "source": [
        "res = keras.utils.to_categorical(data[0], num_classes=maxWordsCount)\n",
        "print( res.shape )"
      ],
      "metadata": {
        "colab": {
          "base_uri": "https://localhost:8080/"
        },
        "id": "ILtfEKKIQH2d",
        "outputId": "1ec24bdb-4fff-4ce1-877e-f59ca1b99b25"
      },
      "execution_count": null,
      "outputs": [
        {
          "output_type": "stream",
          "name": "stdout",
          "text": [
            "(31, 1000)\n"
          ]
        }
      ]
    },
    {
      "cell_type": "code",
      "source": [
        "inp_words = 3\n",
        "n = res.shape[0]-inp_words"
      ],
      "metadata": {
        "id": "pVSmTo2qQyer"
      },
      "execution_count": null,
      "outputs": []
    },
    {
      "cell_type": "code",
      "source": [
        "X = np.array([res[i:i+inp_words, :] for i in range(n)])\n",
        "Y = res[inp_words:]"
      ],
      "metadata": {
        "id": "_ljnZUqXQ3Zz"
      },
      "execution_count": null,
      "outputs": []
    },
    {
      "cell_type": "code",
      "source": [
        "model = Sequential()\n",
        "model.add(Input((inp_words, maxWordsCount)))\n",
        "model.add(SimpleRNN(128, activation='tanh'))\n",
        "model.add(Dense(maxWordsCount, activation='softmax'))\n",
        "model.summary()\n",
        "\n",
        "model.compile(loss='categorical_crossentropy', metrics=['accuracy'], optimizer='adam')"
      ],
      "metadata": {
        "colab": {
          "base_uri": "https://localhost:8080/"
        },
        "id": "Yc8dLHkSQ9Nr",
        "outputId": "7cfa79e5-2301-4e1f-da3b-090cba0c3984"
      },
      "execution_count": null,
      "outputs": [
        {
          "output_type": "stream",
          "name": "stdout",
          "text": [
            "Model: \"sequential_4\"\n",
            "_________________________________________________________________\n",
            " Layer (type)                Output Shape              Param #   \n",
            "=================================================================\n",
            " simple_rnn_4 (SimpleRNN)    (None, 128)               144512    \n",
            "                                                                 \n",
            " dense_4 (Dense)             (None, 1000)              129000    \n",
            "                                                                 \n",
            "=================================================================\n",
            "Total params: 273512 (1.04 MB)\n",
            "Trainable params: 273512 (1.04 MB)\n",
            "Non-trainable params: 0 (0.00 Byte)\n",
            "_________________________________________________________________\n"
          ]
        }
      ]
    },
    {
      "cell_type": "code",
      "source": [
        "history = model.fit(X, Y, batch_size=32, epochs=19)"
      ],
      "metadata": {
        "colab": {
          "base_uri": "https://localhost:8080/"
        },
        "id": "Av36xtecRA8L",
        "outputId": "288fb7fd-f42c-47a1-889f-bc018a14d561"
      },
      "execution_count": null,
      "outputs": [
        {
          "output_type": "stream",
          "name": "stdout",
          "text": [
            "Epoch 1/19\n",
            "1/1 [==============================] - 1s 1s/step - loss: 6.9144 - accuracy: 0.0000e+00\n",
            "Epoch 2/19\n",
            "1/1 [==============================] - 0s 16ms/step - loss: 6.8882 - accuracy: 0.0000e+00\n",
            "Epoch 3/19\n",
            "1/1 [==============================] - 0s 25ms/step - loss: 6.8618 - accuracy: 0.0357\n",
            "Epoch 4/19\n",
            "1/1 [==============================] - 0s 16ms/step - loss: 6.8351 - accuracy: 0.1071\n",
            "Epoch 5/19\n",
            "1/1 [==============================] - 0s 18ms/step - loss: 6.8077 - accuracy: 0.2857\n",
            "Epoch 6/19\n",
            "1/1 [==============================] - 0s 22ms/step - loss: 6.7793 - accuracy: 0.5714\n",
            "Epoch 7/19\n",
            "1/1 [==============================] - 0s 16ms/step - loss: 6.7497 - accuracy: 0.7857\n",
            "Epoch 8/19\n",
            "1/1 [==============================] - 0s 21ms/step - loss: 6.7185 - accuracy: 0.9286\n",
            "Epoch 9/19\n",
            "1/1 [==============================] - 0s 15ms/step - loss: 6.6855 - accuracy: 0.9643\n",
            "Epoch 10/19\n",
            "1/1 [==============================] - 0s 17ms/step - loss: 6.6502 - accuracy: 0.9643\n",
            "Epoch 11/19\n",
            "1/1 [==============================] - 0s 16ms/step - loss: 6.6122 - accuracy: 1.0000\n",
            "Epoch 12/19\n",
            "1/1 [==============================] - 0s 17ms/step - loss: 6.5711 - accuracy: 1.0000\n",
            "Epoch 13/19\n",
            "1/1 [==============================] - 0s 16ms/step - loss: 6.5261 - accuracy: 1.0000\n",
            "Epoch 14/19\n",
            "1/1 [==============================] - 0s 17ms/step - loss: 6.4767 - accuracy: 1.0000\n",
            "Epoch 15/19\n",
            "1/1 [==============================] - 0s 16ms/step - loss: 6.4219 - accuracy: 1.0000\n",
            "Epoch 16/19\n",
            "1/1 [==============================] - 0s 18ms/step - loss: 6.3609 - accuracy: 1.0000\n",
            "Epoch 17/19\n",
            "1/1 [==============================] - 0s 15ms/step - loss: 6.2925 - accuracy: 1.0000\n",
            "Epoch 18/19\n",
            "1/1 [==============================] - 0s 16ms/step - loss: 6.2153 - accuracy: 1.0000\n",
            "Epoch 19/19\n",
            "1/1 [==============================] - 0s 15ms/step - loss: 6.1280 - accuracy: 1.0000\n"
          ]
        }
      ]
    },
    {
      "cell_type": "code",
      "source": [
        "def buildPhrase(texts, str_len = 20):\n",
        "  result = texts\n",
        "  data = tokenizer.texts_to_sequences([texts])[0]\n",
        "  for i in range(len(data)):\n",
        "    x = keras.utils.to_categorical(data[i: i+inp_words], num_classes=maxWordsCount) # преобразуем в One-Hot-encoding\n",
        "    inp = x.reshape(1, inp_words, maxWordsCount)\n",
        "    pred = model.predict( inp ) # предсказываем OHE четвертого символа\n",
        "    indx = pred.argmax(axis=1)[0]\n",
        "    data.append(indx)\n",
        "    result += \" \" + tokenizer.index_word[indx] # дописываем строку\n",
        "\n",
        "  return result"
      ],
      "metadata": {
        "id": "WiPb0RnqRJiT"
      },
      "execution_count": null,
      "outputs": []
    },
    {
      "cell_type": "code",
      "source": [
        "for i in range(1):\n",
        "    x = keras.utils.to_categorical(data[i: i+inp_words], num_classes=maxWordsCount)"
      ],
      "metadata": {
        "id": "yrBbGq92UeSP"
      },
      "execution_count": null,
      "outputs": []
    },
    {
      "cell_type": "code",
      "source": [
        "x.shape"
      ],
      "metadata": {
        "colab": {
          "base_uri": "https://localhost:8080/"
        },
        "id": "9CEjebYVUpuH",
        "outputId": "ad097b90-6014-4c0b-aae1-5abce2e347d8"
      },
      "execution_count": null,
      "outputs": [
        {
          "output_type": "execute_result",
          "data": {
            "text/plain": [
              "(1, 31, 1000)"
            ]
          },
          "metadata": {},
          "execution_count": 145
        }
      ]
    },
    {
      "cell_type": "code",
      "source": [
        "res = buildPhrase(\"значит вы\")\n",
        "print(res)"
      ],
      "metadata": {
        "colab": {
          "base_uri": "https://localhost:8080/",
          "height": 295
        },
        "id": "v2L7ReIFRUuz",
        "outputId": "776c44f9-8c18-414e-df30-f2301e959bf0"
      },
      "execution_count": null,
      "outputs": [
        {
          "output_type": "error",
          "ename": "ValueError",
          "evalue": "cannot reshape array of size 2000 into shape (1,3,1000)",
          "traceback": [
            "\u001b[0;31m---------------------------------------------------------------------------\u001b[0m",
            "\u001b[0;31mValueError\u001b[0m                                Traceback (most recent call last)",
            "\u001b[0;32m<ipython-input-154-51142192265f>\u001b[0m in \u001b[0;36m<cell line: 1>\u001b[0;34m()\u001b[0m\n\u001b[0;32m----> 1\u001b[0;31m \u001b[0mres\u001b[0m \u001b[0;34m=\u001b[0m \u001b[0mbuildPhrase\u001b[0m\u001b[0;34m(\u001b[0m\u001b[0;34m\"значит вы\"\u001b[0m\u001b[0;34m)\u001b[0m\u001b[0;34m\u001b[0m\u001b[0;34m\u001b[0m\u001b[0m\n\u001b[0m\u001b[1;32m      2\u001b[0m \u001b[0mprint\u001b[0m\u001b[0;34m(\u001b[0m\u001b[0mres\u001b[0m\u001b[0;34m)\u001b[0m\u001b[0;34m\u001b[0m\u001b[0;34m\u001b[0m\u001b[0m\n",
            "\u001b[0;32m<ipython-input-153-083f0835c0d4>\u001b[0m in \u001b[0;36mbuildPhrase\u001b[0;34m(texts, str_len)\u001b[0m\n\u001b[1;32m      4\u001b[0m   \u001b[0;32mfor\u001b[0m \u001b[0mi\u001b[0m \u001b[0;32min\u001b[0m \u001b[0mrange\u001b[0m\u001b[0;34m(\u001b[0m\u001b[0;36m1\u001b[0m\u001b[0;34m)\u001b[0m\u001b[0;34m:\u001b[0m\u001b[0;34m\u001b[0m\u001b[0;34m\u001b[0m\u001b[0m\n\u001b[1;32m      5\u001b[0m     \u001b[0mx\u001b[0m \u001b[0;34m=\u001b[0m \u001b[0mkeras\u001b[0m\u001b[0;34m.\u001b[0m\u001b[0mutils\u001b[0m\u001b[0;34m.\u001b[0m\u001b[0mto_categorical\u001b[0m\u001b[0;34m(\u001b[0m\u001b[0mdata\u001b[0m\u001b[0;34m[\u001b[0m\u001b[0mi\u001b[0m\u001b[0;34m:\u001b[0m \u001b[0mi\u001b[0m\u001b[0;34m+\u001b[0m\u001b[0minp_words\u001b[0m\u001b[0;34m]\u001b[0m\u001b[0;34m,\u001b[0m \u001b[0mnum_classes\u001b[0m\u001b[0;34m=\u001b[0m\u001b[0mmaxWordsCount\u001b[0m\u001b[0;34m)\u001b[0m \u001b[0;31m# преобразуем в One-Hot-encoding\u001b[0m\u001b[0;34m\u001b[0m\u001b[0;34m\u001b[0m\u001b[0m\n\u001b[0;32m----> 6\u001b[0;31m     \u001b[0minp\u001b[0m \u001b[0;34m=\u001b[0m \u001b[0mx\u001b[0m\u001b[0;34m.\u001b[0m\u001b[0mreshape\u001b[0m\u001b[0;34m(\u001b[0m\u001b[0;36m1\u001b[0m\u001b[0;34m,\u001b[0m \u001b[0minp_words\u001b[0m\u001b[0;34m,\u001b[0m \u001b[0mmaxWordsCount\u001b[0m\u001b[0;34m)\u001b[0m\u001b[0;34m\u001b[0m\u001b[0;34m\u001b[0m\u001b[0m\n\u001b[0m\u001b[1;32m      7\u001b[0m     \u001b[0mpred\u001b[0m \u001b[0;34m=\u001b[0m \u001b[0mmodel\u001b[0m\u001b[0;34m.\u001b[0m\u001b[0mpredict\u001b[0m\u001b[0;34m(\u001b[0m \u001b[0minp\u001b[0m \u001b[0;34m)\u001b[0m \u001b[0;31m# предсказываем OHE четвертого символа\u001b[0m\u001b[0;34m\u001b[0m\u001b[0;34m\u001b[0m\u001b[0m\n\u001b[1;32m      8\u001b[0m     \u001b[0mindx\u001b[0m \u001b[0;34m=\u001b[0m \u001b[0mpred\u001b[0m\u001b[0;34m.\u001b[0m\u001b[0margmax\u001b[0m\u001b[0;34m(\u001b[0m\u001b[0maxis\u001b[0m\u001b[0;34m=\u001b[0m\u001b[0;36m1\u001b[0m\u001b[0;34m)\u001b[0m\u001b[0;34m[\u001b[0m\u001b[0;36m0\u001b[0m\u001b[0;34m]\u001b[0m\u001b[0;34m\u001b[0m\u001b[0;34m\u001b[0m\u001b[0m\n",
            "\u001b[0;31mValueError\u001b[0m: cannot reshape array of size 2000 into shape (1,3,1000)"
          ]
        }
      ]
    }
  ]
}