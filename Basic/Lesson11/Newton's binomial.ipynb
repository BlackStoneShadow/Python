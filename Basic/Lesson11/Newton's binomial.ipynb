{
  "nbformat": 4,
  "nbformat_minor": 0,
  "metadata": {
    "colab": {
      "provenance": []
    },
    "kernelspec": {
      "name": "python3",
      "display_name": "Python 3"
    },
    "language_info": {
      "name": "python"
    }
  },
  "cells": [
    {
      "cell_type": "code",
      "source": [
        "from sympy import *\n",
        "from sympy.plotting import plot"
      ],
      "metadata": {
        "id": "_l7F2efS0TE2"
      },
      "execution_count": null,
      "outputs": []
    },
    {
      "cell_type": "code",
      "source": [
        "a= Symbol('a')\n",
        "b= Symbol('b')\n",
        "c= Symbol('c')\n",
        "x= Symbol('x')"
      ],
      "metadata": {
        "id": "UYVVaaKJ1NnR"
      },
      "execution_count": null,
      "outputs": []
    },
    {
      "cell_type": "code",
      "source": [
        "f1 = a*(31**2)+b*31+c-19310\n",
        "f2 = a*(51**2)+b*51+c-52150\n",
        "f3 = a*(61**2)+b*61+c-74570"
      ],
      "metadata": {
        "id": "KHPkDz-Fy3WB"
      },
      "execution_count": null,
      "outputs": []
    },
    {
      "cell_type": "code",
      "source": [
        "a,b,c = tuple(*nonlinsolve([f1,f2,f3],[a,b,c]))\n"
      ],
      "metadata": {
        "id": "yxUXcHj37Rb_"
      },
      "execution_count": null,
      "outputs": []
    },
    {
      "cell_type": "code",
      "source": [
        "func = a*(x**2)+b*x+c\n",
        "#func.subs(x,48)"
      ],
      "metadata": {
        "id": "1hZDYrCR7b8r"
      },
      "execution_count": null,
      "outputs": []
    },
    {
      "cell_type": "code",
      "source": [
        "price1 = func.subs(x,48)\n",
        "price2 = func.subs(x,54)\n",
        "print(f'Стоимость 48м2 {price1}$')\n",
        "print(f'Стоимость 54м2 {price2}$')"
      ],
      "metadata": {
        "colab": {
          "base_uri": "https://localhost:8080/"
        },
        "id": "j8QuB01g8w7E",
        "outputId": "d0f528e7-37c8-4d35-84bb-4c9c132b0ab0"
      },
      "execution_count": null,
      "outputs": [
        {
          "output_type": "stream",
          "name": "stdout",
          "text": [
            "Стоимость 48м2 46204$\n",
            "Стоимость 54м2 58456$\n"
          ]
        }
      ]
    },
    {
      "cell_type": "code",
      "source": [
        "f1=plot(func, (x, 0, 200), show=False)\n",
        "f1.show()\n"
      ],
      "metadata": {
        "colab": {
          "base_uri": "https://localhost:8080/",
          "height": 296
        },
        "id": "oYWI4BYy0cZ9",
        "outputId": "699e20cc-73aa-45b4-f3d8-8a69e4554369"
      },
      "execution_count": null,
      "outputs": [
        {
          "output_type": "display_data",
          "data": {
            "text/plain": [
              "<Figure size 432x288 with 1 Axes>"
            ],
            "image/png": "[encoded data removed]"
          },
          "metadata": {
            "needs_background": "light"
          }
        }
      ]
    }
  ]
}