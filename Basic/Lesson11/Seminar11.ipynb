{
  "nbformat": 4,
  "nbformat_minor": 0,
  "metadata": {
    "colab": {
      "provenance": [],
      "collapsed_sections": []
    },
    "kernelspec": {
      "name": "python3",
      "display_name": "Python 3"
    },
    "language_info": {
      "name": "python"
    }
  },
  "cells": [
    {
      "cell_type": "code",
      "execution_count": 47,
      "metadata": {
        "id": "AQInCXWv4hRE"
      },
      "outputs": [],
      "source": [
        "from sympy import *\n",
        "from sympy.plotting import plot\n",
        "from sympy.solvers.inequalities import solve_univariate_inequality"
      ]
    },
    {
      "cell_type": "code",
      "source": [
        "x = Symbol('x')"
      ],
      "metadata": {
        "id": "CGS76NxE4mE1"
      },
      "execution_count": 48,
      "outputs": []
    },
    {
      "cell_type": "code",
      "source": [
        "f13 = 5*x**2 + 10*x -150\n",
        "f13"
      ],
      "metadata": {
        "colab": {
          "base_uri": "https://localhost:8080/",
          "height": 39
        },
        "id": "97g7cily4s2C",
        "outputId": "ec633b0d-43f2-45a0-de0f-9c41b65b2398"
      },
      "execution_count": 49,
      "outputs": [
        {
          "output_type": "execute_result",
          "data": {
            "text/plain": [
              "5*x**2 + 10*x - 150"
            ],
            "text/latex": "$\\displaystyle 5 x^{2} + 10 x - 150$"
          },
          "metadata": {},
          "execution_count": 49
        }
      ]
    },
    {
      "cell_type": "code",
      "source": [
        "#1. Определить корни:\n",
        "x1, x2 = solve(f13)\n"
      ],
      "metadata": {
        "id": "ZnVbl67X6EIB"
      },
      "execution_count": 50,
      "outputs": []
    },
    {
      "cell_type": "code",
      "source": [
        "print('Первый корень  = ', x1.evalf())"
      ],
      "metadata": {
        "colab": {
          "base_uri": "https://localhost:8080/"
        },
        "id": "asnnoMNf6ayI",
        "outputId": "9584185e-caa2-4a3d-d7d4-fed55d4434b9"
      },
      "execution_count": 51,
      "outputs": [
        {
          "output_type": "stream",
          "name": "stdout",
          "text": [
            "Первый корень  =  4.56776436283002\n"
          ]
        }
      ]
    },
    {
      "cell_type": "code",
      "source": [
        "print('Второй корень  = ', x2.evalf())"
      ],
      "metadata": {
        "colab": {
          "base_uri": "https://localhost:8080/"
        },
        "id": "-xTK7_SM708y",
        "outputId": "0fdb1c8d-5cf8-49c2-9db8-3825309785df"
      },
      "execution_count": 52,
      "outputs": [
        {
          "output_type": "stream",
          "name": "stdout",
          "text": [
            "Второй корень  =  -6.56776436283002\n"
          ]
        }
      ]
    },
    {
      "cell_type": "code",
      "source": [
        "# Вычислили производную первого порядка исходной функции\n",
        "f14=diff(f13)\n",
        "f14"
      ],
      "metadata": {
        "colab": {
          "base_uri": "https://localhost:8080/",
          "height": 39
        },
        "id": "3nzbwTPp5npe",
        "outputId": "e02233db-99f2-44ad-f219-8e303f179742"
      },
      "execution_count": 53,
      "outputs": [
        {
          "output_type": "execute_result",
          "data": {
            "text/plain": [
              "10*x + 10"
            ],
            "text/latex": "$\\displaystyle 10 x + 10$"
          },
          "metadata": {},
          "execution_count": 53
        }
      ]
    },
    {
      "cell_type": "code",
      "source": [
        "fun1 = plot(f14,(x,-2,1), show=False)\n",
        "fun1.show()\n"
      ],
      "metadata": {
        "colab": {
          "base_uri": "https://localhost:8080/",
          "height": 297
        },
        "id": "S21ue2ozDIcW",
        "outputId": "78655918-e8e9-4c88-9a78-2aacbe0c4c85"
      },
      "execution_count": 54,
      "outputs": [
        {
          "output_type": "display_data",
          "data": {
            "text/plain": [
              "<Figure size 432x288 with 1 Axes>"
            ],
            "image/png": "[encoded data removed]"
          },
          "metadata": {
            "needs_background": "light"
          }
        }
      ]
    },
    {
      "cell_type": "code",
      "source": [
        "# 5. Вычислить вершину\n",
        "extremum = solve(f14)\n",
        "extremum "
      ],
      "metadata": {
        "colab": {
          "base_uri": "https://localhost:8080/"
        },
        "id": "9R5T1UZF41tZ",
        "outputId": "1d835654-ebe7-44f4-a175-ed1a4f431b5e"
      },
      "execution_count": 55,
      "outputs": [
        {
          "output_type": "execute_result",
          "data": {
            "text/plain": [
              "[-1]"
            ]
          },
          "metadata": {},
          "execution_count": 55
        }
      ]
    },
    {
      "cell_type": "code",
      "source": [
        "#2. Найти интервалы, на которых функция возрастает\n",
        "print(f'Функция возрастает с {extremum } до +∞')"
      ],
      "metadata": {
        "colab": {
          "base_uri": "https://localhost:8080/"
        },
        "id": "FbVzrloQoBD0",
        "outputId": "a83cbe35-0271-4dcc-d439-b85f467ec65d"
      },
      "execution_count": 56,
      "outputs": [
        {
          "output_type": "stream",
          "name": "stdout",
          "text": [
            "Функция возрастает с [-1] до +∞\n"
          ]
        }
      ]
    },
    {
      "cell_type": "code",
      "source": [
        "#3. Найти интервалы, на которых функция убывает\n",
        "print(f'Функция убывает от -∞  до {extremum }')"
      ],
      "metadata": {
        "colab": {
          "base_uri": "https://localhost:8080/"
        },
        "id": "m1kD_6SGBLA5",
        "outputId": "316089f8-b4fa-424f-ecd2-82d790a883ed"
      },
      "execution_count": 57,
      "outputs": [
        {
          "output_type": "stream",
          "name": "stdout",
          "text": [
            "Функция убывает от -∞  до [-1]\n"
          ]
        }
      ]
    },
    {
      "cell_type": "code",
      "source": [
        "#4. Построить график\n",
        "f14=plot(f13, show=False)\n",
        "f14.show()"
      ],
      "metadata": {
        "colab": {
          "base_uri": "https://localhost:8080/",
          "height": 297
        },
        "id": "dtuGsXku4wKt",
        "outputId": "92f3dfe7-066b-4be6-cc28-e992c7f488cf"
      },
      "execution_count": 65,
      "outputs": [
        {
          "output_type": "display_data",
          "data": {
            "text/plain": [
              "<Figure size 432x288 with 1 Axes>"
            ],
            "image/png": "[encoded data removed]"
          },
          "metadata": {
            "needs_background": "light"
          }
        }
      ]
    },
    {
      "cell_type": "code",
      "source": [
        "# 6. Определить промежутки, на котором f > 0\n",
        "x1=round(x1.evalf(),2)\n",
        "x2=round(x2.evalf(),2)\n",
        "print(f'Функция {f13} больше нуля от -∞ до {x2} и от {x1} до +∞')"
      ],
      "metadata": {
        "colab": {
          "base_uri": "https://localhost:8080/"
        },
        "id": "0rrvL5fS-FgM",
        "outputId": "a24a2be1-7b8b-4944-fca9-5c0f89f8ff32"
      },
      "execution_count": 59,
      "outputs": [
        {
          "output_type": "stream",
          "name": "stdout",
          "text": [
            "Функция 5*x**2 + 10*x - 150 больше нуля от -∞ до -6.57 и от 4.57 до +∞\n"
          ]
        }
      ]
    },
    {
      "cell_type": "code",
      "source": [
        "# 7. Определить промежутки, на котором f < 0\n",
        "x1=round(x1.evalf(),2)\n",
        "x2=round(x2.evalf(),2)\n",
        "print(f'Функция {f13} меньше нуля от {x2} и до {x1}')"
      ],
      "metadata": {
        "colab": {
          "base_uri": "https://localhost:8080/"
        },
        "id": "f3zXMmP9rO-K",
        "outputId": "e533d1d8-255f-41f3-c3a3-eff61e837087"
      },
      "execution_count": 60,
      "outputs": [
        {
          "output_type": "stream",
          "name": "stdout",
          "text": [
            "Функция 5*x**2 + 10*x - 150 меньше нуля от -6.57 и до 4.57\n"
          ]
        }
      ]
    }
  ]
}