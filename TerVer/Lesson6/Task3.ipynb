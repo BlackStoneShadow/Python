{
  "nbformat": 4,
  "nbformat_minor": 0,
  "metadata": {
    "colab": {
      "provenance": []
    },
    "kernelspec": {
      "name": "python3",
      "display_name": "Python 3"
    },
    "language_info": {
      "name": "python"
    }
  },
  "cells": [
    {
      "cell_type": "code",
      "execution_count": null,
      "metadata": {
        "id": "sYmNAWK-ZsWY"
      },
      "outputs": [],
      "source": [
        "from math import *\n",
        "from numpy import *\n",
        "from scipy.stats import *"
      ]
    },
    {
      "cell_type": "code",
      "source": [
        "#Рост дочерей 175, 167, 154, 174, 178, 148, 160, 167, 169, 170\n",
        "#Рост матерей 178, 165, 165, 173, 168, 155, 160, 164, 178, 175\n",
        "\n",
        "#Используя эти данные построить 95% доверительный интервал для разности среднего\n",
        "#роста родителей и детей.\n",
        "x1 = array([175, 167, 154, 174, 178, 148, 160, 167, 169, 170])\n",
        "x2 = array([178, 165, 165, 173, 168, 155, 160, 164, 178, 175])\n",
        "#разность средних\n",
        "delta = x2.mean() - x1.mean()\n",
        "#групповая дисперсия\n",
        "D = (x1.var(ddof=1) + x2.var(ddof=1)) / 2\n",
        "#ошибка разности средних\n",
        "Sd = sqrt(D / len(x1) + D / len(x2))\n",
        "#табличный t-критерий\n",
        "tt = t.ppf(1 - 0.05 / 2, df = len(x1) + len(x2) - 2)\n",
        "#определение интервала\n",
        "x = [delta - tt * Sd, delta + tt * Sd]\n",
        "#результат\n",
        "print(f\"95% доверительный интервал для разности среднего роста родителей и детей [{x[0]:.2f}, {x[1]:.2f}]\")"
      ],
      "metadata": {
        "colab": {
          "base_uri": "https://localhost:8080/"
        },
        "id": "QmBadH8CaeY4",
        "outputId": "fd0479cd-515e-4d37-f0e4-483910e08b4c"
      },
      "execution_count": null,
      "outputs": [
        {
          "output_type": "stream",
          "name": "stdout",
          "text": [
            "95% доверительный интервал для разности среднего роста родителей и детей [-6.27, 10.07]\n"
          ]
        }
      ]
    }
  ]
}