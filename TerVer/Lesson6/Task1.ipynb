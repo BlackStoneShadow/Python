{
  "nbformat": 4,
  "nbformat_minor": 0,
  "metadata": {
    "colab": {
      "provenance": []
    },
    "kernelspec": {
      "name": "python3",
      "display_name": "Python 3"
    },
    "language_info": {
      "name": "python"
    }
  },
  "cells": [
    {
      "cell_type": "code",
      "execution_count": null,
      "metadata": {
        "id": "NG5BUP-8Y4vG"
      },
      "outputs": [],
      "source": [
        "from math import *\n",
        "from numpy import *\n",
        "from scipy.stats import *"
      ]
    },
    {
      "cell_type": "code",
      "source": [
        "#Известно, что генеральная совокупность распределена нормально со средним квадратическим отклонением, равным 16.\n",
        "#Найти доверительный интервал для оценки математического ожидания a с надежностью 0.95,\n",
        "#если выборочная средняя M = 80, а объем выборки n = 256.\n",
        "m = 80\n",
        "n = 256\n",
        "sigma = 16\n",
        "#табличное значение z-критерия\n",
        "z = norm.ppf(1 - 0.05 / 2)\n",
        "#доверительный интервал\n",
        "x = [m - z * sigma / sqrt(n), m + z * sigma / sqrt(n)]\n",
        "print(f\"доверительный интервал для оценки математического ожидания [{x[0]:.2f}, {x[1]:.2f}] с надежностью 0.95\")"
      ],
      "metadata": {
        "colab": {
          "base_uri": "https://localhost:8080/"
        },
        "id": "TAC0BBM6Z64x",
        "outputId": "b097d457-df92-475a-805a-869278e790b5"
      },
      "execution_count": null,
      "outputs": [
        {
          "output_type": "stream",
          "name": "stdout",
          "text": [
            "доверительный интервал для оценки математического ожидания [78.04, 81.96] с надежностью 0.95\n"
          ]
        }
      ]
    }
  ]
}