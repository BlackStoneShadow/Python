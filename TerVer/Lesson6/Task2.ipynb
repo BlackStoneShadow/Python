{
  "nbformat": 4,
  "nbformat_minor": 0,
  "metadata": {
    "colab": {
      "provenance": []
    },
    "kernelspec": {
      "name": "python3",
      "display_name": "Python 3"
    },
    "language_info": {
      "name": "python"
    }
  },
  "cells": [
    {
      "cell_type": "code",
      "execution_count": null,
      "metadata": {
        "id": "fDvG9xHoZctY"
      },
      "outputs": [],
      "source": [
        "from math import *\n",
        "from numpy import *\n",
        "from scipy.stats import *"
      ]
    },
    {
      "cell_type": "code",
      "source": [
        "#В результате 10 независимых измерений некоторой величины X, выполненных с\n",
        "#одинаковой точностью, получены опытные данные:\n",
        "#6.9, 6.1, 6.2, 6.8, 7.5, 6.3, 6.4, 6.9, 6.7, 6.1\n",
        "#Предполагая, что результаты измерений подчинены нормальному закону распределения вероятностей,\n",
        "#оценить истинное значение величины X при помощи доверительного интервала,\n",
        "#покрывающего это значение с доверительной вероятностью 0,95.\n",
        "x = array([6.9, 6.1, 6.2, 6.8, 7.5, 6.3, 6.4, 6.9, 6.7, 6.1])\n",
        "#среднее арифметическое\n",
        "m = mean(x)\n",
        "#несмещенная дисперсия\n",
        "d = var(x, ddof = 1)\n",
        "#табличное значение t-критерия\n",
        "tt = t.ppf(1 - 0.05 / 2, df = len(x) - 1)\n",
        "#доверительный интервал\n",
        "x = [m - tt * sqrt(d / len(x)), m + tt * sqrt(d / len(x))]\n",
        "print(f\"истинное значение величины X находится в интервале [{x[0]:.2f}, {x[1]:.2f}] с доверительной вероятностью 0,95\")"
      ],
      "metadata": {
        "colab": {
          "base_uri": "https://localhost:8080/"
        },
        "id": "XKpoQBg9aO0A",
        "outputId": "1974519e-8f6d-42cc-cb73-151a25ad785e"
      },
      "execution_count": null,
      "outputs": [
        {
          "output_type": "stream",
          "name": "stdout",
          "text": [
            "истинное значение величины X находится в интервале [6.27, 6.91] с доверительной вероятностью 0,95\n"
          ]
        }
      ]
    }
  ]
}