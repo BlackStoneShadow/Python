{
  "nbformat": 4,
  "nbformat_minor": 0,
  "metadata": {
    "colab": {
      "provenance": []
    },
    "kernelspec": {
      "name": "python3",
      "display_name": "Python 3"
    },
    "language_info": {
      "name": "python"
    }
  },
  "cells": [
    {
      "cell_type": "code",
      "source": [
        "from math import *"
      ],
      "metadata": {
        "id": "uugEwXXY-ef9"
      },
      "execution_count": null,
      "outputs": []
    },
    {
      "cell_type": "code",
      "execution_count": null,
      "metadata": {
        "colab": {
          "base_uri": "https://localhost:8080/"
        },
        "id": "qWm1R3uV-MOl",
        "outputId": "0ab382bf-3be6-4962-f6c0-051e24d5a46d"
      },
      "outputs": [
        {
          "output_type": "stream",
          "name": "stdout",
          "text": [
            "c3_9=84.0\n",
            "c3_15=455.0\n",
            "Вероятность=18.461538461538463%\n"
          ]
        }
      ],
      "source": [
        "#Задание 3\n",
        "#В ящике имеется 15 деталей, из которых 9 окрашены. \n",
        "#Рабочий случайным образом извлекает 3 детали. \n",
        "#Какова вероятность того, что все извлеченные детали окрашены?\n",
        "c3_9 = factorial(9) / (factorial(3) * factorial(9-3))\n",
        "c3_15 = factorial(15) / (factorial(3) * factorial(15-3))\n",
        "p = c3_9 / c3_15\n",
        "\n",
        "print(f\"c3_9={c3_9}\")\n",
        "print(f\"c3_15={c3_15}\")\n",
        "print(f\"Вероятность={p*100}%\")"
      ]
    }
  ]
}