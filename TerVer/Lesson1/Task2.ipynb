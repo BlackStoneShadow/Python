{
  "nbformat": 4,
  "nbformat_minor": 0,
  "metadata": {
    "colab": {
      "provenance": []
    },
    "kernelspec": {
      "name": "python3",
      "display_name": "Python 3"
    },
    "language_info": {
      "name": "python"
    }
  },
  "cells": [
    {
      "cell_type": "code",
      "source": [
        "from math import *"
      ],
      "metadata": {
        "id": "H2BapURNwdYc"
      },
      "execution_count": null,
      "outputs": []
    },
    {
      "cell_type": "code",
      "execution_count": null,
      "metadata": {
        "colab": {
          "base_uri": "https://localhost:8080/"
        },
        "id": "vjA5HyGhta7s",
        "outputId": "74a6c7ba-b98d-4649-95c2-ee4f4793df77"
      },
      "outputs": [
        {
          "output_type": "stream",
          "name": "stdout",
          "text": [
            "c3_10=120.0\n",
            "Вероятность=0.8333333333333334%\n"
          ]
        }
      ],
      "source": [
        "#Задание 2\n",
        "#На входной двери подъезда установлен кодовый замок, содержащий десять кнопок с цифрами от 0 до 9. \n",
        "#Код содержит три цифры, которые нужно нажать одновременно. \n",
        "#Какова вероятность того, что человек, не знающий код, откроет дверь с первой попытки?\n",
        "c3_10 = factorial(10) / (factorial(3) * factorial(10 - 3))\n",
        "\n",
        "p = 1 / c3_10\n",
        "\n",
        "print(f\"c3_10={c3_10}\")\n",
        "print(f\"Вероятность={p*100}%\")"
      ]
    }
  ]
}