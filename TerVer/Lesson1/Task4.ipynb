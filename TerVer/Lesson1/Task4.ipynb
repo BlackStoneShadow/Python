{
  "nbformat": 4,
  "nbformat_minor": 0,
  "metadata": {
    "colab": {
      "provenance": []
    },
    "kernelspec": {
      "name": "python3",
      "display_name": "Python 3"
    },
    "language_info": {
      "name": "python"
    }
  },
  "cells": [
    {
      "cell_type": "code",
      "execution_count": null,
      "metadata": {
        "id": "3wn0MG0y_68k"
      },
      "outputs": [],
      "source": [
        "from math import *"
      ]
    },
    {
      "cell_type": "code",
      "source": [
        "#Задание 4\n",
        "#В лотерее 100 билетов. Из них 2 выигрышных. \n",
        "#Какова вероятность того, что 2 приобретенных билета окажутся выигрышными?\n",
        "c2_100 = factorial(100) / (factorial(2) * factorial(100 - 2))\n",
        "p = 1 / c2_100\n",
        "\n",
        "print(f\"c2_100={c2_100}\")\n",
        "print(f\"Вероятность={p*100}%\")"
      ],
      "metadata": {
        "colab": {
          "base_uri": "https://localhost:8080/"
        },
        "id": "-IdUo9QW__Ww",
        "outputId": "3404ba4d-0f7a-482f-e3fe-2eae66c9be07"
      },
      "execution_count": null,
      "outputs": [
        {
          "output_type": "stream",
          "name": "stdout",
          "text": [
            "c2_100=4950.0\n",
            "Вероятность=0.0202020202020202%\n"
          ]
        }
      ]
    }
  ]
}