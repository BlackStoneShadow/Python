{
  "nbformat": 4,
  "nbformat_minor": 0,
  "metadata": {
    "colab": {
      "provenance": []
    },
    "kernelspec": {
      "name": "python3",
      "display_name": "Python 3"
    },
    "language_info": {
      "name": "python"
    }
  },
  "cells": [
    {
      "cell_type": "code",
      "source": [
        "from math import *"
      ],
      "metadata": {
        "id": "w6rPpli351Sy"
      },
      "execution_count": null,
      "outputs": []
    },
    {
      "cell_type": "code",
      "source": [
        "#Задание 1\n",
        "#Из колоды в 52 карты извлекаются случайным образом 4 карты. \n",
        "#a) Найти вероятность того, что все карты – крести. \n",
        "c4_13 = factorial(13)/(factorial(4)*factorial(13-4))\n",
        "c0_39 = factorial(39)/(factorial(0)*factorial(39-0))\n",
        "c4_52 = factorial(52)/(factorial(4)*factorial(52-4))\n",
        "\n",
        "#вероятность вытащить все карты одной масти\n",
        "p = c4_13 * c0_39 / c4_52\n",
        "\n",
        "print(f\"c4_13={c4_13}\")\n",
        "print(f\"c0_39={c0_39}\")\n",
        "print(f\"c4_52={c4_52}\")\n",
        "print(f\"Вероятность={p*100}%\")"
      ],
      "metadata": {
        "colab": {
          "base_uri": "https://localhost:8080/"
        },
        "id": "a6GmAaNH538i",
        "outputId": "3506db01-7ddf-413e-a6fa-9f0f99f98bc3"
      },
      "execution_count": null,
      "outputs": [
        {
          "output_type": "stream",
          "name": "stdout",
          "text": [
            "c4_13=715.0\n",
            "c0_39=1.0\n",
            "c4_52=270725.0\n",
            "Вероятность=0.26410564225690275%\n"
          ]
        }
      ]
    },
    {
      "cell_type": "code",
      "source": [
        "#Задание 1\n",
        "#Из колоды в 52 карты извлекаются случайным образом 4 карты. \n",
        "#б) Найти вероятность, что среди 4-х карт окажется хотя бы один туз.\n",
        "c4_48 = factorial(48)/(factorial(4)*factorial(48-4))\n",
        "c4_52 = factorial(52)/(factorial(4)*factorial(52-4))\n",
        "#вероятность вытащить не туза\n",
        "p = c4_48 / c4_52\n",
        "#вероятность вытащить туза\n",
        "p = 1 - p\n",
        "print(f\"c4_48={c4_48}\")\n",
        "print(f\"c4_52={c4_52}\")\n",
        "print(f\"Вероятность={p*100}%\")"
      ],
      "metadata": {
        "colab": {
          "base_uri": "https://localhost:8080/"
        },
        "id": "ZivK4bEvhj7N",
        "outputId": "1207943a-df91-4479-b73f-5c14d83b9eb1"
      },
      "execution_count": null,
      "outputs": [
        {
          "output_type": "stream",
          "name": "stdout",
          "text": [
            "c4_48=194580.0\n",
            "c4_52=270725.0\n",
            "Вероятность=28.12632745405854%\n"
          ]
        }
      ]
    }
  ]
}