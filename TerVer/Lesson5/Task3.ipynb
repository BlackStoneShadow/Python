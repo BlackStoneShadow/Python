{
  "nbformat": 4,
  "nbformat_minor": 0,
  "metadata": {
    "colab": {
      "provenance": []
    },
    "kernelspec": {
      "name": "python3",
      "display_name": "Python 3"
    },
    "language_info": {
      "name": "python"
    }
  },
  "cells": [
    {
      "cell_type": "code",
      "execution_count": null,
      "metadata": {
        "id": "2YOzD5bw-22h"
      },
      "outputs": [],
      "source": [
        "from math import *"
      ]
    },
    {
      "cell_type": "code",
      "source": [
        "#Проведите тест гипотезы. Продавец утверждает, что средний вес пачки печенья составляет 200 г.\n",
        "#Из партии извлечена выборка из 10 пачек. Вес каждой пачки составляет:\n",
        "#202, 203, 199, 197, 195, 201, 200, 204, 194, 190.\n",
        "#Известно, что их веса распределены нормально.\n",
        "#Верно ли утверждение продавца, если учитывать, что доверительная вероятность равна\n",
        "#99%? (Провести двусторонний тест.)\n",
        "\n",
        "#среднее арифметическое\n",
        "def avg(data):\n",
        "  return sum(data) / len(data)\n",
        "#несмещенная дисперсия\n",
        "def var(data):\n",
        "  return sum(map(lambda x: pow(x - avg(data), 2), data)) / (len(data) - 1)\n",
        "\n",
        "m = 200\n",
        "data = [202, 203, 199, 197, 195, 201, 200, 204, 194, 190]\n",
        "#нормирование\n",
        "data = tuple(map(lambda x: (x - m) / sqrt(var(data)), data))\n",
        "\n",
        "#наблюдаемый критерий\n",
        "tn = avg(data) * sqrt(len(data))\n",
        "#табличный критерий для 0.005 и 9 степеней свободы\n",
        "tt =  3.250\n",
        "if(abs(tn) < tt):\n",
        "  print(f\"утверждение продавца верно, наблюдаемое значение({abs(tn):.2f}) < табличного({tt})\")\n",
        "else:  \n",
        "  print(f\"утверждение продавца ошибочно, наблюдаемое значение({abs(tn):.2f}) > табличного({tt})\")"
      ],
      "metadata": {
        "colab": {
          "base_uri": "https://localhost:8080/"
        },
        "id": "6pUtZZJ3-652",
        "outputId": "105a5f33-0323-46f8-f9e7-297934f3afee"
      },
      "execution_count": null,
      "outputs": [
        {
          "output_type": "stream",
          "name": "stdout",
          "text": [
            "утверждение продавца верно, наблюдаемое значение(1.07) < табличного(3.25)\n"
          ]
        }
      ]
    }
  ]
}