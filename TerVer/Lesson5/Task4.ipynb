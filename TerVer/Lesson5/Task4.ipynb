{
  "nbformat": 4,
  "nbformat_minor": 0,
  "metadata": {
    "colab": {
      "provenance": []
    },
    "kernelspec": {
      "name": "python3",
      "display_name": "Python 3"
    },
    "language_info": {
      "name": "python"
    }
  },
  "cells": [
    {
      "cell_type": "code",
      "execution_count": null,
      "metadata": {
        "id": "6RYebr6E_Xn9"
      },
      "outputs": [],
      "source": [
        "from math import *\n",
        "from numpy import *\n",
        "from scipy.stats import *"
      ]
    },
    {
      "cell_type": "code",
      "source": [
        "#Есть ли статистически значимые различия в росте дочерей?\n",
        "#Рост матерей 172, 177, 158, 170, 178,175, 164, 160, 169, 165\n",
        "#Рост взрослых дочерей: 173, 175, 162, 174, 175, 168, 155, 170, 160, 163\n",
        "parent = [172, 177, 158, 170, 178,175, 164, 160, 169, 165]\n",
        "childer = [173, 175, 162, 174, 175, 168, 155, 170, 160, 163]\n",
        "#уровень статистической значимости\n",
        "a = 0.05\n",
        "#наблюдаемый критерий\n",
        "tn = (mean(parent) - mean(childer)) / sqrt(var(parent, ddof = 1) / len(parent) + var(childer, ddof = 1) / len(childer))\n",
        "#табличный критерий\n",
        "tt = [t.ppf(a / 2, df = len(parent) + len(childer) - 2), t.ppf(1 - a / 2, df = len(parent) + len(childer) - 2)]\n",
        "if(tt[0] < tn < tt[1]):\n",
        "  print(f\"статистически значимые различия в росте дочерей отсутствуют: {tt[0]:.2f} < {tn:.2f} < {tt[1]:.2f}\")\n",
        "else:  \n",
        "  print(f\"наблюдаются статистически значимые различия в росте дочерей: [{tt[0]:.2f}, {tt[1]:.2f}] <> {tn:.2f}\")"
      ],
      "metadata": {
        "id": "DguB9pEj_ax9",
        "colab": {
          "base_uri": "https://localhost:8080/"
        },
        "outputId": "eb4fdb06-dcfe-4b11-e5e1-9a17522d249d"
      },
      "execution_count": null,
      "outputs": [
        {
          "output_type": "stream",
          "name": "stdout",
          "text": [
            "статистически значимые различия в росте дочерей отсутствуют: -2.10 < 0.41 < 2.10\n"
          ]
        }
      ]
    }
  ]
}