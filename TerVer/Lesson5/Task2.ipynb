{
  "nbformat": 4,
  "nbformat_minor": 0,
  "metadata": {
    "colab": {
      "provenance": []
    },
    "kernelspec": {
      "name": "python3",
      "display_name": "Python 3"
    },
    "language_info": {
      "name": "python"
    }
  },
  "cells": [
    {
      "cell_type": "code",
      "execution_count": null,
      "metadata": {
        "id": "1E7cNcdo-etG"
      },
      "outputs": [],
      "source": [
        "from math import *"
      ]
    },
    {
      "cell_type": "code",
      "source": [
        "#Проведите тест гипотезы. Утверждается, что шарики для подшипников, изготовленные\n",
        "#автоматическим станком, имеют средний диаметр 17 мм.\n",
        "#Используя односторонний критерий с α=0,05, проверить эту гипотезу, если в выборке из\n",
        "#n=100 шариков средний диаметр оказался равным 17.5 мм, а дисперсия известна и равна 4 кв. мм.\n",
        "m = 17\n",
        "n = 100\n",
        "x = 17.5  \n",
        "d = 4\n",
        "\n",
        "Zn = (x - m) / sqrt(d / n)\n",
        "Zt = 1.645\n",
        "\n",
        "if (Zn < Zt): \n",
        "  print(f\"Zн({Zn}) < Zт({Zt}) => принимаем гипотизу\") \n",
        "else: \n",
        "  print(f\"Zн({Zn}) > Zт({Zt}) => отвергаем гипотизу\")"
      ],
      "metadata": {
        "colab": {
          "base_uri": "https://localhost:8080/"
        },
        "id": "N3m2ECCS-huw",
        "outputId": "548749a2-ce36-4c14-db40-a3f03466ac5a"
      },
      "execution_count": null,
      "outputs": [
        {
          "output_type": "stream",
          "name": "stdout",
          "text": [
            "Zн(2.5) > Zт(1.645) => отвергаем гипотизу\n"
          ]
        }
      ]
    }
  ]
}