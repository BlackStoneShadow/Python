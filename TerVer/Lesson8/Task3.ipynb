{
  "nbformat": 4,
  "nbformat_minor": 0,
  "metadata": {
    "colab": {
      "provenance": []
    },
    "kernelspec": {
      "name": "python3",
      "display_name": "Python 3"
    },
    "language_info": {
      "name": "python"
    }
  },
  "cells": [
    {
      "cell_type": "code",
      "execution_count": null,
      "metadata": {
        "id": "HzXBxN_MvgcD"
      },
      "outputs": [],
      "source": [
        "from math import *\n",
        "from numpy import *\n",
        "from scipy.stats import *"
      ]
    },
    {
      "cell_type": "code",
      "source": [
        "#Известно, что рост футболистов в сборной распределен нормально\n",
        "#с дисперсией генеральной совокупности, равной 25 кв.см. Объем выборки равен 27,\n",
        "#среднее выборочное составляет 174.2. Найдите доверительный интервал для\n",
        "#математического ожидания с надежностью 0.95.\n",
        "m = 174.2\n",
        "n = 27\n",
        "d = 25\n",
        "#табличное значение z-критерия\n",
        "z = norm.ppf(1 - 0.05 / 2)\n",
        "#доверительный интервал\n",
        "x = [m - z * sqrt(d / n), m + z * sqrt(d / n)]\n",
        "print(f\"доверительный интервал для оценки математического ожидания [{x[0]:.2f}, {x[1]:.2f}] с надежностью 0.95\")"
      ],
      "metadata": {
        "id": "npMITqtSvitL",
        "colab": {
          "base_uri": "https://localhost:8080/"
        },
        "outputId": "9611d42d-921e-4e12-e4f5-559a88ad02aa"
      },
      "execution_count": null,
      "outputs": [
        {
          "output_type": "stream",
          "name": "stdout",
          "text": [
            "доверительный интервал для оценки математического ожидания [172.31, 176.09] с надежностью 0.95\n"
          ]
        }
      ]
    }
  ]
}