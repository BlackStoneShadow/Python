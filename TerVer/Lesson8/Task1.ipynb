{
  "nbformat": 4,
  "nbformat_minor": 0,
  "metadata": {
    "colab": {
      "provenance": []
    },
    "kernelspec": {
      "name": "python3",
      "display_name": "Python 3"
    },
    "language_info": {
      "name": "python"
    }
  },
  "cells": [
    {
      "cell_type": "code",
      "execution_count": null,
      "metadata": {
        "id": "uIB9YKkIuHMl"
      },
      "outputs": [],
      "source": [
        "from math import *\n",
        "from numpy import *\n",
        "from pandas import DataFrame\n",
        "import matplotlib.pyplot as plt"
      ]
    },
    {
      "cell_type": "code",
      "source": [
        "#Даны значения величины заработной платы заемщиков банка (zp) и значения их\n",
        "#поведенческого кредитного скоринга (ks):\n",
        "#zp = [35, 45, 190, 200, 40, 70, 54, 150, 120, 110],\n",
        "#ks = [401, 574, 874, 919, 459, 739, 653, 902, 746, 832].\n",
        "#Найдите ковариацию этих двух величин с помощью элементарных действий, а затем с\n",
        "#помощью функции cov из numpy\n",
        "#Полученные значения должны быть равны.\n",
        "#Найдите коэффициент корреляции Пирсона с помощью ковариации и\n",
        "#среднеквадратичных отклонений двух признаков,\n",
        "#а затем с использованием функций из библиотек numpy и pandas.\n",
        "zp = array([35, 45, 190, 200, 40, 70, 54, 150, 120, 110])\n",
        "ks = array([401, 574, 874, 919, 459, 739, 653, 902, 746, 832])\n",
        "df = DataFrame({'zp':zp, 'ks': ks})\n",
        "\n",
        "plt.scatter(zp, ks)\n",
        "plt.title(\"зависмиость между zp и ks\")\n",
        "plt.show()\n",
        "\n",
        "print(f\"ковариация {mean(zp * ks) - mean(zp) * mean(ks):.2f}\")\n",
        "print(f\"ковариация {cov(zp, ks, ddof = 0)[0][1]:.2f}\")\n",
        "print(f\"коэффициент корреляции Пирсона {cov(zp, ks, ddof=0)[0][1] / std(zp, ddof=0) / std(ks, ddof=0):.2f}\")\n",
        "print(f\"коэффициент корреляции Пирсона {corrcoef(zp, ks)[0][1]:.2f}\")\n",
        "print(f\"коэффициент корреляции Пирсона {df['zp'].corr(df['ks']):.2f}\")"
      ],
      "metadata": {
        "colab": {
          "base_uri": "https://localhost:8080/",
          "height": 368
        },
        "id": "kmzV7CHEuY7e",
        "outputId": "f4c986ae-6d85-4119-bc78-64300758a3e5"
      },
      "execution_count": null,
      "outputs": [
        {
          "output_type": "display_data",
          "data": {
            "text/plain": [
              "<Figure size 432x288 with 1 Axes>"
            ],
            "image/png": "[encoded data removed]"
          },
          "metadata": {
            "needs_background": "light"
          }
        },
        {
          "output_type": "stream",
          "name": "stdout",
          "text": [
            "ковариация 9157.84\n",
            "ковариация 9157.84\n",
            "коэффициент корреляции Пирсона 0.89\n",
            "коэффициент корреляции Пирсона 0.89\n",
            "коэффициент корреляции Пирсона 0.89\n"
          ]
        }
      ]
    }
  ]
}