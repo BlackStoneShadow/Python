{
  "nbformat": 4,
  "nbformat_minor": 0,
  "metadata": {
    "colab": {
      "provenance": []
    },
    "kernelspec": {
      "name": "python3",
      "display_name": "Python 3"
    },
    "language_info": {
      "name": "python"
    }
  },
  "cells": [
    {
      "cell_type": "code",
      "execution_count": null,
      "metadata": {
        "id": "ZDfIBEJfvMNS"
      },
      "outputs": [],
      "source": [
        "from math import *\n",
        "from numpy import *\n",
        "from scipy.stats import *"
      ]
    },
    {
      "cell_type": "code",
      "source": [
        "#Измерены значения IQ выборки студентов,\n",
        "#обучающихся в местных технических вузах:\n",
        "#131, 125, 115, 122, 131, 115, 107, 99, 125, 111.\n",
        "#Известно, что в генеральной совокупности IQ распределен нормально.\n",
        "#Найдите доверительный интервал для математического ожидания с надежностью 0.95.\n",
        "x = array([131, 125, 115, 122, 131, 115, 107, 99, 125, 111])\n",
        "#среднее арифметическое\n",
        "m = mean(x)\n",
        "#несмещенная дисперсия\n",
        "d = var(x, ddof = 1)\n",
        "#табличное значение t-критерия\n",
        "tt = t.ppf(1 - 0.05 / 2, df = len(x) - 1)\n",
        "#доверительный интервал\n",
        "x = [m - tt * sqrt(d / len(x)), m + tt * sqrt(d / len(x))]\n",
        "print(f\"математического ожидания находится в интервале [{x[0]:.2f}, {x[1]:.2f}] с доверительной вероятностью 0,95\")"
      ],
      "metadata": {
        "colab": {
          "base_uri": "https://localhost:8080/"
        },
        "id": "0IbH-qY4vPwi",
        "outputId": "457ac7e5-d9c7-4c7d-985e-5ec589f381de"
      },
      "execution_count": null,
      "outputs": [
        {
          "output_type": "stream",
          "name": "stdout",
          "text": [
            "математического ожидания находится в интервале [110.56, 125.64] с доверительной вероятностью 0,95\n"
          ]
        }
      ]
    }
  ]
}