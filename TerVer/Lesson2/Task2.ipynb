{
  "nbformat": 4,
  "nbformat_minor": 0,
  "metadata": {
    "colab": {
      "provenance": []
    },
    "kernelspec": {
      "name": "python3",
      "display_name": "Python 3"
    },
    "language_info": {
      "name": "python"
    }
  },
  "cells": [
    {
      "cell_type": "code",
      "execution_count": null,
      "metadata": {
        "id": "COTnLRUlnkxN"
      },
      "outputs": [],
      "source": [
        "from math import *"
      ]
    },
    {
      "cell_type": "code",
      "source": [
        "#Вероятность того, что лампочка перегорит в течение первого дня эксплуатации, равна 0.0004. \n",
        "#В жилом комплексе после ремонта в один день включили 5000 новых лампочек. \n",
        "#Какова вероятность, что ни одна из них не перегорит в первый день? \n",
        "#Какова вероятность, что перегорят ровно две?\n",
        "m0=0\n",
        "m2=2\n",
        "l=5000*0.0004\n",
        "p0=l**m0/factorial(m0)*e**-l\n",
        "p2=l**m2/factorial(m2)*e**-l\n",
        "print(f'P0={p0:.4f}')\n",
        "print(f'P2={p2:.4f}')"
      ],
      "metadata": {
        "colab": {
          "base_uri": "https://localhost:8080/"
        },
        "id": "840ufz0knvzA",
        "outputId": "8e7451f5-4dd8-4524-f604-dce2bf12f2d2"
      },
      "execution_count": null,
      "outputs": [
        {
          "output_type": "stream",
          "name": "stdout",
          "text": [
            "P0=0.1353\n",
            "P2=0.2707\n"
          ]
        }
      ]
    }
  ]
}