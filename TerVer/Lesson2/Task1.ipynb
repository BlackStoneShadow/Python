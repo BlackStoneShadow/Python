{
  "nbformat": 4,
  "nbformat_minor": 0,
  "metadata": {
    "colab": {
      "provenance": []
    },
    "kernelspec": {
      "name": "python3",
      "display_name": "Python 3"
    },
    "language_info": {
      "name": "python"
    }
  },
  "cells": [
    {
      "cell_type": "code",
      "source": [
        "from math import *"
      ],
      "metadata": {
        "id": "0kVnvcsAgPxV"
      },
      "execution_count": null,
      "outputs": []
    },
    {
      "cell_type": "code",
      "execution_count": null,
      "metadata": {
        "colab": {
          "base_uri": "https://localhost:8080/"
        },
        "id": "l2YYVopUckDl",
        "outputId": "5713ee58-0b25-466e-930f-8e76d78b5091"
      },
      "outputs": [
        {
          "output_type": "stream",
          "name": "stdout",
          "text": [
            "P(X=85)=0.0481\n"
          ]
        }
      ],
      "source": [
        "#Вероятность того, что стрелок попадет в мишень, выстрелив один раз, равна 0.8. \n",
        "#Стрелок выстрелил 100 раз. Найдите вероятность того, что стрелок попадет в цель ровно 85 раз.\n",
        "n=100\n",
        "p=0.8\n",
        "k=85\n",
        "x=factorial(n)/factorial(k)/factorial(n-k)*p**k*(1-p)**(n-k)\n",
        "print(f'P(X={k})={x:.4f}')"
      ]
    }
  ]
}