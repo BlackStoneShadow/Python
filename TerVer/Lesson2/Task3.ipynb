{
  "nbformat": 4,
  "nbformat_minor": 0,
  "metadata": {
    "colab": {
      "provenance": []
    },
    "kernelspec": {
      "name": "python3",
      "display_name": "Python 3"
    },
    "language_info": {
      "name": "python"
    }
  },
  "cells": [
    {
      "cell_type": "code",
      "execution_count": null,
      "metadata": {
        "id": "nwZGKcH_Rfd4"
      },
      "outputs": [],
      "source": [
        "from math import *"
      ]
    },
    {
      "cell_type": "code",
      "source": [
        "#Монету подбросили 144 раза. Какова вероятность, что орел выпадет ровно 70 раз?\n",
        "n=144\n",
        "k=70\n",
        "p=0.5\n",
        "x=factorial(n)/factorial(k)/factorial(n-k)*p**k*(1-p)**(n-k)\n",
        "print(f'P(X={k})={x:.4f}')"
      ],
      "metadata": {
        "colab": {
          "base_uri": "https://localhost:8080/"
        },
        "id": "z2uNRMRRRmFR",
        "outputId": "bfc154c8-7164-49c4-e85c-707ac31f734f"
      },
      "execution_count": null,
      "outputs": [
        {
          "output_type": "stream",
          "name": "stdout",
          "text": [
            "P(X=70)=0.0628\n"
          ]
        }
      ]
    }
  ]
}