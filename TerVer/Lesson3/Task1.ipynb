{
  "nbformat": 4,
  "nbformat_minor": 0,
  "metadata": {
    "colab": {
      "provenance": []
    },
    "kernelspec": {
      "name": "python3",
      "display_name": "Python 3"
    },
    "language_info": {
      "name": "python"
    }
  },
  "cells": [
    {
      "cell_type": "code",
      "execution_count": null,
      "metadata": {
        "id": "B3ejsteKIo79"
      },
      "outputs": [],
      "source": [
        "from math import *"
      ]
    },
    {
      "cell_type": "code",
      "source": [
        "#Даны значения зарплат из выборки выпускников: 100, 80, 75, 77, 89, 33, 45, 25, 65, 17, 30, 24, 57, 55, 70, 75, 65, 84, 90, 150. \n",
        "#Посчитать (желательно без использования статистических методов наподобие std, var, mean) \n",
        "#среднее арифметическое, среднее квадратичное отклонение, смещенную и несмещенную оценки дисперсий для данной выборки.\n",
        "def avg(list):\n",
        "  return sum(list) / len(list)\n",
        "\n",
        "def dev(list):\n",
        "  return sum(map(lambda x:(x - avg(list))**2, list))\n",
        "\n",
        "list = [100, 80, 75, 77, 89, 33, 45, 25, 65, 17, 30, 24, 57, 55, 70, 75, 65, 84, 90, 150]\n",
        "\n",
        "print(f'среднее арифметическое={avg(list):.4f}')\n",
        "print(f'среднее квадратичное отклонение={sqrt(dev(list)/len(list)):.4f}')\n",
        "print(f'смещенная дисперсия={dev(list)/len(list):.4f}')\n",
        "print(f'несмещенная дисперсия={dev(list)/(len(list) - 1):.4f}')"
      ],
      "metadata": {
        "colab": {
          "base_uri": "https://localhost:8080/"
        },
        "id": "fDQAAUUTJ6k1",
        "outputId": "c4f6a10a-c011-490f-fc54-be66301b1922"
      },
      "execution_count": null,
      "outputs": [
        {
          "output_type": "stream",
          "name": "stdout",
          "text": [
            "среднее арифметическое=65.3000\n",
            "среднее квадратичное отклонение=30.8239\n",
            "смещенная дисперсия=950.1100\n",
            "несмещенная дисперсия=1000.1158\n"
          ]
        }
      ]
    }
  ]
}