{
  "nbformat": 4,
  "nbformat_minor": 0,
  "metadata": {
    "colab": {
      "provenance": []
    },
    "kernelspec": {
      "name": "python3",
      "display_name": "Python 3"
    },
    "language_info": {
      "name": "python"
    }
  },
  "cells": [
    {
      "cell_type": "code",
      "execution_count": null,
      "metadata": {
        "id": "FW8ZC4ys5QYQ"
      },
      "outputs": [],
      "source": [
        "from math import *"
      ]
    },
    {
      "cell_type": "code",
      "source": [
        "#В первом ящике находится 8 мячей, из которых 5 - белые. \n",
        "#Во втором ящике - 12 мячей, из которых 5 белых. \n",
        "#Из первого ящика вытаскивают случайным образом два мяча, из второго - 4. \n",
        "#Какова вероятность того, что 3 мяча белые?\n",
        "#второй ящик 3 мяча\n",
        "p1 = comb(5, 3) * comb(7, 1) / comb(12, 4) * comb(3, 2) / comb(8, 2)\n",
        "#второй ящик 2 мяча, первый 1 мяч\n",
        "p2 = comb(5, 2) * comb(7, 2) / comb(12, 4) * comb(5, 1) * comb(3, 1) / comb(8, 2)\n",
        "#второй ящик 1, первый 2 мяча\n",
        "p3 = comb(5, 1) * comb(7, 3) / comb(12 ,4) * comb(5, 2) / comb(8, 2)\n",
        "print(f'3 мяча белые={(p1 + p2 + p3):.4f}')"
      ],
      "metadata": {
        "colab": {
          "base_uri": "https://localhost:8080/"
        },
        "id": "hoMMbpj05Yiz",
        "outputId": "4338f21d-875a-4f11-d601-126cadd3fa2e"
      },
      "execution_count": null,
      "outputs": [
        {
          "output_type": "stream",
          "name": "stdout",
          "text": [
            "3 мяча белые=0.3687\n"
          ]
        }
      ]
    }
  ]
}