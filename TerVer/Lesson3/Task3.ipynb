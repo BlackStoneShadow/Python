{
  "nbformat": 4,
  "nbformat_minor": 0,
  "metadata": {
    "colab": {
      "provenance": []
    },
    "kernelspec": {
      "name": "python3",
      "display_name": "Python 3"
    },
    "language_info": {
      "name": "python"
    }
  },
  "cells": [
    {
      "cell_type": "code",
      "execution_count": null,
      "metadata": {
        "id": "iYgBMqFiFKbJ"
      },
      "outputs": [],
      "source": [
        "from math import *"
      ]
    },
    {
      "cell_type": "code",
      "source": [
        "#На соревновании по биатлону один из трех спортсменов стреляет и попадает в мишень. \n",
        "#Вероятность попадания для первого спортсмена равна 0.9, для второго — 0.8, для третьего — 0.6. \n",
        "#Найти вероятность того, что выстрел произведен: \n",
        "#a). первым спортсменом б). вторым спортсменом в). третьим спортсменом.\n",
        "p1 = 0.9\n",
        "p2 = 0.8\n",
        "p3 = 0.6\n",
        "#вероятность поражения мишени\n",
        "p0 = (1/3 * p1 + 1/3 * p2 + 1/3 * p3)\n",
        "print(f'выстрел произведен первым спортсменом={p1/p0/3:.4f}')\n",
        "print(f'выстрел произведен вторым спортсменом={p2/p0/3:.4f}')\n",
        "print(f'выстрел произведен третьим спортсменом={p3/p0/3:.4f}')"
      ],
      "metadata": {
        "colab": {
          "base_uri": "https://localhost:8080/"
        },
        "id": "txg3853uFSfV",
        "outputId": "5624124b-3635-4d93-baf6-0d57de5cab3f"
      },
      "execution_count": null,
      "outputs": [
        {
          "output_type": "stream",
          "name": "stdout",
          "text": [
            "выстрел произведен первым спортсменом=0.3913\n",
            "выстрел произведен вторым спортсменом=0.3478\n",
            "выстрел произведен третьим спортсменом=0.2609\n"
          ]
        }
      ]
    }
  ]
}