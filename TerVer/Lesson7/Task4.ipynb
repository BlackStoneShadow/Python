{
  "nbformat": 4,
  "nbformat_minor": 0,
  "metadata": {
    "colab": {
      "provenance": []
    },
    "kernelspec": {
      "name": "python3",
      "display_name": "Python 3"
    },
    "language_info": {
      "name": "python"
    }
  },
  "cells": [
    {
      "cell_type": "code",
      "execution_count": null,
      "metadata": {
        "id": "GrezRQ5w6rbk"
      },
      "outputs": [],
      "source": [
        "from math import *\n",
        "from numpy import *\n",
        "from scipy.stats import *"
      ]
    },
    {
      "cell_type": "code",
      "source": [
        "#Даны 3 группы учеников плавания.\n",
        "#В 1 группе время на дистанцию 50 м составляют:\n",
        "#Первая группа: 56, 60, 62, 55, 71, 67, 59, 58, 64, 67\n",
        "#Вторая группа: 57, 58, 69, 48, 72, 70, 68, 71, 50, 53\n",
        "#Третья группа: 57, 67, 49, 48, 47, 55, 66, 51, 54\n",
        "x = array([56, 60, 62, 55, 71, 67, 59, 58, 64, 67])\n",
        "y = array([57, 58, 69, 48, 72, 70, 68, 71, 50, 53])\n",
        "z = array([57, 67, 49, 48, 47, 55, 66, 51, 54])\n",
        "\n",
        "result = kruskal(x, y, z)\n",
        "\n",
        "if(result[1] > 0.05):\n",
        "  print(f\"статистически значимых различия нет PValue={result[1]:.2f}\")\n",
        "else:\n",
        "  print(f\"есть статистически значимые различия PValue={result[1]:.2f}\")  "
      ],
      "metadata": {
        "colab": {
          "base_uri": "https://localhost:8080/"
        },
        "id": "NYBSAMtY6u3Z",
        "outputId": "8db9d2b4-d879-4ab8-9db1-3be5ddb91b17"
      },
      "execution_count": null,
      "outputs": [
        {
          "output_type": "stream",
          "name": "stdout",
          "text": [
            "статистически значимых различия нет PValue=0.07\n"
          ]
        }
      ]
    }
  ]
}