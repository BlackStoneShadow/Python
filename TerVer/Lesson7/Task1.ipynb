{
  "nbformat": 4,
  "nbformat_minor": 0,
  "metadata": {
    "colab": {
      "provenance": []
    },
    "kernelspec": {
      "name": "python3",
      "display_name": "Python 3"
    },
    "language_info": {
      "name": "python"
    }
  },
  "cells": [
    {
      "cell_type": "code",
      "source": [
        "from math import *\n",
        "from numpy import *\n",
        "from scipy.stats import *"
      ],
      "metadata": {
        "id": "v6eAckDc4ZJT"
      },
      "execution_count": null,
      "outputs": []
    },
    {
      "cell_type": "code",
      "execution_count": null,
      "metadata": {
        "colab": {
          "base_uri": "https://localhost:8080/"
        },
        "id": "9vtmMAB63hW_",
        "outputId": "9d612c88-0c50-4e74-947b-f33c85fe63ff"
      },
      "outputs": [
        {
          "output_type": "stream",
          "name": "stdout",
          "text": [
            "Выборки имеют статистически значимую зависимоть pvalue=0.63\n"
          ]
        }
      ],
      "source": [
        "#Даны две независимые выборки. Не соблюдается условие нормальности\n",
        "#x1 380,420, 290\n",
        "#y1 140,360,200,900\n",
        "#Сделайте вывод по результатам, полученным с помощью функции\n",
        "x = array([380,420, 290])\n",
        "y = array([140,360,200,900])\n",
        "\n",
        "result=mannwhitneyu(x, y)\n",
        "\n",
        "if (result[1] > 0.05):\n",
        "  print(f\"Выборки имеют статистически значимую зависимоть pvalue={result[1]:.2f}\")\n",
        "else:  \n",
        "  print(f\"Выборки статистически не зависимы pvalue={result[1]:.2f}\")"
      ]
    }
  ]
}