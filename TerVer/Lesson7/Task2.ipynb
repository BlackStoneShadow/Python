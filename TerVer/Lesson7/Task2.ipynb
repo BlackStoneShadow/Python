{
  "nbformat": 4,
  "nbformat_minor": 0,
  "metadata": {
    "colab": {
      "provenance": []
    },
    "kernelspec": {
      "name": "python3",
      "display_name": "Python 3"
    },
    "language_info": {
      "name": "python"
    }
  },
  "cells": [
    {
      "cell_type": "code",
      "execution_count": null,
      "metadata": {
        "id": "liOij70q4tSw"
      },
      "outputs": [],
      "source": [
        "from math import *\n",
        "from numpy import *\n",
        "from scipy.stats import *"
      ]
    },
    {
      "cell_type": "code",
      "source": [
        "#Исследовалось влияние препарата на уровень давления пациентов. Сначала\n",
        "#измерялось давление до приема препарата, потом через 10 минут и через 30 минут. \n",
        "#Есть ли статистически значимые различия?\n",
        "#1е измерение до приема препарата: 150, 160, 165, 145, 155\n",
        "#2е измерение через 10 минут: 140, 155, 150, 130, 135\n",
        "#3е измерение через 30 минут: 130, 130, 120, 130, 125\n",
        "x = array([150, 160, 165, 145, 155])\n",
        "y = array([140, 155, 150, 130, 135])\n",
        "z = array([130, 130, 120, 130, 125])\n",
        "\n",
        "result = friedmanchisquare(x, y, z)\n",
        "\n",
        "if(result[1] > 0.05):\n",
        "  print(f\"H0 - статистически значимых различия нет PValue={result[1]:.2f}\")\n",
        "else:\n",
        "  print(f\"H1 - есть статистически значимые различия PValue={result[1]:.2f}\")  "
      ],
      "metadata": {
        "colab": {
          "base_uri": "https://localhost:8080/"
        },
        "id": "LWD2Az304wQR",
        "outputId": "38a01224-f3b4-4aca-b0fa-4b6bffc11d9d"
      },
      "execution_count": null,
      "outputs": [
        {
          "output_type": "stream",
          "name": "stdout",
          "text": [
            "H1 - есть статистически значимые различия PValue=0.01\n"
          ]
        }
      ]
    }
  ]
}