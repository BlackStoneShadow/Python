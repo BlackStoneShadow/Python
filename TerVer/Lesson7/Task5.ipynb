{
  "cells": [
    {
      "cell_type": "code",
      "execution_count": null,
      "metadata": {
        "id": "w43u2ftf7QAQ"
      },
      "outputs": [],
      "source": [
        "from math import *\n",
        "from numpy import *\n",
        "from scipy.stats import *"
      ]
    },
    {
      "cell_type": "code",
      "execution_count": null,
      "metadata": {
        "colab": {
          "base_uri": "https://localhost:8080/"
        },
        "id": "Cslf4uD17TBJ",
        "outputId": "bf4fec3e-d26e-460a-a328-f19ef3aea62c"
      },
      "outputs": [
        {
          "output_type": "stream",
          "name": "stdout",
          "text": [
            "гипотеза верна Tн(0.56) < Tk(2.26)\n"
          ]
        }
      ],
      "source": [
        "#Заявляется, что партия изготавливается со средним арифметическим 2,5 см. Проверить\n",
        "#данную гипотезу, если известно, что размеры изделий подчинены нормальному закону\n",
        "#распределения. Объем выборки 10, уровень статистической значимости 5%\n",
        "#2.51, 2.35, 2.74, 2.56, 2.40, 2.36, 2.65, 2.7, 2.67, 2.34\n",
        "\n",
        "m = 2.5\n",
        "data = array([2.51, 2.35, 2.74, 2.56, 2.40, 2.36, 2.65, 2.7, 2.67, 2.34])  \n",
        "#нормирование\n",
        "data = array(tuple(map(lambda x: (x - m) / std(data, ddof=1), data)))\n",
        "#наблюдаемый критерий\n",
        "tn = data.mean() * sqrt(data.shape[0])\n",
        "#табличный критерий\n",
        "tt = t.ppf(1 - 0.05 / 2, df = data.shape[0] - 1)\n",
        "#результат\n",
        "if(abs(tn) < tt):\n",
        "  print(f\"гипотеза верна Tн({tn:.2f}) < Tk({tt:.2f})\")\n",
        "else:\n",
        "  print(f\"гипотеза ошибочна Tн({tn:.2f}) > Tk({tt:.2f})\")     "
      ]
    }
  ],
  "metadata": {
    "colab": {
      "provenance": []
    },
    "kernelspec": {
      "display_name": "Python 3",
      "name": "python3"
    },
    "language_info": {
      "name": "python"
    }
  },
  "nbformat": 4,
  "nbformat_minor": 0
}