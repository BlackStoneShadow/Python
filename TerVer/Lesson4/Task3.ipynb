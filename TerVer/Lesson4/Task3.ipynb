{
  "nbformat": 4,
  "nbformat_minor": 0,
  "metadata": {
    "colab": {
      "provenance": []
    },
    "kernelspec": {
      "name": "python3",
      "display_name": "Python 3"
    },
    "language_info": {
      "name": "python"
    }
  },
  "cells": [
    {
      "cell_type": "code",
      "execution_count": null,
      "metadata": {
        "id": "lnHAtQZcp6-Z"
      },
      "outputs": [],
      "source": [
        "from math import *"
      ]
    },
    {
      "cell_type": "code",
      "source": [
        "#Непрерывная случайная величина X распределена нормально и задана плотностью распределения\n",
        "#f(x) = (1 / (4 * sqrt(2pi))) * exp((-(x+2)**2) / 32)\n",
        "#Найдите:\n",
        "#а). M(X)\n",
        "#б). D(X)\n",
        "#в). std(X) (среднее квадратичное отклонение)\n",
        "print('M(X) = -2')\n",
        "print('D(X) = 16')\n",
        "print('std(X) = 4')"
      ],
      "metadata": {
        "id": "a7xr7jaop8sV",
        "colab": {
          "base_uri": "https://localhost:8080/"
        },
        "outputId": "5af45476-7775-4f54-b0a5-d0de46f65b8e"
      },
      "execution_count": null,
      "outputs": [
        {
          "output_type": "stream",
          "name": "stdout",
          "text": [
            "M(X) = -2\n",
            "D(X) = 16\n",
            "std(X) = 4\n"
          ]
        }
      ]
    }
  ]
}