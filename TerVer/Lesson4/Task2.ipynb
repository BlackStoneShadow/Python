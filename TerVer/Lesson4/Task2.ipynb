{
  "nbformat": 4,
  "nbformat_minor": 0,
  "metadata": {
    "colab": {
      "provenance": []
    },
    "kernelspec": {
      "name": "python3",
      "display_name": "Python 3"
    },
    "language_info": {
      "name": "python"
    }
  },
  "cells": [
    {
      "cell_type": "code",
      "execution_count": null,
      "metadata": {
        "id": "grm4pqXGZnyT"
      },
      "outputs": [],
      "source": [
        "from math import *"
      ]
    },
    {
      "cell_type": "code",
      "source": [
        "#О случайной непрерывной равномерно распределенной величине B известно, что ее дисперсия равна 0.2.\n",
        "#Можно ли найти правую границу величины B и ее среднее значение зная, \n",
        "#что левая граница равна 0.5?\n",
        "#Если да, найдите ее.\n",
        "a = 0.5\n",
        "d = 0.2\n",
        "b = sqrt(12 * d) + a\n",
        "print(f'границы [{a:.4f}, {b:.4f}]')\n",
        "print(f'среднее значение M(X)={(a + b) / 2:.4f}')"
      ],
      "metadata": {
        "colab": {
          "base_uri": "https://localhost:8080/"
        },
        "id": "UE5IPBdVZ50P",
        "outputId": "e4268a18-9e9f-4775-92d2-b20f3f90a994"
      },
      "execution_count": null,
      "outputs": [
        {
          "output_type": "stream",
          "name": "stdout",
          "text": [
            "границы [0.5000, 2.0492]\n",
            "среднее значение M(X)=1.2746\n"
          ]
        }
      ]
    }
  ]
}