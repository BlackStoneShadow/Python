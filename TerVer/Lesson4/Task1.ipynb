{
  "nbformat": 4,
  "nbformat_minor": 0,
  "metadata": {
    "colab": {
      "provenance": []
    },
    "kernelspec": {
      "name": "python3",
      "display_name": "Python 3"
    },
    "language_info": {
      "name": "python"
    }
  },
  "cells": [
    {
      "cell_type": "code",
      "execution_count": null,
      "metadata": {
        "id": "t3mPBmgUUnCu"
      },
      "outputs": [],
      "source": [
        "from math import *"
      ]
    },
    {
      "cell_type": "code",
      "source": [
        "#Случайная непрерывная величина A имеет равномерное распределение на промежутке (200, 800].\n",
        "#Найдите ее среднее значение и дисперсию\n",
        "a = 200\n",
        "b = 800\n",
        "print(f'средsнее значение M(X)={(a + b) / 2:.4f}')\n",
        "print(f'дисперсия D(X)={pow(b - a, 2) / 12:.4f}')"
      ],
      "metadata": {
        "colab": {
          "base_uri": "https://localhost:8080/"
        },
        "id": "p1Prm2x-Uq6s",
        "outputId": "c16b88ca-0ec4-46fe-b261-641628d3288a"
      },
      "execution_count": null,
      "outputs": [
        {
          "output_type": "stream",
          "name": "stdout",
          "text": [
            "средsнее значение M(X)=500.0000\n",
            "дисперсия D(X)=30000.0000\n"
          ]
        }
      ]
    }
  ]
}