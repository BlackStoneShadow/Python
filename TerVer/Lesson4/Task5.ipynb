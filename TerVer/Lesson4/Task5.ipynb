{
  "nbformat": 4,
  "nbformat_minor": 0,
  "metadata": {
    "colab": {
      "provenance": []
    },
    "kernelspec": {
      "name": "python3",
      "display_name": "Python 3"
    },
    "language_info": {
      "name": "python"
    }
  },
  "cells": [
    {
      "cell_type": "code",
      "execution_count": null,
      "metadata": {
        "id": "uW3yPzk7qzmK"
      },
      "outputs": [],
      "source": [
        "from math import *"
      ]
    },
    {
      "cell_type": "code",
      "source": [
        "#На сколько сигм (средних квадратичных отклонений) отклоняется рост человека, равный 190 см, от\n",
        "#математического ожидания роста в популяции, в которой M(X) = 178 см и D(X) = 25 кв.см?\n",
        "x = 190\n",
        "M = 178\n",
        "D = 25\n",
        "\n",
        "print(f\"рост человека отклоняется на {(x - M) / sqrt(D)} сигм\")"
      ],
      "metadata": {
        "id": "t9kIfoKrq27F",
        "colab": {
          "base_uri": "https://localhost:8080/"
        },
        "outputId": "ae48df5b-5307-4da0-ccb2-111c7d969ed3"
      },
      "execution_count": null,
      "outputs": [
        {
          "output_type": "stream",
          "name": "stdout",
          "text": [
            "рост человека отклоняется на 2.4 сигм\n"
          ]
        }
      ]
    }
  ]
}