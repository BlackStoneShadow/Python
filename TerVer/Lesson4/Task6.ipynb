{
  "nbformat": 4,
  "nbformat_minor": 0,
  "metadata": {
    "colab": {
      "provenance": []
    },
    "kernelspec": {
      "name": "python3",
      "display_name": "Python 3"
    },
    "language_info": {
      "name": "python"
    }
  },
  "cells": [
    {
      "cell_type": "code",
      "execution_count": null,
      "metadata": {
        "id": "8BmKyVC9rKlq"
      },
      "outputs": [],
      "source": [
        "from numpy import *\n",
        "from pandas import *\n",
        "from matplotlib.pyplot import *"
      ]
    },
    {
      "cell_type": "code",
      "source": [
        "#Даны значения зарплат из выборки выпускников:\n",
        "\n",
        "#100, 80, 75, 77, 89, 33, 45, 25, 65, 17, 30, 24, 57, 55, 70, 75, 65, 84, 90, 150.\n",
        "\n",
        "#построить гистограмму распределения, подобрав лучший параметр bins,\n",
        "#найти первый и третий квартили, интерквартильное расстояние. Найти выбросы в выборке, используя для этого \"усы\" из boxplot.\n",
        "\n",
        "data = array([100, 80, 75, 77, 89, 33, 45, 25, 65, 17, 30, 24, 57, 55, 70, 75, 65, 84, 90, 150])\n",
        "\n",
        "df = DataFrame(data=data, columns=[\"salary\"])\n",
        "\n",
        "quant = quantile(df, [0.25, 0.5, 0.75])\n",
        "\n",
        "print(f\"первый и третий квартили=[{quant[0]},{quant[2]}]\")\n",
        "print(f\"интерквартильное расстояние=[{quant[2] - quant[0]}]\")"
      ],
      "metadata": {
        "id": "_3xxg9-urNmu",
        "colab": {
          "base_uri": "https://localhost:8080/"
        },
        "outputId": "c9d61ac3-083c-4675-94d2-84b1eebb7bc7"
      },
      "execution_count": null,
      "outputs": [
        {
          "output_type": "stream",
          "name": "stdout",
          "text": [
            "первый и третий квартили=[42.0,81.0]\n",
            "интерквартильное расстояние=[39.0]\n"
          ]
        }
      ]
    },
    {
      "cell_type": "code",
      "source": [
        "graph=hist(df[\"salary\"], bins= 6)"
      ],
      "metadata": {
        "colab": {
          "base_uri": "https://localhost:8080/",
          "height": 265
        },
        "id": "yr47P7cZvjOb",
        "outputId": "42d5a00e-2e7f-4bee-9531-c365e4904cb1"
      },
      "execution_count": null,
      "outputs": [
        {
          "output_type": "display_data",
          "data": {
            "text/plain": [
              "<Figure size 432x288 with 1 Axes>"
            ],
            "image/png": "[encoded data removed]"
          },
          "metadata": {
            "needs_background": "light"
          }
        }
      ]
    },
    {
      "cell_type": "code",
      "source": [
        "graph=boxplot(df[\"salary\"])\n",
        "print(\"Выброс=150\")"
      ],
      "metadata": {
        "colab": {
          "base_uri": "https://localhost:8080/",
          "height": 282
        },
        "id": "eF75L0jEvdP0",
        "outputId": "2a831092-6a56-4c2d-eeb8-b11eb31c51fa"
      },
      "execution_count": null,
      "outputs": [
        {
          "output_type": "stream",
          "name": "stdout",
          "text": [
            "Выброс=150\n"
          ]
        },
        {
          "output_type": "display_data",
          "data": {
            "text/plain": [
              "<Figure size 432x288 with 1 Axes>"
            ],
            "image/png": "[encoded data removed]"
          },
          "metadata": {
            "needs_background": "light"
          }
        }
      ]
    }
  ]
}