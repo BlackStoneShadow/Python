{
  "nbformat": 4,
  "nbformat_minor": 0,
  "metadata": {
    "colab": {
      "provenance": []
    },
    "kernelspec": {
      "name": "python3",
      "display_name": "Python 3"
    },
    "language_info": {
      "name": "python"
    }
  },
  "cells": [
    {
      "cell_type": "code",
      "execution_count": null,
      "metadata": {
        "id": "5beqmwr2qUXV"
      },
      "outputs": [],
      "source": [
        "from scipy.stats import norm"
      ]
    },
    {
      "cell_type": "code",
      "source": [
        "#Рост взрослого населения города X имеет нормальное распределение, причем, \n",
        "#средний рост равен 174 см, а среднее квадратическое отклонение равно 8 см. \n",
        "#посчитайте, какова вероятность того, что случайным образом выбранный взрослый человек имеет рост:\n",
        "#1. больше 182 см?\n",
        "#2. больше 190 см?\n",
        "#3. от 166 см до 190 см?\n",
        "#4. от 166 см до 182 см?\n",
        "#5. от 158 см до 190 см?\n",
        "#6. не выше 150 см или не ниже 190 см?\n",
        "#7. не выше 150 см или не ниже 198 см?\n",
        "#8. ниже 166 см?\n",
        "\n",
        "#Задачу можно решить двумя способами: без использования сторонних библиотек (numpy, scipy, pandas и пр.), \n",
        "#а затем проверить себя с помощью встроенных функций\n",
        "\n",
        "my = 174\n",
        "sigma = 8\n",
        "\n",
        "print (f\"больше 182 см {1 - norm.cdf((182 - my) / sigma):.4f}\")\n",
        "print (f\"больше 190 см {1 - norm.cdf((190 - my) / sigma):.4f}\")\n",
        "print (f\"от 166 см до 190 см {norm.cdf((190 - my) / sigma) - norm.cdf((166 - my) / sigma):.4f}\")\n",
        "print (f\"от 166 см до 182 см {norm.cdf((182 - my) / sigma) - norm.cdf((166 - my) / sigma):.4f}\")\n",
        "print (f\"от 158 см до 190 см {norm.cdf((190 - my) / sigma) - norm.cdf((158 - my) / sigma):.4f}\")\n",
        "print (f\"не выше 150 см или не ниже 190 см {norm.cdf((150 - my) / sigma) + 1 - norm.cdf((190 - my) / sigma):.4f}\")\n",
        "print (f\"не выше 150 см или не ниже 198 см {norm.cdf((150 - my) / sigma) + 1 - norm.cdf((198 - my) / sigma):.4f}\")\n",
        "print (f\"ниже 166 см {norm.cdf((166 - my) / sigma):.4f}\")"
      ],
      "metadata": {
        "id": "-KTPHP4kqXjt",
        "colab": {
          "base_uri": "https://localhost:8080/"
        },
        "outputId": "aa974be8-968d-4d86-9f01-f76e39d54144"
      },
      "execution_count": null,
      "outputs": [
        {
          "output_type": "stream",
          "name": "stdout",
          "text": [
            "больше 182 см 0.1587\n",
            "больше 190 см 0.0228\n",
            "от 166 см до 190 см 0.8186\n",
            "от 166 см до 182 см 0.6827\n",
            "от 158 см до 190 см 0.9545\n",
            "не выше 150 см или не ниже 190 см 0.0241\n",
            "не выше 150 см или не ниже 198 см 0.0027\n",
            "ниже 166 см 0.1587\n"
          ]
        }
      ]
    }
  ]
}